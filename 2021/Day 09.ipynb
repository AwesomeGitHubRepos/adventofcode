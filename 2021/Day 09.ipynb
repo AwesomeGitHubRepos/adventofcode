{
 "cells": [
  {
   "cell_type": "markdown",
   "metadata": {},
   "source": [
    "# Local minima in a matrix\n",
    "\n",
    "* <https://adventofcode.com/2021/day/9>\n",
    "\n",
    "We have to find the local minima in a matrix; you can't get away with having to test every single value for this. However, as always when matrices are involved, we can use numpy to find the answer.\n",
    "\n",
    "You can shift the matrix in all four directions and pad with 10s for the edges (since all values are between 0 and 9), then compare between the shifted matrices in a single step. That gives us a boolean matrix for the local minima, allowing us to select just those values, add one and sum the values."
   ]
  },
  {
   "cell_type": "code",
   "execution_count": 1,
   "metadata": {},
   "outputs": [],
   "source": [
    "from __future__ import annotations\n",
    "from typing import Final\n",
    "import numpy as np\n",
    "\n",
    "PAD_SPEC = tuple[tuple[int, int], tuple[int, int]]\n",
    "SLICE_SPEC = tuple[slice, slice]\n",
    "SHIFTS: Final[tuple[tuple[PAD_SPEC, SLICE_SPEC], ...]] = (\n",
    "    (((1, 0), (0, 0)), (slice(None, -1), ...)),\n",
    "    (((0, 1), (0, 0)), (slice(1, None), ...)),\n",
    "    (((0, 0), (1, 0)), (..., slice(None, -1))),\n",
    "    (((0, 0), (0, 1)), (..., slice(1, None))),\n",
    ")\n",
    "\n",
    "\n",
    "def find_risk_levels(heightmap: np.array) -> np.array:\n",
    "    risky = np.ones(heightmap.shape, dtype=bool)\n",
    "    for pad_spec, slice_spec in SHIFTS:\n",
    "        risky &= heightmap < np.pad(heightmap, pad_spec, constant_values=10)[slice_spec]\n",
    "    return heightmap[risky] + 1\n",
    "\n",
    "\n",
    "test_heightmap = np.genfromtxt(\n",
    "    \"\"\"\\\n",
    "2199943210\n",
    "3987894921\n",
    "9856789892\n",
    "8767896789\n",
    "9899965678\n",
    "\"\"\".splitlines(),\n",
    "    dtype=np.uint8,\n",
    "    delimiter=1,\n",
    ")\n",
    "assert find_risk_levels(test_heightmap).sum() == 15\n"
   ]
  },
  {
   "cell_type": "code",
   "execution_count": 2,
   "metadata": {},
   "outputs": [
    {
     "name": "stdout",
     "output_type": "stream",
     "text": [
      "Part 1: 594\n"
     ]
    }
   ],
   "source": [
    "import aocd\n",
    "\n",
    "heightmap = np.genfromtxt(\n",
    "    aocd.get_data(day=9, year=2021).splitlines(), dtype=np.uint8, delimiter=1\n",
    ")\n",
    "print(\"Part 1:\", find_risk_levels(heightmap).sum())\n"
   ]
  },
  {
   "cell_type": "markdown",
   "metadata": {},
   "source": [
    "# Part 2: sizing areas\n",
    "\n",
    "The second part essentially asks us to find the largest contiguous areas of values not equal to 9.\n",
    "\n",
    "We can use the SciPy [`scipy.ndimage.label()` function](https://docs.scipy.org/doc/scipy/reference/generated/scipy.ndimage.label.html) to do this work for us. This essentially gives each area that is non-zero a label. We'll need to 'invert' our heightmap by subtracting it from 9, so all 9s become zeros, and all zeros become 9s, and the other values ranging in between. The return value is a matrix with the same shape but each area 'filled' with a unique integer greater than 0. We can then count the different labels and so extract the 3 highest counts."
   ]
  },
  {
   "cell_type": "code",
   "execution_count": 3,
   "metadata": {},
   "outputs": [],
   "source": [
    "from scipy.ndimage import label\n",
    "\n",
    "\n",
    "def three_largest_basins(heightmap: np.array) -> np.array:\n",
    "    labeled, _ = label(9 - heightmap)\n",
    "    _, counts = np.unique(labeled[labeled != 0], return_counts=True)\n",
    "    return -np.partition(-counts, 3)[:3]\n",
    "\n",
    "\n",
    "assert np.prod(three_largest_basins(test_heightmap)) == 1134\n"
   ]
  },
  {
   "cell_type": "code",
   "execution_count": 4,
   "metadata": {},
   "outputs": [
    {
     "name": "stdout",
     "output_type": "stream",
     "text": [
      "Part 2: 858494\n"
     ]
    }
   ],
   "source": [
    "print(\"Part 2:\", np.prod(three_largest_basins(heightmap)))\n"
   ]
  },
  {
   "cell_type": "markdown",
   "metadata": {},
   "source": [
    "# Visualisation\n",
    "\n",
    "Much more interesting would be to show the basins themselves; we can use the `label()` output to pick colours."
   ]
  },
  {
   "cell_type": "code",
   "execution_count": 5,
   "metadata": {},
   "outputs": [
    {
     "data": {
      "image/png": "[encoded data removed]",
      "text/plain": [
       "<PIL.Image.Image image mode=RGBA size=500x500 at 0x13C54D4B0>"
      ]
     },
     "execution_count": 5,
     "metadata": {},
     "output_type": "execute_result"
    }
   ],
   "source": [
    "from PIL import Image\n",
    "from matplotlib import cm\n",
    "\n",
    "def basin_map(heightmap: np.array) -> np.array:\n",
    "    labeled, count = label(9 - heightmap)\n",
    "    colours = cm.get_cmap(\"tab20\", count)\n",
    "    # colour edges black by pushing the value outside the range and using cm.set_under()\n",
    "    labeled[labeled == 0] = -1\n",
    "    colours.set_under('black')\n",
    "    return Image.fromarray(colours(labeled, bytes=True)).resize((500, 500), Image.NEAREST)\n",
    "\n",
    "basin_map(heightmap)"
   ]
  }
 ],
 "metadata": {
  "interpreter": {
   "hash": "8bb5fd587ebf4d90f905285c44a569046664a8863ee065ff2dd968491b671e06"
  },
  "kernelspec": {
   "display_name": "Python 3 (ipykernel)",
   "language": "python",
   "name": "python3"
  },
  "language_info": {
   "codemirror_mode": {
    "name": "ipython",
    "version": 3
   },
   "file_extension": ".py",
   "mimetype": "text/x-python",
   "name": "python",
   "nbconvert_exporter": "python",
   "pygments_lexer": "ipython3",
   "version": "3.10.0"
  }
 },
 "nbformat": 4,
 "nbformat_minor": 2
}
