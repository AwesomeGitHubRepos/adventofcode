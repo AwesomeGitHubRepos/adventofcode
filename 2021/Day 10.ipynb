{
 "cells": [
  {
   "cell_type": "markdown",
   "metadata": {},
   "source": [
    "# Bracket matching\n",
    "\n",
    "- <https://adventofcode.com/2021/day/10>\n",
    "\n",
    "This is a fairly common and standard task in programming puzzles. All you need is a [stack](https://en.wikipedia.org/wiki/Stack_%28abstract_data_type%29) to track what brackets have been opened, and match any closing character against the top of the stack. If the top of the stack doesn't match up, you have a syntax error. If you reach the end of the line without mis-matched brackets, there were no syntax errors.\n",
    "\n",
    "My implementation uses a dictionary to match opening pairs to closing pairs; either a character is a key in this dictionary (an opening character) and goes to the top of the stack, or the top of the stack, used as a key into the dictionary gives us the matching paired closing bracket. If it doesn't match, we now to return a score.\n",
    "\n",
    "My implementation also returns the stack, as I suspect we'll need that for part two.\n"
   ]
  },
  {
   "cell_type": "code",
   "execution_count": 1,
   "metadata": {},
   "outputs": [],
   "source": [
    "from __future__ import annotations\n",
    "\n",
    "from collections import deque\n",
    "from typing import Final\n",
    "\n",
    "PAIRED: Final[dict[str, int]] = {\"(\": \")\", \"[\": \"]\", \"{\": \"}\", \"<\": \">\"}\n",
    "SYNTAX_ERROR_SCORES: Final[dict[str, int]] = {\")\": 3, \"]\": 57, \"}\": 1197, \">\": 25137}\n",
    "\n",
    "\n",
    "def match_brackets(line: str) -> tuple[int, deque[str]]:\n",
    "    stack = deque()\n",
    "    for char in line:\n",
    "        if char in PAIRED:\n",
    "            stack.append(char)\n",
    "        elif PAIRED[stack.pop()] != char:\n",
    "            return SYNTAX_ERROR_SCORES[char], stack\n",
    "    return 0, stack\n",
    "\n",
    "\n",
    "test_nav_subsystem = \"\"\"\\\n",
    "[({(<(())[]>[[{[]{<()<>>\n",
    "[(()[<>])]({[<{<<[]>>(\n",
    "{([(<{}[<>[]}>{[]{[(<()>\n",
    "(((({<>}<{<{<>}{[]{[]{}\n",
    "[[<[([]))<([[{}[[()]]]\n",
    "[{[{({}]{}}([{[{{{}}([]\n",
    "{<[[]]>}<{[{[{[]{()[[[]\n",
    "[<(<(<(<{}))><([]([]()\n",
    "<{([([[(<>()){}]>(<<{{\n",
    "<{([{{}}[<[[[<>{}]]]>[]]\n",
    "\"\"\".splitlines()\n",
    "\n",
    "assert sum(match_brackets(line)[0] for line in test_nav_subsystem) == 26397"
   ]
  },
  {
   "cell_type": "code",
   "execution_count": 2,
   "metadata": {},
   "outputs": [
    {
     "name": "stdout",
     "output_type": "stream",
     "text": [
      "Part 1: 462693\n"
     ]
    }
   ],
   "source": [
    "import aocd\n",
    "\n",
    "nav_subsystem = aocd.get_data(day=10, year=2021).splitlines()\n",
    "print(\"Part 1:\", sum(match_brackets(line)[0] for line in nav_subsystem))"
   ]
  },
  {
   "cell_type": "markdown",
   "metadata": {},
   "source": [
    "# Part 2, completing the line\n",
    "\n",
    "When there are no mismatched pairs, but there are still items left on the stack, we know that there are closing brackets missing. Just continue to pop elements from the stack, they are the opening brackets for incomplete pairs, and these can be mapped straight onto the base-5 scoring system.\n",
    "\n",
    "We've seen the 'middle value' before, on [day 7], when in part 1 we had to optimise the crab fuel expenditure. It's called the [median](https://en.wikipedia.org/wiki/Median), and the [Python `statistics` module](https://docs.python.org/3/library/statistics.html#statistics.median) has us covered (the module even includes `median_low()` and `median_high()` functions for when there isn't a convenient odd number of values).\n",
    "\n",
    "Just make sure to filter out the syntax-error lines first.\n"
   ]
  },
  {
   "cell_type": "code",
   "execution_count": 3,
   "metadata": {},
   "outputs": [],
   "source": [
    "from statistics import median\n",
    "\n",
    "AUTOCOMPLETION_SCORES: Final[dict[str, int]] = {\"(\": 1, \"[\": 2, \"{\": 3, \"<\": 4}\n",
    "\n",
    "\n",
    "def autocompletion_score(line: str) -> int:\n",
    "    syntax_error, stack = match_brackets(line)\n",
    "    if syntax_error:\n",
    "        return 0\n",
    "    score = 0\n",
    "    while stack:\n",
    "        score *= 5\n",
    "        score += AUTOCOMPLETION_SCORES[stack.pop()]\n",
    "    return score\n",
    "\n",
    "\n",
    "def median_score(lines: list[str]) -> int:\n",
    "    return median(filter(None, map(autocompletion_score, lines)))\n",
    "\n",
    "\n",
    "assert list(filter(None, map(autocompletion_score, test_nav_subsystem))) == [\n",
    "    288957,\n",
    "    5566,\n",
    "    1480781,\n",
    "    995444,\n",
    "    294,\n",
    "]\n",
    "assert median_score(test_nav_subsystem) == 288957"
   ]
  },
  {
   "cell_type": "code",
   "execution_count": 4,
   "metadata": {},
   "outputs": [
    {
     "name": "stdout",
     "output_type": "stream",
     "text": [
      "Part 2: 3094671161\n"
     ]
    }
   ],
   "source": [
    "print(\"Part 2:\", median_score(nav_subsystem))"
   ]
  }
 ],
 "metadata": {
  "interpreter": {
   "hash": "b1b6870d1e0a983b1943c858d70ac8a7c80477f9f3ca364eb8daa198319a8a87"
  },
  "kernelspec": {
   "display_name": "Python 3.10.0 64-bit ('adventofcode-mOkh6lsX': pipenv)",
   "language": "python",
   "name": "python3"
  },
  "language_info": {
   "codemirror_mode": {
    "name": "ipython",
    "version": 3
   },
   "file_extension": ".py",
   "mimetype": "text/x-python",
   "name": "python",
   "nbconvert_exporter": "python",
   "pygments_lexer": "ipython3",
   "version": "3.12.0"
  },
  "orig_nbformat": 4
 },
 "nbformat": 4,
 "nbformat_minor": 2
}
