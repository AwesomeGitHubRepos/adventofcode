{
 "cells": [
  {
   "cell_type": "markdown",
   "metadata": {},
   "source": [
    "# Day 6, cyclical number checks\n",
    "\n",
    "- <https://adventofcode.com/2021/day/6>\n",
    "\n",
    "Instead of decrementing the counts for each lanterfish, keep a count of the number of fishes at each life cycle stage; the example input has 1 fish each at stage 1 and 2, 2 at stage 3 and one more at stage 4. You can then either use the day number, modulo 7, as an index into these counts, or you can use a [double-ended queue](https://en.wikipedia.org/wiki/Double-ended_queue) and _rotate_ that queue for each day to move fishes between stages.\n",
    "\n",
    "Offspring should go into a separate queue and added to the counts after two days have passed; that way they don't yet 'produce' offspring for their gestation period. You apped the 'stage 0' count onto that queue on one end, and then take the count from 2 days before and add it to the current stage.\n",
    "\n",
    "To get the total number of fishes after such a round, sum up all the counts in the queue, and add the offspring count you'd add in the next round (these are the fishes spawned the day before but are still at stage 8).\n",
    "\n",
    "Illustrating the example with lists instead of the Python [`deque` double-ended queue implementation](https://docs.python.org/3/library/collections.html#collections.deque), at the start we have:\n",
    "\n",
    "```python\n",
    "fishes = [0, 1, 1, 2, 1, 0, 0]\n",
    "offspring = [0, 0]\n",
    "```\n",
    "\n",
    "At each step `fishes` is rotated to the left, so the value at `fishes[0]` moves to `fishes[6]` and all the other values shift along. The value at `fishes[0]` is added to the end of the `offspring` list, the `offspring[0]` value is removed and added to `fishes[0]`:\n",
    "\n",
    "1. day 1, after rotation, append `1` to `offspring`, take the left-most `0` from `offspring` and that to `fishes[0]`:  \n",
    "   `fishes`: `[1, 1, 2, 1, 0, 0, 0]`  \n",
    "   `offspring`: `[0, 1]`\n",
    "\n",
    "2. day 2, after rotation, append the old value of `fishes[0] == 1` to `offspring`, remove the left-most `0` from `offspring` and add that to `fishes[0]`:  \n",
    "   `fishes`: `[1, 2, 1, 0, 0, 0, 1]`  \n",
    "   `offspring`: `[1, 1]`  \n",
    "   Now the sum of `fishes` is still 5, but add the `1` from `offspring[0]` and you have a population size of 6.\n",
    "\n",
    "3. rotate, append `fishes[0] == 2` to `offspring` and pop the `1` from offspring to add to `fishes[0]`:  \n",
    "   `fishes`: `[3, 1, 0, 0, 0, 1, 1]`  \n",
    "   `offspring`: `[1, 2]`  \n",
    "   The number of fishes is now 7.\n",
    "\n",
    "and so on.\n",
    "\n",
    "Together, this means we can process $n$ days in $O(n)$ time, with only $O(1)$ space required to keep track of all this.\n"
   ]
  },
  {
   "cell_type": "code",
   "execution_count": 1,
   "metadata": {},
   "outputs": [],
   "source": [
    "from collections import deque\n",
    "\n",
    "\n",
    "def simulate_fishes(starting_ages: list[int], steps: int) -> int:\n",
    "    counts = [0] * 7\n",
    "    for age in starting_ages:\n",
    "        counts[age] += 1\n",
    "    fishes = deque(counts)\n",
    "    offspring = deque([0, 0])\n",
    "    for _ in range(steps):\n",
    "        fishes.rotate(-1)\n",
    "        offspring.append(fishes[0])\n",
    "        fishes[0] += offspring.popleft()\n",
    "    return sum(fishes) + offspring.popleft()\n",
    "\n",
    "\n",
    "test_ages = 3, 4, 3, 1, 2\n",
    "assert simulate_fishes(test_ages, 18) == 26\n",
    "assert simulate_fishes(test_ages, 80) == 5934"
   ]
  },
  {
   "cell_type": "code",
   "execution_count": 2,
   "metadata": {},
   "outputs": [
    {
     "name": "stdout",
     "output_type": "stream",
     "text": [
      "Part 1: 360268\n"
     ]
    }
   ],
   "source": [
    "import aocd\n",
    "\n",
    "start_ages = [int(n) for n in aocd.get_data(day=6, year=2021).split(\",\")]\n",
    "print(\"Part 1:\", simulate_fishes(start_ages, 80))"
   ]
  },
  {
   "cell_type": "code",
   "execution_count": 3,
   "metadata": {},
   "outputs": [],
   "source": [
    "assert simulate_fishes(test_ages, 256) == 26984457539"
   ]
  },
  {
   "cell_type": "code",
   "execution_count": 4,
   "metadata": {},
   "outputs": [
    {
     "name": "stdout",
     "output_type": "stream",
     "text": [
      "Part 1: 1632146183902\n"
     ]
    }
   ],
   "source": [
    "print(\"Part 1:\", simulate_fishes(start_ages, 256))"
   ]
  }
 ],
 "metadata": {
  "interpreter": {
   "hash": "8bb5fd587ebf4d90f905285c44a569046664a8863ee065ff2dd968491b671e06"
  },
  "kernelspec": {
   "display_name": "Python 3.10.0 64-bit ('adventofcode-mOkh6lsX': pipenv)",
   "language": "python",
   "name": "python3"
  },
  "language_info": {
   "codemirror_mode": {
    "name": "ipython",
    "version": 3
   },
   "file_extension": ".py",
   "mimetype": "text/x-python",
   "name": "python",
   "nbconvert_exporter": "python",
   "pygments_lexer": "ipython3",
   "version": "3.12.0"
  },
  "orig_nbformat": 4
 },
 "nbformat": 4,
 "nbformat_minor": 2
}
