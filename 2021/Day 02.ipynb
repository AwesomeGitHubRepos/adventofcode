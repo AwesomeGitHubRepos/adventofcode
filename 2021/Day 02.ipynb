{
 "cells": [
  {
   "cell_type": "markdown",
   "metadata": {},
   "source": [
    "# Controlling a submarine\n",
    "\n",
    "- https://adventofcode.com/2021/day/2\n",
    "\n",
    "Time to figure out how to dive with a submarine. The first task is a common one: interpret instructions that map out the submarine path.\n"
   ]
  },
  {
   "cell_type": "code",
   "execution_count": 1,
   "metadata": {},
   "outputs": [],
   "source": [
    "from __future__ import annotations\n",
    "\n",
    "from dataclasses import dataclass, replace\n",
    "from enum import Enum\n",
    "from functools import reduce\n",
    "from typing import Iterable\n",
    "\n",
    "\n",
    "class SubmarineDirection(Enum):\n",
    "    forward = (1, 0)\n",
    "    down = (0, 1)\n",
    "    up = (0, -1)\n",
    "\n",
    "\n",
    "@dataclass\n",
    "class SubmarineMove:\n",
    "    direction: SubmarineDirection\n",
    "    dpos: int = 0\n",
    "    ddepth: int = 0\n",
    "\n",
    "    @classmethod\n",
    "    def from_line(cls, line: str) -> SubmarineMove:\n",
    "        dir, amount = line.split()\n",
    "        direction = SubmarineDirection[dir]\n",
    "        return cls(direction, *direction.value) * int(amount)\n",
    "\n",
    "    def __mul__(self, amount: int) -> SubmarineMove:\n",
    "        return replace(self, dpos=self.dpos * amount, ddepth=self.ddepth * amount)\n",
    "\n",
    "\n",
    "@dataclass\n",
    "class SubmarinePosition:\n",
    "    position: int = 0\n",
    "    depth: int = 0\n",
    "\n",
    "    def change_position(self, move: SubmarineMove) -> SubmarinePosition:\n",
    "        return replace(\n",
    "            self, position=self.position + move.dpos, depth=self.depth + move.ddepth\n",
    "        )\n",
    "\n",
    "    @classmethod\n",
    "    def from_moves(cls, moves: Iterable) -> SubmarinePosition:\n",
    "        return reduce(cls.change_position, moves, cls())\n",
    "\n",
    "\n",
    "test_moves = [\n",
    "    SubmarineMove.from_line(line)\n",
    "    for line in \"\"\"\\\n",
    "forward 5\n",
    "down 5\n",
    "forward 8\n",
    "up 3\n",
    "down 8\n",
    "forward 2\n",
    "\"\"\".splitlines()\n",
    "]\n",
    "\n",
    "test_pos = SubmarinePosition.from_moves(test_moves)\n",
    "assert test_pos.position == 15\n",
    "assert test_pos.depth == 10\n",
    "assert test_pos.position * test_pos.depth == 150"
   ]
  },
  {
   "cell_type": "code",
   "execution_count": 2,
   "metadata": {},
   "outputs": [
    {
     "name": "stdout",
     "output_type": "stream",
     "text": [
      "Part 1: 2039912\n"
     ]
    }
   ],
   "source": [
    "import aocd\n",
    "\n",
    "moves = [\n",
    "    SubmarineMove.from_line(line)\n",
    "    for line in aocd.get_data(day=2, year=2021).splitlines()\n",
    "]\n",
    "submarine_pos = SubmarinePosition.from_moves(moves)\n",
    "print(\"Part 1:\", submarine_pos.depth * submarine_pos.position)"
   ]
  },
  {
   "cell_type": "markdown",
   "metadata": {},
   "source": [
    "# Part 2: reinterpreting the directions\n",
    "\n",
    "Now, instead of a simple 2-direction vector problem, we have a slightly more complicated set of moves. The way that the submarine depth changes now depends on the `aim` value, and the `up` and `down` commands only affect the aim.\n",
    "\n",
    "Rather than re-create the `SubmarineMove` class only to rename `ddepth` (delta depth) to `daim` (delta aim), I'm just going to reinterpret the `ddepth` value as delta aim here. Welcome to Technical Debt, 101! :-D\n",
    "\n",
    "It means we only have to provide a new `SubmarinePosition` implementation to achieve part 2.\n"
   ]
  },
  {
   "cell_type": "code",
   "execution_count": 3,
   "metadata": {},
   "outputs": [],
   "source": [
    "@dataclass\n",
    "class AimedSubmarinePosition(SubmarinePosition):\n",
    "    aim: int = 0\n",
    "\n",
    "    def change_position(self, move: SubmarineMove) -> AimedSubmarinePosition:\n",
    "        return replace(\n",
    "            self,\n",
    "            position=self.position + move.dpos,\n",
    "            depth=self.depth + (self.aim * move.dpos),\n",
    "            aim=self.aim + move.ddepth,  # delta depth is really delta aim\n",
    "        )\n",
    "\n",
    "\n",
    "test_pos = AimedSubmarinePosition.from_moves(test_moves)\n",
    "assert test_pos.position == 15\n",
    "assert test_pos.depth == 60\n",
    "assert test_pos.position * test_pos.depth == 900"
   ]
  },
  {
   "cell_type": "code",
   "execution_count": 4,
   "metadata": {},
   "outputs": [
    {
     "name": "stdout",
     "output_type": "stream",
     "text": [
      "Part 2: 1942068080\n"
     ]
    }
   ],
   "source": [
    "submarine_pos = AimedSubmarinePosition.from_moves(moves)\n",
    "print(\"Part 2:\", submarine_pos.depth * submarine_pos.position)"
   ]
  }
 ],
 "metadata": {
  "interpreter": {
   "hash": "b1b6870d1e0a983b1943c858d70ac8a7c80477f9f3ca364eb8daa198319a8a87"
  },
  "kernelspec": {
   "display_name": "Python 3.9.6 64-bit ('adventofcode-mOkh6lsX': pipenv)",
   "language": "python",
   "name": "python3"
  },
  "language_info": {
   "codemirror_mode": {
    "name": "ipython",
    "version": 3
   },
   "file_extension": ".py",
   "mimetype": "text/x-python",
   "name": "python",
   "nbconvert_exporter": "python",
   "pygments_lexer": "ipython3",
   "version": "3.12.0"
  },
  "orig_nbformat": 4
 },
 "nbformat": 4,
 "nbformat_minor": 2
}
