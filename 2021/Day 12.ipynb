{
 "cells": [
  {
   "cell_type": "markdown",
   "metadata": {},
   "source": [
    "# Tree traversal with constraints\n",
    "\n",
    "- <https://adventofcode.com/2021/day/12>\n",
    "\n",
    "Our task today is to find all paths between two nodes in a graph, with a twist that nodes with uppercase letters can be visited more than once per path. Note that `start` and `end` are both lowercased! This kind of task is part of a group of [graph traversal](https://en.wikipedia.org/wiki/Graph_traversal) problems, and I've implemented a typical [depth-first search](https://en.wikipedia.org/wiki/Depth-first_search) (DFS) algorithm, leaving out adding the uppercased node names to the 'seen' list (the path of already visited nodes).\n",
    "\n",
    "I also like to avoid using recursion. Recursion can usually be replaced by a loop with a stack or a queue, for DFS recursion is just a loop with the function call graph acting as the stack. As recursive DFS implementations pass along the 'seen' list as a parameter, here you need to put that set on the stack together with the nodes to visit.\n"
   ]
  },
  {
   "cell_type": "code",
   "execution_count": 1,
   "metadata": {},
   "outputs": [],
   "source": [
    "from __future__ import annotations\n",
    "\n",
    "from collections import deque\n",
    "from typing import Iterable, TypeAlias\n",
    "\n",
    "Graph: TypeAlias = dict[str, set[str]]\n",
    "\n",
    "\n",
    "class CaveSystem:\n",
    "    def __init__(self, graph: Graph):\n",
    "        self.graph = graph\n",
    "\n",
    "    @classmethod\n",
    "    def from_lines(cls, lines: Iterable[str]) -> CaveSystem:\n",
    "        graph = {}\n",
    "        for line in lines:\n",
    "            left, right = line.split(\"-\")\n",
    "            graph.setdefault(left, set()).add(right)\n",
    "            graph.setdefault(right, set()).add(left)\n",
    "        return cls(graph)\n",
    "\n",
    "    def _edges(self, node: str, visited: set[str]) -> Iterable[str]:\n",
    "        # traverse 'visited' just once for all edges leading from this node\n",
    "        seen = {node for node in visited if node.islower()}\n",
    "        yield from self.graph[node] - seen\n",
    "\n",
    "    def __iter__(self) -> Iterable[tuple[str]]:\n",
    "        # stack holds node-to-visit, lower-case nodes already visited\n",
    "        stack: deque[tuple[str, tuple[str]]] = deque([(\"start\", (\"start\",))])\n",
    "        while stack:\n",
    "            node, visited = stack.pop()\n",
    "            if node == \"end\":\n",
    "                yield visited\n",
    "                continue\n",
    "            for next in self._edges(node, visited):\n",
    "                stack.append((next, (*visited, next)))\n",
    "\n",
    "    def __len__(self) -> int:\n",
    "        return sum(1 for _ in self)\n",
    "\n",
    "\n",
    "tests: dict[str, int] = {\n",
    "    \"start-A\\nstart-b\\nA-c\\nA-b\\nb-d\\nA-end\\nb-end\": 10,\n",
    "    (\n",
    "        \"dc-end\\nHN-start\\nstart-kj\\ndc-start\\n\"\n",
    "        \"dc-HN\\nLN-dc\\nHN-end\\nkj-sa\\nkj-HN\\nkj-dc\"\n",
    "    ): 19,\n",
    "    (\n",
    "        \"fs-end\\nhe-DX\\nfs-he\\nstart-DX\\npj-DX\\nend-zg\\nzg-sl\\nzg-pj\\npj-he\\n\"\n",
    "        \"RW-he\\nfs-DX\\npj-RW\\nzg-RW\\nstart-pj\\nhe-WI\\nzg-he\\npj-fs\\nstart-RW\\n\"\n",
    "    ): 226,\n",
    "}\n",
    "for test_map, expected in tests.items():\n",
    "    assert len(CaveSystem.from_lines(test_map.splitlines())) == expected"
   ]
  },
  {
   "cell_type": "code",
   "execution_count": 2,
   "metadata": {},
   "outputs": [
    {
     "name": "stdout",
     "output_type": "stream",
     "text": [
      "Part 1: 5756\n"
     ]
    }
   ],
   "source": [
    "import aocd\n",
    "\n",
    "cave_map = aocd.get_data(day=12, year=2021).splitlines()\n",
    "print(\"Part 1:\", len(CaveSystem.from_lines(cave_map)))"
   ]
  },
  {
   "cell_type": "markdown",
   "metadata": {},
   "source": [
    "# Part two, more involved constraint\n",
    "\n",
    "We are now told that a path through the cave system can involve visiting **one** of the small caves twice. You can model this by using a _multi-set_ instead of a set when finding what edges to consider. Instead of discounting all lower-cased node names that have already been seen on the current path-so-far, just _ignore_ the visited nodes as long as no lower-case node name appears twice. To figure out if a node appears twice, use a [multi-set](https://en.wikipedia.org/wiki/Multiset) instead of a regular set. In the Python standard library, the [`collections.Counter` class](https://docs.python.org/3/library/collections.html#collections.Counter) is such a multi-set.\n",
    "\n",
    "To implement part 2, I factored out the generation of edges to follow into a separate method so I can reuse the rest of my DFS code.\n"
   ]
  },
  {
   "cell_type": "code",
   "execution_count": 3,
   "metadata": {},
   "outputs": [],
   "source": [
    "from collections import Counter\n",
    "\n",
    "\n",
    "class RevisitCaveSystem(CaveSystem):\n",
    "    def _edges(self, node: str, visited: set[str]) -> Iterable[str]:\n",
    "        seen = Counter(node for node in visited if node.islower())\n",
    "        if 2 not in seen.values():\n",
    "            # no small cave has been visited twice yet, only disallow \"start\"\n",
    "            seen = {\"start\"}\n",
    "        yield from self.graph[node].difference(seen)\n",
    "\n",
    "\n",
    "revisit_tests: dict[str, int] = {\n",
    "    \"start-A\\nstart-b\\nA-c\\nA-b\\nb-d\\nA-end\\nb-end\": 36,\n",
    "    (\n",
    "        \"dc-end\\nHN-start\\nstart-kj\\ndc-start\\n\"\n",
    "        \"dc-HN\\nLN-dc\\nHN-end\\nkj-sa\\nkj-HN\\nkj-dc\"\n",
    "    ): 103,\n",
    "    (\n",
    "        \"fs-end\\nhe-DX\\nfs-he\\nstart-DX\\npj-DX\\nend-zg\\nzg-sl\\nzg-pj\\npj-he\\n\"\n",
    "        \"RW-he\\nfs-DX\\npj-RW\\nzg-RW\\nstart-pj\\nhe-WI\\nzg-he\\npj-fs\\nstart-RW\\n\"\n",
    "    ): 3509,\n",
    "}\n",
    "for test_map, expected in revisit_tests.items():\n",
    "    assert len(RevisitCaveSystem.from_lines(test_map.splitlines())) == expected"
   ]
  },
  {
   "cell_type": "code",
   "execution_count": 4,
   "metadata": {},
   "outputs": [
    {
     "name": "stdout",
     "output_type": "stream",
     "text": [
      "Part 2: 144603\n"
     ]
    }
   ],
   "source": [
    "print(\"Part 2:\", len(RevisitCaveSystem.from_lines(cave_map)))"
   ]
  }
 ],
 "metadata": {
  "interpreter": {
   "hash": "8bb5fd587ebf4d90f905285c44a569046664a8863ee065ff2dd968491b671e06"
  },
  "kernelspec": {
   "display_name": "Python 3.10.0 64-bit ('adventofcode-mOkh6lsX': pipenv)",
   "language": "python",
   "name": "python3"
  },
  "language_info": {
   "codemirror_mode": {
    "name": "ipython",
    "version": 3
   },
   "file_extension": ".py",
   "mimetype": "text/x-python",
   "name": "python",
   "nbconvert_exporter": "python",
   "pygments_lexer": "ipython3",
   "version": "3.12.0"
  },
  "orig_nbformat": 4
 },
 "nbformat": 4,
 "nbformat_minor": 2
}
