{
 "cells": [
  {
   "cell_type": "markdown",
   "metadata": {},
   "source": [
    "# Calculating ballistic trajectories\n",
    "\n",
    "* <https://adventofcode.com/2021/day/17>\n",
    "\n",
    "We are tasked with solving an optimisation problem; given a target area, what is the highest a ballistic missile will reach when fired from the submarine.\n",
    "\n",
    "Given the target area with bounds $x_{min}..x_{max}, y_{min}..y_{max}$ and assuming that the trench is always below the submarine (negative values for $y$), you can already figure out the minimum and maximum velocities:\n",
    "\n",
    "* The minimum $x$ velocity, $vx_{min}$, must reach the nearest side of the target $x_{min}$, and because it decreases monotically with every step essentially is a triangle number. That means $x_{min} <= \\frac {vx_{min} (vx_{min} - 1)} {2}$, or $vx_{min} = \\lceil \\frac 1 2 (-1 + \\sqrt {8x_{min} + 1}) \\rceil$\n",
    "* $vx_{max}$ should simply not overshoot in a single step, so $vx_{max} = x_{max}$\n",
    "* $vy_{min}$ must hit the bottom of the target area in one step, so $vy_{min} = y_{max}$\n",
    "* The trajectory upwards is exactly mirrored (symetrical) because y changes by -1 each step. If you shoot your probe upwards with initial velocity $y0$, by the time the probe reaches $y=0$ it'll have the same velocity in the opposite direction minus one, $-y0 - 1$. It can't overshoot the target area, to not overshoot the area you can't go beyond the lower bound so the velocity can't be greater than the (absolute) lower bound minus 1: $vy_{max} = |y_{min}| - 1$\n",
    "\n",
    "The maximum height $h_{max}$ for any given $vy$ is another triangle number, so $h_{max} = \\frac {vy (vy + 1)} 2$; and you can reach that maximum height by finding the maximum upwards velocity $vy_{max}$, a value we can calculate **without having to know $vx$**. So all we need to know is $vy_{max}$, which is simply $|y_{min}| - 1$."
   ]
  },
  {
   "cell_type": "code",
   "execution_count": 1,
   "metadata": {},
   "outputs": [],
   "source": [
    "from __future__ import annotations\n",
    "\n",
    "import re\n",
    "from dataclasses import dataclass\n",
    "\n",
    "\n",
    "INPUTLINE = re.compile(\n",
    "    r\"target area: x=(?P<xmin>-?\\d+)\\.\\.(?P<xmax>-?\\d+), \"\n",
    "    r\"y=(?P<ymin>-?\\d+)\\.\\.(?P<ymax>-?\\d+)\"\n",
    ").fullmatch\n",
    "\n",
    "\n",
    "@dataclass\n",
    "class TargetArea:\n",
    "    xmin: int\n",
    "    xmax: int\n",
    "    ymin: int\n",
    "    ymax: int\n",
    "\n",
    "    @classmethod\n",
    "    def from_line(cls, line: str) -> TargetArea:\n",
    "        args = {k: int(v) for k, v in INPUTLINE(line).groupdict().items()}\n",
    "        return cls(**args)\n",
    "\n",
    "    @property\n",
    "    def max_height(self) -> int:\n",
    "        vy_max = abs(self.ymin) - 1\n",
    "        return (vy_max * (vy_max + 1)) // 2\n",
    "\n",
    "\n",
    "assert TargetArea.from_line(\"target area: x=20..30, y=-10..-5\").max_height == 45"
   ]
  },
  {
   "cell_type": "code",
   "execution_count": 2,
   "metadata": {},
   "outputs": [
    {
     "name": "stdout",
     "output_type": "stream",
     "text": [
      "Part 1: 7875\n"
     ]
    }
   ],
   "source": [
    "import aocd\n",
    "\n",
    "target = aocd.get_data(day=17, year=2021)\n",
    "print(\"Part 1:\", TargetArea.from_line(target).max_height)"
   ]
  },
  {
   "cell_type": "markdown",
   "metadata": {},
   "source": [
    "# Part 2, find all possible velocities\n",
    "\n",
    "Now we need to find all possible velocities. We already know the bounds of $vx$ and $vy$, which limits how many integer velocities we need to consider. We can't simply give all combinations of velocities, however; some will overshoot the area in one or the other direction at the exact time $t$ that the downward or sideways movement would be within the target area.\n",
    "\n",
    "E.g. from the puzzle example, the bounds are $vx=7..30, vy=-5..9$, but shooting the probe with initial velocity `(17,-4)` doesn't work, even though those two values fall within the velocity bounds. That's because $vx = 17$ will *always* miss the target bounds. Similarily, there will be values for $vy$ that will always miss the target, and for some values of $vx, vy$ there is no time $t$ where both $x$ and $y$ are within the target area.\n",
    "\n",
    "Instead, we calculate what bounds of $t$ can be set for a given $vy$ to still hit the area, then verify that $vx$ will hit the bounds in the same range of $t$. That's easy to verify for the limited ranges involved.\n",
    "\n",
    "The simplest case is if $vy$ is negative; the position $y$ for a given time $t$ is:\n",
    "\n",
    "$\n",
    "y = \\frac {t (2vy - (t - 1))} {2}\n",
    "$\n",
    "\n",
    "which can be rearranged as a quadradic equation:\n",
    "\n",
    "$\n",
    "-t^2 + (2vy + 1)t - 2y = 0\n",
    "$\n",
    "\n",
    "Given that we know the bounds of $y$ we can find bounds for $t$ for any given $vy$, by plugging in those bounds into the positive root of the quadratic equation:\n",
    "\n",
    "$\n",
    "t = \\frac {1 + 2 vy + \\sqrt {1 + 4 vy + 4 vy^2 - 8 y}} {2}\n",
    "$\n",
    "\n",
    "The bounds for $t$ need to be rounded; to reach $y_{max}$ or beyond, we need to round $t$ up, to not overshoot $y_{min}$ you need to round $t$ down:\n",
    "\n",
    "$\n",
    "t_{min} = \\lceil \\frac {1 + 2 vy + \\sqrt {1 + 4 vy + 4 vy^2 - 8 y_{max}}} {2} \\rceil\n",
    "$\n",
    "$\n",
    "t_{max} = \\lfloor \\frac {1 + 2 vy + \\sqrt {1 + 4 vy + 4 vy^2 - 8 y_{min}}} {2} \\rfloor\n",
    "$\n",
    "\n",
    "If $t_{min} > t_{max}$ then the probe can't reach the target area, so we can skip this $vy$ value.\n",
    "\n",
    "For $y = 0$, just add 1 to the $t_{min}..t_{max}$ range calculated for $vy = -1$, because that's what the velocity will be at $t = 1$. For _positive_ values of $vy$, you reach $y = 0$ after $t = 2(vy + 1)$, after which it's the same solution as for $vy = -vy - 1$ because that's what the velocity will be at that point. These two relationships mean we can start our search at $vy = y_{min}$ and loop up to $vy = -1$ and take along the $vy >= 0$ solutions from there, where the zero or larger value $pvy = -vy - 1$ and the delta for $t$, $dt = 2(-vy) - 1$.\n",
    "\n",
    "Once we have determined bounds for $t$, we can calculate all possible $vx$ values that will still fall within the $x_{min}..x_{max}$ range at those times. For a given $vx$, if $t >= vx$ the value comes to rest inside the target area at $t = vx$ at $x = \\frac {vx (vx + 1)} {2}$, or, for values where $t < vx$, at a distance $x = \\frac {vx (vx - 1)} {2} - \\frac {(vx - t) (vx - 1 + 1)} {2}$\n",
    "\n",
    "I found it easiest to just loop over the product the $t_{min}..t_{max}$ and $vx_{min}..vx_{max}$ ranges, and if the distance falls within the target area increment the counter, and if you overshoot the area, break out of the loop early. I also needed to account for $vx$ values that fall inside the target area for multiple values of $t$.\n",
    "\n",
    "I may revisit this part later as I'm sure there is a closed-form solution to calculate the bounds of $vx$ for a given $t_{min}..t_{max}$ without looping. You can then just take the length of that range and add that to a counter, rather than generate all possible velocity pairs as tuples."
   ]
  },
  {
   "cell_type": "code",
   "execution_count": 3,
   "metadata": {},
   "outputs": [],
   "source": [
    "import math\n",
    "from typing import Iterable\n",
    "\n",
    "def _pos_quad(y: int, vy: int) -> float:\n",
    "    return (1 + (2 * vy) + math.sqrt(1 + (4 * vy) + (4 * vy * vy) - (8 * y))) / 2\n",
    "\n",
    "def _t_bounds(vy: int, y_min: int, y_max: int) -> tuple[int, int]:\n",
    "    return math.ceil(_pos_quad(y_max, vy)), int(_pos_quad(y_min, vy))\n",
    "\n",
    "class ExhaustiveTargetArea(TargetArea):\n",
    "    def __iter__(self) -> Iterable[tuple[int, int]]:\n",
    "        xmin, xmax = self.xmin, self.xmax\n",
    "        vxmin, vxmax = math.ceil((-1 + math.sqrt(8 * xmin + 1)) / 2), xmax\n",
    "        vymin, vymax = self.ymin, abs(self.ymin) - 1\n",
    "\n",
    "        def _find_vx(tmin: int, tmax: int) -> Iterable[int]:\n",
    "            seen = set()\n",
    "            for t in range(tmin, tmax + 1):\n",
    "                for vx in range(vxmin, vxmax + 1):\n",
    "                    if vx in seen:\n",
    "                        continue\n",
    "                    x = vx * (vx + 1) // 2\n",
    "                    if t < vx:\n",
    "                        x -= (vx - t) * (vx - t + 1) // 2\n",
    "                    if x > xmax:\n",
    "                        # this vx overshoots at t, all further will too\n",
    "                        break\n",
    "                    elif x >= xmin:\n",
    "                        seen.add(vx)\n",
    "                        yield vx\n",
    "                    \n",
    "        for vy in range(vymin, 0):\n",
    "            tmin, tmax = _t_bounds(vy, self.ymin, self.ymax)\n",
    "            if tmin > tmax:\n",
    "                # at no point will the probe hit the target\n",
    "                continue\n",
    "            yield from ((vx, vy) for vx in _find_vx(tmin, tmax))\n",
    "            # the positive vy equal to -vy - 1 reaches the same negative\n",
    "            # velocity once it returns to y=0 at t + 2(-vy) - 1, so for all \n",
    "            # negative vy where -vy - 1 <= vymax.\n",
    "            pvy, dt = -vy - 1, 2 * -vy - 1\n",
    "            if pvy > vymax:\n",
    "                continue\n",
    "            yield from ((vx, pvy) for vx in _find_vx(tmin + dt, tmax + dt))\n",
    "        \n",
    "    def __len__(self) -> int:\n",
    "        return sum(1 for _ in self)\n",
    "\n",
    "            \n",
    "assert len(ExhaustiveTargetArea.from_line(\"target area: x=20..30, y=-10..-5\")) == 112"
   ]
  },
  {
   "cell_type": "code",
   "execution_count": 4,
   "metadata": {},
   "outputs": [
    {
     "name": "stdout",
     "output_type": "stream",
     "text": [
      "Part 2: 2321\n"
     ]
    }
   ],
   "source": [
    "print(\"Part 2:\", len(ExhaustiveTargetArea.from_line(target)))"
   ]
  }
 ],
 "metadata": {
  "interpreter": {
   "hash": "8bb5fd587ebf4d90f905285c44a569046664a8863ee065ff2dd968491b671e06"
  },
  "kernelspec": {
   "display_name": "Python 3.10.0 64-bit ('adventofcode-mOkh6lsX': pipenv)",
   "language": "python",
   "name": "python3"
  },
  "language_info": {
   "codemirror_mode": {
    "name": "ipython",
    "version": 3
   },
   "file_extension": ".py",
   "mimetype": "text/x-python",
   "name": "python",
   "nbconvert_exporter": "python",
   "pygments_lexer": "ipython3",
   "version": "3.10.0"
  },
  "orig_nbformat": 4
 },
 "nbformat": 4,
 "nbformat_minor": 2
}
