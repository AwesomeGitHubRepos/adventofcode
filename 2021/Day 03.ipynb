{
 "cells": [
  {
   "cell_type": "markdown",
   "metadata": {},
   "source": [
    "# Bit set counts\n",
    "\n",
    "* https://adventofcode.com/2021/day/3\n",
    "\n",
    "We are tasked with counting bits in each column of input, to produce two binary numbers. While there are [some great algorithms for bit counting](https://graphics.stanford.edu/~seander/bithacks.html#CountBitsSetNaive), the fact that we are counting bits across columns means we need to use a slightly different approach.\n",
    "\n",
    "The input, can be 'processed' by indexing into the column and testing if that column is equal to `'1'`, and summing these booleans (which in Python have integer values `0` and `1`) gives us the number of rows with the bit set. You can then compare that value with the number of lines and set the corresponding bit in gamma and epsilon (with epsilon being the inverse of gamma). By starting at the left-most column, and left-shifting the accumulated gamma and epsilon values, we naturally build up the bits in the correct order."
   ]
  },
  {
   "cell_type": "code",
   "execution_count": 1,
   "metadata": {},
   "outputs": [],
   "source": [
    "def power_consumption(report: list[str]) -> int:\n",
    "    width = len(report[0])\n",
    "    threshold = (len(report) + 1) // 2  # handles odd and even line lengths\n",
    "    gamma = epsilon = 0\n",
    "    for k in range(width):\n",
    "        # The puzzle description just talks about 'most common'; it doesn't\n",
    "        # matter to _my_ puzzle input if we break ties in favour of 1s or 0s.\n",
    "        one_most_common = sum(line[k] == '1' for line in report) >= threshold\n",
    "        gamma = gamma << 1 | one_most_common\n",
    "        epsilon = epsilon << 1 | (not one_most_common)\n",
    "    return gamma * epsilon\n",
    "\n",
    "\n",
    "test_report = \"\"\"\\\n",
    "00100\n",
    "11110\n",
    "10110\n",
    "10111\n",
    "10101\n",
    "01111\n",
    "00111\n",
    "11100\n",
    "10000\n",
    "11001\n",
    "00010\n",
    "01010\n",
    "\"\"\".splitlines()\n",
    "\n",
    "assert power_consumption(test_report) == 198"
   ]
  },
  {
   "cell_type": "code",
   "execution_count": 2,
   "metadata": {},
   "outputs": [
    {
     "name": "stdout",
     "output_type": "stream",
     "text": [
      "Part 1: 845186\n"
     ]
    }
   ],
   "source": [
    "import aocd\n",
    "diagnostic_report = aocd.get_data(day=3, year=2021).splitlines(False)\n",
    "print(\"Part 1:\", power_consumption(diagnostic_report))"
   ]
  },
  {
   "cell_type": "markdown",
   "metadata": {},
   "source": [
    "# Part 2: Reducing the input numbers based on bit counts\n",
    "\n",
    "Instead of accumulating a bit for each column in two numbers, we need to reduce the input lines based on the outcome. We'll have to assume that the puzzle inputs will always lead to a a single line out output for this process.\n",
    "\n",
    "For each column index, calculate the threshold, determine if the `'1'` count is high enough, filter the lines based on the column value and and repeat until there is a single line left. Only then do we need to convert from string of binary digits to a number."
   ]
  },
  {
   "cell_type": "code",
   "execution_count": 3,
   "metadata": {},
   "outputs": [],
   "source": [
    "def life_support_rating(report: list[str]) -> int:\n",
    "    width = len(report[0])\n",
    "    \n",
    "    def reduce(lines: list[str], filter_on='01') -> int:\n",
    "        for k in range(width):\n",
    "            threshold = (len(lines) + 1) // 2\n",
    "            one_most_common = sum(line[k] == '1' for line in lines) >= threshold\n",
    "            lines = [line for line in lines if line[k] == filter_on[one_most_common]]\n",
    "            if len(lines) == 1:\n",
    "                return int(lines[0], 2)\n",
    "    \n",
    "    oxygen_generator_rating = reduce(report)\n",
    "    co2_scrubber_rating = reduce(report, filter_on=\"10\")\n",
    "    return oxygen_generator_rating * co2_scrubber_rating\n",
    "\n",
    "assert life_support_rating(test_report) == 230"
   ]
  },
  {
   "cell_type": "code",
   "execution_count": 4,
   "metadata": {},
   "outputs": [
    {
     "name": "stdout",
     "output_type": "stream",
     "text": [
      "Part 2: 4636702\n"
     ]
    }
   ],
   "source": [
    "print(\"Part 2:\", life_support_rating(diagnostic_report))"
   ]
  }
 ],
 "metadata": {
  "interpreter": {
   "hash": "8bb5fd587ebf4d90f905285c44a569046664a8863ee065ff2dd968491b671e06"
  },
  "kernelspec": {
   "display_name": "Python 3.10.0 64-bit ('adventofcode-mOkh6lsX': pipenv)",
   "language": "python",
   "name": "python3"
  },
  "language_info": {
   "codemirror_mode": {
    "name": "ipython",
    "version": 3
   },
   "file_extension": ".py",
   "mimetype": "text/x-python",
   "name": "python",
   "nbconvert_exporter": "python",
   "pygments_lexer": "ipython3",
   "version": "3.10.0"
  },
  "orig_nbformat": 4
 },
 "nbformat": 4,
 "nbformat_minor": 2
}
