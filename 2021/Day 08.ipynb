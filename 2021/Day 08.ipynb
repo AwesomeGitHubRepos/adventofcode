{
 "cells": [
  {
   "cell_type": "markdown",
   "metadata": {},
   "source": [
    "# Unscrambling crossed signals\n",
    "\n",
    "* <https://adventofcode.com/2021/day/8>\n",
    "\n",
    "This one is much easier than it may look, as there are only 36 different possible ways to match a given set of crossed wires to a 7-segment display: the signals for 1, 4, 7 and 8 are unambiguous, and there remaining numbers come in two groups of 3 (2, 3 and 5 light up 5 segments, and 0, 6 and 9 light up 6), so there are only $3! \\times 3!$ possible ways to match wires to the segmented display. And sorting out which of those 36 options is actually rather easy.\n",
    "\n",
    "Our first task, however, is simply to count the number of 1s, 4s, 7s and 8s in the outputs, so simply a job of counting lengths and summing the lengths for 2 (a 1), 3 (a 7), 4 (a 4) and 7 (an 8)."
   ]
  },
  {
   "cell_type": "code",
   "execution_count": 1,
   "metadata": {},
   "outputs": [],
   "source": [
    "from collections import Counter\n",
    "\n",
    "\n",
    "def count_1478(lines: list[str]) -> int:\n",
    "    lengths = Counter()\n",
    "    for line in lines:\n",
    "        output = line.partition(\"|\")[-1]\n",
    "        lengths += Counter(len(num) for num in output.split())\n",
    "    return lengths[2] + lengths[3] + lengths[4] + lengths[7]\n",
    "\n",
    "\n",
    "test_notes = \"\"\"\\\n",
    "be cfbegad cbdgef fgaecd cgeb fdcge agebfd fecdb fabcd edb | fdgacbe cefdb cefbgd gcbe\n",
    "edbfga begcd cbg gc gcadebf fbgde acbgfd abcde gfcbed gfec | fcgedb cgb dgebacf gc\n",
    "fgaebd cg bdaec gdafb agbcfd gdcbef bgcad gfac gcb cdgabef | cg cg fdcagb cbg\n",
    "fbegcd cbd adcefb dageb afcb bc aefdc ecdab fgdeca fcdbega | efabcd cedba gadfec cb\n",
    "aecbfdg fbg gf bafeg dbefa fcge gcbea fcaegb dgceab fcbdga | gecf egdcabf bgf bfgea\n",
    "fgeab ca afcebg bdacfeg cfaedg gcfdb baec bfadeg bafgc acf | gebdcfa ecba ca fadegcb\n",
    "dbcfg fgd bdegcaf fgec aegbdf ecdfab fbedc dacgb gdcebf gf | cefg dcbef fcge gbcadfe\n",
    "bdfegc cbegaf gecbf dfcage bdacg ed bedf ced adcbefg gebcd | ed bcgafe cdgba cbgef\n",
    "egadfb cdbfeg cegd fecab cgb gbdefca cg fgcdab egfdb bfceg | gbdfcae bgc cg cgb\n",
    "gcafb gcf dcaebfg ecagb gf abcdeg gaef cafbge fdbac fegbdc | fgae cfgab fg bagce\n",
    "\"\"\".splitlines()\n",
    "assert count_1478(test_notes) == 26\n"
   ]
  },
  {
   "cell_type": "code",
   "execution_count": 2,
   "metadata": {},
   "outputs": [
    {
     "name": "stdout",
     "output_type": "stream",
     "text": [
      "Part 1: 362\n"
     ]
    }
   ],
   "source": [
    "import aocd\n",
    "\n",
    "notes = aocd.get_data(day=8, year=2021).splitlines()\n",
    "print(\"Part 1:\", count_1478(notes))\n"
   ]
  },
  {
   "cell_type": "markdown",
   "metadata": {},
   "source": [
    "# Decoding the signals\n",
    "\n",
    "Now, for the real work of decoding the signals. There are two different ways you could go about this.\n",
    "\n",
    "## Logical deduction\n",
    "\n",
    "First, we could use logical deduction to figure out what pattern maps to what digit. We already know what patterns map to 1, 4, 7 and 8. We can use the first three of those to find the rest.\n",
    "\n",
    "- The signal for 1 gives us two possibilities for the right-hand side segments of the display.\n",
    "- The signal for 7 shares those two segments and adds one more, so we know that the 3rd is the top segment.\n",
    "- The segments for 4 share two with the display for 1: the middle horizontal segment and the top left vertical segment.\n",
    "\n",
    "Now look at the segments for the numbers 2, 3 and 5. I've marked the segments shared with the 1, 4 and 7 number in green:\n",
    "\n",
    "<pre><code>\n",
    "  2:      3:      5:\n",
    " <span style=\"color: green\">aaaa    aaaa    aaaa</span>\n",
    ".    <span style=\"color: green\">c</span>  .    <span style=\"color: green\">c  b</span>    .\n",
    ".    <span style=\"color: green\">c</span>  .    <span style=\"color: green\">c  b</span>    .\n",
    " <span style=\"color: green\">dddd    dddd    dddd</span>\n",
    "e    .  .    <span style=\"color: green\">f</span>  .    <span style=\"color: green\">f</span>\n",
    "e    .  .    <span style=\"color: green\">f</span>  .    <span style=\"color: green\">f</span>\n",
    " gggg    gggg    gggg\n",
    "</code></pre>\n",
    "\n",
    "Of these three, the 5 display shares the segments for `1`, `4` and `7` with only _one_ segment from `1` and `7` missing, and it adds the bottom segment. We already know what segment is the top (`a` in the above rendering), and what two signals will light up the top left and middle segments (`b` and `d`), as those are the two segments in the `4` display that the `1` display doesn't share. That leaves the two segments from the `1` display, one of which will be part of this display for a `5`. Just one of the input signals will match that combination, as the 2 and 3 have other overlap with those 3 inputs. Finding which of the two lets us nail down the exact combination for the right-hand side segments, as well as figure out what signal lights up the bottom segment. We can do the same trick with the display for 3 and the 2 unique segments in the number 4, after which the only remaining segment to deduce is the bottom right.\n",
    "\n",
    "You can make the above decuctions using sets; the unique segments for 4 and 7 are found by removing the segments for the number 1, etc.\n",
    "\n",
    "## Generating all possible signal patterns\n",
    "\n",
    "Another approach would be to just generate all possible combinations of signals. There are 7 segments, so there are $7!$ or 5040 possible arrangemnts of segment signals, something we can trivially generate up front. Put these into a dictionary where the keys are a (frozen, immutable) set of the 10 different signal patterns, and the value is another dictionary mapping each signal pattern to the right digit. The segment signals themselves are the 7 segment letters as (frozen) sets. Use a `frozenset()` for these so they can be used as keys in the dictionaries.\n",
    "\n",
    "Note that with this approach we don't even need to know what letter maps to what segment in the display! Any segment ordering from the specific permutation is encoded in the 10 unique `frozenset` patterns and not stored separately.\n",
    "\n",
    "I picked the latter option; it's trivial and fast, giving us the answer in $O(n)$ time.\n"
   ]
  },
  {
   "cell_type": "code",
   "execution_count": 3,
   "metadata": {},
   "outputs": [],
   "source": [
    "from __future__ import annotations\n",
    "\n",
    "from itertools import permutations\n",
    "from typing import Final, Iterable, Literal\n",
    "\n",
    "\n",
    "SEGMENT = Literal[\"abcdefg\"]\n",
    "SEGMENT_PATTERN = frozenset[SEGMENT]  #           length between 2 and 7\n",
    "SEGMENT_MAP = dict[SEGMENT_PATTERN, int]  #       always length 10\n",
    "OBSERVED_PATTERNS = frozenset[SEGMENT_PATTERN]  # always length 10\n",
    "\n",
    "# segments used for each digit, as indices\n",
    "DIGIT_SEGMENTS: Final[tuple[tuple[int]]] = (\n",
    "    (0, 1, 2, 4, 5, 6),  #    0\n",
    "    (2, 5),  #                1\n",
    "    (0, 2, 3, 4, 6),  #       2\n",
    "    (0, 2, 3, 5, 6),  #       3\n",
    "    (1, 2, 3, 5),  #          4\n",
    "    (0, 1, 3, 5, 6),  #       5\n",
    "    (0, 1, 3, 4, 5, 6),  #    6\n",
    "    (0, 2, 5),  #             7\n",
    "    (0, 1, 2, 3, 4, 5, 6),  # 8\n",
    "    (0, 1, 2, 3, 5, 6),  #    9\n",
    ")\n",
    "SEGMENTS: Final[str] = \"abcdefg\"\n",
    "\n",
    "\n",
    "def segmentmap_for_permutation(combo: tuple[SEGMENT]) -> SEGMENT_MAP:\n",
    "    \"\"\"Generate the segments-to-digits map for a given permunation of abcdefg\"\"\"\n",
    "    return {\n",
    "        frozenset(combo[seg] for seg in segs): digit\n",
    "        for digit, segs in enumerate(DIGIT_SEGMENTS)\n",
    "    }\n",
    "\n",
    "\n",
    "SIGNAL_COMBINATIONS: Final[dict[OBSERVED_PATTERNS, SEGMENT_MAP]] = {\n",
    "    frozenset(segmap): segmap\n",
    "    for segmap in map(segmentmap_for_permutation, permutations(SEGMENTS))\n",
    "}\n",
    "\n",
    "\n",
    "def decode_notes(notes: list[str]) -> Iterable[int]:\n",
    "    for line in notes:\n",
    "        patterns, _, numbers = line.partition(\"|\")\n",
    "        observed_patterns = frozenset(frozenset(sig) for sig in patterns.split())\n",
    "        segment_map = SIGNAL_COMBINATIONS[observed_patterns]\n",
    "        displayed = 0\n",
    "        for segments in numbers.split():\n",
    "            displayed = displayed * 10 + segment_map[frozenset(segments)]\n",
    "        yield displayed\n",
    "\n",
    "\n",
    "test_note = (\n",
    "    \"acedgfb cdfbe gcdfa fbcad dab cefabd cdfgeb eafb cagedb ab | \"\n",
    "    \"cdfeb fcadb cdfeb cdbaf\"\n",
    ")\n",
    "assert next(decode_notes([test_note])) == 5353\n",
    "\n",
    "assert sum(decode_notes(test_notes)) == 61229\n"
   ]
  },
  {
   "cell_type": "code",
   "execution_count": 4,
   "metadata": {},
   "outputs": [
    {
     "name": "stdout",
     "output_type": "stream",
     "text": [
      "Part 2: 1020159\n"
     ]
    }
   ],
   "source": [
    "print(\"Part 2:\", sum(decode_notes(notes)))\n"
   ]
  },
  {
   "cell_type": "code",
   "execution_count": 5,
   "metadata": {},
   "outputs": [],
   "source": [
    "import time\n",
    "from secrets import token_hex\n",
    "from typing import Any\n",
    "\n",
    "import IPython.display as display\n",
    "\n",
    "\n",
    "# SVG template, for a single digit display.\n",
    "SEGMENT_SVG = \"\"\"\\\n",
    "<?xml version=\"1.0\" encoding=\"UTF-8\"?>\n",
    "<svg xmlns=\"http://www.w3.org/2000/svg\" xmlns:xlink=\"http://www.w3.org/1999/xlink\"\n",
    "height=\"100\" viewBox=\"0 0 {vbwidth} 20\"\n",
    "stroke=\"#FFF\" stroke-width=\".25\" fill=\"#F00\">\n",
    "<defs><path id=\"h\" d=\"m2 2 1 1h6l1-1 -1-1h-6\"/>\n",
    "<path id=\"v\" d=\"m2 2-1 1v6l1 1 1-1v-6\"/></defs>\n",
    "<symbol id=\"bg\" fill=\"#DDD\"><use id=\"a\" xlink:href=\"#h\"/><use id=\"b\" xlink:href=\"#v\"/>\n",
    "<use id=\"c\" xlink:href=\"#v\" x=\"8\"/><use id=\"d\" xlink:href=\"#h\" y=\"8\"/>\n",
    "<use id=\"e\" xlink:href=\"#v\" y=\"8\"/><use id=\"f\" xlink:href=\"#v\" x=\"8\" y=\"8\"/>\n",
    "<use id=\"g\" xlink:href=\"#h\" y=\"16\"/></symbol>\n",
    "<symbol id=\"d1\"><use xlink:href=\"#bg\"/><use xlink:href=\"#c\"/>\n",
    "<use xlink:href=\"#f\"/></symbol>\n",
    "<symbol id=\"d7\"><use xlink:href=\"#d1\"/><use xlink:href=\"#a\"/></symbol>\n",
    "<symbol id=\"d0\"><use xlink:href=\"#d7\"/><use xlink:href=\"#b\"/><use xlink:href=\"#e\"/>\n",
    "<use xlink:href=\"#g\"/></symbol>\n",
    "<symbol id=\"d2\"><use xlink:href=\"#bg\"/><use xlink:href=\"#a\"/><use xlink:href=\"#c\"/>\n",
    "<use xlink:href=\"#d\"/><use xlink:href=\"#e\"/><use xlink:href=\"#g\"/></symbol>\n",
    "<symbol id=\"d3\"><use xlink:href=\"#d7\"/><use xlink:href=\"#d\"/><use xlink:href=\"#g\"/>\n",
    "</symbol>\n",
    "<symbol id=\"d4\"><use xlink:href=\"#bg\"/><use xlink:href=\"#b\"/><use xlink:href=\"#c\"/>\n",
    "<use xlink:href=\"#d\"/><use xlink:href=\"#f\"/></symbol>\n",
    "<symbol id=\"d5\"><use xlink:href=\"#bg\"/><use xlink:href=\"#a\"/><use xlink:href=\"#b\"/>\n",
    "<use xlink:href=\"#d\"/><use xlink:href=\"#f\"/><use xlink:href=\"#g\"/></symbol>\n",
    "<symbol id=\"d6\"><use xlink:href=\"#d5\"/><use xlink:href=\"#e\"/></symbol>\n",
    "<symbol id=\"d8\"><use xlink:href=\"#d0\"/><use xlink:href=\"#d\"/></symbol>\n",
    "<symbol id=\"d9\"><use xlink:href=\"#d5\"/><use xlink:href=\"#c\"/></symbol>\n",
    "{digits}\n",
    "</svg>\n",
    "\"\"\"\n",
    "\n",
    "DIGIT_SVG = \"\"\"<use xlink:href=\"#d{digit}\" x=\"{pos}\"/>\"\"\"\n",
    "DIGIT_WIDTH = 12\n",
    "\n",
    "\n",
    "class SevenSegmentNumber(display.DisplayObject):\n",
    "    def __init__(self, digits: int = 1, value: int = 0, metadata: Any = None) -> None:\n",
    "        super().__init__(metadata=metadata)\n",
    "        self._display_id = token_hex(8)\n",
    "        self._digits = digits\n",
    "        self._value = value\n",
    "        self._render_digits()\n",
    "\n",
    "    @property\n",
    "    def value(self) -> int:\n",
    "        return self._value\n",
    "\n",
    "    @value.setter\n",
    "    def value(self, value: int) -> None:\n",
    "        self._value = value\n",
    "        self._render_digits()\n",
    "        self.update()\n",
    "\n",
    "    @property\n",
    "    def digits(self) -> int:\n",
    "        return self._digits\n",
    "\n",
    "    @digits.setter\n",
    "    def digits(self, digits: int) -> None:\n",
    "        self._digits = digits\n",
    "        self._render_digits()\n",
    "        self.update()\n",
    "\n",
    "    def _render_digits(self) -> None:\n",
    "        value, digits = self._value, []\n",
    "        for _ in range(self._digits):\n",
    "            digits.append(value % 10)\n",
    "            value //= 10\n",
    "        digit_svg = [\n",
    "            DIGIT_SVG.format(digit=digit, pos=i * DIGIT_WIDTH)\n",
    "            for i, digit in enumerate(reversed(digits))\n",
    "        ]\n",
    "        self.data = SEGMENT_SVG.format(\n",
    "            vbwidth=DIGIT_WIDTH * self._digits, digits=\"\\n\".join(digit_svg)\n",
    "        )\n",
    "\n",
    "    def _repr_svg_(self):\n",
    "        return self._data_and_metadata()\n",
    "\n",
    "    def display(self):\n",
    "        display.display(self, display_id=self._display_id)\n",
    "\n",
    "    def update(self):\n",
    "        display.display(self, display_id=self._display_id, update=True)\n",
    "        \n",
    "\n",
    "def animate_decoding() -> None:\n",
    "    markdown_text = display.Markdown(\"## &nbsp;\")\n",
    "    text_display = display.display(markdown_text, display_id=token_hex(8))\n",
    "    decoded, total = SevenSegmentNumber(digits=4), SevenSegmentNumber(digits=7)\n",
    "    decoded.display()\n",
    "    total.display()\n",
    "    for i, (note, value) in enumerate(zip(notes, decode_notes(notes), strict=True), 1):\n",
    "        message = f\"## {i} / {len(notes)}: `{note.partition('|')[0].strip()}`\"\n",
    "        markdown_text.data = message\n",
    "        text_display.update(markdown_text)\n",
    "        decoded.value = value\n",
    "        total.value += value\n",
    "        time.sleep(0.20)"
   ]
  },
  {
   "cell_type": "markdown",
   "metadata": {},
   "source": [
    "# Animation\n",
    "\n",
    "Here's a little animation that plays in the notebook, showing the numbers being 'decoded' with the running total:"
   ]
  },
  {
   "cell_type": "code",
   "execution_count": 7,
   "metadata": {},
   "outputs": [
    {
     "data": {
      "text/markdown": [
       "## 51 / 200: `dcefabg bfaed feg ebgfa eg egad cgdebf cgfab degbfa acdefb`"
      ],
      "text/plain": [
       "<IPython.core.display.Markdown object>"
      ]
     },
     "metadata": {},
     "output_type": "display_data"
    },
    {
     "data": {
      "image/svg+xml": "<?xml version=\"1.0\" encoding=\"UTF-8\"?>\n<svg xmlns=\"http://www.w3.org/2000/svg\" xmlns:xlink=\"http://www.w3.org/1999/xlink\"\nheight=\"100\" viewBox=\"0 0 48 20\"\nstroke=\"#FFF\" stroke-width=\".25\" fill=\"#F00\">\n<defs><path id=\"h\" d=\"m2 2 1 1h6l1-1 -1-1h-6\"/>\n<path id=\"v\" d=\"m2 2-1 1v6l1 1 1-1v-6\"/></defs>\n<symbol id=\"bg\" fill=\"#DDD\"><use id=\"a\" xlink:href=\"#h\"/><use id=\"b\" xlink:href=\"#v\"/>\n<use id=\"c\" xlink:href=\"#v\" x=\"8\"/><use id=\"d\" xlink:href=\"#h\" y=\"8\"/>\n<use id=\"e\" xlink:href=\"#v\" y=\"8\"/><use id=\"f\" xlink:href=\"#v\" x=\"8\" y=\"8\"/>\n<use id=\"g\" xlink:href=\"#h\" y=\"16\"/></symbol>\n<symbol id=\"d1\"><use xlink:href=\"#bg\"/><use xlink:href=\"#c\"/>\n<use xlink:href=\"#f\"/></symbol>\n<symbol id=\"d7\"><use xlink:href=\"#d1\"/><use xlink:href=\"#a\"/></symbol>\n<symbol id=\"d0\"><use xlink:href=\"#d7\"/><use xlink:href=\"#b\"/><use xlink:href=\"#e\"/>\n<use xlink:href=\"#g\"/></symbol>\n<symbol id=\"d2\"><use xlink:href=\"#bg\"/><use xlink:href=\"#a\"/><use xlink:href=\"#c\"/>\n<use xlink:href=\"#d\"/><use xlink:href=\"#e\"/><use xlink:href=\"#g\"/></symbol>\n<symbol id=\"d3\"><use xlink:href=\"#d7\"/><use xlink:href=\"#d\"/><use xlink:href=\"#g\"/>\n</symbol>\n<symbol id=\"d4\"><use xlink:href=\"#bg\"/><use xlink:href=\"#b\"/><use xlink:href=\"#c\"/>\n<use xlink:href=\"#d\"/><use xlink:href=\"#f\"/></symbol>\n<symbol id=\"d5\"><use xlink:href=\"#bg\"/><use xlink:href=\"#a\"/><use xlink:href=\"#b\"/>\n<use xlink:href=\"#d\"/><use xlink:href=\"#f\"/><use xlink:href=\"#g\"/></symbol>\n<symbol id=\"d6\"><use xlink:href=\"#d5\"/><use xlink:href=\"#e\"/></symbol>\n<symbol id=\"d8\"><use xlink:href=\"#d0\"/><use xlink:href=\"#d\"/></symbol>\n<symbol id=\"d9\"><use xlink:href=\"#d5\"/><use xlink:href=\"#c\"/></symbol>\n<use xlink:href=\"#d8\" x=\"0\"/>\n<use xlink:href=\"#d6\" x=\"12\"/>\n<use xlink:href=\"#d7\" x=\"24\"/>\n<use xlink:href=\"#d7\" x=\"36\"/>\n</svg>\n",
      "text/plain": [
       "<__main__.SevenSegmentNumber object>"
      ]
     },
     "metadata": {},
     "output_type": "display_data"
    },
    {
     "data": {
      "image/svg+xml": "<?xml version=\"1.0\" encoding=\"UTF-8\"?>\n<svg xmlns=\"http://www.w3.org/2000/svg\" xmlns:xlink=\"http://www.w3.org/1999/xlink\"\nheight=\"100\" viewBox=\"0 0 84 20\"\nstroke=\"#FFF\" stroke-width=\".25\" fill=\"#F00\">\n<defs><path id=\"h\" d=\"m2 2 1 1h6l1-1 -1-1h-6\"/>\n<path id=\"v\" d=\"m2 2-1 1v6l1 1 1-1v-6\"/></defs>\n<symbol id=\"bg\" fill=\"#DDD\"><use id=\"a\" xlink:href=\"#h\"/><use id=\"b\" xlink:href=\"#v\"/>\n<use id=\"c\" xlink:href=\"#v\" x=\"8\"/><use id=\"d\" xlink:href=\"#h\" y=\"8\"/>\n<use id=\"e\" xlink:href=\"#v\" y=\"8\"/><use id=\"f\" xlink:href=\"#v\" x=\"8\" y=\"8\"/>\n<use id=\"g\" xlink:href=\"#h\" y=\"16\"/></symbol>\n<symbol id=\"d1\"><use xlink:href=\"#bg\"/><use xlink:href=\"#c\"/>\n<use xlink:href=\"#f\"/></symbol>\n<symbol id=\"d7\"><use xlink:href=\"#d1\"/><use xlink:href=\"#a\"/></symbol>\n<symbol id=\"d0\"><use xlink:href=\"#d7\"/><use xlink:href=\"#b\"/><use xlink:href=\"#e\"/>\n<use xlink:href=\"#g\"/></symbol>\n<symbol id=\"d2\"><use xlink:href=\"#bg\"/><use xlink:href=\"#a\"/><use xlink:href=\"#c\"/>\n<use xlink:href=\"#d\"/><use xlink:href=\"#e\"/><use xlink:href=\"#g\"/></symbol>\n<symbol id=\"d3\"><use xlink:href=\"#d7\"/><use xlink:href=\"#d\"/><use xlink:href=\"#g\"/>\n</symbol>\n<symbol id=\"d4\"><use xlink:href=\"#bg\"/><use xlink:href=\"#b\"/><use xlink:href=\"#c\"/>\n<use xlink:href=\"#d\"/><use xlink:href=\"#f\"/></symbol>\n<symbol id=\"d5\"><use xlink:href=\"#bg\"/><use xlink:href=\"#a\"/><use xlink:href=\"#b\"/>\n<use xlink:href=\"#d\"/><use xlink:href=\"#f\"/><use xlink:href=\"#g\"/></symbol>\n<symbol id=\"d6\"><use xlink:href=\"#d5\"/><use xlink:href=\"#e\"/></symbol>\n<symbol id=\"d8\"><use xlink:href=\"#d0\"/><use xlink:href=\"#d\"/></symbol>\n<symbol id=\"d9\"><use xlink:href=\"#d5\"/><use xlink:href=\"#c\"/></symbol>\n<use xlink:href=\"#d0\" x=\"0\"/>\n<use xlink:href=\"#d2\" x=\"12\"/>\n<use xlink:href=\"#d8\" x=\"24\"/>\n<use xlink:href=\"#d3\" x=\"36\"/>\n<use xlink:href=\"#d3\" x=\"48\"/>\n<use xlink:href=\"#d7\" x=\"60\"/>\n<use xlink:href=\"#d3\" x=\"72\"/>\n</svg>\n",
      "text/plain": [
       "<__main__.SevenSegmentNumber object>"
      ]
     },
     "metadata": {},
     "output_type": "display_data"
    }
   ],
   "source": [
    "animate_decoding()"
   ]
  }
 ],
 "metadata": {
  "interpreter": {
   "hash": "b1b6870d1e0a983b1943c858d70ac8a7c80477f9f3ca364eb8daa198319a8a87"
  },
  "kernelspec": {
   "display_name": "Python 3.10.0 64-bit ('adventofcode-mOkh6lsX': pipenv)",
   "language": "python",
   "name": "python3"
  },
  "language_info": {
   "codemirror_mode": {
    "name": "ipython",
    "version": 3
   },
   "file_extension": ".py",
   "mimetype": "text/x-python",
   "name": "python",
   "nbconvert_exporter": "python",
   "pygments_lexer": "ipython3",
   "version": "3.10.0"
  },
  "orig_nbformat": 4
 },
 "nbformat": 4,
 "nbformat_minor": 2
}
