{
 "cells": [
  {
   "cell_type": "markdown",
   "metadata": {},
   "source": [
    "# A\\* search\n",
    "\n",
    "- <https://adventofcode.com/2021/day/15>\n",
    "\n",
    "Part 1 is a straight-forward A\\* search problem.\n"
   ]
  },
  {
   "cell_type": "code",
   "execution_count": 1,
   "metadata": {},
   "outputs": [],
   "source": [
    "from __future__ import annotations\n",
    "\n",
    "from dataclasses import dataclass, replace\n",
    "from heapq import heappop, heappush\n",
    "from itertools import count\n",
    "from typing import Iterator, TypeAlias\n",
    "\n",
    "Pos: TypeAlias = tuple[int, int]\n",
    "\n",
    "\n",
    "@dataclass(frozen=True)\n",
    "class Node:\n",
    "    \"\"\"Node on the A* search graph\"\"\"\n",
    "\n",
    "    x: int = 0\n",
    "    y: int = 0\n",
    "    risk: int = 0\n",
    "\n",
    "    @property\n",
    "    def pos(self) -> Pos:\n",
    "        return self.x, self.y\n",
    "\n",
    "    def cost(self, target: Pos) -> int:\n",
    "        \"\"\"Calculate the cost for this node, f(n) = g(n) + h(n)\n",
    "\n",
    "        The cost of this node is the total risk encounterd (g) plus\n",
    "        estimated cost to get to end goal (h).\n",
    "\n",
    "        Here we use the manhattan distance to the target as\n",
    "        the estimated cost.\n",
    "\n",
    "        \"\"\"\n",
    "        return self.risk + abs(target[0] - self.x) + abs(target[1] - self.y)\n",
    "\n",
    "    def transitions(self, cavern: Cavern) -> Iterator[Node]:\n",
    "        positions = (\n",
    "            (self.x + dx, self.y + dy) for dx, dy in ((-1, 0), (0, -1), (0, 1), (1, 0))\n",
    "        )\n",
    "        yield from (\n",
    "            replace(self, x=x, y=y, risk=self.risk + cavern[x, y])\n",
    "            for x, y in positions\n",
    "            if (x, y) in cavern\n",
    "        )\n",
    "\n",
    "\n",
    "class Cavern:\n",
    "    def __init__(self, map: list[str]) -> None:\n",
    "        self._height = len(map)\n",
    "        self._width = len(map[0])\n",
    "        self._matrix = [[int(c) for c in row] for row in map]\n",
    "        self.target = (self._width - 1, self._height - 1)\n",
    "\n",
    "    def __getitem__(self, pos: Pos) -> int:\n",
    "        x, y = pos\n",
    "        return self._matrix[y][x]\n",
    "\n",
    "    def __contains__(self, pos: Pos) -> bool:\n",
    "        x, y = pos\n",
    "        return 0 <= x < self._width and 0 <= y < self._height\n",
    "\n",
    "    def __str__(self) -> str:\n",
    "        return \"\\n\".join([\"\".join([str(r) for r in row]) for row in self._matrix])\n",
    "\n",
    "    def lowest_total_risk(self) -> int:\n",
    "        start = Node()\n",
    "        open = {start}\n",
    "        unique = count()  # tie breaker when costs are equal\n",
    "        pqueue = [(start.cost(self.target), next(unique), start)]\n",
    "        closed = set()\n",
    "        risks = {start.pos: start.risk}  # pos -> risk. Ignore nodes that took more risk\n",
    "        while open:\n",
    "            node = heappop(pqueue)[-1]\n",
    "\n",
    "            if node.pos == self.target:\n",
    "                return node.risk\n",
    "\n",
    "            open.remove(node)\n",
    "            closed.add(node)\n",
    "            for new in node.transitions(self):\n",
    "                if new in closed or new in open:\n",
    "                    continue\n",
    "                if risks.get(new.pos, float(\"inf\")) < new.risk:\n",
    "                    continue\n",
    "                risks[new.pos] = new.risk\n",
    "                open.add(new)\n",
    "                heappush(pqueue, (new.cost(self.target), next(unique), new))\n",
    "\n",
    "\n",
    "test_cavern_map = \"\"\"\\\n",
    "1163751742\n",
    "1381373672\n",
    "2136511328\n",
    "3694931569\n",
    "7463417111\n",
    "1319128137\n",
    "1359912421\n",
    "3125421639\n",
    "1293138521\n",
    "2311944581\n",
    "\"\"\".splitlines()\n",
    "test_cavern = Cavern(test_cavern_map)\n",
    "assert test_cavern.lowest_total_risk() == 40"
   ]
  },
  {
   "cell_type": "code",
   "execution_count": 2,
   "metadata": {},
   "outputs": [
    {
     "name": "stdout",
     "output_type": "stream",
     "text": [
      "Part 1: 503\n"
     ]
    }
   ],
   "source": [
    "import aocd\n",
    "\n",
    "cavern_map = aocd.get_data(day=15, year=2021).splitlines()\n",
    "cavern = Cavern(cavern_map)\n",
    "print(\"Part 1:\", cavern.lowest_total_risk())"
   ]
  },
  {
   "cell_type": "markdown",
   "metadata": {},
   "source": [
    "# Part 2: scale up the map\n",
    "\n",
    "Part two tests if your A\\* search can handle a larger map.\n"
   ]
  },
  {
   "cell_type": "code",
   "execution_count": 3,
   "metadata": {},
   "outputs": [],
   "source": [
    "from itertools import product\n",
    "\n",
    "\n",
    "class LargeCavern(Cavern):\n",
    "    def __init__(self, map: list[str]) -> None:\n",
    "        super().__init__(map)\n",
    "        source = self._matrix\n",
    "        self._matrix = [\n",
    "            [\n",
    "                (source[y][x] + dx + dy - 1) % 9 + 1\n",
    "                for dx, x in product(range(5), range(self._width))\n",
    "            ]\n",
    "            for dy, y in product(range(5), range(self._height))\n",
    "        ]\n",
    "        self._width *= 5\n",
    "        self._height *= 5\n",
    "        self.target = (self._width - 1, self._height - 1)\n",
    "\n",
    "\n",
    "test_large_cavern = LargeCavern(test_cavern_map)\n",
    "assert test_large_cavern.lowest_total_risk() == 315"
   ]
  },
  {
   "cell_type": "code",
   "execution_count": 4,
   "metadata": {},
   "outputs": [
    {
     "name": "stdout",
     "output_type": "stream",
     "text": [
      "Part 2: 2853\n"
     ]
    }
   ],
   "source": [
    "larger_cavern = LargeCavern(cavern_map)\n",
    "print(\"Part 2:\", larger_cavern.lowest_total_risk())"
   ]
  }
 ],
 "metadata": {
  "interpreter": {
   "hash": "8bb5fd587ebf4d90f905285c44a569046664a8863ee065ff2dd968491b671e06"
  },
  "kernelspec": {
   "display_name": "Python 3.10.0 64-bit ('adventofcode-mOkh6lsX': pipenv)",
   "language": "python",
   "name": "python3"
  },
  "language_info": {
   "codemirror_mode": {
    "name": "ipython",
    "version": 3
   },
   "file_extension": ".py",
   "mimetype": "text/x-python",
   "name": "python",
   "nbconvert_exporter": "python",
   "pygments_lexer": "ipython3",
   "version": "3.12.0"
  },
  "orig_nbformat": 4
 },
 "nbformat": 4,
 "nbformat_minor": 2
}
