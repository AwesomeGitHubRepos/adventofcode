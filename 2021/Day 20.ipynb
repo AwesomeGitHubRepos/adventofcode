{
 "cells": [
  {
   "cell_type": "markdown",
   "metadata": {},
   "source": [
    "# Indexed cellular automation\n"
   ]
  },
  {
   "cell_type": "code",
   "execution_count": 1,
   "metadata": {},
   "outputs": [],
   "source": [
    "from __future__ import annotations\n",
    "from dataclasses import dataclass\n",
    "from itertools import chain, cycle, islice, repeat\n",
    "from typing import Final, Iterator\n",
    "\n",
    "import numpy as np\n",
    "from scipy.signal import convolve2d\n",
    "\n",
    "\n",
    "KERNEL: Final[np.array] = 2 ** np.arange(9, dtype=np.uint16).reshape(3, 3)\n",
    "\n",
    "\n",
    "@dataclass\n",
    "class ImageEnhancer:\n",
    "    image: np.array[bool]\n",
    "    algorithm: np.array[bool]\n",
    "\n",
    "    @classmethod\n",
    "    def from_scanner(cls, lines: str) -> ImageEnhancer:\n",
    "        algo, _, image = lines.partition(\"\\n\\n\")\n",
    "\n",
    "        return cls(\n",
    "            np.array([[c == \"#\" for c in line] for line in image.splitlines()]),\n",
    "            np.array([c == \"#\" for c in algo]),\n",
    "        )\n",
    "\n",
    "    @property\n",
    "    def edge_fill(self) -> Iterator[bool]:\n",
    "        blank, full = self.algorithm[[0, -1]]\n",
    "        if not blank:\n",
    "            return repeat(False)\n",
    "        if not full:\n",
    "            return cycle((False, True))\n",
    "        return chain((False,), repeat(True))\n",
    "\n",
    "    def enhance(self, steps: int) -> np.array[bool]:\n",
    "        img, algo = self.image, self.algorithm\n",
    "        for edge in islice(self.edge_fill, steps):\n",
    "            img = algo[convolve2d(img, KERNEL, fillvalue=edge)]\n",
    "        return img\n",
    "\n",
    "\n",
    "test_image = ImageEnhancer.from_scanner(\n",
    "    \"\"\"\\\n",
    "..#.#..#####.#.#.#.###.##.....###.##.#..###.####..#####..#....#..#..##..##\\\n",
    "#..######.###...####..#..#####..##..#.#####...##.#.#..#.##..#.#......#.###\\\n",
    ".######.###.####...#.##.##..#..#..#####.....#.#....###..#.##......#.....#.\\\n",
    ".#..#..##..#...##.######.####.####.#.#...#.......#..#.#.#...####.##.#.....\\\n",
    ".#..#...##.#.##..#...##.#.##..###.#......#.#.......#.#.#.####.###.##...#..\\\n",
    "...####.#..#..#.##.#....##..#.####....##...##..#...#......#.#.......#.....\\\n",
    "..##..####..#...#.#.#...##..#.#..###..#####........#..####......#..#\n",
    "\n",
    "#..#.\\n#....\\n##..#\\n..#..\\n..###\n",
    "\"\"\"\n",
    ")\n",
    "\n",
    "assert test_image.enhance(2).sum() == 35\n"
   ]
  },
  {
   "cell_type": "code",
   "execution_count": 2,
   "metadata": {},
   "outputs": [
    {
     "name": "stdout",
     "output_type": "stream",
     "text": [
      "Part 1: 5275\n"
     ]
    }
   ],
   "source": [
    "import aocd\n",
    "\n",
    "scanned_image = ImageEnhancer.from_scanner(aocd.get_data(day=20, year=2021))\n",
    "print(\"Part 1:\", scanned_image.enhance(2).sum())\n"
   ]
  },
  {
   "cell_type": "code",
   "execution_count": 3,
   "metadata": {},
   "outputs": [],
   "source": [
    "assert test_image.enhance(50).sum() == 3351\n"
   ]
  },
  {
   "cell_type": "code",
   "execution_count": 4,
   "metadata": {},
   "outputs": [
    {
     "name": "stdout",
     "output_type": "stream",
     "text": [
      "Part 2: 16482\n"
     ]
    }
   ],
   "source": [
    "print(\"Part 2:\", scanned_image.enhance(50).sum())\n"
   ]
  }
 ],
 "metadata": {
  "interpreter": {
   "hash": "8bb5fd587ebf4d90f905285c44a569046664a8863ee065ff2dd968491b671e06"
  },
  "kernelspec": {
   "display_name": "Python 3.10.0 64-bit ('adventofcode-mOkh6lsX': pipenv)",
   "language": "python",
   "name": "python3"
  },
  "language_info": {
   "codemirror_mode": {
    "name": "ipython",
    "version": 3
   },
   "file_extension": ".py",
   "mimetype": "text/x-python",
   "name": "python",
   "nbconvert_exporter": "python",
   "pygments_lexer": "ipython3",
   "version": "3.10.0"
  },
  "orig_nbformat": 4
 },
 "nbformat": 4,
 "nbformat_minor": 2
}
