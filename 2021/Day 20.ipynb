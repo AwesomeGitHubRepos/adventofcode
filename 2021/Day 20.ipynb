{
 "cells": [
  {
   "cell_type": "code",
   "execution_count": null,
   "metadata": {},
   "outputs": [],
   "source": []
  },
  {
   "cell_type": "code",
   "execution_count": null,
   "metadata": {},
   "outputs": [],
   "source": []
  },
  {
   "cell_type": "markdown",
   "metadata": {},
   "source": [
    "# Indexed cellular automation\n",
    "\n",
    "- <https://adventofcode.com/2021/day/20>\n",
    "\n",
    "This is another cellular automaton problem, one where [`scipy.signal.convolve2d()`](https://docs.scipy.org/doc/scipy/reference/generated/scipy.signal.convolve2d.html) really shines!\n",
    "\n",
    "For each 3x3 set of cells in the input image (matrix), you basically turn the pixels into a binary number, the value of which is an index into the 'algorithm' array of the puzzle input. Since `convolve2d` essentially uses the input kernel as a set of weights to sum for each pixel in the image that is on, we only have to give the kernel the right weights for each binary digit in that number; $2^0$ for the first, $2^1$ for the second, etc.:\n",
    "\n",
    "$$\\begin{bmatrix}2^0 & 2^1 & 2^2\\\\2^3 & 2^4 & 2^5\\\\2^6 & 2^7 & 2^8\\end{bmatrix}$$\n",
    "\n",
    "You can then apply the output of `convolve2d()` directly to the `algorithm` array to get the next iteration of the image.\n",
    "\n",
    "There is one small catch: depending on the values for indices `0` and `511` in the 'algorithm', there are actually 3 different possibilities for what the `fillvalue` should be for the `convolve2d()` call. The `fillvalue` is what convolve2d will use for those cells at the edges of the image, because numpy arrays are not infinite.\n",
    "\n",
    "The first possibility is that the edge is forever 'off'; all image elements outside of the matrix are set to `0`, always. This is the case if `algorithm[0]` is `0` itself, so any random 3x3 set of pixels outside from the 'visible' pixels will always have 9 zeros, the binary value for those pixels will always be zero, and the replacement value in the output is zero. Simple.\n",
    "\n",
    "But there are two other scenarios possible:\n",
    "\n",
    "- `algorithm[0]` is `1` and `algorithm[511]` is `0`. Now, the whole infinite image is going to _flip between states_. The first step sees all empty 3x3 sets of pixels turn to `1` in the output, resulting in an infinity of `111111111` or `511` values, so the next step then turns them all off again by outputing `0`.\n",
    "\n",
    "- `algorithm[0]` is `1` and `algorithm[511]` is also `1`. This means that on the first step the infinite image turns black (outputs `1` for the blank areas), and then it stays there.\n",
    "\n",
    "The second scenario is only theoretically possible, but no Advent of Code puzzle input will ever contain it because then you'd have to have a way to answer 'infinite' to the question 'how many pixels are lit'. Instead, the puzzle _carefully but deliberately_ asks for the number of lit pixels after an even number of steps, when both the first (test) scenario and the second (flip-flopping) scenario would both result in a finite number of lit pixels.\n",
    "\n",
    "In any case, we don't have to track an infinite state, we only have to track what value to give `fillvalue` each step. I created an `edge_fill` property that returns an infinite iterator yielding the right values; either an infinite repetition of `False` (test scenario), an infinite sequence of alternating `False` and `True` values (flip-flopping), or a sequence of a single `False` value followed by an infinity of `True` values (the 3rd, never encountered, scenario).\n"
   ]
  },
  {
   "cell_type": "code",
   "execution_count": 1,
   "metadata": {},
   "outputs": [],
   "source": [
    "from __future__ import annotations\n",
    "from dataclasses import dataclass\n",
    "from itertools import chain, cycle, islice, repeat\n",
    "from typing import Final, Iterator\n",
    "\n",
    "import numpy as np\n",
    "from scipy.signal import convolve2d\n",
    "\n",
    "\n",
    "KERNEL: Final[np.array] = 2 ** np.arange(9, dtype=np.uint16).reshape(3, 3)\n",
    "\n",
    "\n",
    "@dataclass\n",
    "class ImageEnhancer:\n",
    "    image: np.array[bool]\n",
    "    algorithm: np.array[bool]\n",
    "\n",
    "    @classmethod\n",
    "    def from_scanner(cls, lines: str) -> ImageEnhancer:\n",
    "        algo, _, image = lines.partition(\"\\n\\n\")\n",
    "\n",
    "        return cls(\n",
    "            np.array([[c == \"#\" for c in line] for line in image.splitlines()]),\n",
    "            np.array([c == \"#\" for c in algo]),\n",
    "        )\n",
    "\n",
    "    @property\n",
    "    def edge_fill(self) -> Iterator[bool]:\n",
    "        blank, full = self.algorithm[[0, -1]]\n",
    "        if not blank:\n",
    "            return repeat(False)\n",
    "        if not full:\n",
    "            return cycle((False, True))\n",
    "        return chain((False,), repeat(True))\n",
    "\n",
    "    def enhance(self, steps: int) -> np.array[bool]:\n",
    "        img, algo = self.image, self.algorithm\n",
    "        for edge in islice(self.edge_fill, steps):\n",
    "            img = algo[convolve2d(img, KERNEL, fillvalue=edge)]\n",
    "        return img\n",
    "\n",
    "\n",
    "test_image = ImageEnhancer.from_scanner(\n",
    "    \"\"\"\\\n",
    "..#.#..#####.#.#.#.###.##.....###.##.#..###.####..#####..#....#..#..##..##\\\n",
    "#..######.###...####..#..#####..##..#.#####...##.#.#..#.##..#.#......#.###\\\n",
    ".######.###.####...#.##.##..#..#..#####.....#.#....###..#.##......#.....#.\\\n",
    ".#..#..##..#...##.######.####.####.#.#...#.......#..#.#.#...####.##.#.....\\\n",
    ".#..#...##.#.##..#...##.#.##..###.#......#.#.......#.#.#.####.###.##...#..\\\n",
    "...####.#..#..#.##.#....##..#.####....##...##..#...#......#.#.......#.....\\\n",
    "..##..####..#...#.#.#...##..#.#..###..#####........#..####......#..#\n",
    "\n",
    "#..#.\\n#....\\n##..#\\n..#..\\n..###\n",
    "\"\"\"\n",
    ")\n",
    "\n",
    "assert test_image.enhance(2).sum() == 35\n"
   ]
  },
  {
   "cell_type": "code",
   "execution_count": 2,
   "metadata": {},
   "outputs": [
    {
     "name": "stdout",
     "output_type": "stream",
     "text": [
      "Part 1: 5275\n"
     ]
    }
   ],
   "source": [
    "import aocd\n",
    "\n",
    "scanned_image = ImageEnhancer.from_scanner(aocd.get_data(day=20, year=2021))\n",
    "print(\"Part 1:\", scanned_image.enhance(2).sum())\n"
   ]
  },
  {
   "cell_type": "markdown",
   "metadata": {},
   "source": [
    "# Part 2\n",
    "\n",
    "Part two is just the same as part one, just with more steps. We already found an efficient way of handling this, so no changes were necessary.\n"
   ]
  },
  {
   "cell_type": "code",
   "execution_count": 3,
   "metadata": {},
   "outputs": [],
   "source": [
    "assert test_image.enhance(50).sum() == 3351\n"
   ]
  },
  {
   "cell_type": "code",
   "execution_count": 4,
   "metadata": {},
   "outputs": [
    {
     "name": "stdout",
     "output_type": "stream",
     "text": [
      "Part 2: 16482\n"
     ]
    }
   ],
   "source": [
    "print(\"Part 2:\", scanned_image.enhance(50).sum())\n"
   ]
  }
 ],
 "metadata": {
  "interpreter": {
   "hash": "8bb5fd587ebf4d90f905285c44a569046664a8863ee065ff2dd968491b671e06"
  },
  "kernelspec": {
   "display_name": "Python 3.10.0 64-bit ('adventofcode-mOkh6lsX': pipenv)",
   "language": "python",
   "name": "python3"
  },
  "language_info": {
   "codemirror_mode": {
    "name": "ipython",
    "version": 3
   },
   "file_extension": ".py",
   "mimetype": "text/x-python",
   "name": "python",
   "nbconvert_exporter": "python",
   "pygments_lexer": "ipython3",
   "version": "3.10.0"
  },
  "orig_nbformat": 4
 },
 "nbformat": 4,
 "nbformat_minor": 2
}
