{
 "cells": [
  {
   "cell_type": "markdown",
   "metadata": {},
   "source": [
    "# Counting line overlaps\n",
    "\n",
    "* <https://adventofcode.com/2021/day/5>\n",
    "\n",
    "This task echoes the one from [Day 3 in 2018](https://adventofcode.com/2018/day/3); this too is a [computational geometry](https://en.wikipedia.org/wiki/Computational_geometry) problem, and here too we only need to consider overlaps between horizontal and vertical lines. Computational geometry has come up quite often in AoC, in 2018 days [3](https://adventofcode.com/2018/day/3), [6](https://adventofcode.com/2018/day/6) and [17](https://adventofcode.com/2018/day/17) all were geometry challenges in the same vein.\n",
    "\n",
    "So, we parse the input into lines, then sort by their start coordinates ($x$ first, then $y$), and process the lines in that order. I noticed that some lines have their start and end points 'reversed', with the end coordinates with _lower_ values than their starts, so while parsing I swap those to ensure lines can be kept in sorted order. By sorting, we don't have to know up front how far $x$ and $y$ range and we don't have to concern ourselves with every possible value for $x$ and $y$. This approach is known as the [sweep line algorithm](https://en.wikipedia.org/wiki/Sweep_line_algorithm).\n",
    "\n",
    "Instead, we can iterate over the lines in sorted order and keep a [heap queue](https://en.wikipedia.org/wiki/Binary_heap) of lines that are still in effect. A line is still in effect if their end point is higher than the stating coordinate of the line being processed (meaning, it is below or to the right of the current line), so the heap is ordered by the end coordinates.\n",
    "\n",
    "Because we only count overlaps and not the number of lines that overlap on each point, we record the overlapping points as a set. That way we don't accidentally count 3 lines overlapping on the same coordinate as 2 separate overlaps. We also don't need to track all points across all lines, and so don't need to keep counts either. The input puzzle, for example, would require keeping a counter for all 21 points touched, rather than a set for the 5 points with intersections and overlaps.\n",
    "\n",
    "To calculate the intersections, I adapted the maths for determining the intersection of two line segments from the [Wikipedia article on line intersections](https://en.wikipedia.org/wiki/Line%E2%80%93line_intersection#Given_two_points_on_each_line_segment)."
   ]
  },
  {
   "cell_type": "code",
   "execution_count": 1,
   "metadata": {},
   "outputs": [],
   "source": [
    "from __future__ import annotations\n",
    "\n",
    "from dataclasses import dataclass\n",
    "from heapq import heappush, heappop\n",
    "from itertools import repeat\n",
    "from typing import Iterable, NamedTuple\n",
    "\n",
    "\n",
    "class Point(NamedTuple):\n",
    "    x: int\n",
    "    y: int\n",
    "\n",
    "    def __str__(self) -> str:\n",
    "        return f\"{self.x},{self.y}\"\n",
    "\n",
    "    @classmethod\n",
    "    def from_str(cls, s: str) -> Point:\n",
    "        return cls(*map(int, s.split(\",\")))\n",
    "\n",
    "\n",
    "\n",
    "@dataclass(order=True)\n",
    "class Line:\n",
    "    start: Point\n",
    "    end: Point\n",
    "\n",
    "    @classmethod\n",
    "    def from_string(cls, line: str) -> Line:\n",
    "        # start should always be to the left / above from end, so all our\n",
    "        # lines run from left to right or top to bottom (not counting diagonal\n",
    "        # slopes going up)\n",
    "        return cls(*sorted(map(Point.from_str, line.split(\"->\"))))\n",
    "    \n",
    "    @property\n",
    "    def straight(self) -> bool:\n",
    "        return self.start.x == self.end.x or self.start.y == self.end.y\n",
    "\n",
    "    def __str__(self) -> str:\n",
    "        return f\"{self.start} -> {self.end}\"\n",
    "    \n",
    "    def __mul__(self, p: Point) -> int:\n",
    "        \"\"\"Calculate the cross-product of this line and point p\"\"\"\n",
    "        dx, dy = self.end.x - self.start.x, self.end.y - self.start.y\n",
    "        return dx * (p.y - self.start.y) - (p.x - self.start.x) * dy\n",
    "\n",
    "    def __and__(self, other: Line) -> Iterable[Point]:\n",
    "        \"\"\"Yield all points at which this line intersects with other\"\"\"\n",
    "        sstart, send, ostart, oend = self.start, self.end, other.start, other.end\n",
    "\n",
    "        # check for the cross-product of the two lines to check if they intersect\n",
    "        cross_sos, cross_soe = self * ostart, self * oend\n",
    "        cpother = (other * sstart) * (other * send)\n",
    "        if not ((cross_sos * cross_soe <= 0 and cpother <= 0) or not cross_sos):\n",
    "            return\n",
    "\n",
    "        # find if two line segments intersect, and where, adapted from\n",
    "        # https://en.wikipedia.org/wiki/Line%E2%80%93line_intersection\n",
    "        sdx, sdy = send.x - sstart.x, send.y - sstart.y\n",
    "        odx, ody = oend.x - ostart.x, oend.y - ostart.y\n",
    "\n",
    "        # With integer coordinates we need to account for diagonal lines\n",
    "        # passing one another and not actually intersecting, which happens\n",
    "        # when they run along 'odd' and 'even' diagonals\n",
    "        if not (self.straight or other.straight):\n",
    "            # intercepts of the diagonals must both be odd or even\n",
    "            sparity = (sstart.y + (sdy // sdx) * sstart.x) % 2\n",
    "            oparity = (ostart.y + (ody // odx) * ostart.x) % 2\n",
    "            if sparity != oparity:\n",
    "                return\n",
    "\n",
    "        denom = sdx * ody - odx * sdy\n",
    "        if denom:\n",
    "            # there is a single intersection point\n",
    "            num = odx * (sstart.y - ostart.y) - ody * (sstart.x - ostart.x)\n",
    "            yield Point(sstart.x + sdx * num // denom, sstart.y + sdy * num // denom)\n",
    "        else:\n",
    "            # lines overlap along a segment\n",
    "            xs = range(ostart.x, min(send.x, oend.x) + 1) if sdx else repeat(ostart.x)\n",
    "            match sdy:\n",
    "                case 0:\n",
    "                    ys = repeat(ostart.y)\n",
    "                case _ if sdy < 0:\n",
    "                    ys = range(ostart.y, max(send.y, oend.y) - 1, -1)\n",
    "                case _:  # > 0\n",
    "                    ys = range(ostart.y, min(send.y, oend.y) + 1)\n",
    "            yield from (Point(x, y) for x, y in zip(xs, ys))\n",
    "\n",
    "\n",
    "@dataclass\n",
    "class HydrothermalVents:\n",
    "    lines: list[Line]\n",
    "\n",
    "    @classmethod\n",
    "    def from_lines(\n",
    "        cls, lines: list[str], ignore_diagonals: bool = True\n",
    "    ) -> HydrothermalVents:\n",
    "        vents = map(Line.from_string, lines)\n",
    "        if ignore_diagonals:\n",
    "            vents = (line for line in vents if line.straight)\n",
    "        return cls(sorted(vents))\n",
    "\n",
    "    def count_most_dangerous(self) -> int:\n",
    "        # heap with (end, line), endpoints per still-active lines\n",
    "        queue: list[tuple[Point, Line]] = []\n",
    "        # all points touched by 2 or more lines.\n",
    "        overlaps: set[Point] = set()\n",
    "        for line in self.lines:\n",
    "            # clear queued lines no longer active (.end to left or above this line)\n",
    "            while queue and queue[0][0] < line.start:\n",
    "                heappop(queue)\n",
    "            overlaps |= {p for _, other in queue for p in other & line}\n",
    "            heappush(queue, (line.end, line))\n",
    "        return len(overlaps)\n",
    "\n",
    "\n",
    "test_lines = \"\"\"\\\n",
    "0,9 -> 5,9\n",
    "8,0 -> 0,8\n",
    "9,4 -> 3,4\n",
    "2,2 -> 2,1\n",
    "7,0 -> 7,4\n",
    "6,4 -> 2,0\n",
    "0,9 -> 2,9\n",
    "3,4 -> 1,4\n",
    "0,0 -> 8,8\n",
    "5,5 -> 8,2\n",
    "\"\"\".splitlines()\n",
    "\n",
    "assert HydrothermalVents.from_lines(test_lines).count_most_dangerous() == 5\n"
   ]
  },
  {
   "cell_type": "code",
   "execution_count": 2,
   "metadata": {},
   "outputs": [
    {
     "name": "stdout",
     "output_type": "stream",
     "text": [
      "Part 1: 7436\n"
     ]
    }
   ],
   "source": [
    "import aocd\n",
    "ventlines = aocd.get_data(day=5, year=2021).splitlines()\n",
    "print(\"Part 1:\", HydrothermalVents.from_lines(ventlines).count_most_dangerous())"
   ]
  },
  {
   "cell_type": "markdown",
   "metadata": {},
   "source": [
    "# Part 2, now with diagonals!\n",
    "\n",
    "Now we need to consider diagonals too. My intersection code already handled most of the work for diagonals; I added a case for $y$ ranging downwards and could load the lines with diagonals included.\n",
    "\n",
    "Initially, this gave me quite a headache as my numbers kept coming out too high, until I realised that with integer coordinates, two diagonal lines can pass by one another without intersecting, at the point of crossing occupying the 4 cells in a square instead of passing through the same single cell."
   ]
  },
  {
   "cell_type": "code",
   "execution_count": 3,
   "metadata": {},
   "outputs": [],
   "source": [
    "assert HydrothermalVents.from_lines(test_lines, False).count_most_dangerous() == 12"
   ]
  },
  {
   "cell_type": "code",
   "execution_count": 4,
   "metadata": {},
   "outputs": [
    {
     "name": "stdout",
     "output_type": "stream",
     "text": [
      "Part 2: 21104\n"
     ]
    }
   ],
   "source": [
    "print(\"Part 2:\", HydrothermalVents.from_lines(ventlines, False).count_most_dangerous())"
   ]
  }
 ],
 "metadata": {
  "interpreter": {
   "hash": "8bb5fd587ebf4d90f905285c44a569046664a8863ee065ff2dd968491b671e06"
  },
  "kernelspec": {
   "display_name": "Python 3.10.0 64-bit ('adventofcode-mOkh6lsX': pipenv)",
   "language": "python",
   "name": "python3"
  },
  "language_info": {
   "codemirror_mode": {
    "name": "ipython",
    "version": 3
   },
   "file_extension": ".py",
   "mimetype": "text/x-python",
   "name": "python",
   "nbconvert_exporter": "python",
   "pygments_lexer": "ipython3",
   "version": "3.10.0"
  },
  "orig_nbformat": 4
 },
 "nbformat": 4,
 "nbformat_minor": 2
}
