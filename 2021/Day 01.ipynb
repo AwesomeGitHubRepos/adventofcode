{
 "cells": [
  {
   "cell_type": "markdown",
   "metadata": {},
   "source": [
    "# Sonar Sweep\n",
    "\n",
    "* https://adventofcode.com/2021/day/1\n",
    "\n",
    "And we are off for 2021! (I, on the other hand, started late this year). The sleigh keys went overboard and our job this year is to collect enough stars to power the submarine experimental key-finding antenna. Any excuse for an advent calendar :-D\n",
    "\n",
    "To kick off, we are asked to analyze sonar data. Part one is about counting increments. Easy peasy, use a paired window iterator to compare the previous with the current value, and sum the booleans (Python's boolean type is a subclass of its integer type, and `False` has the value 0, `True` has the value 1, so counting a series of boolean tests is as easy as passing the series to `sum()`).\n",
    "\n",
    "The[`itertools` module documentation page has a [recipes section](https://docs.python.org/3/library/itertools.html#itertools-recipes), which includes a more generic `sliding_window()` function definition for arbitrary size windows, which I've used here."
   ]
  },
  {
   "cell_type": "code",
   "execution_count": 1,
   "metadata": {},
   "outputs": [],
   "source": [
    "import aocd\n",
    "scans = [int(depth) for depth in aocd.get_data(day=1, year=2021).splitlines()]"
   ]
  },
  {
   "cell_type": "code",
   "execution_count": 2,
   "metadata": {},
   "outputs": [
    {
     "name": "stdout",
     "output_type": "stream",
     "text": [
      "Part 1: 1791\n"
     ]
    }
   ],
   "source": [
    "from collections import deque\n",
    "from itertools import islice\n",
    "\n",
    "def sliding_window(iterable, n):\n",
    "    # sliding_window('ABCDEFG', 4) -> ABCD BCDE CDEF DEFG\n",
    "    it = iter(iterable)\n",
    "    window = deque(islice(it, n), maxlen=n)\n",
    "    if len(window) == n:\n",
    "        yield tuple(window)\n",
    "    for x in it:\n",
    "        window.append(x)\n",
    "        yield tuple(window)\n",
    "\n",
    "\n",
    "def count_increases(scans):\n",
    "    return sum(b > a for a, b in sliding_window(scans, 2))\n",
    "\n",
    "print(\"Part 1:\", count_increases(scans))"
   ]
  },
  {
   "cell_type": "markdown",
   "metadata": {},
   "source": [
    "## Part 2: increase the sliding window size\n",
    "\n",
    "My decision to use the generic sliding window function proved very handy for part 2, as this part is specifically about increasing the size of the sliding window!\n",
    "\n",
    "Of course, Eric Wastl makes it slightly more complicated by asking you to combine sliding windows. We need a pair-wise sliding window over a size-3 sliding window that sums the 3 scans in that window. Still, Python itertools makes this super easy."
   ]
  },
  {
   "cell_type": "code",
   "execution_count": 3,
   "metadata": {},
   "outputs": [
    {
     "name": "stdout",
     "output_type": "stream",
     "text": [
      "Part 2: 1822\n"
     ]
    }
   ],
   "source": [
    "def count_3windowsum_increases(scans):\n",
    "    three_window_sum = (sum(window) for window in sliding_window(scans, 3))\n",
    "    return sum(b > a for a, b in sliding_window(three_window_sum, 2))\n",
    "\n",
    "print(\"Part 2:\", count_3windowsum_increases(scans))"
   ]
  }
 ],
 "metadata": {
  "interpreter": {
   "hash": "b1b6870d1e0a983b1943c858d70ac8a7c80477f9f3ca364eb8daa198319a8a87"
  },
  "kernelspec": {
   "display_name": "Python 3.9.6 64-bit ('adventofcode-mOkh6lsX': pipenv)",
   "language": "python",
   "name": "python3"
  },
  "language_info": {
   "codemirror_mode": {
    "name": "ipython",
    "version": 3
   },
   "file_extension": ".py",
   "mimetype": "text/x-python",
   "name": "python",
   "nbconvert_exporter": "python",
   "pygments_lexer": "ipython3",
   "version": "3.10.0"
  },
  "orig_nbformat": 4
 },
 "nbformat": 4,
 "nbformat_minor": 2
}
