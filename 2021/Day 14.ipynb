{
 "cells": [
  {
   "cell_type": "markdown",
   "metadata": {},
   "source": [
    "# Exponential growth in polymers\n",
    "\n",
    "* <https://adventofcode.com/2021/day/14>\n",
    "\n",
    "If we were to do as the puzzle suggests and actually build the string up, we'd run out of memory quite fast; for a starting template of length $k$, there are $k - 1$ pairs and every round doubles the pairs; the output length after $n$ steps is $((k - 1) 2^n) + 1$. After 10 steps, you'd need about $k$ kilobyte, after 20 steps $k$ megabyte, and after 30 steps $k$ gigabytes. Given that the puzzle input gives us a template of 20 characters that would _just_ fit into my laptop memory, but not comfortably!\n",
    "\n",
    "So we need an alternative approach. The order of the polymer pairs doesn't actually matter here, so we can just _count pairs_, and map each pair to two new pairs. For example, the first pair in the template, `NN`, maps to two new pairs, `NC` and `CN`. For every _pair -> inserted element_ we can generate a _pair -> (pair1, pair2)_ mapping instead, and then count how many pairs there are at each step.\n",
    "\n",
    "E.g. the input template `NNCB` should really be interpreted as `NN`, `NC`, and `CB`, which then maps to `NC`, `CN`, `NB`, `BC`, `CH` and `HB`, all unique pairs still. The next step then gives us:\n",
    "\n",
    "| pair | count |\n",
    "| ---- | ----: |\n",
    "| `NB` |     2 |\n",
    "| `BC` |     2 |\n",
    "| `CC` |     1 |\n",
    "| `CN` |     1 |\n",
    "| `BB` |     2 |\n",
    "| `CB` |     2 |\n",
    "| `BH` |     1 |\n",
    "| `HC` |     1 |\n",
    "\n",
    "We only need to keep up to 16 counts this way (though counts may differ for the puzzle input, my puzzle input uses 10 unique elements resulting in 100 rules).\n",
    "\n",
    "The final step is to turn the pairs into counts for individual elements, but we only count the _first_ element of every pair as the second element of each pair overlaps with the next. This would leave out the last element of the chain, but that element never changes from the starting template. For the test input template `NNCB`, that last element is `B`, and like the starting element stays constant throughout the growing polymer. If you take the first from each of the pair counts as the count for that invididual element, add 1 for the last element `B`, you can see that after step two the 13 elements we have been shown match the following counts:\n",
    "\n",
    "| elem | count |\n",
    "| ---- | ----: |\n",
    "| `B`  |     6 |\n",
    "| `C`  |     4 |\n",
    "| `H`  |     1 |\n",
    "| `N`  |     2 |\n",
    "\n",
    "We need to pick the maximimum and minimum values from these, subtract them, and that's the puzzle answer.\n"
   ]
  },
  {
   "cell_type": "code",
   "execution_count": 1,
   "metadata": {},
   "outputs": [],
   "source": [
    "from __future__ import annotations\n",
    "from collections import Counter\n",
    "from dataclasses import dataclass, replace\n",
    "from functools import cached_property\n",
    "from itertools import islice\n",
    "from typing import Iterator, NamedTuple\n",
    "\n",
    "\n",
    "Rules = dict[str, tuple[str, str]]\n",
    "\n",
    "\n",
    "class Extremes(NamedTuple):\n",
    "    min: int\n",
    "    max: int\n",
    "\n",
    "\n",
    "@dataclass(frozen=True)\n",
    "class Polymerization:\n",
    "    chain: Counter[str]\n",
    "    last: str\n",
    "    rules: Rules\n",
    "\n",
    "    @classmethod\n",
    "    def from_instructions(cls, instructions: str) -> Polymerization:\n",
    "        templ, rulelines = instructions.split(\"\\n\\n\")\n",
    "        template = Counter(f\"{l1}{l2}\" for l1, l2 in zip(templ, templ[1:]))\n",
    "        rule_pairs = (line.split(\" -> \") for line in rulelines.splitlines())\n",
    "        rules = {\n",
    "            pair: (f\"{pair[0]}{target}\", f\"{target}{pair[1]}\")\n",
    "            for pair, target in rule_pairs\n",
    "        }\n",
    "        return cls(template, templ[-1], rules)\n",
    "\n",
    "    def __len__(self) -> int:\n",
    "        return self.chain.total() + 1\n",
    "\n",
    "    def __iter__(self) -> Iterator[Polymerization]:\n",
    "        step, rules = self, self.rules\n",
    "        while True:\n",
    "            chain = Counter()\n",
    "            for pair, count in step.chain.items():\n",
    "                for new in rules[pair]:\n",
    "                    chain[new] += count\n",
    "            yield (step := replace(step, chain=chain))\n",
    "\n",
    "    @cached_property\n",
    "    def extremes(self) -> Extremes:\n",
    "        elems = Counter(self.last)\n",
    "        for (elem, _), count in self.chain.items():\n",
    "            elems[elem] += count\n",
    "        return Extremes(min(elems.values()), max(elems.values()))\n",
    "\n",
    "\n",
    "test_instructions = \"\"\"\\\n",
    "NNCB\n",
    "\n",
    "CH -> B\n",
    "HH -> N\n",
    "CB -> H\n",
    "NH -> C\n",
    "HB -> C\n",
    "HC -> B\n",
    "HN -> C\n",
    "NN -> C\n",
    "BH -> H\n",
    "NC -> B\n",
    "NB -> B\n",
    "BN -> B\n",
    "BB -> N\n",
    "BC -> B\n",
    "CC -> N\n",
    "CN -> C\n",
    "\"\"\"\n",
    "\n",
    "test_reaction = Polymerization.from_instructions(test_instructions)\n",
    "test_step10 = next(islice(test_reaction, 9, None))  # skip 9 steps to get to step 10\n",
    "assert test_step10.extremes == (161, 1749)\n"
   ]
  },
  {
   "cell_type": "code",
   "execution_count": 2,
   "metadata": {},
   "outputs": [
    {
     "name": "stdout",
     "output_type": "stream",
     "text": [
      "Part 1: 3259\n"
     ]
    }
   ],
   "source": [
    "import aocd\n",
    "\n",
    "reaction = Polymerization.from_instructions(aocd.get_data(day=14, year=2021))\n",
    "step10 = next(islice(reaction, 9, None))  # skip 9 steps to get to step 10\n",
    "print(\"Part 1:\", step10.extremes.max - step10.extremes.min)\n"
   ]
  },
  {
   "cell_type": "markdown",
   "metadata": {},
   "source": [
    "# Part 2: run it until you would run out of memory\n",
    "\n",
    "As I suspected, part 2 is to run the reaction 40 times, which for 20 elements in my puzzle input would require about 20[TiB](https://en.wikipedia.org/wiki/Byte#Units_based_on_powers_of_2) ($(k - 1) 2^{40} + 1$ is 20,890,720,927,745 elements for $k = 20$). Good thing we are only tracking pair counts!\n"
   ]
  },
  {
   "cell_type": "code",
   "execution_count": 3,
   "metadata": {},
   "outputs": [],
   "source": [
    "test_step40 = next(islice(test_step10, 29, None))  # 30 steps onwards from test_step10\n",
    "assert test_step40.extremes == (3849876073, 2192039569602)\n"
   ]
  },
  {
   "cell_type": "code",
   "execution_count": 4,
   "metadata": {},
   "outputs": [
    {
     "name": "stdout",
     "output_type": "stream",
     "text": [
      "Part 2: 3459174981021\n"
     ]
    }
   ],
   "source": [
    "step40 = next(islice(step10, 29, None))  # 30 steps onwards from step10\n",
    "print(\"Part 2:\", step40.extremes.max - step40.extremes.min)\n"
   ]
  }
 ],
 "metadata": {
  "interpreter": {
   "hash": "8bb5fd587ebf4d90f905285c44a569046664a8863ee065ff2dd968491b671e06"
  },
  "kernelspec": {
   "display_name": "Python 3.10.0 64-bit ('adventofcode-mOkh6lsX': pipenv)",
   "language": "python",
   "name": "python3"
  },
  "language_info": {
   "codemirror_mode": {
    "name": "ipython",
    "version": 3
   },
   "file_extension": ".py",
   "mimetype": "text/x-python",
   "name": "python",
   "nbconvert_exporter": "python",
   "pygments_lexer": "ipython3",
   "version": "3.10.0"
  },
  "orig_nbformat": 4
 },
 "nbformat": 4,
 "nbformat_minor": 2
}
