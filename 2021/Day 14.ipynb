{
 "cells": [
  {
   "cell_type": "markdown",
   "metadata": {},
   "source": [
    "# Exponential growth in polymers\n",
    "\n",
    "If we were to do as the puzzle suggests and actually build the string up, we'd run out of memory quite fast; for a starting template of length $k$, there are $k - 1$ pairs and every round doubles the pairs; the output length after $n$ steps is $((k - 1) 2^n) + 1$. After 10 steps, you'd need about $k$ kilobyte, after 20 steps $k$ megabyte, and after 30 steps $k$ gigabytes. Given that the puzzle input gives us a template of 20 characters that would _just_ fit into my laptop memory, but not comfortably!\n",
    "\n",
    "So we need an alternative approach. The order of the polymer pairs doesn't actually matter here, so we can just _count pairs_, and map each pair to two new pairs. For example, the first pair in the template, `NN`, maps to two new pairs, `NC` and `CN`. For every *pair -> inserted element* we can generate a *pair -> (pair1, pair2)* mapping instead, and then count how many pairs there are at each step.\n",
    "\n",
    "E.g. the input template `NNCB` should really be interpreted as `NN`, `NC`, and `CB`, which then maps to `NC`, `CN`, `NB`, `BC`, `CH` and `HB`, all unique pairs still. The next step then gives us:\n",
    "\n",
    " | elem | count |\n",
    " | ---- | ----: |\n",
    " | `NB` | 2 |\n",
    " | `BC` | 2 |\n",
    " | `CC` | 1 |\n",
    " | `CN` | 1 |\n",
    " | `NB` | 1 |\n",
    " | `BB` | 2 |\n",
    " | `CB` | 2 |\n",
    " | `BH` | 1 |\n",
    " | `HC` | 1 |\n",
    " \n",
    " We only need to keep up to 16 counts this way (though counts may differ for the puzzle input).\n",
    "\n",
    "The final step is to turn the pairs into counts for individual elements, but we have to _half_ these counts as each pair we count is actually overlapping with two other pairs, with the exception of the start and end element of the original template; e.g. for the test input template `NNCB`, `N` and `B` start and end the template, and those two elements stay constant throughout the growing polymer. If you count the elements from the pair counts, after step one we have:\n",
    "\n",
    "| elem | count |\n",
    "| ---- | ----: |\n",
    "| `B` | 3 |\n",
    "| `C` | 4 |\n",
    "| `H` | 2 |\n",
    "| `N` | 3 |\n",
    "\n",
    "You can find the actual counts by subtracting 1 for the `N` and `B`, and then halving the counts, then adding back 1 for the ends; so the actual counts are `B` x 2, `C` x 2, `H` x 1 and `N` x 2."
   ]
  },
  {
   "cell_type": "code",
   "execution_count": 1,
   "metadata": {},
   "outputs": [],
   "source": [
    "from __future__ import annotations\n",
    "from collections import Counter\n",
    "from dataclasses import dataclass, replace\n",
    "from functools import cached_property, reduce\n",
    "from itertools import chain, islice\n",
    "from typing import Iterator, NamedTuple\n",
    "\n",
    "\n",
    "Rules = dict[str, tuple[str, str]]\n",
    "\n",
    "\n",
    "class Extremes(NamedTuple):\n",
    "    min: int\n",
    "    max: int\n",
    "\n",
    "\n",
    "@dataclass(frozen=True)\n",
    "class Polymerization:\n",
    "    chain: Counter[str]\n",
    "    start: str\n",
    "    end: str\n",
    "    rules: Rules\n",
    "\n",
    "    @classmethod\n",
    "    def from_instructions(cls, instructions: str) -> Polymerization:\n",
    "        templ, rulelines = instructions.split(\"\\n\\n\")\n",
    "        template = Counter(f\"{l1}{l2}\" for l1, l2 in zip(templ, templ[1:]))\n",
    "        rule_pairs = (line.split(\" -> \") for line in rulelines.splitlines())\n",
    "        rules = {\n",
    "            pair: (f\"{pair[0]}{target}\", f\"{target}{pair[1]}\")\n",
    "            for pair, target in rule_pairs\n",
    "        }\n",
    "        return cls(template, templ[0], templ[-1], rules)\n",
    "\n",
    "    def __len__(self) -> int:\n",
    "        return self.chain.total() + 1\n",
    "\n",
    "    def __iter__(self) -> Iterator[Polymerization]:\n",
    "        step, rules = self, self.rules\n",
    "        while True:\n",
    "            newchain = Counter()\n",
    "            for pair, count in step.chain.items():\n",
    "                for newpair in rules[pair]:\n",
    "                    newchain[newpair] += count\n",
    "            yield (step := replace(step, chain=newchain))\n",
    "\n",
    "    @cached_property\n",
    "    def extremes(self) -> Extremes:\n",
    "        elems = Counter()\n",
    "        for pair, count in self.chain.items():\n",
    "            for elem in pair:\n",
    "                elems[elem] += count\n",
    "        elems.subtract((self.start, self.end))\n",
    "        counts = [v // 2 + (k in {self.start, self.end}) for k, v in elems.items()]\n",
    "        return Extremes(min(counts), max(counts))\n",
    "\n",
    "\n",
    "test_instructions = \"\"\"\\\n",
    "NNCB\n",
    "\n",
    "CH -> B\n",
    "HH -> N\n",
    "CB -> H\n",
    "NH -> C\n",
    "HB -> C\n",
    "HC -> B\n",
    "HN -> C\n",
    "NN -> C\n",
    "BH -> H\n",
    "NC -> B\n",
    "NB -> B\n",
    "BN -> B\n",
    "BB -> N\n",
    "BC -> B\n",
    "CC -> N\n",
    "CN -> C\n",
    "\"\"\"\n",
    "\n",
    "test_reaction = Polymerization.from_instructions(test_instructions)\n",
    "test_step10 = next(islice(test_reaction, 9, None))\n",
    "assert test_step10.extremes == (161, 1749)\n"
   ]
  },
  {
   "cell_type": "code",
   "execution_count": 2,
   "metadata": {},
   "outputs": [
    {
     "name": "stdout",
     "output_type": "stream",
     "text": [
      "Part 1: 3259\n"
     ]
    }
   ],
   "source": [
    "import aocd\n",
    "reaction = Polymerization.from_instructions(aocd.get_data(day=14, year=2021))\n",
    "step10 = next(islice(reaction, 9, None))\n",
    "print(\"Part 1:\", step10.extremes.max - step10.extremes.min)"
   ]
  },
  {
   "cell_type": "markdown",
   "metadata": {},
   "source": [
    "# Part 2: run it until you would run out of memory\n",
    "\n",
    "As I suspected, part 2 is to run the reaction 40 times, which would require about 20GB for the puzzle input ($(k - 1) 2^40 + 1 = 20890720927745$ elements). Good thing we are only tracking pair counts!"
   ]
  },
  {
   "cell_type": "code",
   "execution_count": 3,
   "metadata": {},
   "outputs": [],
   "source": [
    "test_step40 = next(islice(test_step10, 29, None))\n",
    "assert test_step40.extremes == (3849876073, 2192039569602)"
   ]
  },
  {
   "cell_type": "code",
   "execution_count": 4,
   "metadata": {},
   "outputs": [
    {
     "name": "stdout",
     "output_type": "stream",
     "text": [
      "Part 2: 3459174981021\n"
     ]
    }
   ],
   "source": [
    "step40 = next(islice(step10, 29, None))\n",
    "print(\"Part 2:\", step40.extremes.max - step40.extremes.min)"
   ]
  }
 ],
 "metadata": {
  "interpreter": {
   "hash": "8bb5fd587ebf4d90f905285c44a569046664a8863ee065ff2dd968491b671e06"
  },
  "kernelspec": {
   "display_name": "Python 3.10.0 64-bit ('adventofcode-mOkh6lsX': pipenv)",
   "language": "python",
   "name": "python3"
  },
  "language_info": {
   "codemirror_mode": {
    "name": "ipython",
    "version": 3
   },
   "file_extension": ".py",
   "mimetype": "text/x-python",
   "name": "python",
   "nbconvert_exporter": "python",
   "pygments_lexer": "ipython3",
   "version": "3.10.0"
  },
  "orig_nbformat": 4
 },
 "nbformat": 4,
 "nbformat_minor": 2
}
