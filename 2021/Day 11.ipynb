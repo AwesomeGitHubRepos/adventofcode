{
 "cells": [
  {
   "cell_type": "markdown",
   "metadata": {},
   "source": [
    "# Game of Life, 2021 edition\n",
    "\n",
    "* <https://adventofcode.com/2021/day/11>\n",
    "\n",
    "Today's challenge is another [cellular automata](https://en.wikipedia.org/wiki/Cellular_automaton) variant; we've had similar puzzles in years before (see [2018 day 12](../2018/Day%2012.ipynb), [2018 day 18](../2018/Day%2018.ipynb), [2019 day 11](../2019/Day%2011.ipynb), [2019 day 24](../2019/Day%2024.ipynb), [2020 day 11](../2020/Day%2011.ipynb), [2020 day 17](../2020/Day%2017.ipynb) and [2020 day 24](../2020/Day%2024.ipynb)).\n",
    "\n",
    "For this puzzle, there are 4 distinct steps to follow each round:\n",
    "\n",
    "- Increment the whole matrix by one\n",
    "- Create boolean matrix of the same shape to track what cells have flashed\n",
    "- while there are cells that haven't flashed but have a value over 9:\n",
    "  - for all cells, add the number of neighbours that haven't flashed but have a value over 9\n",
    "  - update the boolean matrix of cells that have flashed.\n",
    "- reset cells over 9 to 0.\n",
    "\n",
    "To locate all neighbours I'm using the trusty [`scipy.signal.convolve2d()` function](https://docs.scipy.org/doc/scipy/reference/generated/scipy.signal.convolve2d.html#scipy.signal.convolve2d) again, with a kernel that maps to all 8 surrounding cells, which gives us a matrix where each cell is a count of the number of neighbours that are flashing."
   ]
  },
  {
   "cell_type": "code",
   "execution_count": 1,
   "metadata": {},
   "outputs": [],
   "source": [
    "import numpy as np\n",
    "from scipy.signal import convolve2d\n",
    "\n",
    "\n",
    "KERNEL: np.ndarray = np.array([[1, 1, 1], [1, 0, 1], [1, 1, 1]], dtype=np.uint8)\n",
    "\n",
    "\n",
    "class DumboOctopuses:\n",
    "    _matrix: np.ndarray\n",
    "\n",
    "    def __init__(self, grid: list[str]) -> None:\n",
    "        self._matrix = np.genfromtxt(grid, dtype=np.uint8, delimiter=1)\n",
    "\n",
    "    def __str__(self) -> str:\n",
    "        return np.array2string(self._matrix, separator=\"\").translate(\n",
    "            # Remove spaces and square brackets, [ and ]\n",
    "            dict.fromkeys((0x20, 0x5B, 0x5D))\n",
    "        )\n",
    "    \n",
    "    def step(self) -> int:\n",
    "        m = self._matrix\n",
    "        m += 1\n",
    "        flashed = np.zeros(m.shape, dtype=np.bool_)\n",
    "        while np.any(flashing := (~flashed & (m > 9))):\n",
    "            m += convolve2d(flashing, KERNEL, mode=\"same\")\n",
    "            flashed |= flashing\n",
    "        m[m > 9] = 0\n",
    "        return np.sum(flashed)\n",
    "\n",
    "    def simulate(self, steps: int = 100) -> int:\n",
    "        return sum(self.step() for _ in range(steps))\n",
    "\n",
    "\n",
    "test_energy_levels = \"\"\"\\\n",
    "5483143223\n",
    "2745854711\n",
    "5264556173\n",
    "6141336146\n",
    "6357385478\n",
    "4167524645\n",
    "2176841721\n",
    "6882881134\n",
    "4846848554\n",
    "5283751526\n",
    "\"\"\".splitlines()\n",
    "\n",
    "assert DumboOctopuses(test_energy_levels).simulate(100) == 1656\n"
   ]
  },
  {
   "cell_type": "code",
   "execution_count": 2,
   "metadata": {},
   "outputs": [
    {
     "name": "stdout",
     "output_type": "stream",
     "text": [
      "Part 1: 1625\n"
     ]
    }
   ],
   "source": [
    "import aocd\n",
    "\n",
    "octopus_levels = aocd.get_data(day=11, year=2021).splitlines()\n",
    "print(\"Part 1:\", DumboOctopuses(octopus_levels).simulate(100))\n"
   ]
  },
  {
   "cell_type": "code",
   "execution_count": 3,
   "metadata": {},
   "outputs": [],
   "source": [
    "from itertools import count\n",
    "\n",
    "\n",
    "def find_simultatious_flash(start_levels: list[str]) -> int:\n",
    "    levels = DumboOctopuses(start_levels)\n",
    "    for step in count(1):\n",
    "        if levels.step() == 100:\n",
    "            return step\n",
    "\n",
    "\n",
    "assert find_simultatious_flash(test_energy_levels) == 195\n"
   ]
  },
  {
   "cell_type": "code",
   "execution_count": 4,
   "metadata": {},
   "outputs": [
    {
     "name": "stdout",
     "output_type": "stream",
     "text": [
      "Part 2: 244\n"
     ]
    }
   ],
   "source": [
    "print(\"Part 2:\", find_simultatious_flash(octopus_levels))\n"
   ]
  }
 ],
 "metadata": {
  "interpreter": {
   "hash": "b1b6870d1e0a983b1943c858d70ac8a7c80477f9f3ca364eb8daa198319a8a87"
  },
  "kernelspec": {
   "display_name": "Python 3.10.0 64-bit ('adventofcode-mOkh6lsX': pipenv)",
   "language": "python",
   "name": "python3"
  },
  "language_info": {
   "codemirror_mode": {
    "name": "ipython",
    "version": 3
   },
   "file_extension": ".py",
   "mimetype": "text/x-python",
   "name": "python",
   "nbconvert_exporter": "python",
   "pygments_lexer": "ipython3",
   "version": "3.10.0"
  },
  "orig_nbformat": 4
 },
 "nbformat": 4,
 "nbformat_minor": 2
}
