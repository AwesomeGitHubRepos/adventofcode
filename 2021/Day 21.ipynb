{
 "cells": [
  {
   "cell_type": "markdown",
   "metadata": {},
   "source": [
    "# Modulo calculations\n",
    "\n",
    "- <https://adventofcode.com/2021/day/21>\n",
    "\n",
    "This is another modulo calculation problem, but there is no closed-form solution that I am aware of. So for part 1, we are just playing the game as stated, keeping a counter that goes up by 3 each round. The dice rolls are produced by [`itertools.cycle()`](https://docs.python.org/3/library/itertools.html#itertools.cycle) looping over the range from 1 through to 100 (inclusive)."
   ]
  },
  {
   "cell_type": "code",
   "execution_count": 1,
   "metadata": {},
   "outputs": [],
   "source": [
    "from __future__ import annotations\n",
    "import re\n",
    "from collections import deque\n",
    "from dataclasses import dataclass, replace\n",
    "from itertools import count, cycle, islice\n",
    "from typing import Callable, Iterator, Literal\n",
    "\n",
    "\n",
    "Line: Callable[[str], re.Match] = re.compile(\n",
    "    r\"Player (?P<player>[12]) starting position: (?P<position>\\d+)\"\n",
    ").fullmatch\n",
    "\n",
    "\n",
    "class HundredDie:\n",
    "    def __init__(self, per: int) -> None:\n",
    "        self.values = cycle(range(1, 101))\n",
    "        self.per = per\n",
    "\n",
    "    def __iter__(self) -> Iterator[int]:\n",
    "        values, per = self.values, self.per\n",
    "        while True:\n",
    "            yield sum(islice(values, per))\n",
    "\n",
    "\n",
    "@dataclass(frozen=True)\n",
    "class Player:\n",
    "    player: Literal[1, 2]\n",
    "    position: int\n",
    "    score: int = 0\n",
    "\n",
    "    @classmethod\n",
    "    def from_line(cls, line: str) -> Player:\n",
    "        group = Line(line).groupdict()\n",
    "        return cls(int(group[\"player\"]), int(group[\"position\"]))\n",
    "\n",
    "    def move(self, roll: int) -> None:\n",
    "        position = (self.position + roll - 1) % 10 + 1\n",
    "        return replace(self, position=position, score=self.score + position)\n",
    "\n",
    "\n",
    "def play_game(p1: Player, p2: Player) -> tuple[int, int]:\n",
    "    game = deque([p1, p2])\n",
    "    per3 = HundredDie(3)\n",
    "    for rolls, rolled in zip(count(3, 3), per3):\n",
    "        player = game.popleft().move(rolled)\n",
    "        if player.score >= 1000:\n",
    "            return rolls, game[-1].score\n",
    "        game.append(player)\n",
    "\n",
    "\n",
    "test_players = [\n",
    "    Player.from_line(line)\n",
    "    for line in (\"Player 1 starting position: 4\", \"Player 2 starting position: 8\")\n",
    "]\n",
    "round, score = play_game(*test_players)\n",
    "assert round * score == 739785\n"
   ]
  },
  {
   "cell_type": "code",
   "execution_count": 2,
   "metadata": {},
   "outputs": [
    {
     "name": "stdout",
     "output_type": "stream",
     "text": [
      "Part 1: 926610\n"
     ]
    }
   ],
   "source": [
    "import aocd\n",
    "\n",
    "players = [\n",
    "    Player.from_line(line) for line in aocd.get_data(day=21, year=2021).splitlines()\n",
    "]\n",
    "round, score = play_game(*players)\n",
    "print(\"Part 1:\", round * score)\n"
   ]
  },
  {
   "cell_type": "markdown",
   "metadata": {},
   "source": [
    "# Part 2, a branching multiverse of possibilities\n",
    "\n",
    "The quantum dice make this quite an interesting problem. The trick is to recognise that there can be multiple paths to the same outcomes here, and we only need to keep track of the number of universes for each set of player scores and count the number of winning states, *not* track each and every game or the state of dice rolls.\n",
    "\n",
    "So, we count states (won or not), where a specific state is the score for each player, and produce new state counts from the current state counts while alternating between the two players. We can produce new state counts purely based on the probabilities of throwing a given dice sum.\n",
    "\n",
    "At each round, the player can throw one of 27 different combinations of the dice, but there are only 7 different outcomes for those dice. Because each of the 27 possibilities results in a new universe, and we only want to count in how many universes a player wins the game, we only need to count are the _probabilities_ of each of those 27 possible outcomes. There is just one way for a throw of the 3 3-sided dice to total 9 (3 + 3 + 3) or 3 (1 + 1 + 1), but there are 7 different ways to throw a 6 (1 + 2 + 3, 1 + 3 + 2, 2 + 1 + 3, etc.). So if the outcome were to be 9, then there is still the same number of universes in which the new state (current player score + 9) can occur, but there are 7 times as many different universes in which the same player rolled dice and added 6 to their score. For the latter outcome, we multiply the count for the current state by 7 and use that to update the count for the new state.\n",
    " \n",
    "Again, it should be noted that there can be multiple paths to a win for a given player; all universes where the opposing (not playing) player has score A and the current player is between 3 and 9 points away from score B, will produce a new state with scores A and B, and our job is to keep counts of the number of universes in which that specific state was reached. So for each round we keep a counter (multiset) per state, to use as the starting point for the next round.\n",
    "\n",
    "Each time a state has reached a winning score for a player, that state is removed from consideration for the next round; we just keep a total for each player. Once we have run out of states that haven't yet got a winner, all we have to do is pick the larger of the two win counts."
   ]
  },
  {
   "cell_type": "code",
   "execution_count": 4,
   "metadata": {},
   "outputs": [],
   "source": [
    "from collections import Counter\n",
    "from itertools import product\n",
    "from typing import Final, NamedTuple\n",
    "\n",
    "\n",
    "# with 3 3-sided dice, out of 27 possible rolls, how often will each total appear?\n",
    "PROBS: Final[dict[int, int]] = Counter(\n",
    "    sum(dice) for dice in product(range(1, 4), repeat=3)\n",
    ")\n",
    "\n",
    "\n",
    "class QuantumState(NamedTuple):\n",
    "    \"\"\"State of a game\"\"\"\n",
    "\n",
    "    player1: Player\n",
    "    player2: Player\n",
    "\n",
    "    def update(self, roll: int, turn: int) -> QuantumState:\n",
    "        if turn == 1:\n",
    "            return self._replace(player1=self.player1.move(roll))\n",
    "        return self._replace(player2=self.player2.move(roll))\n",
    "\n",
    "    @property\n",
    "    def winner(self) -> int | None:\n",
    "        for player in self:\n",
    "            if player.score >= 21:\n",
    "                return player.player\n",
    "        return None\n",
    "\n",
    "\n",
    "def play_quantum_dice(p1: Player, p2: Player) -> int:\n",
    "    states, wins = Counter([QuantumState(p1, p2)]), Counter()\n",
    "    for turn in cycle((1, 2)):\n",
    "        prev, states = states, Counter()\n",
    "        for (state, universes), (roll, prob) in product(prev.items(), PROBS.items()):\n",
    "            universes *= prob\n",
    "            state = state.update(roll, turn)\n",
    "            if winner := state.winner:\n",
    "                wins[winner] += universes\n",
    "                continue\n",
    "            states[state] += universes\n",
    "        if not states:\n",
    "            break\n",
    "    return max(wins.values())\n",
    "\n",
    "\n",
    "assert play_quantum_dice(*test_players) == 444356092776315\n"
   ]
  },
  {
   "cell_type": "code",
   "execution_count": 5,
   "metadata": {},
   "outputs": [
    {
     "name": "stdout",
     "output_type": "stream",
     "text": [
      "Part 2: 146854918035875\n"
     ]
    }
   ],
   "source": [
    "print(\"Part 2:\", play_quantum_dice(*players))\n"
   ]
  }
 ],
 "metadata": {
  "interpreter": {
   "hash": "8bb5fd587ebf4d90f905285c44a569046664a8863ee065ff2dd968491b671e06"
  },
  "kernelspec": {
   "display_name": "Python 3.10.0 64-bit ('adventofcode-mOkh6lsX': pipenv)",
   "language": "python",
   "name": "python3"
  },
  "language_info": {
   "codemirror_mode": {
    "name": "ipython",
    "version": 3
   },
   "file_extension": ".py",
   "mimetype": "text/x-python",
   "name": "python",
   "nbconvert_exporter": "python",
   "pygments_lexer": "ipython3",
   "version": "3.10.0"
  },
  "orig_nbformat": 4
 },
 "nbformat": 4,
 "nbformat_minor": 2
}
