{
 "cells": [
  {
   "cell_type": "markdown",
   "metadata": {},
   "source": [
    "# Modulo calculations\n",
    "\n",
    "- <https://adventofcode.com/2021/day/21>\n",
    "\n",
    "* The board only affects the score; the final digit of the position is the score to add to the point total.\n",
    "* The dice total starts at 6 and always goes up by 9 each time; so the base formula is $d(n) = 9n - 3$, but we need to handle the fact that the dice rolls over after 100; the 34th roll is the sum of 100 + 1 + 2, so 103, after which the next (34th) roll produces 12. This happens again at roll 67, when you have 99 + 100 + 1 = 200, followed by roll 68 and 9. Finally, at the 100th roll, the total is 98 + 99 + 100 = 297 and we start back at 6 again.\n"
   ]
  },
  {
   "cell_type": "code",
   "execution_count": 1,
   "metadata": {},
   "outputs": [],
   "source": [
    "from __future__ import annotations\n",
    "import re\n",
    "from collections import deque\n",
    "from dataclasses import dataclass, replace\n",
    "from itertools import count, cycle, islice\n",
    "from typing import Callable, Iterator, Literal\n",
    "\n",
    "\n",
    "Line: Callable[[str], re.Match] = re.compile(\n",
    "    r\"Player (?P<player>[12]) starting position: (?P<position>\\d+)\"\n",
    ").fullmatch\n",
    "\n",
    "\n",
    "class HundredDie:\n",
    "    def __init__(self, per: int) -> None:\n",
    "        self.values = cycle(range(1, 101))\n",
    "        self.per = per\n",
    "\n",
    "    def __iter__(self) -> Iterator[int]:\n",
    "        values, per = self.values, self.per\n",
    "        while True:\n",
    "            yield sum(islice(values, per))\n",
    "\n",
    "\n",
    "@dataclass(frozen=True)\n",
    "class Player:\n",
    "    player: Literal[1, 2]\n",
    "    position: int\n",
    "    score: int = 0\n",
    "\n",
    "    @classmethod\n",
    "    def from_line(cls, line: str) -> Player:\n",
    "        group = Line(line).groupdict()\n",
    "        return cls(int(group[\"player\"]), int(group[\"position\"]))\n",
    "\n",
    "    def move(self, roll: int) -> None:\n",
    "        position = (self.position + roll - 1) % 10 + 1\n",
    "        return replace(self, position=position, score=self.score + position)\n",
    "\n",
    "\n",
    "def play_game(p1: Player, p2: Player) -> tuple[int, int]:\n",
    "    game = deque([p1, p2])\n",
    "    per3 = HundredDie(3)\n",
    "    for rolls, rolled in zip(count(3, 3), per3):\n",
    "        player = game.popleft().move(rolled)\n",
    "        if player.score >= 1000:\n",
    "            return rolls, game[-1].score\n",
    "        game.append(player)\n",
    "\n",
    "\n",
    "test_players = [Player.from_line(line) for line in (\"Player 1 starting position: 4\", \"Player 2 starting position: 8\")]\n",
    "round, score = play_game(*test_players)\n",
    "assert round * score == 739785\n"
   ]
  },
  {
   "cell_type": "code",
   "execution_count": 2,
   "metadata": {},
   "outputs": [
    {
     "name": "stdout",
     "output_type": "stream",
     "text": [
      "Part 1: 926610\n"
     ]
    }
   ],
   "source": [
    "import aocd\n",
    "\n",
    "players = [Player.from_line(line) for line in aocd.get_data(day=21, year=2021).splitlines()]\n",
    "round, score = play_game(*players)\n",
    "print(\"Part 1:\", round * score)\n"
   ]
  },
  {
   "cell_type": "code",
   "execution_count": 3,
   "metadata": {},
   "outputs": [],
   "source": [
    "from collections import Counter\n",
    "from itertools import product\n",
    "from typing import Final, NamedTuple, Optional\n",
    "\n",
    "\n",
    "# with 3 3-sided dice, out of 27 possible rolls, how often will each total appear?\n",
    "PROBS: Final[dict[int, int]] = Counter(\n",
    "    sum(dice) for dice in product(range(1, 4), repeat=3)\n",
    ")\n",
    "\n",
    "\n",
    "class QuantumState(NamedTuple):\n",
    "    \"\"\"State of a game\"\"\"\n",
    "\n",
    "    player1: Player\n",
    "    player2: Player\n",
    "\n",
    "    def update(self, roll: int, turn: int) -> QuantumState:\n",
    "        if turn == 1:\n",
    "            return self._replace(player1=self.player1.move(roll))\n",
    "        return self._replace(player2=self.player2.move(roll))\n",
    "\n",
    "    @property\n",
    "    def winner(self) -> Optional[int]:\n",
    "        for player in self:\n",
    "            if player.score >= 21:\n",
    "                return player.player\n",
    "        return None\n",
    "\n",
    "\n",
    "def play_quantum_dice(p1: Player, p2: Player) -> int:\n",
    "    states, wins = Counter([QuantumState(p1, p2)]), Counter()\n",
    "    for turn in cycle((1, 2)):\n",
    "        prev, states = states, Counter()\n",
    "        for (state, universes), (roll, prob) in product(prev.items(), PROBS.items()):\n",
    "            universes *= prob\n",
    "            state = state.update(roll, turn)\n",
    "            if winner := state.winner:\n",
    "                wins[winner] += universes\n",
    "                continue\n",
    "            states[state] += universes\n",
    "        if not states:\n",
    "            break\n",
    "    return max(wins.values())\n",
    "\n",
    "\n",
    "assert play_quantum_dice(*test_players) == 444356092776315\n"
   ]
  }
 ],
 "metadata": {
  "interpreter": {
   "hash": "8bb5fd587ebf4d90f905285c44a569046664a8863ee065ff2dd968491b671e06"
  },
  "kernelspec": {
   "display_name": "Python 3.10.0 64-bit ('adventofcode-mOkh6lsX': pipenv)",
   "language": "python",
   "name": "python3"
  },
  "language_info": {
   "codemirror_mode": {
    "name": "ipython",
    "version": 3
   },
   "file_extension": ".py",
   "mimetype": "text/x-python",
   "name": "python",
   "nbconvert_exporter": "python",
   "pygments_lexer": "ipython3",
   "version": "3.10.0"
  },
  "orig_nbformat": 4
 },
 "nbformat": 4,
 "nbformat_minor": 2
}
