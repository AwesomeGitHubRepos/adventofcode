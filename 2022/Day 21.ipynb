{
 "cells": [
  {
   "attachments": {},
   "cell_type": "markdown",
   "metadata": {},
   "source": [
    "# Day 21, expressive symians\n",
    "\n",
    "Today's puzzle forms an acyclic directed graph of expressions. Simply construct the graph and compute the expression!"
   ]
  },
  {
   "cell_type": "code",
   "execution_count": 1,
   "metadata": {},
   "outputs": [],
   "source": [
    "import operator\n",
    "from dataclasses import dataclass\n",
    "from typing import Callable, Final\n",
    "\n",
    "\n",
    "OPERATORS: Final[dict[str, Callable[[int, int], int]]] = {\n",
    "    \"+\": operator.add,\n",
    "    \"*\": operator.mul,\n",
    "    \"-\": operator.sub,\n",
    "    \"/\": operator.truediv,\n",
    "}\n",
    "\n",
    "\n",
    "@dataclass\n",
    "class Monkey:\n",
    "    name: str\n",
    "\n",
    "    def __call__(self, expr: \"MonkeyExpression\") -> int:\n",
    "        raise NotImplementedError\n",
    "\n",
    "    @classmethod\n",
    "    def from_string(cls, string: str) -> \"Monkey\":\n",
    "        name, *parts = string.split()\n",
    "        name = name[:-1]\n",
    "        match parts:\n",
    "            case [value]:\n",
    "                return ValueMonkey(name, int(value))\n",
    "            case [left, operator, right] if operator in OPERATORS:\n",
    "                return ExpressionMonkey(name, left, right, OPERATORS[operator])\n",
    "            case _:\n",
    "                raise ValueError(\"Invalid monkey expression\")\n",
    "\n",
    "\n",
    "@dataclass\n",
    "class ExpressionMonkey(Monkey):\n",
    "    left: str\n",
    "    right: str\n",
    "    operator: Callable[[int, int], int]\n",
    "\n",
    "    def __call__(self, monkeys: dict[str, Monkey]) -> int:\n",
    "        left, right = monkeys[self.left], monkeys[self.right]\n",
    "        return self.operator(left(monkeys), right(monkeys))\n",
    "\n",
    "\n",
    "@dataclass\n",
    "class ValueMonkey(Monkey):\n",
    "    value: int\n",
    "\n",
    "    def __call__(self, *_) -> int:\n",
    "        return self.value\n",
    "\n",
    "\n",
    "@dataclass\n",
    "class MonkeyExpression:\n",
    "    monkeys: dict[str, Monkey]\n",
    "\n",
    "    @classmethod\n",
    "    def from_text(cls, text: str) -> \"MonkeyExpression\":\n",
    "        return cls(\n",
    "            {(m := Monkey.from_string(line)).name: m for line in text.splitlines()}\n",
    "        )\n",
    "\n",
    "    def __getitem__(self, name: str) -> Monkey:\n",
    "        return self.monkeys[name]\n",
    "\n",
    "    def __call__(self) -> int:\n",
    "        return int(self.monkeys[\"root\"](self.monkeys))\n",
    "\n",
    "\n",
    "example = MonkeyExpression.from_text(\n",
    "    \"\"\"\\\n",
    "root: pppw + sjmn\n",
    "dbpl: 5\n",
    "cczh: sllz + lgvd\n",
    "zczc: 2\n",
    "ptdq: humn - dvpt\n",
    "dvpt: 3\n",
    "lfqf: 4\n",
    "humn: 5\n",
    "ljgn: 2\n",
    "sjmn: drzm * dbpl\n",
    "sllz: 4\n",
    "pppw: cczh / lfqf\n",
    "lgvd: ljgn * ptdq\n",
    "drzm: hmdt - zczc\n",
    "hmdt: 32\n",
    "\"\"\"\n",
    ")\n",
    "assert example() == 152"
   ]
  },
  {
   "cell_type": "code",
   "execution_count": 2,
   "metadata": {},
   "outputs": [
    {
     "name": "stdout",
     "output_type": "stream",
     "text": [
      "Part 1: 353837700405464\n"
     ]
    }
   ],
   "source": [
    "import aocd\n",
    "\n",
    "\n",
    "expression = MonkeyExpression.from_text(aocd.get_data(day=21, year=2022))\n",
    "print(\"Part 1:\", expression())"
   ]
  },
  {
   "attachments": {},
   "cell_type": "markdown",
   "metadata": {},
   "source": [
    "## Part 2: solving the monkey puzzle tree\n",
    "\n",
    "Suddenly, the tree turns out to be an equality equation. So lets turn it into one! We've used the [`sympy` symbolic math library](https://www.sympy.org/en/) before, specifically, for [2019, Day 2 (part 2)](../2019/Day%2002.ipynb) and for [2021, Day 24](../2021/Day%2024.ipynb).  Lets use that again here. We want to [solve an equation numerically](https://docs.sympy.org/latest/modules/solvers/solvers.html#sympy.solvers.solvers.nsolve), that is, give sympy our series of monkeys (symbols) and have it produce the value for `humn`.\n",
    "\n",
    "This requires two updates:\n",
    "\n",
    "- Calling the `humn` entry in the graph should produce a `sympy.Symbol()` object; it's the only variable in the expression.\n",
    "- The root operator is replaced by `sympy.Eq()`\n",
    "- Sympy produces a floating point value that is a very, very small fraction off from being an integer. Using `round()` on the result produces the proper integer result. You can't use `int()` because that'd floor the result, but the floating point value could be close but _lower_ than the actual integer answer."
   ]
  },
  {
   "cell_type": "code",
   "execution_count": 24,
   "metadata": {},
   "outputs": [],
   "source": [
    "from dataclasses import replace\n",
    "\n",
    "import sympy as sy\n",
    "\n",
    "\n",
    "def to_sympy(expr: MonkeyExpression) -> sy.Expr:\n",
    "    # replace floor division with true division\n",
    "    monkeys = expr.monkeys.copy()\n",
    "    # use a sympy symbol for the human in the equation.\n",
    "    monkeys[\"humn\"] = replace(monkeys[\"humn\"], value=sy.Symbol(\"humn\"))\n",
    "    # replace the root operator with the equality operator from sympy\n",
    "    root = replace(monkeys[\"root\"], operator=sy.Eq)\n",
    "    return sy.nsimplify(root(monkeys), rational=True)\n",
    "\n",
    "\n",
    "def solve_for_human(expr: MonkeyExpression) -> int:\n",
    "    # and solve the equation numerically.\n",
    "    return round(sy.nsolve(to_sympy(expr), 0))\n",
    "\n",
    "\n",
    "assert solve_for_human(example) == 301"
   ]
  },
  {
   "cell_type": "code",
   "execution_count": 25,
   "metadata": {},
   "outputs": [
    {
     "name": "stdout",
     "output_type": "stream",
     "text": [
      "Part 2: 3678125408017\n"
     ]
    }
   ],
   "source": [
    "print(\"Part 2:\", solve_for_human(expression))"
   ]
  },
  {
   "cell_type": "code",
   "execution_count": 26,
   "metadata": {},
   "outputs": [
    {
     "data": {
      "text/markdown": [
       "## Visualisations\n",
       "\n",
       "### Example expression"
      ],
      "text/plain": [
       "<IPython.core.display.Markdown object>"
      ]
     },
     "metadata": {},
     "output_type": "display_data"
    },
    {
     "data": {
      "text/latex": [
       "$\\displaystyle \\frac{humn}{2} - \\frac{1}{2} = 150$"
      ],
      "text/plain": [
       "Eq(humn/2 - 1/2, 150)"
      ]
     },
     "metadata": {},
     "output_type": "display_data"
    },
    {
     "data": {
      "text/markdown": [
       "### Puzze input expression"
      ],
      "text/plain": [
       "<IPython.core.display.Markdown object>"
      ]
     },
     "metadata": {},
     "output_type": "display_data"
    },
    {
     "data": {
      "text/latex": [
       "$\\displaystyle 237683443649574 - \\frac{61952 humn}{1875} = 116154256834924$"
      ],
      "text/plain": [
       "Eq(237683443649574 - 61952*humn/1875, 116154256834924)"
      ]
     },
     "metadata": {},
     "output_type": "display_data"
    }
   ],
   "source": [
    "from sympy.simplify.cse_main import opt_cse\n",
    "from IPython.display import display, Markdown\n",
    "\n",
    "\n",
    "display(Markdown(\"## Visualisations\\n\\n### Example expression\"))\n",
    "display(to_sympy(example))\n",
    "display(Markdown(\"### Puzze input expression\"))\n",
    "display(to_sympy(expression))"
   ]
  }
 ],
 "metadata": {
  "kernelspec": {
   "display_name": "adventofcode-mOkh6lsX",
   "language": "python",
   "name": "python3"
  },
  "language_info": {
   "codemirror_mode": {
    "name": "ipython",
    "version": 3
   },
   "file_extension": ".py",
   "mimetype": "text/x-python",
   "name": "python",
   "nbconvert_exporter": "python",
   "pygments_lexer": "ipython3",
   "version": "3.11.0"
  },
  "orig_nbformat": 4,
  "vscode": {
   "interpreter": {
    "hash": "9d6cf3b08306b737fb9b86f70471afa917c6c712c3ae1b8930a0c76bbd7209aa"
   }
  }
 },
 "nbformat": 4,
 "nbformat_minor": 2
}
