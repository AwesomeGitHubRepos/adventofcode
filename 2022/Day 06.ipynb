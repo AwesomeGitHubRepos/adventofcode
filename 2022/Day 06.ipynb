{
 "cells": [
  {
   "attachments": {},
   "cell_type": "markdown",
   "metadata": {},
   "source": [
    "# Efficient handling of streams of data\n",
    "\n",
    "* https://adventofcode.com/2022/day/6\n",
    "\n",
    "The task asks us to find the first position where a stream of data contained 4 consecutive unique strings. How to best handle this efficiently?\n",
    "\n",
    "The best way to to do this is to only hold 4 characters at a time, and a [`deque`](https://docs.python.org/3/library/collections.html#collections.deque) makes it very efficient to add characters at the end and automatically drop the no-longer-needed 5th character from the other side.\n",
    "\n",
    "How to track that they are unique then? While we could pass the `deque` to a `set()` each step and check if the length is still 4, you can better use a [`Counter()`](https://docs.python.org/3/library/collections.html#collections.Counter) as that can be used to keep track of all the characters currently being tracked and only have to update the counts for the new character added and the old character dropped. If there are then 4 counts in the Counter, we know they must all be unique."
   ]
  },
  {
   "cell_type": "code",
   "execution_count": 1,
   "metadata": {},
   "outputs": [],
   "source": [
    "from collections import deque, Counter\n",
    "from itertools import islice\n",
    "from typing import Iterable\n",
    "\n",
    "\n",
    "def find_n_unique(stream: Iterable[str], n: int = 4) -> int:\n",
    "    values = iter(stream)\n",
    "    buffer = deque(islice(values, n), maxlen=n)\n",
    "    counts = Counter(buffer)\n",
    "    if all(v == 1 for v in counts.values()):\n",
    "        return n\n",
    "    for i, value in enumerate(values, n + 1):\n",
    "        counts -= Counter(buffer[0])\n",
    "        counts += Counter(value)\n",
    "        if len(counts) == n:\n",
    "            return i\n",
    "        buffer.append(value)\n",
    "\n",
    "\n",
    "part1_tests = {\n",
    "    \"bvwbjplbgvbhsrlpgdmjqwftvncz\": 5,\n",
    "    \"nppdvjthqldpwncqszvftbrmjlhg\": 6,\n",
    "    \"nznrnfrfntjfmvfwmzdfjlvtqnbhcprsg\": 10,\n",
    "    \"zcfzfwzzqfrljwzlrfnpqdbhtmscgvjw\": 11,\n",
    "}\n",
    "for test, expected in part1_tests.items():\n",
    "    result = find_n_unique(test)\n",
    "    assert result == expected, f\"{test}: {result} != {expected}\""
   ]
  },
  {
   "cell_type": "code",
   "execution_count": 2,
   "metadata": {},
   "outputs": [
    {
     "name": "stdout",
     "output_type": "stream",
     "text": [
      "Part 1: 1034\n"
     ]
    }
   ],
   "source": [
    "import aocd\n",
    "\n",
    "\n",
    "datastream = aocd.get_data(day=6, year=2022)\n",
    "print(\"Part 1:\", find_n_unique(datastream))"
   ]
  },
  {
   "attachments": {},
   "cell_type": "markdown",
   "metadata": {},
   "source": [
    "## Part 2, do it more!\n",
    "\n",
    "Part two was very easy, as I *already had made the number of characters a variable*. Plus, the approach was already sound and efficient, so all I had to do was pass in an extra argument to solve part 2."
   ]
  },
  {
   "cell_type": "code",
   "execution_count": 3,
   "metadata": {},
   "outputs": [],
   "source": [
    "part2_tests = {\n",
    "    \"mjqjpqmgbljsphdztnvjfqwrcgsmlb\": 19,\n",
    "    \"bvwbjplbgvbhsrlpgdmjqwftvncz\": 23,\n",
    "    \"nppdvjthqldpwncqszvftbrmjlhg\": 23,\n",
    "    \"nznrnfrfntjfmvfwmzdfjlvtqnbhcprsg\": 29,\n",
    "    \"zcfzfwzzqfrljwzlrfnpqdbhtmscgvjw\": 26,\n",
    "}\n",
    "for test, expected in part2_tests.items():\n",
    "    result = find_n_unique(test, 14)\n",
    "    assert result == expected, f\"{test}: {result} != {expected}\""
   ]
  },
  {
   "cell_type": "code",
   "execution_count": 4,
   "metadata": {},
   "outputs": [
    {
     "name": "stdout",
     "output_type": "stream",
     "text": [
      "Part 2: 2472\n"
     ]
    }
   ],
   "source": [
    "print(\"Part 2:\", find_n_unique(datastream, 14))"
   ]
  }
 ],
 "metadata": {
  "kernelspec": {
   "display_name": "Python 3.11.0 ('adventofcode-mOkh6lsX')",
   "language": "python",
   "name": "python3"
  },
  "language_info": {
   "codemirror_mode": {
    "name": "ipython",
    "version": 3
   },
   "file_extension": ".py",
   "mimetype": "text/x-python",
   "name": "python",
   "nbconvert_exporter": "python",
   "pygments_lexer": "ipython3",
   "version": "3.11.0"
  },
  "orig_nbformat": 4,
  "vscode": {
   "interpreter": {
    "hash": "8bb5fd587ebf4d90f905285c44a569046664a8863ee065ff2dd968491b671e06"
   }
  }
 },
 "nbformat": 4,
 "nbformat_minor": 2
}
