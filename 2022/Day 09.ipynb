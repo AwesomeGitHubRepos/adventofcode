{
 "cells": [
  {
   "cell_type": "markdown",
   "metadata": {},
   "source": [
    "# Slippery knots\n",
    "\n",
    "* https://adventofcode.com/2022/day/9\n",
    "\n",
    "We are asked to track the movement of the tail of a rope. The first thing to realise is that, *if* the tail moves, it'll move to the location the head was just at. This makes it easy to keep track of the new position it'll go to.\n",
    "\n",
    "So how to know when to move the tail? There are two options, basically; either track all 36 possible configurations (9 relative positions times 4 directions of movement), or calculate the maximum distance in either direction between tail and head after moving the head; if it is greater than 1, move the tail to where the head just was."
   ]
  },
  {
   "cell_type": "code",
   "execution_count": 1,
   "metadata": {},
   "outputs": [],
   "source": [
    "from enum import Enum\n",
    "from typing import Iterable, Iterator, NamedTuple, Self\n",
    "\n",
    "\n",
    "class Position(NamedTuple):\n",
    "    x: int\n",
    "    y: int\n",
    "\n",
    "    def __add__(self, other: Self) -> Self:\n",
    "        if not isinstance(other, Position):\n",
    "            return NotImplemented\n",
    "        return Position(self.x + other.x, self.y + other.y)\n",
    "\n",
    "    def __sub__(self, other: Self) -> Self:\n",
    "        if not isinstance(other, Position):\n",
    "            return NotImplemented\n",
    "        return Position(self.x - other.x, self.y - other.y)\n",
    "\n",
    "    def __or__(self, other: Self) -> bool:\n",
    "        \"\"\"Are two positions adjacent?\"\"\"\n",
    "        if not isinstance(other, Position):\n",
    "            return NotImplemented\n",
    "        return all(abs(v) <= 1 for v in self - other)\n",
    "\n",
    "    def __pos__(self) -> Self:\n",
    "        \"\"\"Unit vector\"\"\"\n",
    "        return Position(*(v // abs(v or 1) for v in self))\n",
    "\n",
    "    def __and__(self, other: Self) -> Self:\n",
    "        \"\"\"Move self towards other\n",
    "\n",
    "        Moves diagonally if other is not in line (same row or column)\n",
    "\n",
    "        \"\"\"\n",
    "        if not isinstance(other, Position):\n",
    "            return NotImplemented\n",
    "        unit = +(other - self)\n",
    "        return self + unit\n",
    "\n",
    "    def __len__(self) -> int:\n",
    "        \"\"\"Manhattan distance from origin\"\"\"\n",
    "        return sum(map(abs, self))\n",
    "\n",
    "\n",
    "class Direction(Enum):\n",
    "    U = Position(0, -1)\n",
    "    D = Position(0, 1)\n",
    "    L = Position(-1, 0)\n",
    "    R = Position(1, 0)\n",
    "\n",
    "\n",
    "class Rope:\n",
    "    head: Position = Position(0, 0)\n",
    "    tail: Position = Position(0, 0)\n",
    "\n",
    "    def __init__(self, head: Position | None = None, tail: Position | None = None):\n",
    "        if head is not None:\n",
    "            self.head = head\n",
    "        if tail is not None:\n",
    "            self.tail = tail\n",
    "\n",
    "    def __add__(self, dir: Direction) -> Self:\n",
    "        head, tail = self.head + dir.value, self.tail\n",
    "        if not head | tail:\n",
    "            # if the head moved too far away from the tail, move the tail to\n",
    "            # the previous head position.\n",
    "            tail = self.head\n",
    "        return __class__(head, tail)\n",
    "\n",
    "    def move(self, instructions: Iterable[str]) -> Iterator[Self]:\n",
    "        rope = self\n",
    "        for line in instructions:\n",
    "            move, _, count = line.partition(\" \")\n",
    "            dir = Direction[move]\n",
    "            for _ in range(int(count)):\n",
    "                rope += dir\n",
    "                yield rope\n",
    "\n",
    "\n",
    "def count_tail_positions(rope: Rope, instructions: Iterable[str]) -> int:\n",
    "    return len(set(rope.tail for rope in rope.move(instructions)))\n",
    "\n",
    "\n",
    "example = \"\"\"\\\n",
    "R 4\n",
    "U 4\n",
    "L 3\n",
    "D 1\n",
    "R 4\n",
    "D 1\n",
    "L 5\n",
    "R 2\n",
    "\"\"\".splitlines()\n",
    "assert count_tail_positions(Rope(), example) == 13"
   ]
  },
  {
   "cell_type": "code",
   "execution_count": 2,
   "metadata": {},
   "outputs": [
    {
     "name": "stdout",
     "output_type": "stream",
     "text": [
      "Part 1: 5907\n"
     ]
    }
   ],
   "source": [
    "import aocd\n",
    "\n",
    "instructions = aocd.get_data(day=9, year=2022).splitlines()\n",
    "print(\"Part 1:\", count_tail_positions(Rope(), instructions))"
   ]
  },
  {
   "cell_type": "markdown",
   "metadata": {},
   "source": [
    "## The situation is getting really knotty now!\n",
    "\n",
    "Falling down, we now need to track 10 updated positions. Well, _up_ to 10, because the moment a knot doesn't need to move the remainder of the rope won't move either. The principles are the same otherwise.\n",
    "\n",
    "The movements are not quite as simple anymore either; the next knot down can't simply move to where the previous knot was, because now we have added _diagonal_ moves to the mix. For straight moves (up, down, left, right), the next knot moves to the previous position of its predecessor, but if instead the preceding knot moved diagonally, the current knot needs to move one step towards it; either straight if in the same row or column, otherwise diagonally."
   ]
  },
  {
   "cell_type": "code",
   "execution_count": 3,
   "metadata": {},
   "outputs": [],
   "source": [
    "class LongRope(Rope):\n",
    "    knots: tuple[Position, ...]\n",
    "\n",
    "    def __init__(self, *knots: Position, length: int = 10):\n",
    "        if length is not None and len(knots) < length:\n",
    "            knots = (*knots, *(Position(0, 0) for _ in range(length - len(knots))))\n",
    "        self.knots = knots\n",
    "    \n",
    "    @property\n",
    "    def head(self) -> Position:\n",
    "        return self.knots[0]\n",
    "    \n",
    "    @property\n",
    "    def tail(self) -> Position:\n",
    "        return self.knots[-1]\n",
    "    \n",
    "    def __add__(self, dir: Direction) -> Self:\n",
    "        curr, *remainder = self.knots\n",
    "        curr += dir.value\n",
    "        knots = []\n",
    "        it = iter(remainder)\n",
    "        for knot in it:\n",
    "            knots.append(curr)\n",
    "            if curr | knot:\n",
    "                # done, remainder won't have to move\n",
    "                curr = knot\n",
    "                break\n",
    "            curr = knot & curr\n",
    "        return __class__(*knots, curr, *it)\n",
    "        \n",
    "\n",
    "assert count_tail_positions(LongRope(length=10), example) == 1\n",
    "\n",
    "larger_example = \"\"\"\\\n",
    "R 5\n",
    "U 8\n",
    "L 8\n",
    "D 3\n",
    "R 17\n",
    "D 10\n",
    "L 25\n",
    "U 20\n",
    "\"\"\".splitlines()\n",
    "assert count_tail_positions(LongRope(), larger_example) == 36"
   ]
  },
  {
   "cell_type": "code",
   "execution_count": 4,
   "metadata": {},
   "outputs": [
    {
     "name": "stdout",
     "output_type": "stream",
     "text": [
      "Part 1: 2303\n"
     ]
    }
   ],
   "source": [
    "print(\"Part 2:\", count_tail_positions(LongRope(), instructions))"
   ]
  }
 ],
 "metadata": {
  "kernelspec": {
   "display_name": "Python 3.11.0 ('adventofcode-mOkh6lsX')",
   "language": "python",
   "name": "python3"
  },
  "language_info": {
   "codemirror_mode": {
    "name": "ipython",
    "version": 3
   },
   "file_extension": ".py",
   "mimetype": "text/x-python",
   "name": "python",
   "nbconvert_exporter": "python",
   "pygments_lexer": "ipython3",
   "version": "3.11.0"
  },
  "orig_nbformat": 4,
  "vscode": {
   "interpreter": {
    "hash": "b1b6870d1e0a983b1943c858d70ac8a7c80477f9f3ca364eb8daa198319a8a87"
   }
  }
 },
 "nbformat": 4,
 "nbformat_minor": 2
}
