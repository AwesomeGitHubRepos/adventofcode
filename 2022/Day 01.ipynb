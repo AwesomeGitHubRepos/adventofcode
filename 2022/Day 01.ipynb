{
 "cells": [
  {
   "cell_type": "markdown",
   "metadata": {},
   "source": [
    "# Calorie Counting\n",
    "\n",
    "* https://adventofcode.com/2022/day/1\n",
    "\n",
    "Welcome back for another round of Advent of Code :-) As always, the first day is just a warm-up. We need to read the AoC puzzle data, split it into blocks per Elf, convert the lines to integers, sum them and find the highest value. Basic stuff."
   ]
  },
  {
   "cell_type": "code",
   "execution_count": 1,
   "metadata": {},
   "outputs": [],
   "source": [
    "import aocd\n",
    "\n",
    "calories = [\n",
    "    [int(line) for line in block.splitlines()]\n",
    "    for block in aocd.get_data(day=1, year=2022).split(\"\\n\\n\")\n",
    "]"
   ]
  },
  {
   "cell_type": "code",
   "execution_count": 2,
   "metadata": {},
   "outputs": [
    {
     "name": "stdout",
     "output_type": "stream",
     "text": [
      "Part 1: 64929\n"
     ]
    }
   ],
   "source": [
    "print(\"Part 1:\", max(sum(per_elf) for per_elf in calories))"
   ]
  },
  {
   "cell_type": "markdown",
   "metadata": {},
   "source": [
    "## Part 2 - a heap of calories\n",
    "\n",
    "Part two asks for the sum of the top three calorie sums. You could sum and sort, but that'd be inefficient, even if only in theory. You don't need to know the exacty ordering of all the calorie sums, only which 3 are bigger than all other calorie sums!\n",
    "\n",
    "What you want to use instead is a [_heap queue_](https://en.wikipedia.org/wiki/Binary_heap) to track the top 3 sums. The Python standard library includes the [`heapq` module](https://docs.python.org/3/library/heapq.html) that lets us do just that. In fact, picking the top N items from a sequence is common enough that the module has a dedicated function for it, [`heapq.nlargest()`](https://docs.python.org/3/library/heapq.html#heapq.nlargest), so we use that here."
   ]
  },
  {
   "cell_type": "code",
   "execution_count": 3,
   "metadata": {},
   "outputs": [
    {
     "name": "stdout",
     "output_type": "stream",
     "text": [
      "Part 2: 193697\n"
     ]
    }
   ],
   "source": [
    "import heapq\n",
    "\n",
    "print(\"Part 2:\", sum(heapq.nlargest(3, (sum(per_elf) for per_elf in calories))))"
   ]
  }
 ],
 "metadata": {
  "kernelspec": {
   "display_name": "Python 3.11.0 ('adventofcode-mOkh6lsX')",
   "language": "python",
   "name": "python3"
  },
  "language_info": {
   "codemirror_mode": {
    "name": "ipython",
    "version": 3
   },
   "file_extension": ".py",
   "mimetype": "text/x-python",
   "name": "python",
   "nbconvert_exporter": "python",
   "pygments_lexer": "ipython3",
   "version": "3.11.0"
  },
  "orig_nbformat": 4,
  "vscode": {
   "interpreter": {
    "hash": "8bb5fd587ebf4d90f905285c44a569046664a8863ee065ff2dd968491b671e06"
   }
  }
 },
 "nbformat": 4,
 "nbformat_minor": 2
}
