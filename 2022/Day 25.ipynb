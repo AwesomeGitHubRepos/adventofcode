{
 "cells": [
  {
   "attachments": {},
   "cell_type": "markdown",
   "metadata": {},
   "source": [
    "# Day 25, do as the Romans do?\n",
    "\n",
    "* https://adventofcode.com/2022/day/25 \n",
    "\n",
    "The SNAFU numbers put me in mind of [Roman numerals](https://en.wikipedia.org/wiki/Roman_numerals), which is the most widely known numerical notation that uses subtractive notation.\n",
    "\n",
    "We can, however, use standard base-N techniques to parse and form SNAFU numbers by just treating `=` and `-` as alternative digits for `3` and `4`. This works great for turning integers into SNAFU numbers _provided_ we also increment the next unit up (the 5s, 25s, 125s, etc.).  So, `3` becomes `1=`, `4` becomes `1-` purely because the next unit, the 5s, was incremented by one, and this also works for `8` becoming `1=`, `13` becoming `1==` (via `10` -> 2 * 5, and the remainder `3` becoming `=` and incrementing the 5s, but `3 * 5` then again results using `=` and incrementing the 25s).\n",
    "\n",
    "How do you add that extra digit to the next position then? By _rounding up_ when dividing the remainder value by 5; `value // 5` would give you the remainder after creating a right-most digit, while `(value + 2) // 5` gives you that remainder **plus 1** if the last digit was 3 or 4.\n",
    "\n",
    "I've implemented this as a subclass of the built-in `int()` type, to make it a little more interesting. Parsing a string is done in `Snafu.__new__()`, and turning the internal integer value to a string again is done in `__repr__()`."
   ]
  },
  {
   "cell_type": "code",
   "execution_count": 1,
   "metadata": {},
   "outputs": [
    {
     "name": "stdout",
     "output_type": "stream",
     "text": [
      "2=-1=0\n"
     ]
    }
   ],
   "source": [
    "from __future__ import annotations\n",
    "\n",
    "from typing import TYPE_CHECKING, Any, Final, Iterable, Self\n",
    "\n",
    "if TYPE_CHECKING:\n",
    "    from _typeshed import SupportsAdd\n",
    "\n",
    "\n",
    "SNAFU_DIGITS: Final[str] = \"012=-\"\n",
    "SNAFU_VALUES: Final[tuple[int, ...]] = (0, 1, 2, -2, -1)\n",
    "DIGIT_TO_VALUE: Final[dict[str, int]] = {\n",
    "    c: v for c, v in zip(SNAFU_DIGITS, SNAFU_VALUES)\n",
    "}\n",
    "\n",
    "\n",
    "class Snafu(int):\n",
    "    def __new__(cls, value: str | int | Self, _v=DIGIT_TO_VALUE) -> Self:\n",
    "        if isinstance(value, Snafu):\n",
    "            return value\n",
    "        if isinstance(value, str):\n",
    "            value: int = sum((5**i) * _v[c] for i, c in enumerate(reversed(value)))\n",
    "        return super().__new__(cls, value)\n",
    "\n",
    "    def __repr__(self, _d=SNAFU_DIGITS) -> str:\n",
    "        chars, i = [], self\n",
    "        while i:\n",
    "            chars.append(_d[i % 5])\n",
    "            i = (i + 2) // 5\n",
    "        return \"\".join(chars[::-1])\n",
    "\n",
    "    def __add__(self, rhs: Self) -> Self:\n",
    "        return type(self)(super().__add__(rhs))\n",
    "\n",
    "\n",
    "tests = (\n",
    "    (1, \"1\"),\n",
    "    (2, \"2\"),\n",
    "    (3, \"1=\"),\n",
    "    (4, \"1-\"),\n",
    "    (5, \"10\"),\n",
    "    (6, \"11\"),\n",
    "    (7, \"12\"),\n",
    "    (8, \"2=\"),\n",
    "    (9, \"2-\"),\n",
    "    (10, \"20\"),\n",
    "    (15, \"1=0\"),\n",
    "    (20, \"1-0\"),\n",
    "    (2022, \"1=11-2\"),\n",
    "    (12345, \"1-0---0\"),\n",
    "    (314159265, \"1121-1110-1=0\"),\n",
    ")\n",
    "for i, s in tests:\n",
    "    assert Snafu(s) == i\n",
    "    assert str(Snafu(i)) == s\n",
    "\n",
    "\n",
    "def snafu_sum(values: Iterable[str], /, cls: type[SupportsAdd[Any]] = Snafu) -> str:\n",
    "    # start sum() with a Snafu(0) number; alternatively, add Snafu.__radd__ to\n",
    "    # allow for 0 + *first Snafu value* to produce a Snafu number.\n",
    "    return repr(sum(map(cls, values), cls(\"0\")))\n",
    "\n",
    "\n",
    "example = \"\"\"\\\n",
    "1=-0-2\n",
    "12111\n",
    "2=0=\n",
    "21\n",
    "2=01\n",
    "111\n",
    "20012\n",
    "112\n",
    "1=-1=\n",
    "1-12\n",
    "12\n",
    "1=\n",
    "122\n",
    "\"\"\".splitlines()\n",
    "\n",
    "print(snafu_sum(example))\n",
    "assert snafu_sum(example) == \"2=-1=0\""
   ]
  },
  {
   "cell_type": "code",
   "execution_count": 2,
   "metadata": {},
   "outputs": [
    {
     "name": "stdout",
     "output_type": "stream",
     "text": [
      "Part 1: 2-21=02=1-121-2-11-0\n"
     ]
    }
   ],
   "source": [
    "import aocd\n",
    "\n",
    "\n",
    "numbers = aocd.get_data(day=25, year=2022).splitlines()\n",
    "print(\"Part 1:\", snafu_sum(numbers))"
   ]
  },
  {
   "attachments": {},
   "cell_type": "markdown",
   "metadata": {},
   "source": [
    "## No part 2, but we do one anyway\n",
    "\n",
    "Can we avoid conversion to integers and back when adding two Snafu values? We can if we can add the numbers *directly*. This works the same as with addition in base 10 or any other base: by carrying the remainder to the next column of digits. We can capture this in a table even; for any of the 25 different combinations of two SNAFU digits, give the resulting summed digit and any carry value.\n",
    "\n",
    "There are only 6 cases (out of 25) where there will be a carry value that is not `0`. Of those 6 there are only 4 _unique_ digit-and-carry pairs; 2 positive and 2 negative carries; The 2 positive variants produce either 3 or 4 and so must add an extra count to the next power of 5 (3 or `1=` and 4 or `1-`). The two _negative_ versions involve adding a subtractive digit (`=` or `-`) to another subtractive digit, and so creating -3 or -4. These lead to a unit being taken _away_ from the next power of 5, so the carry there is `-`. Put differently, `-3` is the same as `-5 + 2`, and `-4` is the same as `-5 + 1`, and that's exctly what using `-` as the carry expresses.\n",
    "\n",
    "However, as the timing runs at the end show, summing the numbers after parsing them into integers is about twice as fast!"
   ]
  },
  {
   "cell_type": "code",
   "execution_count": 3,
   "metadata": {},
   "outputs": [
    {
     "data": {
      "text/markdown": [
       "## Timings\n",
       "\n",
       "### Summing as integers:"
      ],
      "text/plain": [
       "<IPython.core.display.Markdown object>"
      ]
     },
     "metadata": {},
     "output_type": "display_data"
    },
    {
     "name": "stdout",
     "output_type": "stream",
     "text": [
      "216 µs ± 1.22 µs per loop (mean ± std. dev. of 7 runs, 1,000 loops each)\n"
     ]
    },
    {
     "data": {
      "text/markdown": [
       "### Summing as strings:"
      ],
      "text/plain": [
       "<IPython.core.display.Markdown object>"
      ]
     },
     "metadata": {},
     "output_type": "display_data"
    },
    {
     "name": "stdout",
     "output_type": "stream",
     "text": [
      "438 µs ± 5.11 µs per loop (mean ± std. dev. of 7 runs, 1,000 loops each)\n"
     ]
    }
   ],
   "source": [
    "from itertools import zip_longest\n",
    "from typing import Literal, TypeAlias\n",
    "\n",
    "from IPython.display import display, Markdown\n",
    "\n",
    "\n",
    "SnafuDigit: TypeAlias = Literal[\"0\", \"1\", \"2\", \"=\", \"-\"]\n",
    "Carry: TypeAlias = SnafuDigit\n",
    "SNAFU_ADD: Final[dict[tuple[SnafuDigit, SnafuDigit], tuple[Carry, SnafuDigit]]] = {\n",
    "    (\"0\", \"=\"): (\"0\", \"=\"),  #  0 + -2 = -2\n",
    "    (\"0\", \"-\"): (\"0\", \"-\"),  #  0 + -1 = -1\n",
    "    (\"0\", \"0\"): (\"0\", \"0\"),  #  0 +  0 =  0\n",
    "    (\"0\", \"1\"): (\"0\", \"1\"),  #  0 +  1 =  1\n",
    "    (\"0\", \"2\"): (\"0\", \"2\"),  #  0 +  2 =  2\n",
    "\n",
    "    (\"1\", \"=\"): (\"0\", \"-\"),  #  1 + -2 = -1\n",
    "    (\"1\", \"-\"): (\"0\", \"0\"),  #  1 + -1 =  0\n",
    "    (\"1\", \"0\"): (\"0\", \"1\"),  #  1 +  0 =  1\n",
    "    (\"1\", \"1\"): (\"0\", \"2\"),  #  1 +  1 =  2\n",
    "    (\"1\", \"2\"): (\"1\", \"=\"),  #  1 +  2 =  3 (5, -2)\n",
    "\n",
    "    (\"2\", \"=\"): (\"0\", \"0\"),  #  2 + -2 =  0\n",
    "    (\"2\", \"-\"): (\"0\", \"1\"),  #  2 + -1 =  1\n",
    "    (\"2\", \"0\"): (\"0\", \"2\"),  #  2 +  0 =  2\n",
    "    (\"2\", \"1\"): (\"1\", \"=\"),  #  2 +  1 =  3 (5, -2)\n",
    "    (\"2\", \"2\"): (\"1\", \"-\"),  #  2 +  2 =  4 (5, -1)\n",
    "\n",
    "    (\"=\", \"=\"): (\"-\", \"1\"),  # -2 + -2 = -4 (-5, 1)\n",
    "    (\"=\", \"-\"): (\"-\", \"2\"),  # -2 + -1 = -3 (-5, 2)\n",
    "    (\"=\", \"0\"): (\"0\", \"=\"),  # -2 +  0 = -2\n",
    "    (\"=\", \"1\"): (\"0\", \"-\"),  # -2 +  1 = -1\n",
    "    (\"=\", \"2\"): (\"0\", \"0\"),  # -2 +  2 =  0\n",
    "\n",
    "    (\"-\", \"=\"): (\"-\", \"2\"),  # -1 + -2 = -3 (-5, 2)\n",
    "    (\"-\", \"-\"): (\"0\", \"=\"),  # -1 + -1 = -2\n",
    "    (\"-\", \"0\"): (\"0\", \"-\"),  # -1 +  0 = -1\n",
    "    (\"-\", \"1\"): (\"0\", \"0\"),  # -1 +  1 =  0\n",
    "    (\"-\", \"2\"): (\"0\", \"1\"),  # -1 +  2 =  1\n",
    "}\n",
    "\n",
    "\n",
    "class PureSnafu:\n",
    "    _s: str\n",
    "\n",
    "    def __init__(self, s: str) -> Self:\n",
    "        self._s = s\n",
    "    \n",
    "    def __repr__(self) -> str:\n",
    "        return self._s\n",
    "\n",
    "    def __add__(self, rhs: Self) -> Self:\n",
    "        carry = \"0\"\n",
    "        digits = []\n",
    "        for a, b in zip_longest(reversed(self._s), reversed(rhs._s), fillvalue=\"0\"):\n",
    "            c, digit = SNAFU_ADD[a, b]\n",
    "            cc, cdigit = SNAFU_ADD[carry, digit]\n",
    "            _, carry = SNAFU_ADD[c, cc]\n",
    "            digits.append(cdigit)\n",
    "        if carry != \"0\":\n",
    "            digits.append(carry)\n",
    "        return __class__(\"\".join(digits[::-1]))\n",
    "    \n",
    "    def __eq__(self, other: Self) -> bool:\n",
    "        if not isinstance(other, __class__):\n",
    "            return NotImplemented\n",
    "        return self._s == other._s\n",
    "        \n",
    "\n",
    "assert snafu_sum(example, cls=PureSnafu) == \"2=-1=0\"\n",
    "assert snafu_sum(numbers) == snafu_sum(numbers, cls=PureSnafu)\n",
    "\n",
    "display(Markdown(\"## Timings\\n\\n### Summing as integers:\"))\n",
    "%timeit snafu_sum(numbers)\n",
    "display(Markdown(\"### Summing as strings:\"))\n",
    "%timeit snafu_sum(numbers, cls=PureSnafu)"
   ]
  }
 ],
 "metadata": {
  "kernelspec": {
   "display_name": "adventofcode-mOkh6lsX",
   "language": "python",
   "name": "python3"
  },
  "language_info": {
   "codemirror_mode": {
    "name": "ipython",
    "version": 3
   },
   "file_extension": ".py",
   "mimetype": "text/x-python",
   "name": "python",
   "nbconvert_exporter": "python",
   "pygments_lexer": "ipython3",
   "version": "3.11.0"
  },
  "orig_nbformat": 4,
  "vscode": {
   "interpreter": {
    "hash": "b1b6870d1e0a983b1943c858d70ac8a7c80477f9f3ca364eb8daa198319a8a87"
   }
  }
 },
 "nbformat": 4,
 "nbformat_minor": 2
}
