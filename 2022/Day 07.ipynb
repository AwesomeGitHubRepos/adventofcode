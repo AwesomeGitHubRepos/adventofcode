{
 "cells": [
  {
   "cell_type": "markdown",
   "metadata": {},
   "source": [
    "# Filesystem operations\n",
    "\n",
    "* https://adventofcode.com/2022/day/7\n",
    "\n",
    "We have to do two things:\n",
    "\n",
    "- parse the command sequence and the results of the `ls` commands\n",
    "- track directory sizes\n",
    "\n",
    "So, I built a filesystem representation to track what directories and files are found, as well as their sizes. This structure can then be traversed (via a `.walk()` iterator) and so we can find all the directories that _recursively_ have the required size. Note that *nested* directories count; in the example `/a/e` counts, but so does `/a` (which is the size of `/a/e` plus other entries in `/a`). To avoid repeatedly calculating the size of subdirectories each time we get the size of a parent, I cache the result of the `size` property.\n",
    "\n",
    "The filesystem commands are very simple; only `cd <name>` and `ls` are used, and `cd` only uses `/` (go to the root), `..` (go to the parent directory) or a single directory name (no slashes). The filesystem listings are also very simple, either `dir <name>` for directories or `<size> <name>` for files, and nothing else, so I used the new `match` construct to match the contents of a line (split on whitespace) against the possible options."
   ]
  },
  {
   "cell_type": "code",
   "execution_count": 1,
   "metadata": {},
   "outputs": [],
   "source": [
    "from abc import ABC, abstractmethod\n",
    "from collections import deque\n",
    "from dataclasses import dataclass, field\n",
    "from functools import cached_property\n",
    "from typing import Iterable, Iterator, Self\n",
    "\n",
    "\n",
    "@dataclass\n",
    "class Entry(ABC):\n",
    "    name: str\n",
    "\n",
    "    @property\n",
    "    @abstractmethod\n",
    "    def size(self) -> int:\n",
    "        ...\n",
    "\n",
    "    @classmethod\n",
    "    def from_ls_output(cls, size_or_dir: str, name: str) -> Self:\n",
    "        return Directory(name) if size_or_dir == \"dir\" else File(name, int(size_or_dir))\n",
    "\n",
    "\n",
    "\n",
    "@dataclass\n",
    "class File(Entry):\n",
    "    _size: int\n",
    "\n",
    "    @property\n",
    "    def size(self) -> int:\n",
    "        return self._size\n",
    "\n",
    "@dataclass\n",
    "class Directory(Entry):\n",
    "    entries: dict[str, Entry] = field(default_factory=dict)\n",
    "\n",
    "    @cached_property\n",
    "    def size(self) -> int:\n",
    "        return sum(entry.size for entry in self.entries.values())\n",
    "    \n",
    "    def __iadd__(self, entry: Entry) -> Self:\n",
    "        self.entries[entry.name] = entry\n",
    "        return self\n",
    "    \n",
    "    def __contains__(self, name: str) -> bool:\n",
    "        return name in self.entries\n",
    "    \n",
    "    def __getitem__(self, name: str) -> Entry:\n",
    "        return self.entries[name]\n",
    "    \n",
    "\n",
    "@dataclass\n",
    "class Filesystem:\n",
    "    root: Directory\n",
    "\n",
    "    @classmethod\n",
    "    def from_lines(cls, lines: Iterable[str]) -> Self:\n",
    "        root = Directory(\"/\")\n",
    "        path = [root]\n",
    "        for line in lines:\n",
    "            cwd = path[-1]\n",
    "            match line.split():\n",
    "                case [\"$\", \"ls\"]:\n",
    "                    continue\n",
    "                case [\"$\", \"cd\", \"/\"]:\n",
    "                    path = [root]\n",
    "                case [\"$\", \"cd\", \"..\"]:\n",
    "                    if cwd is not root:\n",
    "                        path.pop()\n",
    "                case [\"$\", \"cd\", name] if name in cwd and isinstance(entry := cwd[name], Directory):\n",
    "                    path.append(entry)\n",
    "                case [\"$\", \"cd\", name]:\n",
    "                    raise ValueError(f\"Invalid path: {name}\")\n",
    "                case [\"$\", *cmd]:\n",
    "                    raise ValueError(\"Unknown command: {' '.join(cmd)}\")\n",
    "                case [size_or_dir, name]:\n",
    "                    cwd += Entry.from_ls_output(size_or_dir, name)\n",
    "                case _:\n",
    "                    raise ValueError(\"Unknown output: {line}\")\n",
    "        return cls(root)\n",
    "\n",
    "    def walk(self) -> Iterator[tuple[Directory, list[str]]]:\n",
    "        \"\"\"Traverse the filesystem directories in depth-first order.\n",
    "\n",
    "        The second element is the list of subdirectory names; you can remove directories from this list\n",
    "        to prune traversal.\n",
    "\n",
    "        \"\"\"\n",
    "        stack = deque([self.root])\n",
    "        while stack:\n",
    "            cwd = stack.pop()\n",
    "            names = [name for name, entry in cwd.entries.items() if isinstance(entry, Directory)]\n",
    "            yield cwd, names\n",
    "            for name in reversed(names):\n",
    "                stack.append(cwd.entries[name])\n",
    "\n",
    "\n",
    "example = \"\"\"\\\n",
    "$ cd /\n",
    "$ ls\n",
    "dir a\n",
    "14848514 b.txt\n",
    "8504156 c.dat\n",
    "dir d\n",
    "$ cd a\n",
    "$ ls\n",
    "dir e\n",
    "29116 f\n",
    "2557 g\n",
    "62596 h.lst\n",
    "$ cd e\n",
    "$ ls\n",
    "584 i\n",
    "$ cd ..\n",
    "$ cd ..\n",
    "$ cd d\n",
    "$ ls\n",
    "4060174 j\n",
    "8033020 d.log\n",
    "5626152 d.ext\n",
    "7214296 k\n",
    "\"\"\".splitlines()\n",
    "\n",
    "test_fs = Filesystem.from_lines(example)\n",
    "assert sum(size for dir, _ in test_fs.walk() if (size := dir.size) < 100000) == 95437"
   ]
  },
  {
   "cell_type": "code",
   "execution_count": 2,
   "metadata": {},
   "outputs": [
    {
     "name": "stdout",
     "output_type": "stream",
     "text": [
      "Part 1: 1644735\n"
     ]
    }
   ],
   "source": [
    "import aocd\n",
    "\n",
    "terminal_output = aocd.get_data(day=7, year=2022).splitlines()\n",
    "filesystem = Filesystem.from_lines(terminal_output)\n",
    "print(\"Part 1:\", sum(size for dir, _ in filesystem.walk() if (size := dir.size) < 100000))"
   ]
  },
  {
   "cell_type": "markdown",
   "metadata": {},
   "source": [
    "## Part two, optimising space\n",
    "\n",
    "We are asked to find the one directory that could free enough space; so basically the *smallest* value that's bigger than the difference between actual diskspace used, and the target space used.\n",
    "\n",
    "Because I cached the file sizes in the tree, this is easily achieved even without further optimisation, but you can avoid traversing into subfolders once you figured out that the parent folder is not large enough. \n",
    "\n",
    "I've refactored the filesystem `walk()` method to work like the [`os.walk()` method](https://docs.python.org/3/library/os.html#os.walk), in that you can _prune_ the traversal by removing entries from the `dirnames` list. This lets us trivially prune candidate directories."
   ]
  },
  {
   "cell_type": "code",
   "execution_count": 3,
   "metadata": {},
   "outputs": [],
   "source": [
    "from typing import Final\n",
    "\n",
    "\n",
    "AVAILABLE: Final[int] = 70000000\n",
    "TARGET_FREE: Final[int] = 30000000\n",
    "MAX_USED: Final[int] = AVAILABLE - TARGET_FREE\n",
    "\n",
    "def find_space(filesystem: Filesystem) -> int:\n",
    "    total = filesystem.root.size\n",
    "    if total <= MAX_USED:\n",
    "        return 0\n",
    "    min_size = total - MAX_USED\n",
    "    def dirsizes() -> Iterator[int]:\n",
    "        for dir, dirnames in filesystem.walk():\n",
    "            if dir.size < min_size:\n",
    "                # prune search\n",
    "                dirnames.clear()\n",
    "                continue\n",
    "            yield dir.size\n",
    "    return min(dirsizes())\n",
    "\n",
    "assert find_space(test_fs) == 24933642"
   ]
  },
  {
   "cell_type": "code",
   "execution_count": 4,
   "metadata": {},
   "outputs": [
    {
     "name": "stdout",
     "output_type": "stream",
     "text": [
      "Part 2: 1300850\n"
     ]
    }
   ],
   "source": [
    "\n",
    "print(\"Part 2:\", find_space(filesystem))"
   ]
  }
 ],
 "metadata": {
  "kernelspec": {
   "display_name": "Python 3.11.0 ('adventofcode-mOkh6lsX')",
   "language": "python",
   "name": "python3"
  },
  "language_info": {
   "codemirror_mode": {
    "name": "ipython",
    "version": 3
   },
   "file_extension": ".py",
   "mimetype": "text/x-python",
   "name": "python",
   "nbconvert_exporter": "python",
   "pygments_lexer": "ipython3",
   "version": "3.11.0"
  },
  "orig_nbformat": 4,
  "vscode": {
   "interpreter": {
    "hash": "b1b6870d1e0a983b1943c858d70ac8a7c80477f9f3ca364eb8daa198319a8a87"
   }
  }
 },
 "nbformat": 4,
 "nbformat_minor": 2
}
