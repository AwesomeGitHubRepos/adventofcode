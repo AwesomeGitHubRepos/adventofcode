{
 "cells": [
  {
   "cell_type": "markdown",
   "metadata": {},
   "source": [
    "# Playing Rock, Paper, Scissors\n",
    "\n",
    "- https://adventofcode.com/2022/day/2\n",
    "\n",
    "I like to model things like Rock, Paper and Scissors as [Python enums](https://docs.python.org/3/library/enum.html); you can give each enum member more than just a simple value and so I encoded in them their strategy guide letter (`A`, `B`, `C`), their scores, and what they defeat. A second enum models the outcome of a game; here the values are the score for winning, losing or pulling a draw.\n",
    "\n",
    "I strongly suspect that the interpretation of `X`, `Y` and `Z` is going to change in part 2, so I kept that as a separate mapping, `responses`.\n"
   ]
  },
  {
   "cell_type": "code",
   "execution_count": 1,
   "metadata": {},
   "outputs": [],
   "source": [
    "from enum import Enum\n",
    "from typing import TYPE_CHECKING, Self\n",
    "\n",
    "\n",
    "class RPS(Enum):\n",
    "    # value, score, defeats\n",
    "    rock = \"A\", 1, \"scissors\"\n",
    "    paper = \"B\", 2, \"rock\"\n",
    "    scissors = \"C\", 3, \"paper\"\n",
    "\n",
    "    if TYPE_CHECKING:\n",
    "        score: int\n",
    "        _defeats: str\n",
    "\n",
    "    def __new__(cls, value: str, score: int, defeats: str) -> Self:\n",
    "        instance = object.__new__(cls)\n",
    "        instance._value_ = value\n",
    "        instance.score = score\n",
    "        instance._defeats = defeats\n",
    "        return instance\n",
    "\n",
    "    def __gt__(self, other: Self) -> bool:\n",
    "        \"\"\"Test if this gesture defeats other\"\"\"\n",
    "        if not isinstance(other, __class__):\n",
    "            return NotImplemented\n",
    "        return other.name == self._defeats\n",
    "\n",
    "    def __str__(self) -> str:\n",
    "        return self.name.capitalize()\n",
    "\n",
    "\n",
    "class Outcome(Enum):\n",
    "    loose = 0\n",
    "    draw = 3\n",
    "    win = 6\n",
    "\n",
    "    @property\n",
    "    def score(self) -> int:\n",
    "        return self.value\n",
    "\n",
    "    @classmethod\n",
    "    def from_round(cls, opponent: RPS, own: RPS) -> Self:\n",
    "        if opponent > own:\n",
    "            return cls.loose\n",
    "        elif own > opponent:\n",
    "            return cls.win\n",
    "        else:\n",
    "            return cls.draw\n",
    "\n",
    "    @classmethod\n",
    "    def score_round(cls, opponent: RPS, own: RPS) -> int:\n",
    "        return cls.from_round(opponent, own).score + own.score\n",
    "\n",
    "\n",
    "responses = {\"X\": RPS.rock, \"Y\": RPS.paper, \"Z\": RPS.scissors}\n",
    "test_input = [line.split() for line in \"A Y\\nB X\\nC Z\".splitlines()]\n",
    "expected_scores = [8, 1, 6]\n",
    "for (opponent, response), expected in zip(test_input, expected_scores):\n",
    "    actual = Outcome.score_round(RPS(opponent), RPS(responses[response]))\n",
    "    message = f\"{opponent} vs {response}, expected {expected}, got {actual}\"\n",
    "    assert actual == expected, message"
   ]
  },
  {
   "cell_type": "code",
   "execution_count": 2,
   "metadata": {},
   "outputs": [
    {
     "name": "stdout",
     "output_type": "stream",
     "text": [
      "Part 1: 12458\n"
     ]
    }
   ],
   "source": [
    "import aocd\n",
    "\n",
    "strategy_guide: list[tuple[str, str]] = [\n",
    "    tuple(line.split()) for line in aocd.get_data(day=2, year=2022).splitlines()\n",
    "]\n",
    "\n",
    "total = sum(\n",
    "    Outcome.score_round(RPS(opponent), RPS(responses[response]))\n",
    "    for opponent, response in strategy_guide\n",
    ")\n",
    "print(\"Part 1:\", total)"
   ]
  },
  {
   "cell_type": "markdown",
   "metadata": {},
   "source": [
    "## Part 2\n",
    "\n",
    "And indeed, as expected, the interpretation for the `X`, `Y` and `Z` letters was more complex, but because I already had a mapping, it was trivial to extend that with a second level mapping the letters `A`, `B` and `C` to the correct choices for each (e.g. if you have to win, map each option to the winning letter).\n"
   ]
  },
  {
   "cell_type": "code",
   "execution_count": 3,
   "metadata": {},
   "outputs": [],
   "source": [
    "responses = {\n",
    "    \"X\": {\"A\": \"C\", \"B\": \"A\", \"C\": \"B\"},\n",
    "    \"Y\": {\"A\": \"A\", \"B\": \"B\", \"C\": \"C\"},\n",
    "    \"Z\": {\"A\": \"B\", \"B\": \"C\", \"C\": \"A\"},\n",
    "}\n",
    "\n",
    "expected_scores = [4, 1, 7]\n",
    "for (opponent, response), expected in zip(test_input, expected_scores):\n",
    "    actual = Outcome.score_round(RPS(opponent), RPS(responses[response][opponent]))\n",
    "    assert (\n",
    "        actual == expected\n",
    "    ), f\"{opponent} vs {response}, expected {expected}, got {actual}\""
   ]
  },
  {
   "cell_type": "code",
   "execution_count": 4,
   "metadata": {},
   "outputs": [
    {
     "name": "stdout",
     "output_type": "stream",
     "text": [
      "Part 2: 12683\n"
     ]
    }
   ],
   "source": [
    "total = sum(\n",
    "    Outcome.score_round(RPS(opponent), RPS(responses[response][opponent]))\n",
    "    for opponent, response in strategy_guide\n",
    ")\n",
    "print(\"Part 2:\", total)"
   ]
  }
 ],
 "metadata": {
  "kernelspec": {
   "display_name": "Python 3.11.0 ('adventofcode-mOkh6lsX')",
   "language": "python",
   "name": "python3"
  },
  "language_info": {
   "codemirror_mode": {
    "name": "ipython",
    "version": 3
   },
   "file_extension": ".py",
   "mimetype": "text/x-python",
   "name": "python",
   "nbconvert_exporter": "python",
   "pygments_lexer": "ipython3",
   "version": "3.12.0"
  },
  "orig_nbformat": 4,
  "vscode": {
   "interpreter": {
    "hash": "b1b6870d1e0a983b1943c858d70ac8a7c80477f9f3ca364eb8daa198319a8a87"
   }
  }
 },
 "nbformat": 4,
 "nbformat_minor": 2
}
