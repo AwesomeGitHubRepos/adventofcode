{
 "cells": [
  {
   "attachments": {},
   "cell_type": "markdown",
   "metadata": {},
   "source": [
    "# Going the (Manhattan) distance\n",
    "\n",
    "* https://adventofcode.com/2022/day/15\n",
    "\n",
    "It's all about Manhattan distances again, and the grid reminds me about [Day 6, 2018](../2018/Day%2006.ipynb), so I'm busting out the [`scipy.spatial.distance` module](https://docs.scipy.org/doc/scipy/reference/spatial.distance.html) again.\n",
    "\n",
    "For part 1, we only need to know how many points on a specific line are covered by the sensors. Each sensor-beacon combo entails a specific Manhattan distance. Using `cdist()` you can then calculate the distance between all points on that line to all the sensors, and only take those points that are equal or lower to the sensor-beacon distance. Then count the number of points that have at least one sensor covering the point, and we are done."
   ]
  },
  {
   "cell_type": "code",
   "execution_count": 1,
   "metadata": {},
   "outputs": [],
   "source": [
    "import re\n",
    "from typing import Final, Self\n",
    "\n",
    "import numpy as np\n",
    "from scipy.spatial import distance\n",
    "\n",
    "\n",
    "NOT_NUMBERS_OR_NL: Final[re.Pattern[str]] = re.compile(r\"[^\\n\\d-]+\")\n",
    "\n",
    "\n",
    "class SensorReport:\n",
    "    def __init__(self, sensors: np.ndarray, beacons: np.ndarray):\n",
    "        self.sensors = sensors\n",
    "        self.beacons = beacons\n",
    "        self.reach = np.sum(np.abs(self.sensors - self.beacons), axis=1)\n",
    "\n",
    "    @classmethod\n",
    "    def from_report_text(cls, report: str) -> Self:\n",
    "        data = NOT_NUMBERS_OR_NL.sub(\" \", report)\n",
    "        coords = np.genfromtxt(data.splitlines(), delimiter=\" \", dtype=int)\n",
    "        return cls(coords[:, :2], coords[:, 2:])\n",
    "\n",
    "    def count_line_cover(self, y: int) -> int:\n",
    "        sensors, reach, beacons = self.sensors, self.reach, self.beacons\n",
    "        # array with all possible intersection points on line y\n",
    "        x = np.arange((sensors[:, 0] - reach).min(), (sensors[:, 0] + reach).max() + 1)\n",
    "        line = np.pad(x[:, None], ((0, 0), (0, 1)), constant_values=y)\n",
    "        # the distances from each sensor to each point on the line\n",
    "        distances = distance.cdist(sensors, line, \"cityblock\")\n",
    "        # what points are in reach of at least one sensor?\n",
    "        reached = np.any(distances <= reach[:, None], axis=0)\n",
    "        # How many beacons already lie on the line (and so can be discounted)\n",
    "        beacon_count = np.unique(beacons[beacons[:, 1] == y], axis=0).shape[0]\n",
    "        # how many points are covered, minus the number of beacons\n",
    "        return np.sum(reached) - beacon_count\n",
    "\n",
    "\n",
    "example = SensorReport.from_report_text(\n",
    "    \"\"\"\\\n",
    "Sensor at x=2, y=18: closest beacon is at x=-2, y=15\n",
    "Sensor at x=9, y=16: closest beacon is at x=10, y=16\n",
    "Sensor at x=13, y=2: closest beacon is at x=15, y=3\n",
    "Sensor at x=12, y=14: closest beacon is at x=10, y=16\n",
    "Sensor at x=10, y=20: closest beacon is at x=10, y=16\n",
    "Sensor at x=14, y=17: closest beacon is at x=10, y=16\n",
    "Sensor at x=8, y=7: closest beacon is at x=2, y=10\n",
    "Sensor at x=2, y=0: closest beacon is at x=2, y=10\n",
    "Sensor at x=0, y=11: closest beacon is at x=2, y=10\n",
    "Sensor at x=20, y=14: closest beacon is at x=25, y=17\n",
    "Sensor at x=17, y=20: closest beacon is at x=21, y=22\n",
    "Sensor at x=16, y=7: closest beacon is at x=15, y=3\n",
    "Sensor at x=14, y=3: closest beacon is at x=15, y=3\n",
    "Sensor at x=20, y=1: closest beacon is at x=15, y=3\n",
    "\"\"\"\n",
    ")\n",
    "assert example.count_line_cover(10) == 26"
   ]
  },
  {
   "cell_type": "code",
   "execution_count": 2,
   "metadata": {},
   "outputs": [
    {
     "name": "stdout",
     "output_type": "stream",
     "text": [
      "Part 1: 5525990\n"
     ]
    }
   ],
   "source": [
    "import aocd\n",
    "\n",
    "\n",
    "report = SensorReport.from_report_text(aocd.get_data(day=15, year=2022))\n",
    "print(\"Part 1:\", report.count_line_cover(2000000))"
   ]
  },
  {
   "attachments": {},
   "cell_type": "markdown",
   "metadata": {},
   "source": [
    "## Part 2, find all the points\n",
    "\n",
    "We can't  just use the `cdist()` function here, because calculating the distance of 3 dozen sensors to 16 trillion (16 * 10 ^ 12) is a bit more than even scipy can handle efficiently.\n",
    "\n",
    "Instead, you can take the y intercepts of each of the 4 diagonals of each sensor range **plus or minus 1** (depending on which side of the sensor you are); the beacon location will lie on an intersection of two such diagonals. The diagonals are always at a 45º angle, so have a slope of either 1 or -1, and we only need to look at those diagonals that lie between two scanner ranges (so the upper diagonal of one matches the lower diagonal of another).\n",
    "\n",
    "Once you have determined the shared positive and negative slope intercepts, you can get the intersections points. There can be more than one such a point, but with only a handful *now* we can use the `cdist()` function to find the one point that's not within any of the ranges."
   ]
  },
  {
   "cell_type": "code",
   "execution_count": 3,
   "metadata": {},
   "outputs": [],
   "source": [
    "from itertools import product\n",
    "\n",
    "\n",
    "def locate_distress_tuning_freq(report: SensorReport, max_xy: int) -> int:\n",
    "    sensors, reach = report.sensors, report.reach\n",
    "    # intercepts for the diagonal **just outside** each sensing range\n",
    "    # in pos, pos, neg, neg form.\n",
    "    yintercepts = np.stack(\n",
    "        [\n",
    "            sensors[:, 1] - sensors[:, 0] - reach - 1,\n",
    "            sensors[:, 1] - sensors[:, 0] + reach + 1,\n",
    "            sensors[:, 1] + sensors[:, 0] - reach - 1,\n",
    "            sensors[:, 1] + sensors[:, 0] + reach + 1,\n",
    "        ],\n",
    "        axis=1,\n",
    "    )\n",
    "\n",
    "    # combinations of each set of slopes with each other set\n",
    "    combos = np.stack(np.triu_indices(len(report.sensors), k=1), axis=-1)\n",
    "    paired = yintercepts[combos]\n",
    "\n",
    "    # paired sensors with matching intercepts, for positive and negative slopes\n",
    "    # this matches (lower pos, lower neg) of one sensor with (upper pos, upper neg)\n",
    "    # of the other sensor, and vice versa, into a [bool, bool] row per combination\n",
    "    pos = np.unique(\n",
    "        np.concatenate(\n",
    "            [\n",
    "                paired[paired[:, 0, 0] == paired[:, 1, 1]][:, 0, 0],\n",
    "                paired[paired[:, 0, 1] == paired[:, 1, 0]][:, 0, 1],\n",
    "            ]\n",
    "        )\n",
    "    )\n",
    "    neg = np.unique(\n",
    "        np.concatenate(\n",
    "            [\n",
    "                paired[paired[:, 0, 2] == paired[:, 1, 3]][:, 0, 2],\n",
    "                paired[paired[:, 0, 3] == paired[:, 1, 2]][:, 0, 3],\n",
    "            ]\n",
    "        )\n",
    "    )\n",
    "    combined = np.transpose([np.tile(pos, len(neg)), np.repeat(neg, len(pos))])\n",
    "    x = (-combined[:, 0] + combined[:, 1]) // 2\n",
    "    y = x + combined[:, 0]\n",
    "    points = np.stack([x, y], axis=1)\n",
    "    unscanned = points[\n",
    "        ~np.any(\n",
    "            (distance.cdist(sensors, points, \"cityblock\") <= reach[:, None]), axis=0\n",
    "        )\n",
    "    ].reshape(-1)\n",
    "    assert unscanned.size == 2\n",
    "    return unscanned[0] * 4000000 + unscanned[1]\n",
    "\n",
    "\n",
    "assert locate_distress_tuning_freq(example, 20) == 56000011"
   ]
  },
  {
   "cell_type": "code",
   "execution_count": 4,
   "metadata": {},
   "outputs": [
    {
     "name": "stdout",
     "output_type": "stream",
     "text": [
      "Part 2: 11756174628223\n"
     ]
    }
   ],
   "source": [
    "print(\"Part 2:\", locate_distress_tuning_freq(report, 4000000))"
   ]
  }
 ],
 "metadata": {
  "kernelspec": {
   "display_name": "Python 3 (ipykernel)",
   "language": "python",
   "name": "python3"
  },
  "language_info": {
   "codemirror_mode": {
    "name": "ipython",
    "version": 3
   },
   "file_extension": ".py",
   "mimetype": "text/x-python",
   "name": "python",
   "nbconvert_exporter": "python",
   "pygments_lexer": "ipython3",
   "version": "3.11.0"
  },
  "orig_nbformat": 4,
  "vscode": {
   "interpreter": {
    "hash": "b1b6870d1e0a983b1943c858d70ac8a7c80477f9f3ca364eb8daa198319a8a87"
   }
  }
 },
 "nbformat": 4,
 "nbformat_minor": 2
}
