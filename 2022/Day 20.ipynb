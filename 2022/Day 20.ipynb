{
 "cells": [
  {
   "attachments": {},
   "cell_type": "markdown",
   "metadata": {},
   "source": [
    "# Day 20, linking by numbers\n",
    "\n",
    "* https://adventofcode.com/2022/day/20\n",
    "\n",
    "This is a pure datastructure puzzle. If you have a large ordered sequence of values, and you need to insert or delete values at arbitrary points in that sequence, then the obvious choice is to use a [linked list](https://en.wikipedia.org/wiki/Linked_list). Since we want to shift values forward _and_ backward, you'd want it to be [doubly linked](https://en.wikipedia.org/wiki/Linked_list#Doubly_linked_list). In a regular Python list, moving a value around would require shifting all the values following after it up and down, or you'd have to manually swap out values between the source and target indices, and that either gets very unwieldy or very inefficient. But in a linked list, you'd simply unlink the item that's being moved and re-link it in the new position.\n",
    "\n",
    "The Python standard library does have [`collections.deque`](https://docs.python.org/3/library/collections.html#collections.deque), but because we have to track which values have moved already and which ones still to process, we'd still have to scan through the values each time or do complicated bookkeeping, killing the efficiency of having a double-linked datastructure in the first place.\n",
    "\n",
    "The option I'm picking here is to implement the doubly-linked list directly. That's not complicated, but it's not something most Python developers have to think about."
   ]
  },
  {
   "cell_type": "code",
   "execution_count": 1,
   "metadata": {},
   "outputs": [],
   "source": [
    "from __future__ import annotations\n",
    "\n",
    "from typing import Iterable, Iterator, Self\n",
    "\n",
    "\n",
    "class EncryptedNumber:\n",
    "    __slots__ = \"value\", \"next\", \"prev\"\n",
    "\n",
    "    value: int\n",
    "    next: \"EncryptedNumber\"\n",
    "    prev: \"EncryptedNumber\"\n",
    "\n",
    "    def __init__(\n",
    "        self,\n",
    "        value: int,\n",
    "        prev: \"EncryptedNumber\" | None = None,\n",
    "        next: \"EncryptedNumber\" | None = None,\n",
    "    ):\n",
    "        self.value = value\n",
    "        self.next = self if next is None else next\n",
    "        self.prev = self if prev is None else prev\n",
    "\n",
    "    def append(self, value: int):\n",
    "        new = EncryptedNumber(value, next=self.next, prev=self)\n",
    "        self.next.prev = new\n",
    "        self.next = new\n",
    "        return new\n",
    "\n",
    "    def remove(self):\n",
    "        \"\"\"Remove this node from the sequence\"\"\"\n",
    "        sprev, snext = self.prev, self.next\n",
    "        sprev.next, snext.prev = snext, sprev\n",
    "    \n",
    "    def insert(self, other: Self):\n",
    "        \"\"\"Insert other in between this node and and the next\"\"\"\n",
    "        other.next, self.next.prev = self.next, other\n",
    "        self.next, other.prev = other, self\n",
    "\n",
    "    def mix(self, length: int):\n",
    "        # locate the new prev and next nodes based on the value\n",
    "        # The value is adjusted to avoid circling the list multiple times, with\n",
    "        # the length *minus 1* because the current node is not included.\n",
    "        target, value = self, self.value % (length - 1)\n",
    "        if not value:\n",
    "            return\n",
    "        self.remove()\n",
    "        # value is positive, always, thanks to the modulo operation above. That\n",
    "        # may not be the most efficient direction however, so test if we can't\n",
    "        # reduce the rotation steps by going the other way.\n",
    "        if value > (length - 1) // 2:\n",
    "            # go the other way, it's shorter.\n",
    "            value = -length + value\n",
    "            while value:\n",
    "                target = target.prev\n",
    "                value += 1\n",
    "        else:\n",
    "            while value:\n",
    "                target = target.next\n",
    "                value -= 1\n",
    "        target.insert(self)\n",
    "\n",
    "\n",
    "class EncryptedFile:\n",
    "    head: EncryptedNumber\n",
    "    order: list[EncryptedNumber]\n",
    "    length: int\n",
    "\n",
    "    def __init__(self, values: Iterable[int]):\n",
    "        it = iter(values)\n",
    "        self.head = tail = EncryptedNumber(next(it))\n",
    "        self.order = [self.head]\n",
    "        add = self.order.append\n",
    "        for value in it:\n",
    "            tail = tail.append(value)\n",
    "            add(tail)\n",
    "            if value == 0:\n",
    "                self.head = tail\n",
    "        self.length = len(self.order)\n",
    "\n",
    "    def __str__(self):\n",
    "        values = []\n",
    "        node = self.head\n",
    "        while True:\n",
    "            values.append(str(node.value))\n",
    "            node = node.next\n",
    "            if node is self.head:\n",
    "                break\n",
    "        return f\"[{', '.join(values)}]\"\n",
    "    \n",
    "    def __len__(self):\n",
    "        return self.length\n",
    "    \n",
    "    def __iter__(self) -> Iterator[EncryptedNumber]:\n",
    "        node = self.head\n",
    "        while True:\n",
    "            yield node\n",
    "            node = node.next\n",
    "            if node is self.head:\n",
    "                break\n",
    "\n",
    "    def mix(self):\n",
    "        for node in self.order:\n",
    "            node.mix(self.length)\n",
    "\n",
    "    @property\n",
    "    def coordinates(self) -> tuple[int, int, int]:\n",
    "        \"\"\"Return the 1000th, 2000th and 3000th values after 0\"\"\"\n",
    "        coords, pos, node = [], 0, self.head\n",
    "        for _ in range(3):\n",
    "            for _ in range(1000 % self.length):\n",
    "                node = node.next\n",
    "            coords.append(node.value)\n",
    "        return tuple(coords)\n",
    "\n",
    "\n",
    "example = \"1 2 -3 3 -2 0 4\".split()\n",
    "example_file = EncryptedFile(map(int, example))\n",
    "example_file.mix()\n",
    "assert example_file.coordinates == (4, -3, 2)"
   ]
  },
  {
   "cell_type": "code",
   "execution_count": 2,
   "metadata": {},
   "outputs": [
    {
     "name": "stdout",
     "output_type": "stream",
     "text": [
      "Part 1: 6387\n"
     ]
    }
   ],
   "source": [
    "import aocd\n",
    "\n",
    "\n",
    "file_data = [int(v) for v in aocd.get_data(day=20, year=2022).splitlines()]\n",
    "file = EncryptedFile(file_data)\n",
    "file.mix()\n",
    "print(\"Part 1:\", sum(file.coordinates))"
   ]
  },
  {
   "attachments": {},
   "cell_type": "markdown",
   "metadata": {},
   "source": [
    "## Part 2, scale it up\n",
    "\n",
    "Because we have an efficient structure, implementing part two is trivial. We can take the description on face value and just mix ten times after updating the values with the key."
   ]
  },
  {
   "cell_type": "code",
   "execution_count": 3,
   "metadata": {},
   "outputs": [],
   "source": [
    "from typing import Final\n",
    "\n",
    "\n",
    "KEY: Final[int] = 811589153\n",
    "\n",
    "def decrypt(file: EncryptedFile, key: int) -> tuple[int, int, int]:\n",
    "    for number in file:\n",
    "        number.value *= key\n",
    "    for _ in range(10):\n",
    "        file.mix()\n",
    "    return file.coordinates\n",
    "\n",
    "\n",
    "example_file = EncryptedFile(map(int, example))\n",
    "assert decrypt(example_file, KEY) == (811589153, 2434767459, -1623178306)"
   ]
  },
  {
   "cell_type": "code",
   "execution_count": 4,
   "metadata": {},
   "outputs": [
    {
     "name": "stdout",
     "output_type": "stream",
     "text": [
      "Part 2: 2455057187825\n"
     ]
    }
   ],
   "source": [
    "file = EncryptedFile(file_data)\n",
    "print(\"Part 2:\", sum(decrypt(file, KEY)))"
   ]
  }
 ],
 "metadata": {
  "kernelspec": {
   "display_name": "adventofcode-mOkh6lsX",
   "language": "python",
   "name": "python3"
  },
  "language_info": {
   "codemirror_mode": {
    "name": "ipython",
    "version": 3
   },
   "file_extension": ".py",
   "mimetype": "text/x-python",
   "name": "python",
   "nbconvert_exporter": "python",
   "pygments_lexer": "ipython3",
   "version": "3.11.0"
  },
  "orig_nbformat": 4,
  "vscode": {
   "interpreter": {
    "hash": "9d6cf3b08306b737fb9b86f70471afa917c6c712c3ae1b8930a0c76bbd7209aa"
   }
  }
 },
 "nbformat": 4,
 "nbformat_minor": 2
}
