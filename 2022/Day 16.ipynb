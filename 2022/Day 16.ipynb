{
 "cells": [
  {
   "attachments": {},
   "cell_type": "markdown",
   "metadata": {},
   "source": [
    "# Letting it all out\n",
    "\n",
    "* https://adventofcode.com/2022/day/16\n",
    "\n",
    "The puzzles are getting tricker! This is, in essence, an optimisation problem.\n",
    "\n",
    "Start with figuring out how many steps it'll take to move from any given valve to any of the other valves, because there is no point in calculating this each time you want to evaluate what valve next to visit. You can use the [Floyd-Warshall algorithm](https://en.wikipedia.org/wiki/Floyd%E2%80%93Warshall_algorithm) to do this.\n",
    "\n",
    "Next, the number of valves with a non-zero flow rate is low enough that we can use a breath-first search across all the different possible paths; keeping a mapping from visited nodes to pressure relieved to only follow up on a path that visits the same valves in a different order leading to a better value."
   ]
  },
  {
   "cell_type": "code",
   "execution_count": 1,
   "metadata": {},
   "outputs": [],
   "source": [
    "import re\n",
    "from abc import ABC, abstractmethod\n",
    "from collections import deque\n",
    "from contextlib import suppress\n",
    "from dataclasses import dataclass\n",
    "from functools import cached_property\n",
    "from heapq import heappush, heappop\n",
    "from itertools import permutations\n",
    "from typing import Any, Final, Iterator, NamedTuple, Self\n",
    "\n",
    "\n",
    "LINE: Final[re.Pattern[str]] = re.compile(\n",
    "    r\"^Valve (?P<name>[A-Z]{2}) has flow rate=(?P<rate>\\d+); \"\n",
    "    r\"(?:tunnels lead to valves|tunnel leads to valve) (?P<valves>[A-Z, ]*)$\"\n",
    ")\n",
    "\n",
    "\n",
    "class Valve(NamedTuple):\n",
    "    name: str\n",
    "    rate: int\n",
    "    valves: frozenset[str]\n",
    "\n",
    "    @classmethod\n",
    "    def from_line(cls, line: str) -> Self:\n",
    "        match = LINE.match(line)\n",
    "        assert match is not None\n",
    "        rate = int(match[\"rate\"])\n",
    "        valves = frozenset(v.strip() for v in match[\"valves\"].split(\",\"))\n",
    "        return cls(match[\"name\"], rate, valves)\n",
    "\n",
    "    def __repr__(self) -> str:\n",
    "        return (\n",
    "            f\"{type(self).__name__}({self.name}, {self.rate}, \"\n",
    "            f\"[{','.join(sorted(self.valves))}])\"\n",
    "        )\n",
    "\n",
    "\n",
    "@dataclass\n",
    "class TunnelStep:\n",
    "    valve: Valve\n",
    "    time_left: int = 30\n",
    "    total_released: int = 0\n",
    "    visited: frozenset[Valve] = frozenset()\n",
    "\n",
    "    def traverse(self, graph: \"Graph\") -> Iterator[Self]:\n",
    "        for valve, steps in graph.distances[self.valve].items():\n",
    "            if valve in self.visited or not valve.rate:\n",
    "                # either we already opened the valve here, or it is not worth\n",
    "                # stopping here as the effect would be 0.\n",
    "                continue\n",
    "            if (time_left := self.time_left - steps - 1) <= 0:\n",
    "                # no point in going here, the result would be 0.\n",
    "                continue\n",
    "            yield __class__(\n",
    "                valve,\n",
    "                time_left,\n",
    "                self.total_released + valve.rate * time_left,\n",
    "                self.visited | {valve},\n",
    "            )\n",
    "\n",
    "\n",
    "class Graph:\n",
    "    def __init__(self, nodes: dict[str, Valve]):\n",
    "        self.nodes = nodes\n",
    "\n",
    "    @classmethod\n",
    "    def from_text(cls, text: str) -> Self:\n",
    "        return cls({(v := Valve.from_line(line)).name: v for line in text.splitlines()})\n",
    "\n",
    "    @cached_property\n",
    "    def distances(self) -> dict[Valve, dict[Valve, int]]:\n",
    "        \"\"\"Minimal distances to move from one valve to another\n",
    "        \n",
    "        Uses the Floyd-Warshall algorithm to find the minimum distances from\n",
    "        any node in the graph to any other node.\n",
    "        \"\"\"\n",
    "        graph = self.nodes\n",
    "        dist: dict[Valve, dict[Valve, int]] = {v: {graph[n]: 1 for n in v.valves} for v in graph.values()}\n",
    "        max = len(graph)\n",
    "        for k, i, j in permutations(graph.values(), r=3):\n",
    "            with suppress(KeyError):\n",
    "                dist[i][j] = min(dist[i][k] + dist[k][j], dist[i].get(j, max))\n",
    "        return dist\n",
    "\n",
    "    def max_pressure_reliefs(self, remaining: int = 30) -> dict[frozenset[Valve], int]:\n",
    "        max_relief: dict[frozenset[Valve], int] = {}\n",
    "        queue = deque([TunnelStep(self.nodes[\"AA\"], remaining)])\n",
    "        while queue:\n",
    "            node = queue.popleft()\n",
    "            for new in node.traverse(self):\n",
    "                max_relief[new.visited] = max(max_relief.get(new.visited, 0), new.total_released)\n",
    "                queue.append(new)\n",
    "        return max_relief\n",
    "\n",
    "    def optimise_pressure_relief(self) -> int:\n",
    "        return max(self.max_pressure_reliefs().values())\n",
    "\n",
    "\n",
    "example = Graph.from_text(\n",
    "    \"\"\"\\\n",
    "Valve AA has flow rate=0; tunnels lead to valves DD, II, BB\n",
    "Valve BB has flow rate=13; tunnels lead to valves CC, AA\n",
    "Valve CC has flow rate=2; tunnels lead to valves DD, BB\n",
    "Valve DD has flow rate=20; tunnels lead to valves CC, AA, EE\n",
    "Valve EE has flow rate=3; tunnels lead to valves FF, DD\n",
    "Valve FF has flow rate=0; tunnels lead to valves EE, GG\n",
    "Valve GG has flow rate=0; tunnels lead to valves FF, HH\n",
    "Valve HH has flow rate=22; tunnel leads to valve GG\n",
    "Valve II has flow rate=0; tunnels lead to valves AA, JJ\n",
    "Valve JJ has flow rate=21; tunnel leads to valve II\n",
    "\"\"\"\n",
    ")\n",
    "\n",
    "assert example.optimise_pressure_relief() == 1651"
   ]
  },
  {
   "cell_type": "code",
   "execution_count": 2,
   "metadata": {},
   "outputs": [
    {
     "name": "stdout",
     "output_type": "stream",
     "text": [
      "Part 1: 1617\n"
     ]
    }
   ],
   "source": [
    "import aocd\n",
    "\n",
    "\n",
    "graph = Graph.from_text(aocd.get_data(day=16, year=2022))\n",
    "print(\"Part 1:\", graph.optimise_pressure_relief())"
   ]
  },
  {
   "attachments": {},
   "cell_type": "markdown",
   "metadata": {},
   "source": [
    "## Part 2: What noise we make when we stamp!\n",
    "\n",
    "We get the help of an elephant, so we can open more valves!\n",
    "\n",
    "The trick here is to run through the same search as step one, so simply opening valves with one person. Because this produces a mapping of *set of valves* -> *relieved pressure*, we can then find all combinations of (partial) paths where the set of valves are _disjoint_, and calculate the maximum pressure relief we can obtain."
   ]
  },
  {
   "cell_type": "code",
   "execution_count": 3,
   "metadata": {},
   "outputs": [],
   "source": [
    "from itertools import combinations\n",
    "\n",
    "\n",
    "def double_up(graph: Graph) -> int:\n",
    "    paths = graph.max_pressure_reliefs(26)\n",
    "    return max(paths[me] + paths[elephant]\n",
    "            for me, elephant in combinations(paths, r=2) if me.isdisjoint(elephant)\n",
    "    )\n",
    "\n",
    "\n",
    "assert double_up(example) == 1707"
   ]
  },
  {
   "cell_type": "code",
   "execution_count": 4,
   "metadata": {},
   "outputs": [
    {
     "name": "stdout",
     "output_type": "stream",
     "text": [
      "Part 2: 2171\n"
     ]
    }
   ],
   "source": [
    "print(\"Part 2:\", double_up(graph))"
   ]
  }
 ],
 "metadata": {
  "kernelspec": {
   "display_name": "adventofcode-mOkh6lsX",
   "language": "python",
   "name": "python3"
  },
  "language_info": {
   "codemirror_mode": {
    "name": "ipython",
    "version": 3
   },
   "file_extension": ".py",
   "mimetype": "text/x-python",
   "name": "python",
   "nbconvert_exporter": "python",
   "pygments_lexer": "ipython3",
   "version": "3.11.0"
  },
  "orig_nbformat": 4,
  "vscode": {
   "interpreter": {
    "hash": "b1b6870d1e0a983b1943c858d70ac8a7c80477f9f3ca364eb8daa198319a8a87"
   }
  }
 },
 "nbformat": 4,
 "nbformat_minor": 2
}
