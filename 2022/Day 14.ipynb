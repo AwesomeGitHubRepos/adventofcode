{
 "cells": [
  {
   "attachments": {},
   "cell_type": "markdown",
   "metadata": {},
   "source": [
    "# Sandy waterfalls\n",
    "\n",
    "* https://adventofcode.com/2022/day/14\n",
    "\n",
    "Today's puzzle references back to [2018 Day 17](../2018/Day%2017.ipynb), with good reason! This is, essentially, the exact same problem but with added diagonals as the sand piles up. Except, that makes the problem entirely different.\n",
    "\n",
    "In this case, it is actually easier to just keep a set of obstacle coordinates. Sand follows a path past the obstacles until it comes to rest, adding to the obstacles. At some point, sand passes below the lowest `y` coordinate, at which point you are done. Do note that each sandgrain follows the exact same path as the previous grain, minus the last step!"
   ]
  },
  {
   "cell_type": "code",
   "execution_count": 1,
   "metadata": {},
   "outputs": [],
   "source": [
    "from dataclasses import dataclass\n",
    "from itertools import product\n",
    "from typing import Final, Iterable, Iterator, NamedTuple, Never, Self, assert_never\n",
    "\n",
    "\n",
    "class Pos(NamedTuple):\n",
    "    x: int\n",
    "    y: int\n",
    "\n",
    "    def __add__(self, other: Self) -> Self:\n",
    "        return Pos(self.x + other.x, self.y + other.y)\n",
    "\n",
    "\n",
    "DIRECTIONS: Final[tuple[Pos, Pos, Pos]] = (Pos(0, 1), Pos(-1, 1), Pos(1, 1))\n",
    "\n",
    "\n",
    "@dataclass\n",
    "class Cave:\n",
    "    rock: set[Pos]\n",
    "\n",
    "    @classmethod\n",
    "    def from_rock_lines(cls, lines: Iterable[str]) -> Self:\n",
    "        rock: set[Pos] = set()\n",
    "        for line in lines:\n",
    "            coords = iter(map(int, coord.split(\",\")) for coord in line.split(\"->\"))\n",
    "            fx, fy = next(coords)\n",
    "            for tx, ty in coords:\n",
    "                dx, dy = 1 if tx > fx else -1, 1 if ty > fy else -1\n",
    "                rock.update(\n",
    "                    Pos(x, y)\n",
    "                    for x, y in product(range(fx, tx + dx, dx), range(fy, ty + dy, dy))\n",
    "                )\n",
    "                fx, fy = tx, ty\n",
    "        return cls(rock)\n",
    "\n",
    "    def simulate_sand(self, with_floor: bool = False) -> Iterator[Pos]:\n",
    "        occupied = set(self.rock)\n",
    "        # set the boundaries; max_y is the point at which grains will enter\n",
    "        # free-fall, or for part 2, hit the floor.\n",
    "        max_y = max(p.y for p in occupied) + with_floor\n",
    "        sand_path = [Pos(500, 0)]\n",
    "        while True:\n",
    "            if not sand_path:  # starting point was popped of\n",
    "                return\n",
    "            while True:\n",
    "                for d in DIRECTIONS:\n",
    "                    if (grain := sand_path[-1] + d) not in occupied:\n",
    "                        if grain.y <= max_y:\n",
    "                            sand_path.append(grain)\n",
    "                            break\n",
    "                        if not with_floor:\n",
    "                            return occupied - self.rock\n",
    "                else:\n",
    "                    grain = sand_path.pop()\n",
    "                    occupied.add(grain)\n",
    "                    yield grain\n",
    "                    break\n",
    "        assert_never(Never)\n",
    "\n",
    "\n",
    "example = Cave.from_rock_lines(\n",
    "    [\"498,4 -> 498,6 -> 496,6\", \"503,4 -> 502,4 -> 502,9 -> 494,9\"]\n",
    ")\n",
    "assert sum(1 for _ in example.simulate_sand()) == 24"
   ]
  },
  {
   "cell_type": "code",
   "execution_count": 2,
   "metadata": {},
   "outputs": [
    {
     "name": "stdout",
     "output_type": "stream",
     "text": [
      "Part 1: 683\n"
     ]
    }
   ],
   "source": [
    "import aocd\n",
    "\n",
    "\n",
    "cave = Cave.from_rock_lines(aocd.get_data(day=14, year=2022).splitlines())\n",
    "print(\"Part 1:\", sum(1 for _ in cave.simulate_sand()))"
   ]
  },
  {
   "attachments": {},
   "cell_type": "markdown",
   "metadata": {},
   "source": [
    "## Part 2 bottoms out\n",
    "\n",
    "In part 2, we need to add an infinite floor past our maximum Y coordinate. I've refactored my code to update the maximum by 1 as that means the new sand grain coordinate would have to penetrate this infinitely-wide floor at that point. I also needed to add a new check for the grain not having moved, and we are done! Just take into account that we need to return the current grain counter plus 1, as it is the next grain that'll be blocked."
   ]
  },
  {
   "cell_type": "code",
   "execution_count": 3,
   "metadata": {},
   "outputs": [],
   "source": [
    "assert sum(1 for _ in example.simulate_sand(with_floor=True)) == 93"
   ]
  },
  {
   "cell_type": "code",
   "execution_count": 4,
   "metadata": {},
   "outputs": [
    {
     "name": "stdout",
     "output_type": "stream",
     "text": [
      "Part 2: 28821\n"
     ]
    }
   ],
   "source": [
    "print(\"Part 2:\", sum(1 for _ in cave.simulate_sand(with_floor=True)))"
   ]
  }
 ],
 "metadata": {
  "kernelspec": {
   "display_name": "adventofcode-mOkh6lsX",
   "language": "python",
   "name": "python3"
  },
  "language_info": {
   "codemirror_mode": {
    "name": "ipython",
    "version": 3
   },
   "file_extension": ".py",
   "mimetype": "text/x-python",
   "name": "python",
   "nbconvert_exporter": "python",
   "pygments_lexer": "ipython3",
   "version": "3.11.0 (main, Dec 15 2022, 16:19:50) [Clang 14.0.0 (clang-1400.0.29.202)]"
  },
  "orig_nbformat": 4,
  "vscode": {
   "interpreter": {
    "hash": "b1b6870d1e0a983b1943c858d70ac8a7c80477f9f3ca364eb8daa198319a8a87"
   }
  }
 },
 "nbformat": 4,
 "nbformat_minor": 2
}
