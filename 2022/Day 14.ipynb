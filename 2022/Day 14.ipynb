{
 "cells": [
  {
   "attachments": {},
   "cell_type": "markdown",
   "metadata": {},
   "source": [
    "# Sandy waterfalls\n",
    "\n",
    "* https://adventofcode.com/2022/day/14\n",
    "\n",
    "Today's puzzle references back to [2018 Day 17](../2018/Day%2017.ipynb), with good reason! This is, essentially, the exact same problem but with added diagonals as the sand piles up. Except, that makes the problem entirely different.\n",
    "\n",
    "In this case, it is actually easier to just keep a set of obstacle coordinates. Sand follows a path past the obstacles until it comes to rest, adding to the obstacles. At some point, sand passes below the lowest `y` coordinate, at which point you are done."
   ]
  },
  {
   "cell_type": "code",
   "execution_count": 1,
   "metadata": {},
   "outputs": [],
   "source": [
    "from collections.abc import Collection\n",
    "from dataclasses import dataclass\n",
    "from itertools import count, product\n",
    "from typing import Iterable, NamedTuple, Self, TypeAlias, assert_never\n",
    "\n",
    "\n",
    "class Pos(NamedTuple):\n",
    "    x: int\n",
    "    y: int\n",
    "\n",
    "    def __add__(self, other: Self) -> Self:\n",
    "        return Pos(self.x + other.x, self.y + other.y)\n",
    "\n",
    "\n",
    "@dataclass\n",
    "class Cave:\n",
    "    rock: set[Pos]\n",
    "\n",
    "    @classmethod\n",
    "    def from_rock_lines(cls, lines: Iterable[str]) -> Self:\n",
    "        rock = set()\n",
    "        for line in lines:\n",
    "            coords = iter(map(int, coord.split(\",\")) for coord in line.split(\"->\"))\n",
    "            fx, fy = next(coords)\n",
    "            for tx, ty in coords:\n",
    "                dx, dy = 1 if tx > fx else -1, 1 if ty > fy else -1\n",
    "                rock.update(\n",
    "                    Pos(x, y)\n",
    "                    for x, y in product(range(fx, tx + dx, dx), range(fy, ty + dy, dy))\n",
    "                )\n",
    "                fx, fy = tx, ty\n",
    "        return cls(rock)\n",
    "\n",
    "    def simulate_sand(self, with_floor: bool = False) -> int:\n",
    "        occupied = set(self.rock)\n",
    "        # set the boundaries; min_y is the lowest non-occupied point below the origin\n",
    "        # and max_y is the point at which grains will enter free-fall, or for part 2,\n",
    "        # hit the floor.\n",
    "        min_y, max_y = min(p.y for p in occupied), max(p.y for p in occupied)\n",
    "        if with_floor:\n",
    "            max_y += 1  # floor is at +2, but we test for y > max_y\n",
    "        directions: tuple[Pos, Pos, Pos] = (Pos(0, 1), Pos(-1, 1), Pos(1, 1))\n",
    "        for grains in count():\n",
    "            sand = Pos(500, min_y)\n",
    "            if sand in occupied:\n",
    "                return grains\n",
    "            while True:\n",
    "                for d in directions:\n",
    "                    if (new := sand + d) not in occupied:\n",
    "                        if new.y <= max_y:\n",
    "                            sand = new\n",
    "                            break\n",
    "                        if not with_floor:\n",
    "                            return grains\n",
    "                else:\n",
    "                    min_y = min(min_y, max(0, sand.y - 1))\n",
    "                    occupied.add(sand)\n",
    "                    break\n",
    "        assert_never(\"Can't ever get here\")\n",
    "\n",
    "\n",
    "example = Cave.from_rock_lines(\n",
    "    [\"498,4 -> 498,6 -> 496,6\", \"503,4 -> 502,4 -> 502,9 -> 494,9\"]\n",
    ")\n",
    "assert example.simulate_sand() == 24"
   ]
  },
  {
   "cell_type": "code",
   "execution_count": 2,
   "metadata": {},
   "outputs": [
    {
     "name": "stdout",
     "output_type": "stream",
     "text": [
      "Part 1: 683\n"
     ]
    }
   ],
   "source": [
    "import aocd\n",
    "\n",
    "\n",
    "cave = Cave.from_rock_lines(aocd.get_data(day=14, year=2022).splitlines())\n",
    "print(\"Part 1:\", cave.simulate_sand())"
   ]
  },
  {
   "attachments": {},
   "cell_type": "markdown",
   "metadata": {},
   "source": [
    "## Part 2 bottoms out\n",
    "\n",
    "In part 2, we need to add an infinite floor past our maximum Y coordinate. I've refactored my code to update the maximum by 1 as that means the new sand grain coordinate would have to penetrate this infinitely-wide floor at that point. I also needed to add a new check for the grain not having moved, and we are done! Just take into account that we need to return the current grain counter plus 1, as it is the next grain that'll be blocked.\n",
    "\n",
    "To speed things up a little, I added a mininum Y coordinate that grains need to fall from; this cuts out a considerable amount of looping almost every grain has to go through."
   ]
  },
  {
   "cell_type": "code",
   "execution_count": 3,
   "metadata": {},
   "outputs": [],
   "source": [
    "assert example.simulate_sand(with_floor=True) == 93"
   ]
  },
  {
   "cell_type": "code",
   "execution_count": 4,
   "metadata": {},
   "outputs": [
    {
     "name": "stdout",
     "output_type": "stream",
     "text": [
      "Part 2: 28821\n"
     ]
    }
   ],
   "source": [
    "print(\"Part 2:\", cave.simulate_sand(with_floor=True))"
   ]
  }
 ],
 "metadata": {
  "kernelspec": {
   "display_name": "adventofcode-mOkh6lsX",
   "language": "python",
   "name": "python3"
  },
  "language_info": {
   "codemirror_mode": {
    "name": "ipython",
    "version": 3
   },
   "file_extension": ".py",
   "mimetype": "text/x-python",
   "name": "python",
   "nbconvert_exporter": "python",
   "pygments_lexer": "ipython3",
   "version": "3.11.0"
  },
  "orig_nbformat": 4,
  "vscode": {
   "interpreter": {
    "hash": "b1b6870d1e0a983b1943c858d70ac8a7c80477f9f3ca364eb8daa198319a8a87"
   }
  }
 },
 "nbformat": 4,
 "nbformat_minor": 2
}
