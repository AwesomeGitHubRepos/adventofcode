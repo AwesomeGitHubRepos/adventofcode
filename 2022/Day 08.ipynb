{
 "cells": [
  {
   "cell_type": "markdown",
   "metadata": {},
   "source": [
    "# Seeing the trees for the forest\n",
    "\n",
    "- https://adventofcode.com/2022/day/8\n",
    "\n",
    "As often the case, it's best to look for the _opposite_ condition, so what trees are _not_ visible?\n",
    "\n",
    "This is a typical job for numpy arrays; sweep a line in each of the 4 directions to track the max height seen up to that point, and the trees on the next line are visible if they are taller than the max height seen. Because we need to check for visibility from 4 directions, we start by giving all the trees a score of 4, subtract 1 for trees obscured in the current direction, and after the 4 scans count how many non-zero values are left.\n",
    "\n",
    "For an forest of size $n$ trees, this takes $O(n)$ time (so, linear).\n"
   ]
  },
  {
   "cell_type": "code",
   "execution_count": 1,
   "metadata": {},
   "outputs": [],
   "source": [
    "from dataclasses import dataclass\n",
    "from typing import Self\n",
    "\n",
    "import numpy as np\n",
    "\n",
    "\n",
    "@dataclass\n",
    "class Forest:\n",
    "    trees: np.ndarray[np.uint8]\n",
    "\n",
    "    @classmethod\n",
    "    def from_text(cls, text: str) -> Self:\n",
    "        return cls(np.genfromtxt(text.splitlines(), delimiter=1, dtype=np.uint8))\n",
    "\n",
    "    @property\n",
    "    def visible(self) -> int:\n",
    "        \"\"\"Count the number of trees visible from direct lines of sight.\"\"\"\n",
    "\n",
    "        visible = np.full_like(self.trees, 4)\n",
    "        trees = self.trees\n",
    "        for _ in range(4):\n",
    "            trees, visible = np.rot90(trees), np.rot90(visible)\n",
    "            treeheight = trees[0]\n",
    "            for tree_row, vis_row in zip(trees[1:], visible[1:]):\n",
    "                vis_row[tree_row <= treeheight] -= 1\n",
    "                treeheight = np.maximum(treeheight, tree_row)\n",
    "        return (visible > 0).sum()\n",
    "\n",
    "\n",
    "example = \"\"\"\\\n",
    "30373\n",
    "25512\n",
    "65332\n",
    "33549\n",
    "35390\n",
    "\"\"\"\n",
    "assert Forest.from_text(example).visible == 21"
   ]
  },
  {
   "cell_type": "code",
   "execution_count": 2,
   "metadata": {},
   "outputs": [
    {
     "name": "stdout",
     "output_type": "stream",
     "text": [
      "Part 1: 1672\n"
     ]
    }
   ],
   "source": [
    "import aocd\n",
    "\n",
    "mapdata = aocd.get_data(day=8, year=2022)\n",
    "\n",
    "print(\"Part 1:\", Forest.from_text(mapdata).visible)"
   ]
  },
  {
   "cell_type": "markdown",
   "metadata": {},
   "source": [
    "## Part 2, counting adjacent lower trees\n",
    "\n",
    "For part 2, you essentially have to count the number of trees in any given direction are _lower_ than that tree, plus 1 if not reaching the edge.\n",
    "\n",
    "A few things to note:\n",
    "\n",
    "- The trees at the edges have a score of 0, because they have at least one direction that scores 0. The distances are multiplied, and multiplying by 0 always gives 0.\n",
    "- Any tree not at the edge will score _at least_ 1: if the trees in all directions are of the same height or higher, it scores $1 \\times 1 \\times 1 \\times 1 = 1$.\n",
    "- When looking at a row of length $n$, we can represent the distance to the nearest tree of height $h$ in an array of size $10 \\times n$, which are incremented by 1 each time you move to the next row to process. You can then set the distances of trees with height $h$ _and lower_ to zero (those are obscured by the taller tree). This way we can then update the distances for the next row without having to scan back to already-processed rows.\n",
    "\n",
    "This can perhaps best be explained with an example, tracking just the trees in one column; from the example the right-most column has the tree heights 3, 2, 2, 9 and 0. Starting at the edge, the distance array for all heights is set to `(0, 0, 0, 0, 0, 0, 0, 0, 0, 0)` (10 zeros), and after the first step, those are _all_ incremented to 1.\n",
    "\n",
    "- The second tree has height 2, and the `distance[2]` value is 1, so that's the number of trees it can see looking up. We then set the distance for trees height 0 through to 2 to zero, and then increment all values in the array by one. Now we have `(1, 1, 1, 2, 2, 2, 2, 2, 2, 2)`, meaning, that if the next tree we look at has height 3 through to 9, it could see 2 trees, otherwise, you can see 1 tree.\n",
    "- The next tree height is 2, so it can see 1 tree looking north. Like before, we set height indices 0 through to 2 to zero, and increment all distances again, giving us `(1, 1, 1, 3, 3, 3, 3, 3, 3, 3)`. We now have a tree of height 9, so it can see 3 trees looking up. Setting the distances for heights 0 through 9 to zero and then incrementing all distances brings us back to all 1s.\n",
    "- The last tree has height 0, and so can see 1 tree looking up.\n",
    "\n",
    "This too lets us find the heighest scenic value in $O(n)$ (linear) time.\n"
   ]
  },
  {
   "cell_type": "code",
   "execution_count": 3,
   "metadata": {},
   "outputs": [],
   "source": [
    "class ScenicForest(Forest):\n",
    "    @property\n",
    "    def max_scenic_score(self) -> int:\n",
    "        trees = self.trees\n",
    "        scenic_score = np.ones_like(trees, dtype=np.uint)\n",
    "\n",
    "        for _ in range(4):\n",
    "            trees, scenic_score = np.rot90(trees), np.rot90(scenic_score)\n",
    "            distances = np.zeros((10, trees.shape[1]), np.uint)\n",
    "            heights = np.repeat(\n",
    "                np.arange(10, dtype=np.uint8)[:, None], distances.shape[1], axis=1\n",
    "            )\n",
    "            for tree_row, score_row in zip(trees, scenic_score):\n",
    "                score_row *= tree_row.choose(distances)\n",
    "                distances[heights <= tree_row] = 0\n",
    "                distances += 1\n",
    "\n",
    "        return np.max(scenic_score)\n",
    "\n",
    "\n",
    "assert ScenicForest.from_text(example).max_scenic_score == 8"
   ]
  },
  {
   "cell_type": "code",
   "execution_count": 4,
   "metadata": {},
   "outputs": [
    {
     "name": "stdout",
     "output_type": "stream",
     "text": [
      "Part 2: 327180\n"
     ]
    }
   ],
   "source": [
    "print(\"Part 2:\", ScenicForest.from_text(mapdata).max_scenic_score)"
   ]
  }
 ],
 "metadata": {
  "kernelspec": {
   "display_name": "Python 3.11.0 ('adventofcode-mOkh6lsX')",
   "language": "python",
   "name": "python3"
  },
  "language_info": {
   "codemirror_mode": {
    "name": "ipython",
    "version": 3
   },
   "file_extension": ".py",
   "mimetype": "text/x-python",
   "name": "python",
   "nbconvert_exporter": "python",
   "pygments_lexer": "ipython3",
   "version": "3.12.0"
  },
  "orig_nbformat": 4,
  "vscode": {
   "interpreter": {
    "hash": "b1b6870d1e0a983b1943c858d70ac8a7c80477f9f3ca364eb8daa198319a8a87"
   }
  }
 },
 "nbformat": 4,
 "nbformat_minor": 2
}
