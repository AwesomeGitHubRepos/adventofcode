{
 "cells": [
  {
   "cell_type": "markdown",
   "metadata": {},
   "source": [
    "# Contain your intervals\n",
    "\n",
    "* https://adventofcode.com/2022/day/4\n",
    "\n",
    "Today's puzzle is about finding the overlap between [intervals](https://en.wikipedia.org/wiki/Interval_(mathematics)). In theory there are (at least) 5 different kinds of overlap between two intervals $a$ and $b$:\n",
    "\n",
    "1. $a$ lies _below_ $b$; the end value for $a$ is smaller than the start value for $b$:\n",
    "    ```\n",
    "    |---A---|\n",
    "              |----B----|\n",
    "    ```\n",
    "2. $a$ _overlaps below_ with $b$, where the end value falls between the start and end values of $b$, but its start is still lower than the of start of $b$:\n",
    "    ```\n",
    "      |---A---|\n",
    "           |----B----|\n",
    "    ```\n",
    "3. $a$ is _contained within_ $b$, so both the start and end of $a$ lie between the start and end of $b$:\n",
    "    ```\n",
    "         |---A---|\n",
    "        |----B----|\n",
    "    ```\n",
    "    You could further classify this case as $a$ being smaller and wholly contained within $b$, being the same as $b$, or $a$ lying over $b$ (so $b$ is contained within $a$).\n",
    "4. $a$ _overlaps above_ with $b$, where the start value falls between the start and end values of $b$, but its end is greater than the end of $b$:\n",
    "    ```\n",
    "             |---A---|\n",
    "     |----B----|\n",
    "    ```\n",
    "5. $a$ lies _above_ $b$; the start value of $a$ is greater than the end value of $b$:\n",
    "    ```\n",
    "                |---A---|\n",
    "    |----B----|\n",
    "    ```\n",
    "\n",
    "For part one, we only need to worry about the 3rd case, with either interval being contained within the other.  In my `Assignment` implentation, I overloaded `__contains__` to let you test if the _other_ assignment is contained within _this_ assignment, and then just test if `a1 in a2 or a2 in a1` is true to catch either case."
   ]
  },
  {
   "cell_type": "code",
   "execution_count": 1,
   "metadata": {},
   "outputs": [],
   "source": [
    "from dataclasses import dataclass\n",
    "from typing import Self\n",
    "\n",
    "\n",
    "@dataclass\n",
    "class Assignment:\n",
    "    start: int\n",
    "    end: int\n",
    "\n",
    "    def __str__(self) -> str:\n",
    "        return f\"{self.start}-{self.end}\"\n",
    "\n",
    "    @classmethod\n",
    "    def from_string(cls, string: str) -> Self:\n",
    "        start, _, end = string.partition(\"-\")\n",
    "        return cls(int(start), int(end))\n",
    "\n",
    "    @classmethod\n",
    "    def pair_from_line(cls, line: str) -> tuple[Self, Self]:\n",
    "        p1, _, p2 = line.partition(\",\")\n",
    "        return (cls.from_string(p1), cls.from_string(p2))\n",
    "\n",
    "    def __contains__(self, other: Self) -> bool:\n",
    "        if not isinstance(other, __class__):\n",
    "            return NotImplemented\n",
    "        return (\n",
    "            self.start <= other.start <= self.end\n",
    "            and self.start <= other.end <= self.end\n",
    "        )\n",
    "\n",
    "    def __and__(self, other: Self) -> bool:\n",
    "        if not isinstance(other, __class__):\n",
    "            return NotImplemented\n",
    "        return not (self.start > other.end or self.end < other.start)\n",
    "\n",
    "\n",
    "example = [\n",
    "    Assignment.pair_from_line(line)\n",
    "    for line in \"\"\"\\\n",
    "2-4,6-8\n",
    "2-3,4-5\n",
    "5-7,7-9\n",
    "2-8,3-7\n",
    "6-6,4-6\n",
    "2-6,4-8\n",
    "\"\"\".splitlines()\n",
    "]\n",
    "assert sum(1 for a1, a2 in example if a1 in a2 or a2 in a1) == 2"
   ]
  },
  {
   "cell_type": "code",
   "execution_count": 2,
   "metadata": {},
   "outputs": [
    {
     "name": "stdout",
     "output_type": "stream",
     "text": [
      "Part 1: 526\n"
     ]
    }
   ],
   "source": [
    "import aocd\n",
    "\n",
    "\n",
    "assignments = [\n",
    "    Assignment.pair_from_line(line)\n",
    "    for line in aocd.get_data(day=4, year=2022).splitlines()\n",
    "]\n",
    "print(\"Part 1:\", sum(1 for a1, a2 in assignments if a1 in a2 or a2 in a1))"
   ]
  },
  {
   "cell_type": "markdown",
   "metadata": {},
   "source": [
    "## Part 2, a case of intersecting intervals\n",
    "\n",
    "For the second part, we now need to look for cases 2, 3  and 4, *indiscriminately*. Or, inversely, check that the either interval doesn't lie below or above the other interval, which is easier to check for: just test if the end of one is lower than the start of the other, or that the start of one is greater than the end of the other, and invert the result.\n",
    "\n",
    "I added a `__and__` method to the `Assignment` class that does just that."
   ]
  },
  {
   "cell_type": "code",
   "execution_count": 5,
   "metadata": {},
   "outputs": [],
   "source": [
    "assert sum(1 for a1, a2 in example if a1 & a2) == 4"
   ]
  },
  {
   "cell_type": "code",
   "execution_count": 4,
   "metadata": {},
   "outputs": [
    {
     "name": "stdout",
     "output_type": "stream",
     "text": [
      "Part 2: 886\n"
     ]
    }
   ],
   "source": [
    "print(\"Part 2:\", sum(1 for a1, a2 in assignments if a1 & a2))"
   ]
  }
 ],
 "metadata": {
  "kernelspec": {
   "display_name": "Python 3.11.0 ('adventofcode-mOkh6lsX')",
   "language": "python",
   "name": "python3"
  },
  "language_info": {
   "codemirror_mode": {
    "name": "ipython",
    "version": 3
   },
   "file_extension": ".py",
   "mimetype": "text/x-python",
   "name": "python",
   "nbconvert_exporter": "python",
   "pygments_lexer": "ipython3",
   "version": "3.11.0"
  },
  "orig_nbformat": 4,
  "vscode": {
   "interpreter": {
    "hash": "8bb5fd587ebf4d90f905285c44a569046664a8863ee065ff2dd968491b671e06"
   }
  }
 },
 "nbformat": 4,
 "nbformat_minor": 2
}
