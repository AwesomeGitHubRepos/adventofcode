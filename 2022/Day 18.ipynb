{
 "cells": [
  {
   "attachments": {},
   "cell_type": "markdown",
   "metadata": {},
   "source": [
    "# Day 18, Volumentric volcanic fallout\n",
    "\n",
    "* https://adventofcode.com/2022/day/18\n",
    "\n",
    "We need to count the number of surfaces of a set of cubes that are not covered by another cube. Simple, put the cubes in a set, and for each of the 6 sides check if there is a neighboring cube. We can do this with numpy and [`scipy.signal.convolve()`](https://docs.scipy.org/doc/scipy/reference/generated/scipy.signal.convolve.html#scipy.signal.convolve) to produce the neightbor counts in the 3D space. Subtract this count from 6 to get the number of surfaces with no neighbors."
   ]
  },
  {
   "cell_type": "code",
   "execution_count": 1,
   "metadata": {},
   "outputs": [],
   "source": [
    "from dataclasses import dataclass\n",
    "from typing import Final, Self\n",
    "\n",
    "import numpy as np\n",
    "from scipy.signal import convolve\n",
    "\n",
    "\n",
    "# the six sides of a cube\n",
    "KERNEL: Final[np.ndarray] = np.array([\n",
    "    [[0, 0, 0], [0, 1, 0], [0, 0, 0]],\n",
    "    [[0, 1, 0], [1, 0, 1], [0, 1, 0]],\n",
    "    [[0, 0, 0], [0, 1, 0], [0, 0, 0]],\n",
    "])\n",
    "\n",
    "\n",
    "@dataclass\n",
    "class LavaDroplet:\n",
    "    scan: np.ndarray\n",
    "\n",
    "    @classmethod\n",
    "    def from_cubes(cls, points: str) -> Self:\n",
    "        coords = np.genfromtxt(points.splitlines(), delimiter=\",\", dtype=int)\n",
    "        scan = np.zeros(tuple(coords.max(axis=0) + 1), dtype=bool)\n",
    "        scan[*coords.T] = True\n",
    "        return cls(scan)\n",
    "    \n",
    "    def surface_area(self) -> int:\n",
    "        neighbours = convolve(self.scan, KERNEL, 'same')\n",
    "        uncovered = 6 - neighbours\n",
    "        return uncovered[self.scan].sum()\n",
    "    \n",
    "\n",
    "example = LavaDroplet.from_cubes(\"\"\"\\\n",
    "2,2,2\n",
    "1,2,2\n",
    "3,2,2\n",
    "2,1,2\n",
    "2,3,2\n",
    "2,2,1\n",
    "2,2,3\n",
    "2,2,4\n",
    "2,2,6\n",
    "1,2,5\n",
    "3,2,5\n",
    "2,1,5\n",
    "2,3,5\n",
    "\"\"\")\n",
    "assert example.surface_area() == 64"
   ]
  },
  {
   "cell_type": "code",
   "execution_count": 2,
   "metadata": {},
   "outputs": [
    {
     "name": "stdout",
     "output_type": "stream",
     "text": [
      "Part 1: 4332\n"
     ]
    }
   ],
   "source": [
    "import aocd\n",
    "\n",
    "\n",
    "droplet = LavaDroplet.from_cubes(aocd.get_data(day=18, year=2022))\n",
    "print(\"Part 1:\", droplet.surface_area())"
   ]
  },
  {
   "attachments": {},
   "cell_type": "markdown",
   "metadata": {},
   "source": [
    "## Part 2, filling a hole in my lava droplet\n",
    "\n",
    "For part 2 you need to distingish inside surfaces from outside surfaces. While we could just flood-fill the (relatively small) volumetric space, I found I could use the [`scipy.ndimage.binary_fill_holes()` function](https://docs.scipy.org/doc/scipy/reference/generated/scipy.ndimage.binary_fill_holes.html#scipy-ndimage-binary-fill-holes) directly on the 3-dimensional scan matrix, and it would **fill the holes for me**.\n",
    "\n",
    "This works because my scan matrix is just a boolean matrix with the 3d cubes acting just like pixels in an image. Because this fills the inside regions the same way that the puzzle rules state you need to penetrate the outside, the output from this function can then be directly used to calculate the surface area the same way we did in part 1."
   ]
  },
  {
   "cell_type": "code",
   "execution_count": 3,
   "metadata": {},
   "outputs": [],
   "source": [
    "from scipy.ndimage import binary_fill_holes\n",
    "\n",
    "\n",
    "def outer_surface_area(droplet: LavaDroplet):\n",
    "    filled = LavaDroplet(binary_fill_holes(droplet.scan))\n",
    "    return filled.surface_area()\n",
    "\n",
    "\n",
    "assert outer_surface_area(example) == 58"
   ]
  },
  {
   "cell_type": "code",
   "execution_count": 4,
   "metadata": {},
   "outputs": [
    {
     "name": "stdout",
     "output_type": "stream",
     "text": [
      "Part 2: 2524\n"
     ]
    }
   ],
   "source": [
    "print(\"Part 2:\", outer_surface_area(droplet))"
   ]
  }
 ],
 "metadata": {
  "kernelspec": {
   "display_name": "adventofcode-mOkh6lsX",
   "language": "python",
   "name": "python3"
  },
  "language_info": {
   "codemirror_mode": {
    "name": "ipython",
    "version": 3
   },
   "file_extension": ".py",
   "mimetype": "text/x-python",
   "name": "python",
   "nbconvert_exporter": "python",
   "pygments_lexer": "ipython3",
   "version": "3.11.0"
  },
  "orig_nbformat": 4,
  "vscode": {
   "interpreter": {
    "hash": "b1b6870d1e0a983b1943c858d70ac8a7c80477f9f3ca364eb8daa198319a8a87"
   }
  }
 },
 "nbformat": 4,
 "nbformat_minor": 2
}
