{
 "cells": [
  {
   "cell_type": "markdown",
   "metadata": {},
   "source": [
    "# The set of all misplaced items\n",
    "\n",
    "* https://adventofcode.com/2022/day/3\n",
    "\n",
    "We are asked to find the single common element between two compartments in a rucksack. This is what _sets_ are really great for, the intersection of the two sets of letters."
   ]
  },
  {
   "cell_type": "code",
   "execution_count": 1,
   "metadata": {},
   "outputs": [],
   "source": [
    "import string\n",
    "\n",
    "\n",
    "priorities = {letter: i for i, letter in enumerate(string.ascii_letters, 1)}\n",
    "\n",
    "\n",
    "def misplaced_item(rucksack: str) -> str:\n",
    "    half = len(rucksack) // 2\n",
    "    [letter] = set(rucksack[:half]) & set(rucksack[half:])\n",
    "    return letter\n",
    "\n",
    "\n",
    "example = \"\"\"\\\n",
    "vJrwpWtwJgWrhcsFMMfFFhFp\n",
    "jqHRNqRjqzjGDLGLrsFMfFZSrLrFZsSL\n",
    "PmmdzqPrVvPwwTWBwg\n",
    "wMqvLMZHhHMvwLHjbvcjnnSBnvTQFn\n",
    "ttgJtRGJQctTZtZT\n",
    "CrZsJsPPZsGzwwsLwLmpwMDw\n",
    "\"\"\".splitlines()\n",
    "\n",
    "\n",
    "assert sum(priorities[misplaced_item(r)] for r in example) == 157"
   ]
  },
  {
   "cell_type": "code",
   "execution_count": 2,
   "metadata": {},
   "outputs": [
    {
     "name": "stdout",
     "output_type": "stream",
     "text": [
      "Part 1: 7763\n"
     ]
    }
   ],
   "source": [
    "import aocd\n",
    "\n",
    "\n",
    "rucksacks = aocd.get_data(day=3, year=2022).splitlines()\n",
    "print(\"Part 1:\", sum(priorities[misplaced_item(r)] for r in rucksacks))"
   ]
  },
  {
   "cell_type": "markdown",
   "metadata": {},
   "source": [
    "## Part 2, intersecting more than 2\n",
    "\n",
    "The problem hasn't really changed, we now have to intersect 3 rucksacks to find the single item. Since the [`set().intersection()` method](https://docs.python.org/3/library/stdtypes.html#frozenset.intersection) can take multiple inputs, this is trivial to achieve."
   ]
  },
  {
   "cell_type": "code",
   "execution_count": 3,
   "metadata": {},
   "outputs": [],
   "source": [
    "from typing import Iterator\n",
    "\n",
    "\n",
    "def badge(rucksack: str, *rucksacks: str) -> str:\n",
    "    [letter] = set(rucksack).intersection(*rucksacks)\n",
    "    return letter\n",
    "\n",
    "\n",
    "def badges(*rucksacks: str) -> Iterator[str]:\n",
    "    it = iter(rucksacks)\n",
    "    for group in zip(it, it, it):\n",
    "        yield badge(*group)\n",
    "\n",
    "\n",
    "assert sum(priorities[badge] for badge in badges(*example)) == 70"
   ]
  },
  {
   "cell_type": "code",
   "execution_count": 4,
   "metadata": {},
   "outputs": [
    {
     "name": "stdout",
     "output_type": "stream",
     "text": [
      "Part 2: 2569\n"
     ]
    }
   ],
   "source": [
    "print(\"Part 2:\", sum(priorities[badge] for badge in badges(*rucksacks)))"
   ]
  }
 ],
 "metadata": {
  "kernelspec": {
   "display_name": "Python 3.11.0 ('adventofcode-mOkh6lsX')",
   "language": "python",
   "name": "python3"
  },
  "language_info": {
   "codemirror_mode": {
    "name": "ipython",
    "version": 3
   },
   "file_extension": ".py",
   "mimetype": "text/x-python",
   "name": "python",
   "nbconvert_exporter": "python",
   "pygments_lexer": "ipython3",
   "version": "3.11.0"
  },
  "orig_nbformat": 4,
  "vscode": {
   "interpreter": {
    "hash": "8bb5fd587ebf4d90f905285c44a569046664a8863ee065ff2dd968491b671e06"
   }
  }
 },
 "nbformat": 4,
 "nbformat_minor": 2
}
