{
 "cells": [
  {
   "attachments": {},
   "cell_type": "markdown",
   "metadata": {},
   "source": [
    "# Distressed order by tokenizing\n",
    "\n",
    "- https://adventofcode.com/2022/day/13\n",
    "\n",
    "Because you don't need to have the whole packets to decide if they are out of order, I decided to tokenize the inputs; process them character by character and compare the tokens of the two packets together. The only complication you have to handle is when one of the tokens is an opening bracket while the other is a number; you have to re-process the number plus a closing bracket each time.\n"
   ]
  },
  {
   "cell_type": "code",
   "execution_count": 1,
   "metadata": {},
   "outputs": [],
   "source": [
    "from collections import deque\n",
    "from dataclasses import dataclass\n",
    "from typing import Literal, Self\n",
    "\n",
    "\n",
    "class PacketTokenizer:\n",
    "    def __init__(self, packet: str):\n",
    "        self._it = iter(packet)\n",
    "        self._pushback: deque[Literal[\"]\"] | int] = deque()\n",
    "\n",
    "    def __iadd__(self, number: int) -> Self:\n",
    "        self._pushback.extend((\"]\", number))\n",
    "        return self\n",
    "\n",
    "    def __iter__(self) -> Self:\n",
    "        return self\n",
    "\n",
    "    def __next__(self) -> Literal[\"[\", \"]\"] | int:\n",
    "        if self._pushback:\n",
    "            return self._pushback.pop()\n",
    "        while True:\n",
    "            match next(self._it):\n",
    "                case \",\":\n",
    "                    continue\n",
    "                case \"[\" | \"]\" as tok:\n",
    "                    return tok\n",
    "                case digit:\n",
    "                    number = int(digit)\n",
    "                    while True:\n",
    "                        match next(self._it):\n",
    "                            case \"]\":\n",
    "                                self._pushback.append(\"]\")\n",
    "                                break\n",
    "                            case \",\":\n",
    "                                break\n",
    "                            case digit:\n",
    "                                number = number * 10 + int(digit)\n",
    "                    return number\n",
    "\n",
    "\n",
    "@dataclass\n",
    "class Packet:\n",
    "    text: str\n",
    "\n",
    "    def __lt__(self, other: Self) -> bool:\n",
    "        if not isinstance(other, __class__):\n",
    "            return NotImplemented\n",
    "        p1, p2 = PacketTokenizer(self.text), PacketTokenizer(other.text)\n",
    "        for t1, t2 in zip(p1, p2):\n",
    "            match (t1, t2):\n",
    "                case (\"[\", \"[\") | (\"]\", \"]\"):\n",
    "                    pass\n",
    "                case (\"]\", _):  # left is shorter\n",
    "                    return True\n",
    "                case (_, \"]\"):  # right is shorter\n",
    "                    return False\n",
    "                case (int() as number, \"[\"):  # wrap left number in a list\n",
    "                    p1 += number\n",
    "                case (\"[\", int() as number):  # wrap right number in a list\n",
    "                    p2 += number\n",
    "                case (int() as n1, int() as n2) if n1 != n2:  # numbers are not equal\n",
    "                    return n1 < n2\n",
    "                case _:  # numbers are equal\n",
    "                    pass\n",
    "        return False  # equal, so not lower\n",
    "\n",
    "\n",
    "def paired_packets(data: str) -> list[tuple[Packet, Packet]]:\n",
    "    return [\n",
    "        tuple(Packet(packet) for packet in pair.splitlines())\n",
    "        for pair in data.split(\"\\n\\n\")\n",
    "    ]\n",
    "\n",
    "\n",
    "example = paired_packets(\n",
    "    \"\"\"\\\n",
    "[1,1,3,1,1]\n",
    "[1,1,5,1,1]\n",
    "\n",
    "[[1],[2,3,4]]\n",
    "[[1],4]\n",
    "\n",
    "[9]\n",
    "[[8,7,6]]\n",
    "\n",
    "[[4,4],4,4]\n",
    "[[4,4],4,4,4]\n",
    "\n",
    "[7,7,7,7]\n",
    "[7,7,7]\n",
    "\n",
    "[]\n",
    "[3]\n",
    "\n",
    "[[[]]]\n",
    "[[]]\n",
    "\n",
    "[1,[2,[3,[4,[5,6,7]]]],8,9]\n",
    "[1,[2,[3,[4,[5,6,0]]]],8,9]\n",
    "\"\"\"\n",
    ")\n",
    "\n",
    "\n",
    "assert sum(i for i, (p1, p2) in enumerate(example, 1) if p1 < p2) == 13"
   ]
  },
  {
   "cell_type": "code",
   "execution_count": 2,
   "metadata": {},
   "outputs": [
    {
     "name": "stdout",
     "output_type": "stream",
     "text": [
      "Part 1: 5605\n"
     ]
    }
   ],
   "source": [
    "import aocd\n",
    "\n",
    "pairs = paired_packets(aocd.get_data(day=13, year=2022))\n",
    "print(\"Part 1:\", sum(i for i, (p1, p2) in enumerate(pairs, 1) if p1 < p2))"
   ]
  },
  {
   "attachments": {},
   "cell_type": "markdown",
   "metadata": {},
   "source": [
    "## Part 2, more ordering\n",
    "\n",
    "We have everything we need for part 2, because in Python we can sort any list of objects that implement `__lt__` to define an ordering. All we need to do is put the packets into a single list, add the divider packets and sort. Because I used dataclasses as the base (which support equality testing out of the box) finding the decoder packet indices is as simple as using `list.index()` (just remember to add 1 to turn the 0-based index into a 1-based index).\n"
   ]
  },
  {
   "cell_type": "code",
   "execution_count": 3,
   "metadata": {},
   "outputs": [],
   "source": [
    "from itertools import chain\n",
    "\n",
    "\n",
    "def decoder_key(pairs: list[tuple[Packet, Packet]]) -> int:\n",
    "    divider_packets = Packet(\"[[2]]\"), Packet(\"[[6]]\")\n",
    "    ordered = sorted(chain.from_iterable((divider_packets, *pairs)))\n",
    "    return (ordered.index(divider_packets[0]) + 1) * (\n",
    "        ordered.index(divider_packets[1]) + 1\n",
    "    )\n",
    "\n",
    "\n",
    "assert decoder_key(example) == 140"
   ]
  },
  {
   "cell_type": "code",
   "execution_count": 4,
   "metadata": {},
   "outputs": [
    {
     "name": "stdout",
     "output_type": "stream",
     "text": [
      "Part 2: 24969\n"
     ]
    }
   ],
   "source": [
    "print(\"Part 2:\", decoder_key(pairs))"
   ]
  }
 ],
 "metadata": {
  "kernelspec": {
   "display_name": "adventofcode-mOkh6lsX",
   "language": "python",
   "name": "python3"
  },
  "language_info": {
   "codemirror_mode": {
    "name": "ipython",
    "version": 3
   },
   "file_extension": ".py",
   "mimetype": "text/x-python",
   "name": "python",
   "nbconvert_exporter": "python",
   "pygments_lexer": "ipython3",
   "version": "3.12.0"
  },
  "orig_nbformat": 4,
  "vscode": {
   "interpreter": {
    "hash": "b1b6870d1e0a983b1943c858d70ac8a7c80477f9f3ca364eb8daa198319a8a87"
   }
  }
 },
 "nbformat": 4,
 "nbformat_minor": 2
}
