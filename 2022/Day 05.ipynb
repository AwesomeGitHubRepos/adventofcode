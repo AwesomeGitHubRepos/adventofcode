{
 "cells": [
  {
   "attachments": {},
   "cell_type": "markdown",
   "metadata": {},
   "source": [
    "# Stacking about\n",
    "\n",
    "* https://adventofcode.com/2022/day/5\n",
    "\n",
    "Today we are moving things between stacks, so naturally, this can be implemented using [stacks](https://en.wikipedia.org/wiki/Stack_(abstract_data_type)).\n",
    "\n",
    "Most of the code went into parsing the puzzle input and being able to output it again. :-) Parsing the input involved reversing the input lines (so the bottoms of the stacks are in the first line, skipping the stack numbers), taking every 4th character starting at the 2nd column (these are all the letters on the crates, or spaces when past the top-most crate), and then [transposing the rows to columns using `zip()`](https://stackoverflow.com/questions/6473679/transpose-list-of-lists). Viola, lists of each of the input stack sequence of letters, from bottom-most to top-most crate."
   ]
  },
  {
   "cell_type": "code",
   "execution_count": 1,
   "metadata": {},
   "outputs": [],
   "source": [
    "import re\n",
    "from dataclasses import dataclass\n",
    "from typing import NamedTuple, Self\n",
    "\n",
    "\n",
    "@dataclass\n",
    "class Stacks:\n",
    "    stacks: tuple[list[str]]\n",
    "\n",
    "    def __str__(self) -> str:\n",
    "        stacks = [list(stack) for stack in self.stacks]\n",
    "        max_height = max(len(stack) for stack in stacks)\n",
    "        cols = []\n",
    "        for i, stack in enumerate(stacks, 1):\n",
    "            if cols:\n",
    "                cols.append(\" \" * (max_height + 1))\n",
    "            padding = \" \" * (max_height - len(stack))\n",
    "            cols.append(\" \" + \"[\" * len(stack) + padding)\n",
    "            cols.append(str(i) + \"\".join(stack) + padding)\n",
    "            cols.append(\" \" + \"]\" * len(stack) + padding)\n",
    "        lines = [\"\".join(line) for line in zip(*cols)]\n",
    "        return \"\\n\".join(lines[::-1])\n",
    "\n",
    "    @classmethod\n",
    "    def from_text(cls, text: str) -> Self:\n",
    "        # drop the number line, reverse, and only keep the letters columns\n",
    "        lines = [line[1::4] for line in text.splitlines()[-2::-1]]\n",
    "        stacks = [[letter for letter in col if letter != \" \"] for col in zip(*lines)]\n",
    "        return cls(tuple(stacks))\n",
    "\n",
    "    @property\n",
    "    def tops(self) -> str:\n",
    "        return \"\".join([stack[-1] for stack in self.stacks])\n",
    "\n",
    "    def move_crates(self, source: int, target: int, count: int = 1) -> None:\n",
    "        source_stack, target_stack = self.stacks[source], self.stacks[target]\n",
    "        target_stack += source_stack[-count:]\n",
    "        del source_stack[-count:]\n",
    "\n",
    "\n",
    "_move: re.Pattern[str] = re.compile(\n",
    "    r\"move (?P<count>\\d+) from (?P<source>\\d+) to (?P<target>\\d+)\"\n",
    ")\n",
    "\n",
    "\n",
    "class CraneMove(NamedTuple):\n",
    "    count: int\n",
    "    source: int\n",
    "    target: int\n",
    "\n",
    "    def __str__(self) -> str:\n",
    "        return f\"move {self.count} from {self.source + 1} to {self.target + 1}\"\n",
    "\n",
    "    @classmethod\n",
    "    def from_line(cls, line: str) -> Self:\n",
    "        match = _move.search(line)\n",
    "        assert match is not None\n",
    "        params = {k: int(v) for k, v in match.groupdict().items()}\n",
    "        params[\"source\"] -= 1\n",
    "        params[\"target\"] -= 1\n",
    "        return cls(**params)\n",
    "\n",
    "\n",
    "@dataclass\n",
    "class Crane9000Moves:\n",
    "    moves: list[CraneMove]\n",
    "\n",
    "    def __str__(self) -> str:\n",
    "        return \"\\n\".join([str(move) for move in self.moves])\n",
    "\n",
    "    @classmethod\n",
    "    def from_text(cls, text: str) -> Self:\n",
    "        return cls([CraneMove.from_line(line) for line in text.splitlines()])\n",
    "\n",
    "    def rearrange(self, stacks: Stacks):\n",
    "        for move in self.moves:\n",
    "            for _ in range(move.count):\n",
    "                stacks.move_crates(move.source, move.target)\n",
    "\n",
    "\n",
    "example: str = \"\"\"\\\n",
    "    [D]    \n",
    "[N] [C]    \n",
    "[Z] [M] [P]\n",
    " 1   2   3 \n",
    "\n",
    "move 1 from 2 to 1\n",
    "move 3 from 1 to 3\n",
    "move 2 from 2 to 1\n",
    "move 1 from 1 to 2\n",
    "\"\"\"\n",
    "\n",
    "test_stacks = Stacks.from_text(example.partition(\"\\n\\n\")[0])\n",
    "Crane9000Moves.from_text(example.partition(\"\\n\\n\")[-1]).rearrange(test_stacks)\n",
    "assert test_stacks.tops == \"CMZ\""
   ]
  },
  {
   "cell_type": "code",
   "execution_count": 2,
   "metadata": {},
   "outputs": [
    {
     "name": "stdout",
     "output_type": "stream",
     "text": [
      "Part 1: VWLCWGSDQ\n"
     ]
    }
   ],
   "source": [
    "import aocd\n",
    "\n",
    "\n",
    "starting_positions, _, procedure = aocd.get_data(day=5, year=2022).partition(\"\\n\\n\")\n",
    "\n",
    "stacks = Stacks.from_text(starting_positions)\n",
    "crane = Crane9000Moves.from_text(procedure)\n",
    "crane.rearrange(stacks)\n",
    "print(\"Part 1:\", stacks.tops)"
   ]
  },
  {
   "attachments": {},
   "cell_type": "markdown",
   "metadata": {},
   "source": [
    "## Part 2, more efficient movements\n",
    "\n",
    "There were two ways to handle the new requirements to move whole substacks:\n",
    "\n",
    "- Continuing using stacks, by popping the crates one by one to an _intermediary_ stack and then popping from there to the target stack.\n",
    "- Refactor and switch to lists that I can just slice. I did the latter."
   ]
  },
  {
   "cell_type": "code",
   "execution_count": 3,
   "metadata": {},
   "outputs": [],
   "source": [
    "@dataclass\n",
    "class Crane9001Moves(Crane9000Moves):\n",
    "    def rearrange(self, stacks: Stacks):\n",
    "        for move in self.moves:\n",
    "            stacks.move_crates(move.source, move.target, move.count)\n",
    "\n",
    "\n",
    "test_stacks = Stacks.from_text(example.partition(\"\\n\\n\")[0])\n",
    "Crane9001Moves.from_text(example.partition(\"\\n\\n\")[-1]).rearrange(test_stacks)\n",
    "assert test_stacks.tops == \"MCD\""
   ]
  },
  {
   "cell_type": "code",
   "execution_count": 4,
   "metadata": {},
   "outputs": [
    {
     "name": "stdout",
     "output_type": "stream",
     "text": [
      "Part 2: TCGLQSLPW\n"
     ]
    }
   ],
   "source": [
    "stacks = Stacks.from_text(starting_positions)\n",
    "crane = Crane9001Moves.from_text(procedure)\n",
    "crane.rearrange(stacks)\n",
    "print(\"Part 2:\", stacks.tops)"
   ]
  }
 ],
 "metadata": {
  "kernelspec": {
   "display_name": "Python 3.11.0 ('adventofcode-mOkh6lsX')",
   "language": "python",
   "name": "python3"
  },
  "language_info": {
   "codemirror_mode": {
    "name": "ipython",
    "version": 3
   },
   "file_extension": ".py",
   "mimetype": "text/x-python",
   "name": "python",
   "nbconvert_exporter": "python",
   "pygments_lexer": "ipython3",
   "version": "3.11.0"
  },
  "orig_nbformat": 4,
  "vscode": {
   "interpreter": {
    "hash": "8bb5fd587ebf4d90f905285c44a569046664a8863ee065ff2dd968491b671e06"
   }
  }
 },
 "nbformat": 4,
 "nbformat_minor": 2
}
