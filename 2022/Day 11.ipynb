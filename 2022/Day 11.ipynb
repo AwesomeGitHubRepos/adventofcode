{
 "cells": [
  {
   "attachments": {},
   "cell_type": "markdown",
   "metadata": {},
   "source": [
    "# Expressive monkeys\n",
    "\n",
    "- https://adventofcode.com/2022/day/11\n",
    "\n",
    "The monkey business here mostly involves parsing some text into something we can execute as Python.\n",
    "\n",
    "Luckily the operations can be inverted easily to put the right-hand operand on the left (`old * value` is the same as `value * old`), so we can use [`functools.partial()`](https://docs.python.org/3/library/functools.html#functools.partial) together with [`operator` functions](https://docs.python.org/3/library/operator.html) to create callables to handle these. The exception is the `old * old` operation; that's the same as raising `old` to the power 2, however, and because the [`pow()` function](https://docs.python.org/3/library/functions.html#pow) accepts keyword arguments we can translate `old * old` to `partial(pow, exp=2)`. And just in case `old + old` is a possible expression, the code maps that option to `2 * old`.\n"
   ]
  },
  {
   "cell_type": "code",
   "execution_count": 1,
   "metadata": {},
   "outputs": [],
   "source": [
    "import operator\n",
    "import re\n",
    "from dataclasses import dataclass\n",
    "from functools import partial, reduce\n",
    "from heapq import nlargest\n",
    "from typing import Callable, Final, Iterator, Self, TypeAlias\n",
    "\n",
    "MonkeyNum: TypeAlias = int\n",
    "WorryLevel: TypeAlias = int\n",
    "\n",
    "\n",
    "_parse: Final[re.Pattern[str]] = re.compile(\n",
    "    r\"\\s*Starting items: (?P<items>[\\d, ]*)\\n\"\n",
    "    r\"\\s*Operation: new = old (?P<op>[+*]) (?P<operand>\\d+|old)\\n\"\n",
    "    r\"\\s*Test: divisible by (?P<divisible_by>\\d+)\\n\"\n",
    "    r\"\\s*If true: throw to monkey (?P<if_true>\\d)\\n\"\n",
    "    r\"\\s*If false: throw to monkey (?P<if_false>\\d)\"\n",
    ")\n",
    "\n",
    "\n",
    "@dataclass\n",
    "class Monkey:\n",
    "    items: list[WorryLevel]\n",
    "    operation: Callable[[WorryLevel], WorryLevel]\n",
    "    divisible_by: int\n",
    "    if_true: MonkeyNum\n",
    "    if_false: MonkeyNum\n",
    "    relief: int = 3\n",
    "\n",
    "    def __iter__(self) -> Iterator[tuple[MonkeyNum, WorryLevel]]:\n",
    "        \"\"\"The items that the monkey throws to the other monkeys\"\"\"\n",
    "        op, relief = self.operation, self.relief\n",
    "        if_true, divisible_by, if_false = self.if_true, self.divisible_by, self.if_false\n",
    "        items, self.items = self.items, []\n",
    "        for old in items:\n",
    "            new = op(old) // relief\n",
    "            yield (if_false if new % divisible_by else if_true), new\n",
    "\n",
    "    def __len__(self) -> int:\n",
    "        \"\"\"Number of items this monkey inspects\"\"\"\n",
    "        return len(self.items)\n",
    "\n",
    "    @classmethod\n",
    "    def from_text(cls, text: str, relief: int = 3) -> Self:\n",
    "        \"\"\"Create a monkey from puzzle input\"\"\"\n",
    "        match = _parse.search(text)\n",
    "        assert match is not None\n",
    "        items = [int(item) for item in match[\"items\"].split(\",\")]\n",
    "        divisible_by, if_true, if_false = map(\n",
    "            int, match.group(\"divisible_by\", \"if_true\", \"if_false\")\n",
    "        )\n",
    "        match (match[\"op\"], match[\"operand\"]):\n",
    "            case (\"+\", \"old\"):\n",
    "                operation = partial(operator.mul, 2)  # old + old => 2 * old\n",
    "            case (\"*\", \"old\"):\n",
    "                operation = partial(pow, exp=2)  # old * old => old ** 2\n",
    "            case (\"+\", operand):\n",
    "                operation = partial(\n",
    "                    operator.add, int(operand)\n",
    "                )  # old + <num> => <num> + old\n",
    "            case (\"*\", operand):\n",
    "                operation = partial(\n",
    "                    operator.mul, int(operand)\n",
    "                )  # old * <num> => <num> * old\n",
    "            case (op, operand):\n",
    "                raise ValueError(f\"Invalid monkey operation old {op} {operand}\")\n",
    "        return cls(items, operation, divisible_by, if_true, if_false, relief)\n",
    "\n",
    "\n",
    "def watch_stuff_slinging_simian_shenanigans(\n",
    "    monkeys: list[Monkey], rounds: int = 20\n",
    ") -> int:\n",
    "    \"\"\"Watch the monkeys throw their items to each other\n",
    "\n",
    "    Returns the resulting monkey business level.\n",
    "\n",
    "    \"\"\"\n",
    "    inspected = [0] * len(monkeys)\n",
    "    lcm = reduce(operator.mul, (monkey.divisible_by for monkey in monkeys))\n",
    "    for _ in range(rounds):\n",
    "        for num, monkey in enumerate(monkeys):\n",
    "            for to_, item in monkey:\n",
    "                inspected[num] += 1\n",
    "                monkeys[to_].items.append(item % lcm)\n",
    "    return operator.mul(*nlargest(2, inspected))\n",
    "\n",
    "\n",
    "example = \"\"\"\\\n",
    "Monkey 0:\n",
    "  Starting items: 79, 98\n",
    "  Operation: new = old * 19\n",
    "  Test: divisible by 23\n",
    "    If true: throw to monkey 2\n",
    "    If false: throw to monkey 3\n",
    "\n",
    "Monkey 1:\n",
    "  Starting items: 54, 65, 75, 74\n",
    "  Operation: new = old + 6\n",
    "  Test: divisible by 19\n",
    "    If true: throw to monkey 2\n",
    "    If false: throw to monkey 0\n",
    "\n",
    "Monkey 2:\n",
    "  Starting items: 79, 60, 97\n",
    "  Operation: new = old * old\n",
    "  Test: divisible by 13\n",
    "    If true: throw to monkey 1\n",
    "    If false: throw to monkey 3\n",
    "\n",
    "Monkey 3:\n",
    "  Starting items: 74\n",
    "  Operation: new = old + 3\n",
    "  Test: divisible by 17\n",
    "    If true: throw to monkey 0\n",
    "    If false: throw to monkey 1\n",
    "\"\"\".split(\"\\n\\n\")\n",
    "example_monkeys = [Monkey.from_text(monkey) for monkey in example]\n",
    "\n",
    "assert watch_stuff_slinging_simian_shenanigans(example_monkeys) == 10605"
   ]
  },
  {
   "cell_type": "code",
   "execution_count": 2,
   "metadata": {},
   "outputs": [
    {
     "name": "stdout",
     "output_type": "stream",
     "text": [
      "Part 1: 108240\n"
     ]
    }
   ],
   "source": [
    "import aocd\n",
    "\n",
    "descriptions = aocd.get_data(day=11, year=2022).split(\"\\n\\n\")\n",
    "monkeys = [Monkey.from_text(monkey) for monkey in descriptions]\n",
    "print(\"Part 1:\", watch_stuff_slinging_simian_shenanigans(monkeys))"
   ]
  },
  {
   "attachments": {},
   "cell_type": "markdown",
   "metadata": {},
   "source": [
    "# Part 2, huge worry levels\n",
    "\n",
    "The puzzle description hints at what removing the division by 3 will do to the worry levels! Python integers may have no theoretical limits to the number of digits, but your available memory is eaten rapidly by the ~3 dozen massive numbers.\n",
    "\n",
    "Luckily, we can cap the worry levels to the product of all the monkeys' divisible values; e.g. the example monkeys have divisible test values 17, 13, 19 and 23, so worry levels can be reduced by taking their modulo with 96577; any value that's divisible by 96577 is also divisible by 17, 13, 19, and 23. Because the puzzle always uses _prime numbers_ for the divisible tests, multiplying them together gives us the [_least common multiple_](https://en.wikipedia.org/wiki/Least_common_multiple) (or `lcm`) in our monkey throwing ring. If they were _not_ prime numbers, we'd have to do more work but the number could then be smaller still.\n",
    "\n",
    "I calculate the `lcm` in the `watch_stuff_slinging_simian_shenanigans()` function and apply it to all the items being flung.\n"
   ]
  },
  {
   "cell_type": "code",
   "execution_count": 3,
   "metadata": {},
   "outputs": [],
   "source": [
    "example_monkeys = [Monkey.from_text(monkey, 1) for monkey in example]\n",
    "assert watch_stuff_slinging_simian_shenanigans(example_monkeys, 10000) == 2713310158"
   ]
  },
  {
   "cell_type": "code",
   "execution_count": 4,
   "metadata": {},
   "outputs": [
    {
     "name": "stdout",
     "output_type": "stream",
     "text": [
      "Part 1: 25712998901\n"
     ]
    }
   ],
   "source": [
    "monkeys = [Monkey.from_text(monkey, 1) for monkey in descriptions]\n",
    "print(\"Part 1:\", watch_stuff_slinging_simian_shenanigans(monkeys, 10000))"
   ]
  }
 ],
 "metadata": {
  "kernelspec": {
   "display_name": "Python 3.11.0 ('adventofcode-mOkh6lsX')",
   "language": "python",
   "name": "python3"
  },
  "language_info": {
   "codemirror_mode": {
    "name": "ipython",
    "version": 3
   },
   "file_extension": ".py",
   "mimetype": "text/x-python",
   "name": "python",
   "nbconvert_exporter": "python",
   "pygments_lexer": "ipython3",
   "version": "3.12.0"
  },
  "orig_nbformat": 4,
  "vscode": {
   "interpreter": {
    "hash": "8bb5fd587ebf4d90f905285c44a569046664a8863ee065ff2dd968491b671e06"
   }
  }
 },
 "nbformat": 4,
 "nbformat_minor": 2
}
