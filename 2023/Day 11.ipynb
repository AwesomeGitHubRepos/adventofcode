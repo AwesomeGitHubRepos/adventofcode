{
 "cells": [
  {
   "cell_type": "markdown",
   "metadata": {},
   "source": [
    "# Coordinated expansion is the new politics\n",
    "\n",
    "- https://adventofcode.com/2023/day/11\n",
    "\n",
    "This problem shouts numpy and scipy to me, specifically because of the existance of the [`scipy.spatial.distance.pdist()` function](https://docs.scipy.org/doc/scipy/reference/generated/scipy.spatial.distance.pdist.html#scipy.spatial.distance.pdist), which handles calculation of _Pairwise distances between observations in n-dimensional space_.\n",
    "\n",
    "All we really need to worry about then, is how to handle the expansion of the observed galaxies. Here is the plan:\n",
    "\n",
    "- read the map into a boolean matrix\n",
    "- use [`numpy.argwhere()`](https://numpy.org/doc/stable/reference/generated/numpy.argwhere.html) to get a matrix of galaxy coordinates.\n",
    "- For both the (sorted) x and y columns, use [`numpy.diff()`](https://numpy.org/doc/stable/reference/generated/numpy.diff.html) to calculate the number of columns / rows there are between. If this value is greater than 1 there are empty columns of rows in between.\n",
    "- In reverse order (so from highest to lowest coordinate), add the number of empty columns / rows to that coordinate _and all coordinates that are larger_. By going in reverse order the lower coordinates remain unchanged and so are easier to select for when it is their time to be shifted.\n",
    "\n",
    "Once the coordinates have been adjusted to account for the expansion the `pdist()` function takes care of pairing up the coordinates and calculating their distances. The `cityblock` metric matches how the puzzle specificies distances should be calculated.\n"
   ]
  },
  {
   "cell_type": "code",
   "execution_count": 1,
   "metadata": {},
   "outputs": [],
   "source": [
    "import numpy as np\n",
    "from scipy.spatial.distance import pdist\n",
    "\n",
    "\n",
    "class GalaxyMap:\n",
    "    def __init__(self, image: str) -> None:\n",
    "        self._galaxies = np.array(\n",
    "            [[c == \"#\" for c in line] for line in image.splitlines()], dtype=bool\n",
    "        )\n",
    "\n",
    "    def pairwise_distances_sum(self, expansion=2) -> int:\n",
    "        coords = np.argwhere(self._galaxies)\n",
    "        # expand coords\n",
    "        for col in (0, 1):\n",
    "            # Get the values that are at least 2 greater than their preceding value\n",
    "            # The values need sorting, as the y coords are not in order, and reversing\n",
    "            # for easier processing.\n",
    "            sorted = np.flip(np.sort(coords[:, col]))\n",
    "            # append the last value again so we get differences to the next lower\n",
    "            # coordinate plus a 0 difference for the lowest coordinate.\n",
    "            # negate the differences as we are working with coordinates in\n",
    "            # descending order.\n",
    "            dist = -np.diff(sorted, append=sorted[-1])\n",
    "            gaps = dist > 1\n",
    "            for c, d in zip(sorted[gaps], dist[gaps]):\n",
    "                # the space *doubles*; d is the number of empty cols\n",
    "                # in between plus one, so add (d - 1) * (expansion - 1) more space\n",
    "                coords[coords[:, col] >= c, col] += (d - 1) * (expansion - 1)\n",
    "        return pdist(coords, \"cityblock\").astype(int).sum()\n",
    "\n",
    "\n",
    "test_image = \"\"\"\\\n",
    "...#......\n",
    ".......#..\n",
    "#.........\n",
    "..........\n",
    "......#...\n",
    ".#........\n",
    ".........#\n",
    "..........\n",
    ".......#..\n",
    "#...#.....\n",
    "\"\"\"\n",
    "test_map = GalaxyMap(test_image)\n",
    "assert test_map.pairwise_distances_sum() == 374"
   ]
  },
  {
   "cell_type": "code",
   "execution_count": 2,
   "metadata": {},
   "outputs": [
    {
     "name": "stdout",
     "output_type": "stream",
     "text": [
      "Part 1: 9693756\n"
     ]
    }
   ],
   "source": [
    "import aocd\n",
    "\n",
    "galaxy_map = GalaxyMap(aocd.get_data(day=11, year=2023))\n",
    "print(\"Part 1:\", galaxy_map.pairwise_distances_sum())"
   ]
  },
  {
   "cell_type": "markdown",
   "metadata": {},
   "source": [
    "# Expanding on the expansion\n",
    "\n",
    "For part 2 I added an `expansion` argument to control how much space is added; instead of $d - 1$ (the number of empty columns or rows), add $(d - 1) * (expansion - 1)$ to the coordinates (so each empty column or row becomes $expansion$ number of columns or rows, including the one that's already there). The rest of the calculations don't change!\n"
   ]
  },
  {
   "cell_type": "code",
   "execution_count": 3,
   "metadata": {},
   "outputs": [],
   "source": [
    "assert test_map.pairwise_distances_sum(10) == 1030\n",
    "assert test_map.pairwise_distances_sum(100) == 8410"
   ]
  },
  {
   "cell_type": "code",
   "execution_count": 4,
   "metadata": {},
   "outputs": [
    {
     "name": "stdout",
     "output_type": "stream",
     "text": [
      "Part 2: 717878258016\n"
     ]
    }
   ],
   "source": [
    "print(\"Part 2:\", galaxy_map.pairwise_distances_sum(1_000_000))"
   ]
  }
 ],
 "metadata": {
  "kernelspec": {
   "display_name": "Python 3 (ipykernel)",
   "language": "python",
   "name": "python3"
  },
  "language_info": {
   "codemirror_mode": {
    "name": "ipython",
    "version": 3
   },
   "file_extension": ".py",
   "mimetype": "text/x-python",
   "name": "python",
   "nbconvert_exporter": "python",
   "pygments_lexer": "ipython3",
   "version": "3.12.0"
  }
 },
 "nbformat": 4,
 "nbformat_minor": 4
}
