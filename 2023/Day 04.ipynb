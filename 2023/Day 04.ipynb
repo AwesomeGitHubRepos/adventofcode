{
 "cells": [
  {
   "cell_type": "markdown",
   "id": "669d7cb4-8d70-47c6-8e15-2fea6e2d3d5c",
   "metadata": {},
   "source": [
    "# Intersecting the exponent\n",
    "\n",
    "- https://adventofcode.com/2023/day/4\n",
    "\n",
    "The task here is to find the number of winning numbers picked on each card. All you need to do for that is to take the length of the intersection of the two sets of numbers.\n",
    "\n",
    "The card points value is then an exponent of 2; one lower than the size of the intersection: 1 match is $2 ^ 0 = 1$, 2 matches is $2 ^ 1 = 2$, etc. The only corner case to take care of here is when there are no matches, in which case the points value is 0.\n"
   ]
  },
  {
   "cell_type": "code",
   "execution_count": 1,
   "id": "331d5068-cb66-4105-ae5a-f18331d6840f",
   "metadata": {},
   "outputs": [],
   "source": [
    "import typing as t\n",
    "from dataclasses import dataclass\n",
    "\n",
    "\n",
    "@dataclass\n",
    "class Card:\n",
    "    id: int\n",
    "    winning_numbers: frozenset[int]\n",
    "    my_numbers: frozenset[int]\n",
    "\n",
    "    @classmethod\n",
    "    def from_line(cls, line: str) -> t.Self:\n",
    "        identifier, _, numbers = line.partition(\":\")\n",
    "        id_ = int(identifier.partition(\" \")[-1])\n",
    "        winning, _, my = numbers.partition(\"|\")\n",
    "        return cls(\n",
    "            id_, frozenset(map(int, winning.split())), frozenset(map(int, my.split()))\n",
    "        )\n",
    "\n",
    "    @property\n",
    "    def matches(self):\n",
    "        return len(self.winning_numbers & self.my_numbers)\n",
    "\n",
    "    @property\n",
    "    def points(self):\n",
    "        count = self.matches\n",
    "        return 2 ** (count - 1) if count else 0\n",
    "\n",
    "\n",
    "test_cards = [\n",
    "    Card.from_line(line)\n",
    "    for line in \"\"\"\\\n",
    "Card 1: 41 48 83 86 17 | 83 86  6 31 17  9 48 53\n",
    "Card 2: 13 32 20 16 61 | 61 30 68 82 17 32 24 19\n",
    "Card 3:  1 21 53 59 44 | 69 82 63 72 16 21 14  1\n",
    "Card 4: 41 92 73 84 69 | 59 84 76 51 58  5 54 83\n",
    "Card 5: 87 83 26 28 32 | 88 30 70 12 93 22 82 36\n",
    "Card 6: 31 18 13 56 72 | 74 77 10 23 35 67 36 11\n",
    "\"\"\".splitlines()\n",
    "]\n",
    "\n",
    "assert [c.points for c in test_cards] == [8, 2, 2, 1, 0, 0]"
   ]
  },
  {
   "cell_type": "code",
   "execution_count": 2,
   "id": "ea53c3cd-8b97-4e31-9f0f-23487b987309",
   "metadata": {},
   "outputs": [
    {
     "name": "stdout",
     "output_type": "stream",
     "text": [
      "Part 1: 24542\n"
     ]
    }
   ],
   "source": [
    "import aocd\n",
    "\n",
    "cards = [Card.from_line(line) for line in aocd.get_data(day=4, year=2023).splitlines()]\n",
    "print(\"Part 1:\", sum(c.points for c in cards))"
   ]
  },
  {
   "cell_type": "markdown",
   "id": "e20fa41b-5b22-40fb-b4a3-4b47463cadaa",
   "metadata": {},
   "source": [
    "# Counting cards for Teh Win\n",
    "\n",
    "For part 2, there is a lot of talk about copying cards in the text. There is no need to copy anything, all we need to do is _count_ the number of cards so far, and use those counts to increase the counts for a number of cards that follow the current card in the list based on the number of matches for the current card.\n",
    "\n",
    "Keep a list of all the card counts, one value per card, and start at 1. Then, as you go down the list of cards, take the number of matches for that card, add the current count for that card to the right number of cards below it in the list. You don't even have to keep track of the current index in the list as you go because my `Card` class has an `id` attribute that's equal to the index plus 1.\n",
    "\n",
    "For the sample list of cards, the counts for the six cards start at `[1, 1, 1, 1, 1, 1]`. Then process each card; in the following list of steps the current card count is underscored and the card counts that are affected are shown in italics:\n",
    "\n",
    "1. Card 1 has one copy and 4 matches, so add 1 to the 4 next cards: <code>[<u>1</u>, <i>2, 2, 2, 2</i>, 1]</code>\n",
    "2. Card 2 has 2 copies now and 2 matches, so add 2 to the next 2 cards: <code>[1, <u>2</u>, <i>4, 4</i>, 2, 1]</code>\n",
    "3. Card 3 has 4 copies now, and has 2 matches, so add 4 to the next 2 cards: <code>[1, 2, <u>4</u>, <i>8, 6</i>, 1]</code>\n",
    "4. Card 4 has 8 copies now, and has 1 match, so add 8 to the next card in the list: <code>[1, 2, 4, <u>8</u>, <i>14</i>, 9]</code>\n",
    "5. Card 5 has 14 copies, has no matches so the list of counts is unchanged: <code>[1, 2, 4, 8, <u>14</u>, 9]</code>\n",
    "6. It doesn't matter how many matches card 6 has, there are no cards that follow it.\n",
    "\n",
    "Then simply sum the list of card counts for the total. Just make sure you don't try to add counts past the end of the list.\n",
    "\n",
    "Alternatively, you could keep a running total and pop off values from the list as you go, but the number of cards in the input is small enough that the additional complexity is not going to be worth it.\n"
   ]
  },
  {
   "cell_type": "code",
   "execution_count": 3,
   "id": "374ac43d-d37b-4971-81e8-9c3cf5744232",
   "metadata": {},
   "outputs": [],
   "source": [
    "def cards_won(cards: t.Sequence[Card]) -> int:\n",
    "    counts = [1] * len(cards)\n",
    "    for card in cards:\n",
    "        count = counts[card.id - 1]\n",
    "        for idx in range(card.id, card.id + card.matches):\n",
    "            if idx == len(cards):\n",
    "                break\n",
    "            counts[idx] += count\n",
    "    return sum(counts)\n",
    "\n",
    "\n",
    "assert cards_won(test_cards) == 30"
   ]
  },
  {
   "cell_type": "code",
   "execution_count": 4,
   "id": "81132a93-dc3c-491d-9fa3-c74d8aadeb12",
   "metadata": {},
   "outputs": [
    {
     "name": "stdout",
     "output_type": "stream",
     "text": [
      "Part 2: 8736438\n"
     ]
    }
   ],
   "source": [
    "print(\"Part 2:\", cards_won(cards))"
   ]
  }
 ],
 "metadata": {
  "kernelspec": {
   "display_name": "Python 3 (ipykernel)",
   "language": "python",
   "name": "python3"
  },
  "language_info": {
   "codemirror_mode": {
    "name": "ipython",
    "version": 3
   },
   "file_extension": ".py",
   "mimetype": "text/x-python",
   "name": "python",
   "nbconvert_exporter": "python",
   "pygments_lexer": "ipython3",
   "version": "3.12.0"
  }
 },
 "nbformat": 4,
 "nbformat_minor": 5
}
