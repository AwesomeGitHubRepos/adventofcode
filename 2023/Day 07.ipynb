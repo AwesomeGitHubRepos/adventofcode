{
 "cells": [
  {
   "cell_type": "markdown",
   "metadata": {},
   "source": [
    "# Lets get this sorted\n",
    "\n",
    "- https://adventofcode.com/2023/day/7\n",
    "\n",
    "Today's challenge is to sort hands of cards. This is actually quite simple. Just use a [`Counter()`](https://docs.python.org/3/library/collections.html#collections.Counter) on the hand and only keep the ordered values (counts) of the hand. This will match each of the hand _types_ in the puzzle description, and they are ordered exactly as the puzzle requires:\n",
    "\n",
    "- `(5)` is Five of a kind\n",
    "- `(4, 1)` is Four of a kind\n",
    "- `(3, 2)` is Full house\n",
    "- `(3, 1, 1)` is Three of a kind\n",
    "- `(2, 2, 1)` is Two pair\n",
    "- `(2, 1, 1, 1)` is One pair\n",
    "- `(1, 1, 1, 1, 1)` is High card\n",
    "\n",
    "Reversed lexicographical sorting of Python tuples would put them in exactly that order.\n",
    "\n",
    "To break ties between two hands with the same type, just compare the hand values themselves; obviously we'll need to map the picture cards (_A, K, Q, J and T_) to numeric values first. We can store these as a tuple. I'm putting the creation of the values tuple, as well as the type tuple, in the dataclass `__post_init__` method, declaring the attributes to hold these with `field(init=False)`.\n"
   ]
  },
  {
   "cell_type": "code",
   "execution_count": 1,
   "metadata": {},
   "outputs": [],
   "source": [
    "# pyright: strict\n",
    "\n",
    "import typing as t\n",
    "from collections import Counter\n",
    "from dataclasses import dataclass, field\n",
    "from math import sumprod\n",
    "\n",
    "Card = t.Literal[\"A\", \"K\", \"Q\", \"J\", \"T\", \"9\", \"8\", \"7\", \"6\", \"5\", \"4\", \"3\", \"2\"]\n",
    "\n",
    "\n",
    "_card_value: dict[Card, int] = {\n",
    "    c: i for i, c in enumerate(reversed(t.get_args(Card)), 2)\n",
    "}\n",
    "\n",
    "\n",
    "@dataclass\n",
    "class CamelPokerHand:\n",
    "    cards: tuple[Card, Card, Card, Card, Card]\n",
    "    bid: int\n",
    "\n",
    "    _values: tuple[int, int, int, int, int] = field(init=False)\n",
    "    _type: tuple[int, ...] = field(init=False)\n",
    "\n",
    "    def __post_init__(self) -> None:\n",
    "        self._values = tuple[int, int, int, int, int](\n",
    "            map(_card_value.__getitem__, self.cards)\n",
    "        )\n",
    "        self._type = tuple(v for _, v in Counter(self.cards).most_common())\n",
    "\n",
    "    def __lt__(self, other: \"CamelPokerHand\") -> bool:\n",
    "        return (self._type, self._values) < (other._type, other._values)\n",
    "\n",
    "    @classmethod\n",
    "    def from_line(cls, line: str) -> \"CamelPokerHand\":\n",
    "        hand, bid = line.split()\n",
    "        cards = t.cast(tuple[Card, Card, Card, Card, Card], tuple(hand))\n",
    "        return cls(cards, int(bid))\n",
    "\n",
    "\n",
    "def total_winnings(*hands: CamelPokerHand) -> int:\n",
    "    return int(sumprod((h.bid for h in sorted(hands)), range(1, len(hands) + 1)))\n",
    "\n",
    "\n",
    "test_hands = \"\"\"\\\n",
    "32T3K 765\n",
    "T55J5 684\n",
    "KK677 28\n",
    "KTJJT 220\n",
    "QQQJA 483\n",
    "\"\"\".splitlines()\n",
    "assert total_winnings(*map(CamelPokerHand.from_line, test_hands)) == 6440"
   ]
  },
  {
   "cell_type": "code",
   "execution_count": 2,
   "metadata": {},
   "outputs": [
    {
     "name": "stdout",
     "output_type": "stream",
     "text": [
      "Part 1: 251216224\n"
     ]
    }
   ],
   "source": [
    "import aocd\n",
    "\n",
    "hand_lines = aocd.get_data(day=7, year=2023).splitlines()\n",
    "hands = [CamelPokerHand.from_line(line) for line in hand_lines]\n",
    "print(\"Part 1:\", total_winnings(*hands))"
   ]
  },
  {
   "cell_type": "markdown",
   "metadata": {},
   "source": [
    "# Joking around\n",
    "\n",
    "For part two, using jokers is trivial because we already have our ordered card counts. One of those counts will be for the jokers in the hand. Remove that count from the type tuple and add the joker count to the highest count remaining. Only apply this if there are between 1 and 4 jokers in the hand; with 5 jokers you can't improve on the 5 of a kind hand you already have.\n"
   ]
  },
  {
   "cell_type": "code",
   "execution_count": 3,
   "metadata": {},
   "outputs": [],
   "source": [
    "# pyright: strict\n",
    "_JV = _card_value[\"J\"]\n",
    "\n",
    "\n",
    "class JokerCamelPokerHand(CamelPokerHand):\n",
    "    def __post_init__(self) -> None:\n",
    "        super().__post_init__()\n",
    "        self._values = tuple[int, int, int, int, int](\n",
    "            1 if v == _JV else v for v in self._values\n",
    "        )\n",
    "        if 0 < (jcount := self._values.count(1)) < 5:\n",
    "            # add the jokers to the most-common non-joker card count\n",
    "            type_ = list(self._type)\n",
    "            type_.remove(jcount)\n",
    "            type_[0] += jcount\n",
    "            self._type = tuple(type_)\n",
    "\n",
    "\n",
    "assert total_winnings(*map(JokerCamelPokerHand.from_line, test_hands)) == 5905"
   ]
  },
  {
   "cell_type": "code",
   "execution_count": 4,
   "metadata": {},
   "outputs": [
    {
     "name": "stdout",
     "output_type": "stream",
     "text": [
      "Part 1: 250825971\n"
     ]
    }
   ],
   "source": [
    "hands = [JokerCamelPokerHand.from_line(line) for line in hand_lines]\n",
    "print(\"Part 1:\", total_winnings(*hands))"
   ]
  }
 ],
 "metadata": {
  "kernelspec": {
   "display_name": "adventofcode-bRnAxXn--py3.12",
   "language": "python",
   "name": "python3"
  },
  "language_info": {
   "codemirror_mode": {
    "name": "ipython",
    "version": 3
   },
   "file_extension": ".py",
   "mimetype": "text/x-python",
   "name": "python",
   "nbconvert_exporter": "python",
   "pygments_lexer": "ipython3",
   "version": "3.12.0"
  }
 },
 "nbformat": 4,
 "nbformat_minor": 2
}
