{
 "cells": [
  {
   "cell_type": "markdown",
   "metadata": {},
   "source": [
    "# A weighty task\n",
    "\n",
    "- https://adventofcode.com/2023/day/14\n",
    "\n",
    "For this task, you don't actually have to roll stones around. All you need to do is split each column on (consecutive sequences of) cubed rocks, and count the number of rolling rocks in each section. You can calculate their weight by taking the offset of the section into consideration.\n",
    "\n",
    "If you started at the north end, the heaviest rock is weight 10, and if there are 4 rolling rocks you know that they all weigh more than $10 - 4 = 6$. Adding up consecutive numbers between to points (10 and 6 here) can be done by taking the [triangle number](https://en.wikipedia.org/wiki/Triangular_number) of the two values and subtracting them. Triangle numbers are trivial to compute, the formula is $\\frac{n(n+1)}{2}$.\n",
    "\n",
    "To split by consecutive cube-shaped rocks, split the string using a regular expression with a group in it; the [`re.split()` function](https://docs.python.org/3/library/re.html#re.split) (or the equivalent method on a compiled regular expression) then not only returns the strings between the pattern, but also the part that's matched by the group. Splitting on `(#+)` produces alternating strings with stationary cube-shaped boulders, and sections with rolling boulders and empty space. If the first character of a line were to be the north end of the map, then a boulder at that position would weigh `len(line)`, etc. As you process all the groups from a split, keep track of the maximum weight for that section by subtracting the length of each group as you iterate.\n",
    "\n",
    "We do need to then re-orient our map to put the north-south line along text lines. We can use a simple Python transposition trick for this; if you pass a list of lines to the `zip()` function, as separate arguments, then this will yield tuples with the characters of each column. It's as if you rotated the input text by 90 degrees to the right then flipped the resulting lines.\n"
   ]
  },
  {
   "cell_type": "code",
   "execution_count": 1,
   "metadata": {},
   "outputs": [],
   "source": [
    "import re\n",
    "import typing as t\n",
    "\n",
    "\n",
    "def _tn(n: int) -> int:\n",
    "    \"\"\"triangle number\"\"\"\n",
    "    return n * (n + 1) // 2\n",
    "\n",
    "\n",
    "def _by_column(map: str) -> list[str]:\n",
    "    return [\"\".join(col) for col in zip(*map.splitlines())]\n",
    "\n",
    "\n",
    "_cube_shaped = re.compile(r\"(#+)\")\n",
    "\n",
    "\n",
    "def total_load(map: str) -> int:\n",
    "    total = 0\n",
    "    for col in _by_column(map):\n",
    "        weight = len(col)\n",
    "        for group in _cube_shaped.split(col):\n",
    "            if rolling := group.count(\"O\"):\n",
    "                total += _tn(weight) - _tn(weight - rolling)\n",
    "            weight -= len(group)\n",
    "    return total\n",
    "\n",
    "\n",
    "test_platform = \"\"\"\\\n",
    "O....#....\n",
    "O.OO#....#\n",
    ".....##...\n",
    "OO.#O....O\n",
    ".O.....O#.\n",
    "O.#..O.#.#\n",
    "..O..#O..O\n",
    ".......O..\n",
    "#....###..\n",
    "#OO..#....\n",
    "\"\"\"\n",
    "\n",
    "\n",
    "assert total_load(test_platform) == 136"
   ]
  },
  {
   "cell_type": "code",
   "execution_count": 2,
   "metadata": {},
   "outputs": [
    {
     "name": "stdout",
     "output_type": "stream",
     "text": [
      "Part 1: 109098\n"
     ]
    }
   ],
   "source": [
    "import aocd\n",
    "\n",
    "platform = aocd.get_data(day=14, year=2023)\n",
    "print(\"Part 1:\", total_load(platform))"
   ]
  },
  {
   "cell_type": "markdown",
   "metadata": {},
   "source": [
    "# Cycling it up\n",
    "\n",
    "Part two can be solved with more string manipulation. I did have to make two changes to my part 1 implementation for part 2:\n",
    "\n",
    "- We can't just use transpositions now, we need proper rotations. Simply reverse each line after transposing from columns to rows.\n",
    "- Calculating the weights needs to be a separate step now. I switched to just counting rolling rocks per line, and I reversed the map lines so the last line is processed first, etc. That allows us to use the [`enumerate()` function](https://docs.python.org/3/library/functions.html#enumerate) to provide us with the right weight value for each rolling rock.\n",
    "\n",
    "Experienced participants will of course have recognized that we don't really want to cycle the map 1 billion times. Past AOC puzzles have taught us to look for repeating patterns: keep track of what the map looked like at each step and if you encounter the same map later on, you know how many steps have passed for this loop, and you can fast-forward to the end.\n"
   ]
  },
  {
   "cell_type": "code",
   "execution_count": 3,
   "metadata": {},
   "outputs": [
    {
     "name": "stdout",
     "output_type": "stream",
     "text": [
      "64\n"
     ]
    }
   ],
   "source": [
    "def _rotate(map: str) -> str:\n",
    "    return \"\\n\".join(\"\".join(col[::-1]) for col in zip(*map.splitlines()))\n",
    "\n",
    "\n",
    "def _roll(map: str) -> str:\n",
    "    # move every rolling rock to the end of the group\n",
    "    lines: list[str] = [\n",
    "        \"\".join(\n",
    "            [\n",
    "                g.replace(\"O\", \"\") + \"O\" * g.count(\"O\")\n",
    "                for g in t.cast(list[str], _cube_shaped.split(line))\n",
    "            ]\n",
    "        )\n",
    "        for line in map.splitlines()\n",
    "    ]\n",
    "    return \"\\n\".join(lines)\n",
    "\n",
    "\n",
    "def _cycle(map: str) -> str:\n",
    "    for _ in range(4):\n",
    "        map = _roll(_rotate(map))\n",
    "    return map\n",
    "\n",
    "\n",
    "def cycle(map: str, steps: int) -> str:\n",
    "    states: dict[str, int] = {}\n",
    "    step = 0\n",
    "    while step < steps:\n",
    "        map = _cycle(map)\n",
    "        if (prev := states.get(map)) is not None:\n",
    "            # cycle found, we can fast-forward now\n",
    "            length = step - prev\n",
    "            step += (steps - step) // length * length\n",
    "        else:\n",
    "            states[map] = step\n",
    "        step += 1\n",
    "    return map\n",
    "\n",
    "\n",
    "def total_load(map: str) -> int:\n",
    "    return sum(\n",
    "        row.count(\"O\") * i for i, row in enumerate(reversed(map.splitlines()), 1)\n",
    "    )\n",
    "\n",
    "\n",
    "print(total_load(cycle(test_platform, 1_000_000_000)))"
   ]
  },
  {
   "cell_type": "code",
   "execution_count": 4,
   "metadata": {},
   "outputs": [
    {
     "name": "stdout",
     "output_type": "stream",
     "text": [
      "100064\n"
     ]
    }
   ],
   "source": [
    "print(total_load(cycle(platform, 1_000_000_000)))"
   ]
  }
 ],
 "metadata": {
  "kernelspec": {
   "display_name": "Python 3 (ipykernel)",
   "language": "python",
   "name": "python3"
  },
  "language_info": {
   "codemirror_mode": {
    "name": "ipython",
    "version": 3
   },
   "file_extension": ".py",
   "mimetype": "text/x-python",
   "name": "python",
   "nbconvert_exporter": "python",
   "pygments_lexer": "ipython3",
   "version": "3.12.1"
  }
 },
 "nbformat": 4,
 "nbformat_minor": 4
}
