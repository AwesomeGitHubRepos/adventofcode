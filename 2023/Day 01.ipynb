{
 "cells": [
  {
   "cell_type": "markdown",
   "metadata": {},
   "source": [
    "# Off to a flying start?\n",
    "\n",
    "- https://adventofcode.com/2023/day/1\n",
    "\n",
    "Not sure if this is a good idea, but we are to help the elves launch us into the sky. Time to whip out the regexes to extract digits from text!\n",
    "\n",
    "To get the regex engine to do most of the work I used the following pattern:\n",
    "\n",
    "- `^\\D*` to match any number of non-digits at the start of a line.\n",
    "- `(?P<first>\\d)` to capture _one_ digit as a named group (\"first\"); this is the first digit on the line.\n",
    "- `.*?` to match any number of intervening characters. Note the `?` in the pattern; this makes the `*` repetition _non-greedy_, which is important for the _next_ pattern. More below.\n",
    "- `(?P<last>\\d)?` to capture _one_ digit as a named group (\"last\"); this is going to be the last digit on the line. Note that this is optional, see below!\n",
    "- `\\D*$` to match any number of non-digits at the end of the line.\n",
    "\n",
    "I also switched on multi-line mode with `re.MULTILINE`, so `^` and `$` match the start and end of each line, respectively.\n",
    "\n",
    "Because the pattern uses the start and end of line anchors together with the `\\D` non-digit character class, the only places that the `\\d` groups can match are the first and last digits on each line.\n",
    "\n",
    "Now all we have to do is to use `pattern.finditer()` to extract all the first and last digits and we can then turn these into 2-digit numbers.\n",
    "\n",
    "As is common, there is a small detail in the puzzle description that is really important: the last digit and first digit can be _one and the same_. To account for this I made the \"last\" group optional and if the group is empty fall back to the \"first\" digit. Because the group is optional, you need to make sure that the `.*` pattern between the first and last digit groups doesn't include the last digit itself; you do this by making that repetition group _non-greedy_ with the `?` modifier. That way the regex engine will use the minimum number of characters from the input text to match against, leaving the last digit for the \"last\" group.\n"
   ]
  },
  {
   "cell_type": "code",
   "execution_count": 1,
   "metadata": {},
   "outputs": [],
   "source": [
    "import re\n",
    "import typing as t\n",
    "\n",
    "digits = re.compile(r\"^\\D*(?P<first>\\d).*?(?P<last>\\d)?\\D*$\", flags=re.MULTILINE)\n",
    "\n",
    "\n",
    "def calibration_values(text: str) -> t.Iterator[int]:\n",
    "    for match in digits.finditer(text):\n",
    "        yield int(match[\"first\"] + (match[\"last\"] or match[\"first\"]))\n",
    "\n",
    "\n",
    "test = \"\"\"\\\n",
    "1abc2\n",
    "pqr3stu8vwx\n",
    "a1b2c3d4e5f\n",
    "treb7uchet\n",
    "\"\"\"\n",
    "\n",
    "assert list(calibration_values(test)) == [12, 38, 15, 77]\n",
    "assert sum(calibration_values(test)) == 142"
   ]
  },
  {
   "cell_type": "code",
   "execution_count": 2,
   "metadata": {},
   "outputs": [
    {
     "name": "stdout",
     "output_type": "stream",
     "text": [
      "Part 1: 57346\n"
     ]
    }
   ],
   "source": [
    "import aocd\n",
    "\n",
    "print(\"Part 1:\", sum(calibration_values(aocd.get_data(day=1, year=2023))))"
   ]
  },
  {
   "cell_type": "markdown",
   "metadata": {},
   "source": [
    "# Try not to fall down flat\n",
    "\n",
    "Part two is specifically designed to trip up people like me that wanted to find the digits using a single regex pattern. That's because the digit _words_ can't be excluded from the patterns matching the start and end of each line.\n",
    "\n",
    "The simplest solution would be to just split the text into lines, then use a regex to match _just_ a digit word or digit, and take the first and last matches for each line. `re.findall()` would do the job just fine.\n",
    "\n",
    "But, since Python 3.11 the `re` module supports [atomic grouping](https://www.regular-expressions.info/atomic.html), and these let us steer the regex engine to not back-track when matching digits. This is the pattern to use:\n",
    "\n",
    "- `^.*?` to match the minimal number of characters at the start. This starts a back-tracking process until the next pattern matches.\n",
    "- `(?>(?P<first>\\d|one|two|...))` (with all the digit words). Here `(?>...)` is the atomic group. As the regex engine scans the text, the first time a digit word or digit is encountered, the engine will _no longer backtrack_ and match the rest of the text using the remaining patterns.\n",
    "- `(?>.*(?P<last>\\d|one|two|...))?` to match the last digit word or digit. This is an optional atomic group that starts with `.*`, a _greedy_ pattern that makes the engine use backtracking from the end of the line. If this pattern matches, it will have found the last digit in the group and thus stops backtracking at that point.\n",
    "- `.*$` to match the tail of the line.\n",
    "\n",
    "To map from digit words and digits to integer values, I switched to using a dictionary. The keys are the digit words and single digits. The words are also helpful in automating the creation of the regex pattern.\n"
   ]
  },
  {
   "cell_type": "code",
   "execution_count": 3,
   "metadata": {},
   "outputs": [],
   "source": [
    "words = {\n",
    "    \"one\": 1,\n",
    "    \"two\": 2,\n",
    "    \"three\": 3,\n",
    "    \"four\": 4,\n",
    "    \"five\": 5,\n",
    "    \"six\": 6,\n",
    "    \"seven\": 7,\n",
    "    \"eight\": 8,\n",
    "    \"nine\": 9,\n",
    "}\n",
    "\n",
    "digit_pattern = \"|\".join([r\"\\d\", *words])\n",
    "full_digits = re.compile(\n",
    "    rf\"^.*?(?>(?P<first>{digit_pattern}))(?>.*(?P<last>{digit_pattern}))?.*$\",\n",
    "    flags=re.MULTILINE,\n",
    ")\n",
    "digits = {d: int(d) for d in \"123456789\"} | words\n",
    "\n",
    "\n",
    "def full_calibration_values(text: str) -> t.Iterator[int]:\n",
    "    for match in full_digits.finditer(text):\n",
    "        yield 10 * digits[match[\"first\"]] + digits[match[\"last\"] or match[\"first\"]]\n",
    "\n",
    "\n",
    "test = \"\"\"\\\n",
    "two1nine\n",
    "eightwothree\n",
    "abcone2threexyz\n",
    "xtwone3four\n",
    "4nineeightseven2\n",
    "zoneight234\n",
    "7pqrstsixteen\n",
    "\"\"\"\n",
    "\n",
    "assert list(full_calibration_values(test)) == [29, 83, 13, 24, 42, 14, 76]\n",
    "assert sum(full_calibration_values(test)) == 281"
   ]
  },
  {
   "cell_type": "code",
   "execution_count": 4,
   "metadata": {},
   "outputs": [
    {
     "name": "stdout",
     "output_type": "stream",
     "text": [
      "Part 2: 57345\n"
     ]
    }
   ],
   "source": [
    "print(\"Part 2:\", sum(full_calibration_values(aocd.get_data(day=1, year=2023))))"
   ]
  }
 ],
 "metadata": {
  "kernelspec": {
   "display_name": "adventofcode-bRnAxXn--py3.12",
   "language": "python",
   "name": "python3"
  },
  "language_info": {
   "codemirror_mode": {
    "name": "ipython",
    "version": 3
   },
   "file_extension": ".py",
   "mimetype": "text/x-python",
   "name": "python",
   "nbconvert_exporter": "python",
   "pygments_lexer": "ipython3",
   "version": "3.12.0"
  }
 },
 "nbformat": 4,
 "nbformat_minor": 2
}
