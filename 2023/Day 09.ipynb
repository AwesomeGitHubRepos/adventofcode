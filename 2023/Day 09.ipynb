{
 "cells": [
  {
   "cell_type": "markdown",
   "metadata": {},
   "source": [
    "# A derivative puzzle\n",
    "\n",
    "- https://adventofcode.com/2023/day/9\n",
    "\n",
    "The puzzle example describes the process of finding the [derivative](https://en.wikipedia.org/wiki/Derivative) of the sensor value function. Given that we don't actually know the functions of the sensor values, this is a very good explanation of how you would go about finding the next output value.\n",
    "\n",
    "We can use numpy to do all the work for us in a single call; the [`numpy.diff()` function](https://numpy.org/doc/stable/reference/generated/numpy.diff.html#numpy.diff) lets us calculate the final difference between each value across multiple steps, plus it'll handle the appended 0 for us. The final value is the total change for the formula, but it could be positive or negative, so all we have to do is to take the absolute value; e.g. for the input `1 3 6 10 15 21` the `numpy.diff(arr, n=arr.shape[1], append=0)` function spits out `-28`. And it'll do so across all the rows of input values, so a simple `numpy.abs(....sum())` expression later and we have our answer.\n"
   ]
  },
  {
   "cell_type": "code",
   "execution_count": 1,
   "metadata": {},
   "outputs": [],
   "source": [
    "import numpy as np\n",
    "from numpy.typing import NDArray\n",
    "\n",
    "\n",
    "def sensor_inputs(text: str) -> NDArray[np.int_]:\n",
    "    return np.loadtxt(text.splitlines(), dtype=int)\n",
    "\n",
    "\n",
    "def predict_next_sensor_sum(sensor_inputs: NDArray[np.int_]) -> int:\n",
    "    return np.abs(np.diff(sensor_inputs, n=sensor_inputs.shape[1], append=0).sum())\n",
    "\n",
    "\n",
    "test_inputs = sensor_inputs(\n",
    "    \"\"\"\\\n",
    "0 3 6 9 12 15\n",
    "1 3 6 10 15 21\n",
    "10 13 16 21 30 45\n",
    "\"\"\"\n",
    ")\n",
    "assert predict_next_sensor_sum(test_inputs) == 114"
   ]
  },
  {
   "cell_type": "code",
   "execution_count": 2,
   "metadata": {},
   "outputs": [
    {
     "name": "stdout",
     "output_type": "stream",
     "text": [
      "Part 1: 1762065988\n"
     ]
    }
   ],
   "source": [
    "import aocd\n",
    "\n",
    "inputs = sensor_inputs(aocd.get_data(day=9, year=2023))\n",
    "print(\"Part 1:\", predict_next_sensor_sum(inputs))"
   ]
  },
  {
   "cell_type": "markdown",
   "metadata": {},
   "source": [
    "# Going backwards in time\n",
    "\n",
    "For part two, all we need to do is use `prepend` instead of `append` for our calculations. Simple!\n",
    "\n",
    "Or, even simpler, just reverse the input array across the rows and use our original function.\n"
   ]
  },
  {
   "cell_type": "code",
   "execution_count": 3,
   "metadata": {},
   "outputs": [],
   "source": [
    "def predict_prev_sensor_sum(sensor_inputs: NDArray[np.int_]) -> int:\n",
    "    return predict_next_sensor_sum(sensor_inputs[:, ::-1])\n",
    "\n",
    "\n",
    "assert predict_prev_sensor_sum(test_inputs) == 2"
   ]
  },
  {
   "cell_type": "code",
   "execution_count": 4,
   "metadata": {},
   "outputs": [
    {
     "name": "stdout",
     "output_type": "stream",
     "text": [
      "Part 2: 1066\n"
     ]
    }
   ],
   "source": [
    "print(\"Part 2:\", predict_prev_sensor_sum(inputs))"
   ]
  }
 ],
 "metadata": {
  "kernelspec": {
   "display_name": "adventofcode-bRnAxXn--py3.12",
   "language": "python",
   "name": "python3"
  },
  "language_info": {
   "codemirror_mode": {
    "name": "ipython",
    "version": 3
   },
   "file_extension": ".py",
   "mimetype": "text/x-python",
   "name": "python",
   "nbconvert_exporter": "python",
   "pygments_lexer": "ipython3",
   "version": "3.12.0"
  }
 },
 "nbformat": 4,
 "nbformat_minor": 2
}
