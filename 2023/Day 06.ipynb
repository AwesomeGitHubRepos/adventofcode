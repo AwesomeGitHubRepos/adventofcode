{
 "cells": [
  {
   "cell_type": "markdown",
   "id": "9ea6ff44-3c2c-4a80-a361-56384271d527",
   "metadata": {},
   "source": [
    "# Pressing all my math buttons\n",
    "\n",
    "- https://adventofcode.com/2023/day/6\n",
    "\n",
    "Today is a math problem, really. You can calculate the distance $d$ for a given charging time $c$ and race time $t$ with the simple formula:\n",
    "\n",
    "$$\n",
    "d = (t - c) * c\n",
    "\\\\\\equiv d = t * c - c^2\n",
    "$$\n",
    "\n",
    "We need to find the values for $c$ where we beat the record distance; given the record as $d$, at what points in time are we going to beat it? We'd need to subtract $d$ to reach zero:\n",
    "\n",
    "$$\n",
    "t * c - c^2 - d = 0\n",
    "\\\\\\equiv -1 * c^2 + t * c + -d = 0\n",
    "$$\n",
    "\n",
    "and this looks awfully much like a [quadratic equation](https://en.wikipedia.org/wiki/Quadratic_equation), with $a = -1, b = t, c = -d$. The number of times we win is then the difference between the two roots for the equation, rounded towards one another. Using flooring and ceiling functions to ensure we get integer answers, we can calculate the number of wins like this:\n",
    "\n",
    "$$\n",
    "sd = \\lceil \\sqrt{t^2 - 4 * d} \\rceil\n",
    "\\\\i = \\lfloor (-t + sd) / -2 \\rfloor\n",
    "\\\\j = \\lceil (-t - sd) / -2 \\rceil\n",
    "\\\\wins = j - i - 1\n",
    "$$\n",
    "\n",
    "Here, $i$ is the number of races where we haven't pressed down long enough to win, and $j$ is point where we have pressed down too long to win, and so from $i + 1$ through to $j - 1$ are the times we absolutely will win.\n",
    "\n",
    "In Python, to get the integer _ceiling_ of the square root of a number, you can use the standard library [`math.isqrt()` function](https://docs.python.org/3/library/math.html#math.isqrt), and follow the documentation which tells us to use `1 + math.sqrt(n - 1)`.\n"
   ]
  },
  {
   "cell_type": "code",
   "execution_count": 1,
   "id": "35ac7393-ac47-4851-a9db-fed3ed60ac6e",
   "metadata": {},
   "outputs": [],
   "source": [
    "import math\n",
    "\n",
    "\n",
    "# https://stackoverflow.com/a/17511341\n",
    "def ceil_div(a: int, b: int) -> int:\n",
    "    return -(a // -b)\n",
    "\n",
    "\n",
    "def count_wins(t: int, d: int) -> int:\n",
    "    # int ceiling of the square root is 1 + isqrt(n - 1)\n",
    "    sqrt_discriminant = 1 + math.isqrt(t**2 - 4 * d - 1)\n",
    "    # the longest button pressing time we will not yet reach the record distance\n",
    "    i = (-t + sqrt_discriminant) // -2\n",
    "    # the shortest button pressing time we will no longer reach the record distance\n",
    "    j = ceil_div(-t - sqrt_discriminant, -2)\n",
    "    return j - i - 1\n",
    "\n",
    "\n",
    "def parse_records(text: str) -> list[tuple[int, int]]:\n",
    "    time_str, rec_str = (line.partition(\":\")[-1] for line in text.splitlines())\n",
    "    times = [int(t) for t in time_str.split()]\n",
    "    records = [int(d) for d in rec_str.split()]\n",
    "    return [(t, r) for t, r in zip(times, records)]\n",
    "\n",
    "\n",
    "test_doc = \"\"\"\\\n",
    "Time:      7  15   30\n",
    "Distance:  9  40  200\n",
    "\"\"\"\n",
    "\n",
    "assert math.prod(count_wins(t, r) for t, r in parse_records(test_doc)) == 288"
   ]
  },
  {
   "cell_type": "code",
   "execution_count": 2,
   "id": "5e1f1246-103a-4f63-aa31-c940dc0ee979",
   "metadata": {},
   "outputs": [
    {
     "name": "stdout",
     "output_type": "stream",
     "text": [
      "Part 1: 114400\n"
     ]
    }
   ],
   "source": [
    "import aocd\n",
    "\n",
    "doc = aocd.get_data(day=6, year=2023)\n",
    "print(\"Part 1:\", math.prod(count_wins(t, r) for t, r in parse_records(doc)))"
   ]
  },
  {
   "cell_type": "markdown",
   "id": "2dd1fee5-8e56-411b-b626-891b4978ba51",
   "metadata": {},
   "source": [
    "# The only problem now is avoiding a pressure blister\n",
    "\n",
    "For part two we only need to remove the spaces from the input; the formula for part 1 is no faster or slower for large numbers, no need to keep pressing that button over and over again!\n"
   ]
  },
  {
   "cell_type": "code",
   "execution_count": 3,
   "id": "b5e14666",
   "metadata": {},
   "outputs": [],
   "source": [
    "test_doc_2 = test_doc.replace(\" \", \"\")\n",
    "assert math.prod(count_wins(t, r) for t, r in parse_records(test_doc_2)) == 71503"
   ]
  },
  {
   "cell_type": "code",
   "execution_count": 4,
   "id": "35231fa6",
   "metadata": {},
   "outputs": [
    {
     "name": "stdout",
     "output_type": "stream",
     "text": [
      "Part 2: 21039729\n"
     ]
    }
   ],
   "source": [
    "no_spaces = doc.replace(\" \", \"\")\n",
    "print(\"Part 2:\", math.prod(count_wins(t, r) for t, r in parse_records(no_spaces)))"
   ]
  }
 ],
 "metadata": {
  "kernelspec": {
   "display_name": "Python 3 (ipykernel)",
   "language": "python",
   "name": "python3"
  },
  "language_info": {
   "codemirror_mode": {
    "name": "ipython",
    "version": 3
   },
   "file_extension": ".py",
   "mimetype": "text/x-python",
   "name": "python",
   "nbconvert_exporter": "python",
   "pygments_lexer": "ipython3",
   "version": "3.12.0"
  }
 },
 "nbformat": 4,
 "nbformat_minor": 5
}
