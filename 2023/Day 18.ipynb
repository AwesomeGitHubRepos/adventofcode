{
 "cells": [
  {
   "cell_type": "markdown",
   "id": "d11939c5",
   "metadata": {},
   "source": [
    "# Did you tie your shoelaces this morning?\n",
    "\n",
    "- https://adventofcode.com/2023/day/18\n",
    "\n",
    "I've learned a new maths trick since solving day 10, and it involves tying your shoelaces. Or, rather, we can use the [Shoelace Formula](https://en.wikipedia.org/wiki/Shoelace_formula) to calculate the area of a polygon. In this formula, you pair up the X coordinate of one point with the Y coordinate of the next point, and vice versa, and take the difference between the products of the pairs. You do this for every consecutive pair of points, and the sum of all these differences is the area. Or, vice versa, you can also take the sums of all the even cross-paired coordinates and then subtract the odd cross-paired coordinates. Simple!\n",
    "\n",
    "Not that we are actually asked for the area inside the polygon, we are asked for the area _plus the area of the lines themselves_, aka the boundary or perimeter. The area calculated actually includes half ot the line (picture the coordinates an the centres of the 1mx1m hole dug by the digger). To get the total area, we can apply [Pick's Theorem](https://en.wikipedia.org/wiki/Pick%27s_theorem) to figure out what part of the area $a$, calculated with the shoelace formula, is the integer $i$ interior, and by extension, what part of the $b$ boundary we then need to add to $a$ to get our $t$ total area:\n",
    "\n",
    "$$\n",
    "\\begin{array}{ll}\n",
    "a = i + \\frac{b}{2} - 1\n",
    "\\\\ \\to i = a - \\frac{b}{2} + 1\n",
    "\\\\\n",
    "\\\\\n",
    "t = i + b\n",
    "\\\\ \\to t = a + 1 - \\frac{b}{2} + b\n",
    "\\\\ \\to t = a + 1 + \\frac{b}{2}\n",
    "\\end{array}\n",
    "$$\n",
    "\n",
    "Note that $b$ is simply the sum of the numbers in the instructions.\n",
    "\n",
    "Of course, we'll have to map those dig instructions to coordinates first, but that's just a matter of adding to a running coordinate value with each instruction vector; something that [`numpy.cumsum()`](https://numpy.org/doc/stable/reference/generated/numpy.cumsum.html#numpy-cumsum) takes care of for us. I've added in the length of the dig instruction as a 3rd column so I can extract the boundary length from the final row.\n",
    "\n",
    "I'm ignoring the colour value entirely, I'm sure that'll come to play for part 2.\n"
   ]
  },
  {
   "cell_type": "code",
   "execution_count": 1,
   "id": "969658fb-0b75-4cf9-87c3-34aea695bd90",
   "metadata": {},
   "outputs": [],
   "source": [
    "from __future__ import annotations\n",
    "\n",
    "import typing as t\n",
    "\n",
    "import numpy as np\n",
    "\n",
    "type Coords = np.ndarray[tuple[int, t.Literal[2]], np.dtype[np.int_]]\n",
    "\n",
    "\n",
    "def parse(line: str) -> tuple[int, int, int]:\n",
    "    dir, count, _ = line.split()\n",
    "    count = int(count)\n",
    "    match dir:\n",
    "        case \"R\":\n",
    "            return (count, 0, count)\n",
    "        case \"D\":\n",
    "            return (0, count, count)\n",
    "        case \"L\":\n",
    "            return (-count, 0, count)\n",
    "        case \"U\":\n",
    "            return (0, -count, count)\n",
    "        case _:\n",
    "            raise ValueError(f\"Unknown dig direction {dir} on line {i}\")\n",
    "\n",
    "\n",
    "def dig_instructions(\n",
    "    instructions: list[str], parse: t.Callable[[str], tuple[int, int, int]] = parse\n",
    ") -> tuple[Coords, int]:\n",
    "    accumulated = np.cumsum(np.array([parse(line) for line in instructions]), axis=0)\n",
    "    return accumulated[:, :2], accumulated[-1, -1]\n",
    "\n",
    "\n",
    "def shoelace(coords: Coords) -> int:\n",
    "    x, y = coords[:, 0], coords[:, 1]\n",
    "    odd = np.dot(x, np.roll(y, 1))\n",
    "    even = np.dot(y, np.roll(x, 1))\n",
    "    return 0.5 * np.abs(odd - even)\n",
    "\n",
    "\n",
    "def dug_area(coords: Coords, boundary: int) -> int:\n",
    "    area = int(shoelace(coords))\n",
    "    return area + 1 + boundary // 2\n",
    "\n",
    "\n",
    "test_digplan = \"\"\"\\\n",
    "R 6 (#70c710)\n",
    "D 5 (#0dc571)\n",
    "L 2 (#5713f0)\n",
    "D 2 (#d2c081)\n",
    "R 2 (#59c680)\n",
    "D 2 (#411b91)\n",
    "L 5 (#8ceee2)\n",
    "U 2 (#caa173)\n",
    "L 1 (#1b58a2)\n",
    "U 2 (#caa171)\n",
    "R 2 (#7807d2)\n",
    "U 3 (#a77fa3)\n",
    "L 2 (#015232)\n",
    "U 2 (#7a21e3)\n",
    "\"\"\"\n",
    "\n",
    "\n",
    "coords, boundary = dig_instructions(str(test_digplan).splitlines())\n",
    "assert dug_area(coords, boundary) == 62"
   ]
  },
  {
   "cell_type": "code",
   "execution_count": 2,
   "id": "2b265598-5cb1-489b-880d-437b1f5d246c",
   "metadata": {},
   "outputs": [
    {
     "name": "stdout",
     "output_type": "stream",
     "text": [
      "Part 1: 48400\n"
     ]
    }
   ],
   "source": [
    "import aocd\n",
    "\n",
    "digplan = aocd.get_data(day=18, year=2023).splitlines()\n",
    "print(\"Part 1:\", dug_area(*dig_instructions(digplan)))"
   ]
  },
  {
   "cell_type": "markdown",
   "id": "1bbf5742",
   "metadata": {},
   "source": [
    "# Someone was colour _and_ number blind?\n",
    "\n",
    "Here we go, part two reveals that the size of the polygon is vastly larger than part 1 would have led us to believe. The colour value is actually an encoded dig instruction. Good thing we can use maths to get the area still!\n",
    "\n",
    "I refactored the `dig_instructions()` function to take a `parse` callable, so that part 2 can pass in a different parser.\n"
   ]
  },
  {
   "cell_type": "code",
   "execution_count": 3,
   "id": "2fa49a14",
   "metadata": {},
   "outputs": [],
   "source": [
    "def corrected_parse(line: str) -> tuple[int, int, int]:\n",
    "    colour = line.rpartition(\"(#\")[-1].rstrip(\")\")\n",
    "    count = int(colour[:5], 16)\n",
    "    match colour[5]:\n",
    "        case \"0\":  # R\n",
    "            return (count, 0, count)\n",
    "        case \"1\":  # D\n",
    "            return (0, count, count)\n",
    "        case \"2\":  # L\n",
    "            return (-count, 0, count)\n",
    "        case \"3\":  # U\n",
    "            return (0, -count, count)\n",
    "        case _:\n",
    "            raise ValueError(f\"Unknown dig direction {dir} on line {i}\")\n",
    "\n",
    "\n",
    "coords, boundary = dig_instructions(str(test_digplan).splitlines(), corrected_parse)\n",
    "assert dug_area(coords, boundary) == 952408144115"
   ]
  },
  {
   "cell_type": "code",
   "execution_count": 4,
   "id": "bfcbbd7c",
   "metadata": {},
   "outputs": [
    {
     "name": "stdout",
     "output_type": "stream",
     "text": [
      "Part 1: 72811019847283\n"
     ]
    }
   ],
   "source": [
    "print(\"Part 1:\", dug_area(*dig_instructions(digplan, corrected_parse)))"
   ]
  }
 ],
 "metadata": {
  "kernelspec": {
   "display_name": "Python 3 (ipykernel)",
   "language": "python",
   "name": "python3"
  },
  "language_info": {
   "codemirror_mode": {
    "name": "ipython",
    "version": 3
   },
   "file_extension": ".py",
   "mimetype": "text/x-python",
   "name": "python",
   "nbconvert_exporter": "python",
   "pygments_lexer": "ipython3",
   "version": "3.12.1"
  }
 },
 "nbformat": 4,
 "nbformat_minor": 5
}
