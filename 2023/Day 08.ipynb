{
 "cells": [
  {
   "cell_type": "markdown",
   "metadata": {},
   "source": [
    "# Zig-zagging across a graph\n",
    "\n",
    "- https://adventofcode.com/2023/day/8\n",
    "\n",
    "This puzzle presents us with a graph and a zig-zagging path across the nodes. I'll just implement the graph walking algorithm for now, even though I suspect that step two will up the ante somehow (probably involving loops or a modulus of some sort).\n"
   ]
  },
  {
   "cell_type": "code",
   "execution_count": 1,
   "metadata": {},
   "outputs": [],
   "source": [
    "import typing as t\n",
    "from dataclasses import dataclass\n",
    "from itertools import cycle\n",
    "\n",
    "Step: t.TypeAlias = t.Literal[\"L\", \"R\"]\n",
    "\n",
    "\n",
    "class DesertNode(t.NamedTuple):\n",
    "    name: str\n",
    "    left: str\n",
    "    right: str\n",
    "\n",
    "\n",
    "@dataclass\n",
    "class DesertMap:\n",
    "    nodes: dict[str, DesertNode]\n",
    "\n",
    "    @classmethod\n",
    "    def from_lines(cls, lines: t.Sequence[str]) -> t.Self:\n",
    "        nodes: dict[str, DesertNode] = {}\n",
    "        for line in lines:\n",
    "            name, _, rem = line.partition(\"=\")\n",
    "            left, _, right = rem.strip(\" ()\").partition(\",\")\n",
    "            nodes[name.strip()] = DesertNode(name.strip(), left.strip(), right.strip())\n",
    "        return cls(nodes)\n",
    "\n",
    "    def traverse(self, from_: DesertNode, step: Step) -> DesertNode:\n",
    "        match step:\n",
    "            case \"L\":\n",
    "                return self.nodes[from_.left]\n",
    "            case \"R\":\n",
    "                return self.nodes[from_.right]\n",
    "\n",
    "    def from_aaa_to_zzz(self, steps: t.Iterable[Step]) -> int:\n",
    "        node = self.nodes[\"AAA\"]\n",
    "        for s, step in enumerate(cycle(steps), 1):\n",
    "            if (node := self.traverse(node, step)).name == \"ZZZ\":\n",
    "                return s\n",
    "        raise AssertionError(\"Goal not reached\")\n",
    "\n",
    "\n",
    "def parse_steps(stepline: str) -> list[Step]:\n",
    "    return [s for s in stepline if s in (\"L\", \"R\")]\n",
    "\n",
    "\n",
    "tests: dict[str, int] = {\n",
    "    \"\"\"RL\n",
    "\n",
    "AAA = (BBB, CCC)\n",
    "BBB = (DDD, EEE)\n",
    "CCC = (ZZZ, GGG)\n",
    "DDD = (DDD, DDD)\n",
    "EEE = (EEE, EEE)\n",
    "GGG = (GGG, GGG)\n",
    "ZZZ = (ZZZ, ZZZ)\n",
    "\"\"\": 2,\n",
    "    \"\"\"LLR\n",
    "\n",
    "AAA = (BBB, BBB)\n",
    "BBB = (AAA, ZZZ)\n",
    "ZZZ = (ZZZ, ZZZ)\n",
    "\"\"\": 6,\n",
    "}\n",
    "for test, expected in tests.items():\n",
    "    stepline, _, *maplines = test.splitlines()\n",
    "    steps = parse_steps(stepline)\n",
    "    assert DesertMap.from_lines(maplines).from_aaa_to_zzz(steps) == expected"
   ]
  },
  {
   "cell_type": "code",
   "execution_count": 2,
   "metadata": {},
   "outputs": [
    {
     "name": "stdout",
     "output_type": "stream",
     "text": [
      "Part 1: 21389\n"
     ]
    }
   ],
   "source": [
    "import aocd\n",
    "\n",
    "stepline, _, *maplines = aocd.get_data(day=8, year=2023).splitlines()\n",
    "steps = parse_steps(stepline)\n",
    "desert_map = DesertMap.from_lines(maplines)\n",
    "print(\"Part 1:\", desert_map.from_aaa_to_zzz(steps))"
   ]
  },
  {
   "cell_type": "markdown",
   "metadata": {},
   "source": [
    "# Follow in the steps of ghosts\n",
    "\n",
    "Indeed, step two ups the ante by making you follow N paths at the same time. And those paths loop at different intervals, meaning they reach a `Z` point regularily but at different 'distances'. Track those distances, and once you have a loop for all different paths you can calculate their [least common multiple](https://en.wikipedia.org/wiki/Least_common_multiple).\n",
    "\n",
    "(We've seen a similar puzzle before, [day 12 of 2019](../2019/Day%2012.ipynb)).\n"
   ]
  },
  {
   "cell_type": "code",
   "execution_count": 3,
   "metadata": {},
   "outputs": [],
   "source": [
    "from math import lcm\n",
    "\n",
    "\n",
    "class GhostlyDesertMap(DesertMap):\n",
    "    @property\n",
    "    def starting_points(self) -> tuple[DesertMap, ...]:\n",
    "        return tuple(node for node in self.nodes.values() if node.name[-1] == \"A\")\n",
    "\n",
    "    def from_as_to_zs(self, steps: t.Iterable[Step]) -> int:\n",
    "        nodes = self.starting_points\n",
    "        loops: list[int | None] = [None] * len(nodes)\n",
    "        for s, step in enumerate(cycle(steps), 1):\n",
    "            nodes = tuple(self.traverse(n, step) for n in nodes)\n",
    "            for i, node in enumerate(nodes):\n",
    "                if not loops[i] and node.name[-1] == \"Z\":\n",
    "                    loops[i] = s\n",
    "            if all(loops):\n",
    "                return lcm(*loops)\n",
    "\n",
    "        raise AssertionError(\"Goal never reached\")\n",
    "\n",
    "\n",
    "test = \"\"\"LR\n",
    "\n",
    "11A = (11B, XXX)\n",
    "11B = (XXX, 11Z)\n",
    "11Z = (11B, XXX)\n",
    "22A = (22B, XXX)\n",
    "22B = (22C, 22C)\n",
    "22C = (22Z, 22Z)\n",
    "22Z = (22B, 22B)\n",
    "XXX = (XXX, XXX)\n",
    "\"\"\"\n",
    "\n",
    "test_stepline, _, *test_maplines = test.splitlines()\n",
    "test_map = GhostlyDesertMap.from_lines(test_maplines)\n",
    "assert test_map.from_as_to_zs(parse_steps(test_stepline)) == 6"
   ]
  },
  {
   "cell_type": "code",
   "execution_count": 4,
   "metadata": {},
   "outputs": [
    {
     "name": "stdout",
     "output_type": "stream",
     "text": [
      "Part 2: 21083806112641\n"
     ]
    }
   ],
   "source": [
    "map = GhostlyDesertMap.from_lines(maplines)\n",
    "print(\"Part 2:\", map.from_as_to_zs(steps))"
   ]
  }
 ],
 "metadata": {
  "kernelspec": {
   "display_name": "adventofcode-bRnAxXn--py3.12",
   "language": "python",
   "name": "python3"
  },
  "language_info": {
   "codemirror_mode": {
    "name": "ipython",
    "version": 3
   },
   "file_extension": ".py",
   "mimetype": "text/x-python",
   "name": "python",
   "nbconvert_exporter": "python",
   "pygments_lexer": "ipython3",
   "version": "3.12.0"
  }
 },
 "nbformat": 4,
 "nbformat_minor": 2
}
