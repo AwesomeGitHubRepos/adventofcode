{
 "cells": [
  {
   "cell_type": "markdown",
   "id": "b90d3e61-5264-4539-a756-9e805e1cae97",
   "metadata": {},
   "source": [
    "# Cubed games\n",
    "\n",
    "- https://adventofcode.com/2023/day/2\n",
    "\n",
    "This is really just a simple parsing problem. Once you have a data structure with games and their rounds of cube counts, all you need to do is find if all the rounds in a game show cube counts that fit inside the stated limits.\n"
   ]
  },
  {
   "cell_type": "code",
   "execution_count": 1,
   "id": "3281be2b-a42f-4ca7-8e04-4e6faee36346",
   "metadata": {},
   "outputs": [],
   "source": [
    "import typing as t\n",
    "from dataclasses import dataclass\n",
    "\n",
    "\n",
    "@dataclass\n",
    "class Round:\n",
    "    red: int = 0\n",
    "    green: int = 0\n",
    "    blue: int = 0\n",
    "\n",
    "    @classmethod\n",
    "    def from_input(cls, text: str) -> t.Self:\n",
    "        parts = [pair.strip().partition(\" \") for pair in text.split(\",\")]\n",
    "        return cls(**{name.strip(): int(value) for value, _, name in parts})\n",
    "\n",
    "\n",
    "@dataclass\n",
    "class Game:\n",
    "    id: int\n",
    "    rounds: t.Sequence[Round]\n",
    "\n",
    "    @classmethod\n",
    "    def from_line(cls, line: str) -> t.Self:\n",
    "        identifier, _, remainder = line.partition(\":\")\n",
    "        number = int(identifier.partition(\" \")[-1])\n",
    "        rounds = [Round.from_input(part.strip()) for part in remainder.split(\";\")]\n",
    "        return cls(number, tuple(rounds))\n",
    "\n",
    "    def is_possible(self, red: int, green: int, blue: int) -> bool:\n",
    "        return all(\n",
    "            round.red <= red and round.green <= green and round.blue <= blue\n",
    "            for round in self.rounds\n",
    "        )\n",
    "\n",
    "\n",
    "test_lines = \"\"\"\\\n",
    "Game 1: 3 blue, 4 red; 1 red, 2 green, 6 blue; 2 green\n",
    "Game 2: 1 blue, 2 green; 3 green, 4 blue, 1 red; 1 green, 1 blue\n",
    "Game 3: 8 green, 6 blue, 20 red; 5 blue, 4 red, 13 green; 5 green, 1 red\n",
    "Game 4: 1 green, 3 red, 6 blue; 3 green, 6 red; 3 green, 15 blue, 14 red\n",
    "Game 5: 6 red, 1 blue, 3 green; 2 blue, 1 red, 2 green\n",
    "\"\"\".splitlines()\n",
    "test_games = [Game.from_line(line) for line in test_lines]\n",
    "assert [game.id for game in test_games if game.is_possible(12, 13, 14)] == [1, 2, 5]\n",
    "assert sum(game.id for game in test_games if game.is_possible(12, 13, 14)) == 8"
   ]
  },
  {
   "cell_type": "code",
   "execution_count": 2,
   "id": "be2eb680-6d69-42cd-b7b3-da7b4573e758",
   "metadata": {},
   "outputs": [
    {
     "name": "stdout",
     "output_type": "stream",
     "text": [
      "Part 1: 2879\n"
     ]
    }
   ],
   "source": [
    "import aocd\n",
    "\n",
    "games = [Game.from_line(line) for line in aocd.get_data(day=2, year=2023).splitlines()]\n",
    "\n",
    "print(\"Part 1:\", sum(game.id for game in games if game.is_possible(12, 13, 14)))"
   ]
  },
  {
   "cell_type": "markdown",
   "metadata": {},
   "source": [
    "# Powering up\n",
    "\n",
    "Now you count the maximum number of any of the types of cubes seen in each round.\n"
   ]
  },
  {
   "cell_type": "code",
   "execution_count": 3,
   "metadata": {},
   "outputs": [],
   "source": [
    "class PoweredGame(Game):\n",
    "    @property\n",
    "    def power(self) -> int:\n",
    "        red = green = blue = 0\n",
    "        for round in self.rounds:\n",
    "            red = max(red, round.red)\n",
    "            green = max(green, round.green)\n",
    "            blue = max(blue, round.blue)\n",
    "        return red * green * blue\n",
    "\n",
    "\n",
    "test_games = [PoweredGame.from_line(line) for line in test_lines]\n",
    "assert [game.power for game in test_games] == [48, 12, 1560, 630, 36]\n",
    "assert sum(game.power for game in test_games) == 2286"
   ]
  },
  {
   "cell_type": "code",
   "execution_count": 4,
   "metadata": {},
   "outputs": [
    {
     "name": "stdout",
     "output_type": "stream",
     "text": [
      "Part 2: 65122\n"
     ]
    }
   ],
   "source": [
    "games = [\n",
    "    PoweredGame.from_line(line) for line in aocd.get_data(day=2, year=2023).splitlines()\n",
    "]\n",
    "\n",
    "print(\"Part 2:\", sum(game.power for game in games))"
   ]
  }
 ],
 "metadata": {
  "kernelspec": {
   "display_name": "Python 3 (ipykernel)",
   "language": "python",
   "name": "python3"
  },
  "language_info": {
   "codemirror_mode": {
    "name": "ipython",
    "version": 3
   },
   "file_extension": ".py",
   "mimetype": "text/x-python",
   "name": "python",
   "nbconvert_exporter": "python",
   "pygments_lexer": "ipython3",
   "version": "3.12.0"
  }
 },
 "nbformat": 4,
 "nbformat_minor": 5
}
