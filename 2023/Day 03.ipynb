{
 "cells": [
  {
   "cell_type": "markdown",
   "id": "cff1d8a5-8d0f-4257-bebd-957d612146de",
   "metadata": {},
   "source": [
    "# These numbers are relative\n",
    "\n",
    "- https://adventofcode.com/2023/day/3\n",
    "\n",
    "For this challenge, all you need to do is store the positions of the numbers and the positions of the symbols separately. Then, to find the part numbers, calculate the positions that surround the numbers and check if any of those represent a symbol.\n",
    "\n",
    "I used complex numbers to represent the coordinates here, using the real and imaginary parts as _x_ and _y_ coordinates. Because summing two complex numbers is essentially _two_ sums, one for the real and one for the imaginary parts of the numbers, complex numbers make it super easy to apply offsets to the coordinates: just add the complex number with the right _x_ and _y_ offsets encoded as the real and imaginary parts.\n",
    "\n",
    "A small `_offsets()` function generates the offsets for the coordinates that surround a number, given its length. When parsing the map, we store the original number coordinate (the location of its first digit) plus its length, so we can later on use this information to calculate all the surrounding positions. Simply check if any of those surrounding positions is a symbol.\n"
   ]
  },
  {
   "cell_type": "code",
   "execution_count": 1,
   "id": "49978c6f-48c3-47d6-95f1-e41f00bb6be4",
   "metadata": {},
   "outputs": [],
   "source": [
    "import re\n",
    "import typing as t\n",
    "from itertools import chain\n",
    "\n",
    "_schematic_components = re.compile(r\"(\\d+)|([^.\\d])\")\n",
    "\n",
    "\n",
    "def _offsets(length: int) -> t.Iterator[complex]:\n",
    "    dxs = range(-1, length + 1)\n",
    "    yield from chain(  # above, before and after, below\n",
    "        (dx + -1j for dx in dxs), (-1 + 0j, dxs[-1] + 0j), (dx + 1j for dx in dxs)\n",
    "    )\n",
    "\n",
    "\n",
    "class EngineSchematic:\n",
    "    def __init__(self, map: str) -> None:\n",
    "        symbols: dict[complex, str] = {}\n",
    "        numbers: list[tuple[complex, int, int]] = []\n",
    "        for y, line in enumerate(map.splitlines()):\n",
    "            for match in _schematic_components.finditer(line):\n",
    "                pos = match.start() + y * 1j\n",
    "                number, symbol = match.groups()\n",
    "                if number is not None:\n",
    "                    numbers.append((pos, len(number), int(number)))\n",
    "                else:\n",
    "                    symbols[pos] = symbol\n",
    "        self.symbols = symbols\n",
    "        self.numbers = tuple(numbers)\n",
    "\n",
    "    @property\n",
    "    def part_numbers(self) -> t.Iterator[int]:\n",
    "        symbols = self.symbols\n",
    "        for pos, length, number in self.numbers:\n",
    "            if any(pos + dxy in symbols for dxy in _offsets(length)):\n",
    "                yield number\n",
    "\n",
    "\n",
    "test_map = \"\"\"\\\n",
    "467..114..\n",
    "...*......\n",
    "..35..633.\n",
    "......#...\n",
    "617*......\n",
    ".....+.58.\n",
    "..592.....\n",
    "......755.\n",
    "...$.*....\n",
    ".664.598..\n",
    "\"\"\"\n",
    "test_schematic = EngineSchematic(test_map)\n",
    "assert 114 not in test_schematic.part_numbers\n",
    "assert 58 not in test_schematic.part_numbers\n",
    "assert sum(test_schematic.part_numbers) == 4361"
   ]
  },
  {
   "cell_type": "code",
   "execution_count": 2,
   "id": "f604d4f6-b074-41ff-a9df-eebe039e4c31",
   "metadata": {},
   "outputs": [
    {
     "name": "stdout",
     "output_type": "stream",
     "text": [
      "Part 1: 507214\n"
     ]
    }
   ],
   "source": [
    "import aocd\n",
    "\n",
    "engine_map = EngineSchematic(aocd.get_data(day=3, year=2023))\n",
    "print(\"Part 1:\", sum(engine_map.part_numbers))"
   ]
  },
  {
   "cell_type": "markdown",
   "id": "bddd2173-52b5-4204-b78b-e0c18bc274a9",
   "metadata": {},
   "source": [
    "# Get into gear\n",
    "\n",
    "This is essentially the same excersise as before, but now we only continue with numbers that are next to a `*` gear symbol, and we need to check _all_ the positions, not just 'any' surrounding position for a number. That's because a given number might be adjacent to multiple gears!\n",
    "\n",
    "The trick is to keep a dictionary of gear positions mapping to the numbers that are adjacent. Then, after processing all the numbers, only produce gear ratios for gears with exactly two numbers next to them.\n"
   ]
  },
  {
   "cell_type": "code",
   "execution_count": 3,
   "id": "3365d4d5-dd79-4500-add1-c100e4e6067f",
   "metadata": {},
   "outputs": [],
   "source": [
    "from collections import defaultdict\n",
    "from operator import mul\n",
    "\n",
    "\n",
    "class GearEngineSchematic(EngineSchematic):\n",
    "    @property\n",
    "    def gear_ratios(self) -> t.Iterator[int]:\n",
    "        symbols = self.symbols\n",
    "        gear_nums: dict[complex, list[int]] = defaultdict(list)\n",
    "        for pos, length, number in self.numbers:\n",
    "            for dxy in _offsets(length):\n",
    "                spos = pos + dxy\n",
    "                if symbols.get(spos) == \"*\":\n",
    "                    gear_nums[spos].append(number)\n",
    "        for nums in gear_nums.values():\n",
    "            if len(nums) == 2:\n",
    "                yield mul(*nums)\n",
    "\n",
    "\n",
    "test_gear_schematic = GearEngineSchematic(test_map)\n",
    "assert list(test_gear_schematic.gear_ratios) == [16345, 451490]"
   ]
  },
  {
   "cell_type": "code",
   "execution_count": 4,
   "id": "8eccf68c-9000-4dd5-8d0d-9367a9f2ca12",
   "metadata": {},
   "outputs": [
    {
     "name": "stdout",
     "output_type": "stream",
     "text": [
      "Part 2: 72553319\n"
     ]
    }
   ],
   "source": [
    "engine_map = gear_schematic = GearEngineSchematic(aocd.get_data(day=3, year=2023))\n",
    "print(\"Part 2:\", sum(engine_map.gear_ratios))"
   ]
  }
 ],
 "metadata": {
  "kernelspec": {
   "display_name": "Python 3 (ipykernel)",
   "language": "python",
   "name": "python3"
  },
  "language_info": {
   "codemirror_mode": {
    "name": "ipython",
    "version": 3
   },
   "file_extension": ".py",
   "mimetype": "text/x-python",
   "name": "python",
   "nbconvert_exporter": "python",
   "pygments_lexer": "ipython3",
   "version": "3.12.0"
  }
 },
 "nbformat": 4,
 "nbformat_minor": 5
}
