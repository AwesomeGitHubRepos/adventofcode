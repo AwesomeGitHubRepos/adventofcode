{
 "cells": [
  {
   "cell_type": "markdown",
   "metadata": {},
   "source": [
    "# Let's set light to the place!\n",
    "\n",
    "- https://adventofcode.com/2023/day/16\n",
    "\n",
    "This is, at a first glance, a typical \"follow the maze\" problem. Some notes on the specifics:\n",
    "\n",
    "- Because beams can be split into two, we'll need a queue to which we can add additional beams to process.\n",
    "- It's likely beams go round in circles, so we need to stop processing beams that end up at a position that they already visited.\n",
    "- We need to make sure to not only mark what locations we have already lit up, but also what direction of beam was flowing when we got there.\n",
    "\n",
    "I'm using complex numbers again to make position tracking easy. I've implemented the contraption tile placement as a dictionary of (complex) positions to tily types, so we can simply test for dictionary containment to see if a position is legal, this saves on boundary checks. To track what positions have been lit up, I'm keeping a set of position and beam pairs; the final answer is the unique positions from this set.\n"
   ]
  },
  {
   "cell_type": "code",
   "execution_count": 1,
   "metadata": {},
   "outputs": [],
   "source": [
    "from __future__ import annotations\n",
    "\n",
    "import typing as t\n",
    "from collections import deque\n",
    "from dataclasses import dataclass, field\n",
    "from enum import IntEnum, StrEnum\n",
    "\n",
    "type Pos = complex\n",
    "\n",
    "\n",
    "class Beam(IntEnum):\n",
    "    # value, delta\n",
    "    up = 0, -1j\n",
    "    right = 1, 1\n",
    "    down = 2, 1j\n",
    "    left = 3, -1\n",
    "\n",
    "    if t.TYPE_CHECKING:\n",
    "        delta: Pos\n",
    "    else:\n",
    "        # keep the new method hidden from the type checker so they only\n",
    "        # retain the standard Enum() call interface.\n",
    "        def __new__(cls, value: int, delta: Pos) -> \"Beam\":\n",
    "            inst = int.__new__(cls, value)\n",
    "            inst._value_ = value\n",
    "            inst.delta = delta\n",
    "            return inst\n",
    "\n",
    "\n",
    "type Effect = tuple[()] | tuple[Beam] | tuple[Beam, Beam]\n",
    "_hor: Effect = (Beam.left, Beam.right)\n",
    "_ver: Effect = (Beam.up, Beam.down)\n",
    "\n",
    "\n",
    "class LightTile(StrEnum):\n",
    "    # value, up, right, down, left\n",
    "    empty = \".\", (Beam.up, Beam.right, Beam.down, Beam.left)\n",
    "    mirror_bltr = \"/\", (Beam.right, Beam.up, Beam.left, Beam.down)\n",
    "    mirror_brtl = \"\\\\\", (Beam.left, Beam.down, Beam.right, Beam.up)\n",
    "    splitter_hor = \"-\", (_hor, Beam.right, _hor, Beam.left)\n",
    "    splitter_ver = \"|\", (Beam.up, _ver, Beam.down, _ver)\n",
    "\n",
    "    if t.TYPE_CHECKING:\n",
    "        # indices correspond with the beam int values 0 - 3\n",
    "        effects: tuple[Effect, Effect, Effect, Effect]\n",
    "    else:\n",
    "        # keep the new method hidden from the type checker so they only\n",
    "        # retain the standard Enum() call interface.\n",
    "        def __new__(\n",
    "            cls,\n",
    "            value: str,\n",
    "            effects: tuple[Beam | Effect, Beam | Effect, Beam | Effect, Beam | Effect],\n",
    "        ) -> \"LightTile\":\n",
    "            inst = str.__new__(cls, value)\n",
    "            inst._value_ = value\n",
    "            inst.effects = tuple(e if isinstance(e, tuple) else (e,) for e in effects)\n",
    "            return inst\n",
    "\n",
    "\n",
    "@dataclass\n",
    "class Contraption:\n",
    "    layout: dict[Pos, LightTile]\n",
    "    width: int\n",
    "    height: int\n",
    "\n",
    "    @classmethod\n",
    "    def from_text(cls, text: str) -> t.Self:\n",
    "        lines = text.splitlines()\n",
    "        layout = {\n",
    "            complex(x, y): LightTile(c)\n",
    "            for y, line in enumerate(lines)\n",
    "            for x, c in enumerate(line)\n",
    "        }\n",
    "        return cls(layout, len(lines[0]), len(lines))\n",
    "\n",
    "    # all lit positions from a given splitter\n",
    "    _cache: dict[Pos, set[tuple[Pos, Beam]]] = field(default_factory=dict, repr=False)\n",
    "\n",
    "    def energized_tiles(self, start: Pos = -1, beam: Beam = Beam.right) -> int:\n",
    "        layout, cache = self.layout, self._cache\n",
    "        lit: set[tuple[Pos, Beam]] = set()\n",
    "        todo: deque[tuple[Pos, Beam]] = deque([(start, beam)])\n",
    "        # uncached split we have passed so far, to update cache for\n",
    "        splits: list[Pos] = []\n",
    "        while todo:\n",
    "            pos, beam = todo.popleft()\n",
    "            pos += beam.delta\n",
    "            if (pos, beam) in lit or (tile := layout.get(pos)) is None:\n",
    "                continue\n",
    "            lit.add((pos, beam))\n",
    "            for spos in splits:\n",
    "                cache.setdefault(spos, set()).add((pos, beam))\n",
    "            if len(tile.effects[beam]) == 2:\n",
    "                # beam is being split; see if there is a cached result from this\n",
    "                # point forward. If so, we are done with this beam, otherwise\n",
    "                # add this split to the list of splits to maintain the cache\n",
    "                # for.\n",
    "                if (cached := cache.get(pos)) is not None:\n",
    "                    lit.update(cached)\n",
    "                    for spos in splits:\n",
    "                        cache[spos].update(cached)\n",
    "                    continue\n",
    "                splits.append(pos)\n",
    "            for direction in tile.effects[beam]:\n",
    "                todo.append((pos, direction))\n",
    "        return len({pos for pos, _ in lit})\n",
    "\n",
    "\n",
    "test_layout = r\"\"\"\n",
    ".|...\\....\n",
    "|.-.\\.....\n",
    ".....|-...\n",
    "........|.\n",
    "..........\n",
    ".........\\\n",
    "..../.\\\\..\n",
    ".-.-/..|..\n",
    ".|....-|.\\\n",
    "..//.|....\n",
    "\"\"\".lstrip()\n",
    "test_conraption = Contraption.from_text(test_layout)\n",
    "\n",
    "assert test_conraption.energized_tiles() == 46"
   ]
  },
  {
   "cell_type": "code",
   "execution_count": 2,
   "metadata": {},
   "outputs": [
    {
     "name": "stdout",
     "output_type": "stream",
     "text": [
      "Part 1: 7392\n"
     ]
    }
   ],
   "source": [
    "import aocd\n",
    "\n",
    "layout = aocd.get_data(day=16, year=2023)\n",
    "contraption = Contraption.from_text(layout)\n",
    "print(\"Part 1:\", contraption.energized_tiles())"
   ]
  },
  {
   "cell_type": "markdown",
   "metadata": {},
   "source": [
    "## Part 2, it's getting awfully bright in here!\n",
    "\n",
    "For part 2, I refactored part 1 to cache partial beam paths; otherwise visiting every possible starting point would do a lot of redudant work and solving this part would take too long.\n",
    "\n",
    "The cache stores the full set of visited positions _per splitter_; when a beam reaches a splitter that splits that beam, we can immediately update the `lit` set with the additional positions resulting from that split. Thanks to this cache, part 2 completes in less than half a second.\n"
   ]
  },
  {
   "cell_type": "code",
   "execution_count": 3,
   "metadata": {},
   "outputs": [],
   "source": [
    "def maximize_configuration(contraption: Contraption) -> int:\n",
    "    width, height = contraption.width, contraption.height\n",
    "    best = 0\n",
    "    # from the left and the right edges\n",
    "    for y in range(height):\n",
    "        for x, beam in ((-1, Beam.right), (width, Beam.left)):\n",
    "            best = max(best, contraption.energized_tiles(complex(x, y), beam))\n",
    "    # from the top and bottom edges\n",
    "    for x in range(width):\n",
    "        for y, beam in ((-1, Beam.down), (height, Beam.up)):\n",
    "            best = max(best, contraption.energized_tiles(complex(x, y), beam))\n",
    "    return best\n",
    "\n",
    "\n",
    "assert maximize_configuration(test_conraption) == 51"
   ]
  },
  {
   "cell_type": "code",
   "execution_count": 4,
   "metadata": {},
   "outputs": [
    {
     "name": "stdout",
     "output_type": "stream",
     "text": [
      "Part 2: 7665\n"
     ]
    }
   ],
   "source": [
    "print(\"Part 2:\", maximize_configuration(contraption))"
   ]
  }
 ],
 "metadata": {
  "kernelspec": {
   "display_name": "Python 3 (ipykernel)",
   "language": "python",
   "name": "python3"
  },
  "language_info": {
   "codemirror_mode": {
    "name": "ipython",
    "version": 3
   },
   "file_extension": ".py",
   "mimetype": "text/x-python",
   "name": "python",
   "nbconvert_exporter": "python",
   "pygments_lexer": "ipython3",
   "version": "3.12.0"
  }
 },
 "nbformat": 4,
 "nbformat_minor": 4
}
