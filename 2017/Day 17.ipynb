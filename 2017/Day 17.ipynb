{
 "cells": [
  {
   "cell_type": "code",
   "execution_count": 82,
   "metadata": {},
   "outputs": [],
   "source": [
    "from collections import deque\n",
    "\n",
    "\n",
    "def spinlock(step):\n",
    "    buffer = deque([0])\n",
    "    for i in range(1, 2018):\n",
    "        buffer.rotate(-step)\n",
    "        buffer.append(i)\n",
    "    return buffer\n",
    "\n",
    "\n",
    "def spinlock_after_zero(step, count=5000000):\n",
    "    zero_pos = 0\n",
    "    for i in range(1, count + 1):\n",
    "        zero_pos = (zero_pos - step) % i\n",
    "        if zero_pos == i - 1:\n",
    "            last_after_zero = i\n",
    "    return last_after_zero"
   ]
  },
  {
   "cell_type": "code",
   "execution_count": 69,
   "metadata": {},
   "outputs": [],
   "source": [
    "test() = spinlock(3)\n",
    "assert list(test)[-4:] + list(test)[:3] == [1512, 1134, 151, 2017, 638, 1513, 851]"
   ]
  },
  {
   "cell_type": "code",
   "execution_count": 74,
   "metadata": {},
   "outputs": [
    {
     "name": "stdout",
     "output_type": "stream",
     "text": [
      "Part 1: 926\n"
     ]
    }
   ],
   "source": [
    "buffer = spinlock(394)\n",
    "print('Part 1:', buffer[0])"
   ]
  },
  {
   "cell_type": "code",
   "execution_count": 79,
   "metadata": {},
   "outputs": [
    {
     "name": "stdout",
     "output_type": "stream",
     "text": [
      "Part 2: 394\n"
     ]
    }
   ],
   "source": [
    "last_after_zero = spinlock_after_zero(394)\n",
    "print('Part 2:', last_after_zero)"
   ]
  },
  {
   "cell_type": "code",
   "execution_count": 87,
   "metadata": {},
   "outputs": [
    {
     "data": {
      "text/plain": [
       "9"
      ]
     },
     "execution_count": 87,
     "metadata": {},
     "output_type": "execute_result"
    }
   ],
   "source": [
    "spinlock_after_zero(3, 9)"
   ]
  },
  {
   "cell_type": "code",
   "execution_count": null,
   "metadata": {},
   "outputs": [],
   "source": []
  }
 ],
 "metadata": {
  "kernelspec": {
   "display_name": "Python 3",
   "language": "python",
   "name": "python3"
  },
  "language_info": {
   "codemirror_mode": {
    "name": "ipython",
    "version": 3
   },
   "file_extension": ".py",
   "mimetype": "text/x-python",
   "name": "python",
   "nbconvert_exporter": "python",
   "pygments_lexer": "ipython3",
   "version": "3.6.3"
  }
 },
 "nbformat": 4,
 "nbformat_minor": 2
}
