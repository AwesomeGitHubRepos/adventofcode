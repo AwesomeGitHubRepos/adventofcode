{
 "cells": [
  {
   "cell_type": "code",
   "execution_count": 7,
   "metadata": {},
   "outputs": [],
   "source": [
    "with open('inputs/day4.txt') as day4:\n",
    "    phrases = list(map(str.strip, day4))"
   ]
  },
  {
   "cell_type": "code",
   "execution_count": 10,
   "metadata": {},
   "outputs": [
    {
     "name": "stdout",
     "output_type": "stream",
     "text": [
      "Part 1: 383\n"
     ]
    }
   ],
   "source": [
    "def is_valid(phrase):\n",
    "    words = phrase.split()\n",
    "    return len(words) == len(set(words))\n",
    "\n",
    "tests = {\n",
    "    'aa bb cc dd ee': True,\n",
    "    'aa bb cc dd aa': False,\n",
    "    'aa bb cc dd aaa': True,\n",
    "}\n",
    "for phrase, expected in tests.items():\n",
    "    assert is_valid(phrase) == expected\n",
    "\n",
    "print('Part 1:', sum(map(is_valid, phrases)))"
   ]
  },
  {
   "cell_type": "code",
   "execution_count": 11,
   "metadata": {},
   "outputs": [
    {
     "name": "stdout",
     "output_type": "stream",
     "text": [
      "Part 1: 265\n"
     ]
    }
   ],
   "source": [
    "def is_valid_no_anagram(phrase):\n",
    "    words = phrase.split()\n",
    "    sorted_set = {''.join(sorted(w)) for w in words}\n",
    "    return len(words) == len(sorted_set)\n",
    "\n",
    "tests = {\n",
    "    'abcde fghij': True,\n",
    "    'abcde xyz ecdab': False,\n",
    "    'a ab abc abd abf abj': True,\n",
    "    'iiii oiii ooii oooi oooo': True,\n",
    "    'oiii ioii iioi iiio': False,\n",
    "}\n",
    "\n",
    "for phrase, expected in tests.items():\n",
    "    assert is_valid_no_anagram(phrase) == expected\n",
    "\n",
    "print('Part 1:', sum(map(is_valid_no_anagram, phrases)))"
   ]
  }
 ],
 "metadata": {
  "kernelspec": {
   "display_name": "Python 3",
   "language": "python",
   "name": "python3"
  },
  "language_info": {
   "codemirror_mode": {
    "name": "ipython",
    "version": 3
   },
   "file_extension": ".py",
   "mimetype": "text/x-python",
   "name": "python",
   "nbconvert_exporter": "python",
   "pygments_lexer": "ipython3",
   "version": "3.6.3"
  }
 },
 "nbformat": 4,
 "nbformat_minor": 2
}
