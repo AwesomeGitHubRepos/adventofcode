{
 "cells": [
  {
   "cell_type": "code",
   "execution_count": 1,
   "metadata": {},
   "outputs": [],
   "source": [
    "from itertools import islice\n",
    "\n",
    "\n",
    "factor_a, factor_b = 16807, 48271\n",
    "\n",
    "\n",
    "def generator(start, factor, mod=1):\n",
    "    value = start\n",
    "    while True:\n",
    "        value *= factor\n",
    "        value %= 2147483647\n",
    "        if value % mod == 0:\n",
    "            yield value\n",
    "\n",
    "\n",
    "def count_matches(gen_a, gen_b, limit=4 * 10 ** 7):\n",
    "    return sum(1 for a, b in islice(zip(gen_a, gen_b), limit) if a & 0xffff == b & 0xffff)"
   ]
  },
  {
   "cell_type": "code",
   "execution_count": 2,
   "metadata": {},
   "outputs": [],
   "source": [
    "test_gen_a, test_gen_b = generator(65, factor_a), generator(8921, factor_b)\n",
    "tests = [\n",
    "    (   1092455,  430625591),\n",
    "    (1181022009, 1233683848),\n",
    "    ( 245556042, 1431495498),\n",
    "    (1744312007,  137874439),\n",
    "    (1352636452,  285222916),\n",
    "]\n",
    "for expected_a, expected_b in tests:\n",
    "    assert (next(test_gen_a), next(test_gen_b)) == (expected_a, expected_b)\n",
    "                                                    \n",
    "tests = [\n",
    "    (1352636452, 1233683848),\n",
    "    (1992081072,  862516352),\n",
    "    ( 530830436, 1159784568),\n",
    "    (1980017072, 1616057672),\n",
    "    ( 740335192,  412269392),\n",
    "]\n",
    "test_gen_a, test_gen_b = generator(65, factor_a, 4), generator(8921, factor_b, 8)\n",
    "for expected_a, expected_b in tests:\n",
    "    assert (next(test_gen_a), next(test_gen_b)) == (expected_a, expected_b)"
   ]
  },
  {
   "cell_type": "code",
   "execution_count": 3,
   "metadata": {},
   "outputs": [],
   "source": [
    "test_gen_a, test_gen_b = generator(65, factor_a), generator(8921, factor_b)\n",
    "assert count_matches(test_gen_a, test_gen_b) == 588"
   ]
  },
  {
   "cell_type": "code",
   "execution_count": 4,
   "metadata": {},
   "outputs": [],
   "source": [
    "test_gen_a, test_gen_b = generator(65, factor_a, 4), generator(8921, factor_b, 8)\n",
    "assert count_matches(test_gen_a, test_gen_b, 5 * 10 ** 6) == 309"
   ]
  },
  {
   "cell_type": "code",
   "execution_count": 5,
   "metadata": {},
   "outputs": [],
   "source": [
    "import aocd\n",
    "\n",
    "data = aocd.get_data(day=15, year=2017)\n",
    "start_a, start_b = (int(l.rpartition(' ')[-1]) for l in data.splitlines())"
   ]
  },
  {
   "cell_type": "code",
   "execution_count": 6,
   "metadata": {},
   "outputs": [
    {
     "name": "stdout",
     "output_type": "stream",
     "text": [
      "Part 1: 573\n"
     ]
    }
   ],
   "source": [
    "print('Part 1:', count_matches(\n",
    "    generator(start_a, factor_a),\n",
    "    generator(start_b, factor_b)))"
   ]
  },
  {
   "cell_type": "code",
   "execution_count": 7,
   "metadata": {},
   "outputs": [
    {
     "name": "stdout",
     "output_type": "stream",
     "text": [
      "Part 2: 294\n"
     ]
    }
   ],
   "source": [
    "print('Part 2:', count_matches(\n",
    "    generator(start_a, factor_a, 4),\n",
    "    generator(start_b, factor_b, 8),\n",
    "    5 * 10 ** 6))"
   ]
  }
 ],
 "metadata": {
  "kernelspec": {
   "display_name": "Python 3",
   "language": "python",
   "name": "python3"
  },
  "language_info": {
   "codemirror_mode": {
    "name": "ipython",
    "version": 3
   },
   "file_extension": ".py",
   "mimetype": "text/x-python",
   "name": "python",
   "nbconvert_exporter": "python",
   "pygments_lexer": "ipython3",
   "version": "3.7.1"
  }
 },
 "nbformat": 4,
 "nbformat_minor": 2
}
