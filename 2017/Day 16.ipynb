{
 "cells": [
  {
   "cell_type": "code",
   "execution_count": 1,
   "metadata": {},
   "outputs": [],
   "source": [
    "def spin(line, x):\n",
    "    line[:] = line[-x:] + line[:-x]\n",
    "\n",
    "\n",
    "def exchange(line, a, b):\n",
    "    line[a], line[b] = line[b], line[a]\n",
    "\n",
    "\n",
    "def partner(line, a, b):\n",
    "    exchange(line, line.index(a), line.index(b))\n",
    "\n",
    "\n",
    "dancemoves = {\n",
    "    \"s\": spin,\n",
    "    \"x\": exchange,\n",
    "    \"p\": partner,\n",
    "}\n",
    "\n",
    "\n",
    "def dance(moves, dancers=\"abcdefghijklmnop\", repeats=1):\n",
    "    line = list(dancers)\n",
    "\n",
    "    seen = []\n",
    "    for i in range(repeats):\n",
    "        for move in moves:\n",
    "            move, instr = move[0], move[1:].split(\"/\")\n",
    "            if move != \"p\":\n",
    "                instr = map(int, instr)\n",
    "            dancemoves[move](line, *instr)\n",
    "        key = \"\".join(line)\n",
    "        if key in seen:\n",
    "            return seen[(repeats - 1) % len(seen)]\n",
    "        seen.append(key)\n",
    "\n",
    "    return key"
   ]
  },
  {
   "cell_type": "code",
   "execution_count": 2,
   "metadata": {},
   "outputs": [],
   "source": [
    "assert dance([\"s1\", \"x3/4\", \"pe/b\"], \"abcde\") == \"baedc\""
   ]
  },
  {
   "cell_type": "code",
   "execution_count": 3,
   "metadata": {},
   "outputs": [],
   "source": [
    "import aocd\n",
    "\n",
    "data = aocd.get_data(day=16, year=2017)\n",
    "moves = data.split(\",\")"
   ]
  },
  {
   "cell_type": "code",
   "execution_count": 4,
   "metadata": {},
   "outputs": [
    {
     "name": "stdout",
     "output_type": "stream",
     "text": [
      "Part 1: ceijbfoamgkdnlph\n"
     ]
    }
   ],
   "source": [
    "print(\"Part 1:\", dance(moves))"
   ]
  },
  {
   "cell_type": "code",
   "execution_count": 5,
   "metadata": {},
   "outputs": [
    {
     "name": "stdout",
     "output_type": "stream",
     "text": [
      "Part 2: pnhajoekigcbflmd\n"
     ]
    }
   ],
   "source": [
    "print(\"Part 2:\", dance(moves, repeats=10**9))"
   ]
  }
 ],
 "metadata": {
  "kernelspec": {
   "display_name": "Python 3",
   "language": "python",
   "name": "python3"
  },
  "language_info": {
   "codemirror_mode": {
    "name": "ipython",
    "version": 3
   },
   "file_extension": ".py",
   "mimetype": "text/x-python",
   "name": "python",
   "nbconvert_exporter": "python",
   "pygments_lexer": "ipython3",
   "version": "3.12.0"
  }
 },
 "nbformat": 4,
 "nbformat_minor": 2
}
