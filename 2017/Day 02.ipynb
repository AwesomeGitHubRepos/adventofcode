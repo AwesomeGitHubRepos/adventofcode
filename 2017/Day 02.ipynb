{
 "cells": [
  {
   "cell_type": "code",
   "execution_count": 1,
   "metadata": {},
   "outputs": [],
   "source": [
    "import aocd\n",
    "\n",
    "data = aocd.get_data(day=2, year=2017)\n",
    "inputvalue = [[int(c) for c in line.split()] for line in data.splitlines()]"
   ]
  },
  {
   "cell_type": "code",
   "execution_count": 2,
   "metadata": {},
   "outputs": [
    {
     "name": "stdout",
     "output_type": "stream",
     "text": [
      "Part 1: 53460\n"
     ]
    }
   ],
   "source": [
    "def checksum(sheet):\n",
    "    return sum(max(row) - min(row) for row in sheet)\n",
    "\n",
    "assert checksum([[5, 1, 9, 5],\n",
    "                 [7, 5, 3],\n",
    "                 [2, 4, 6, 8]]) == 18\n",
    "print('Part 1:', checksum(inputvalue))"
   ]
  },
  {
   "cell_type": "code",
   "execution_count": 3,
   "metadata": {},
   "outputs": [
    {
     "data": {
      "text/plain": [
       "282"
      ]
     },
     "execution_count": 3,
     "metadata": {},
     "output_type": "execute_result"
    }
   ],
   "source": [
    "from itertools import combinations\n",
    "sum(int(div) for row in inputvalue for div in (max(a, b) / min(a, b) for a, b in combinations(row, 2)) if div.is_integer())"
   ]
  }
 ],
 "metadata": {
  "kernelspec": {
   "display_name": "Python 3",
   "language": "python",
   "name": "python3"
  },
  "language_info": {
   "codemirror_mode": {
    "name": "ipython",
    "version": 3
   },
   "file_extension": ".py",
   "mimetype": "text/x-python",
   "name": "python",
   "nbconvert_exporter": "python",
   "pygments_lexer": "ipython3",
   "version": "3.7.1"
  }
 },
 "nbformat": 4,
 "nbformat_minor": 2
}
