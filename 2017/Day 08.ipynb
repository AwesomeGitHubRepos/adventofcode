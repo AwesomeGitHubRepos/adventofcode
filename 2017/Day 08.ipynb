{
 "cells": [
  {
   "cell_type": "code",
   "execution_count": 3,
   "metadata": {},
   "outputs": [],
   "source": [
    "import operator\n",
    "from collections import defaultdict\n",
    "from typing import Callable\n",
    "\n",
    "from dataclasses import dataclass, field\n",
    "\n",
    "\n",
    "operators = {\n",
    "    'inc': operator.add,\n",
    "    'dec': operator.sub,\n",
    "}\n",
    "\n",
    "comparisons = {\n",
    "    '<': operator.lt,\n",
    "    '<=': operator.le,\n",
    "    '==': operator.eq,\n",
    "    '!=': operator.ne,\n",
    "    '>=': operator.ge,\n",
    "    '>': operator.gt,\n",
    "}\n",
    "\n",
    "\n",
    "def parse_op(op):\n",
    "    reg, op, value = op.split()\n",
    "    value = int(value)\n",
    "    op = operators[op]\n",
    "    return lambda registers: operator.setitem(\n",
    "        registers, reg, op(registers[reg], value)) or registers[reg]\n",
    "\n",
    "\n",
    "def parse_cond(cond):\n",
    "    reg, cond, target = cond.split()\n",
    "    target = int(target)\n",
    "    cond = comparisons[cond]\n",
    "    return lambda registers: cond(registers[reg], target)\n",
    "\n",
    "\n",
    "@dataclass\n",
    "class Instruction(object):\n",
    "    line: str\n",
    "    operation: Callable[[dict], int]\n",
    "    condition: Callable[[dict], bool]\n",
    "    \n",
    "    @classmethod\n",
    "    def from_line(cls, line):\n",
    "        line = line.strip()\n",
    "        instr, cond = line.split('if')\n",
    "        return cls(line, parse_op(instr.strip()), parse_cond(cond.strip()))\n",
    "    \n",
    "    def execute(self, registers):\n",
    "        if self.condition(registers):\n",
    "            return self.operation(registers)\n",
    "        return 0\n",
    "\n",
    "\n",
    "def read_program(lines):\n",
    "    return [Instruction.from_line(l) for l in lines if l.strip()]\n",
    "\n",
    "\n",
    "def largest_register_value(program):\n",
    "    registers = defaultdict(int)\n",
    "    return (\n",
    "        max(instr.execute(registers) for instr in program),\n",
    "        max(registers.values())\n",
    "    )\n",
    "\n",
    "test_program = read_program('''\\\n",
    "b inc 5 if a > 1\n",
    "a inc 1 if b < 5\n",
    "c dec -10 if a >= 1\n",
    "c inc -20 if c == 10\n",
    "'''.splitlines())\n",
    "\n",
    "assert largest_register_value(test_program) == (10, 1)"
   ]
  },
  {
   "cell_type": "code",
   "execution_count": 4,
   "metadata": {},
   "outputs": [],
   "source": [
    "with open('inputs/day8.txt') as day8:\n",
    "    program = read_program(day8)"
   ]
  },
  {
   "cell_type": "code",
   "execution_count": 5,
   "metadata": {},
   "outputs": [
    {
     "name": "stdout",
     "output_type": "stream",
     "text": [
      "Part 1: 5946\n",
      "Part 2: 6026\n"
     ]
    }
   ],
   "source": [
    "high_water_line, final_max = largest_register_value(program)\n",
    "print('Part 1:', final_max)\n",
    "print('Part 2:', high_water_line)"
   ]
  }
 ],
 "metadata": {
  "kernelspec": {
   "display_name": "Python 3",
   "language": "python",
   "name": "python3"
  },
  "language_info": {
   "codemirror_mode": {
    "name": "ipython",
    "version": 3
   },
   "file_extension": ".py",
   "mimetype": "text/x-python",
   "name": "python",
   "nbconvert_exporter": "python",
   "pygments_lexer": "ipython3",
   "version": "3.6.3"
  }
 },
 "nbformat": 4,
 "nbformat_minor": 2
}
