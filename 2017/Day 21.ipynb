{
 "cells": [
  {
   "cell_type": "code",
   "execution_count": 5,
   "metadata": {},
   "outputs": [],
   "source": [
    "from PIL import Image\n",
    "from collections.abc import Mapping\n",
    "from itertools import product\n",
    "\n",
    "\n",
    "def _square_key(square):\n",
    "    flipped = square.transpose(Image.FLIP_LEFT_RIGHT)\n",
    "    rotations = {\n",
    "        square.tobytes(),\n",
    "        square.transpose(Image.ROTATE_90).tobytes(),\n",
    "        square.transpose(Image.ROTATE_180).tobytes(),\n",
    "        square.transpose(Image.ROTATE_270).tobytes(),\n",
    "        flipped.tobytes(),\n",
    "        flipped.transpose(Image.ROTATE_90).tobytes(),\n",
    "        flipped.transpose(Image.ROTATE_180).tobytes(),\n",
    "        flipped.transpose(Image.ROTATE_270).tobytes(),\n",
    "    }\n",
    "    return b''.join(sorted(rotations))\n",
    "\n",
    "\n",
    "# map pattern sequences to raw PIL data\n",
    "_hash_to_bytes = {\n",
    "    # binary 0 and 1 to . and #\n",
    "    format(i, '04b').translate({48: 46, 49: 35}): bytes([i << 4])\n",
    "    for i in range(16)\n",
    "}\n",
    "for l in range(3, 1, -1):\n",
    "    for pattern in product('.#', repeat=l):\n",
    "        pattern = ''.join(pattern)\n",
    "        _hash_to_bytes[pattern] = _hash_to_bytes[pattern.ljust(4, '.')]\n",
    "\n",
    "\n",
    "def _pattern_to_square(pattern, _m=_hash_to_bytes):\n",
    "    parts = pattern.split('/')\n",
    "    return Image.frombytes(\n",
    "        '1', (len(parts), len(parts)),\n",
    "        b''.join([_m[p] for p in parts])\n",
    "    )\n",
    "\n",
    "\n",
    "class RotationMap(Mapping):\n",
    "    def __init__(self, d=None):\n",
    "        self._d = {}\n",
    "        if d is not None:\n",
    "            self._d.update(d)\n",
    "\n",
    "    @classmethod\n",
    "    def from_lines(cls, lines, _sk=_square_key, _ps=_pattern_to_square):\n",
    "        def convert_line(line):\n",
    "            key, value = map(_ps, map(str.strip, line.split('=>')))\n",
    "            return _sk(key), value\n",
    "        return cls(map(convert_line, lines))\n",
    "\n",
    "    def __getitem__(self, square, _sk=_square_key):\n",
    "        if not isinstance(square, bytes):\n",
    "            square = _sk(square)\n",
    "        return self._d[square]\n",
    "\n",
    "    def __len__(self):\n",
    "        return len(self._d)\n",
    "    \n",
    "    def __iter__(self):\n",
    "        return iter(self._d)\n",
    "\n",
    "\n",
    "def transform_image(img, map, _cache=None):\n",
    "    if img.size[0] <= 3:\n",
    "        return map[img]\n",
    "    if _cache is None:\n",
    "        _cache = {}\n",
    "    key = (img.size[0], img.tobytes())\n",
    "    new_img = _cache.get(key)\n",
    "    if new_img is None:\n",
    "        step = 3 if img.size[0] % 2 else 2\n",
    "        size = img.size[0] * (step + 1) // step\n",
    "        parts = 3 if img.size[0] % 4 else 2\n",
    "        chunksize = img.size[0] // parts\n",
    "        new_img = Image.new('1', (size, size))\n",
    "        for x, y in product(range(0, parts), repeat=2):\n",
    "            input_x, input_y = x * chunksize, y * chunksize\n",
    "            output_x, output_y = x * (size // parts), y * (size // parts)\n",
    "            pattern = img.crop((input_x, input_y, input_x + chunksize, input_y + chunksize))\n",
    "            new_img.paste(transform_image(pattern, map, _cache), (output_x, output_y))\n",
    "        _cache[key] = new_img\n",
    "    return new_img\n",
    "\n",
    "start_image = Image.frombytes('1', (3, 3), b''.join([\n",
    "    _hash_to_bytes[l.strip()] for l in '''\\\n",
    "        .#.\n",
    "        ..#\n",
    "        ###'''.splitlines()\n",
    "]))"
   ]
  },
  {
   "cell_type": "code",
   "execution_count": 2,
   "metadata": {},
   "outputs": [],
   "source": [
    "test_map = RotationMap.from_lines('''\\\n",
    "../.# => ##./#../...\n",
    ".#./..#/### => #..#/..../..../#..#\n",
    "'''.splitlines())\n",
    "iterations = []\n",
    "iteration_1 = transform_image(start_image, test_map)\n",
    "iteration_2 = transform_image(iteration_1, test_map)\n",
    "assert iteration_2.histogram()[-1] == 12"
   ]
  },
  {
   "cell_type": "code",
   "execution_count": 3,
   "metadata": {},
   "outputs": [],
   "source": [
    "with open('inputs/day21.txt') as day21:\n",
    "    map_ = RotationMap.from_lines(day21)"
   ]
  },
  {
   "cell_type": "code",
   "execution_count": 10,
   "metadata": {},
   "outputs": [
    {
     "name": "stdout",
     "output_type": "stream",
     "text": [
      "Part 1: 136\n"
     ]
    }
   ],
   "source": [
    "image1 = start_image\n",
    "for _ in range(5):\n",
    "    image1 = transform_image(image1, map_)\n",
    "print('Part 1:', image1.histogram()[-1])"
   ]
  },
  {
   "cell_type": "code",
   "execution_count": 11,
   "metadata": {},
   "outputs": [
    {
     "name": "stdout",
     "output_type": "stream",
     "text": [
      "Part 2: 1911767\n"
     ]
    }
   ],
   "source": [
    "image2, cache = start_image, {}\n",
    "for _ in range(18):\n",
    "    image2 = transform_image(image2, map_, cache)\n",
    "print('Part 2:', image2.histogram()[-1])"
   ]
  },
  {
   "cell_type": "code",
   "execution_count": 12,
   "metadata": {},
   "outputs": [
    {
     "data": {
      "text/plain": [
       "<matplotlib.image.AxesImage at 0x10fdd0dd8>"
      ]
     },
     "execution_count": 12,
     "metadata": {},
     "output_type": "execute_result"
    },
    {
     "data": {
      "image/png": "[encoded data removed]",
      "text/plain": [
       "<matplotlib.figure.Figure at 0x10d5c7320>"
      ]
     },
     "metadata": {},
     "output_type": "display_data"
    }
   ],
   "source": [
    "from matplotlib.pyplot import imshow\n",
    "import numpy as np\n",
    "\n",
    "%matplotlib inline\n",
    "imshow(np.asarray(image2))"
   ]
  }
 ],
 "metadata": {
  "kernelspec": {
   "display_name": "Python 3",
   "language": "python",
   "name": "python3"
  },
  "language_info": {
   "codemirror_mode": {
    "name": "ipython",
    "version": 3
   },
   "file_extension": ".py",
   "mimetype": "text/x-python",
   "name": "python",
   "nbconvert_exporter": "python",
   "pygments_lexer": "ipython3",
   "version": "3.6.3"
  }
 },
 "nbformat": 4,
 "nbformat_minor": 2
}
