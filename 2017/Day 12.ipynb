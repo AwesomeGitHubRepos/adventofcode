{
 "cells": [
  {
   "cell_type": "code",
   "execution_count": 1,
   "metadata": {},
   "outputs": [],
   "source": [
    "from collections import deque\n",
    "\n",
    "\n",
    "def visit_nodes(graph, start=0):\n",
    "    queue = deque([start])\n",
    "    seen = {start}\n",
    "    yield start\n",
    "    while queue:\n",
    "        for next_ in graph[queue.popleft()]:\n",
    "            if next_ in seen:\n",
    "                continue\n",
    "            yield next_\n",
    "            seen.add(next_)\n",
    "            queue.append(next_)\n",
    "\n",
    "\n",
    "def read_graph(lines):\n",
    "    graph = {}\n",
    "    for line in lines:\n",
    "        if not line.strip():\n",
    "            continue\n",
    "        node, targets = line.split(\" <-> \")\n",
    "        graph[int(node)] = [int(t) for t in targets.split(\",\")]\n",
    "    return graph\n",
    "\n",
    "\n",
    "def graph_groups(graph):\n",
    "    \"\"\"yield a node from each group\"\"\"\n",
    "    seen = set()\n",
    "    for node in graph:\n",
    "        if node not in seen:\n",
    "            yield node\n",
    "            seen.update(visit_nodes(graph, node))"
   ]
  },
  {
   "cell_type": "code",
   "execution_count": 2,
   "metadata": {},
   "outputs": [],
   "source": [
    "test_graph = read_graph(\n",
    "    \"\"\"\\\n",
    "0 <-> 2\n",
    "1 <-> 1\n",
    "2 <-> 0, 3, 4\n",
    "3 <-> 2, 4\n",
    "4 <-> 2, 3, 6\n",
    "5 <-> 6\n",
    "6 <-> 4, 5\n",
    "\"\"\".splitlines()\n",
    ")\n",
    "assert sum(1 for _ in visit_nodes(test_graph)) == 6\n",
    "assert sum(1 for _ in graph_groups(test_graph)) == 2"
   ]
  },
  {
   "cell_type": "code",
   "execution_count": 3,
   "metadata": {},
   "outputs": [],
   "source": [
    "import aocd\n",
    "\n",
    "data = aocd.get_data(day=12, year=2017)\n",
    "graph = read_graph(data.splitlines())"
   ]
  },
  {
   "cell_type": "code",
   "execution_count": 4,
   "metadata": {},
   "outputs": [
    {
     "name": "stdout",
     "output_type": "stream",
     "text": [
      "Part 1: 128\n"
     ]
    }
   ],
   "source": [
    "print(\"Part 1:\", sum(1 for _ in visit_nodes(graph)))"
   ]
  },
  {
   "cell_type": "code",
   "execution_count": 5,
   "metadata": {},
   "outputs": [
    {
     "name": "stdout",
     "output_type": "stream",
     "text": [
      "Part 2: 209\n"
     ]
    }
   ],
   "source": [
    "print(\"Part 2:\", sum(1 for _ in graph_groups(graph)))"
   ]
  }
 ],
 "metadata": {
  "kernelspec": {
   "display_name": "Python 3",
   "language": "python",
   "name": "python3"
  },
  "language_info": {
   "codemirror_mode": {
    "name": "ipython",
    "version": 3
   },
   "file_extension": ".py",
   "mimetype": "text/x-python",
   "name": "python",
   "nbconvert_exporter": "python",
   "pygments_lexer": "ipython3",
   "version": "3.12.0"
  }
 },
 "nbformat": 4,
 "nbformat_minor": 2
}
