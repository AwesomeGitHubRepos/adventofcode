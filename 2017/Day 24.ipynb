{
 "cells": [
  {
   "cell_type": "code",
   "execution_count": 1,
   "metadata": {},
   "outputs": [],
   "source": [
    "def enumerate_paths(graph, node=0, path=()):\n",
    "    # yields path as [(node_a, node_b)]\n",
    "    seen = {frozenset(edge) for edge in path}\n",
    "    for next_ in graph[node]:\n",
    "        edge = (node, next_)\n",
    "        if frozenset(edge) not in seen:\n",
    "            subpath = path + (edge,)\n",
    "            yield subpath\n",
    "            yield from enumerate_paths(graph, next_, subpath)\n",
    "\n",
    "\n",
    "def strongest_bridge(graph):\n",
    "    return max(sum(a + b for a, b in path) for path in enumerate_paths(graph))\n",
    "\n",
    "\n",
    "def longest_strongest_bridge(graph):\n",
    "    max_length = 0\n",
    "    max_weight = 0\n",
    "    for path in enumerate_paths(graph):\n",
    "        if len(path) < max_length:\n",
    "            continue\n",
    "        weight = sum(a + b for a, b in path)\n",
    "        if len(path) == max_length:\n",
    "            max_weight = max(max_weight, weight)\n",
    "        else:\n",
    "            max_length, max_weight = len(path), weight\n",
    "    return max_weight\n",
    "\n",
    "\n",
    "def read_graph(lines):\n",
    "    graph = {}\n",
    "    for line in lines:\n",
    "        node_a, node_b = map(int, line.strip().split(\"/\"))\n",
    "        graph.setdefault(node_a, set()).add(node_b)\n",
    "        graph.setdefault(node_b, set()).add(node_a)\n",
    "    return graph"
   ]
  },
  {
   "cell_type": "code",
   "execution_count": 2,
   "metadata": {},
   "outputs": [],
   "source": [
    "test_graph = read_graph(\n",
    "    \"\"\"\\\n",
    "0/2\n",
    "2/2\n",
    "2/3\n",
    "3/4\n",
    "3/5\n",
    "0/1\n",
    "10/1\n",
    "9/10\n",
    "\"\"\".splitlines()\n",
    ")\n",
    "assert strongest_bridge(test_graph) == 31\n",
    "assert longest_strongest_bridge(test_graph) == 19"
   ]
  },
  {
   "cell_type": "code",
   "execution_count": 3,
   "metadata": {},
   "outputs": [],
   "source": [
    "import aocd\n",
    "\n",
    "data = aocd.get_data(day=24, year=2017)\n",
    "graph = read_graph(data.splitlines())"
   ]
  },
  {
   "cell_type": "code",
   "execution_count": 4,
   "metadata": {},
   "outputs": [
    {
     "name": "stdout",
     "output_type": "stream",
     "text": [
      "Part 1: 1868\n"
     ]
    }
   ],
   "source": [
    "print(\"Part 1:\", strongest_bridge(graph))"
   ]
  },
  {
   "cell_type": "code",
   "execution_count": 5,
   "metadata": {},
   "outputs": [
    {
     "name": "stdout",
     "output_type": "stream",
     "text": [
      "Part 2: 1841\n"
     ]
    }
   ],
   "source": [
    "print(\"Part 2:\", longest_strongest_bridge(graph))"
   ]
  }
 ],
 "metadata": {
  "kernelspec": {
   "display_name": "Python 3",
   "language": "python",
   "name": "python3"
  },
  "language_info": {
   "codemirror_mode": {
    "name": "ipython",
    "version": 3
   },
   "file_extension": ".py",
   "mimetype": "text/x-python",
   "name": "python",
   "nbconvert_exporter": "python",
   "pygments_lexer": "ipython3",
   "version": "3.12.0"
  }
 },
 "nbformat": 4,
 "nbformat_minor": 2
}
