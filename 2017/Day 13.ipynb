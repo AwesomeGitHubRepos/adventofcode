{
 "cells": [
  {
   "cell_type": "code",
   "execution_count": 1,
   "metadata": {},
   "outputs": [],
   "source": [
    "from dataclasses import dataclass\n",
    "from itertools import count\n",
    "\n",
    "@dataclass\n",
    "class Scanner(object):\n",
    "    depth: int\n",
    "    period: int\n",
    "    severity: int\n",
    "    \n",
    "    @classmethod\n",
    "    def from_line(cls, line):\n",
    "        depth, range_ = map(int, line.split(':'))\n",
    "        return cls(depth, (range_ - 1) * 2, depth * range_)\n",
    "    \n",
    "    def catches(self, delay=0):\n",
    "        return (self.depth + delay) % self.period == 0\n",
    "\n",
    "\n",
    "def severity(firewall):\n",
    "    return sum(s.severity for s in firewall if s.catches())\n",
    "\n",
    "\n",
    "def find_delay(firewall):\n",
    "    return next(d for d in count() if not any(s.catches(d) for s in firewall))\n",
    "\n",
    "\n",
    "def read_firewall(lines):\n",
    "    return [Scanner.from_line(l) for l in lines if l.strip()]"
   ]
  },
  {
   "cell_type": "code",
   "execution_count": 2,
   "metadata": {},
   "outputs": [],
   "source": [
    "test = read_firewall('''\\\n",
    "0: 3\n",
    "1: 2\n",
    "4: 4\n",
    "6: 4\n",
    "'''.splitlines())\n",
    "\n",
    "assert severity(test) == 24\n",
    "assert find_delay(test) == 10"
   ]
  },
  {
   "cell_type": "code",
   "execution_count": 3,
   "metadata": {},
   "outputs": [],
   "source": [
    "import aocd\n",
    "\n",
    "data = aocd.get_data(day=13, year=2017)\n",
    "firewall = read_firewall(data.splitlines())"
   ]
  },
  {
   "cell_type": "code",
   "execution_count": 4,
   "metadata": {},
   "outputs": [
    {
     "name": "stdout",
     "output_type": "stream",
     "text": [
      "Part 1: 748\n"
     ]
    }
   ],
   "source": [
    "print('Part 1:', severity(firewall))"
   ]
  },
  {
   "cell_type": "code",
   "execution_count": 5,
   "metadata": {},
   "outputs": [
    {
     "name": "stdout",
     "output_type": "stream",
     "text": [
      "Part 2: 3873662\n"
     ]
    }
   ],
   "source": [
    "print('Part 2:', find_delay(firewall))"
   ]
  }
 ],
 "metadata": {
  "kernelspec": {
   "display_name": "Python 3",
   "language": "python",
   "name": "python3"
  },
  "language_info": {
   "codemirror_mode": {
    "name": "ipython",
    "version": 3
   },
   "file_extension": ".py",
   "mimetype": "text/x-python",
   "name": "python",
   "nbconvert_exporter": "python",
   "pygments_lexer": "ipython3",
   "version": "3.7.1"
  }
 },
 "nbformat": 4,
 "nbformat_minor": 2
}
