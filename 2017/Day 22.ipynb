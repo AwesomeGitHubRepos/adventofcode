{
 "cells": [
  {
   "cell_type": "code",
   "execution_count": 48,
   "metadata": {},
   "outputs": [],
   "source": [
    "from collections import deque\n",
    "from enum import Enum\n",
    "from itertools import islice\n",
    "\n",
    "\n",
    "class VirusGrid:\n",
    "    def __init__(self, infected):\n",
    "        self.infected = infected\n",
    "        self.directions = deque([(0, -1), (1, 0), (0, 1), (-1, 0)])\n",
    "        self.pos = 0, 0\n",
    "\n",
    "    @classmethod\n",
    "    def from_lines(cls, lines):\n",
    "        # assumption: grid is square\n",
    "        infected = set()\n",
    "        halfsize = None\n",
    "        for row, line in enumerate(lines):\n",
    "            line = line.strip()\n",
    "            if halfsize is None:\n",
    "                halfsize = len(line) // 2\n",
    "            y = row - halfsize\n",
    "            infected.update(\n",
    "                (x, y) for x, f in enumerate(line, -halfsize)\n",
    "                if f == '#')\n",
    "        return cls(infected)\n",
    "    \n",
    "    def __iter__(self):\n",
    "        return self\n",
    "    \n",
    "    def __next__(self):\n",
    "        infected = self.pos in self.infected\n",
    "        self.directions.rotate(-1 if infected else 1)\n",
    "        if infected:\n",
    "            self.infected.remove(self.pos)\n",
    "        else:\n",
    "            self.infected.add(self.pos)\n",
    "        dx, dy = self.directions[0]\n",
    "        self.pos = self.pos[0] + dx, self.pos[1] + dy\n",
    "        return not infected\n",
    "\n",
    "\n",
    "class EvolvedStates(Enum):\n",
    "    # current and next\n",
    "    clean = 'weakened', 1\n",
    "    weakened = 'infected', 0\n",
    "    infected = 'flagged', -1\n",
    "    flagged = 'clean', 2\n",
    "    \n",
    "    def __init__(self, next_, rotation):\n",
    "        self._next = next_\n",
    "        self.rotation = rotation\n",
    "    \n",
    "    @property\n",
    "    def next(self):\n",
    "        return type(self)[self._next]\n",
    "    \n",
    "    def __repr__(self):\n",
    "        return f'{type(self).__name__}.{self.name}'\n",
    "\n",
    "    \n",
    "class EvolvedVirusGrid(VirusGrid):\n",
    "    def __init__(self, infected):\n",
    "        self.infected = dict.fromkeys(infected, EvolvedStates.infected)\n",
    "        self.directions = deque([(0, -1), (1, 0), (0, 1), (-1, 0)])\n",
    "        self.pos = 0, 0\n",
    "\n",
    "    def __next__(self):\n",
    "        state = self.infected.get(self.pos, EvolvedStates.clean)\n",
    "        self.directions.rotate(state.rotation)\n",
    "        if state.next is EvolvedStates.clean:\n",
    "            del self.infected[self.pos]\n",
    "        else:\n",
    "            self.infected[self.pos] = state.next\n",
    "        dx, dy = self.directions[0]\n",
    "        self.pos = self.pos[0] + dx, self.pos[1] + dy\n",
    "        return state.next\n"
   ]
  },
  {
   "cell_type": "code",
   "execution_count": 42,
   "metadata": {},
   "outputs": [],
   "source": [
    "test_grid = VirusGrid.from_lines('''\\\n",
    "..#\n",
    "#..\n",
    "...'''.splitlines())\n",
    "assert sum(islice(test_grid, 10000)) == 5587"
   ]
  },
  {
   "cell_type": "code",
   "execution_count": 43,
   "metadata": {},
   "outputs": [],
   "source": [
    "with open('inputs/day22.txt') as day22:\n",
    "    grid = VirusGrid.from_lines(day22)\n",
    "\n",
    "print('Part 1:', sum(islice(grid, 10000)))"
   ]
  },
  {
   "cell_type": "code",
   "execution_count": 50,
   "metadata": {},
   "outputs": [],
   "source": [
    "test_grid = EvolvedVirusGrid.from_lines('''\\\n",
    "..#\n",
    "#..\n",
    "...'''.splitlines())\n",
    "assert sum(state is EvolvedStates.infected for state in islice(test_grid, 10000000)) == 2511944"
   ]
  },
  {
   "cell_type": "code",
   "execution_count": 51,
   "metadata": {},
   "outputs": [
    {
     "name": "stdout",
     "output_type": "stream",
     "text": [
      "Part 2: 2511416\n"
     ]
    }
   ],
   "source": [
    "with open('inputs/day22.txt') as day22:\n",
    "    grid = EvolvedVirusGrid.from_lines(day22)\n",
    "\n",
    "print('Part 2:', sum(state is EvolvedStates.infected for state in islice(grid, 10000000)))"
   ]
  }
 ],
 "metadata": {
  "kernelspec": {
   "display_name": "Python 3",
   "language": "python",
   "name": "python3"
  },
  "language_info": {
   "codemirror_mode": {
    "name": "ipython",
    "version": 3
   },
   "file_extension": ".py",
   "mimetype": "text/x-python",
   "name": "python",
   "nbconvert_exporter": "python",
   "pygments_lexer": "ipython3",
   "version": "3.6.3"
  }
 },
 "nbformat": 4,
 "nbformat_minor": 2
}
