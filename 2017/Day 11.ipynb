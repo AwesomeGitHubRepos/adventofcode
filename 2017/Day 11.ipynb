{
 "cells": [
  {
   "cell_type": "code",
   "execution_count": 15,
   "metadata": {},
   "outputs": [],
   "source": [
    "from functools import reduce\n",
    "from operator import methodcaller\n",
    "import attr\n",
    "\n",
    "\n",
    "directions = {\n",
    "    'n': (0, -1),\n",
    "    'ne': (1, -1),\n",
    "    'se': (1, 0),\n",
    "    's': (0, 1),\n",
    "    'sw': (-1, 1),\n",
    "    'nw': (-1, 0),\n",
    "}\n",
    "\n",
    "\n",
    "@attr.s(frozen=True)\n",
    "class HexCoord(object):\n",
    "    q = attr.ib(default=0)\n",
    "    r = attr.ib(default=0)\n",
    "\n",
    "    def hex_distance(self):\n",
    "        s = -self.q - self.r\n",
    "        return max(map(abs, (self.q, self.r, s)))\n",
    "\n",
    "    def step(self, direction):\n",
    "        dq, dr = directions[direction]\n",
    "        return type(self)(self.q + dq, self.r + dr)\n",
    "\n",
    "\n",
    "def walk(directions):\n",
    "    return reduce(HexCoord.step, directions, HexCoord())\n",
    "\n",
    "\n",
    "def max_distance(directions):\n",
    "    max_distance = 0\n",
    "    pos = HexCoord()\n",
    "    for direction in directions:\n",
    "        pos = pos.step(direction)\n",
    "        max_distance = max(max_distance, pos.hex_distance())\n",
    "    return max_distance"
   ]
  },
  {
   "cell_type": "code",
   "execution_count": 11,
   "metadata": {},
   "outputs": [],
   "source": [
    "tests = {\n",
    "    'ne,ne,ne': 3,\n",
    "    'ne,ne,sw,sw': 0,\n",
    "    'ne,ne,s,s': 2,\n",
    "    'se,sw,se,sw,sw': 3,\n",
    "}\n",
    "for inp, expected in tests.items():\n",
    "    assert walk(inp.split(',')).hex_distance() == expected"
   ]
  },
  {
   "cell_type": "code",
   "execution_count": 12,
   "metadata": {},
   "outputs": [],
   "source": [
    "with open('inputs/day11.txt') as day11:\n",
    "    path = next(day11).strip().split(',')"
   ]
  },
  {
   "cell_type": "code",
   "execution_count": 13,
   "metadata": {},
   "outputs": [
    {
     "name": "stdout",
     "output_type": "stream",
     "text": [
      "Part 1: 796\n"
     ]
    }
   ],
   "source": [
    "print('Part 1:', walk(path).hex_distance())"
   ]
  },
  {
   "cell_type": "code",
   "execution_count": 16,
   "metadata": {},
   "outputs": [
    {
     "name": "stdout",
     "output_type": "stream",
     "text": [
      "Part 2: 1585\n"
     ]
    }
   ],
   "source": [
    "print('Part 2:', max_distance(path))"
   ]
  }
 ],
 "metadata": {
  "kernelspec": {
   "display_name": "Python 3",
   "language": "python",
   "name": "python3"
  },
  "language_info": {
   "codemirror_mode": {
    "name": "ipython",
    "version": 3
   },
   "file_extension": ".py",
   "mimetype": "text/x-python",
   "name": "python",
   "nbconvert_exporter": "python",
   "pygments_lexer": "ipython3",
   "version": "3.6.3"
  }
 },
 "nbformat": 4,
 "nbformat_minor": 2
}
