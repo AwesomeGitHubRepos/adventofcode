{
 "cells": [
  {
   "cell_type": "code",
   "execution_count": 1,
   "metadata": {},
   "outputs": [],
   "source": [
    "from dataclasses import dataclass, field\n",
    "\n",
    "directions = {\n",
    "    \"n\": (0, -1),\n",
    "    \"ne\": (1, -1),\n",
    "    \"se\": (1, 0),\n",
    "    \"s\": (0, 1),\n",
    "    \"sw\": (-1, 1),\n",
    "    \"nw\": (-1, 0),\n",
    "}\n",
    "\n",
    "\n",
    "@dataclass(frozen=True)\n",
    "class HexCoord(object):\n",
    "    q: int = field(default=0)\n",
    "    r: int = field(default=0)\n",
    "\n",
    "    def hex_distance(self):\n",
    "        s = -self.q - self.r\n",
    "        return max(map(abs, (self.q, self.r, s)))\n",
    "\n",
    "    def step(self, direction):\n",
    "        dq, dr = directions[direction]\n",
    "        return type(self)(self.q + dq, self.r + dr)\n",
    "\n",
    "\n",
    "def walk(directions):\n",
    "    pos = HexCoord()\n",
    "    for direction in directions:\n",
    "        pos = pos.step(direction)\n",
    "        yield pos\n",
    "\n",
    "\n",
    "def max_distance(directions):\n",
    "    return max(pos.hex_distance() for pos in walk(directions))"
   ]
  },
  {
   "cell_type": "code",
   "execution_count": 2,
   "metadata": {},
   "outputs": [],
   "source": [
    "from collections import deque\n",
    "\n",
    "tests = {\n",
    "    \"ne,ne,ne\": 3,\n",
    "    \"ne,ne,sw,sw\": 0,\n",
    "    \"ne,ne,s,s\": 2,\n",
    "    \"se,sw,se,sw,sw\": 3,\n",
    "}\n",
    "for inp, expected in tests.items():\n",
    "    (pos,) = deque(walk(inp.split(\",\")), 1)  # keep only the last value\n",
    "    assert pos.hex_distance() == expected"
   ]
  },
  {
   "cell_type": "code",
   "execution_count": 3,
   "metadata": {},
   "outputs": [],
   "source": [
    "import aocd\n",
    "\n",
    "data = aocd.get_data(day=11, year=2017)\n",
    "path = data.split(\",\")"
   ]
  },
  {
   "cell_type": "code",
   "execution_count": 4,
   "metadata": {},
   "outputs": [
    {
     "name": "stdout",
     "output_type": "stream",
     "text": [
      "Part 1: 796\n"
     ]
    }
   ],
   "source": [
    "(pos,) = deque(walk(path), 1)  # keep only the last value\n",
    "print(\"Part 1:\", pos.hex_distance())"
   ]
  },
  {
   "cell_type": "code",
   "execution_count": 5,
   "metadata": {},
   "outputs": [
    {
     "name": "stdout",
     "output_type": "stream",
     "text": [
      "Part 2: 1585\n"
     ]
    }
   ],
   "source": [
    "print(\"Part 2:\", max_distance(path))"
   ]
  }
 ],
 "metadata": {
  "kernelspec": {
   "display_name": "Python 3",
   "language": "python",
   "name": "python3"
  },
  "language_info": {
   "codemirror_mode": {
    "name": "ipython",
    "version": 3
   },
   "file_extension": ".py",
   "mimetype": "text/x-python",
   "name": "python",
   "nbconvert_exporter": "python",
   "pygments_lexer": "ipython3",
   "version": "3.12.0"
  }
 },
 "nbformat": 4,
 "nbformat_minor": 2
}
