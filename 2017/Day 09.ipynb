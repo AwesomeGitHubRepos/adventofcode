{
 "cells": [
  {
   "cell_type": "code",
   "execution_count": 1,
   "metadata": {},
   "outputs": [],
   "source": [
    "def parse_stream(stream):\n",
    "    depth = 0\n",
    "    garbage = escape = False\n",
    "    for char in stream:\n",
    "        if escape:\n",
    "            escape = False\n",
    "        elif char == '!':\n",
    "            escape = True\n",
    "        elif garbage:\n",
    "            if char == '>':\n",
    "                garbage = False\n",
    "            else:\n",
    "                yield ('G', depth)\n",
    "        else:\n",
    "            if char == '<':\n",
    "                garbage = True\n",
    "            elif char == '{':\n",
    "                depth += 1\n",
    "                yield ('O', depth)\n",
    "            elif char == '}':\n",
    "                depth -= 1"
   ]
  },
  {
   "cell_type": "code",
   "execution_count": 2,
   "metadata": {},
   "outputs": [],
   "source": [
    "tests = {\n",
    "    '{}': 1,\n",
    "    '{{{}}}': 3,\n",
    "    '{{},{}}': 3,\n",
    "    '{{{},{},{{}}}}': 6,\n",
    "    '{<{},{},{{}}>}': 1,\n",
    "    '{<a>,<a>,<a>,<a>}': 1,\n",
    "    '{{<a>},{<a>},{<a>},{<a>}}': 5,\n",
    "    '{{<!>},{<!>},{<!>},{<a>}}': 2,\n",
    "}\n",
    "for inp, expected in tests.items():\n",
    "    result = sum(1 for op, depth in parse_stream(inp) if op == 'O')\n",
    "    assert result == expected, (inp, expected, result)\n",
    "\n",
    "\n",
    "tests = {\n",
    "    '{}': 1,\n",
    "    '{{{}}}': 6,\n",
    "    '{{},{}}': 5,\n",
    "    '{{{},{},{{}}}}': 16,\n",
    "    '{<{},{},{{}}>}': 1,\n",
    "    '{<a>,<a>,<a>,<a>}': 1,\n",
    "    '{{<ab>},{<ab>},{<ab>},{<ab>}}': 9,\n",
    "    '{{<!!>},{<!!>},{<!!>},{<!!>}}': 9,\n",
    "    '{{<a!>},{<a!>},{<a!>},{<ab>}}': 3,\n",
    "}\n",
    "for inp, expected in tests.items():\n",
    "    result = sum(depth for op, depth in parse_stream(inp) if op == 'O')\n",
    "    assert result == expected, (inp, expected, result)\n",
    "\n",
    "\n",
    "tests = {\n",
    "    '<>': 0,\n",
    "    '<random characters>': 17,\n",
    "    '<<<<>': 3,\n",
    "    '<{!>}>': 2,\n",
    "    '<!!>': 0,\n",
    "    '<!!!>>': 0,\n",
    "    '<{o\"i!a,<{i<a>': 10,\n",
    "}\n",
    "for inp, expected in tests.items():\n",
    "    result = sum(1 for op, depth in parse_stream(inp) if op == 'G')\n",
    "    assert result == expected, (inp, expected, result)"
   ]
  },
  {
   "cell_type": "code",
   "execution_count": 3,
   "metadata": {},
   "outputs": [],
   "source": [
    "import aocd\n",
    "\n",
    "stream = aocd.get_data(day=9, year=2017)"
   ]
  },
  {
   "cell_type": "code",
   "execution_count": 4,
   "metadata": {},
   "outputs": [
    {
     "name": "stdout",
     "output_type": "stream",
     "text": [
      "Part 1: 14421\n"
     ]
    }
   ],
   "source": [
    "print('Part 1:', sum(depth for op, depth in parse_stream(stream) if op == 'O'))"
   ]
  },
  {
   "cell_type": "code",
   "execution_count": 5,
   "metadata": {},
   "outputs": [
    {
     "name": "stdout",
     "output_type": "stream",
     "text": [
      "Part 2: 6817\n"
     ]
    }
   ],
   "source": [
    "print('Part 2:', sum(1 for op, depth in parse_stream(stream) if op == 'G'))"
   ]
  }
 ],
 "metadata": {
  "kernelspec": {
   "display_name": "Python 3",
   "language": "python",
   "name": "python3"
  },
  "language_info": {
   "codemirror_mode": {
    "name": "ipython",
    "version": 3
   },
   "file_extension": ".py",
   "mimetype": "text/x-python",
   "name": "python",
   "nbconvert_exporter": "python",
   "pygments_lexer": "ipython3",
   "version": "3.7.1"
  }
 },
 "nbformat": 4,
 "nbformat_minor": 2
}
