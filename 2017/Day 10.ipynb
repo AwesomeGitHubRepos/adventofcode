{
 "cells": [
  {
   "cell_type": "code",
   "execution_count": 53,
   "metadata": {},
   "outputs": [],
   "source": [
    "from collections import deque\n",
    "from functools import reduce\n",
    "from itertools import chain, repeat\n",
    "from operator import xor\n",
    "\n",
    "\n",
    "def knot_hash_rounds(lenghts, size=256, rounds=64):\n",
    "    string = deque(range(size), size)\n",
    "    skip = pos = 0\n",
    "    for length in chain.from_iterable(repeat(lenghts, rounds)):\n",
    "        string.extend(reversed([string.popleft() for _ in range(length)]))\n",
    "        string.rotate(-skip)\n",
    "        pos, skip = (pos + length + skip) % size, skip + 1\n",
    "    string.rotate(pos)\n",
    "    return list(string)\n",
    "\n",
    "\n",
    "def knot_hash(value, _suffix=bytes([17, 31, 73, 47, 23])):\n",
    "    sparse_hash = knot_hash_rounds(value + _suffix)\n",
    "    dense_hash = bytes(\n",
    "        reduce(xor, (sparse_hash[b] for b in range(i, i + 16)))\n",
    "        for i in range(0, 256, 16))\n",
    "    return dense_hash.hex()"
   ]
  },
  {
   "cell_type": "code",
   "execution_count": 54,
   "metadata": {},
   "outputs": [],
   "source": [
    "assert knot_hash_rounds([3, 4, 1, 5], 5, 1)[:2] == [3, 4]\n",
    "\n",
    "tests = {\n",
    "    b'': 'a2582a3a0e66e6e86e3812dcb672a272',\n",
    "    b'AoC 2017': '33efeb34ea91902bb2f59c9920caa6cd',\n",
    "    b'1,2,3': '3efbe78a8d82f29979031a4aa0b16a9d',\n",
    "    b'1,2,4': '63960835bcdc130f0b66d7ff4f6a5a8e',\n",
    "}\n",
    "for inp, expected in tests.items():\n",
    "    assert knot_hash(inp) == expected"
   ]
  },
  {
   "cell_type": "code",
   "execution_count": 7,
   "metadata": {},
   "outputs": [],
   "source": [
    "with open('inputs/day10.txt', 'rb') as day10:\n",
    "    day10_data = day10.read().strip()  # assuming the newline is not included\n",
    "    lenghts = [int(l) for l in day10_data.split(b',')]"
   ]
  },
  {
   "cell_type": "code",
   "execution_count": 51,
   "metadata": {
    "scrolled": true
   },
   "outputs": [
    {
     "name": "stdout",
     "output_type": "stream",
     "text": [
      "Part 1: 23874\n"
     ]
    }
   ],
   "source": [
    "hashed = knot_hash_rounds(lenghts, rounds=1)\n",
    "print('Part 1:', hashed[0] * hashed[1])"
   ]
  },
  {
   "cell_type": "code",
   "execution_count": 52,
   "metadata": {},
   "outputs": [
    {
     "name": "stdout",
     "output_type": "stream",
     "text": [
      "Part 2: e1a65bfb5a5ce396025fab5528c25a87\n"
     ]
    }
   ],
   "source": [
    "print('Part 2:', knot_hash(day10_data))"
   ]
  }
 ],
 "metadata": {
  "kernelspec": {
   "display_name": "Python 3",
   "language": "python",
   "name": "python3"
  },
  "language_info": {
   "codemirror_mode": {
    "name": "ipython",
    "version": 3
   },
   "file_extension": ".py",
   "mimetype": "text/x-python",
   "name": "python",
   "nbconvert_exporter": "python",
   "pygments_lexer": "ipython3",
   "version": "3.6.3"
  }
 },
 "nbformat": 4,
 "nbformat_minor": 2
}
