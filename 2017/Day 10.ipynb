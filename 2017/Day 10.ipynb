{
 "cells": [
  {
   "cell_type": "code",
   "execution_count": 1,
   "metadata": {},
   "outputs": [],
   "source": [
    "from knothash import knot_hash_rounds, knot_hash"
   ]
  },
  {
   "cell_type": "code",
   "execution_count": 2,
   "metadata": {},
   "outputs": [],
   "source": [
    "assert knot_hash_rounds([3, 4, 1, 5], 5, 1)[:2] == [3, 4]\n",
    "\n",
    "tests = {\n",
    "    b\"\": \"a2582a3a0e66e6e86e3812dcb672a272\",\n",
    "    b\"AoC 2017\": \"33efeb34ea91902bb2f59c9920caa6cd\",\n",
    "    b\"1,2,3\": \"3efbe78a8d82f29979031a4aa0b16a9d\",\n",
    "    b\"1,2,4\": \"63960835bcdc130f0b66d7ff4f6a5a8e\",\n",
    "}\n",
    "for inp, expected in tests.items():\n",
    "    assert knot_hash(inp) == expected"
   ]
  },
  {
   "cell_type": "code",
   "execution_count": 3,
   "metadata": {},
   "outputs": [],
   "source": [
    "import aocd\n",
    "\n",
    "data = aocd.get_data(day=10, year=2017)\n",
    "lengths = [int(l) for l in data.split(\",\")]"
   ]
  },
  {
   "cell_type": "code",
   "execution_count": 4,
   "metadata": {
    "scrolled": true
   },
   "outputs": [
    {
     "name": "stdout",
     "output_type": "stream",
     "text": [
      "Part 1: 23874\n"
     ]
    }
   ],
   "source": [
    "hashed = knot_hash_rounds(lengths, rounds=1)\n",
    "print(\"Part 1:\", hashed[0] * hashed[1])"
   ]
  },
  {
   "cell_type": "code",
   "execution_count": 5,
   "metadata": {},
   "outputs": [
    {
     "name": "stdout",
     "output_type": "stream",
     "text": [
      "Part 2: e1a65bfb5a5ce396025fab5528c25a87\n"
     ]
    }
   ],
   "source": [
    "print(\"Part 2:\", knot_hash(data.encode(\"ascii\")))"
   ]
  }
 ],
 "metadata": {
  "kernelspec": {
   "display_name": "Python 3",
   "language": "python",
   "name": "python3"
  },
  "language_info": {
   "codemirror_mode": {
    "name": "ipython",
    "version": 3
   },
   "file_extension": ".py",
   "mimetype": "text/x-python",
   "name": "python",
   "nbconvert_exporter": "python",
   "pygments_lexer": "ipython3",
   "version": "3.12.0"
  }
 },
 "nbformat": 4,
 "nbformat_minor": 2
}
