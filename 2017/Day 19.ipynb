{
 "cells": [
  {
   "cell_type": "code",
   "execution_count": 1,
   "metadata": {},
   "outputs": [],
   "source": [
    "def follow_path(map_):\n",
    "    x, y = map_[0].index('|'), 0\n",
    "    dx, dy = 0, 1\n",
    "    steps = 0\n",
    "    found = []\n",
    "    while True:\n",
    "        steps += 1\n",
    "        x, y = x + dx, y + dy\n",
    "        mapchar = map_[y][x]\n",
    "        if mapchar == ' ' or not 0 <= x < len(map_[0]) or not 0 <= y < len(map_):\n",
    "            # map end found\n",
    "            return ''.join(found), steps\n",
    "        if mapchar.isalpha():\n",
    "            found.append(mapchar)\n",
    "        elif mapchar == '+':\n",
    "            # direction change, find new\n",
    "            if dx:\n",
    "                dx, dy = 0, 1 if map_[y - 1][x] == ' ' else -1\n",
    "            else:\n",
    "                dx, dy = 1 if map_[y][x - 1] == ' ' else -1, 0"
   ]
  },
  {
   "cell_type": "code",
   "execution_count": 2,
   "metadata": {},
   "outputs": [],
   "source": [
    "word, steps = follow_path('''\\\n",
    "     |          \n",
    "     |  +--+    \n",
    "     A  |  C    \n",
    " F---|----E|--+ \n",
    "     |  |  |  D \n",
    "     +B-+  +--+ \n",
    "'''.splitlines())\n",
    "assert word == 'ABCDEF'\n",
    "assert steps == 38"
   ]
  },
  {
   "cell_type": "code",
   "execution_count": 3,
   "metadata": {},
   "outputs": [],
   "source": [
    "import aocd\n",
    "\n",
    "data = aocd.get_data(day=19, year=2017)\n",
    "map_ = data.splitlines()"
   ]
  },
  {
   "cell_type": "code",
   "execution_count": 4,
   "metadata": {},
   "outputs": [
    {
     "name": "stdout",
     "output_type": "stream",
     "text": [
      "Part 1: AYRPVMEGQ\n",
      "Part 2: 16408\n"
     ]
    }
   ],
   "source": [
    "word, steps = list(follow_path(map_))\n",
    "print('Part 1:', word)\n",
    "print('Part 2:', steps)"
   ]
  }
 ],
 "metadata": {
  "kernelspec": {
   "display_name": "Python 3",
   "language": "python",
   "name": "python3"
  },
  "language_info": {
   "codemirror_mode": {
    "name": "ipython",
    "version": 3
   },
   "file_extension": ".py",
   "mimetype": "text/x-python",
   "name": "python",
   "nbconvert_exporter": "python",
   "pygments_lexer": "ipython3",
   "version": "3.7.1"
  }
 },
 "nbformat": 4,
 "nbformat_minor": 2
}
