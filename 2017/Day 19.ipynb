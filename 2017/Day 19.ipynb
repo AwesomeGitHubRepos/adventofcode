{
 "cells": [
  {
   "cell_type": "code",
   "execution_count": 28,
   "metadata": {},
   "outputs": [],
   "source": [
    "def follow_path(map_):\n",
    "    x, y = map_[0].index('|'), 0\n",
    "    dx, dy = 0, 1\n",
    "    steps = 0\n",
    "    found = []\n",
    "    while True:\n",
    "        steps += 1\n",
    "        x, y = x + dx, y + dy\n",
    "        mapchar = map_[y][x]\n",
    "        if mapchar == ' ' or not 0 <= x < len(map_[0]) or not 0 <= y < len(map_):\n",
    "            # map end found\n",
    "            return ''.join(found), steps\n",
    "        if mapchar.isalpha():\n",
    "            found.append(mapchar)\n",
    "        elif mapchar == '+':\n",
    "            # direction change, find new\n",
    "            if dx:\n",
    "                dx, dy = 0, 1 if map_[y - 1][x] == ' ' else -1\n",
    "            else:\n",
    "                dx, dy = 1 if map_[y][x - 1] == ' ' else -1, 0"
   ]
  },
  {
   "cell_type": "code",
   "execution_count": 29,
   "metadata": {},
   "outputs": [],
   "source": [
    "word, steps = follow_path('''\\\n",
    "     |          \n",
    "     |  +--+    \n",
    "     A  |  C    \n",
    " F---|----E|--+ \n",
    "     |  |  |  D \n",
    "     +B-+  +--+ \n",
    "'''.splitlines())\n",
    "assert word == 'ABCDEF'\n",
    "assert steps == 38"
   ]
  },
  {
   "cell_type": "code",
   "execution_count": 30,
   "metadata": {},
   "outputs": [],
   "source": [
    "with open('inputs/day19.txt') as day19:\n",
    "    map_ = list(day19)"
   ]
  },
  {
   "cell_type": "code",
   "execution_count": 31,
   "metadata": {},
   "outputs": [
    {
     "name": "stdout",
     "output_type": "stream",
     "text": [
      "Part 1: AYRPVMEGQ\n",
      "Part 2: 16408\n"
     ]
    }
   ],
   "source": [
    "word, steps = list(follow_path(map_))\n",
    "print('Part 1:', word)\n",
    "print('Part 2:', steps)"
   ]
  }
 ],
 "metadata": {
  "kernelspec": {
   "display_name": "Python 3",
   "language": "python",
   "name": "python3"
  },
  "language_info": {
   "codemirror_mode": {
    "name": "ipython",
    "version": 3
   },
   "file_extension": ".py",
   "mimetype": "text/x-python",
   "name": "python",
   "nbconvert_exporter": "python",
   "pygments_lexer": "ipython3",
   "version": "3.6.3"
  }
 },
 "nbformat": 4,
 "nbformat_minor": 2
}
