{
 "cells": [
  {
   "cell_type": "code",
   "execution_count": 1,
   "metadata": {},
   "outputs": [],
   "source": [
    "import aocd\n",
    "\n",
    "data = aocd.get_data(day=6, year=2017)\n",
    "banks = [int(count) for count in data.split()]"
   ]
  },
  {
   "cell_type": "code",
   "execution_count": 2,
   "metadata": {},
   "outputs": [
    {
     "name": "stdout",
     "output_type": "stream",
     "text": [
      "Part 1: 14029\n"
     ]
    }
   ],
   "source": [
    "def redistribute(banks):\n",
    "    index, count = max(enumerate(banks), key=lambda iv: (iv[1], -iv[0]))\n",
    "    banks[index] = 0\n",
    "    for i in range(count):\n",
    "        target = (i + index + 1) % len(banks)\n",
    "        banks[target] += 1\n",
    "\n",
    "\n",
    "test = [0, 2, 7, 0]\n",
    "redistribute(test)\n",
    "assert test == [2, 4, 1, 2]\n",
    "redistribute(test)\n",
    "assert test == [3, 1, 2, 3]\n",
    "redistribute(test)\n",
    "assert test == [0, 2, 3, 4]\n",
    "redistribute(test)\n",
    "assert test == [1, 3, 4, 1]\n",
    "redistribute(test)\n",
    "assert test == [2, 4, 1, 2]\n",
    "\n",
    "\n",
    "def find_circle(banks):\n",
    "    seen = set()\n",
    "    while tuple(banks) not in seen:\n",
    "        seen.add(tuple(banks))\n",
    "        redistribute(banks)\n",
    "    return len(seen)\n",
    "\n",
    "\n",
    "assert find_circle([0, 2, 7, 0]) == 5\n",
    "\n",
    "print('Part 1:', find_circle(banks))"
   ]
  },
  {
   "cell_type": "code",
   "execution_count": 3,
   "metadata": {},
   "outputs": [
    {
     "name": "stdout",
     "output_type": "stream",
     "text": [
      "Part 2: 2765\n"
     ]
    }
   ],
   "source": [
    "# starting from the last test banks setting, length of the loop\n",
    "assert find_circle(test) == 4\n",
    "\n",
    "# starting from the last banks state, length of the loop\n",
    "print('Part 2:', find_circle(banks))"
   ]
  }
 ],
 "metadata": {
  "kernelspec": {
   "display_name": "Python 3",
   "language": "python",
   "name": "python3"
  },
  "language_info": {
   "codemirror_mode": {
    "name": "ipython",
    "version": 3
   },
   "file_extension": ".py",
   "mimetype": "text/x-python",
   "name": "python",
   "nbconvert_exporter": "python",
   "pygments_lexer": "ipython3",
   "version": "3.7.1"
  }
 },
 "nbformat": 4,
 "nbformat_minor": 2
}
