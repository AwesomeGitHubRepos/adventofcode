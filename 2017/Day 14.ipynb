{
 "cells": [
  {
   "cell_type": "code",
   "execution_count": 7,
   "metadata": {},
   "outputs": [],
   "source": [
    "from collections import deque\n",
    "\n",
    "import numpy as np\n",
    "\n",
    "from knothash import knot_hash\n",
    "\n",
    "hextobitcount = {\n",
    "    '0': 0, '1': 1, '2': 1, '3': 2,\n",
    "    '4': 1, '5': 2, '6': 2, '7': 3,\n",
    "    '8': 1, '9': 2, 'a': 2, 'b': 3,\n",
    "    'c': 2, 'd': 3, 'e': 3, 'f': 4\n",
    "}\n",
    "\n",
    "\n",
    "def gen_grid(prefix):\n",
    "    return [knot_hash(b'%s-%d' % (prefix, i)) for i in range(128)]\n",
    "\n",
    "\n",
    "def count_squares(grid):\n",
    "    return sum(hextobitcount[h] for row in grid for h in row)\n",
    "\n",
    "\n",
    "def bitset(row, bit):\n",
    "    byte, bit = bit // 8, bit % 8\n",
    "    return (bytes.fromhex(row)[byte] & (1 << (7 - bit))) != 0\n",
    "\n",
    "\n",
    "directions = ((-1, 0), (0, -1), (1, 0), (0, 1))\n",
    "\n",
    "\n",
    "def fill_region(r, c, grid, handled, directions=directions):\n",
    "    queue = deque([(r, c)])\n",
    "    handled[r, c] = True\n",
    "    while queue:\n",
    "        r, c = queue.popleft()\n",
    "        for dr, dc in directions:\n",
    "            nr, nc = r + dr, c + dc\n",
    "            if not 0 <= nr < 128 or not 0 <= nc < 128:\n",
    "                continue\n",
    "            if not handled[nr, nc] and bitset(grid[nr], nc):\n",
    "                handled[nr, nc] = True\n",
    "                queue.append((nr, nc))\n",
    "\n",
    "\n",
    "def find_regions(grid):\n",
    "    handled = np.zeros((128, 128), dtype=bool)\n",
    "    regions = 0\n",
    "    for r, row in enumerate(grid):\n",
    "        for c in range(128):\n",
    "            if not handled[r, c] and bitset(row, c):\n",
    "                regions += 1\n",
    "                fill_region(r, c, grid, handled)\n",
    "    return regions"
   ]
  },
  {
   "cell_type": "code",
   "execution_count": 8,
   "metadata": {},
   "outputs": [],
   "source": [
    "test = gen_grid(b'flqrgnkx')\n",
    "assert count_squares(test) == 8108\n",
    "assert find_regions(test) == 1242"
   ]
  },
  {
   "cell_type": "code",
   "execution_count": 9,
   "metadata": {},
   "outputs": [],
   "source": [
    "grid = gen_grid(b'nbysizxe')"
   ]
  },
  {
   "cell_type": "code",
   "execution_count": 10,
   "metadata": {},
   "outputs": [
    {
     "name": "stdout",
     "output_type": "stream",
     "text": [
      "Part 1: 8216\n"
     ]
    }
   ],
   "source": [
    "print('Part 1:', count_squares(grid))"
   ]
  },
  {
   "cell_type": "code",
   "execution_count": 11,
   "metadata": {},
   "outputs": [
    {
     "name": "stdout",
     "output_type": "stream",
     "text": [
      "Part 2: 1139\n"
     ]
    }
   ],
   "source": [
    "print('Part 2:', find_regions(grid))"
   ]
  },
  {
   "cell_type": "code",
   "execution_count": null,
   "metadata": {},
   "outputs": [],
   "source": []
  }
 ],
 "metadata": {
  "kernelspec": {
   "display_name": "Python 3",
   "language": "python",
   "name": "python3"
  },
  "language_info": {
   "codemirror_mode": {
    "name": "ipython",
    "version": 3
   },
   "file_extension": ".py",
   "mimetype": "text/x-python",
   "name": "python",
   "nbconvert_exporter": "python",
   "pygments_lexer": "ipython3",
   "version": "3.6.3"
  }
 },
 "nbformat": 4,
 "nbformat_minor": 2
}
