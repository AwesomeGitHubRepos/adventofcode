{
 "cells": [
  {
   "cell_type": "code",
   "execution_count": 1,
   "metadata": {},
   "outputs": [],
   "source": [
    "from collections import deque\n",
    "\n",
    "import numpy as np\n",
    "from knothash import knot_hash\n",
    "\n",
    "hextobitcount = {\n",
    "    \"0\": 0,\n",
    "    \"1\": 1,\n",
    "    \"2\": 1,\n",
    "    \"3\": 2,\n",
    "    \"4\": 1,\n",
    "    \"5\": 2,\n",
    "    \"6\": 2,\n",
    "    \"7\": 3,\n",
    "    \"8\": 1,\n",
    "    \"9\": 2,\n",
    "    \"a\": 2,\n",
    "    \"b\": 3,\n",
    "    \"c\": 2,\n",
    "    \"d\": 3,\n",
    "    \"e\": 3,\n",
    "    \"f\": 4,\n",
    "}\n",
    "\n",
    "\n",
    "def gen_grid(prefix):\n",
    "    return [knot_hash(b\"%s-%d\" % (prefix, i)) for i in range(128)]\n",
    "\n",
    "\n",
    "def count_squares(grid):\n",
    "    return sum(hextobitcount[h] for row in grid for h in row)\n",
    "\n",
    "\n",
    "def bitset(row, bit):\n",
    "    byte, bit = bit // 8, bit % 8\n",
    "    return (bytes.fromhex(row)[byte] & (1 << (7 - bit))) != 0\n",
    "\n",
    "\n",
    "directions = ((-1, 0), (0, -1), (1, 0), (0, 1))\n",
    "\n",
    "\n",
    "def fill_region(r, c, grid, handled, directions=directions):\n",
    "    queue = deque([(r, c)])\n",
    "    handled[r, c] = True\n",
    "    while queue:\n",
    "        r, c = queue.popleft()\n",
    "        for dr, dc in directions:\n",
    "            nr, nc = r + dr, c + dc\n",
    "            if not 0 <= nr < 128 or not 0 <= nc < 128:\n",
    "                continue\n",
    "            if not handled[nr, nc] and bitset(grid[nr], nc):\n",
    "                handled[nr, nc] = True\n",
    "                queue.append((nr, nc))\n",
    "\n",
    "\n",
    "def find_regions(grid):\n",
    "    handled = np.zeros((128, 128), dtype=bool)\n",
    "    regions = 0\n",
    "    for r, row in enumerate(grid):\n",
    "        for c in range(128):\n",
    "            if not handled[r, c] and bitset(row, c):\n",
    "                regions += 1\n",
    "                fill_region(r, c, grid, handled)\n",
    "    return regions"
   ]
  },
  {
   "cell_type": "code",
   "execution_count": 2,
   "metadata": {},
   "outputs": [],
   "source": [
    "test = gen_grid(b\"flqrgnkx\")\n",
    "assert count_squares(test) == 8108\n",
    "assert find_regions(test) == 1242"
   ]
  },
  {
   "cell_type": "code",
   "execution_count": 3,
   "metadata": {},
   "outputs": [],
   "source": [
    "import aocd\n",
    "\n",
    "data = aocd.get_data(day=14, year=2017)\n",
    "grid = gen_grid(data.encode(\"ascii\"))"
   ]
  },
  {
   "cell_type": "code",
   "execution_count": 4,
   "metadata": {},
   "outputs": [
    {
     "name": "stdout",
     "output_type": "stream",
     "text": [
      "Part 1: 8216\n"
     ]
    }
   ],
   "source": [
    "print(\"Part 1:\", count_squares(grid))"
   ]
  },
  {
   "cell_type": "code",
   "execution_count": 5,
   "metadata": {},
   "outputs": [
    {
     "name": "stdout",
     "output_type": "stream",
     "text": [
      "Part 2: 1139\n"
     ]
    }
   ],
   "source": [
    "print(\"Part 2:\", find_regions(grid))"
   ]
  }
 ],
 "metadata": {
  "kernelspec": {
   "display_name": "Python 3",
   "language": "python",
   "name": "python3"
  },
  "language_info": {
   "codemirror_mode": {
    "name": "ipython",
    "version": 3
   },
   "file_extension": ".py",
   "mimetype": "text/x-python",
   "name": "python",
   "nbconvert_exporter": "python",
   "pygments_lexer": "ipython3",
   "version": "3.12.0"
  }
 },
 "nbformat": 4,
 "nbformat_minor": 2
}
