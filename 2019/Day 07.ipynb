{
 "cells": [
  {
   "cell_type": "markdown",
   "metadata": {
    "tags": [
     "noexport"
    ]
   },
   "source": [
    "# Day 07 - Chained Intcode CPUs\n",
    "\n",
    "More Intcode shenanigans. I've extracted my Intcode interpreter from [day 5](./Day%2005.ipynb) into a separate module, [`intcode`](./intcode.py) so we can reuse it here and, as I suspect, in later puzzles.\n",
    "\n",
    "We start with a simple brute-force approach to connecting 5 CPUs in series."
   ]
  },
  {
   "cell_type": "code",
   "execution_count": 1,
   "metadata": {},
   "outputs": [],
   "source": [
    "from __future__ import annotations\n",
    "from itertools import permutations\n",
    "from typing import Iterable, List, Tuple\n",
    "\n",
    "from intcode import ioset, CPU, Memory\n",
    "\n",
    "def maximize_thrust(memory: Memory):\n",
    "    thrusts = []\n",
    "    for inputs in permutations(range(5)):\n",
    "        thrust = 0\n",
    "        for inp in inputs:\n",
    "            outputs, intset = ioset(inp, thrust)\n",
    "            cpu = CPU(intset)\n",
    "            cpu.reset(memory).execute()\n",
    "            thrust = outputs[0]\n",
    "            thrusts.append(thrust)\n",
    "    return max(thrusts)\n",
    "\n",
    "part1_tests = (\n",
    "    (\n",
    "        [3, 15, 3, 16, 1002, 16, 10, 16, 1, 16, 15, 15, 4, 15, 99, 0, 0],\n",
    "        43210,\n",
    "    ),\n",
    "    (\n",
    "        [\n",
    "            3, 23, 3, 24, 1002, 24, 10, 24, 1002, 23, -1, 23,\n",
    "            101, 5, 23, 23, 1, 24, 23, 23, 4, 23, 99, 0, 0\n",
    "        ],\n",
    "        54321,\n",
    "    ),\n",
    "    (\n",
    "        [\n",
    "            3, 31, 3, 32, 1002, 32, 10, 32, 1001, 31, -2, 31,\n",
    "            1007, 31, 0, 33, 1002, 33, 7, 33, 1, 33, 31, 31,\n",
    "            1, 32, 31, 31, 4, 31, 99, 0, 0, 0\n",
    "        ],\n",
    "        65210,\n",
    "    ),\n",
    ")\n",
    "for testmem, expected in part1_tests:\n",
    "    assert maximize_thrust(testmem) == expected"
   ]
  },
  {
   "cell_type": "code",
   "execution_count": 2,
   "metadata": {
    "tags": [
     "noexport"
    ]
   },
   "outputs": [],
   "source": [
    "import aocd\n",
    "data = aocd.get_data(day=7, year=2019)\n",
    "memory = list(map(int, data.split(',')))"
   ]
  },
  {
   "cell_type": "code",
   "execution_count": 3,
   "metadata": {
    "tags": [
     "noexport"
    ]
   },
   "outputs": [
    {
     "name": "stdout",
     "output_type": "stream",
     "text": [
      "Part 1: 17440\n"
     ]
    }
   ],
   "source": [
    "print(\"Part 1:\", maximize_thrust(memory))"
   ]
  },
  {
   "cell_type": "markdown",
   "metadata": {
    "tags": [
     "noexport"
    ]
   },
   "source": [
    "## Part 2, co-operative cpus\n",
    "\n",
    "Now we have to execute the CPUs in series *and pause them* as they wait for more input from the preceding CPU. That's because amplifier A can't continue until amplifier E has produced output. This is just like Python generators, pausing and resuming as you iterate.\n",
    "\n",
    "I'm pausing my CPUs by raising an exception in the input instruction when there is no input available yet. This leaves the CPU state in-tact, in that the execution pointer stays at the same position. Calling `cpu.execute()` another time will re-execute the input instruction, continuing where we left off.\n",
    "\n",
    "I updated by `intcode` module to accept any iterable as the input buffer, and created a `ChainedInput` class that implements the iterator protocol and raises a custom `AwaitingInput` exception. I can't use regular list and `next(iter(...))`, because once you've reached the end of the list (no inputs avalibale), the list iterator raises `StopIteration` and will continue to do so even if you were to append new values. This is exactly what the list iterator *should* do, as per the [iterators specification (PEP 234)](https://www.python.org/dev/peps/pep-0234/). Once an iterator is done, it stays done."
   ]
  },
  {
   "cell_type": "code",
   "execution_count": null,
   "metadata": {},
   "outputs": [],
   "source": [
    "from collections import deque\n",
    "from typing import Deque, Iterator, List, Sequence\n",
    "\n",
    "class AwaitingInput(Exception):\n",
    "    \"\"\"Raised when a CPU is awaiting input\"\"\"\n",
    "\n",
    "class ChainedInput(Iterator[int]):\n",
    "    buffer: List[int]\n",
    "    pos: int\n",
    "\n",
    "    def __init__(self, buffer: List[int]) -> None:\n",
    "        self.buffer = buffer\n",
    "        self.pos = 0\n",
    "    \n",
    "    def __repr__(self):\n",
    "        state = \"(waiting)\" if self.pos >= len(self.buffer) else f\"[{self.buffer[self.pos]}]\"\n",
    "        return f\"<ChainedInput({self.buffer!r}) {state}>\"\n",
    "\n",
    "    def __iter__(self) -> ChainedInput:\n",
    "        return self\n",
    "\n",
    "    def __next__(self) -> int:\n",
    "        if self.pos >= len(self.buffer):\n",
    "            raise AwaitingInput\n",
    "        value, self.pos = self.buffer[self.pos], self.pos + 1\n",
    "        return value\n",
    "\n",
    "def run_chained(settings: Sequence[int], memory: Memory) -> int:\n",
    "    inputs: List[ChainedInput] = []\n",
    "    output: List[int] = []\n",
    "    amps: List[CPU] = []\n",
    "    for setting in settings:\n",
    "        inp = ChainedInput(output)\n",
    "        inp.buffer.append(setting)\n",
    "        inputs.append(inp)\n",
    "        output, intset = ioset(inp)\n",
    "        cpu = CPU(intset).reset(memory)\n",
    "        amps.append(cpu)\n",
    "        \n",
    "    # connect up the output of amp[e] to the input of amp[a]\n",
    "    output_e = inputs[0].buffer = output\n",
    "    # set initial input\n",
    "    inputs[0].buffer += (settings[0], 0)\n",
    "\n",
    "    # run all amplifier CPUs, until we reach the halt stage.\n",
    "    # note: make sure to execute all the amps before deciding\n",
    "    # we are done, not when the first amp halts.\n",
    "    halted = False\n",
    "    while not halted:\n",
    "        for amp in amps:\n",
    "            try:\n",
    "                amp.execute()\n",
    "            except AwaitingInput:\n",
    "                pass\n",
    "            else:\n",
    "                halted = True\n",
    "    return output_e[-1]\n",
    "\n",
    "def maximize_chained_thrust(memory: Memory):\n",
    "    thrusts = []\n",
    "    for inputs in permutations(range(5, 10)):\n",
    "        thrusts.append(run_chained(inputs, memory))\n",
    "    return max(thrusts)\n",
    "\n",
    "part2_tests = (\n",
    "    (\n",
    "        [\n",
    "            3, 26, 1001, 26, -4, 26, 3, 27, 1002, 27, 2, 27,\n",
    "            1, 27, 26, 27, 4, 27, 1001, 28, -1, 28, 1005, 28, 6,\n",
    "            99, 0, 0, 5\n",
    "        ],\n",
    "        139629729,\n",
    "    ),\n",
    "    (\n",
    "        [\n",
    "            3, 52, 1001, 52, -5, 52, 3, 53, 1, 52, 56, 54,\n",
    "            1007, 54, 5, 55, 1005, 55, 26, 1001, 54, -5, 54,\n",
    "            1105, 1, 12, 1, 53, 54, 53, 1008, 54, 0, 55,\n",
    "            1001, 55, 1, 55, 2, 53, 55, 53, 4, 53, 1001, 56, -1, 56,\n",
    "            1005, 56, 6, 99, 0, 0, 0, 0, 10\n",
    "        ],\n",
    "        18216\n",
    "    ),\n",
    ")\n",
    "for testmem, expected in part2_tests:\n",
    "    assert maximize_chained_thrust(testmem) == expected"
   ]
  },
  {
   "cell_type": "code",
   "execution_count": null,
   "metadata": {
    "tags": [
     "noexport"
    ]
   },
   "outputs": [],
   "source": [
    "print(\"Part 2:\", maximize_chained_thrust(memory))"
   ]
  }
 ],
 "metadata": {
  "kernelspec": {
   "display_name": "Python 3",
   "language": "python",
   "name": "python3"
  },
  "language_info": {
   "codemirror_mode": {
    "name": "ipython",
    "version": 3
   },
   "file_extension": ".py",
   "mimetype": "text/x-python",
   "name": "python",
   "nbconvert_exporter": "python",
   "pygments_lexer": "ipython3",
   "version": "3.8.0"
  }
 },
 "nbformat": 4,
 "nbformat_minor": 2
}
