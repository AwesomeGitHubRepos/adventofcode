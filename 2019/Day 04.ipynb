{
 "cells": [
  {
   "cell_type": "markdown",
   "metadata": {},
   "source": [
    "# Day 4 - brute-force password generation\n",
    "\n",
    "Because the digits must be the same or increase, the number of combinations is fairly limited. The total number of such 'passwords' is a [*6-simplex polytopic numbers*](https://en.wikipedia.org/wiki/Figurate_number#Triangular_numbers), the value of which can be calculated as\n",
    "\n",
    "$$\\dbinom{10 + 6 - 1}{6} = \\dbinom{15}{6} = 5005$$\n",
    "\n",
    "(where `10` is the number of digits and `6` the number of dimensions). We can easily brute-force this by generating all the possible combinations of increasing digits, using a recursive loop over a digits string (which we shorten for the next recursive call to ensure digits only increase).\n",
    "\n",
    "The passwords can then be checked to be within the low-high value range, and the number of unique digits needs to be less than 6 for digits to have repeated."
   ]
  },
  {
   "cell_type": "code",
   "execution_count": 1,
   "metadata": {},
   "outputs": [],
   "source": [
    "from __future__ import annotations\n",
    "from typing import Callable, Iterable\n",
    "\n",
    "Checker = Callable[[int], bool]\n",
    "\n",
    "def produce(n: int = 6, digits: str = '0123456789') -> Iterable[str]:\n",
    "    if n == 0:\n",
    "        yield ''\n",
    "        return\n",
    "    for i, d in enumerate(digits):\n",
    "        for remainder in produce(n - 1, digits[i:]):\n",
    "            yield d + remainder\n",
    "\n",
    "def password_checker_factory(lo: int, hi: int) -> Checker:\n",
    "    def is_valid(pw: int) -> bool:\n",
    "        return (lo <= pw <= hi) and len(set(str(pw))) < 6\n",
    "    return is_valid\n",
    "\n",
    "def count_valid(checker: Checker) -> int:\n",
    "    return sum(1 for _ in filter(checker, map(int, produce())))\n",
    "\n",
    "tests = {\n",
    "    (111111, 111111): 1,\n",
    "    (223450, 223450): 0,\n",
    "    (123789, 123789): 0,\n",
    "}\n",
    "for (lo, hi), expected in tests.items():\n",
    "    assert count_valid(password_checker_factory(lo, hi)) == expected"
   ]
  },
  {
   "cell_type": "code",
   "execution_count": 2,
   "metadata": {},
   "outputs": [
    {
     "name": "stdout",
     "output_type": "stream",
     "text": [
      "Part 1: 1764\n"
     ]
    }
   ],
   "source": [
    "import aocd\n",
    "lo, hi = map(int, aocd.get_data(day=4, year=2019).strip().split(\"-\"))\n",
    "print(\"Part 1:\", count_valid(password_checker_factory(lo, hi)))"
   ]
  },
  {
   "cell_type": "markdown",
   "metadata": {},
   "source": [
    "## Part 2\n",
    "\n",
    "This is just a slightly stricter checker. Instead of the number of unique digits, we need to count consecutive digits and assert there is a group of length 2. This is a job for [`itertools.groupby()`](https://docs.python.org/3/library/itertools.html#itertools.groupby)!"
   ]
  },
  {
   "cell_type": "code",
   "execution_count": 3,
   "metadata": {},
   "outputs": [],
   "source": [
    "from itertools import groupby\n",
    "\n",
    "def stricter_password_checker_factory(lo: int, hi: int) -> Checker:\n",
    "    def has_2_adjacent(pw: int):\n",
    "        return any(sum(1 for _ in g) == 2 for _, g in groupby(str(pw)))\n",
    "    def is_valid(pw: int):\n",
    "        return (lo <= pw <= hi) and has_2_adjacent(pw)\n",
    "    return is_valid\n",
    "\n",
    "\n",
    "strict_tests = {112233: True, 123444: False, 111122: True}\n",
    "for pw, expected in strict_tests.items():\n",
    "    assert stricter_password_checker_factory(pw, pw)(pw) == expected"
   ]
  },
  {
   "cell_type": "code",
   "execution_count": 4,
   "metadata": {},
   "outputs": [
    {
     "name": "stdout",
     "output_type": "stream",
     "text": [
      "Part 2: 1196\n"
     ]
    }
   ],
   "source": [
    "print(\"Part 2:\", count_valid(stricter_password_checker_factory(lo, hi)))"
   ]
  }
 ],
 "metadata": {
  "kernelspec": {
   "display_name": "Python 3",
   "language": "python",
   "name": "python3"
  },
  "language_info": {
   "codemirror_mode": {
    "name": "ipython",
    "version": 3
   },
   "file_extension": ".py",
   "mimetype": "text/x-python",
   "name": "python",
   "nbconvert_exporter": "python",
   "pygments_lexer": "ipython3",
   "version": "3.8.0"
  }
 },
 "nbformat": 4,
 "nbformat_minor": 2
}
