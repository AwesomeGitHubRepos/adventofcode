{
 "cells": [
  {
   "cell_type": "markdown",
   "metadata": {},
   "source": [
    "# Day 12 - Simulation with vectors\n",
    "\n",
    "Part 1 is straight up simulation work; calculate in steps, following the same operations each step.\n",
    "\n",
    "This is a good job for numpy again, where we can represent the vectors for position and velocity for each moon in a 4 x 2 x 3 matrix.\n",
    "\n",
    "Updating the velocities is a question of summing the [signs](https://docs.scipy.org/doc/numpy/reference/generated/numpy.sign.html) of the subtracted positions per moon; e.g. for the starting point of the first example, the $x$ values for the moons are `-1`, `2`, `4` and `3`. So for the first moon, the delta-v for the gravity effect of the other moons is `sign(-1 - 2) + sign(-1 - 4) + sign(-1 - 3)`, which is `-1 + -1 + -1` is `-3`.\n",
    "\n",
    "This is of course easily vectorised, the index `[:, np.newaxis, 0]` gives us the positions of each moon in a 4 x 1 x 3 matrix so we can subtract `[:, 0]`, which is a 4 x 3 matrix of the moon positions. `np.sign()` of that subtraction is then a 4 x 4 x 3 matrix of -1, 0 and 1 values, a 4 x 3 matrix per moon (the 4th vector there is the `[0, 0, 0]`  result of subtraction from itself), so we can sum these across the first axis to the expected 4 x 3 delta-vs."
   ]
  },
  {
   "cell_type": "code",
   "execution_count": 1,
   "metadata": {},
   "outputs": [],
   "source": [
    "from __future__ import annotations\n",
    "import re\n",
    "from io import StringIO\n",
    "from typing import Pattern, Sequence\n",
    "\n",
    "import numpy as np\n",
    "\n",
    "\n",
    "_vec = re.compile(r\"<x=\\s?(?P<x>-?\\d+),\\s*y=\\s?(?P<y>-?\\d+),\\s*z=\\s?(?P<z>-?\\d+)>\")\n",
    "\n",
    "\n",
    "def load_moons(data: str, _vec: Pattern[str] = _vec) -> np.array:\n",
    "    positions = np.fromregex(StringIO(data), _vec, dtype=np.int)\n",
    "    return np.stack((positions, np.zeros(positions.shape, positions.dtype)), axis=1)\n",
    "\n",
    "\n",
    "def step(moons: np.array) -> None:\n",
    "    # calculate the delta-v based on positions, adjust velocities\n",
    "    # the delta is the sum of the signs of the difference between positions\n",
    "    # of each moon relative to the other moons.\n",
    "    moons[:, 1] += np.sign(moons[:, np.newaxis, 0] - moons[:, 0]).sum(axis=0)\n",
    "    # adjust positions\n",
    "    moons[:, 0] += moons[:, 1]\n",
    "        \n",
    "\n",
    "def total_energy(moons: np.array) -> int:\n",
    "    # per moon, the product of the absolute sums of the position and velocity vectors\n",
    "    # so abs(moons) summed over axis 2 (the 2 vector types), then multiplied\n",
    "    # over axis 1 (vector energy per moon), then summed.\n",
    "    return np.abs(moons).sum(axis=2).prod(axis=1).sum()\n",
    "\n",
    "\n",
    "test1_moons = load_moons(\"\"\"\\\n",
    "<x=-1, y=0, z=2>\n",
    "<x=2, y=-10, z=-7>\n",
    "<x=4, y=-8, z=8>\n",
    "<x=3, y=5, z=-1>\n",
    "\"\"\")\n",
    "for _ in range(10):\n",
    "    step(test1_moons)\n",
    "assert total_energy(test1_moons) == 179\n",
    "\n",
    "\n",
    "test2_moons = load_moons(\"\"\"\\\n",
    "<x=-8, y=-10, z=0>\n",
    "<x=5, y=5, z=10>\n",
    "<x=2, y=-7, z=3>\n",
    "<x=9, y=-8, z=-3>\n",
    "\"\"\")\n",
    "for _ in range(100):\n",
    "    step(test2_moons)\n",
    "assert total_energy(test2_moons) == 1940"
   ]
  },
  {
   "cell_type": "code",
   "execution_count": 2,
   "metadata": {},
   "outputs": [],
   "source": [
    "import aocd\n",
    "moons = load_moons(aocd.get_data(day=12, year=2019))"
   ]
  },
  {
   "cell_type": "code",
   "execution_count": 3,
   "metadata": {},
   "outputs": [
    {
     "name": "stdout",
     "output_type": "stream",
     "text": [
      "Part 1: 10028\n"
     ]
    }
   ],
   "source": [
    "energy_moons = moons.copy()\n",
    "for _ in range(1000):\n",
    "    step(energy_moons)\n",
    "print(\"Part 1:\", total_energy(energy_moons))"
   ]
  },
  {
   "cell_type": "markdown",
   "metadata": {},
   "source": [
    "## Part 2 - finding the cycles\n",
    "\n",
    "Part 1 was simple enough; 1000 steps of simulation is trivial enough. While numpy vectorised operations are very efficient, I somehow think we won't get to solve part 2 using brute force.\n",
    "\n",
    "But... the $x$, $y$ and $z$ components of our system are entirely independent. They must each have their own periodicity, and so the system *as a whole* will repeat at the next common multiple for the periods of each dimension.\n",
    "\n",
    "I've inlined the `step()` calculations as we are still going to have to run our simulation a few hundred-thousand  times. I'm running the simulation on all dimensions as a whole but look for the cycles across each dimension. The cycles lie too close together for removing dimensions from the calculations once a cycle has been found for it to help improve speeds. Calculating part 2 takes a little under 7 seconds with this approach, complicating matters by using `np.delete()` only saves about 400ms."
   ]
  },
  {
   "cell_type": "code",
   "execution_count": 4,
   "metadata": {},
   "outputs": [],
   "source": [
    "from itertools import count\n",
    "\n",
    "def find_cycle(moons: nd.array) -> int:\n",
    "    # caches, to avoid repeated lookups of globals\n",
    "    sign, newaxis, array_equal = np.sign, np.newaxis, np.array_equal\n",
    "\n",
    "    sim = moons.copy()\n",
    "    dims = list(reversed(range(moons.shape[-1])))\n",
    "    period = 1\n",
    "\n",
    "    for i in count(1):\n",
    "        # inlined from step() for better speed\n",
    "        sim[:, 1] += sign(sim[:, newaxis, 0] - sim[:, 0]).sum(axis=0)\n",
    "        sim[:, 0] += sim[:, 1]\n",
    "\n",
    "        for d in dims:\n",
    "            if array_equal(sim[..., d], moons[..., d]):\n",
    "                period = np.lcm(period, i)\n",
    "                dims.remove(d)\n",
    "                if not dims:\n",
    "                    return period\n",
    "\n",
    "\n",
    "tests = {\n",
    "    \"<x=-1, y=0, z=2>\\n<x=2, y=-10, z=-7>\\n<x=4, y=-8, z=8>\\n<x=3, y=5, z=-1>\": 2772,\n",
    "    \"<x=-8, y=-10, z=0>\\n<x=5, y=5, z=10>\\n<x=2, y=-7, z=3>\\n<x=9, y=-8, z=-3>\": 4686774924,\n",
    "}\n",
    "\n",
    "for testspec, expected in tests.items():\n",
    "    assert find_cycle(load_moons(testspec)) == expected"
   ]
  },
  {
   "cell_type": "code",
   "execution_count": 5,
   "metadata": {},
   "outputs": [
    {
     "name": "stdout",
     "output_type": "stream",
     "text": [
      "Part 2: 314610635824376\n"
     ]
    }
   ],
   "source": [
    "print(\"Part 2:\", find_cycle(moons))"
   ]
  }
 ],
 "metadata": {
  "kernelspec": {
   "display_name": "Python 3",
   "language": "python",
   "name": "python3"
  },
  "language_info": {
   "codemirror_mode": {
    "name": "ipython",
    "version": 3
   },
   "file_extension": ".py",
   "mimetype": "text/x-python",
   "name": "python",
   "nbconvert_exporter": "python",
   "pygments_lexer": "ipython3",
   "version": "3.8.0"
  }
 },
 "nbformat": 4,
 "nbformat_minor": 2
}
