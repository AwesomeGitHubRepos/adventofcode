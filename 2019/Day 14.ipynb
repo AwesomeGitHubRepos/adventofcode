{
 "cells": [
  {
   "cell_type": "markdown",
   "metadata": {},
   "source": [
    "# Day 14 - Dependency graph substitutions\n",
    "\n",
    "- https://adventofcode.com/2019/day/14\n",
    "\n",
    "Our task today is to find the best substitutions to come up with the least amount of ore we need. This is a dependency graph, but with the twist of having to find substitutions in what amounts to be a constrained equation ($O\\cdot{ore} >= F\\cdot{feul}$).\n",
    "\n",
    "We can keep track of how many input we still need to find reactions for, subtracting reactions as long as we haven't yet satisfied all the inputs. This can and should lead to negative numbers in the 'needs' column, where we produced too much of a specific output!\n"
   ]
  },
  {
   "cell_type": "code",
   "execution_count": 1,
   "metadata": {},
   "outputs": [],
   "source": [
    "from __future__ import annotations\n",
    "\n",
    "from collections import defaultdict\n",
    "from dataclasses import dataclass\n",
    "from math import ceil\n",
    "from typing import Dict, Iterable, Tuple, cast\n",
    "\n",
    "Symbol = str\n",
    "\n",
    "\n",
    "@dataclass\n",
    "class Reaction:\n",
    "    # output this produces\n",
    "    symbol: Symbol\n",
    "    quantity: int\n",
    "    inputs: Dict[Symbol, int]\n",
    "\n",
    "    @classmethod\n",
    "    def from_line(cls, line: str) -> Reaction:\n",
    "        inputs, output = map(str.strip, line.split(\"=>\"))\n",
    "\n",
    "        def symbol_quantity(s: str) -> Tuple[Symbol, int]:\n",
    "            q, sym = map(str.strip, s.split())\n",
    "            return cast(Symbol, sym), int(q)\n",
    "\n",
    "        return cls(\n",
    "            *symbol_quantity(output),\n",
    "            dict(symbol_quantity(s) for s in inputs.split(\",\")),\n",
    "        )\n",
    "\n",
    "\n",
    "Reactions = Dict[Symbol, Reaction]\n",
    "\n",
    "\n",
    "def read_reactions(lines: Iterable[str]) -> Reactions:\n",
    "    return {reaction.symbol: reaction for reaction in map(Reaction.from_line, lines)}\n",
    "\n",
    "\n",
    "def minimum_ore(reactions: Reactions, fuel: int = 1) -> int:\n",
    "    need = defaultdict(int)\n",
    "    need[\"FUEL\"] = fuel\n",
    "    while any((symbol := k) for k, v in need.items() if k != \"ORE\" and v > 0):\n",
    "        reaction, needed = reactions[symbol], need[symbol]\n",
    "        multiplier = ceil(needed / reaction.quantity)\n",
    "        for input, quantity in reaction.inputs.items():\n",
    "            need[input] += multiplier * quantity\n",
    "        need[symbol] -= reaction.quantity * multiplier\n",
    "\n",
    "    return need[\"ORE\"]\n",
    "\n",
    "\n",
    "tests = {\n",
    "    (\n",
    "        \"9 ORE => 2 A\\n8 ORE => 3 B\\n7 ORE => 5 C\\n3 A, 4 B => 1 AB\\n5 B, 7 C => 1 BC\\n\"\n",
    "        \"4 C, 1 A => 1 CA\\n2 AB, 3 BC, 4 CA => 1 FUEL\"\n",
    "    ): 165,\n",
    "    (\n",
    "        \"157 ORE => 5 NZVS\\n165 ORE => 6 DCFZ\\n44 XJWVT, 5 KHKGT, 1 QDVJ, 29 NZVS, 9 GPVTF, 48 HKGWZ => 1 FUEL\\n\"\n",
    "        \"12 HKGWZ, 1 GPVTF, 8 PSHF => 9 QDVJ\\n179 ORE => 7 PSHF\\n177 ORE => 5 HKGWZ\\n7 DCFZ, 7 PSHF => 2 XJWVT\\n\"\n",
    "        \"165 ORE => 2 GPVTF\\n3 DCFZ, 7 NZVS, 5 HKGWZ, 10 PSHF => 8 KHKGT\\n\"\n",
    "    ): 13312,\n",
    "    (\n",
    "        \"2 VPVL, 7 FWMGM, 2 CXFTF, 11 MNCFX => 1 STKFG\\n17 NVRVD, 3 JNWZP => 8 VPVL\\n\"\n",
    "        \"53 STKFG, 6 MNCFX, 46 VJHF, 81 HVMC, 68 CXFTF, 25 GNMV => 1 FUEL\\n22 VJHF, 37 MNCFX => 5 FWMGM\\n\"\n",
    "        \"139 ORE => 4 NVRVD\\n144 ORE => 7 JNWZP\\n5 MNCFX, 7 RFSQX, 2 FWMGM, 2 VPVL, 19 CXFTF => 3 HVMC\\n\"\n",
    "        \"5 VJHF, 7 MNCFX, 9 VPVL, 37 CXFTF => 6 GNMV\\n145 ORE => 6 MNCFX\\n1 NVRVD => 8 CXFTF\\n\"\n",
    "        \"1 VJHF, 6 MNCFX => 4 RFSQX\\n176 ORE => 6 VJHF\\n\"\n",
    "    ): 180697,\n",
    "    (\n",
    "        \"171 ORE => 8 CNZTR\\n7 ZLQW, 3 BMBT, 9 XCVML, 26 XMNCP, 1 WPTQ, 2 MZWV, 1 RJRHP => 4 PLWSL\\n\"\n",
    "        \"114 ORE => 4 BHXH\\n14 VRPVC => 6 BMBT\\n6 BHXH, 18 KTJDG, 12 WPTQ, 7 PLWSL, 31 FHTLT, 37 ZDVW => 1 FUEL\\n\"\n",
    "        \"6 WPTQ, 2 BMBT, 8 ZLQW, 18 KTJDG, 1 XMNCP, 6 MZWV, 1 RJRHP => 6 FHTLT\\n\"\n",
    "        \"15 XDBXC, 2 LTCX, 1 VRPVC => 6 ZLQW\\n13 WPTQ, 10 LTCX, 3 RJRHP, 14 XMNCP, 2 MZWV, 1 ZLQW => 1 ZDVW\\n\"\n",
    "        \"5 BMBT => 4 WPTQ\\n189 ORE => 9 KTJDG\\n1 MZWV, 17 XDBXC, 3 XCVML => 2 XMNCP\\n\"\n",
    "        \"12 VRPVC, 27 CNZTR => 2 XDBXC\\n15 KTJDG, 12 BHXH => 5 XCVML\\n3 BHXH, 2 VRPVC => 7 MZWV\\n\"\n",
    "        \"121 ORE => 7 VRPVC\\n7 XCVML => 6 RJRHP\\n5 BHXH, 4 VRPVC => 5 LTCX\"\n",
    "    ): 2210736,\n",
    "}\n",
    "for testinput, expected in tests.items():\n",
    "    assert minimum_ore(read_reactions(testinput.splitlines())) == expected"
   ]
  },
  {
   "cell_type": "code",
   "execution_count": 2,
   "metadata": {},
   "outputs": [],
   "source": [
    "import aocd\n",
    "\n",
    "data = aocd.get_data(day=14, year=2019)\n",
    "reactions = read_reactions(data.splitlines())"
   ]
  },
  {
   "cell_type": "code",
   "execution_count": 3,
   "metadata": {},
   "outputs": [
    {
     "name": "stdout",
     "output_type": "stream",
     "text": [
      "Part 1: 1920219\n"
     ]
    }
   ],
   "source": [
    "print(\"Part 1:\", minimum_ore(reactions))"
   ]
  },
  {
   "cell_type": "markdown",
   "metadata": {},
   "source": [
    "## Part 2 - maximizing fuel production\n",
    "\n",
    "We already have a way to calculate how much ore we need for 1 fuel unit; all we have to do now is ask for more, until we know that we can't produce 'that much'. The trick is to get to `maxfuel + 1` quickly.\n",
    "\n",
    "Luckily, there is a direct relationship between ore input and fuel output; we can take the ratio between how much we needed for our current attempt, and the maximum, and use that to increment our fuel guess. Then add 1 to see if that's too much. Note that as we get close, we might actually _decrease_ our guess, so we need to make sure we don't actually go down (by using `max(..., fuel)`.\n"
   ]
  },
  {
   "cell_type": "code",
   "execution_count": 4,
   "metadata": {},
   "outputs": [],
   "source": [
    "ORE: int = 10**12\n",
    "\n",
    "\n",
    "def maximum_fuel(reactions: Reactions) -> int:\n",
    "    fuel = 2\n",
    "    while (needed := minimum_ore(reactions, fuel)) <= ORE:\n",
    "        fuel = max(fuel * ORE // needed, fuel) + 1\n",
    "    return fuel - 1\n",
    "\n",
    "\n",
    "part2_tests = {\n",
    "    # minimum from part 1 test: expected\n",
    "    13312: 82892753,\n",
    "    180697: 5586022,\n",
    "    2210736: 460664,\n",
    "}\n",
    "for testinput, minimum in tests.items():\n",
    "    expected = part2_tests.get(minimum)\n",
    "    if not expected:\n",
    "        continue\n",
    "    assert maximum_fuel(read_reactions(testinput.splitlines())) == expected"
   ]
  },
  {
   "cell_type": "code",
   "execution_count": 5,
   "metadata": {},
   "outputs": [
    {
     "name": "stdout",
     "output_type": "stream",
     "text": [
      "Part 2: 1330066\n"
     ]
    }
   ],
   "source": [
    "print(\"Part 2:\", maximum_fuel(reactions))"
   ]
  }
 ],
 "metadata": {
  "kernelspec": {
   "display_name": "Python 3",
   "language": "python",
   "name": "python3"
  },
  "language_info": {
   "codemirror_mode": {
    "name": "ipython",
    "version": 3
   },
   "file_extension": ".py",
   "mimetype": "text/x-python",
   "name": "python",
   "nbconvert_exporter": "python",
   "pygments_lexer": "ipython3",
   "version": "3.12.0"
  }
 },
 "nbformat": 4,
 "nbformat_minor": 2
}
