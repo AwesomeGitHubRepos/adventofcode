{
 "cells": [
  {
   "cell_type": "markdown",
   "metadata": {},
   "source": [
    "# Day 8 - building a simple image\n",
    "\n",
    "* https://adventofcode.com/2019/day/8\n",
    "\n",
    "This is mostly an 'iterate over data in chunks' task; the image is 25 x 6, we are given the data in layers, so we want to process the data in 25 x 6 == 150 integers at a time.\n",
    "\n",
    "For part 1, we then put each layer through a `Counter` so we can select the layer with the lowest zero count, and then take the *1* and *2* counts to multiply them.\n",
    "\n",
    "For part 2, we can then iterate over the layers to combine them into a merged image and display the data in rows of 25, another chunked iteration."
   ]
  },
  {
   "cell_type": "code",
   "execution_count": 1,
   "metadata": {},
   "outputs": [],
   "source": [
    "import aocd\n",
    "data = list(map(int, aocd.get_data(day=8, year=2019)))"
   ]
  },
  {
   "cell_type": "code",
   "execution_count": 2,
   "metadata": {},
   "outputs": [],
   "source": [
    "from typing import Iterable, Sequence, TypeVar\n",
    "\n",
    "T = TypeVar(\"T\")\n",
    "\n",
    "W, H = 25, 6\n",
    "\n",
    "def per_n(s: Sequence[T], n: int) -> Iterable[Sequence[T]]:\n",
    "    return (s[i : i + n] for i in range(0, len(s), n))"
   ]
  },
  {
   "cell_type": "code",
   "execution_count": 3,
   "metadata": {},
   "outputs": [
    {
     "name": "stdout",
     "output_type": "stream",
     "text": [
      "2500\n"
     ]
    }
   ],
   "source": [
    "from collections import Counter\n",
    "layercounts = [Counter(layer) for layer in per_n(data, W * H)]\n",
    "least0 = min(layercounts, key=lambda c: c[0])\n",
    "print(least0[1] * least0[2])"
   ]
  },
  {
   "cell_type": "code",
   "execution_count": 4,
   "metadata": {},
   "outputs": [
    {
     "name": "stdout",
     "output_type": "stream",
     "text": [
      "█░░██░███░░██░██░░██░██░█\n",
      "░██░█░███░░██░█░██░█░██░█\n",
      "░█████░█░█░██░█░██░█░░░░█\n",
      "░██████░██░██░█░░░░█░██░█\n",
      "░██░███░██░██░█░██░█░██░█\n",
      "█░░████░███░░██░██░█░██░█\n"
     ]
    }
   ],
   "source": [
    "# construct image; 2 means we ignore the pixel and look at the next layer value\n",
    "merged = [2] * W * H\n",
    "for layer in per_n(data, W * H):\n",
    "    merged = [a if a != 2 else b for a, b in zip(merged, layer)]\n",
    "\n",
    "# display image, using Unicode block elements\n",
    "# https://en.wikipedia.org/wiki/Block_Elements\n",
    "# U+2588 FULL BLOCK\n",
    "# U+2591 LIGHT SHADE\n",
    "image_chars = ['\\N{FULL BLOCK}\\N{LIGHT SHADE}'[p] for p in merged]\n",
    "image = '\\n'.join([\"\".join(line) for line in per_n(image_chars, W)])\n",
    "\n",
    "print(image)"
   ]
  }
 ],
 "metadata": {
  "kernelspec": {
   "display_name": "Python 3",
   "language": "python",
   "name": "python3"
  },
  "language_info": {
   "codemirror_mode": {
    "name": "ipython",
    "version": 3
   },
   "file_extension": ".py",
   "mimetype": "text/x-python",
   "name": "python",
   "nbconvert_exporter": "python",
   "pygments_lexer": "ipython3",
   "version": "3.8.0"
  }
 },
 "nbformat": 4,
 "nbformat_minor": 2
}
