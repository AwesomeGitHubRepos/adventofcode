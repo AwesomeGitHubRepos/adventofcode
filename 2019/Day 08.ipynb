{
 "cells": [
  {
   "cell_type": "code",
   "execution_count": 10,
   "metadata": {},
   "outputs": [],
   "source": [
    "import aocd\n",
    "data = list(map(int, aocd.get_data(day=8, year=2019)))\n",
    "layers = [data[i : i + 150] for i in range(0, len(data), 150)]"
   ]
  },
  {
   "cell_type": "code",
   "execution_count": 11,
   "metadata": {},
   "outputs": [
    {
     "name": "stdout",
     "output_type": "stream",
     "text": [
      "2500\n"
     ]
    }
   ],
   "source": [
    "from collections import Counter\n",
    "layercounts = [Counter(layer) for layer in layers]\n",
    "least0 = min(layercounts, key=lambda c: c[0])\n",
    "print(least0[1] * least0[2])"
   ]
  },
  {
   "cell_type": "code",
   "execution_count": 21,
   "metadata": {},
   "outputs": [
    {
     "name": "stdout",
     "output_type": "stream",
     "text": [
      "█░░██░███░░██░██░░██░██░█\n",
      "░██░█░███░░██░█░██░█░██░█\n",
      "░█████░█░█░██░█░██░█░░░░█\n",
      "░██████░██░██░█░░░░█░██░█\n",
      "░██░███░██░██░█░██░█░██░█\n",
      "█░░████░███░░██░██░█░██░█\n"
     ]
    }
   ],
   "source": [
    "image = [2] * 150\n",
    "for layer in layers:\n",
    "    image = [a if a != 2 else b for a, b in zip(image, layer)]\n",
    "image = ['\\u2588\\u2591'[p] for p in image]\n",
    "image = '\\n'.join(\"\".join(image[i : i + 25]) for i in range(0, len(image), 25))\n",
    "print(image)"
   ]
  }
 ],
 "metadata": {
  "kernelspec": {
   "display_name": "Python 3",
   "language": "python",
   "name": "python3"
  },
  "language_info": {
   "codemirror_mode": {
    "name": "ipython",
    "version": 3
   },
   "file_extension": ".py",
   "mimetype": "text/x-python",
   "name": "python",
   "nbconvert_exporter": "python",
   "pygments_lexer": "ipython3",
   "version": "3.8.0"
  }
 },
 "nbformat": 4,
 "nbformat_minor": 2
}
