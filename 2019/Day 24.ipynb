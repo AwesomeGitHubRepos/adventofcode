{
 "cells": [
  {
   "cell_type": "markdown",
   "metadata": {},
   "source": [
    "# Day 24 - Cellular automaton\n",
    "\n",
    "We are back to [cellar automatons](https://en.wikipedia.org/wiki/Cellular_automaton), in a finite 2D grid, just like [day 18 of 2018](../2018/Day%2018.ipynb). I'll use similar techniques, with [`scipy.signal.convolve2d()`](https://docs.scipy.org/doc/scipy-0.18.1/reference/generated/scipy.signal.convolve2d.html)  to turn neighbor counts into the next state. Our state is simpler, a simple on or off so we can use simple boolean selections here."
   ]
  },
  {
   "cell_type": "code",
   "execution_count": 1,
   "metadata": {},
   "outputs": [],
   "source": [
    "from __future__ import annotations\n",
    "from typing import Set, Sequence, Tuple\n",
    "\n",
    "import numpy as np\n",
    "from scipy.signal import convolve2d\n",
    "\n",
    "\n",
    "def readmap(maplines: Sequence[str]) -> np.array:\n",
    "    return np.array([\n",
    "        c == \"#\" for line in maplines for c in line\n",
    "    ]).reshape((5, -1))\n",
    "\n",
    "def biodiversity_rating(matrix: np.array) -> int:\n",
    "    # bits -> bytes\n",
    "    uint8 = np.packbits(matrix.reshape((-1)), bitorder='little')\n",
    "    # bytes -> single int by multiplying with powers of 256, then summing\n",
    "    return (uint8 * np.logspace(0, 3, num=4, base=256, dtype=np.uint)).sum()\n",
    "\n",
    "def find_repeat(matrix: np.array) -> int:\n",
    "    # the four adjacent tiles matter, not the diagonals\n",
    "    kernel = np.array([[0, 1, 0], [1, 0, 1], [0, 1, 0]])\n",
    "    # previous states seen (matrix flattened to a tuple)\n",
    "    seen: Set[Tuple] = set()\n",
    "    while True:\n",
    "        counts = convolve2d(matrix, kernel, mode='same')\n",
    "        matrix = (\n",
    "            # A bug dies (becoming an empty space) unless there is exactly one bug adjacent to it.\n",
    "            (matrix & (counts == 1)) |\n",
    "            # An empty space becomes infested with a bug if exactly one or two bugs are adjacent to it.\n",
    "            (~matrix & ((counts == 1) | (counts == 2)))\n",
    "        )\n",
    "        key = tuple(matrix.flatten())\n",
    "        if key in seen:\n",
    "            return biodiversity_rating(matrix)\n",
    "        seen.add(key)\n",
    "\n",
    "test_matrix = readmap(\"\"\"\\\n",
    "....#\n",
    "#..#.\n",
    "#..##\n",
    "..#..\n",
    "#....\"\"\".splitlines())\n",
    "assert find_repeat(test_matrix) == 2129920"
   ]
  },
  {
   "cell_type": "code",
   "execution_count": 2,
   "metadata": {},
   "outputs": [],
   "source": [
    "import aocd\n",
    "data = aocd.get_data(day=24, year=2019)\n",
    "erismap = readmap(data.splitlines())"
   ]
  },
  {
   "cell_type": "code",
   "execution_count": 3,
   "metadata": {},
   "outputs": [
    {
     "name": "stdout",
     "output_type": "stream",
     "text": [
      "Part 1: 13500447\n"
     ]
    }
   ],
   "source": [
    "print(\"Part 1:\", find_repeat(erismap))"
   ]
  },
  {
   "cell_type": "markdown",
   "metadata": {},
   "source": [
    "## Part 2, adding a 3rd dimension\n",
    "\n",
    "I'm not sure if we might be able to use [`scipy.signal.convolve()`](https://docs.scipy.org/doc/scipy-0.18.1/reference/generated/scipy.signal.convolve.html#scipy.signal.convolve) (the N-dimensional variant of `convolve2d()`) to count neighbours across multiple layers in one go. It works for counting neighbours across a single layer however, and for 200 steps, the additional 8 computations are not exactly strenuous.\n",
    "\n",
    "I'm creating all layers needed to fit all the steps. An empty layer is filled across 2 steps; first the inner ring, then the outer ring, at which point another layer is needed. So for 200 steps we need 100 layers below and a 100 layers above, ending up with 201 layers. These are added by using [np.pad()](https://docs.scipy.org/doc/numpy/reference/generated/numpy.pad.html).\n",
    "\n",
    "Then use `convolve()` to count neighbours on the same level, and a few sums for additional counts from the levels above and below."
   ]
  },
  {
   "cell_type": "code",
   "execution_count": 4,
   "metadata": {},
   "outputs": [],
   "source": [
    "from scipy.signal import convolve\n",
    "\n",
    "def run_multidimensional(matrix: np.array, steps: int = 200) -> int:\n",
    "    # 3d kernel; only those on the same level, not above or below\n",
    "    kernel = np.array([\n",
    "        [[0, 0, 0], [0, 0, 0], [0, 0, 0]],\n",
    "        [[0, 1, 0], [1, 0, 1], [0, 1, 0]],\n",
    "        [[0, 0, 0], [0, 0, 0], [0, 0, 0]],\n",
    "    ])\n",
    "    matrix = np.pad(matrix[None], [(steps,), (0,), (0,)])\n",
    "\n",
    "    for _ in range(steps):\n",
    "        # count neighbours on the same layer, then clear the hole\n",
    "        counts = convolve(matrix, kernel, mode='same')\n",
    "        counts[:, 2, 2] = 0\n",
    "        # layer below, counts[:-1, ...] are updated from kernel[1:, ...].sum()s\n",
    "        counts[:-1, 1, 2] += matrix[1:,  0,  :].sum(axis=1)  # cell above hole += top row next level\n",
    "        counts[:-1, 3, 2] += matrix[1:, -1,  :].sum(axis=1)  # cell below hole += bottom row next level\n",
    "        counts[:-1, 2, 1] += matrix[1:,  :,  0].sum(axis=1)  # cell left of hole += left column next level\n",
    "        counts[:-1, 2, 3] += matrix[1:,  :, -1].sum(axis=1)  # cell right of hole += right column next level\n",
    "        # layer above, counts[1-:, ...] slices are updated from kernel[:-1, ...] indices (true -> 1)\n",
    "        counts[1:,  0,  :] += matrix[:-1, 1, 2, None]  # top row += cell above hole next level\n",
    "        counts[1:, -1,  :] += matrix[:-1, 3, 2, None]  # bottom row += cell below hole next level\n",
    "        counts[1:,  :,  0] += matrix[:-1, 2, 1, None]  # left column += cell left of hole next level\n",
    "        counts[1:,  :, -1] += matrix[:-1, 2, 3, None]  # right column += cell right of hole next level\n",
    "\n",
    "        # next step is the same as part 1:\n",
    "        matrix = (\n",
    "            # A bug dies (becoming an empty space) unless there is exactly one bug adjacent to it.\n",
    "            (matrix & (counts == 1)) |\n",
    "            # An empty space becomes infested with a bug if exactly one or two bugs are adjacent to it.\n",
    "            (~matrix & ((counts == 1) | (counts == 2)))\n",
    "        )\n",
    "        \n",
    "    return matrix.sum()\n",
    "\n",
    "assert run_multidimensional(test_matrix, 10) == 99"
   ]
  },
  {
   "cell_type": "code",
   "execution_count": 5,
   "metadata": {},
   "outputs": [
    {
     "name": "stdout",
     "output_type": "stream",
     "text": [
      "Part 2: 2120\n"
     ]
    }
   ],
   "source": [
    "print(\"Part 2:\", run_multidimensional(erismap))"
   ]
  }
 ],
 "metadata": {
  "kernelspec": {
   "display_name": "Python 3",
   "language": "python",
   "name": "python3"
  },
  "language_info": {
   "codemirror_mode": {
    "name": "ipython",
    "version": 3
   },
   "file_extension": ".py",
   "mimetype": "text/x-python",
   "name": "python",
   "nbconvert_exporter": "python",
   "pygments_lexer": "ipython3",
   "version": "3.8.0"
  }
 },
 "nbformat": 4,
 "nbformat_minor": 2
}
