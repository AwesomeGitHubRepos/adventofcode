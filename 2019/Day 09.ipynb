{
 "cells": [
  {
   "cell_type": "markdown",
   "metadata": {},
   "source": [
    "# Day 9 - Relative mode and unlimited memory\n",
    "\n",
    "- https://adventofcode.com/2019/day/9\n",
    "\n",
    "Today's puzzle requires updates to the [`intcode` module](./incode.py):\n",
    "\n",
    "- Added a `ParameterMode.set` hook; so far I had hard-coded mode 0 (positional) setting in `BoundInstruction`.\n",
    "- Support relative mode and the `9` opcode:\n",
    "  - I've added support for _registers_, in general, containing a single register named _relative base_\n",
    "  - I've updated the `ParameterMode.get` hooks to accept a `registers` keyword argument, so we can base parameters off of registers.\n",
    "  - I've added a `relative` mode to `PamaterMode`, which returns the memory value relative to the _relative base_ register, or sets memory values using the same rules.\n",
    "  - I've added a `registers` keyword argument to the `Instruction.__call__()` method so instructions can update\n",
    "    register values.\n",
    "- Support unlimited memory addressing\n",
    "  - I've added a new Memory class that handles this. For now I'm going to assume that memory addressing is not\n",
    "    going to address wildly large values and so just `.extend()` the list with zeros to grow the memory.\n",
    "    We could use a sparse implementation instead if that ever proves to be incorrect. I've put in an assertion\n",
    "    to catch memory addresses greater than 16 bits.\n",
    "\n",
    "See the [diff on GitHub](https://github.com/mjpieters/adventofcode/commit/3d69f28) for details on the opcode and memory code changes.\n",
    "\n",
    "With these changes, parts 1 and 2 where a breeze to run (with part 2 taking about 3 seconds).\n"
   ]
  },
  {
   "cell_type": "code",
   "execution_count": 1,
   "metadata": {},
   "outputs": [],
   "source": [
    "import aocd\n",
    "\n",
    "data = aocd.get_data(day=9, year=2019)\n",
    "memory = list(map(int, data.split(\",\")))"
   ]
  },
  {
   "cell_type": "code",
   "execution_count": 2,
   "metadata": {},
   "outputs": [
    {
     "name": "stdout",
     "output_type": "stream",
     "text": [
      "Part 1: 3989758265\n"
     ]
    }
   ],
   "source": [
    "from intcode import CPU, ioset\n",
    "\n",
    "output, intset = ioset(1)\n",
    "CPU(intset).reset(memory).execute()\n",
    "print(\"Part 1:\", output[0])"
   ]
  },
  {
   "cell_type": "code",
   "execution_count": 3,
   "metadata": {},
   "outputs": [
    {
     "name": "stdout",
     "output_type": "stream",
     "text": [
      "Part 2: 76791\n"
     ]
    }
   ],
   "source": [
    "output, intset = ioset(2)\n",
    "CPU(intset).reset(memory).execute()\n",
    "print(\"Part 2:\", output[0])"
   ]
  }
 ],
 "metadata": {
  "kernelspec": {
   "display_name": "Python 3",
   "language": "python",
   "name": "python3"
  },
  "language_info": {
   "codemirror_mode": {
    "name": "ipython",
    "version": 3
   },
   "file_extension": ".py",
   "mimetype": "text/x-python",
   "name": "python",
   "nbconvert_exporter": "python",
   "pygments_lexer": "ipython3",
   "version": "3.12.0"
  }
 },
 "nbformat": 4,
 "nbformat_minor": 2
}
