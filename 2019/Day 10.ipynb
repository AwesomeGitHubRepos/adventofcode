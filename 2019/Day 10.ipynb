{
 "cells": [
  {
   "cell_type": "code",
   "execution_count": 1,
   "metadata": {},
   "outputs": [],
   "source": [
    "from typing import Iterable, Tuple\n",
    "import numpy as np\n",
    "\n",
    "def read_map(lines: Iterable[str]) -> np.array:\n",
    "    return np.array(\n",
    "        [\n",
    "            (x, y)\n",
    "            for y, line in enumerate(lines)\n",
    "            for x, c in enumerate(line)\n",
    "            if c == '#'\n",
    "        ],\n",
    "    )\n",
    "\n",
    "def polar_angles(asteroids: np.array) -> np.array:\n",
    "    \"\"\"Produce a matrix of polar angles per astoroid\n",
    "    \n",
    "    Row N contains the polar angles of all other asteroids relative\n",
    "    to asteroid N.\n",
    "\n",
    "    \"\"\"\n",
    "    s = len(asteroids)\n",
    "    z = asteroids.astype(np.float).view(np.complex).reshape(s) \n",
    "    recentered = np.tile(z, s).reshape(s, s) - z.reshape(s, 1)\n",
    "    other_asteroids = recentered[recentered != 0+0j].reshape(-1, s - 1)\n",
    "    return np.angle(other_asteroids)\n",
    "        \n",
    "\n",
    "def max_visible_asteroids(asteroids: np.array) -> Tuple[int, int]:\n",
    "    angles = polar_angles(asteroids)\n",
    "    unique_angles = np.count_nonzero(np.diff(np.sort(angles)), axis=1) + 1\n",
    "    index = np.argmax(unique_angles)\n",
    "    return unique_angles[index], index\n",
    "    \n",
    "tests = {\n",
    "    '.#..#\\n.....\\n#####\\n....#\\n...##': (8, (3, 4)),\n",
    "    (\n",
    "        '......#.#.\\n#..#.#....\\n..#######.\\n.#.#.###..\\n.#..#.....\\n'\n",
    "        '..#....#.#\\n#..#....#.\\n.##.#..###\\n##...#..#.\\n.#....####'\n",
    "    ): (33, (5, 8)),\n",
    "    (\n",
    "        '#.#...#.#.\\n.###....#.\\n.#....#...\\n##.#.#.#.#\\n....#.#.#.\\n'\n",
    "        '.##..###.#\\n..#...##..\\n..##....##\\n......#...\\n.####.###.'\n",
    "    ): (35, (1, 2)),\n",
    "    (\n",
    "        '.#..#..###\\n####.###.#\\n....###.#.\\n..###.##.#\\n##.##.#.#.\\n'\n",
    "        '....###..#\\n..#.#..#.#\\n#..#.#.###\\n.##...##.#\\n.....#.#..'\n",
    "    ): (41, (6, 3)),\n",
    "    (\n",
    "        '.#..##.###...#######\\n##.############..##.\\n.#.######.########.#\\n'\n",
    "        '.###.#######.####.#.\\n#####.##.#.##.###.##\\n..#####..#.#########\\n'\n",
    "        '####################\\n#.####....###.#.#.##\\n##.#################\\n'\n",
    "        '#####.##.###..####..\\n..######..##.#######\\n####.##.####...##..#\\n'\n",
    "        '.#####..#.######.###\\n##...#.##########...\\n#.##########.#######\\n'\n",
    "        '.####.#.###.###.#.##\\n....##.##.###..#####\\n.#.#.###########.###\\n'\n",
    "        '#.#.#.#####.####.###\\n###.##.####.##.#..##'\n",
    "    ): (210, (11, 13)),\n",
    "}\n",
    "for test, (expected, expectedcoord) in tests.items():\n",
    "    testmap = read_map(test.splitlines())\n",
    "    maxvisible, idx = max_visible_asteroids(testmap)\n",
    "    assert maxvisible == expected\n",
    "    assert tuple(testmap[idx]) == expectedcoord"
   ]
  },
  {
   "cell_type": "code",
   "execution_count": 2,
   "metadata": {},
   "outputs": [],
   "source": [
    "import aocd\n",
    "asteroids = read_map(aocd.get_data(day=10, year=2019).splitlines())"
   ]
  },
  {
   "cell_type": "code",
   "execution_count": 3,
   "metadata": {},
   "outputs": [
    {
     "name": "stdout",
     "output_type": "stream",
     "text": [
      "Part 1: 296\n"
     ]
    }
   ],
   "source": [
    "maxvisible, idx = max_visible_asteroids(asteroids)\n",
    "print(\"Part 1:\", maxvisible)"
   ]
  },
  {
   "cell_type": "code",
   "execution_count": 4,
   "metadata": {},
   "outputs": [],
   "source": [
    "def find_nth_vaporised(asteroids: np.array, obspos: int, n: int) -> int:\n",
    "    s = len(asteroids)\n",
    "    assert 0 < n < s  # n is 1-based, but 1 of asteroids is the observation point.\n",
    "    # coordinates as complex numbers\n",
    "    z = asteroids.astype(np.float).view(np.complex).reshape(s)\n",
    "    # move center to choosen observation location\n",
    "    z -= z[obspos]\n",
    "    # all the asteroids except the observation location\n",
    "    z = z[z != 0+0j]\n",
    "    # convert coordinates to polar coordinates\n",
    "    # first the angle, numpy defines the positive x axis as angle 0\n",
    "    angles = np.angle(z)\n",
    "    # however, we need negative y to be 0, so adjust (separate handling for\n",
    "    # the -x, -y quadrant, and the other 3 quadrants)\n",
    "    normalized = np.where(angles < (-0.5 * np.pi), angles + (2.5 * np.pi), angles + (0.5 * np.pi))\n",
    "    # polar coordinates (angle, distance), and index into asteroids\n",
    "    polar_and_idx = np.stack((normalized, np.abs(z), np.arange(s - 1)), axis=1)\n",
    "    # sort by (angle, distance)\n",
    "    ordered = polar_and_idx[np.lexsort((polar_and_idx[:, 1], polar_and_idx[:, 0]))]\n",
    "    # group by angle\n",
    "    byangle = np.split(ordered[:, 1:], np.cumsum(np.unique(ordered[:, 0], return_counts=True)[1])[:-1])\n",
    "    # if we have more groups than n, the corresponding asteroid is byangle[n - 1][0][1]\n",
    "    # otherwise, clear closest asteroids until we can reach n\n",
    "    while n > len(byangle):\n",
    "        n -= len(byangle)\n",
    "        byangle = [g[1:] for g in byangle if len(g) > 1]\n",
    "    idx = int(byangle[n - 1][0][1])\n",
    "    if idx >= obspos:\n",
    "        idx += 1  # account for obspos not being a shooting target\n",
    "    x, y = asteroids[idx]\n",
    "    return x * 100 + y\n",
    "\n",
    "\n",
    "test1 = read_map(\n",
    "    '.#....#####...#..\\n##...##.#####..##\\n##...#...#.#####.\\n'\n",
    "    '..#.....#...###..\\n..#.#.....#....##'.splitlines()\n",
    ")\n",
    "values = [find_nth_vaporised(test1, 28, i) for i in range(1, len(test1))]\n",
    "assert values == [\n",
    "    801, 900, 901, 1000, 902, 1101, 1201, 1102, 1501, 1202, 1302, 1402,\n",
    "    1502, 1203, 1604, 1504, 1004, 404, 204, 203, 2, 102, 1, 101, 502,\n",
    "    100, 501, 601, 600, 700, 800, 1001, 1400, 1601, 1303, 1403\n",
    "]\n",
    "test2 = next((read_map(data.splitlines()), xy) for data, (_, xy) in tests.items() if xy == (11, 13))\n",
    "test2_map, test2_pos = test2[0], np.where((test2[0] == test2[1]).all(axis=1))[0][0]\n",
    "values = [find_nth_vaporised(test2_map, test2_pos, i) for i in (1, 2, 3, 10, 20, 50, 100, 199, 200, 201, 299)]\n",
    "assert values == [\n",
    "    1112, 1201, 1202, 1208, 1600, 1609, 1016\n",
    "    906, 802, 1009, 1101\n",
    "]"
   ]
  },
  {
   "cell_type": "code",
   "execution_count": 5,
   "metadata": {},
   "outputs": [
    {
     "name": "stdout",
     "output_type": "stream",
     "text": [
      "Part 2: 204\n"
     ]
    }
   ],
   "source": [
    "print(\"Part 2:\", find_nth_vaporised(asteroids, idx, 200))"
   ]
  }
 ],
 "metadata": {
  "kernelspec": {
   "display_name": "Python 3",
   "language": "python",
   "name": "python3"
  },
  "language_info": {
   "codemirror_mode": {
    "name": "ipython",
    "version": 3
   },
   "file_extension": ".py",
   "mimetype": "text/x-python",
   "name": "python",
   "nbconvert_exporter": "python",
   "pygments_lexer": "ipython3",
   "version": "3.8.0"
  }
 },
 "nbformat": 4,
 "nbformat_minor": 2
}
