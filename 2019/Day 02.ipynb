{
 "cells": [
  {
   "cell_type": "markdown",
   "metadata": {
    "tags": [
     "noexport"
    ]
   },
   "source": [
    "# Day 2 - Intcode interpreter\n",
    "\n",
    "* https://adventofcode.com/2019/day/2\n",
    "\n",
    "We have a computer again! We've seen this before in 2017 ([day 18](../2017/Day%2018.ipynb), [day 23](../2017/Day%2023.ipynb)), and 2018 ([day 16](../2018/Day%2016.ipynb), [day 19](../2018/Day%2019.ipynb) and [day 21](../2018/Day%2021.ipynb)).\n",
    "\n",
    "Now we have opcodes with a variable number of operands (called *positions* here); `1` and `2` each have 2 operands and output destination, 99 has none. There are also no registers, all operations take place directly on the memory where our code is also stored, so it can self-modify. Fun!\n",
    "\n",
    "So we need a CPU with a position counter, memory, and opcode definitions (*instructions*) to call, and the opcodes need access to the memory (to read operand values and write out their result to). Easy peasy.\n",
    "\n",
    "I'm assuming we'll expand on the instruction set later on, and that we might have instructions with different numbers of operands. So given a function to process the input values and the number of *paramaters* to process, we should be able to produce something readable and reusable."
   ]
  },
  {
   "cell_type": "code",
   "execution_count": 1,
   "metadata": {
    "tags": [
     "noexport"
    ]
   },
   "outputs": [],
   "source": [
    "import aocd\n",
    "data = aocd.get_data(day=2, year=2019)\n",
    "memory = list(map(int, data.split(',')))"
   ]
  },
  {
   "cell_type": "code",
   "execution_count": 2,
   "metadata": {},
   "outputs": [],
   "source": [
    "from __future__ import annotations\n",
    "\n",
    "import operator\n",
    "from dataclasses import dataclass\n",
    "from typing import Callable, List, Mapping, Optional\n",
    "\n",
    "Memory = List[int]\n",
    "\n",
    "class Halt(Exception):\n",
    "    \"\"\"Signal to end the program\"\"\"\n",
    "    @classmethod\n",
    "    def halt(cls) -> int:  # yes, because Opcode.f callables always produce ints, right?\n",
    "        raise cls\n",
    "\n",
    "@dataclass\n",
    "class Instruction:\n",
    "    # the inputs are processed by a function that operates on integers\n",
    "    # returns integers to store in a destination position\n",
    "    f: Callable[..., int]\n",
    "    # An opcode takes N paramaters\n",
    "    paramater_count: int\n",
    "\n",
    "    def __call__(self, memory: Memory, *parameters: int) -> None:\n",
    "        if parameters:\n",
    "            *inputs, output = parameters\n",
    "            memory[output] = self.f(*(memory[addr] for addr in inputs))\n",
    "        else:\n",
    "            # no parameter count, so just call the function directly, no output expected\n",
    "            self.f()\n",
    "\n",
    "\n",
    "class CPU:\n",
    "    memory: Memory\n",
    "    pos: int\n",
    "    opcodes: Mapping[int, Instruction] = {\n",
    "        1: Instruction(operator.add, 3),\n",
    "        2: Instruction(operator.mul, 3),\n",
    "        99: Instruction(Halt.halt, 0),\n",
    "    }\n",
    "        \n",
    "    def reset(self, memory: Memory = None):\n",
    "        if memory is None:\n",
    "            memory = []\n",
    "        self.memory = memory[:]\n",
    "        self.pos: int = 0\n",
    "        \n",
    "    def execute(\n",
    "        self, memory: Memory,\n",
    "        noun: Optional[int] = None,\n",
    "        verb: Optional[int] = None\n",
    "    ) -> int:\n",
    "        self.reset(memory)\n",
    "        memory = self.memory\n",
    "        if noun is not None:\n",
    "            memory[1] = noun\n",
    "        if verb is not None:\n",
    "            memory[2] = verb\n",
    "        try:\n",
    "            while True:\n",
    "                op = self.opcodes[memory[self.pos]]\n",
    "                paramcount = op.paramater_count\n",
    "                parameters = memory[self.pos + 1 : self.pos + 1 + paramcount]\n",
    "                op(memory, *parameters)\n",
    "                self.pos += 1 + paramcount\n",
    "        except Halt:\n",
    "            return memory[0]\n",
    "\n",
    "test: Memory = [1, 9, 10, 3, 2, 3, 11, 0, 99, 30, 40, 50]\n",
    "cpu = CPU()\n",
    "assert cpu.execute(test) == 3500"
   ]
  },
  {
   "cell_type": "code",
   "execution_count": 3,
   "metadata": {
    "tags": [
     "noexport"
    ]
   },
   "outputs": [
    {
     "name": "stdout",
     "output_type": "stream",
     "text": [
      "Part 1: 3706713\n"
     ]
    }
   ],
   "source": [
    "print('Part 1:', cpu.execute(memory, 12, 2))"
   ]
  },
  {
   "cell_type": "markdown",
   "metadata": {},
   "source": [
    "## Part 2\n",
    "\n",
    "Now we need to find the noun and verb that produce a specific programme output. The text suggests we should just brute-force this, so lets try that first and see how long that takes. Given that we'll only have to search through 10000 different inputs, that's not that big a search space anyway."
   ]
  },
  {
   "cell_type": "code",
   "execution_count": 4,
   "metadata": {},
   "outputs": [
    {
     "name": "stdout",
     "output_type": "stream",
     "text": [
      "Part 2: 8609\n"
     ]
    }
   ],
   "source": [
    "from itertools import product\n",
    "def bruteforce(target: int, memory: Memory) -> int:\n",
    "    cpu = CPU()\n",
    "    for noun, verb in product(range(100), repeat=2):\n",
    "        result = cpu.execute(memory, noun, verb)\n",
    "        if result == target:\n",
    "            break\n",
    "    return 100 * noun + verb\n",
    "\n",
    "print('Part 2:', bruteforce(19690720, memory))"
   ]
  }
 ],
 "metadata": {
  "kernelspec": {
   "display_name": "Python 3",
   "language": "python",
   "name": "python3"
  },
  "language_info": {
   "codemirror_mode": {
    "name": "ipython",
    "version": 3
   },
   "file_extension": ".py",
   "mimetype": "text/x-python",
   "name": "python",
   "nbconvert_exporter": "python",
   "pygments_lexer": "ipython3",
   "version": "3.8.0"
  }
 },
 "nbformat": 4,
 "nbformat_minor": 2
}
