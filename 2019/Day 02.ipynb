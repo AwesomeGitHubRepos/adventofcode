{
 "cells": [
  {
   "cell_type": "markdown",
   "metadata": {
    "tags": [
     "noexport"
    ]
   },
   "source": [
    "# Day 2 - Intcode interpreter\n",
    "\n",
    "* https://adventofcode.com/2019/day/2\n",
    "\n",
    "We have a computer again! We've seen this before in 2017 ([day 18](../2017/Day%2018.ipynb), [day 23](../2017/Day%2023.ipynb)), and 2018 ([day 16](../2018/Day%2016.ipynb), [day 19](../2018/Day%2019.ipynb) and [day 21](../2018/Day%2021.ipynb)).\n",
    "\n",
    "Now we have opcodes with a variable number of operands (called *positions* here); `1` and `2` each have 2 operands and output destination, 99 has none. There are also no registers, all operations take place directly on the memory where our code is also stored, so it can self-modify. Fun!\n",
    "\n",
    "So we need a CPU with a position counter, memory, and opcode definitions (*instructions*) to call, and the opcodes need access to the memory (to read operand values and write out their result to). Easy peasy.\n",
    "\n",
    "I'm assuming we'll expand on the instruction set later on, and that we might have instructions with different numbers of operands. So given a function to process the input values and the number of *paramaters* to process, we should be able to produce something readable and reusable."
   ]
  },
  {
   "cell_type": "code",
   "execution_count": 1,
   "metadata": {
    "tags": [
     "noexport"
    ]
   },
   "outputs": [],
   "source": [
    "import aocd\n",
    "data = aocd.get_data(day=2, year=2019)\n",
    "memory = list(map(int, data.split(',')))"
   ]
  },
  {
   "cell_type": "code",
   "execution_count": 2,
   "metadata": {},
   "outputs": [],
   "source": [
    "from __future__ import annotations\n",
    "\n",
    "import operator\n",
    "from dataclasses import dataclass\n",
    "from typing import Callable, List, Mapping, Optional\n",
    "\n",
    "Memory = List[int]\n",
    "\n",
    "class Halt(Exception):\n",
    "    \"\"\"Signal to end the program\"\"\"\n",
    "    @classmethod\n",
    "    def halt(cls) -> int:  # yes, because Opcode.f callables always produce ints, right?\n",
    "        raise cls\n",
    "\n",
    "@dataclass\n",
    "class Instruction:\n",
    "    # the inputs are processed by a function that operates on integers\n",
    "    # returns integers to store in a destination position\n",
    "    f: Callable[..., int]\n",
    "    # An opcode takes N paramaters\n",
    "    paramater_count: int\n",
    "\n",
    "    def __call__(self, memory: Memory, *parameters: int) -> None:\n",
    "        if parameters:\n",
    "            *inputs, output = parameters\n",
    "            memory[output] = self.f(*(memory[addr] for addr in inputs))\n",
    "        else:\n",
    "            # no parameter count, so just call the function directly, no output expected\n",
    "            self.f()\n",
    "\n",
    "\n",
    "class CPU:\n",
    "    memory: Memory\n",
    "    pos: int\n",
    "    opcodes: Mapping[int, Instruction] = {\n",
    "        1: Instruction(operator.add, 3),\n",
    "        2: Instruction(operator.mul, 3),\n",
    "        99: Instruction(Halt.halt, 0),\n",
    "    }\n",
    "        \n",
    "    def reset(self, memory: Memory = None):\n",
    "        if memory is None:\n",
    "            memory = []\n",
    "        self.memory = memory[:]\n",
    "        self.pos: int = 0\n",
    "        \n",
    "    def execute(\n",
    "        self, memory: Memory,\n",
    "        noun: Optional[int] = None,\n",
    "        verb: Optional[int] = None\n",
    "    ) -> int:\n",
    "        self.reset(memory)\n",
    "        memory = self.memory\n",
    "        if noun is not None:\n",
    "            memory[1] = noun\n",
    "        if verb is not None:\n",
    "            memory[2] = verb\n",
    "        try:\n",
    "            while True:\n",
    "                op = self.opcodes[memory[self.pos]]\n",
    "                paramcount = op.paramater_count\n",
    "                parameters = memory[self.pos + 1 : self.pos + 1 + paramcount]\n",
    "                op(memory, *parameters)\n",
    "                self.pos += 1 + paramcount\n",
    "        except Halt:\n",
    "            return memory[0]\n",
    "\n",
    "test: Memory = [1, 9, 10, 3, 2, 3, 11, 0, 99, 30, 40, 50]\n",
    "cpu = CPU()\n",
    "assert cpu.execute(test) == 3500"
   ]
  },
  {
   "cell_type": "code",
   "execution_count": 3,
   "metadata": {
    "tags": [
     "noexport"
    ]
   },
   "outputs": [
    {
     "name": "stdout",
     "output_type": "stream",
     "text": [
      "Part 1: 3706713\n"
     ]
    }
   ],
   "source": [
    "print('Part 1:', cpu.execute(memory, 12, 2))"
   ]
  },
  {
   "cell_type": "markdown",
   "metadata": {},
   "source": [
    "## Part 2\n",
    "\n",
    "Now we need to find the noun and verb that produce a specific programme output. The text suggests we should just brute-force this, so lets try that first and see how long that takes. Given that we'll only have to search through 10000 different inputs, and there are no options to loop, that's not that big a search space anyway.\n",
    "\n",
    "While the code can self-modify, this is limited to:\n",
    "\n",
    "- altering what inputs are read\n",
    "- where to write the output\n",
    "- replacing a read or write op with another read, write or halt op\n",
    "\n",
    "so we execute, at most, `len(memory) // 4` instructions, which for my input means there are only 32 steps per execution run, and so we are going to execute, at most, 32.000 instructions. That's pretty cheap:"
   ]
  },
  {
   "cell_type": "code",
   "execution_count": 4,
   "metadata": {},
   "outputs": [
    {
     "name": "stdout",
     "output_type": "stream",
     "text": [
      "Part 2: 8609\n"
     ]
    }
   ],
   "source": [
    "from itertools import product\n",
    "def bruteforce(target: int, memory: Memory) -> int:\n",
    "    cpu = CPU()\n",
    "    for noun, verb in product(range(100), repeat=2):\n",
    "        result = cpu.execute(memory, noun, verb)\n",
    "        if result == target:\n",
    "            break\n",
    "    return 100 * noun + verb\n",
    "\n",
    "print('Part 2:', bruteforce(19690720, memory))"
   ]
  },
  {
   "cell_type": "markdown",
   "metadata": {},
   "source": [
    "## Avoiding brute force\n",
    "\n",
    "Can we just calculate the number? We'd have to disassemble the inputs to see what is going on. Provided the programme never alters its own instructions, we should be able to figure this out.\n",
    "\n",
    "Lets see if we need to worry about self-modifying code first:"
   ]
  },
  {
   "cell_type": "code",
   "execution_count": 5,
   "metadata": {},
   "outputs": [
    {
     "name": "stdout",
     "output_type": "stream",
     "text": [
      "Code is not self-modifying\n"
     ]
    }
   ],
   "source": [
    "# code is expected to alter memory[0], so we don't count that\n",
    "# as self modifying as the CPU will never return there.\n",
    "if any(target and target % 4 == 0 for target in memory[3::4]):\n",
    "    print('Code targets opcodes')\n",
    "elif any(target % 4 and target > (i * 4 + 3) for i, target in enumerate(memory[3::4])):\n",
    "    print('Code targets parameters of later opcodes')\n",
    "else:\n",
    "    print('Code is not self-modifying')"
   ]
  },
  {
   "cell_type": "markdown",
   "metadata": {},
   "source": [
    "For my puzzle input, the above declares the code to not be self modifying. So all we have is addition and multiplication of memory\n",
    "already harvested for opcodes and parameter addresses. It's just a big sum! \n",
    "\n",
    "Note that some operations might write to a destination address that is then never read from, or overwritten by other operations. We could just eliminate those steps, if we could detect those cases.\n",
    "\n",
    "### What does the sum look like?\n",
    "\n",
    "We can skip the first operation (`ADD 1 2 3`) because the *next* expression also writes to `3` without using the outcome of the first. That makes sense, because `1` and `2` are our `noun` and `verb` inputs and those can be anywhere in the programme. Or, like I do below, you can just skip the type error that `listobject[string]` throws when trying to use either `'noun'` or `'verb'` as indices."
   ]
  },
  {
   "cell_type": "code",
   "execution_count": 6,
   "metadata": {},
   "outputs": [
    {
     "name": "stdout",
     "output_type": "stream",
     "text": [
      "(3+((1+(3*(1+((3+(3+(5*(2*(4+((5*(1+((5*(1+(2*((4*((((2+(5+(2+(noun*4))))+4)+2)+5))+2))))*3)))+1))))))*3))))+verb))\n"
     ]
    }
   ],
   "source": [
    "fmemory = memory[:]\n",
    "fmemory[1:3] = 'noun', 'verb'\n",
    "for opcode, a, b, target in zip(*([iter(fmemory)] * 4)):\n",
    "    if opcode == 99:\n",
    "        break\n",
    "    try:\n",
    "        fmemory[target] = f\"({fmemory[a]}{' +*'[opcode]}{fmemory[b]})\"\n",
    "    except TypeError as e:\n",
    "        # the first instruction is to add memory[noun] and memory[verb]\n",
    "        # and store in 3 but the next instruction also stores in 3,\n",
    "        # ignoring the previous result.\n",
    "        assert a == 'noun' and b == 'verb'\n",
    "\n",
    "formula = fmemory[0]\n",
    "print(formula)"
   ]
  },
  {
   "cell_type": "markdown",
   "metadata": {},
   "source": [
    "If you were to compile this to a function; Python's AST optimizer will actually replace a lot of the constants; I'm using [Astor](https://github.com/berkerpeksag/astor/) here to simplify roundtripping and pretty printing, so we can see what Python makes of it:"
   ]
  },
  {
   "cell_type": "code",
   "execution_count": 7,
   "metadata": {},
   "outputs": [
    {
     "name": "stdout",
     "output_type": "stream",
     "text": [
      "19690720 = 3 + (1 + 3 * (1 + (3 + (3 + 5 * (2 * (4 + (5 * (1 + 5 * (1 + 2 * (4 * (2 +\n",
      "    (5 + (2 + noun * 4)) + 4 + 2 + 5) + 2)) * 3) + 1))))) * 3) + verb)\n",
      "\n"
     ]
    }
   ],
   "source": [
    "import ast\n",
    "import astor\n",
    "from textwrap import wrap\n",
    "\n",
    "simplified = astor.to_source(ast.parse(formula))\n",
    "print(\"19690720 =\", simplified)"
   ]
  },
  {
   "cell_type": "markdown",
   "metadata": {},
   "source": [
    "This is something we can work with! Clearly this is a simple [linear Diophantine equation](https://en.wikipedia.org/wiki/Diophantine_equation#Linear_Diophantine_equations) that can be solved for either `noun` or `verb`, so let's see if [sympy](https://docs.sympy.org/latest/), the Python symbolic maths solver can do something with this.\n",
    "\n",
    "We know that both `noun` and `verb` are values in the range `[0, 100)`, so we can use this to see what inputs in that range produce an output in that range:"
   ]
  },
  {
   "cell_type": "code",
   "execution_count": 8,
   "metadata": {},
   "outputs": [
    {
     "data": {
      "text/markdown": [
       "### Simplified expression:"
      ],
      "text/plain": [
       "<IPython.core.display.Markdown object>"
      ]
     },
     "metadata": {},
     "output_type": "display_data"
    },
    {
     "data": {
      "text/latex": [
       "$\\displaystyle 216000 noun + verb - 18576009$"
      ],
      "text/plain": [
       "216000*noun + verb - 18576009"
      ]
     },
     "metadata": {},
     "output_type": "display_data"
    },
    {
     "data": {
      "text/markdown": [
       "### Solution for the linear diophantine equation"
      ],
      "text/plain": [
       "<IPython.core.display.Markdown object>"
      ]
     },
     "metadata": {},
     "output_type": "display_data"
    },
    {
     "data": {
      "text/latex": [
       "$\\displaystyle verb = 18576009 - 216000 noun$"
      ],
      "text/plain": [
       "Eq(verb, 18576009 - 216000*noun)"
      ]
     },
     "metadata": {},
     "output_type": "display_data"
    },
    {
     "data": {
      "text/markdown": [
       "### Solution found:\n",
       "\n",
       "* $noun = 86$\n",
       "* $verb = 9$\n",
       "* $100noun + verb = 8609$\n"
      ],
      "text/plain": [
       "<IPython.core.display.Markdown object>"
      ]
     },
     "metadata": {},
     "output_type": "display_data"
    }
   ],
   "source": [
    "import dis\n",
    "from IPython.display import display, Markdown\n",
    "from sympy import diophantine, lambdify, symbols, sympify, Eq, Symbol\n",
    "from sympy.solvers import solve\n",
    "\n",
    "# ask Sympy to parse our formula; it'll simplify the formula for us\n",
    "display(Markdown(\"### Simplified expression:\"))\n",
    "expr = sympify(formula) - 19690720\n",
    "display(expr)\n",
    "\n",
    "# extract the symbols\n",
    "noun, verb = sorted(expr.free_symbols, key=lambda s: s.name)\n",
    "                \n",
    "display(Markdown(\"### Solution for the linear diophantine equation\"))\n",
    "# solutions for the two input variables, listed in alphabetical order,\n",
    "for noun_expr, verb_expr in diophantine(expr):\n",
    "    if isinstance(noun_expr, Symbol):\n",
    "        solution = verb_expr.subs(noun_expr, noun)\n",
    "        arg, result = noun, verb\n",
    "    else:\n",
    "        solution = noun_expr.subs(verb_expr, verb)\n",
    "        arg, result = verb, noun.name\n",
    "    display(Eq(result, solution))\n",
    "\n",
    "for i in range(100):\n",
    "    other = solution.subs(arg, i)\n",
    "    if 0 <= other < 100:\n",
    "        noun_value = other if result.name == 'noun' else i\n",
    "        verb_value = i if result.name == 'noun' else other\n",
    "        display(Markdown(\n",
    "f\"\"\"### Solution found:\n",
    "\n",
    "* $noun = {noun_value}$\n",
    "* $verb = {verb_value}$\n",
    "* $100noun + verb = {100 * noun_value + verb_value}$\n",
    "\"\"\"))\n",
    "\n",
    "        break\n"
   ]
  },
  {
   "cell_type": "markdown",
   "metadata": {},
   "source": [
    "Unfortunately, even Sympy's `solveset()` function couldn't help me eliminate the loop over `range(100)`; in principle this should be possible using an `Range(100)` set, but `solveset()` just isn't quite there yet. A [related question on Stack Overflow](https://stackoverflow.com/questions/46013884/get-all-positive-integral-solutions-for-a-linear-equation) appears to confirm that using a loop is the correct method here. I could give Sage a try for this, perhaps.\n",
    "\n",
    "That said, if you look at the $term1 - term2 \\times arg$ solution to the diophantine equation, to me it is clear that `noun` and `verb` are simply the division and modulus, respectively, of $term1$ and $term2$:"
   ]
  },
  {
   "cell_type": "code",
   "execution_count": 9,
   "metadata": {},
   "outputs": [
    {
     "name": "stdout",
     "output_type": "stream",
     "text": [
      "divmod(18576009, 216000)\n",
      "noun=86, verb=9, 100 * noun + verb=8609\n"
     ]
    }
   ],
   "source": [
    "from sympy import postorder_traversal, Integer\n",
    "term1, term2 = (abs(int(e)) for e in postorder_traversal(expr) if isinstance(e, Integer))\n",
    "print(f\"divmod({term1}, {term2})\")\n",
    "noun, verb = divmod(term1, term2)\n",
    "print(f\"{noun=}, {verb=}, {100 * noun + verb=}\")"
   ]
  }
 ],
 "metadata": {
  "kernelspec": {
   "display_name": "Python 3",
   "language": "python",
   "name": "python3"
  },
  "language_info": {
   "codemirror_mode": {
    "name": "ipython",
    "version": 3
   },
   "file_extension": ".py",
   "mimetype": "text/x-python",
   "name": "python",
   "nbconvert_exporter": "python",
   "pygments_lexer": "ipython3",
   "version": "3.8.0"
  }
 },
 "nbformat": 4,
 "nbformat_minor": 2
}
