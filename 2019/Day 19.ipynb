{
 "cells": [
  {
   "cell_type": "markdown",
   "metadata": {},
   "source": [
    "# Day 19 - Tractor beam scanning\n",
    "\n",
    "* https://adventofcode.com/2019/day/19\n",
    "\n",
    "This starts as a simple intcode excercise; count the number of 1's in a 50x50 grid. The CPU programme halts after each coordinate, so we need to run the programme in a loop."
   ]
  },
  {
   "cell_type": "code",
   "execution_count": 1,
   "metadata": {},
   "outputs": [],
   "source": [
    "from __future__ import annotations\n",
    "from itertools import product\n",
    "from typing import (\n",
    "    List,\n",
    ")\n",
    "\n",
    "import numpy as np\n",
    "from IPython.display import display, DisplayHandle\n",
    "from PIL import Image, ImageDraw\n",
    "\n",
    "from intcode import CPU, ioset\n",
    "\n",
    "\n",
    "def measure_signal(memory: List[int], scale=5, size=50, x: int = 0, y: int = 0) -> np.array:\n",
    "    image = Image.new('1', (size * scale, size * scale))\n",
    "    draw = ImageDraw.Draw(image)\n",
    "    dh = display(image, display_id=True)\n",
    "    \n",
    "    matrix = np.zeros((size, size), dtype=np.bool)\n",
    "    for yd, xd in product(range(size), repeat=2):\n",
    "        xx, yy = x + xd, y + yd\n",
    "        outputs, opcodes = ioset(xx, yy)\n",
    "        CPU(opcodes).reset(memory).execute()\n",
    "        value = outputs[0]\n",
    "        \n",
    "        draw.rectangle((xd * scale, yd * scale, (xd + 1) * scale, (yd + 1) * scale), value)\n",
    "        dh.update(image)\n",
    "        matrix[yd, xd] = bool(value)\n",
    "        \n",
    "    return matrix"
   ]
  },
  {
   "cell_type": "code",
   "execution_count": 2,
   "metadata": {},
   "outputs": [],
   "source": [
    "import aocd\n",
    "data = aocd.get_data(day=19, year=2019)\n",
    "memory = list(map(int, data.split(',')))"
   ]
  },
  {
   "cell_type": "code",
   "execution_count": 3,
   "metadata": {},
   "outputs": [
    {
     "data": {
      "image/png": "[encoded data removed]",
      "text/plain": [
       "<PIL.Image.Image image mode=1 size=250x250 at 0x118A77370>"
      ]
     },
     "metadata": {},
     "output_type": "display_data"
    },
    {
     "name": "stdout",
     "output_type": "stream",
     "text": [
      "Part 1: 179\n"
     ]
    }
   ],
   "source": [
    "matrix = measure_signal(memory)\n",
    "print(\"Part 1:\", matrix.sum())"
   ]
  },
  {
   "cell_type": "markdown",
   "metadata": {},
   "source": [
    "## Part 2 - Find where the beam is wide enough\n",
    "\n",
    "Scanning a 50x50 area took long enough; finding that *really large area* is going to taka a lot longer. Since the beam is widenining at a steady rate, we should be able to calculate where we'll be able to fit a 100x100 grid in the beam, however.\n",
    "\n",
    "If the beam indeed widens at a constant rate, then the lines are simply two functions over y; both lines start at 0, so we only need to know the slopes $a$ and $b$:\n",
    "\n",
    "$$\n",
    "y_t(x) = ax \\\\\n",
    "y_b(x) = bx\n",
    "$$\n",
    "\n",
    "The two slopes start at the same point, $(0, 0)$ and diverge. When the distance between this is $99 + (99 * a)$, then we can fit a 100 x 100 square in between, because that's the point fromhich the top line (with slope $a$) still has enough space to descend and accomodate the top right-hand corner.\n",
    "\n",
    "So we can find the left-hand $x$ where $bx = ax + 99 + (99 * a)$, which can be simplified to:\n",
    "\n",
    "$$\n",
    "x = \\frac{99(a + 1)}{a - b}\n",
    "$$\n",
    "\n",
    "We'll first need to determine the slopes $a$ and $b$ from the information the drone can give us. We can detect the transition from 0 to 1 and from 1 to zero at two separate $x$ coordinates for that, to give us the corresponding $y$ coordinates. Using numpy it's a simple subtraction of the shifted matrix; -1 markes the point from 0 -> 1 and 1 markes it from 1 -> 0. Then find the indices of the minimums (the -1 values), and the indices of the maximums. The latter are the point where it goes back into black, so the actual line needs 1 subtracted.\n",
    "\n",
    "I've added a 'calibration' function that checks the values with the drone until we can predict the values exactly."
   ]
  },
  {
   "cell_type": "code",
   "execution_count": 4,
   "metadata": {},
   "outputs": [],
   "source": [
    "from fractions import Fraction\n",
    "from itertools import count, groupby\n",
    "from operator import itemgetter\n",
    "\n",
    "def measure_x(memory: List[int], x: int, y_range: range) -> Iterator[int]:\n",
    "    for y in y_range:\n",
    "        outputs, opcodes = ioset(x, y)\n",
    "        CPU(opcodes).reset(memory).execute()\n",
    "        yield outputs[0]\n",
    "        \n",
    "def calibrate(memory: List[int], x: int, y: int, top: bool = True, tolerance: int = 5) -> int:\n",
    "    yr = range(y - tolerance, y + tolerance + 1)\n",
    "    yc = next(next(yvs)[0] for v, yvs in groupby(\n",
    "        enumerate(measure_x(memory, x, yr), yr.start),\n",
    "        itemgetter(1)\n",
    "    ) if v == int(top))\n",
    "    return yc\n",
    "\n",
    "\n",
    "def find_slopes(matrix: np.array, memory: List[int]) -> Tuple[Fraction, Fraction]:\n",
    "    \"\"\"Find the rate at which y declines over x, for the top and bottom lines\"\"\"\n",
    "    matrix = matrix.view(np.int8)  # signed type to make sure we can get -1\n",
    "    delta_yt = (matrix[1:, :] - matrix[:-1, :]).argmax(axis=0) + 1\n",
    "    delta_yb = (matrix[1:, :] - matrix[:-1, :]).argmin(axis=0) + 1\n",
    "    a, b = Fraction(delta_yt[-1], 49), Fraction(delta_yb[-1], 49)\n",
    "    \n",
    "    # calibrate by reading out larger values until a and b are stable\n",
    "    for x1 in count(1000, 1000):\n",
    "        yt1 = x1 * a.numerator // a.denominator\n",
    "        ytc = calibrate(memory, x1, yt1)\n",
    "        yb1 = (x1 * b.numerator // b.denominator) + 1\n",
    "        ybc = calibrate(memory, x1, yb1, False)\n",
    "        if yt1 == ytc and yb1 == ybc:\n",
    "            return a, b\n",
    "        a = Fraction(ytc, x1)\n",
    "        b = Fraction(ybc, x1)\n",
    "\n",
    "def find_fit(matrix: np.array, memory: List[int]) -> int:\n",
    "    a, b = find_slopes(matrix, memory)\n",
    "    xb = round((99 * (a + 1)) / (b - a))\n",
    "    yb = xb * b.numerator // b.denominator\n",
    "    xt = xb + 99\n",
    "    yt = xt * a.numerator // a.denominator\n",
    "    return xb * 10000 + yt"
   ]
  },
  {
   "cell_type": "code",
   "execution_count": 5,
   "metadata": {},
   "outputs": [
    {
     "name": "stdout",
     "output_type": "stream",
     "text": [
      "Part 2: 9760485\n"
     ]
    }
   ],
   "source": [
    "print(\"Part 2:\", find_fit(matrix, memory))"
   ]
  }
 ],
 "metadata": {
  "kernelspec": {
   "display_name": "Python 3",
   "language": "python",
   "name": "python3"
  },
  "language_info": {
   "codemirror_mode": {
    "name": "ipython",
    "version": 3
   },
   "file_extension": ".py",
   "mimetype": "text/x-python",
   "name": "python",
   "nbconvert_exporter": "python",
   "pygments_lexer": "ipython3",
   "version": "3.8.0"
  }
 },
 "nbformat": 4,
 "nbformat_minor": 2
}
