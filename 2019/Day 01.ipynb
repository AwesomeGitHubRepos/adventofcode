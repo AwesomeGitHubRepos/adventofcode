{
 "cells": [
  {
   "cell_type": "markdown",
   "metadata": {},
   "source": [
    "# Day 1 - Another year, another first day\n",
    "\n",
    "* https://adventofcode.com/2019/day/1\n",
    "\n",
    "As always, a warm-up excersice to start with. For me, it's the time of finding my aoc repository and upgrading all my packages first. :-)"
   ]
  },
  {
   "cell_type": "code",
   "execution_count": 1,
   "metadata": {},
   "outputs": [],
   "source": [
    "import aocd\n",
    "data = aocd.get_data(day=1, year=2019)\n",
    "modules = list(map(int, data.splitlines()))"
   ]
  },
  {
   "cell_type": "code",
   "execution_count": 2,
   "metadata": {},
   "outputs": [],
   "source": [
    "def fuel_requirement(mass: int) -> int:\n",
    "    return mass // 3 - 2\n",
    "\n",
    "tests = {\n",
    "    12: 2,\n",
    "    14: 2,\n",
    "    1969: 654,\n",
    "    100756: 33583,\n",
    "}\n",
    "for mass, expected in tests.items():\n",
    "    assert fuel_requirement(mass) == expected, f\"fuel_requirement({mass}) = {fuel_requirement(mass)} vs. {expected}\""
   ]
  },
  {
   "cell_type": "code",
   "execution_count": 3,
   "metadata": {},
   "outputs": [
    {
     "name": "stdout",
     "output_type": "stream",
     "text": [
      "Part 1: 3346639\n"
     ]
    }
   ],
   "source": [
    "print('Part 1:', sum(map(fuel_requirement, modules)))"
   ]
  },
  {
   "cell_type": "markdown",
   "metadata": {},
   "source": [
    "Part two adds a little iteration; make sure to add to the total only if the new requirement is larger than 0!"
   ]
  },
  {
   "cell_type": "code",
   "execution_count": 4,
   "metadata": {},
   "outputs": [],
   "source": [
    "def iterative_fuel_calc(mass: int) -> int:\n",
    "    total = 0\n",
    "    requirement = fuel_requirement(mass)\n",
    "    while requirement > 0:\n",
    "        total += requirement\n",
    "        requirement = fuel_requirement(requirement)\n",
    "    return total\n",
    "\n",
    "tests = {\n",
    "    14: 2,\n",
    "    1969: 966,\n",
    "    100756: 50346,\n",
    "}\n",
    "for mass, expected in tests.items():\n",
    "    assert iterative_fuel_calc(mass) == expected, (\n",
    "        f\"iterative_fuel_calc({mass}) = {iterative_fuel_calc(mass)} vs. {expected}\"\n",
    "    )"
   ]
  },
  {
   "cell_type": "code",
   "execution_count": 5,
   "metadata": {},
   "outputs": [
    {
     "name": "stdout",
     "output_type": "stream",
     "text": [
      "Part 2: 5017110\n"
     ]
    }
   ],
   "source": [
    "print('Part 2:', sum(map(iterative_fuel_calc, modules)))"
   ]
  }
 ],
 "metadata": {
  "kernelspec": {
   "display_name": "Python 3",
   "language": "python",
   "name": "python3"
  },
  "language_info": {
   "codemirror_mode": {
    "name": "ipython",
    "version": 3
   },
   "file_extension": ".py",
   "mimetype": "text/x-python",
   "name": "python",
   "nbconvert_exporter": "python",
   "pygments_lexer": "ipython3",
   "version": "3.8.0"
  }
 },
 "nbformat": 4,
 "nbformat_minor": 2
}
