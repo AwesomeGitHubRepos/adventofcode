{
 "cells": [
  {
   "cell_type": "markdown",
   "metadata": {},
   "source": [
    "# Day 21 - boolean logic\n",
    "\n",
    "For part 1, I can see from the _springscript_ example that the robot can jump across three holes (`NOT D J`). Given that it only has sensors for the next 4 locations, that's quite helpful, and we do *not* want to jump if there is a hole at `D`.\n",
    "\n",
    "So we need it to instruct to jump if a) there is a hole ahead, and b) we can land again. That's\n",
    "\n",
    "$$\n",
    "(\\lnot A \\lor \\lnot  B \\lor \\lnot  C) \\land D\n",
    "$$\n",
    "\n",
    "So at least one of A, B or C is `false` (not ground, so a hole), and D is `true` (there is ground). We can use the `T` temporary register to record the required `NOT` outcomes, then `OR` those with the `J` register, then finally `AND` the outcome of those with `D`. Remember that `J` and `T` start out `false`:\n",
    "\n",
    "```\n",
    "NOT A J   # if A is a hole perhaps jump\n",
    "NOT B T   # or if B is a hole\n",
    "OR  T J   # perhaps jump\n",
    "NOT C T   # or if C is a hole\n",
    "OR  T J   # perhaps jump\n",
    "AND D J   # but only if D is ground\n",
    "```\n",
    "\n",
    "That's 6 instructions. Using [De Morgan's laws](https://en.wikipedia.org/wiki/De_Morgan%27s_laws) we can transform a group of $(\\lnot R_1 \\lor \\lnot R_2 \\ldot)$ to $\\lnot(R_1 \\land R_2 \\ldot)$ and so save an instruction:\n",
    "\n",
    "```\n",
    "OR  A T   # copy A to T, if A is ground\n",
    "AND B T   # and if B is ground\n",
    "AND C T   # and C is ground\n",
    "NOT T J   # if none of that is true, jump\n",
    "AND D J   # but only if D is ground\n",
    "```"
   ]
  },
  {
   "cell_type": "code",
   "execution_count": 1,
   "metadata": {},
   "outputs": [],
   "source": [
    "from __future__ import annotations\n",
    "from typing import List, Sequence, Union\n",
    "\n",
    "from intcode import CPU, ioset\n",
    "\n",
    "def exec_springscript(memory: List[int], script: Sequence[Union[bytes, str]], exec: bytes = b\"WALK\") -> int:\n",
    "    \"\"\"Accepts springscript lines with extra whitespace and comments after #\"\"\"\n",
    "    if isinstance(exec, str):\n",
    "        exec = exec.encode(\"ASCII\")\n",
    "    lines = []\n",
    "    for line in script:\n",
    "        if isinstance(line, str):\n",
    "            line = line.encode(\"ASCII\")\n",
    "        if b\"#\" in line:\n",
    "            line = line.partition(b\"#\")[0]\n",
    "        # normalise whitespace\n",
    "        line = b\" \".join(line.split())\n",
    "        if line:\n",
    "            lines.append(line)\n",
    "    if lines[-1] != exec:\n",
    "        lines.append(exec)\n",
    "    springscript = b\"\\n\".join(lines) + b\"\\n\"\n",
    "    outputs, opcodes = ioset(*springscript)\n",
    "    CPU(opcodes).reset(memory).execute()\n",
    "    \n",
    "    if 0 <= outputs[-1] < 256:\n",
    "        raise ValueError(bytes(outputs).decode(\"ASCII\"))\n",
    "    return outputs[-1]"
   ]
  },
  {
   "cell_type": "code",
   "execution_count": 2,
   "metadata": {},
   "outputs": [],
   "source": [
    "import aocd\n",
    "data = aocd.get_data(day=21, year=2019)\n",
    "memory = list(map(int, data.split(',')))"
   ]
  },
  {
   "cell_type": "code",
   "execution_count": 3,
   "metadata": {},
   "outputs": [
    {
     "name": "stdout",
     "output_type": "stream",
     "text": [
      "Part 1: 19352720\n"
     ]
    }
   ],
   "source": [
    "part1_springscript = \"\"\"\\\n",
    "OR  A T   # copy A to T, if A is ground\n",
    "AND B T   # and if B is ground\n",
    "AND C T   # and C is ground\n",
    "NOT T J   # if none of that is true, jump\n",
    "AND D J   # but only if D is ground\n",
    "\"\"\".splitlines()\n",
    "print(\"Part 1:\", exec_springscript(memory, part1_springscript))"
   ]
  },
  {
   "cell_type": "markdown",
   "metadata": {},
   "source": [
    "## Part 2\n",
    "\n",
    "Now we are told we *can* look further. I'm going to assume this means we only want to enter an area if we know we can cross the next 9 positions. From experiments it appears that the bot will walk one step after a jump that we can jump twice and so can test the options for *2* different positions after the second jump (H and I), we need to make sure we can make those jumps. Given that the bot will re-evaluate, on landing on `D`, how to proceed from there, we want to avaid jumping into a situation we can't handle from that point.\n",
    "\n",
    "Here's the first such situation we can handle; we can jump across to D, and we can jump across to H, so we are fine, and presumably we can jump from H onwards if `I` is a hole:\n",
    "\n",
    "```\n",
    "@\n",
    "##???#???#?\n",
    "^ ABCDEFGHI\n",
    "|\n",
    "We are here, to jump from the next tile, distance 4, to D\n",
    "```\n",
    "\n",
    "We can also handle walking a single step, then evaluate if we need to jump again:\n",
    "\n",
    "```\n",
    "@\n",
    "##???##????\n",
    "  ABCDEFGHI\n",
    "```\n",
    "\n",
    "Together with the logic of part 1, that's:\n",
    "\n",
    "$$\n",
    "(\\lnot A \\lor \\lnot  B \\lor \\lnot  C) \\land D\n",
    " \\land (H \\lor E)\n",
    "$$\n",
    "\n",
    "which turns into the following springscript:\n",
    "\n",
    "```\n",
    "OR  A T   # copy A to T, if A is ground\n",
    "AND B T   # and if B is ground\n",
    "AND C T   # and C is ground\n",
    "NOT T J   # if none of that is true, jump\n",
    "AND D J   # but only if D is ground\n",
    "# we need to copy H to T to ignore\n",
    "# the previous value of T\n",
    "NOT H T   # not H is the inverse of H\n",
    "NOT T T   # not T is now equal to H, true if H is ground\n",
    "OR  E T   # or if E is ground\n",
    "AND T J   # then confirm the jump\n",
    "```\n",
    "\n",
    "9 instructions, so well within the limit."
   ]
  },
  {
   "cell_type": "code",
   "execution_count": 4,
   "metadata": {},
   "outputs": [
    {
     "name": "stdout",
     "output_type": "stream",
     "text": [
      "Part 2: 1143652885\n"
     ]
    }
   ],
   "source": [
    "part2_springscript = \"\"\"\\\n",
    "OR  A T   # copy A to T, if A is ground\n",
    "AND B T   # and if B is ground\n",
    "AND C T   # and C is ground\n",
    "NOT T J   # if none of that is true, jump\n",
    "AND D J   # but only if D is ground\n",
    "# we need to copy H to T to ignore\n",
    "# the previous value of T\n",
    "NOT H T   # not H is the inverse of H\n",
    "NOT T T   # not T is now equal to H, true if H is ground\n",
    "OR  E T   # or if E is ground\n",
    "AND T J   # then confirm the jump\n",
    "\"\"\".splitlines()\n",
    "print(\"Part 2:\", exec_springscript(memory, part2_springscript, \"RUN\"))"
   ]
  }
 ],
 "metadata": {
  "kernelspec": {
   "display_name": "Python 3",
   "language": "python",
   "name": "python3"
  },
  "language_info": {
   "codemirror_mode": {
    "name": "ipython",
    "version": 3
   },
   "file_extension": ".py",
   "mimetype": "text/x-python",
   "name": "python",
   "nbconvert_exporter": "python",
   "pygments_lexer": "ipython3",
   "version": "3.8.0"
  }
 },
 "nbformat": 4,
 "nbformat_minor": 2
}
