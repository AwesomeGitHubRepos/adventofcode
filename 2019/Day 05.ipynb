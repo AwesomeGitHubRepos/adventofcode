{
 "cells": [
  {
   "cell_type": "markdown",
   "metadata": {
    "tags": [
     "noexport"
    ]
   },
   "source": [
    "# Day 5 - More instructions\n",
    "\n",
    "Today we are asked to extend our little opcode interpreter; we now have input, output and parameter modes. This is a recurring theme with AoC CPU simulations.\n",
    "\n",
    "I also spotted some self-modifying code in the input; the value we are asked to enter is added to an existing opcode, changing it from `00` to `01`, and `ADD` instruction.\n",
    "\n",
    "We'll re-use the code from day 2, but update this to handle parameter modes automatically. Looking up an opcode (via `CPU[...]`) returns a bound instruction object (like functions are bound as methods when looked up on an instance). Calling the bound instruction produces the address counter offset; I suspect that we'll soon have to support jumps too and this makes that easier and cleaner."
   ]
  },
  {
   "cell_type": "code",
   "execution_count": 1,
   "metadata": {
    "tags": [
     "noexport"
    ]
   },
   "outputs": [],
   "source": [
    "import aocd\n",
    "data = aocd.get_data(day=5, year=2019)\n",
    "memory = list(map(int, data.split(',')))"
   ]
  },
  {
   "cell_type": "code",
   "execution_count": 2,
   "metadata": {},
   "outputs": [],
   "source": [
    "from __future__ import annotations\n",
    "\n",
    "import operator\n",
    "from dataclasses import dataclass\n",
    "from functools import partial\n",
    "from enum import Enum\n",
    "from typing import cast, Any, Callable, List, Mapping, Optional, Protocol, Sequence, Tuple, TYPE_CHECKING\n",
    "\n",
    "Memory = List[int]\n",
    "\n",
    "class Halt(Exception):\n",
    "    \"\"\"Signal to end the program\"\"\"\n",
    "    @classmethod\n",
    "    def halt(cls) -> None:\n",
    "        raise cls\n",
    "\n",
    "\n",
    "class _ParameterGetter(Protocol):\n",
    "    def __call__(self, memory: Memory, arg: int) -> int: ...\n",
    "\n",
    "_getters: Sequence[_ParameterGetter] = [cast(_ParameterGetter, operator.getitem), lambda _, a: a]\n",
    "\n",
    "class ParameterMode(Enum):\n",
    "    # modes are an integer (0-9) mapping to a _ParameterGetter definition\n",
    "    position = 0\n",
    "    immediate = 1\n",
    "    \n",
    "    if TYPE_CHECKING:\n",
    "        get: _ParameterGetter\n",
    "\n",
    "    def __new__(cls, value: int) -> ParameterMode:\n",
    "        mode = object.__new__(cls)\n",
    "        mode._value_ = value\n",
    "        mode.get = _getters[value]\n",
    "        return mode\n",
    "\n",
    "@dataclass\n",
    "class Instruction:\n",
    "    # the inputs are processed by a function that operates on arg_count integers\n",
    "    f: Callable[..., Any]\n",
    "    # An opcode takes N parameters, consisting of M arguments and an optional output\n",
    "    arg_count: int = 0\n",
    "    output: bool = False\n",
    "        \n",
    "    def __call__(self, pos: int, *args: int) -> Tuple[int, Any]:\n",
    "        \"\"\"Produce a new CPU position and a result\"\"\"\n",
    "        offset = self.arg_count + int(self.output)\n",
    "        return pos + 1 + offset, self.f(*args)\n",
    "\n",
    "    def bind(self, opcode: int, cpu: CPU) -> BoundInstruction:\n",
    "        # assumption: on binding, cpu.pos points to the position in memory\n",
    "        # for our opcode. \n",
    "        modes = opcode // 100\n",
    "        return BoundInstruction(\n",
    "            self,\n",
    "            tuple(\n",
    "                ParameterMode(modes // (10 ** i) % 10)\n",
    "                for i in range(self.arg_count)\n",
    "            ),\n",
    "            cpu.pos + 1,\n",
    "            cpu,\n",
    "        )\n",
    "\n",
    "\n",
    "@dataclass\n",
    "class BoundInstruction:\n",
    "    instruction: Instruction\n",
    "    modes: Tuple[ParameterMode, ...]\n",
    "    # where to read the arg values from\n",
    "    offset: int\n",
    "    cpu: CPU\n",
    "\n",
    "    def __call__(self) -> int:\n",
    "        mem, pos, instr = self.cpu.memory, self.cpu.pos, self.instruction,\n",
    "        # apply each parameter mode to the memory values\n",
    "        args = (param.get(mem, mem[i]) for i, param in enumerate(self.modes, start=self.offset))\n",
    "        newpos, result = instr(pos, *args)\n",
    "        if instr.output:\n",
    "            target = mem[self.offset + instr.arg_count]\n",
    "            mem[target] = int(result)\n",
    "        return newpos\n",
    "\n",
    "\n",
    "class CPU:\n",
    "    memory: Memory\n",
    "    pos: int\n",
    "    opcodes: Mapping[int, Instruction]\n",
    "        \n",
    "    def __init__(self, opcodes: Mapping[int, Instruction]) -> None:\n",
    "        self.opcodes = opcodes\n",
    "        \n",
    "    def __getitem__(self, opcode: int) -> BoundInstruction:\n",
    "        return self.opcodes[opcode % 100].bind(opcode, self)\n",
    "        \n",
    "    def reset(self, memory: Memory = None) -> None:\n",
    "        if memory is None:\n",
    "            memory = []\n",
    "        self.memory = memory[:]\n",
    "        self.pos: int = 0\n",
    "        \n",
    "    def execute(\n",
    "        self, memory: Memory,\n",
    "    ) -> None:\n",
    "        self.reset(memory)\n",
    "        mem = self.memory\n",
    "        try:\n",
    "            while True:\n",
    "                self.pos = self[mem[self.pos]]()\n",
    "        except Halt:\n",
    "            return\n",
    "\n",
    "base_opcodes = {\n",
    "    1: Instruction(operator.add, 2, True),\n",
    "    2: Instruction(operator.mul, 2, True),\n",
    "    3: Instruction(partial(input, \"i> \"), output=True),\n",
    "    4: Instruction(print, 1),\n",
    "    99: Instruction(Halt.halt),\n",
    "}\n",
    "\n",
    "test_mem = [1, 9, 10, 3, 2, 3, 11, 0, 99, 30, 40, 50]\n",
    "cpu = CPU(base_opcodes)\n",
    "cpu.execute(test_mem)\n",
    "assert cpu.memory[0] == 3500"
   ]
  },
  {
   "cell_type": "code",
   "execution_count": 3,
   "metadata": {
    "tags": [
     "noexport"
    ]
   },
   "outputs": [
    {
     "name": "stdout",
     "output_type": "stream",
     "text": [
      "Part 1: 5044655\n"
     ]
    }
   ],
   "source": [
    "# automating input and output by replacing the 3 and 4 instructions\n",
    "outputs = []\n",
    "part1_opcodes = {\n",
    "    **base_opcodes,\n",
    "    3: Instruction(lambda: 1, output=True),\n",
    "    4: Instruction(outputs.append, 1),\n",
    "}\n",
    "CPU(part1_opcodes).execute(memory)\n",
    "assert not any(outputs[:-1])\n",
    "print(\"Part 1:\", outputs[-1])"
   ]
  },
  {
   "cell_type": "markdown",
   "metadata": {
    "tags": [
     "noexport"
    ]
   },
   "source": [
    "## Part 2\n",
    "\n",
    "We need to add more opcodes, so we'll extend the `opcode` dictionary to add the jumps I anticipated would be added."
   ]
  },
  {
   "cell_type": "code",
   "execution_count": 4,
   "metadata": {},
   "outputs": [],
   "source": [
    "@dataclass\n",
    "class JumpInstruction(Instruction):\n",
    "    def __call__(self, pos: int, *args: int) -> Tuple[int, Any]:\n",
    "        \"\"\"Use last argument as jump target if result is true-ish\"\"\"\n",
    "        *jmpargs, jump_to = args\n",
    "        offset, result = super().__call__(pos, *jmpargs)\n",
    "        return jump_to if result else offset, result\n",
    "    \n",
    "\n",
    "jump_opcodes = {\n",
    "    **base_opcodes,\n",
    "    5: JumpInstruction(bool, 2),\n",
    "    6: JumpInstruction(operator.not_, 2),\n",
    "    7: Instruction(operator.lt, 2, True),\n",
    "    8: Instruction(operator.eq, 2, True),\n",
    "}\n",
    "\n",
    "def test_jumpcodes(instr: Memory, tests: Mapping[int, int]) -> None:\n",
    "    for inp, expected in tests.items():\n",
    "        outputs: List[int] = []\n",
    "        test_opcodes = {\n",
    "            **jump_opcodes,\n",
    "            3: Instruction(lambda: inp, output=True),\n",
    "            4: Instruction(outputs.append, 1),    \n",
    "        }\n",
    "        CPU(test_opcodes).execute(instr)\n",
    "        assert outputs == [expected]\n",
    "\n",
    "tests = (\n",
    "    # input == 8, position mode\n",
    "    ([3, 9, 8, 9, 10, 9, 4, 9, 99, -1, 8], {8: 1, 7: 0}),\n",
    "    # input < 8, position mode\n",
    "    ([3, 9, 7, 9, 10, 9, 4, 9, 99, -1, 8], {7: 1, 8: 0}),\n",
    "    # input == 8, immediate mode\n",
    "    ([3, 3, 1108, -1, 8, 3, 4, 3, 99], {8: 1, 7: 0}),\n",
    "    # input < 8, position mode\n",
    "    ([3, 3, 1107, -1, 8, 3, 4, 3, 99], {7: 1, 8: 0}),\n",
    "    # cmp(input, 8), producing 999, 1000, 1001\n",
    "    (\n",
    "        [3, 21, 1008, 21, 8, 20, 1005, 20, 22, 107, 8, 21, 20, 1006, 20, 31,\n",
    "         1106, 0, 36, 98, 0, 0, 1002, 21, 125, 20, 4, 20, 1105, 1, 46, 104,\n",
    "         999, 1105, 1, 46, 1101, 1000, 1, 20, 4, 20, 1105, 1, 46, 98, 99],\n",
    "        {7: 999, 8: 1000, 42: 1001},\n",
    "    ),\n",
    ")\n",
    "for test in tests:\n",
    "    test_jumpcodes(*test)"
   ]
  },
  {
   "cell_type": "code",
   "execution_count": 5,
   "metadata": {
    "tags": [
     "noexport"
    ]
   },
   "outputs": [
    {
     "name": "stdout",
     "output_type": "stream",
     "text": [
      "Part 1: 7408802\n"
     ]
    }
   ],
   "source": [
    "# automating input and output by replacing the 3 and 4 instructions\n",
    "outputs = []\n",
    "part2_opcodes = {\n",
    "    **jump_opcodes,\n",
    "    3: Instruction(lambda: 5, output=True),\n",
    "    4: Instruction(outputs.append, 1),\n",
    "}\n",
    "CPU(part2_opcodes).execute(memory)\n",
    "print(\"Part 1:\", outputs[0])"
   ]
  }
 ],
 "metadata": {
  "kernelspec": {
   "display_name": "Python 3",
   "language": "python",
   "name": "python3"
  },
  "language_info": {
   "codemirror_mode": {
    "name": "ipython",
    "version": 3
   },
   "file_extension": ".py",
   "mimetype": "text/x-python",
   "name": "python",
   "nbconvert_exporter": "python",
   "pygments_lexer": "ipython3",
   "version": "3.8.0"
  }
 },
 "nbformat": 4,
 "nbformat_minor": 2
}
