{
 "cells": [
  {
   "cell_type": "markdown",
   "metadata": {},
   "source": [
    "# Day 16 - Data validation\n",
    "\n",
    "We are asked to find all numbers that don't fit the validation rules. I've simply parsed all the rules into `range()` objects, then used the [`any()` function](https://docs.python.org/3/library/functions.html#any) to check a given value against validation rules (a value is valid if there is at least one validation rule that matches it).\n"
   ]
  },
  {
   "cell_type": "code",
   "execution_count": 1,
   "metadata": {},
   "outputs": [],
   "source": [
    "from dataclasses import dataclass\n",
    "\n",
    "\n",
    "@dataclass(frozen=True)\n",
    "class ValidationRule:\n",
    "    name: str\n",
    "    range1: range\n",
    "    range2: range\n",
    "\n",
    "    def __contains__(self, value: int) -> bool:\n",
    "        return value in self.range1 or value in self.range2\n",
    "\n",
    "    @classmethod\n",
    "    def from_line(cls, line: str) -> \"ValidationRule\":\n",
    "        name, _, ranges = line.partition(\":\")\n",
    "        return cls(\n",
    "            name,\n",
    "            *(\n",
    "                range(int(start), int(stop) + 1)\n",
    "                for spec in ranges.split(\"or\")\n",
    "                for start, stop in (spec.split(\"-\"),)\n",
    "            ),\n",
    "        )\n",
    "\n",
    "\n",
    "class TicketInfo:\n",
    "    rules: list[ValidationRule]\n",
    "    ticket: list[int]\n",
    "    nearby: list[list[int]]\n",
    "\n",
    "    def __init__(self, data: str) -> None:\n",
    "        sections = [section.splitlines() for section in data.split(\"\\n\\n\")]\n",
    "        self.rules = [ValidationRule.from_line(line) for line in sections[0]]\n",
    "        self.ticket = [int(v) for v in sections[1][1].split(\",\")]\n",
    "        self.nearby = [[int(v) for v in line.split(\",\")] for line in sections[2][1:]]\n",
    "\n",
    "    def error_rate(self):\n",
    "        return sum(\n",
    "            v\n",
    "            for ticket in self.nearby\n",
    "            for v in ticket\n",
    "            if not any(v in rule for rule in self.rules)\n",
    "        )\n",
    "\n",
    "\n",
    "test_tickets = TicketInfo(\n",
    "    \"\"\"\\\n",
    "class: 1-3 or 5-7\n",
    "row: 6-11 or 33-44\n",
    "seat: 13-40 or 45-50\n",
    "\n",
    "your ticket:\n",
    "7,1,14\n",
    "\n",
    "nearby tickets:\n",
    "7,3,47\n",
    "40,4,50\n",
    "55,2,20\n",
    "38,6,12\n",
    "\"\"\"\n",
    ")\n",
    "\n",
    "assert test_tickets.error_rate() == 71"
   ]
  },
  {
   "cell_type": "code",
   "execution_count": 2,
   "metadata": {},
   "outputs": [],
   "source": [
    "import aocd\n",
    "\n",
    "data = aocd.get_data(day=16, year=2020)"
   ]
  },
  {
   "cell_type": "code",
   "execution_count": 3,
   "metadata": {},
   "outputs": [
    {
     "name": "stdout",
     "output_type": "stream",
     "text": [
      "Part 1: 21996\n"
     ]
    }
   ],
   "source": [
    "print(\"Part 1:\", TicketInfo(data).error_rate())"
   ]
  },
  {
   "cell_type": "markdown",
   "metadata": {},
   "source": [
    "## Part 2\n",
    "\n",
    "To find what rule matches what column, I collected all rules that fit a given column of values together into a set. Then, for any set of size 1, you know that that single rule must belong to that specific column and you can remove the rule from the other sets. Repeat until there are no columns without rules left.\n"
   ]
  },
  {
   "cell_type": "code",
   "execution_count": 4,
   "metadata": {},
   "outputs": [],
   "source": [
    "class MatchedFieldsTicketInfo(TicketInfo):\n",
    "    @property\n",
    "    def valid_nearby_tickets(self):\n",
    "        return [\n",
    "            ticket\n",
    "            for ticket in self.nearby\n",
    "            if all(any(v in rule for rule in self.rules) for v in ticket)\n",
    "        ]\n",
    "\n",
    "    @property\n",
    "    def rule_order(self):\n",
    "        columns = list(zip(*self.valid_nearby_tickets))\n",
    "        column_rules = [\n",
    "            (i, {rule for rule in self.rules if all(v in rule for v in col)})\n",
    "            for i, col in enumerate(columns)\n",
    "        ]\n",
    "        order = [None] * len(column_rules)\n",
    "        while column_rules:\n",
    "            idx, colrules = min(column_rules, key=lambda i_r: len(i_r[1]))\n",
    "            (rule,) = colrules  # if there isn't just one, we can't solve this\n",
    "            order[idx] = rule\n",
    "            column_rules = [\n",
    "                (i, rules - {rule}) for i, rules in column_rules if i != idx\n",
    "            ]\n",
    "\n",
    "        return order\n",
    "\n",
    "    @property\n",
    "    def ticket_data(self):\n",
    "        return {rule.name: v for v, rule in zip(self.ticket, self.rule_order)}\n",
    "\n",
    "\n",
    "test2_data = MatchedFieldsTicketInfo(\n",
    "    \"\"\"\\\n",
    "class: 0-1 or 4-19\n",
    "row: 0-5 or 8-19\n",
    "seat: 0-13 or 16-19\n",
    "\n",
    "your ticket:\n",
    "11,12,13\n",
    "\n",
    "nearby tickets:\n",
    "3,9,18\n",
    "15,1,5\n",
    "5,14,9\n",
    "\"\"\"\n",
    ")\n",
    "\n",
    "assert test2_data.ticket_data == {\"class\": 12, \"row\": 11, \"seat\": 13}"
   ]
  },
  {
   "cell_type": "code",
   "execution_count": 5,
   "metadata": {},
   "outputs": [
    {
     "name": "stdout",
     "output_type": "stream",
     "text": [
      "Part 2: 650080463519\n"
     ]
    }
   ],
   "source": [
    "from functools import reduce\n",
    "from operator import mul\n",
    "\n",
    "ticket = MatchedFieldsTicketInfo(data).ticket_data\n",
    "print(\n",
    "    \"Part 2:\",\n",
    "    reduce(mul, (v for name, v in ticket.items() if name.startswith(\"departure\"))),\n",
    ")"
   ]
  },
  {
   "cell_type": "code",
   "execution_count": 6,
   "metadata": {},
   "outputs": [
    {
     "name": "stdout",
     "output_type": "stream",
     "text": [
      "               train: 173\n",
      "    arrival location: 191\n",
      "     departure track: 61\n",
      "                seat: 199\n",
      "               class: 101\n",
      "       arrival track: 179\n",
      "      departure date: 257\n",
      "     arrival station: 79\n",
      "                 row: 193\n",
      "                type: 223\n",
      "            duration: 139\n",
      "    arrival platform: 97\n",
      "               wagon: 83\n",
      "               route: 197\n",
      "                zone: 251\n",
      "  departure platform: 53\n",
      "      departure time: 89\n",
      "   departure station: 149\n",
      "               price: 181\n",
      "  departure location: 59\n"
     ]
    }
   ],
   "source": [
    "print(*(f\"{field:>20}: {value}\" for field, value in ticket.items()), sep=\"\\n\")"
   ]
  }
 ],
 "metadata": {
  "kernelspec": {
   "display_name": "Python 3",
   "language": "python",
   "name": "python3"
  },
  "language_info": {
   "codemirror_mode": {
    "name": "ipython",
    "version": 3
   },
   "file_extension": ".py",
   "mimetype": "text/x-python",
   "name": "python",
   "nbconvert_exporter": "python",
   "pygments_lexer": "ipython3",
   "version": "3.12.0"
  },
  "orig_nbformat": 2
 },
 "nbformat": 4,
 "nbformat_minor": 2
}
