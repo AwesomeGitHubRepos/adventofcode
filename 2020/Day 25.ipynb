{
 "cells": [
  {
   "cell_type": "markdown",
   "metadata": {},
   "source": [
    "# Day 25 - Breaking the door code\n",
    "\n",
    "- https://adventofcode.com/2020/day/25\n",
    "\n",
    "We are given an introduction into [public key encryption](https://en.wikipedia.org/wiki/Public-key_cryptography); the private keys are the _loop size_ the card and door use, and the _transform subject number_ function described is basically a [memory efficient modular exponentiation](https://en.wikipedia.org/wiki/Modular_exponentiation#Memory-efficient_method), which is a fundamental building block for [RSA public key encryption](<https://en.wikipedia.org/wiki/RSA_(cryptosystem)>).\n",
    "\n",
    "The inputs to the `transform_subject_number`, 7 and 20201227, are both prime numbers as expected, but they are pretty small. We can brute-force finding the loop sizes for either the card or door, it is guaranteed to be in the range [1, 20201227). Even Python code can iterate through 20 million numbers pretty fast. _Real_ public key encryption involves much, much larger numbers.\n",
    "\n",
    "Note that the Python [`pow()` function](https://docs.python.org/3/library/functions.html#pow) supports modular exponentiation out of the box; we can implement the `transform_subject_number(subject_number, loop_size)` function as `pow(subject_number, loop_size, 20201227)`.\n",
    "\n",
    "As is the case every year, part 2 is given to us for free. Merry Christmas!\n"
   ]
  },
  {
   "cell_type": "code",
   "execution_count": 1,
   "metadata": {},
   "outputs": [],
   "source": [
    "from functools import partial\n",
    "from itertools import count\n",
    "\n",
    "MOD = 20201227\n",
    "KEY_SEED = 7\n",
    "\n",
    "transform_subject_number = partial(pow, mod=MOD)\n",
    "\n",
    "\n",
    "def crack_encryption_key(key: int) -> int:\n",
    "    for loop_size in count(1):\n",
    "        if transform_subject_number(KEY_SEED, loop_size) == key:\n",
    "            return loop_size\n",
    "\n",
    "\n",
    "assert transform_subject_number(KEY_SEED, 8) == 5764801\n",
    "assert crack_encryption_key(5764801) == 8\n",
    "assert transform_subject_number(KEY_SEED, 11) == 17807724\n",
    "assert crack_encryption_key(17807724) == 11\n",
    "assert (\n",
    "    transform_subject_number(17807724, 8)\n",
    "    == 14897079\n",
    "    == transform_subject_number(5764801, 11)\n",
    ")"
   ]
  },
  {
   "cell_type": "code",
   "execution_count": 2,
   "metadata": {},
   "outputs": [],
   "source": [
    "import aocd\n",
    "\n",
    "card_key, door_key = map(int, aocd.get_data(day=25, year=2020).split())"
   ]
  },
  {
   "cell_type": "code",
   "execution_count": 3,
   "metadata": {},
   "outputs": [
    {
     "name": "stdout",
     "output_type": "stream",
     "text": [
      "Part 1: 7936032\n"
     ]
    }
   ],
   "source": [
    "card_loop_size = crack_encryption_key(card_key)\n",
    "encryption_key = transform_subject_number(door_key, card_loop_size)\n",
    "print(\"Part 1:\", encryption_key)"
   ]
  }
 ],
 "metadata": {
  "kernelspec": {
   "display_name": "Python 3",
   "language": "python",
   "name": "python3"
  },
  "language_info": {
   "codemirror_mode": {
    "name": "ipython",
    "version": 3
   },
   "file_extension": ".py",
   "mimetype": "text/x-python",
   "name": "python",
   "nbconvert_exporter": "python",
   "pygments_lexer": "ipython3",
   "version": "3.9.0-final"
  },
  "orig_nbformat": 2
 },
 "nbformat": 4,
 "nbformat_minor": 2
}
