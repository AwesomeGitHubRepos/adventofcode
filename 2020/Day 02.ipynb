{
 "cells": [
  {
   "cell_type": "markdown",
   "metadata": {},
   "source": [
    "# Counting letters\n",
    "\n",
    "- https://adventofcode.com/2020/day/2\n",
    "\n",
    "I like to use a dataclass for parsing tasks like these. A single regex to read out each line, and methods on the class to implement the password rule checks.\n"
   ]
  },
  {
   "cell_type": "code",
   "execution_count": 1,
   "metadata": {},
   "outputs": [],
   "source": [
    "import re\n",
    "from dataclasses import dataclass\n",
    "\n",
    "_line = re.compile(\n",
    "    r\"^(?P<min_>\\d+)-(?P<max_>\\d+) (?P<letter>[a-z]):\\s*(?P<password>[a-z]+)$\"\n",
    ")\n",
    "\n",
    "\n",
    "@dataclass\n",
    "class PWRule:\n",
    "    min_: int\n",
    "    max_: int\n",
    "    letter: str\n",
    "    password: str\n",
    "\n",
    "    @classmethod\n",
    "    def from_line(cls, line: str) -> \"PWRule\":\n",
    "        match = _line.search(line)\n",
    "        min_, max_ = int(match[\"min_\"]), int(match[\"max_\"])\n",
    "        return cls(min_, max_, match[\"letter\"], match[\"password\"])\n",
    "\n",
    "    def is_valid(self) -> bool:\n",
    "        return self.min_ <= self.password.count(self.letter) <= self.max_\n",
    "\n",
    "    def is_valid_toboggan_policy(self) -> bool:\n",
    "        return (self.password[self.min_ - 1], self.password[self.max_ - 1]).count(\n",
    "            self.letter\n",
    "        ) == 1\n",
    "\n",
    "\n",
    "def read_passwords(lines):\n",
    "    return [PWRule.from_line(line) for line in lines]\n",
    "\n",
    "\n",
    "test = read_passwords(\n",
    "    \"\"\"\\\n",
    "1-3 a: abcde\n",
    "1-3 b: cdefg\n",
    "2-9 c: ccccccccc\n",
    "\"\"\".splitlines()\n",
    ")\n",
    "\n",
    "assert sum(pwr.is_valid() for pwr in test) == 2\n",
    "assert sum(pwr.is_valid_toboggan_policy() for pwr in test) == 1"
   ]
  },
  {
   "cell_type": "code",
   "execution_count": 2,
   "metadata": {},
   "outputs": [],
   "source": [
    "import aocd\n",
    "\n",
    "rules = read_passwords(aocd.get_data(day=2, year=2020).splitlines())"
   ]
  },
  {
   "cell_type": "code",
   "execution_count": 3,
   "metadata": {},
   "outputs": [
    {
     "name": "stdout",
     "output_type": "stream",
     "text": [
      "Part 1: 591\n"
     ]
    }
   ],
   "source": [
    "print(\"Part 1:\", sum(pwr.is_valid() for pwr in rules))"
   ]
  },
  {
   "cell_type": "code",
   "execution_count": 4,
   "metadata": {},
   "outputs": [
    {
     "name": "stdout",
     "output_type": "stream",
     "text": [
      "Part 2: 335\n"
     ]
    }
   ],
   "source": [
    "print(\"Part 2:\", sum(pwr.is_valid_toboggan_policy() for pwr in rules))"
   ]
  }
 ],
 "metadata": {
  "kernelspec": {
   "display_name": "Python 3",
   "name": "python3"
  },
  "language_info": {
   "codemirror_mode": {
    "name": "ipython",
    "version": 3
   },
   "file_extension": ".py",
   "mimetype": "text/x-python",
   "name": "python",
   "nbconvert_exporter": "python",
   "pygments_lexer": "ipython3",
   "version": "3.12.0"
  },
  "orig_nbformat": 2
 },
 "nbformat": 4,
 "nbformat_minor": 2
}
