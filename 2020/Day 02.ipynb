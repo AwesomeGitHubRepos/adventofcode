{
 "metadata": {
  "language_info": {
   "codemirror_mode": {
    "name": "ipython",
    "version": 3
   },
   "file_extension": ".py",
   "mimetype": "text/x-python",
   "name": "python",
   "nbconvert_exporter": "python",
   "pygments_lexer": "ipython3",
   "version": "3.9.0-final"
  },
  "orig_nbformat": 2,
  "kernelspec": {
   "name": "python3",
   "display_name": "Python 3"
  }
 },
 "nbformat": 4,
 "nbformat_minor": 2,
 "cells": [
  {
   "source": [
    "# Counting letters\n",
    "\n",
    "* https://adventofcode.com/2020/day/2\n",
    "\n",
    "I like to use a dataclass for parsing tasks like these. A single regex to read out each line, and methods on the class to implement the password rule checks."
   ],
   "cell_type": "markdown",
   "metadata": {}
  },
  {
   "cell_type": "code",
   "execution_count": 1,
   "metadata": {},
   "outputs": [],
   "source": [
    "import re\n",
    "from dataclasses import dataclass\n",
    "\n",
    "_line = re.compile(r'^(?P<min_>\\d+)-(?P<max_>\\d+) (?P<letter>[a-z]):\\s*(?P<password>[a-z]+)$')\n",
    "\n",
    "@dataclass\n",
    "class PWRule:\n",
    "    min_: int\n",
    "    max_: int\n",
    "    letter: str\n",
    "    password: str\n",
    "\n",
    "    @classmethod\n",
    "    def from_line(cls, line: str) -> 'PWRule':\n",
    "        match = _line.search(line)\n",
    "        min_, max_ = int(match['min_']), int(match['max_'])\n",
    "        return cls(min_, max_, match['letter'], match['password'])\n",
    "\n",
    "    def is_valid(self) -> bool:\n",
    "        return self.min_ <= self.password.count(self.letter) <= self.max_\n",
    "\n",
    "    def is_valid_toboggan_policy(self) -> bool:\n",
    "        return (self.password[self.min_ - 1], self.password[self.max_ - 1]).count(self.letter) == 1\n",
    "\n",
    "\n",
    "def read_passwords(lines):\n",
    "    return [PWRule.from_line(l) for l in lines]\n",
    "\n",
    "\n",
    "test = read_passwords('''\\\n",
    "1-3 a: abcde\n",
    "1-3 b: cdefg\n",
    "2-9 c: ccccccccc\n",
    "'''.splitlines())\n",
    "\n",
    "assert sum(pwr.is_valid() for pwr in test) == 2\n",
    "assert sum(pwr.is_valid_toboggan_policy() for pwr in test) == 1"
   ]
  },
  {
   "cell_type": "code",
   "execution_count": 2,
   "metadata": {},
   "outputs": [],
   "source": [
    "    import aocd\n",
    "    rules = read_passwords(aocd.get_data(day=2, year=2020).splitlines())"
   ]
  },
  {
   "cell_type": "code",
   "execution_count": 3,
   "metadata": {},
   "outputs": [
    {
     "output_type": "stream",
     "name": "stdout",
     "text": [
      "Part 1: 591\n"
     ]
    }
   ],
   "source": [
    "print('Part 1:', sum(pwr.is_valid() for pwr in rules))"
   ]
  },
  {
   "cell_type": "code",
   "execution_count": 4,
   "metadata": {},
   "outputs": [
    {
     "output_type": "stream",
     "name": "stdout",
     "text": [
      "Part 2: 335\n"
     ]
    }
   ],
   "source": [
    "print('Part 2:', sum(pwr.is_valid_toboggan_policy() for pwr in rules))"
   ]
  }
 ]
}