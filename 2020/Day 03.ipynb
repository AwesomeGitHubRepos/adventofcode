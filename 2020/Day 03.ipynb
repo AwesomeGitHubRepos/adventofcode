{
 "cells": [
  {
   "cell_type": "markdown",
   "metadata": {},
   "source": [
    "# Modulo tree hopping\n",
    "\n",
    "- https://adventofcode.com/2020/day/3\n",
    "\n",
    "How could we not have a modulo-based challenge in Advent of Code? This one is simple, to wrap our map to the right, just keep increasing the column number by 3 and use that number module the width of the map.\n",
    "\n",
    "I used a functional style implementation for both parts; the column count is handled by [`itertools.count()`](https://docs.python.org/3/library/itertools.html#itertools.count) with a `step` size (part two makes that step size variable), and [`itertools.islice()`](https://docs.python.org/3/library/itertools.html#itertools.islice) makes it trivial to take every Nth row.\n",
    "\n",
    "Multiplying all the tree counts for each slope (part 2) is done using [`functools.reduce()`](https://docs.python.org/3/library/functools.html#functools.reduce), passing the numbers to [`operator.mul()`](https://docs.python.org/3/library/operator.html#operator.mul) as the functional equivalent of the `*` multiplication operator.\n"
   ]
  },
  {
   "cell_type": "code",
   "execution_count": 1,
   "metadata": {},
   "outputs": [],
   "source": [
    "from functools import reduce\n",
    "from itertools import count, islice\n",
    "from operator import mul\n",
    "\n",
    "\n",
    "def count_trees(map, right=3, down=1):\n",
    "    rows = islice(map.splitlines(), None, None, down)\n",
    "    cols = count(step=right)\n",
    "    return sum(row[col % len(row)] == \"#\" for (row, col) in zip(rows, cols))\n",
    "\n",
    "\n",
    "def test_slopes(map):\n",
    "    dirs = ((1, 1), (3, 1), (5, 1), (7, 1), (1, 2))\n",
    "    counts = (count_trees(map, r, d) for r, d in dirs)\n",
    "    return reduce(mul, counts)\n",
    "\n",
    "\n",
    "testmap = \"\"\"\\\n",
    "..##.......\n",
    "#...#...#..\n",
    ".#....#..#.\n",
    "..#.#...#.#\n",
    ".#...##..#.\n",
    "..#.##.....\n",
    ".#.#.#....#\n",
    ".#........#\n",
    "#.##...#...\n",
    "#...##....#\n",
    ".#..#...#.#\n",
    "\"\"\"\n",
    "assert count_trees(testmap) == 7\n",
    "assert test_slopes(testmap) == 336"
   ]
  },
  {
   "cell_type": "code",
   "execution_count": 2,
   "metadata": {},
   "outputs": [],
   "source": [
    "import aocd\n",
    "\n",
    "map_ = aocd.get_data(day=3, year=2020)"
   ]
  },
  {
   "cell_type": "code",
   "execution_count": 3,
   "metadata": {},
   "outputs": [
    {
     "name": "stdout",
     "output_type": "stream",
     "text": [
      "Part 1: 292\n"
     ]
    }
   ],
   "source": [
    "print(\"Part 1:\", count_trees(map_))"
   ]
  },
  {
   "cell_type": "code",
   "execution_count": 4,
   "metadata": {},
   "outputs": [
    {
     "name": "stdout",
     "output_type": "stream",
     "text": [
      "Part 2: 9354744432\n"
     ]
    }
   ],
   "source": [
    "print(\"Part 2:\", test_slopes(map_))"
   ]
  }
 ],
 "metadata": {
  "kernelspec": {
   "display_name": "Python 3",
   "name": "python3"
  },
  "language_info": {
   "codemirror_mode": {
    "name": "ipython",
    "version": 3
   },
   "file_extension": ".py",
   "mimetype": "text/x-python",
   "name": "python",
   "nbconvert_exporter": "python",
   "pygments_lexer": "ipython3",
   "version": "3.12.0"
  },
  "orig_nbformat": 2
 },
 "nbformat": 4,
 "nbformat_minor": 2
}
