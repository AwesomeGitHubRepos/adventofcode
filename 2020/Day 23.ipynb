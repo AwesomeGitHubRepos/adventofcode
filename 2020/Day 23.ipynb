{
 "metadata": {
  "language_info": {
   "codemirror_mode": {
    "name": "ipython",
    "version": 3
   },
   "file_extension": ".py",
   "mimetype": "text/x-python",
   "name": "python",
   "nbconvert_exporter": "python",
   "pygments_lexer": "ipython3",
   "version": "3.9.0-final"
  },
  "orig_nbformat": 2,
  "kernelspec": {
   "name": "python3",
   "display_name": "Python 3",
   "language": "python"
  }
 },
 "nbformat": 4,
 "nbformat_minor": 2,
 "cells": [
  {
   "source": [
    "# Day 23 - Linked list reordering\n",
    "\n",
    "* https://adventofcode.com/2020/day/23\n",
    "\n",
    "I strongly suspect that part 2 will ask us to turn the knobs up on the number of rounds and number of cups, but for part 1 I just implemented the described steps.\n",
    "\n",
    "My initial implementation used a standard Python list that rebuilt each round. But, I then remembered how I recently adviced a client to not use an 'ordering' column in a SQL table but instead [simulate a linked list](https://www.sqlservercentral.com/articles/linked-lists-1), to minimise what rows have to be updated each time a row changes its location. So I switched to doing the same for the cups:\n",
    "\n",
    "- Each cup _label_ becomes an index in to a list.\n",
    "- Each list _value_ becomes the index of the cup that follows (singly linked list)\n",
    "\n",
    "Reordering then becomes a simple assignment operation to the 'current' cup and the preceding index in the list (adjusted to loop around as needed, skipping affected removed cups):\n",
    "\n",
    "- The current cup index is updated to reference the cup after the 3 removed.\n",
    "- The preceding cup is updated to reference what the current cup used to reference.\n",
    "- The third removed cup is updated to referece what the preceding cup used to reference.\n",
    "\n",
    "Because the labels start at 1, index 0 is kept at `None`."
   ],
   "cell_type": "markdown",
   "metadata": {}
  },
  {
   "cell_type": "code",
   "execution_count": 1,
   "metadata": {},
   "outputs": [],
   "source": [
    "from dataclasses import dataclass\n",
    "from typing import List\n",
    "\n",
    "class CupGame:\n",
    "    cups: List[int]\n",
    "    \n",
    "    def __init__(self, cuplabels: str) -> None:\n",
    "        labels = [int(c) for c in cuplabels]\n",
    "        cups = self.cups = [None] * (max(labels) + 1)\n",
    "        prev = labels[-1]\n",
    "        for label in labels:\n",
    "            cups[prev] = label\n",
    "            prev = label\n",
    "        self._current = labels[0]\n",
    "\n",
    "    def play_rounds(self, rounds: int = 100) -> \"CupGame\":\n",
    "        cups, current, l = self.cups, self._current, len(self.cups)\n",
    "        for _ in range(rounds):\n",
    "            target = current - 1 if current > 1 else l - 1\n",
    "            removed = current\n",
    "            removed_labels = [removed := cups[removed] for i in range(3)]\n",
    "            while target in removed_labels:\n",
    "                target = target - 1 if target > 1 else l - 1\n",
    "            cups[current], cups[target], cups[removed] = cups[removed], cups[current], cups[target]\n",
    "            self._current = current = cups[current]\n",
    "        return self\n",
    "    \n",
    "    @property\n",
    "    def follows_one(self):\n",
    "        cups, label, count = self.cups, 1, len(self.cups) - 2\n",
    "        return ''.join([str(label := cups[label]) for _ in range(count)])\n",
    "\n",
    "assert CupGame('389125467').play_rounds(10).follows_one == '92658374'\n",
    "assert CupGame('389125467').play_rounds().follows_one == '67384529'"
   ]
  },
  {
   "cell_type": "code",
   "execution_count": 2,
   "metadata": {},
   "outputs": [],
   "source": [
    "import aocd\n",
    "cupdata = aocd.get_data(day=23, year=2020)"
   ]
  },
  {
   "cell_type": "code",
   "execution_count": 3,
   "metadata": {},
   "outputs": [
    {
     "output_type": "stream",
     "name": "stdout",
     "text": [
      "Part 1: 27865934\n"
     ]
    }
   ],
   "source": [
    "print(\"Part 1:\", CupGame(cupdata).play_rounds().follows_one)"
   ]
  }
 ]
}