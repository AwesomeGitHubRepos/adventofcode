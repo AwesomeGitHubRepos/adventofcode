{
 "metadata": {
  "language_info": {
   "codemirror_mode": {
    "name": "ipython",
    "version": 3
   },
   "file_extension": ".py",
   "mimetype": "text/x-python",
   "name": "python",
   "nbconvert_exporter": "python",
   "pygments_lexer": "ipython3",
   "version": "3.9.0-final"
  },
  "orig_nbformat": 2,
  "kernelspec": {
   "name": "python3",
   "display_name": "Python 3",
   "language": "python"
  }
 },
 "nbformat": 4,
 "nbformat_minor": 2,
 "cells": [
  {
   "source": [
    "# Day 23 - Modulus problems or circular data structures?\n",
    "\n",
    "* https://adventofcode.com/2020/day/23\n",
    "\n",
    "I strongly suspect that part 2 will ask us to turn the knobs up on the number of rounds and number of cups, but for part 1 I just implemented the described steps (with a separate sorted list of labels to make it easier to determine the destination cup).\n",
    "\n",
    "However, there may well be a mathematical approach to this problem, altough I don't immediately recognize the series yet."
   ],
   "cell_type": "markdown",
   "metadata": {}
  },
  {
   "cell_type": "code",
   "execution_count": 1,
   "metadata": {},
   "outputs": [],
   "source": [
    "from dataclasses import dataclass\n",
    "from typing import List\n",
    "\n",
    "@dataclass\n",
    "class CupGame:\n",
    "    cups: List[int]\n",
    "    \n",
    "    def __post_init__(self) -> None:\n",
    "        self._labels = sorted(self.cups)\n",
    "    \n",
    "    @classmethod\n",
    "    def from_string(cls, cups: str) -> \"CupGame\":\n",
    "        return cls([int(c) for c in cups])\n",
    "\n",
    "    def play_rounds(self, rounds: int = 100) -> str:\n",
    "        cups, labels = self.cups, self._labels\n",
    "        for _ in range(rounds):\n",
    "            current = cups[0]\n",
    "            removed = cups[1:4]\n",
    "            idx = (labels.index(current) - 1) % len(labels)\n",
    "            while labels[idx] in removed:\n",
    "                idx = (idx - 1) % len(labels)\n",
    "            destidx = cups.index(labels[idx]) + 1  # guaranteed to be < len(cups)\n",
    "            cups[:] = [*cups[4:destidx], *removed, *cups[destidx:], cups[0]]\n",
    "        # all labels after 1\n",
    "        oneidx = cups.index(1)\n",
    "        return \"\".join([str(c) for c in [*cups[oneidx + 1 :], *cups[:oneidx]]])\n",
    "\n",
    "testcups = CupGame.from_string('389125467')\n",
    "assert testcups.play_rounds() == '67384529'"
   ]
  },
  {
   "cell_type": "code",
   "execution_count": 2,
   "metadata": {},
   "outputs": [],
   "source": [
    "import aocd\n",
    "cups = CupGame.from_string(aocd.get_data(day=23, year=2020))"
   ]
  },
  {
   "cell_type": "code",
   "execution_count": 3,
   "metadata": {},
   "outputs": [
    {
     "output_type": "stream",
     "name": "stdout",
     "text": [
      "Part 1: 27865934\n"
     ]
    }
   ],
   "source": [
    "print(\"Part 1:\", cups.play_rounds())"
   ]
  }
 ]
}