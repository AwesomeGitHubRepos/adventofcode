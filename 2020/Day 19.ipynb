{
 "metadata": {
  "language_info": {
   "codemirror_mode": {
    "name": "ipython",
    "version": 3
   },
   "file_extension": ".py",
   "mimetype": "text/x-python",
   "name": "python",
   "nbconvert_exporter": "python",
   "pygments_lexer": "ipython3",
   "version": "3.9.0-final"
  },
  "orig_nbformat": 2,
  "kernelspec": {
   "name": "python3",
   "display_name": "Python 3",
   "language": "python"
  }
 },
 "nbformat": 4,
 "nbformat_minor": 2,
 "cells": [
  {
   "source": [
    "# Day 19 - regular expressions\n",
    "\n",
    "* https://adventofcode.com/2020/day/19\n",
    "\n",
    "The problem description amounts to a [regular expression](https://www.regular-expressions.info/); by traversing the graph of rules you can combine the string literals into a regex pattern that the Python [`re` module](https://docs.python.org/3/library/re.html) can compile into a pattern. Using the [`Pattern.fullmatch()` method](https://docs.python.org/3/library/re.html#re.Pattern.fullmatch) you can then check each message for validity.\n",
    "\n",
    "Having just used the `tokenize` module the [day before](./Day%2018.ipynb), I found it very helpful to parse the rules, as well."
   ],
   "cell_type": "markdown",
   "metadata": {}
  },
  {
   "cell_type": "code",
   "execution_count": 1,
   "metadata": {},
   "outputs": [],
   "source": [
    "import re\n",
    "from collections import deque\n",
    "from collections.abc import Iterable, Mapping, MutableMapping\n",
    "from io import StringIO\n",
    "from itertools import islice\n",
    "from tokenize import generate_tokens, NUMBER, STRING, TokenInfo\n",
    "from typing import Callable, Dict, Tuple\n",
    "\n",
    "def parse_rules(lines: Iterable[str], make_regex: Callable[[str], re.Pattern[str]]) -> re.Pattern[str]:\n",
    "    def rule_to_tokens(rule: str) -> Tuple[str, Iterable[TokenInfo]]:\n",
    "        tokens = generate_tokens(StringIO(rule).readline)\n",
    "        # tokens are NUMBER, COLON, (...)+, we skip the COLON.\n",
    "        return next(tokens).string, list(islice(tokens, 1, None))\n",
    "\n",
    "    unprocessed = dict(map(rule_to_tokens, lines))\n",
    "    rules: MutableMapping[str, str] = {}\n",
    "    dispatch: Mapping[int, Callable[[str], str]] = {NUMBER: rules.__getitem__, STRING: lambda s: s[1:-1]}\n",
    "    stack = deque(['0'])\n",
    "    while stack:\n",
    "        tokens = unprocessed[stack[-1]]\n",
    "        if missing := {t.string for t in tokens if t.type == NUMBER and t.string not in rules}:\n",
    "            stack += missing\n",
    "            continue\n",
    "        rule = \"\".join([dispatch.get(t.type, str)(t.string) for t in tokens])\n",
    "        rules[stack.pop()] = f\"(?:{rule})\"\n",
    "    return make_regex(rules[\"0\"])\n",
    "\n",
    "def validate_messages(data: str, make_regex: Callable[[str], re.Pattern[str]] = re.compile) -> int:\n",
    "    rule_data, messages = data.split(\"\\n\\n\")\n",
    "    rule_regex = parse_rules(rule_data.splitlines(), make_regex)\n",
    "    return sum(bool(rule_regex.fullmatch(msg)) for msg in messages.splitlines())\n",
    "\n",
    "assert validate_messages(\"\"\"\\\n",
    "0: 4 1 5\n",
    "1: 2 3 | 3 2\n",
    "2: 4 4 | 5 5\n",
    "3: 4 5 | 5 4\n",
    "4: \"a\"\n",
    "5: \"b\"\n",
    "\n",
    "ababbb\n",
    "bababa\n",
    "abbbab\n",
    "aaabbb\n",
    "aaaabbb\n",
    "\"\"\") == 2"
   ]
  },
  {
   "cell_type": "code",
   "execution_count": 2,
   "metadata": {},
   "outputs": [],
   "source": [
    "import aocd\n",
    "data = aocd.get_data(day=19, year=2020)"
   ]
  },
  {
   "cell_type": "code",
   "execution_count": 3,
   "metadata": {},
   "outputs": [
    {
     "output_type": "stream",
     "name": "stdout",
     "text": [
      "Part 1: 104\n"
     ]
    }
   ],
   "source": [
    "print(\"Part 1:\", validate_messages(data))"
   ]
  },
  {
   "source": [
    "## Part 2 - recursive regex\n",
    "\n",
    "Part two introduces _recursion_; patterns `8` and `11` add self-references.\n",
    "\n",
    "For rule 8, that just means that the contained rule `42` just matches 1 or more times (`\"42 | 42 8\"` will match `\"42\"`, `\"42 42\"`, `\"42 42 42\"`, etc), so can be simplified using the [`+` repetition operator](https://www.regular-expressions.info/repeat.html), to `\"8: 42 +\"` which my tokenizer-based parser will happily assemble.\n",
    "\n",
    "But the change for rule 11, `\"42 31 | 42 11 31\"` is not so easily simplified. The rule matches for any number of repetitions of `\"42\"` and `\"31\"` **provided they repeat an equal number of times**. To check for such patterns using regular expressions, you need a regex engine that supports either [balancing groups](https://www.regular-expressions.info/balancing.html) or [recursion](https://www.regular-expressions.info/recurse.html). .NET's regex engine would let you use  balancing groups (the pattern, with spaces around the pattern IDs, would be `(?'g42' 42 )+ (?'-g42' 31 )+ (?(g42)(?!))`), and Perl, Ruby and any regex engine based on PCRE would let you use recursion.\n",
    "\n",
    "Lucky for me, the [`regex` package](https://pypi.org/project/regex/) _does_ support recursion. The package may one day be ready to replace the standard-library `re` module, but that day has not yet arrived. In the meantime, if you have advanced regex needs, do keep the existence of that package in mind! As for the recursion syntax: given a named group `(?P<groupname>...)`, the expression `(?&groupname)` will match everything within the named pattern, and `(?&groupname)?` will do so 0 or more times. So, we can replace `\"42 31 | 42 11 31\"` with `\"(?P<rule_11> 42 (?&rule_11)? 31 )\"` to get the desired regex validation pattern."
   ],
   "cell_type": "markdown",
   "metadata": {}
  },
  {
   "cell_type": "code",
   "execution_count": 4,
   "metadata": {},
   "outputs": [],
   "source": [
    "import regex\n",
    "\n",
    "def validate_corrected_rules(data: str) -> int:\n",
    "    return validate_messages(\n",
    "        data\n",
    "        # 42 | 42 8, repeating 42 one or more times.\n",
    "        .replace(\"8: 42\\n\", \"8: 42 +\\n\")\n",
    "        # 42 31 | 42 11 31, recursive self-reference\n",
    "        .replace(\"11: 42 31\\n\", \"11: (?P<rule_11> 42 (?&rule_11)? 31 )\\n\"),\n",
    "        regex.compile\n",
    "    )\n",
    "\n",
    "assert validate_corrected_rules(\"\"\"\\\n",
    "42: 9 14 | 10 1\n",
    "9: 14 27 | 1 26\n",
    "10: 23 14 | 28 1\n",
    "1: \"a\"\n",
    "11: 42 31\n",
    "5: 1 14 | 15 1\n",
    "19: 14 1 | 14 14\n",
    "12: 24 14 | 19 1\n",
    "16: 15 1 | 14 14\n",
    "31: 14 17 | 1 13\n",
    "6: 14 14 | 1 14\n",
    "2: 1 24 | 14 4\n",
    "0: 8 11\n",
    "13: 14 3 | 1 12\n",
    "15: 1 | 14\n",
    "17: 14 2 | 1 7\n",
    "23: 25 1 | 22 14\n",
    "28: 16 1\n",
    "4: 1 1\n",
    "20: 14 14 | 1 15\n",
    "3: 5 14 | 16 1\n",
    "27: 1 6 | 14 18\n",
    "14: \"b\"\n",
    "21: 14 1 | 1 14\n",
    "25: 1 1 | 1 14\n",
    "22: 14 14\n",
    "8: 42\n",
    "26: 14 22 | 1 20\n",
    "18: 15 15\n",
    "7: 14 5 | 1 21\n",
    "24: 14 1\n",
    "\n",
    "abbbbbabbbaaaababbaabbbbabababbbabbbbbbabaaaa\n",
    "bbabbbbaabaabba\n",
    "babbbbaabbbbbabbbbbbaabaaabaaa\n",
    "aaabbbbbbaaaabaababaabababbabaaabbababababaaa\n",
    "bbbbbbbaaaabbbbaaabbabaaa\n",
    "bbbababbbbaaaaaaaabbababaaababaabab\n",
    "ababaaaaaabaaab\n",
    "ababaaaaabbbaba\n",
    "baabbaaaabbaaaababbaababb\n",
    "abbbbabbbbaaaababbbbbbaaaababb\n",
    "aaaaabbaabaaaaababaa\n",
    "aaaabbaaaabbaaa\n",
    "aaaabbaabbaaaaaaabbbabbbaaabbaabaaa\n",
    "babaaabbbaaabaababbaabababaaab\n",
    "aabbbbbaabbbaaaaaabbbbbababaaaaabbaaabba\n",
    "\"\"\") == 12"
   ]
  },
  {
   "cell_type": "code",
   "execution_count": 5,
   "metadata": {},
   "outputs": [
    {
     "output_type": "stream",
     "name": "stdout",
     "text": [
      "Part 2: 314\n"
     ]
    }
   ],
   "source": [
    "print(\"Part 2:\", validate_corrected_rules(data))"
   ]
  }
 ]
}