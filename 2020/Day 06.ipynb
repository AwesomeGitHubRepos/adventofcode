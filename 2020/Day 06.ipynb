{
 "cells": [
  {
   "cell_type": "markdown",
   "metadata": {},
   "source": [
    "# Grouped sets\n",
    "\n",
    "- https://adventofcode.com/2020/day/6\n",
    "\n",
    "We are asked, basically, to create sets for each group of answers. Like on day 4, we can split the input on double newlines, then just get the number of unique letters by removing the newlines (and so only keep the letters):\n"
   ]
  },
  {
   "cell_type": "code",
   "execution_count": 1,
   "metadata": {},
   "outputs": [],
   "source": [
    "from typing import Sequence\n",
    "\n",
    "\n",
    "def unique_answers(groups: Sequence[str]) -> int:\n",
    "    return sum(len(set(group.replace(\"\\n\", \"\"))) for group in groups)\n",
    "\n",
    "\n",
    "test = \"\"\"\\\n",
    "abc\n",
    "\n",
    "a\n",
    "b\n",
    "c\n",
    "\n",
    "ab\n",
    "ac\n",
    "\n",
    "a\n",
    "a\n",
    "a\n",
    "a\n",
    "\n",
    "b\n",
    "\"\"\".split(\"\\n\\n\")\n",
    "\n",
    "assert unique_answers(test) == 11"
   ]
  },
  {
   "cell_type": "code",
   "execution_count": 2,
   "metadata": {},
   "outputs": [],
   "source": [
    "import aocd\n",
    "\n",
    "groups = aocd.get_data(day=6, year=2020).split(\"\\n\\n\")"
   ]
  },
  {
   "cell_type": "code",
   "execution_count": 3,
   "metadata": {},
   "outputs": [
    {
     "name": "stdout",
     "output_type": "stream",
     "text": [
      "Part 1: 6726\n"
     ]
    }
   ],
   "source": [
    "print(\"Part 1:\", unique_answers(groups))"
   ]
  },
  {
   "cell_type": "markdown",
   "metadata": {},
   "source": [
    "## Part 2, set intersections\n",
    "\n",
    "Part two turns it into a set intersection excercise. Splitting each group by newlines, turn each line into a set, then intersect these and get the length:\n"
   ]
  },
  {
   "cell_type": "code",
   "execution_count": 4,
   "metadata": {},
   "outputs": [],
   "source": [
    "from typing import Set\n",
    "\n",
    "\n",
    "def group_shared_answers(group: str) -> Set[str]:\n",
    "    return set.intersection(*map(set, group.splitlines()))\n",
    "\n",
    "\n",
    "def shared_answers(groups: Sequence[str]) -> int:\n",
    "    return sum(len(group_shared_answers(group)) for group in groups)\n",
    "\n",
    "\n",
    "assert shared_answers(test) == 6"
   ]
  },
  {
   "cell_type": "code",
   "execution_count": 5,
   "metadata": {},
   "outputs": [
    {
     "name": "stdout",
     "output_type": "stream",
     "text": [
      "Part 2: 3316\n"
     ]
    }
   ],
   "source": [
    "print(\"Part 2:\", shared_answers(groups))"
   ]
  }
 ],
 "metadata": {
  "kernelspec": {
   "display_name": "Python 3",
   "name": "python3"
  },
  "language_info": {
   "codemirror_mode": {
    "name": "ipython",
    "version": 3
   },
   "file_extension": ".py",
   "mimetype": "text/x-python",
   "name": "python",
   "nbconvert_exporter": "python",
   "pygments_lexer": "ipython3",
   "version": "3.12.0"
  },
  "orig_nbformat": 2
 },
 "nbformat": 4,
 "nbformat_minor": 2
}
