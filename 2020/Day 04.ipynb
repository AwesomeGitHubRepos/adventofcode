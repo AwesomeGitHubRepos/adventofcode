{
 "metadata": {
  "language_info": {
   "codemirror_mode": {
    "name": "ipython",
    "version": 3
   },
   "file_extension": ".py",
   "mimetype": "text/x-python",
   "name": "python",
   "nbconvert_exporter": "python",
   "pygments_lexer": "ipython3",
   "version": "3.9.0-final"
  },
  "orig_nbformat": 2,
  "kernelspec": {
   "name": "python3",
   "display_name": "Python 3"
  }
 },
 "nbformat": 4,
 "nbformat_minor": 2,
 "cells": [
  {
   "source": [
    "# Data validation\n",
    "\n",
    "* https://adventofcode.com/2020/day/4\n",
    "\n",
    "We get to validate passports. Part 1 asks us to validate the fields; there are a number of required fields, and one optional. This is mostly a parsing task, however.\n",
    "\n",
    "The data for each passport is separated from the next by a blank line, so we just split the whole text by the doubled newline character (`\\n`). Each passport is then trivially split into key-value pairs by splitting on arbitrary whitespace; the `str.split()` method doesn't care if the separators are newlines, spaces or some other whitespace! Each key-value pair is then split once on `:`, turning each passport entry into a dictionary.\n",
    "\n",
    "Now that we have dictionaries, we need to validate the keys in them. I'm making use of the fact that Python's [`dict.keys()` keys view object](https://docs.python.org/library/stdtypes.html#dict-views) acts as a *set*, and testing each is a [superset](https://docs.python.org/3/library/stdtypes.html#frozenset.issuperset) of the required field names, as well as being a subset of all possible field names. Python's chained operators make this a very simple and elegant expression:\n",
    "\n",
    "```python\n",
    "required = frozenset(...)  # all required keys\n",
    "all_ = required | frozenset({\"cid\"})  # required plus optional keys\n",
    "all_ >= passport.keys() >= required   # true if all required keys are there, and no unknown keys\n",
    "```"
   ],
   "cell_type": "markdown",
   "metadata": {}
  },
  {
   "cell_type": "code",
   "execution_count": 1,
   "metadata": {},
   "outputs": [],
   "source": [
    "from typing import Callable, Iterable, Mapping\n",
    "\n",
    "PassportData = Mapping[str, str]\n",
    "Validator = Callable[[PassportData], bool]\n",
    "\n",
    "required = frozenset({\"byr\", \"iyr\", \"eyr\", \"hgt\", \"hcl\", \"ecl\", \"pid\"})\n",
    "all_ = required | frozenset({\"cid\"})\n",
    "\n",
    "def valid_passport(passport: PassportData) -> bool:\n",
    "    return all_ >= passport.keys() >= required\n",
    "\n",
    "def read_passports(data: str) -> Iterable[PassportData]:\n",
    "    for block in data.split(\"\\n\\n\"):\n",
    "        yield dict(f.split(':', 1) for f in block.split())\n",
    "\n",
    "def count_valid(passports: Iterable[PassportData], validator: Validator=valid_passport) -> int:\n",
    "    return sum(1 for _ in filter(validator, passports))\n",
    "\n",
    "testdata = \"\"\"\\\n",
    "ecl:gry pid:860033327 eyr:2020 hcl:#fffffd\n",
    "byr:1937 iyr:2017 cid:147 hgt:183cm\n",
    "\n",
    "iyr:2013 ecl:amb cid:350 eyr:2023 pid:028048884\n",
    "hcl:#cfa07d byr:1929\n",
    "\n",
    "hcl:#ae17e1 iyr:2013\n",
    "eyr:2024\n",
    "ecl:brn pid:760753108 byr:1931\n",
    "hgt:179cm\n",
    "\n",
    "hcl:#cfa07d eyr:2025 pid:166559648\n",
    "iyr:2011 ecl:brn hgt:59in\n",
    "\"\"\"\n",
    "\n",
    "assert count_valid(read_passports(testdata)) == 2"
   ]
  },
  {
   "cell_type": "code",
   "execution_count": 2,
   "metadata": {},
   "outputs": [],
   "source": [
    "import aocd\n",
    "passportdata = aocd.get_data(day=4, year=2020)"
   ]
  },
  {
   "cell_type": "code",
   "execution_count": 3,
   "metadata": {},
   "outputs": [
    {
     "output_type": "stream",
     "name": "stdout",
     "text": [
      "Part 1: 226\n"
     ]
    }
   ],
   "source": [
    "print(\"Part 1:\", count_valid(read_passports(passportdata)))"
   ]
  },
  {
   "source": [
    "## Value validation\n",
    "\n",
    "To validate the values, I reached for a tool I use quite often: a schema validation library called [Marshmallow](https://marshmallow.readthedocs.io/). It makes it trivial to define validators for each field; only the height validation required 'custom' code:"
   ],
   "cell_type": "markdown",
   "metadata": {}
  },
  {
   "cell_type": "code",
   "execution_count": 4,
   "metadata": {},
   "outputs": [],
   "source": [
    "from marshmallow import fields, validate, RAISE, Schema, ValidationError\n",
    "\n",
    "def validate_height(height: str) -> bool:\n",
    "    try:\n",
    "        value = int(height[:-2])\n",
    "    except ValueError:\n",
    "        raise ValidationError(\"Invalid height\")\n",
    "\n",
    "    if height[-2:] == \"cm\" and (150 <= value <= 193):\n",
    "        return\n",
    "    elif height[-2:] == \"in\" and (59 <= value <= 76):\n",
    "        return\n",
    "    raise ValidationError(\"Invalid height\")\n",
    "        \n",
    "\n",
    "class PassportSchema(Schema):\n",
    "    class Meta:\n",
    "        unknown = 'RAISE'\n",
    "    byr = fields.Int(required=True, validate=validate.Range(1920, 2003))\n",
    "    iyr = fields.Int(required=True, validate=validate.Range(2010, 2021))\n",
    "    eyr = fields.Int(required=True, validate=validate.Range(2020, 2031))\n",
    "    hgt = fields.Str(required=True, validate=validate_height)\n",
    "    hcl = fields.Str(required=True, validate=validate.Regexp(r\"^#[0-9a-fA-F]{6}$\"))\n",
    "    ecl = fields.Str(\n",
    "        required=True,\n",
    "        validate=validate.OneOf(frozenset(\"amb blu brn gry grn hzl oth\".split())),\n",
    "    )\n",
    "    pid = fields.Str(required=True, validate=validate.Regexp(r\"^\\d{9}$\"))\n",
    "    cid = fields.Str()\n",
    "\n",
    "\n",
    "def valid_passport_fields(passport: Mapping):\n",
    "    try:\n",
    "        PassportSchema().load(passport)\n",
    "        return True\n",
    "    except ValidationError:\n",
    "        return False\n",
    "\n",
    "testinvalid = \"\"\"\\\n",
    "eyr:1972 cid:100\n",
    "hcl:#18171d ecl:amb hgt:170 pid:186cm iyr:2018 byr:1926\n",
    "\n",
    "iyr:2019\n",
    "hcl:#602927 eyr:1967 hgt:170cm\n",
    "ecl:grn pid:012533040 byr:1946\n",
    "\n",
    "hcl:dab227 iyr:2012\n",
    "ecl:brn hgt:182cm pid:021572410 eyr:2020 byr:1992 cid:277\n",
    "\n",
    "hgt:59cm ecl:zzz\n",
    "eyr:2038 hcl:74454a iyr:2023\n",
    "pid:3556412378 byr:2007\n",
    "\"\"\"\n",
    "assert count_valid(read_passports(testinvalid), valid_passport_fields) == 0\n",
    "\n",
    "testvalid = \"\"\"\\\n",
    "pid:087499704 hgt:74in ecl:grn iyr:2012 eyr:2030 byr:1980\n",
    "hcl:#623a2f\n",
    "\n",
    "eyr:2029 ecl:blu cid:129 byr:1989\n",
    "iyr:2014 pid:896056539 hcl:#a97842 hgt:165cm\n",
    "\n",
    "hcl:#888785\n",
    "hgt:164cm byr:2001 iyr:2015 cid:88\n",
    "pid:545766238 ecl:hzl\n",
    "eyr:2022\n",
    "\n",
    "iyr:2010 hgt:158cm hcl:#b6652a ecl:blu byr:1944 eyr:2021 pid:093154719\n",
    "\"\"\"\n",
    "\n",
    "count_valid(read_passports(testvalid), valid_passport_fields) == 4"
   ]
  },
  {
   "cell_type": "code",
   "execution_count": 5,
   "metadata": {},
   "outputs": [
    {
     "output_type": "stream",
     "name": "stdout",
     "text": [
      "Part 2: 160\n"
     ]
    }
   ],
   "source": [
    "print(\"Part 2:\", count_valid(read_passports(passportdata), valid_passport_fields))"
   ]
  }
 ]
}