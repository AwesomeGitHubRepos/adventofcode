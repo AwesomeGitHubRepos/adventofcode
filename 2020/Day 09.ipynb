{
 "cells": [
  {
   "cell_type": "markdown",
   "metadata": {},
   "source": [
    "# Day 9 - Finding the sum, again, with a running series\n",
    "\n",
    "- https://adventofcode.com/2020/day/9\n",
    "\n",
    "This looks to be a variant of the [day 1, part 1 puzzle](./Day%2001.ipynb); finding the sum of two numbers in a set. Only now, we have to make sure we know what number to remove as we progres! This calls for a _sliding window_ iterator really, where we view the whole series through a slit X entries wide as it moves along the inputs.\n",
    "\n",
    "As this puzzle is easier with a set of numbers, I create a sliding window of size `preamble + 2`, so we have access to the value to be removed and the value to be checked, at the same time; to achieve this, I created a window function that takes an _offset_, where you can take `offset` fewer items at the start, then have the window grow until it reaches the desired size:\n"
   ]
  },
  {
   "cell_type": "code",
   "execution_count": 1,
   "metadata": {},
   "outputs": [],
   "source": [
    "from collections import deque\n",
    "from itertools import islice\n",
    "from typing import Iterable, Iterator, TypeVar\n",
    "\n",
    "T = TypeVar(\"T\")\n",
    "\n",
    "\n",
    "def window(iterable: Iterable[T], n: int = 2, offset: int = 0) -> Iterator[deque[T]]:\n",
    "    it = iter(iterable)\n",
    "    queue = deque(islice(it, n - offset), maxlen=n)\n",
    "    yield queue\n",
    "    append = queue.append\n",
    "    for elem in it:\n",
    "        append(elem)\n",
    "        yield queue\n",
    "\n",
    "\n",
    "def next_invalid(numbers: Iterable[int], preamble: int = 25) -> int:\n",
    "    it = window(numbers, preamble + 2, 2)\n",
    "    pool = set(next(it))\n",
    "    for win in it:\n",
    "        to_check = win[-1]\n",
    "        if len(win) == preamble + 2:\n",
    "            # remove the value now outside of our preamble window\n",
    "            pool.remove(win[0])\n",
    "\n",
    "        # validate the value can be created from a sum\n",
    "        for a in pool:\n",
    "            b = to_check - a\n",
    "            if b == a:\n",
    "                continue\n",
    "            if b in pool:\n",
    "                # number validated\n",
    "                break\n",
    "        else:\n",
    "            # no valid sum found\n",
    "            return to_check\n",
    "\n",
    "        pool.add(to_check)\n",
    "\n",
    "\n",
    "test = [\n",
    "    int(v)\n",
    "    for v in \"\"\"\\\n",
    "35\n",
    "20\n",
    "15\n",
    "25\n",
    "47\n",
    "40\n",
    "62\n",
    "55\n",
    "65\n",
    "95\n",
    "102\n",
    "117\n",
    "150\n",
    "182\n",
    "127\n",
    "219\n",
    "299\n",
    "277\n",
    "309\n",
    "576\n",
    "\"\"\".split()\n",
    "]\n",
    "assert next_invalid(test, 5) == 127"
   ]
  },
  {
   "cell_type": "code",
   "execution_count": 2,
   "metadata": {},
   "outputs": [],
   "source": [
    "import aocd\n",
    "\n",
    "number_stream = [int(v) for v in aocd.get_data(day=9, year=2020).split()]"
   ]
  },
  {
   "cell_type": "code",
   "execution_count": 3,
   "metadata": {},
   "outputs": [
    {
     "name": "stdout",
     "output_type": "stream",
     "text": [
      "Part 1: 18272118\n"
     ]
    }
   ],
   "source": [
    "print(\"Part 1:\", next_invalid(number_stream))"
   ]
  },
  {
   "cell_type": "markdown",
   "metadata": {},
   "source": [
    "## Part 2\n",
    "\n",
    "To solve the second part, you need a _dynamic_ window size over the input stream, and a running total. When the running total equals the value from part 1, we can then take the min and max values from the window.\n",
    "\n",
    "- While the running total is too low, grow the window one stap and add the extra value to the total\n",
    "- If the running total is too high, remove a value at the back of the window from the running total, and shrink that side of the window by one step.\n",
    "\n",
    "With the Python `deque` (double-ended queue) already used in part one, this is a trivial task to achieve:\n"
   ]
  },
  {
   "cell_type": "code",
   "execution_count": 4,
   "metadata": {},
   "outputs": [],
   "source": [
    "def find_weakness(numbers: Iterable[int], preamble: int = 25) -> int:\n",
    "    invalid = next_invalid(numbers, preamble)\n",
    "    it = iter(numbers)\n",
    "    total = next(it)\n",
    "    window = deque([total])\n",
    "    while total != invalid and window:\n",
    "        if total < invalid:\n",
    "            window.append(next(it))\n",
    "            total += window[-1]\n",
    "        else:\n",
    "            total -= window.popleft()\n",
    "    if not window:\n",
    "        raise ValueError(\"Could not find a weakness\")\n",
    "    return min(window) + max(window)\n",
    "\n",
    "\n",
    "assert find_weakness(test, 5) == 62"
   ]
  },
  {
   "cell_type": "code",
   "execution_count": 5,
   "metadata": {},
   "outputs": [
    {
     "name": "stdout",
     "output_type": "stream",
     "text": [
      "Part 2: 2186361\n"
     ]
    }
   ],
   "source": [
    "print(\"Part 2:\", find_weakness(number_stream))"
   ]
  }
 ],
 "metadata": {
  "kernelspec": {
   "display_name": "Python 3",
   "language": "python",
   "name": "python3"
  },
  "language_info": {
   "codemirror_mode": {
    "name": "ipython",
    "version": 3
   },
   "file_extension": ".py",
   "mimetype": "text/x-python",
   "name": "python",
   "nbconvert_exporter": "python",
   "pygments_lexer": "ipython3",
   "version": "3.12.0"
  },
  "orig_nbformat": 2
 },
 "nbformat": 4,
 "nbformat_minor": 2
}
