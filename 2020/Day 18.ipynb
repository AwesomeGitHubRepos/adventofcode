{
 "cells": [
  {
   "cell_type": "markdown",
   "metadata": {},
   "source": [
    "# Day 18 - Parsing an expression\n",
    "\n",
    "- https://adventofcode.com/2020/day/18\n",
    "\n",
    "We are given an expression to parse and evaluate. With no precedence rules, we can effectively execute the operators as we parse them, by wrapping [`operator` module functions](https://docs.python.org/3/library/operator.html) in a [`functools.partial()`](https://docs.python.org/3/library/functools.html#functools.partial) object.\n",
    "\n",
    "I used the Python [`tokenize` module](https://docs.python.org/3/library/tokenize.html) to parse the expression into a stream of tokens, and a stack to hold intermediate results and to evaluate parenthesised expressions.\n",
    "\n",
    "The top of the stack alternates between numbers and callables that take one number to produce a number. Every number token is handled by calling the current top-of-stack (TOS) element and then replacing it with the result, every operator token is handled by binding the operator with the TOS number. Because this requires that we have a callable object on the stack present for the first number of an expression, I used [`operator.pos()`](https://docs.python.org/3/library/operator.html#operator.pos) (unary `+`) as the stack seed as that returns numbers unchanged.\n",
    "\n",
    "To decide what the next stack value should be for a given token, I use a dispatch map keyed on the token type. Each dispatch function is given the stack and the token string value, and its return value is pushed on the stack. E.g. `NUMBER` a is combination converting the `n` token string to an `int()`, popping the `s` stack, calling the resulting object with the integer as only argument, and returning the result to be pushed onto the stack. In a single expression that's `s.pop()(int(n))`.\n",
    "\n",
    "For the expression `1 + (2 * 3)`, the algorithm produces the following stack states from the input tokens:\n",
    "\n",
    "| token         | operations             | stack                                |\n",
    "| ------------- | ---------------------- | ------------------------------------ |\n",
    "|               | initial stack          | `[pos]`                              |\n",
    "| `NUMBER, '1'` | pop, `pos(1)`          | `[1]`                                |\n",
    "| `PLUS, '+'`   | pop, `partial(add, 1)` | `[partial(add, 1)]`                  |\n",
    "| `LPAR, '('`   | `pos`                  | `[partial(add, 1), pos]`             |\n",
    "| `NUMBER, '2'` | pop, `pos(2)`          | `[partial(add, 1), 2]`               |\n",
    "| `STAR, '*'`   | pop, `partial(mul, 2)` | `[partial(add, 1), partial(mul, 2)]` |\n",
    "| `NUMBER, '3'` | pop, `mul(2, 3)`       | `[partial(add, 1), 6]`               |\n",
    "| `RPAR, ')'`   | pop, pop, `add(1, 6)`  | `[7]`                                |\n",
    "\n",
    "The final expression result is now on the top of the stack.\n",
    "\n",
    "All in all, this lets us parse and execute these expressions in just 6 lines, plus the 5-key dispatch mapping.\n"
   ]
  },
  {
   "cell_type": "code",
   "execution_count": 1,
   "metadata": {},
   "outputs": [],
   "source": [
    "import operator\n",
    "from collections import deque\n",
    "from collections.abc import Mapping\n",
    "from functools import partial\n",
    "from io import StringIO\n",
    "from tokenize import LPAR, NUMBER, PLUS, RPAR, STAR, generate_tokens\n",
    "from typing import Callable, Deque, Union, cast\n",
    "\n",
    "PartialOp = Callable[[int], int]\n",
    "StackEntry = Union[int, PartialOp]\n",
    "\n",
    "dispatch: Mapping[int, Callable[[Deque[StackEntry], str], StackEntry]] = {\n",
    "    LPAR: lambda *_: operator.pos,\n",
    "    RPAR: lambda s, _: (tos := cast(int, s.pop()), cast(PartialOp, s.pop())(tos))[-1],\n",
    "    NUMBER: lambda s, n: cast(PartialOp, s.pop())(int(n)),\n",
    "    PLUS: lambda s, op: partial(operator.add, s.pop()),\n",
    "    STAR: lambda s, op: partial(operator.mul, s.pop()),\n",
    "}\n",
    "\n",
    "\n",
    "def evaluate(expr: str) -> int:\n",
    "    # operator.pos() is a no-op on numbers, used as stack primer.\n",
    "    stack: Deque[StackEntry] = deque([operator.pos])\n",
    "    for t in generate_tokens(StringIO(expr).readline):\n",
    "        if handler := dispatch.get(t.exact_type):\n",
    "            stack.append(handler(stack, t.string))\n",
    "    return cast(int, stack.pop())\n",
    "\n",
    "\n",
    "tests = {\n",
    "    \"1 + 2 * 3 + 4 * 5 + 6\": 71,\n",
    "    \"1 + (2 * 3) + (4 * (5 + 6))\": 51,\n",
    "    \"2 * 3 + (4 * 5)\": 26,\n",
    "    \"5 + (8 * 3 + 9 + 3 * 4 * 3)\": 437,\n",
    "    \"5 * 9 * (7 * 3 * 3 + 9 * 3 + (8 + 6 * 4))\": 12240,\n",
    "    \"((2 + 4 * 9) * (6 + 9 * 8 + 6) + 6) + 2 + 4 * 2\": 13632,\n",
    "}\n",
    "for test, expected in tests.items():\n",
    "    assert evaluate(test) == expected"
   ]
  },
  {
   "cell_type": "code",
   "execution_count": 2,
   "metadata": {},
   "outputs": [],
   "source": [
    "import aocd\n",
    "\n",
    "expressions = aocd.get_data(day=18, year=2020).splitlines()"
   ]
  },
  {
   "cell_type": "code",
   "execution_count": 3,
   "metadata": {},
   "outputs": [
    {
     "name": "stdout",
     "output_type": "stream",
     "text": [
      "Part 1: 45283905029161\n"
     ]
    }
   ],
   "source": [
    "print(\"Part 1:\", sum(map(evaluate, expressions)))"
   ]
  },
  {
   "cell_type": "markdown",
   "metadata": {},
   "source": [
    "## Part 2 - Parsing with operator precedence\n",
    "\n",
    "Part two adds precedence rules, so now we have to reorder expression execution. We can do this by using a simple [Shunting Yard algorithm](https://en.wikipedia.org/wiki/Shunting-yard_algorithm); the shunting yard 'holds back' operators until they can be applied to the numbers kept on a separate execution stack.\n",
    "\n",
    "The result of the algorithm is a series of tokens in [Reverse Polish notation](https://en.wikipedia.org/wiki/Reverse_Polish_notation); to evaluate such series you only need to push the numbers onto a stack, and for every operator, pop the top two numbers, apply these to the operator to produce a new number, and then push the result back on the stack.\n"
   ]
  },
  {
   "cell_type": "code",
   "execution_count": 4,
   "metadata": {},
   "outputs": [],
   "source": [
    "from tokenize import ENDMARKER, NEWLINE, OP, TokenInfo\n",
    "from typing import Iterator, Tuple\n",
    "\n",
    "\n",
    "def shunting_yard(\n",
    "    tokens: Iterator[TokenInfo], precedence: Mapping[int, int]\n",
    ") -> Iterator[TokenInfo]:\n",
    "    precedence = {**precedence, LPAR: -1}\n",
    "    stack: Deque[Tuple[int, TokenInfo]] = deque()\n",
    "    for token in tokens:\n",
    "        if token.type in (ENDMARKER, NEWLINE):\n",
    "            continue\n",
    "        if token.type != OP:\n",
    "            yield token\n",
    "            continue\n",
    "        et = token.exact_type\n",
    "        if et == RPAR:\n",
    "            while stack and (tos := stack.pop()[1]).exact_type != LPAR:\n",
    "                yield tos\n",
    "            continue\n",
    "        p = precedence[token.exact_type]\n",
    "        if et != LPAR:\n",
    "            while stack and stack[-1][0] >= p:\n",
    "                yield stack.pop()[1]\n",
    "        stack.append((p, token))\n",
    "    yield from (t for _, t in reversed(stack))\n",
    "\n",
    "\n",
    "PRECEDENCE = {PLUS: 1, STAR: 0}\n",
    "OPS = {PLUS: operator.add, STAR: operator.mul}\n",
    "\n",
    "\n",
    "def evaluate_swapped_precedence(expr: str) -> int:\n",
    "    stack: Deque[int] = deque()\n",
    "    shunted = shunting_yard(generate_tokens(StringIO(expr).readline), PRECEDENCE)\n",
    "    for token in shunted:\n",
    "        if oper := OPS.get(token.exact_type):\n",
    "            stack.append(oper(stack.pop(), stack.pop()))\n",
    "        else:\n",
    "            stack.append(int(token.string))\n",
    "    return stack.pop()\n",
    "\n",
    "\n",
    "tests_swapped_precedence = {\n",
    "    \"1 + 2 * 3 + 4 * 5 + 6\": 231,\n",
    "    \"1 + (2 * 3) + (4 * (5 + 6))\": 51,\n",
    "    \"2 * 3 + (4 * 5)\": 46,\n",
    "    \"5 + (8 * 3 + 9 + 3 * 4 * 3)\": 1445,\n",
    "    \"5 * 9 * (7 * 3 * 3 + 9 * 3 + (8 + 6 * 4))\": 669060,\n",
    "    \"((2 + 4 * 9) * (6 + 9 * 8 + 6) + 6) + 2 + 4 * 2\": 23340,\n",
    "}\n",
    "for test, expected in tests_swapped_precedence.items():\n",
    "    assert evaluate_swapped_precedence(test) == expected"
   ]
  },
  {
   "cell_type": "code",
   "execution_count": 5,
   "metadata": {},
   "outputs": [
    {
     "name": "stdout",
     "output_type": "stream",
     "text": [
      "Part 1: 216975281211165\n"
     ]
    }
   ],
   "source": [
    "print(\"Part 1:\", sum(map(evaluate_swapped_precedence, expressions)))"
   ]
  }
 ],
 "metadata": {
  "kernelspec": {
   "display_name": "Python 3",
   "language": "python",
   "name": "python3"
  },
  "language_info": {
   "codemirror_mode": {
    "name": "ipython",
    "version": 3
   },
   "file_extension": ".py",
   "mimetype": "text/x-python",
   "name": "python",
   "nbconvert_exporter": "python",
   "pygments_lexer": "ipython3",
   "version": "3.12.0"
  },
  "orig_nbformat": 2
 },
 "nbformat": 4,
 "nbformat_minor": 2
}
