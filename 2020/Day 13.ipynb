{
 "metadata": {
  "language_info": {
   "codemirror_mode": {
    "name": "ipython",
    "version": 3
   },
   "file_extension": ".py",
   "mimetype": "text/x-python",
   "name": "python",
   "nbconvert_exporter": "python",
   "pygments_lexer": "ipython3",
   "version": "3.9.0-final"
  },
  "orig_nbformat": 2,
  "kernelspec": {
   "name": "python3",
   "display_name": "Python 3",
   "language": "python"
  }
 },
 "nbformat": 4,
 "nbformat_minor": 2,
 "cells": [
  {
   "source": [
    "# Day 13 - Prime number factors\n",
    "\n",
    "* https://adventofcode.com/2020/day/13\n",
    "\n",
    "For part 1, we need to find the next multiple of a bus ID that's equal to or greater than our earliest departure time. The bus  IDs, which determine their frequency, are all prime numbers, of course.\n",
    "\n",
    "We can calculate the next bus departure $t$ for a given ID $b$ on or after earliest departure time $T$ as $t = b * \\lceil T / b \\rceil$ ($b$ multiplied by the ceiling of the division of $T$ by $b$).\n",
    "\n"
   ],
   "cell_type": "markdown",
   "metadata": {}
  },
  {
   "cell_type": "code",
   "execution_count": 1,
   "metadata": {},
   "outputs": [],
   "source": [
    "import math\n",
    "\n",
    "def parse_bus_ids(line: str) -> list[int]:\n",
    "    return [int(b) for b in line.split(\",\") if b[0] != \"x\"]\n",
    "\n",
    "def parse_input(lines: str) -> [int, list[int]]:\n",
    "    return int(lines[0]), parse_bus_ids(lines[1])\n",
    "\n",
    "def earliest_departure(earliest: int, bus_ids: list[int]) -> tuple[int, int]:\n",
    "    t, bid = min((bid * math.ceil(earliest / bid), bid) for bid in bus_ids)\n",
    "    return t - earliest, bid\n",
    "\n",
    "test_earliest, test_bus_ids = parse_input([\"939\", \"7,13,x,x,59,x,31,19\"])\n",
    "assert earliest_departure(test_earliest, test_bus_ids) == (5, 59)"
   ]
  },
  {
   "cell_type": "code",
   "execution_count": 2,
   "metadata": {},
   "outputs": [],
   "source": [
    "import aocd\n",
    "data = aocd.get_data(day=13, year=2020).splitlines()\n",
    "earliest, bus_ids = parse_input(data)"
   ]
  },
  {
   "cell_type": "code",
   "execution_count": 3,
   "metadata": {},
   "outputs": [
    {
     "output_type": "stream",
     "name": "stdout",
     "text": [
      "Part 1: 3035\n"
     ]
    }
   ],
   "source": [
    "wait_time, bus_id = earliest_departure(earliest, bus_ids)\n",
    "print(\"Part 1:\", wait_time * bus_id)"
   ]
  },
  {
   "source": [
    "## Part 2: Chinese remainder theorem.\n",
    "\n",
    "For part 2, we need to use the [Chinese remainder theorem](https://en.wikipedia.org/wiki/Chinese_remainder_theorem); this theorem was first introduced by the Chinese mathematician Sun-tzu (quote from the Wikipedia article):\n",
    "\n",
    "> There are certain things whose number is unknown. If we count them by threes, we have two left over; by fives, we have three left over; and by sevens, two are left over. How many things are there?\n",
    "\n",
    "We need to find a number that if counted in prime number steps, have an offset left over, where the offset is the prime number minus the index in the bus ids list, modulo the bus id (the matching time stamp lies X minutes *before* the next bus departs).\n",
    "\n",
    "I adapted the [Rossetta Stone Python implementation](https://rosettacode.org/wiki/Chinese_remainder_theorem#Python) for this:"
   ],
   "cell_type": "markdown",
   "metadata": {}
  },
  {
   "cell_type": "code",
   "execution_count": 4,
   "metadata": {},
   "outputs": [],
   "source": [
    "from functools import reduce\n",
    "from operator import mul\n",
    "from typing import Optional\n",
    "\n",
    "def solve_chinese_remainder(bus_times: list[Optional[int]]) -> int:\n",
    "    product = reduce(mul, (bid for bid in filter(None, bus_times)))\n",
    "    summed = sum(\n",
    "        ((bid - i) % bid) * mul_inv((factor := product // bid), bid) * factor\n",
    "        for i, bid in enumerate(bus_times)\n",
    "        if bid is not None\n",
    "    )\n",
    "    return summed % product\n",
    "\n",
    "def mul_inv(a: int, b: int) -> int:\n",
    "    if b == 1: return 1\n",
    "    b0, x0, x1 = b, 0, 1\n",
    "    while a > 1:\n",
    "        q = a // b\n",
    "        a, b = b, a % b\n",
    "        x0, x1 = x1 - q * x0, x0\n",
    "    if x1 < 0:\n",
    "        x1 += b0\n",
    "    return x1\n",
    "\n",
    "def parse_bus_times(line: str) -> list[Optional[int]]:\n",
    "    return [None if bus_id == \"x\" else int(bus_id) for bus_id in line.split(\",\")]\n",
    "\n",
    "tests = {\n",
    "    \"7,13,x,x,59,x,31,19\": 1068781,\n",
    "    \"17,x,13,19\": 3417,\n",
    "    \"67,7,59,61\": 754018,\n",
    "    \"67,x,7,59,61\": 779210,\n",
    "    \"67,7,x,59,61\": 1261476,\n",
    "    \"1789,37,47,1889\": 1202161486,\n",
    "}\n",
    "for times, expected in tests.items():\n",
    "    assert solve_chinese_remainder(parse_bus_times(times)) == expected"
   ]
  },
  {
   "cell_type": "code",
   "execution_count": 5,
   "metadata": {},
   "outputs": [
    {
     "output_type": "stream",
     "name": "stdout",
     "text": [
      "Part 2: 725169163285238\n"
     ]
    }
   ],
   "source": [
    "print(\"Part 2:\", solve_chinese_remainder(parse_bus_times(data[1])))"
   ]
  }
 ]
}