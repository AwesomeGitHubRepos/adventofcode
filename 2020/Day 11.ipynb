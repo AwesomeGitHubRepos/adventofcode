{
 "metadata": {
  "language_info": {
   "codemirror_mode": {
    "name": "ipython",
    "version": 3
   },
   "file_extension": ".py",
   "mimetype": "text/x-python",
   "name": "python",
   "nbconvert_exporter": "python",
   "pygments_lexer": "ipython3",
   "version": "3.9.0-final"
  },
  "orig_nbformat": 2,
  "kernelspec": {
   "name": "python3",
   "display_name": "Python 3",
   "language": "python"
  }
 },
 "nbformat": 4,
 "nbformat_minor": 2,
 "cells": [
  {
   "source": [
    "# Day 11 - 2D Cellular automatons\n",
    "\n",
    "* https://adventofcode.com/2020/day/11\n",
    "\n",
    "This is familiar territory for me, as we covered similar systems in years before (see days [12](../2018/Day%2012.ipynb) and [18](../2018/Day%2018.ipynb) in 2018, and days [11](../2019/Day%2011.ipynb) and [24](../2019/Day%2024.ipynb) in 2019).\n",
    "\n",
    "Like before, using numpy, [`scipy.signal.convolve2d()`](https://docs.scipy.org/doc/scipy-1.5.4/reference/generated/scipy.signal.convolve2d.html), and [`numpy.select()`](https://docs.scipy.org/doc/numpy/reference/generated/numpy.select.html) make it really easy to generate each state.\n",
    "\n",
    "I actually discovered a bug in my original Day 18 code: I had _transposed_ the input map. That was fine then, but for this puzzle I couldn't figure out why my puzzle would not converge until I minutely compared my puzzle input with the matrix produced. Oops.\n"
   ],
   "cell_type": "markdown",
   "metadata": {}
  },
  {
   "cell_type": "code",
   "execution_count": 1,
   "metadata": {},
   "outputs": [],
   "source": [
    "from enum import Enum\n",
    "from scipy.signal import convolve2d\n",
    "import numpy as np\n",
    "\n",
    "class Seat(Enum):\n",
    "    floor = 0, '.'\n",
    "    empty = 1, 'L'\n",
    "    occupied = 2, '#'\n",
    "    \n",
    "    def __new__(cls, int_: int, value: str):\n",
    "        instance = object.__new__(cls)\n",
    "        instance._value_ = value\n",
    "        instance.int = int_\n",
    "        return instance\n",
    "\n",
    "_kernel = np.array([[1, 1, 1], [1, 0, 1], [1, 1, 1]])\n",
    "\n",
    "class WaitingArea:\n",
    "    def __init__(self, waiting_area_map: str) -> None:\n",
    "        self._matrix = np.array([\n",
    "            Seat(c).int for line in waiting_area_map.splitlines() for c in line\n",
    "        ]).reshape((-1, waiting_area_map.index('\\n')))\n",
    "\n",
    "    def __str__(self) -> str:\n",
    "        mapping = {s.int: s.value for s in Seat}\n",
    "        return '\\n'.join([''.join(map(mapping.__getitem__, row)) for row in self._matrix])\n",
    "\n",
    "    @property\n",
    "    def occupied(self) -> int:\n",
    "        return np.sum(self._matrix == Seat.occupied.int)\n",
    "\n",
    "    def run(self) -> int:\n",
    "        \"\"\"Run until stability is reached, the return the number of occupied seats\"\"\"\n",
    "        f = self._matrix\n",
    "        full = {s: np.full(f.shape, s.int) for s in Seat if s is not Seat.floor}\n",
    "        while True:\n",
    "            counts = {\n",
    "                seat: convolve2d(f == seat.int, _kernel, mode='same')\n",
    "                for seat in Seat\n",
    "                if seat is not Seat.floor\n",
    "            }\n",
    "            rules = {\n",
    "                # If a seat is **empty** (L) and there are **no** occupied seats adjacent to\n",
    "                # it, the seat becomes **occupied**.\n",
    "                Seat.occupied: (f == Seat.empty.int) & (counts[Seat.occupied] == 0),\n",
    "                # If a seat is **occupied** (#) and **four or more** seats adjacent to it are\n",
    "                # also occupied, the seat becomes **empty**.\n",
    "                Seat.empty: (f == Seat.occupied.int) & (counts[Seat.occupied] >= 4),\n",
    "            }\n",
    "            f = np.select(list(rules.values()), [full[s] for s in rules], default=f)\n",
    "            if np.array_equal(self._matrix, f):\n",
    "                return self.occupied\n",
    "            self._matrix = f\n",
    "\n",
    "test_map = \"\"\"\\\n",
    "L.LL.LL.LL\n",
    "LLLLLLL.LL\n",
    "L.L.L..L..\n",
    "LLLL.LL.LL\n",
    "L.LL.LL.LL\n",
    "L.LLLLL.LL\n",
    "..L.L.....\n",
    "LLLLLLLLLL\n",
    "L.LLLLLL.L\n",
    "L.LLLLL.LL\n",
    "\"\"\"\n",
    "assert WaitingArea(test_map).run() == 37"
   ]
  },
  {
   "cell_type": "code",
   "execution_count": 2,
   "metadata": {},
   "outputs": [],
   "source": [
    "import aocd\n",
    "area_map = WaitingArea(aocd.get_data(day=11, year=2020))"
   ]
  },
  {
   "cell_type": "code",
   "execution_count": 3,
   "metadata": {},
   "outputs": [
    {
     "output_type": "stream",
     "name": "stdout",
     "text": [
      "Part 1: 2438\n"
     ]
    }
   ],
   "source": [
    "print(\"Part 1:\", area_map.run())"
   ]
  }
 ]
}