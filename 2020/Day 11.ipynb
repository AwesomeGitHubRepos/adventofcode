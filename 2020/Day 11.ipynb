{
 "cells": [
  {
   "cell_type": "markdown",
   "metadata": {},
   "source": [
    "# Day 11 - 2D Cellular automatons\n",
    "\n",
    "- https://adventofcode.com/2020/day/11\n",
    "\n",
    "This is familiar territory for me, as we covered similar systems in years before (see days [12](../2018/Day%2012.ipynb) and [18](../2018/Day%2018.ipynb) in 2018, and days [11](../2019/Day%2011.ipynb) and [24](../2019/Day%2024.ipynb) in 2019).\n",
    "\n",
    "Like before, using numpy, [`scipy.signal.convolve2d()`](https://docs.scipy.org/doc/scipy-1.5.4/reference/generated/scipy.signal.convolve2d.html), and [`numpy.select()`](https://docs.scipy.org/doc/numpy/reference/generated/numpy.select.html) make it really easy to generate each state.\n",
    "\n",
    "I actually discovered a bug in my original Day 18 code: I had _transposed_ the input map. That was fine then, but for this puzzle I couldn't figure out why my puzzle would not converge until I minutely compared my puzzle input with the matrix produced. Oops.\n"
   ]
  },
  {
   "cell_type": "code",
   "execution_count": 1,
   "metadata": {},
   "outputs": [],
   "source": [
    "from collections.abc import Mapping\n",
    "from enum import Enum\n",
    "\n",
    "import numpy as np\n",
    "from scipy.signal import convolve2d\n",
    "\n",
    "\n",
    "class Seat(Enum):\n",
    "    floor = 0, \".\"\n",
    "    empty = 1, \"L\"\n",
    "    occupied = 2, \"#\"\n",
    "\n",
    "    def __new__(cls, int_: int, value: str):\n",
    "        instance = object.__new__(cls)\n",
    "        instance._value_ = value\n",
    "        instance.int = int_\n",
    "        return instance\n",
    "\n",
    "\n",
    "_kernel = np.array([[1, 1, 1], [1, 0, 1], [1, 1, 1]])\n",
    "\n",
    "\n",
    "class WaitingArea:\n",
    "    def __init__(self, waiting_area_map: str) -> None:\n",
    "        self._matrix = np.array(\n",
    "            [Seat(c).int for line in waiting_area_map.splitlines() for c in line]\n",
    "        ).reshape((-1, waiting_area_map.index(\"\\n\")))\n",
    "\n",
    "    def __str__(self) -> str:\n",
    "        mapping = {s.int: s.value for s in Seat}\n",
    "        return \"\\n\".join(\n",
    "            [\"\".join(map(mapping.__getitem__, row)) for row in self._matrix]\n",
    "        )\n",
    "\n",
    "    @property\n",
    "    def occupied(self) -> int:\n",
    "        return np.sum(self._matrix == Seat.occupied.int)\n",
    "\n",
    "    @property\n",
    "    def counts(self) -> Mapping[Seat, \"np.array[np.int]\"]:\n",
    "        f = self._matrix\n",
    "        return {\n",
    "            seat: convolve2d(f == seat.int, _kernel, mode=\"same\")\n",
    "            for seat in Seat\n",
    "            if seat is not Seat.floor\n",
    "        }\n",
    "\n",
    "    def run(self, min_occupied_count: int = 4) -> int:\n",
    "        \"\"\"Run until stability is reached, the return the number of occupied seats\"\"\"\n",
    "        f = self._matrix\n",
    "        full = {s: np.full(f.shape, s.int) for s in Seat if s is not Seat.floor}\n",
    "        while True:\n",
    "            counts = self.counts\n",
    "            rules = {\n",
    "                # If a seat is **empty** (L) and there are **no** occupied seats adjacent to\n",
    "                # it, the seat becomes **occupied**.\n",
    "                Seat.occupied: (f == Seat.empty.int) & (counts[Seat.occupied] == 0),\n",
    "                # If a seat is **occupied** (#) and **four or more** seats adjacent to it are\n",
    "                # also occupied, the seat becomes **empty**.\n",
    "                Seat.empty: (f == Seat.occupied.int)\n",
    "                & (counts[Seat.occupied] >= min_occupied_count),\n",
    "            }\n",
    "            f = np.select(list(rules.values()), [full[s] for s in rules], default=f)\n",
    "            if np.array_equal(self._matrix, f):\n",
    "                return self.occupied\n",
    "            self._matrix = f\n",
    "\n",
    "\n",
    "test_map = \"\"\"\\\n",
    "L.LL.LL.LL\n",
    "LLLLLLL.LL\n",
    "L.L.L..L..\n",
    "LLLL.LL.LL\n",
    "L.LL.LL.LL\n",
    "L.LLLLL.LL\n",
    "..L.L.....\n",
    "LLLLLLLLLL\n",
    "L.LLLLLL.L\n",
    "L.LLLLL.LL\n",
    "\"\"\"\n",
    "assert WaitingArea(test_map).run() == 37"
   ]
  },
  {
   "cell_type": "code",
   "execution_count": 2,
   "metadata": {},
   "outputs": [],
   "source": [
    "import aocd\n",
    "\n",
    "data = aocd.get_data(day=11, year=2020)\n",
    "area_map = WaitingArea(data)"
   ]
  },
  {
   "cell_type": "code",
   "execution_count": 3,
   "metadata": {},
   "outputs": [
    {
     "name": "stdout",
     "output_type": "stream",
     "text": [
      "Part 1: 2438\n"
     ]
    }
   ],
   "source": [
    "print(\"Part 1:\", area_map.run())"
   ]
  },
  {
   "cell_type": "markdown",
   "metadata": {},
   "source": [
    "## Part 2, toss out convolve2d\n",
    "\n",
    "Part two ups the stakes: instead of a convenient _8 seats directly around the current_ reference frame which is the same for all seats in the waiting room, each seat in the waiting room now has a _custom_ mask. Where before we could use `convolve2d` to do all the counting in a single step, we now have to find a new way of counting surrounding occupied seats.\n",
    "\n",
    "We first need to build a per-seat mask, a boolean matrix that has `True` values in the locations of the other seats. We can then use those masks to produce the same output that `convolve2d` would. You duplicate the current matrix `len(matrix)` times, then use the per-seat mask against that to select the neighbouring seats for every input seat and sum that back to summed counts per coordinate.\n"
   ]
  },
  {
   "cell_type": "code",
   "execution_count": 4,
   "metadata": {},
   "outputs": [],
   "source": [
    "from functools import cached_property\n",
    "from itertools import product\n",
    "\n",
    "_directions = [(x, y) for x, y in product(range(-1, 2), repeat=2) if x or y]\n",
    "\n",
    "\n",
    "class ImprovedWaitingArea(WaitingArea):\n",
    "    @cached_property\n",
    "    def _visible_seats(self) -> \"np.array[bool]\":\n",
    "        # build visible seats maps\n",
    "        f = self._matrix\n",
    "        vs = np.zeros(f.shape * 2, dtype=bool)\n",
    "        it = np.nditer(f, flags=[\"multi_index\"])\n",
    "        for v in it:\n",
    "            if v == Seat.floor.int:\n",
    "                continue\n",
    "            nmap = vs[it.multi_index]\n",
    "            # walk in each of the 8 directions; if we hit a seat, that's the visible\n",
    "            # neighbour.\n",
    "            for dx, dy in _directions:\n",
    "                x, y = it.multi_index[0] + dx, it.multi_index[1] + dy\n",
    "                while 0 <= x < nmap.shape[0] and 0 <= y < nmap.shape[1]:\n",
    "                    if f[x, y] != Seat.floor.int:\n",
    "                        nmap[x, y] = True\n",
    "                        break\n",
    "                    x, y = x + dx, y + dy\n",
    "        return vs\n",
    "\n",
    "    @property\n",
    "    def counts(self):\n",
    "        f, vs = self._matrix, self._visible_seats\n",
    "        current = np.repeat(f[np.newaxis, ...], f.size, axis=0).reshape(f.shape * 2)\n",
    "        return {\n",
    "            seat: np.sum((current == seat.int) & vs, (2, 3))\n",
    "            for seat in Seat\n",
    "            if seat is not Seat.floor\n",
    "        }\n",
    "\n",
    "    def run(self) -> int:\n",
    "        return super().run(5)\n",
    "\n",
    "\n",
    "assert ImprovedWaitingArea(test_map).run() == 26"
   ]
  },
  {
   "cell_type": "code",
   "execution_count": 5,
   "metadata": {},
   "outputs": [
    {
     "name": "stdout",
     "output_type": "stream",
     "text": [
      "Part 2: 2174\n"
     ]
    }
   ],
   "source": [
    "improved_area_map = ImprovedWaitingArea(data)\n",
    "print(\"Part 2:\", improved_area_map.run())"
   ]
  }
 ],
 "metadata": {
  "kernelspec": {
   "display_name": "Python 3",
   "language": "python",
   "name": "python3"
  },
  "language_info": {
   "codemirror_mode": {
    "name": "ipython",
    "version": 3
   },
   "file_extension": ".py",
   "mimetype": "text/x-python",
   "name": "python",
   "nbconvert_exporter": "python",
   "pygments_lexer": "ipython3",
   "version": "3.12.0"
  },
  "orig_nbformat": 2
 },
 "nbformat": 4,
 "nbformat_minor": 2
}
