{
 "metadata": {
  "language_info": {
   "codemirror_mode": {
    "name": "ipython",
    "version": 3
   },
   "file_extension": ".py",
   "mimetype": "text/x-python",
   "name": "python",
   "nbconvert_exporter": "python",
   "pygments_lexer": "ipython3",
   "version": "3.9.0-final"
  },
  "orig_nbformat": 2,
  "kernelspec": {
   "name": "python3",
   "display_name": "Python 3",
   "language": "python"
  }
 },
 "nbformat": 4,
 "nbformat_minor": 2,
 "cells": [
  {
   "source": [
    "# Day 15 - Generate a number series\n",
    "\n",
    "* https://adventofcode.com/2020/day/15\n",
    "\n",
    "To generate the game numbers, map numbers to the round they were last spoken in and track the most recent generated number. The next number is `0` if the most recent number is in the rounds mapping, otherwise it's `round_number - last_round_number`:"
   ],
   "cell_type": "markdown",
   "metadata": {}
  },
  {
   "cell_type": "code",
   "execution_count": 1,
   "metadata": {},
   "outputs": [],
   "source": [
    "from itertools import count, islice\n",
    "\n",
    "def play_memory_game(start_numbers: list[int]) -> int:\n",
    "    yield from start_numbers\n",
    "    rounds = {n: i for i, n in enumerate(start_numbers[:-1], 1)}\n",
    "    most_recent = start_numbers[-1]\n",
    "    for round_ in count(len(start_numbers)):\n",
    "        last_seen = rounds.get(most_recent)\n",
    "        rounds[most_recent] = round_\n",
    "        most_recent = 0 if last_seen is None else round_ - last_seen\n",
    "        yield most_recent\n",
    "\n",
    "test = [int(n) for n in \"0,3,6\".split(\",\")]\n",
    "assert list(islice(play_memory_game(test), 10)) == [0, 3, 6, 0, 3, 3, 1, 0, 4, 0]\n",
    "\n",
    "\n",
    "tests = {\n",
    "    (1, 3, 2): 1,\n",
    "    (2, 1, 3): 10,\n",
    "    (1, 2, 3): 27,\n",
    "    (2, 3, 1): 78,\n",
    "    (3, 2, 1): 438,\n",
    "    (3, 1, 2): 1836,\n",
    "}\n",
    "for test_start, expected in tests.items():\n",
    "    assert next(islice(play_memory_game(test_start), 2019, None)) == expected"
   ]
  },
  {
   "cell_type": "code",
   "execution_count": 2,
   "metadata": {},
   "outputs": [],
   "source": [
    "import aocd\n",
    "start_numbers = [int(n) for n in aocd.get_data(day=15, year=2020).split(\",\")]"
   ]
  },
  {
   "cell_type": "code",
   "execution_count": 3,
   "metadata": {},
   "outputs": [
    {
     "output_type": "stream",
     "name": "stdout",
     "text": [
      "Part 1: 620\n"
     ]
    }
   ],
   "source": [
    "print(\"Part 1:\", next(islice(play_memory_game(start_numbers), 2019, None)))"
   ]
  },
  {
   "source": [
    "## Part 2, upping the ante\n",
    "\n",
    "We are now asked to keep playing the game for 30 million rounds, rather than just 2020. Clearly, there must be a short-cut here. However, I found that brute-forcing this wasn't _that_ bad, each test input takes ~15 seconds to process."
   ],
   "cell_type": "markdown",
   "metadata": {}
  },
  {
   "cell_type": "code",
   "execution_count": 5,
   "metadata": {},
   "outputs": [
    {
     "output_type": "stream",
     "name": "stdout",
     "text": [
      "(0, 3, 6) => 175594\n",
      "(1, 3, 2) => 2578\n",
      "(2, 1, 3) => 3544142\n",
      "(1, 2, 3) => 261214\n",
      "(2, 3, 1) => 6895259\n",
      "(3, 2, 1) => 18\n",
      "(3, 1, 2) => 362\n"
     ]
    }
   ],
   "source": [
    "tests_30m = {\n",
    "    (0, 3, 6): 175594,\n",
    "    (1, 3, 2): 2578,\n",
    "    (2, 1, 3): 3544142,\n",
    "    (1, 2, 3): 261214,\n",
    "    (2, 3, 1): 6895259,\n",
    "    (3, 2, 1): 18,\n",
    "    (3, 1, 2): 362,\n",
    "}\n",
    "\n",
    "for test_start, expected in tests_30m.items():\n",
    "    print(f\"{test_start} => {expected}\")\n",
    "    assert next(islice(play_memory_game(test_start), 29_999_999, None)) == expected"
   ]
  },
  {
   "cell_type": "code",
   "execution_count": 6,
   "metadata": {},
   "outputs": [
    {
     "output_type": "stream",
     "name": "stdout",
     "text": [
      "Part 2: 110871\n"
     ]
    }
   ],
   "source": [
    "print(\"Part 2:\", next(islice(play_memory_game(start_numbers), 29_999_999, None)))"
   ]
  }
 ]
}