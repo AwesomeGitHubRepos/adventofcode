{
 "cells": [
  {
   "cell_type": "markdown",
   "metadata": {},
   "source": [
    "# Day 15 - Generate a number series\n",
    "\n",
    "- https://adventofcode.com/2020/day/15\n",
    "\n",
    "To generate the game numbers, map numbers to the round they were last spoken in and track the most recent generated number. The next number is `0` if the most recent number is in the rounds mapping, otherwise it's `round_number - last_round_number`:\n"
   ]
  },
  {
   "cell_type": "code",
   "execution_count": 1,
   "metadata": {},
   "outputs": [],
   "source": [
    "def play_memory_game(start_numbers: list[int], numrounds: int = 2020) -> int:\n",
    "    seen = [0] * numrounds\n",
    "    for i, n in enumerate(start_numbers[:-1], 1):\n",
    "        seen[n] = i\n",
    "    most_recent = start_numbers[-1]\n",
    "    for round_ in range(len(start_numbers), numrounds):\n",
    "        last_seen = seen[most_recent]\n",
    "        seen[most_recent] = round_\n",
    "        most_recent = 0 if not last_seen else round_ - last_seen\n",
    "    return most_recent\n",
    "\n",
    "\n",
    "tests = {\n",
    "    (1, 3, 2): 1,\n",
    "    (2, 1, 3): 10,\n",
    "    (1, 2, 3): 27,\n",
    "    (2, 3, 1): 78,\n",
    "    (3, 2, 1): 438,\n",
    "    (3, 1, 2): 1836,\n",
    "}\n",
    "for test_start, expected in tests.items():\n",
    "    assert play_memory_game(test_start) == expected"
   ]
  },
  {
   "cell_type": "code",
   "execution_count": 2,
   "metadata": {},
   "outputs": [],
   "source": [
    "import aocd\n",
    "\n",
    "start_numbers = [int(n) for n in aocd.get_data(day=15, year=2020).split(\",\")]"
   ]
  },
  {
   "cell_type": "code",
   "execution_count": 3,
   "metadata": {},
   "outputs": [
    {
     "name": "stdout",
     "output_type": "stream",
     "text": [
      "Part 1: 620\n"
     ]
    }
   ],
   "source": [
    "print(\"Part 1:\", play_memory_game(start_numbers))"
   ]
  },
  {
   "cell_type": "markdown",
   "metadata": {},
   "source": [
    "## Part 2, upping the ante\n",
    "\n",
    "We are now asked to keep playing the game for 30 million rounds, rather than just 2020. Clearly, there must be a short-cut here. However, I found that brute-forcing this wasn't _that_ bad, after a bit of optimising, each test input takes ~7-8 seconds to process.\n",
    "\n",
    "The best I could think of was to use a pre-allocated list rather than a dictionary to map numbers to their round value, to avoid the cost of dynamically growing the dictionary and hashing.\n"
   ]
  },
  {
   "cell_type": "code",
   "execution_count": 4,
   "metadata": {},
   "outputs": [],
   "source": [
    "tests_30m = {\n",
    "    (0, 3, 6): 175594,\n",
    "    (1, 3, 2): 2578,\n",
    "    (2, 1, 3): 3544142,\n",
    "    (1, 2, 3): 261214,\n",
    "    (2, 3, 1): 6895259,\n",
    "    (3, 2, 1): 18,\n",
    "    (3, 1, 2): 362,\n",
    "}\n",
    "\n",
    "for test_start, expected in tests_30m.items():\n",
    "    assert play_memory_game(test_start, 30_000_000) == expected"
   ]
  },
  {
   "cell_type": "code",
   "execution_count": 5,
   "metadata": {},
   "outputs": [
    {
     "name": "stdout",
     "output_type": "stream",
     "text": [
      "Part 2: 110871\n",
      "CPU times: user 3.33 s, sys: 39.2 ms, total: 3.37 s\n",
      "Wall time: 3.39 s\n"
     ]
    }
   ],
   "source": [
    "%time print(\"Part 2:\", play_memory_game(start_numbers, 30_000_000))"
   ]
  }
 ],
 "metadata": {
  "kernelspec": {
   "display_name": "Python 3",
   "language": "python",
   "name": "python3"
  },
  "language_info": {
   "codemirror_mode": {
    "name": "ipython",
    "version": 3
   },
   "file_extension": ".py",
   "mimetype": "text/x-python",
   "name": "python",
   "nbconvert_exporter": "python",
   "pygments_lexer": "ipython3",
   "version": "3.12.0"
  },
  "orig_nbformat": 2
 },
 "nbformat": 4,
 "nbformat_minor": 2
}
