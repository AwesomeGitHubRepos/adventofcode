{
 "metadata": {
  "language_info": {
   "codemirror_mode": {
    "name": "ipython",
    "version": 3
   },
   "file_extension": ".py",
   "mimetype": "text/x-python",
   "name": "python",
   "nbconvert_exporter": "python",
   "pygments_lexer": "ipython3",
   "version": "3.9.0-final"
  },
  "orig_nbformat": 2,
  "kernelspec": {
   "name": "python3",
   "display_name": "Python 3"
  }
 },
 "nbformat": 4,
 "nbformat_minor": 2,
 "cells": [
  {
   "source": [
    "# Welcome to AoC 2020, time for a holiday!\n",
    "\n",
    "* https://adventofcode.com/2020/day/1\n",
    "\n",
    "Another year, another set of puzzles! This time, we are 'not doing christmas'; Eric Wastl has torn up the [AoC Bingo card](https://www.reddit.com/r/adventofcode/comments/k3q7tr/my_advent_of_code_2020_bingo_card_fun_little_side/) and decided to send us to a tropical island instead. :-P\n",
    "\n",
    "As always, we start with a warm-up. Rather than iterate over all combinations ($O(n^2)$), put the numbers in a set, loop over the set for the first number, and see if `2020 - first` is a member of the set. That gives us a $O(n)$ runtime!"
   ],
   "cell_type": "markdown",
   "metadata": {}
  },
  {
   "cell_type": "code",
   "execution_count": 1,
   "metadata": {},
   "outputs": [],
   "source": [
    "import aocd\n",
    "coins = set(map(int, aocd.get_data(day=1, year=2020).splitlines()))"
   ]
  },
  {
   "cell_type": "code",
   "execution_count": 2,
   "metadata": {},
   "outputs": [],
   "source": [
    "from operator import mul\n",
    "\n",
    "def find_sum(coins, target=2020):\n",
    "    for first in coins:\n",
    "        second = target - first\n",
    "        if second in coins:\n",
    "            return first, second\n",
    "    \n",
    "    raise ValueError(\"Not solvable\")\n",
    "\n",
    "def sum_coins(coins):\n",
    "    return mul(*find_sum(coins))\n",
    "\n",
    "test = set(map(int, '''\\\n",
    "1721\n",
    "979\n",
    "366\n",
    "299\n",
    "675\n",
    "1456\n",
    "'''.splitlines()))\n",
    "assert sum_coins(test) == 514579"
   ]
  },
  {
   "cell_type": "code",
   "execution_count": 3,
   "metadata": {},
   "outputs": [
    {
     "output_type": "stream",
     "name": "stdout",
     "text": [
      "Part 1: 73371\n"
     ]
    }
   ],
   "source": [
    "print(\"Part 1:\", sum_coins(coins))"
   ]
  },
  {
   "source": [
    "# Part 2\n",
    "\n",
    "To find the third coin, just pop one of the values of the set of coins, run the first puzzle solution to see if there is a combination that sums to $2020 - selected_coin$, and continue until we found a combination. That's an $O(N^2)$ solution:\n"
   ],
   "cell_type": "markdown",
   "metadata": {}
  },
  {
   "cell_type": "code",
   "execution_count": 4,
   "metadata": {},
   "outputs": [],
   "source": [
    "def sum_three(coins):\n",
    "    while coins:\n",
    "        selected = coins.pop()\n",
    "        remainder = 2020 - selected\n",
    "        try:\n",
    "            return selected * mul(*find_sum(coins, target=remainder))\n",
    "        except ValueError:\n",
    "            continue\n",
    "\n",
    "assert sum_three(test) == 241861950"
   ]
  },
  {
   "cell_type": "code",
   "execution_count": 5,
   "metadata": {},
   "outputs": [
    {
     "output_type": "stream",
     "name": "stdout",
     "text": [
      "Part 2: 127642310\n"
     ]
    }
   ],
   "source": [
    "print(\"Part 2:\", sum_three(coins))"
   ]
  }
 ]
}