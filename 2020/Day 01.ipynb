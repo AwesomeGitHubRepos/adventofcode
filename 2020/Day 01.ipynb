{
 "metadata": {
  "language_info": {
   "codemirror_mode": {
    "name": "ipython",
    "version": 3
   },
   "file_extension": ".py",
   "mimetype": "text/x-python",
   "name": "python",
   "nbconvert_exporter": "python",
   "pygments_lexer": "ipython3",
   "version": "3.9.0-final"
  },
  "orig_nbformat": 2,
  "kernelspec": {
   "name": "python3",
   "display_name": "Python 3"
  }
 },
 "nbformat": 4,
 "nbformat_minor": 2,
 "cells": [
  {
   "source": [
    "# Welcome to AoC 2020, time for a holiday!\n",
    "\n",
    "* https://adventofcode.com/2020/day/1\n",
    "\n",
    "Another year, another set of puzzles! This time, we are 'not doing christmas'; Eric Wastl has torn up the [AoC Bingo card](https://www.reddit.com/r/adventofcode/comments/k3q7tr/my_advent_of_code_2020_bingo_card_fun_little_side/) and decided to send us to a tropical island instead. :-P\n",
    "\n",
    "As always, we start with a warm-up. Rather than iterate over all combinations ($O(n^2)$), sort the numbers and use two numbers from either end as the low and high value, for a $O(n \\log_2 n)$ solution. Move inwards as the sum of these two numbers approaches the target sum of 2020; too low, move the low value the next higher number, too high, move the high value to the next lower number. That way you end up with the correct two values!"
   ],
   "cell_type": "markdown",
   "metadata": {}
  },
  {
   "cell_type": "code",
   "execution_count": 1,
   "metadata": {},
   "outputs": [],
   "source": [
    "import aocd\n",
    "coins = sorted(map(int, aocd.get_data(day=1, year=2020).splitlines()))"
   ]
  },
  {
   "cell_type": "code",
   "execution_count": 2,
   "metadata": {},
   "outputs": [],
   "source": [
    "def find_sum(coins, low=0, target=2020):\n",
    "    high = len(coins) - 1\n",
    "    summed = coins[low] + coins[high]\n",
    "    while low < high and summed != target:\n",
    "        if summed < target:\n",
    "            low += 1\n",
    "        else:\n",
    "            high -= 1\n",
    "        summed = coins[low] + coins[high]\n",
    "    \n",
    "    if low == high: raise ValueError(\"Not solvable\")\n",
    "\n",
    "    return low, high\n",
    "\n",
    "def sum_coins(coins):\n",
    "    low, high = find_sum(coins)\n",
    "    return coins[low] * coins[high]\n",
    "\n",
    "test = sorted(map(int, '''\\\n",
    "1721\n",
    "979\n",
    "366\n",
    "299\n",
    "675\n",
    "1456\n",
    "'''.splitlines()))\n",
    "assert sum_coins(test) == 514579"
   ]
  },
  {
   "cell_type": "code",
   "execution_count": 3,
   "metadata": {},
   "outputs": [
    {
     "output_type": "stream",
     "name": "stdout",
     "text": [
      "Part 1: 73371\n"
     ]
    }
   ],
   "source": [
    "print(\"Part 1:\", sum_coins(coins))"
   ]
  },
  {
   "source": [
    "# Part 2\n",
    "\n",
    "Rather than produce all possible combinations, loop directly over the coin values and subtract that coin value from 2020. Then use the same code from part 1 to find two coins that sum to the remainder. If there is no sum possible, move to the next coin. We can start the search for the low value from the current coin position plus one (as we already tried all preceding coins)."
   ],
   "cell_type": "markdown",
   "metadata": {}
  },
  {
   "cell_type": "code",
   "execution_count": 4,
   "metadata": {},
   "outputs": [],
   "source": [
    "def sum_three(coins):\n",
    "    for low_start, coin in enumerate(coins, start=1):\n",
    "        remainder = 2020 - coin\n",
    "        if remainder <= (2 * coin):\n",
    "            raise ValueError(\"Can't be solved\")\n",
    "        try:\n",
    "            low, high = find_sum(coins, low_start, target=remainder)\n",
    "            return coin * coins[low] * coins[high]\n",
    "        except ValueError:\n",
    "            continue\n",
    "\n",
    "assert sum_three(test) == 241861950"
   ]
  },
  {
   "cell_type": "code",
   "execution_count": 5,
   "metadata": {},
   "outputs": [
    {
     "output_type": "stream",
     "name": "stdout",
     "text": [
      "Part 2: 127642310\n"
     ]
    }
   ],
   "source": [
    "print(\"Part 2:\", sum_three(coins))"
   ]
  }
 ]
}