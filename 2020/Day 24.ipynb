{
 "metadata": {
  "language_info": {
   "codemirror_mode": {
    "name": "ipython",
    "version": 3
   },
   "file_extension": ".py",
   "mimetype": "text/x-python",
   "name": "python",
   "nbconvert_exporter": "python",
   "pygments_lexer": "ipython3",
   "version": "3.9.0-final"
  },
  "orig_nbformat": 2,
  "kernelspec": {
   "name": "python3",
   "display_name": "Python 3",
   "language": "python"
  }
 },
 "nbformat": 4,
 "nbformat_minor": 2,
 "cells": [
  {
   "source": [
    "# Day 24 - Hex grid\n",
    "\n",
    "* https://adventofcode.com/2020/day/24\n",
    "\n",
    "Oh, goodie, a [hex grid](https://www.redblobgames.com/grids/hexagons/) problem! I enjoy those :-) We were given a hex grid problem before, on [Day 11 of AoC 2017](../2017/Day%2011.ipynb), and I've come across a handful of applications of such grids elsewhere since (e.g. the [Hexagon Beam Max Sum code kata](https://www.codewars.com/kata/5ecc1d68c6029000017d8aaf/)).\n",
    "\n",
    "For part 1, we basically need 3 things:\n",
    "\n",
    "- Code to split the instructions into distinct directions (`w`, `e`, `sw`, `se`, `nw` and `ne`)\n",
    "- Our state: A dictionary tracking what tiles we visited and flipped, because we may need to flip them more than once, and our current hex-grid position.\n",
    "- A way to map a direction to our next grid coordinate.\n",
    "\n",
    "The latter is actually really easy; each of the 6 directions can be expressed as a pair of deltas (one each of `-1`, `0`, and `1`, see [neighbours using axial coordinates](https://www.redblobgames.com/grids/hexagons/#neighbors))."
   ],
   "cell_type": "markdown",
   "metadata": {}
  },
  {
   "cell_type": "code",
   "execution_count": 1,
   "metadata": {},
   "outputs": [],
   "source": [
    "from collections.abc import Iterable, Iterator, MutableMapping\n",
    "from dataclasses import dataclass, field\n",
    "from enum import Enum\n",
    "from operator import attrgetter\n",
    "from typing import Any\n",
    "\n",
    "@dataclass(frozen=True)\n",
    "class HexPos:\n",
    "    q: int = 0\n",
    "    r: int = 0\n",
    "\n",
    "    def __add__(self, other: Any) -> \"HexPos\":\n",
    "        if not isinstance(other, HexPos):\n",
    "            return NotImplemented\n",
    "        return type(self)(self.q + other.q, self.r + other.r)\n",
    "\n",
    "class HexDir(Enum):\n",
    "    w = HexPos(-1, 0)\n",
    "    e = HexPos(1, 0)\n",
    "    nw = HexPos(0, -1)\n",
    "    ne = HexPos(1, -1)\n",
    "    sw = HexPos(-1, 1)\n",
    "    se = HexPos(0, 1)\n",
    "\n",
    "    @classmethod\n",
    "    def from_steps(cls, steps: str) -> Iterator[\"HexPos\"]:\n",
    "        chars = iter(steps)\n",
    "        for step in chars:\n",
    "            if step not in \"ew\":\n",
    "                step += next(chars)\n",
    "            yield cls[step].value\n",
    "\n",
    "class Tile(Enum):\n",
    "    white = 0\n",
    "    black = 1\n",
    "\n",
    "    def flip(self) -> \"Tile\":\n",
    "        return Tile(1 - self.value)\n",
    "\n",
    "@dataclass\n",
    "class TileFloor:\n",
    "    tiles: MutableMapping[HexPos] = field(default_factory=dict)\n",
    "\n",
    "    @classmethod\n",
    "    def from_instructions(cls, instructions: Iterable[str]) -> \"TileFloor\":\n",
    "        floor = cls()\n",
    "        tiles = floor.tiles\n",
    "        for steps in instructions:\n",
    "            pos = sum(HexDir.from_steps(steps), HexPos())\n",
    "            tiles[pos] = tiles.get(pos, Tile.white).flip()\n",
    "        return floor\n",
    "\n",
    "    @property\n",
    "    def black_count(self) -> int:\n",
    "        return sum(map(attrgetter(\"value\"), self.tiles.values()))\n",
    "\n",
    "\n",
    "test_floor = TileFloor.from_instructions(\"\"\"\\\n",
    "sesenwnenenewseeswwswswwnenewsewsw\n",
    "neeenesenwnwwswnenewnwwsewnenwseswesw\n",
    "seswneswswsenwwnwse\n",
    "nwnwneseeswswnenewneswwnewseswneseene\n",
    "swweswneswnenwsewnwneneseenw\n",
    "eesenwseswswnenwswnwnwsewwnwsene\n",
    "sewnenenenesenwsewnenwwwse\n",
    "wenwwweseeeweswwwnwwe\n",
    "wsweesenenewnwwnwsenewsenwwsesesenwne\n",
    "neeswseenwwswnwswswnw\n",
    "nenwswwsewswnenenewsenwsenwnesesenew\n",
    "enewnwewneswsewnwswenweswnenwsenwsw\n",
    "sweneswneswneneenwnewenewwneswswnese\n",
    "swwesenesewenwneswnwwneseswwne\n",
    "enesenwswwswneneswsenwnewswseenwsese\n",
    "wnwnesenesenenwwnenwsewesewsesesew\n",
    "nenewswnwewswnenesenwnesewesw\n",
    "eneswnwswnwsenenwnwnwwseeswneewsenese\n",
    "neswnwewnwnwseenwseesewsenwsweewe\n",
    "wseweeenwnesenwwwswnew\n",
    "\"\"\".splitlines())\n",
    "\n",
    "assert test_floor.black_count == 10"
   ]
  },
  {
   "cell_type": "code",
   "execution_count": 2,
   "metadata": {},
   "outputs": [],
   "source": [
    "import aocd\n",
    "tile_instructions = aocd.get_data(day=24, year=2020).splitlines()"
   ]
  },
  {
   "cell_type": "code",
   "execution_count": 3,
   "metadata": {},
   "outputs": [
    {
     "output_type": "stream",
     "name": "stdout",
     "text": [
      "Part 1: 400\n"
     ]
    }
   ],
   "source": [
    "tile_floor = TileFloor.from_instructions(tile_instructions)\n",
    "print(\"Part 1:\", tile_floor.black_count)"
   ]
  },
  {
   "source": [
    "## Part 2 - Hexagonal cellular automatons!\n",
    "\n",
    "More fun! Using axial coordinates, we can trivially put our tiles into a numpy grid and use the standard `scipy.signal.convolve2d()` approach to progress each state.\n",
    "\n",
    "Of course, we do then need a custom kernel; the old 3x3 with 8 out of 9 cells set to 1 won't cut it. But with a [basic 2d-array for storage](https://www.redblobgames.com/grids/hexagons/#map-storage) (and so, super simple to use a numpy array for this), the kernel to use is still really simple; still a 3x3 array, but with 6 cells set to 1, matching the [6 neighbours](https://www.redblobgames.com/grids/hexagons/#neighbors) I mentioned before:\n",
    "\n",
    "```\n",
    "0  1  1\n",
    "1  0  1\n",
    "1  1  0\n",
    "```\n",
    "\n",
    "We do need to remember to grow the matrix each round; the tile floor size is infinite."
   ],
   "cell_type": "markdown",
   "metadata": {}
  },
  {
   "cell_type": "code",
   "execution_count": 4,
   "metadata": {},
   "outputs": [],
   "source": [
    "import numpy as np\n",
    "from scipy.signal import convolve2d\n",
    "\n",
    "_kernel = np.array([[0, 1, 1], [1, 0, 1], [1, 1, 0]])\n",
    "\n",
    "class ArtExhibitTileFloor:\n",
    "    def __init__(self, tilefloor: TileFloor) -> None:\n",
    "        minpos, maxpos = HexPos(), HexPos()\n",
    "        for hpos in tilefloor.tiles:\n",
    "            if hpos.q < minpos.q:\n",
    "                minpos = HexPos(hpos.q, minpos.r)\n",
    "            elif hpos.q > maxpos.q:\n",
    "                maxpos = HexPos(hpos.q, maxpos.r)\n",
    "            if hpos.r < minpos.r:\n",
    "                minpos = HexPos(minpos.q, hpos.r)\n",
    "            elif hpos.r > maxpos.r:\n",
    "                maxpos = HexPos(maxpos.q, hpos.r)\n",
    "        shape = (maxpos.r - minpos.r + 1, maxpos.q - minpos.q + 1)\n",
    "        self._matrix = matrix = np.zeros(shape, dtype=np.uint8)\n",
    "        for hpos, tile in tilefloor.tiles.items():\n",
    "            matrix[hpos.r - minpos.r, hpos.q - minpos.q] = tile.value\n",
    "\n",
    "    @property\n",
    "    def black_count(self) -> int:\n",
    "        return np.sum(self._matrix)\n",
    "\n",
    "    def run(self, rounds: int = 100) -> int:\n",
    "        f = self._matrix\n",
    "        full = {t: np.full(f.shape, t.value) for t in Tile}\n",
    "        for _ in range(rounds):\n",
    "            f = np.pad(f, 1, constant_values=Tile.white.value)\n",
    "            full = {t: np.pad(m, 1, constant_values=t.value) for t, m in full.items()}\n",
    "            counts = {tile: convolve2d(f == tile.value, _kernel, mode='same') for tile in Tile}\n",
    "            rules = {\n",
    "                # Any **black** tile with **zero** or **more than 2** black tiles immediately\n",
    "                # adjacent to it is flipped to **white**.\n",
    "                Tile.white: (f == Tile.black.value) & ((counts[Tile.black] == 0) | (counts[Tile.black] > 2)),\n",
    "                # Any **white** tile with **exactly 2** black tiles immediately adjacent to it\n",
    "                # is flipped to **black**.\n",
    "                Tile.black: (f == Tile.white.value) & (counts[Tile.black] == 2),\n",
    "            }\n",
    "            f = np.select(list(rules.values()), [full[t] for t in rules], default=f)\n",
    "            self._matrix = f\n",
    "        return self.black_count\n",
    "\n",
    "assert ArtExhibitTileFloor(test_floor).run() == 2208"
   ]
  },
  {
   "cell_type": "code",
   "execution_count": 5,
   "metadata": {},
   "outputs": [
    {
     "output_type": "stream",
     "name": "stdout",
     "text": [
      "Part 2: 3768\n"
     ]
    }
   ],
   "source": [
    "print(\"Part 2:\", ArtExhibitTileFloor(tile_floor).run())"
   ]
  }
 ]
}