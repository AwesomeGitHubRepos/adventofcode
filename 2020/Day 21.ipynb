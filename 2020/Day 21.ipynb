{
 "metadata": {
  "language_info": {
   "codemirror_mode": {
    "name": "ipython",
    "version": 3
   },
   "file_extension": ".py",
   "mimetype": "text/x-python",
   "name": "python",
   "nbconvert_exporter": "python",
   "pygments_lexer": "ipython3",
   "version": "3.9.0-final"
  },
  "orig_nbformat": 2,
  "kernelspec": {
   "name": "python3",
   "display_name": "Python 3",
   "language": "python"
  }
 },
 "nbformat": 4,
 "nbformat_minor": 2,
 "cells": [
  {
   "source": [
    "# Day 21 - set operations\n",
    "\n",
    "* https://adventofcode.com/2020/day/21\n",
    "\n",
    "We are asked to figure out what ingredients are allergens. We can solve this using [set operations](https://docs.python.org/3/library/stdtypes.html#set-types-set-frozenset); for any allergen name, intersect all the sets of ingredients for the foods where the allergen appears.\n",
    "\n",
    "We also need to count the ingredients that are not allergens. A `Counter` can take care of that."
   ],
   "cell_type": "markdown",
   "metadata": {}
  },
  {
   "cell_type": "code",
   "execution_count": 1,
   "metadata": {},
   "outputs": [],
   "source": [
    "from collections import Counter\n",
    "from dataclasses import dataclass\n",
    "from typing import Set\n",
    "\n",
    "@dataclass\n",
    "class Food:\n",
    "    ingredients: Set\n",
    "    allergens: Set\n",
    "    \n",
    "    def __str__(self):\n",
    "        return (\n",
    "            f\"{' '.join(sorted(self.ingredients))} \"\n",
    "            f\"(contains {', '.join(self.allergens)})\"\n",
    "        )\n",
    "    \n",
    "    @classmethod\n",
    "    def from_line(cls, line):\n",
    "        ingr, _, allergens = line.partition(\" (contains \")\n",
    "        return cls(frozenset(ingr.split()), frozenset(allergens.rstrip(\")\").split(\", \")))\n",
    "\n",
    "\n",
    "def identify_allergens(foods):\n",
    "    candidates = {}\n",
    "    ingredients = Counter()\n",
    "    for f in foods:\n",
    "        ingredients.update(f.ingredients)\n",
    "        for allergen in f.allergens:\n",
    "            candidates.setdefault(allergen, f.ingredients)\n",
    "            candidates[allergen] &= f.ingredients\n",
    "    \n",
    "    allergens = {}\n",
    "    while candidates:\n",
    "        allergen, (ingr,) = min(candidates.items(), key=lambda ac: len(ac[1]))\n",
    "        allergens[allergen] = ingr\n",
    "        del ingredients[ingr]\n",
    "        del candidates[allergen]\n",
    "        candidates = {a: ic - {ingr} for a, ic in candidates.items()}\n",
    "    return allergens, sum(ingredients.values())\n",
    "\n",
    "\n",
    "test_foods = [Food.from_line(line) for line in \"\"\"\\\n",
    "mxmxvkd kfcds sqjhc nhms (contains dairy, fish)\n",
    "trh fvjkl sbzzf mxmxvkd (contains dairy)\n",
    "sqjhc fvjkl (contains soy)\n",
    "sqjhc mxmxvkd sbzzf (contains fish)\n",
    "\"\"\".splitlines()]\n",
    "\n",
    "assert identify_allergens(test_foods)[1] == 5"
   ]
  },
  {
   "cell_type": "code",
   "execution_count": 2,
   "metadata": {},
   "outputs": [],
   "source": [
    "import aocd\n",
    "foods = [Food.from_line(l) for l in aocd.get_data(day=21, year=2020).splitlines()]"
   ]
  },
  {
   "cell_type": "code",
   "execution_count": 3,
   "metadata": {},
   "outputs": [
    {
     "output_type": "stream",
     "name": "stdout",
     "text": [
      "Part 1: 2324\n"
     ]
    }
   ],
   "source": [
    "allergens, ingr_count = identify_allergens(foods)\n",
    "print(\"Part 1:\", ingr_count)"
   ]
  },
  {
   "source": [
    "## Part 2\n",
    "\n",
    "I inadvertently did most of the work for part 2 in part 1 already: sorting out what allergen goes with what ingredient, simply using the same techniques as we used for the train ticket data on [day 16](./Day%2016.ipynb)."
   ],
   "cell_type": "markdown",
   "metadata": {}
  },
  {
   "cell_type": "code",
   "execution_count": 4,
   "metadata": {},
   "outputs": [
    {
     "output_type": "stream",
     "name": "stdout",
     "text": [
      "Part 2: bxjvzk,hqgqj,sp,spl,hsksz,qzzzf,fmpgn,tpnnkc\n"
     ]
    }
   ],
   "source": [
    "canonical = [allergens[n] for n in sorted(allergens)]\n",
    "print(\"Part 2:\", \",\".join(canonical))"
   ]
  }
 ]
}