{
 "cells": [
  {
   "cell_type": "markdown",
   "metadata": {},
   "source": [
    "# Day 25 - finding disconnected subgraphs\n",
    "\n",
    "We are asked to see fixed points in 4 dimensions as connected, if they are a Manhattan distance of 3 or less apart.\n",
    "\n",
    "We once again can reach to the [`scipy.spacial.distance` package](https://docs.scipy.org/doc/scipy/reference/spatial.distance.html) to do the Manhattan distance calculations for all our points in one step. The [`pdist()` function](https://docs.scipy.org/doc/scipy/reference/generated/scipy.spatial.distance.pdist.html#scipy.spatial.distance.pdist) gives us all the pair-wise distances; the first n - 1 rows are the distances between the first point and every other point, followed by n - 2 rows of distances between the second point and the remaining points following, etc. Those distances are trivially turned into a boolean sequence to mark points as 'near'.\n",
    "\n",
    "What remains is to record this information in a dictionary as an undirected graph, and then count the subgraphs (constellations) by traversing the graphs until you run out of nodes, then moving on to the next unvisited node."
   ]
  },
  {
   "cell_type": "code",
   "execution_count": 1,
   "metadata": {},
   "outputs": [],
   "source": [
    "from collections import deque\n",
    "from itertools import combinations\n",
    "from typing import Iterable, Mapping\n",
    "\n",
    "import numpy as np\n",
    "from scipy.spatial import distance\n",
    "\n",
    "def load_points(data: Iterable[str]):\n",
    "    return np.loadtxt(data, dtype=np.int8, delimiter=',')\n",
    "\n",
    "def points_to_graph(points) -> Mapping[int, int]:\n",
    "    \"\"\"Produce a dictionary of connected edges in an undirected graph\"\"\"\n",
    "    indices = range(points.shape[0])\n",
    "    # A matrix containing len(points) * (len(points) - 1) // 2 boolean flags\n",
    "    # giving us half of a square proximity matrix (first n - 1 entries are for\n",
    "    # the 0th point against the other points, the next n - 2 entries are for\n",
    "    # the 1st point against the remainder, etc.)\n",
    "    near = distance.pdist(points, 'cityblock') <= 3\n",
    "    # combinations(len(points), 2) produces the matching indices back into\n",
    "    # points for those booleans, which we can then filter on.\n",
    "    connected = (combo for combo, is_near in zip(combinations(indices, 2), near) if is_near)\n",
    "    # mapping from point index to connected point indices in a graph\n",
    "    # both directions are represented, all points are represented (even\n",
    "    # if the points are not connected to anything else).\n",
    "    graph = {i: set() for i in indices}\n",
    "    for i, j in connected:\n",
    "        graph[i].add(j)\n",
    "        graph[j].add(i)\n",
    "    return graph\n",
    "\n",
    "def count_subgraphs(graph: Mapping[int, int]):\n",
    "    # traverse the graph from an arbitrary node, removing nodes\n",
    "    # we visit. When we run out of nodes to visit, we cleared one\n",
    "    # graph, and can jump to the next arbitrary node.\n",
    "    nodes = set(graph)\n",
    "    graphs = 0\n",
    "    while nodes:\n",
    "        graphs += 1\n",
    "        queue = deque([nodes.pop()])\n",
    "        while queue:\n",
    "            node = queue.pop()\n",
    "            for next_ in graph[node]:\n",
    "                if next_ not in nodes:\n",
    "                    continue\n",
    "                nodes.remove(next_)\n",
    "                queue.append(next_)\n",
    "    return graphs"
   ]
  },
  {
   "cell_type": "code",
   "execution_count": 2,
   "metadata": {},
   "outputs": [],
   "source": [
    "tests = {\n",
    "    '0,0,0,0\\n3,0,0,0\\n0,3,0,0\\n0,0,3,0\\n0,0,0,3\\n0,0,0,6\\n9,0,0,0\\n12,0,0,0': 2,\n",
    "    '-1,2,2,0\\n0,0,2,-2\\n0,0,0,-2\\n-1,2,0,0\\n-2,-2,-2,2\\n3,0,2,-1\\n-1,3,2,2\\n-1,0,-1,0\\n0,2,1,-2\\n3,0,0,0': 4,\n",
    "    '1,-1,0,1\\n2,0,-1,0\\n3,2,-1,0\\n0,0,3,1\\n0,0,-1,-1\\n2,3,-2,0\\n-2,2,0,0\\n2,-2,0,-1\\n1,-1,0,-1\\n3,2,0,2': 3,\n",
    "    '1,-1,-1,-2\\n-2,-2,0,1\\n0,2,1,3\\n-2,3,-2,1\\n0,2,3,-2\\n-1,-1,1,-2\\n0,-2,-1,0\\n-2,2,3,-1\\n1,2,2,0\\n-1,-2,0,-2': 8,\n",
    "}\n",
    "for test, expected in tests.items():\n",
    "    assert count_subgraphs(points_to_graph(load_points(test.splitlines()))) == expected"
   ]
  },
  {
   "cell_type": "code",
   "execution_count": 3,
   "metadata": {},
   "outputs": [
    {
     "name": "stdout",
     "output_type": "stream",
     "text": [
      "Part 1: 399\n"
     ]
    }
   ],
   "source": [
    "import aocd\n",
    "\n",
    "data = aocd.get_data(day=25, year=2018)\n",
    "fixed_points = load_points(data.splitlines())\n",
    "graph = points_to_graph(fixed_points)\n",
    "print('Part 1:', count_subgraphs(graph))"
   ]
  },
  {
   "cell_type": "markdown",
   "metadata": {},
   "source": [
    "## Part 2 - Merry Christmas!\n",
    "\n",
    "As is traditional, the 50th star is handed to you as a Christmas gift. :-)"
   ]
  }
 ],
 "metadata": {
  "kernelspec": {
   "display_name": "Python 3",
   "language": "python",
   "name": "python3"
  },
  "language_info": {
   "codemirror_mode": {
    "name": "ipython",
    "version": 3
   },
   "file_extension": ".py",
   "mimetype": "text/x-python",
   "name": "python",
   "nbconvert_exporter": "python",
   "pygments_lexer": "ipython3",
   "version": "3.7.1"
  }
 },
 "nbformat": 4,
 "nbformat_minor": 2
}
