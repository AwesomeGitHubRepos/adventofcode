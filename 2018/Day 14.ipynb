{
 "cells": [
  {
   "cell_type": "markdown",
   "metadata": {},
   "source": [
    "# Day 14, two pointers\n",
    "\n",
    "If this wasn't Python, this might be harder. You'd create a dynamic array and two pointers into the array to track the Elf positions. In Python, `list` is already dynamic and we can just keep indices."
   ]
  },
  {
   "cell_type": "code",
   "execution_count": 1,
   "metadata": {},
   "outputs": [],
   "source": [
    "from typing import Optional, List\n",
    "\n",
    "_start = \"37101012451589167792\"\n",
    "\n",
    "def chocolate_chart(recipes: int, start: str = _start, elf1: int = 8, elf2: int = 4):\n",
    "    chart = list(map(int, start))\n",
    "    # we need the next 10 results\n",
    "    target = recipes + 10\n",
    "    while len(chart) < target:\n",
    "        score1, score2 = chart[elf1], chart[elf2]\n",
    "        chart += map(int, str(score1 + score2))\n",
    "        elf1, elf2 = (elf1 + score1 + 1) % len(chart), (elf2 + score2 + 1) % len(chart)\n",
    "    \n",
    "    # we could have produced 11 new recipes past the recipe count?\n",
    "    return ''.join(map(str, chart[recipes:recipes + 10]))"
   ]
  },
  {
   "cell_type": "code",
   "execution_count": 2,
   "metadata": {},
   "outputs": [],
   "source": [
    "# no actual work done, just asserting the start chart value correct\n",
    "assert chocolate_chart(9) == '5158916779'\n",
    "assert chocolate_chart(5) == '0124515891'\n",
    "\n",
    "# actually re-create the work\n",
    "assert chocolate_chart(9, '37', 0, 1) == '5158916779'\n",
    "assert chocolate_chart(5, '37', 0, 1) == '0124515891'\n",
    "\n",
    "# extrapolating from the chart\n",
    "assert chocolate_chart(18) == '9251071085'\n",
    "assert chocolate_chart(2018) == '5941429882'"
   ]
  },
  {
   "cell_type": "code",
   "execution_count": 3,
   "metadata": {},
   "outputs": [],
   "source": [
    "import aocd\n",
    "\n",
    "data = aocd.get_data(day=14, year=2018)\n",
    "recipes = int(data)"
   ]
  },
  {
   "cell_type": "code",
   "execution_count": 4,
   "metadata": {},
   "outputs": [
    {
     "name": "stdout",
     "output_type": "stream",
     "text": [
      "Part 1: 9411137133\n"
     ]
    }
   ],
   "source": [
    "print('Part 1:', chocolate_chart(recipes))"
   ]
  }
 ],
 "metadata": {
  "kernelspec": {
   "display_name": "Python 3",
   "language": "python",
   "name": "python3"
  },
  "language_info": {
   "codemirror_mode": {
    "name": "ipython",
    "version": 3
   },
   "file_extension": ".py",
   "mimetype": "text/x-python",
   "name": "python",
   "nbconvert_exporter": "python",
   "pygments_lexer": "ipython3",
   "version": "3.7.1"
  }
 },
 "nbformat": 4,
 "nbformat_minor": 2
}
