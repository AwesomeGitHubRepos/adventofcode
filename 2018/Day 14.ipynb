{
 "cells": [
  {
   "cell_type": "markdown",
   "metadata": {},
   "source": [
    "# Day 14, two pointers\n",
    "\n",
    "* [Day 14](https://adventofcode.com/2018/day/14)\n",
    "\n",
    "If this wasn't Python, this might be harder. You'd create a dynamic array and two pointers into the array to track the Elf positions. In Python, `list` is already dynamic and we can just keep indices."
   ]
  },
  {
   "cell_type": "code",
   "execution_count": 1,
   "metadata": {},
   "outputs": [],
   "source": [
    "from typing import Optional, List\n",
    "\n",
    "_start = \"37101012451589167792\"\n",
    "\n",
    "def chocolate_chart(recipes: int, start: str = _start, elf1: int = 8, elf2: int = 4) -> str:\n",
    "    chart = list(map(int, start))\n",
    "    # we need the next 10 results\n",
    "    target = recipes + 10\n",
    "    while len(chart) < target:\n",
    "        score1, score2 = chart[elf1], chart[elf2]\n",
    "        chart += map(int, str(score1 + score2))\n",
    "        elf1, elf2 = (elf1 + score1 + 1) % len(chart), (elf2 + score2 + 1) % len(chart)\n",
    "    \n",
    "    # we could have produced 11 new recipes past the recipe count?\n",
    "    return ''.join(map(str, chart[recipes:recipes + 10]))"
   ]
  },
  {
   "cell_type": "code",
   "execution_count": 2,
   "metadata": {},
   "outputs": [],
   "source": [
    "# no actual work done, just asserting the start chart value correct\n",
    "assert chocolate_chart(9) == '5158916779'\n",
    "assert chocolate_chart(5) == '0124515891'\n",
    "\n",
    "# actually re-create the work\n",
    "assert chocolate_chart(9, '37', 0, 1) == '5158916779'\n",
    "assert chocolate_chart(5, '37', 0, 1) == '0124515891'\n",
    "\n",
    "# extrapolating from the chart\n",
    "assert chocolate_chart(18) == '9251071085'\n",
    "assert chocolate_chart(2018) == '5941429882'"
   ]
  },
  {
   "cell_type": "code",
   "execution_count": 3,
   "metadata": {},
   "outputs": [],
   "source": [
    "import aocd\n",
    "\n",
    "data = aocd.get_data(day=14, year=2018)\n",
    "recipes = int(data)"
   ]
  },
  {
   "cell_type": "code",
   "execution_count": 4,
   "metadata": {},
   "outputs": [
    {
     "name": "stdout",
     "output_type": "stream",
     "text": [
      "Part 1: 9411137133\n"
     ]
    }
   ],
   "source": [
    "print('Part 1:', chocolate_chart(recipes))"
   ]
  },
  {
   "cell_type": "markdown",
   "metadata": {},
   "source": [
    "## Part 2\n",
    "\n",
    "Now we need to keep track of a sub-list as we append. Not much harder, really, just keep track of how many elements of the target already match at the end and update for new numbers."
   ]
  },
  {
   "cell_type": "code",
   "execution_count": 5,
   "metadata": {},
   "outputs": [],
   "source": [
    "def chocolate_chart_substring(target: str) -> int:\n",
    "    chart: List[int] = [3, 7]\n",
    "    elf1: int = 0\n",
    "    elf2: int = 1\n",
    "    matched: int = 0\n",
    "    while True:\n",
    "        score1, score2 = chart[elf1], chart[elf2]\n",
    "        new_score = str(score1 + score2)\n",
    "        for d in new_score:\n",
    "            if target[matched] == d:\n",
    "                matched += 1\n",
    "            else:\n",
    "                # no match, start at 0, but do check for a new match\n",
    "                matched = 1 if target[0] == d else 0\n",
    "            chart.append(int(d))\n",
    "            if matched == len(target):\n",
    "                return len(chart) - len(target)\n",
    "        elf1, elf2 = (elf1 + score1 + 1) % len(chart), (elf2 + score2 + 1) % len(chart)"
   ]
  },
  {
   "cell_type": "code",
   "execution_count": 6,
   "metadata": {},
   "outputs": [],
   "source": [
    "tests = {\n",
    "    '51589': 9,\n",
    "    '01245': 5,\n",
    "    '92510': 18,\n",
    "    '59414': 2018,\n",
    "}\n",
    "for target, expected in tests.items():\n",
    "    assert chocolate_chart_substring(target) == expected, f\"{target} != {expected}\""
   ]
  },
  {
   "cell_type": "code",
   "execution_count": 7,
   "metadata": {},
   "outputs": [
    {
     "name": "stdout",
     "output_type": "stream",
     "text": [
      "Part 2: 20317612\n"
     ]
    }
   ],
   "source": [
    "print('Part 2:', chocolate_chart_substring(data))"
   ]
  }
 ],
 "metadata": {
  "kernelspec": {
   "display_name": "Python 3",
   "language": "python",
   "name": "python3"
  },
  "language_info": {
   "codemirror_mode": {
    "name": "ipython",
    "version": 3
   },
   "file_extension": ".py",
   "mimetype": "text/x-python",
   "name": "python",
   "nbconvert_exporter": "python",
   "pygments_lexer": "ipython3",
   "version": "3.7.1"
  }
 },
 "nbformat": 4,
 "nbformat_minor": 2
}
