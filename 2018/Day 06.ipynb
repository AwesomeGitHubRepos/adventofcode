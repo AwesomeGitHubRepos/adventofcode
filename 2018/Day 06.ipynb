{
 "cells": [
  {
   "cell_type": "markdown",
   "metadata": {},
   "source": [
    "# Day 6 - Voronoi diagram\n",
    "\n",
    "<figure style=\"float: right; max-width: 25em; margin: 1em\">\n",
    "<img src=\"https://upload.wikimedia.org/wikipedia/commons/6/6d/Manhattan_Voronoi_Diagram.svg\"\n",
    "     alt=\"Manhattan Voronoi diagram illustration from Wikimedia\"/>\n",
    "<figcaption style=\"font-style: italic; font-size: smaller\">\n",
    "\n",
    "Manhattan Voronoi diagram  \n",
    "Balu Ertl [<a href=\"https://creativecommons.org/licenses/by-sa/1.0\">CC BY-SA 1.0</a>],<br/><a href=\"https://commons.wikimedia.org/wiki/File:Manhattan_Voronoi_Diagram.svg\">from Wikimedia Commons</a>\n",
    "\n",
    "</figcaption>\n",
    "</figure>\n",
    "\n",
    "Another computational geometry problem! This time we are asked to find the largest area in a [Voronoi diagram](https://en.wikipedia.org/wiki/Voronoi_diagram).\n",
    "\n",
    "The most efficient algorithm to produce the boundaries between the points ($O(n \\log_2 n)$) is [Fortune's algorithm](https://en.wikipedia.org/wiki/Fortune%27s_algorithm), which (like [day 3](./Day%2003.ipynb)) is a [sweep line algorithm](https://en.wikipedia.org/wiki/Sweep_line_algorithm) to reduce the problem from 2 to 1 dimension. *But*, we don't need boundaries,  we need *area*. A simpler method is to just use a $O(kn)$ double loop to find which of $n$ elements is closest for each of the $k$ `(x, y)` points in the map.\n",
    "\n",
    "\n",
    "There are three importand aspects to remember here:\n",
    "\n",
    "1. we need to use [Manhattan distance](https://en.wikipedia.org/wiki/Taxicab_geometry), not Euclidian distance, when doing our calculations.\n",
    "\n",
    "2. If 2 or more coordinates are equidistant from a given `(x, y)` point, that point doesn't count as area for any of the coordinates. This means we can't just use `min()` here, and `sort()` would be needlessly precise. Instead, we only need to know the *top 2 smallest distances*; if these two are equidistance we know we can't give the area to anyone. To get the two N of anything, you'd want to use a [heap queue](https://docs.python.org/3/library/heapq.html#heapq.nsmallest), which gives us the result in $O(n)$ time rather than $O(n \\log_2 n)$. Or, for numpy arrays, use the [`numpy.partition()`](https://docs.scipy.org/doc/numpy/reference/generated/numpy.partition.html) function; we just want to group the top two separate from the remainder, it doesn't matter if they are ordered any further, after all.\n",
    "\n",
    "3. Per coordinate we need to track if their area stretches to infinity, so we can disqualify them from consideration when we ask for the maximum area. Any coordinate that can claim a `(x, y)` point on the boundaries (defined as the min and max x and y coordinates) can be expected to stretch to infinity.\n",
    "\n",
    "All computations can be done with numpy arrays, and the distance calculations can be done for all points for the whole matrix in one step with the Scipy [`scipy.spacial.distance.cdist()`](https://docs.scipy.org/doc/scipy/reference/generated/scipy.spatial.distance.cdist.html) function, which directly supports calculating Manhattan distances.\n",
    "\n",
    "As inputs we need\n",
    "\n",
    "- an array for all the `(x, y)` positions for the coordinates\n",
    "\n",
    "    <table>\n",
    "      <thead>\n",
    "        <tr><th>#</th><th>x</th><th>y</th></tr>\n",
    "      </thead>\n",
    "      <tbody>\n",
    "        <tr><th>0</th><td>1</td><td>1</td></tr>\n",
    "        <tr><th>1</th><td>1</td><td>6</td></tr>\n",
    "        <tr><th>⋮</th><td>⋮</td><td>⋮</td></tr>\n",
    "        <tr><th>5</th><td>8</td><td>9</td></tr>\n",
    "      </tbody>\n",
    "    </table>\n",
    "    \n",
    "- an array of all possible `(x, y)` coordinates for the grid\n",
    "  bounded the min and max x, y coordinates of the input coordinates\n",
    "\n",
    "    <table>\n",
    "      <thead>\n",
    "        <tr><th>#</th><th>x</th><th>y</th></tr>\n",
    "      </thead>\n",
    "      <tbody>\n",
    "        <tr><th>0</th><td>1</td><td>1</td></tr>\n",
    "        <tr><th>1</th><td>2</td><td>1</td></tr>\n",
    "        <tr><th>2</th><td>3</td><td>1</td></tr>\n",
    "        <tr><th>⋮</th><td>⋮</td><td>⋮</td></tr>\n",
    "        <tr><th>55</th><td>7</td><td>8</td></tr>\n",
    "      </tbody>\n",
    "    </table>\n",
    "\n",
    "Given these, `cdist()` will give us a big matrix with all distances:\n",
    "\n",
    "<table>\n",
    "  <thead>\n",
    "    <tr><th>#</th><th>distances</th></tr>\n",
    "  </thead>\n",
    "  <tbody>\n",
    "    <tr><th>0</th><td>\n",
    "      <table>\n",
    "        <thead>\n",
    "          <tr><th></th><th>0</th><th>1</th><th>2</th><th>3</th><th>4</th><th>5</th><th>6</th></tr></thead>\n",
    "        <tbody>\n",
    "          <tr><th>0</th><td>0.0</td><td>1.0</td><td>2.0</td><td>3.0</td><td>4.0</td><td>5.0</td><td>6.0</td></tr>\n",
    "          <tr><th>1</th><td>1.0</td><td>2.0</td><td>3.0</td><td>4.0</td><td>5.0</td><td>6.0</td><td>7.0</td></tr>\n",
    "          <tr><th>⋮</th><td>⋮</td><td>⋮</td><td>⋮</td><td>⋮</td><td>⋮</td><td>⋮</td><td>⋮</td></tr>\n",
    "          <tr><th>7</th><td>7.0</td><td>8.0</td><td>9.0</td><td>10.0</td><td>11.0</td><td>12.0</td><td>13.0</td></tr>\n",
    "        </tbody>\n",
    "      </table>\n",
    "    </td></tr>\n",
    "    <tr><th>1</th><td>\n",
    "      <table>\n",
    "        <thead>\n",
    "          <tr><th></th><th>0</th><th>1</th><th>2</th><th>3</th><th>4</th><th>5</th><th>6</th></tr>\n",
    "        </thead>\n",
    "        <tbody>\n",
    "          <tr><th>0</th><td>5.0</td><td>6.0</td><td>7.0</td><td>8.0</td><td>9.0</td><td>10.0</td><td>11.0</td></tr>\n",
    "          <tr><th>1</th><td>4.0</td><td>5.0</td><td>6.0</td><td>7.0</td><td>8.0</td><td>9.0</td><td>10.0</td></tr>\n",
    "          <tr><th>⋮</th><td>⋮</td><td>⋮</td><td>⋮</td><td>⋮</td><td>⋮</td><td>⋮</td><td>⋮</td></tr>\n",
    "          <tr><th>7</th><td>2.0</td><td>3.0</td><td>4.0</td><td>5.0</td><td>6.0</td><td>7.0</td><td>8.0</td></tr>\n",
    "        </tbody>\n",
    "      </table>\n",
    "    </td></tr>\n",
    "    <tr><th>⋮</th><td>⋮</td></tr>\n",
    "    <tr><th>5</th><td>\n",
    "      <table>\n",
    "        <thead>\n",
    "          <tr><th></th><th>0</th><th>1</th><th>2</th><th>3</th><th>4</th><th>5</th><th>6</th></tr>\n",
    "        </thead>\n",
    "        <tbody>\n",
    "          <tr><th>0</th><td>15.0</td><td>14.0</td><td>13.0</td><td>12.0</td><td>11.0</td><td>10.0</td><td>9.0</td></tr>\n",
    "          <tr><th>1</th><td>14.0</td><td>13.0</td><td>12.0</td><td>11.0</td><td>10.0</td><td>9.0</td><td>8.0</td></tr>\n",
    "          <tr><th>⋮</th><td>⋮</td><td>⋮</td><td>⋮</td><td>⋮</td><td>⋮</td><td>⋮</td><td>⋮</td></tr>\n",
    "          <tr><th>7</th><td>8.0</td><td>7.0</td><td>6.0</td><td>5.0</td><td>4.0</td><td>3.0</td><td>2.0</td></tr>\n",
    "        </tbody>\n",
    "      </table>\n",
    "    </td></tr>\n",
    "  </tbody>\n",
    "</table>\n",
    "\n",
    "All that then remains to be done is find the *ids* of the input coordinates (integer index) that have the lowest distance at each point, remove the points at which the lowest distance and second lowest distance are equal (contested distances), remove the ids that claim area at the edges (those have infinite area), then count the ids and return the highest of those counts."
   ]
  },
  {
   "cell_type": "code",
   "execution_count": 1,
   "metadata": {},
   "outputs": [],
   "source": [
    "import numpy as np\n",
    "from scipy.spatial import distance\n",
    "\n",
    "def _manhattan_distances_matrix(coords):\n",
    "    \"\"\"Produce a len(coords) matrix of manhattan distances at all possible x, y\"\"\"\n",
    "    x = np.arange(coords[..., 0].min(), coords[..., 0].max() + 1)\n",
    "    y = np.arange(coords[..., 1].min(), coords[..., 1].max() + 1)\n",
    "    # arrays with len(x) x len(y) x and y coordinates\n",
    "    xx, yy = np.meshgrid(x, y)\n",
    "    # array of all possible [x, y]\n",
    "    all_xy = np.stack((xx, yy), axis=-1).reshape(-1, 2)\n",
    "    \n",
    "    # calculate distances for all points at all coordinates; essentially a\n",
    "    # len(coordinates) set of matrices of distances\n",
    "    return distance.cdist(coords, all_xy, metric='cityblock').reshape(-1, *xx.shape)\n",
    "\n",
    "def find_max_area(coords):\n",
    "    \"\"\"How large is the largest non-infinite area covered?\"\"\"\n",
    "    distances = _manhattan_distances_matrix(coords)\n",
    "\n",
    "    # What coordinate ids win for a given x, y position?\n",
    "    coord_ids = distances.argmin(axis=0)\n",
    "    \n",
    "    # whereever the top and second best distance are the same, clear the\n",
    "    # claim for a candidate id\n",
    "    candidate, next_ = np.partition(distances, 2, axis=0)[:2]\n",
    "    coord_ids[candidate == next_] = -1\n",
    "\n",
    "    # Any candidate id that's at the edge has infinite area, clear those\n",
    "    # from consideration\n",
    "    is_infinite = np.union1d(\n",
    "        # top and bottom\n",
    "        np.unique(coord_ids[[0, -1], :]),\n",
    "        # left and right\n",
    "        np.unique(coord_ids[:, [0, -1]]),\n",
    "    )\n",
    "    coord_ids[np.isin(coord_ids, is_infinite)] = -1\n",
    "    \n",
    "    # now we have a matrix of all positions on the infinite grid (bounded\n",
    "    # by the min and max coordinates) with non-infinite areas marked by\n",
    "    # the id of the coordinates that claim that position. -1 mark spots\n",
    "    # not claimable or part of an infinite area. All we need to do now is\n",
    "    # count the ids != -1, and return the maximum\n",
    "    _, counts = np.unique(coord_ids[coord_ids != -1], return_counts=True)\n",
    "    return counts.max()"
   ]
  },
  {
   "cell_type": "code",
   "execution_count": 2,
   "metadata": {},
   "outputs": [],
   "source": [
    "testcoords = np.genfromtxt('''\\\n",
    "1, 1\n",
    "1, 6\n",
    "8, 3\n",
    "3, 4\n",
    "5, 5\n",
    "8, 9'''.splitlines(), delimiter=',', dtype=np.int)\n",
    "assert find_max_area(testcoords) == 17"
   ]
  },
  {
   "cell_type": "code",
   "execution_count": 3,
   "metadata": {},
   "outputs": [
    {
     "data": {
      "image/png": "[encoded data removed]",
      "text/plain": [
       "<Figure size 360x360 with 1 Axes>"
      ]
     },
     "metadata": {
      "needs_background": "light"
     },
     "output_type": "display_data"
    }
   ],
   "source": [
    "%matplotlib inline\n",
    "import matplotlib.pyplot as plt\n",
    "\n",
    "def visualise(coords, cmap='rainbow', unclaimed='black', centers='white'):\n",
    "    distances = _manhattan_distances_matrix(coords)\n",
    "\n",
    "    # What coordinate ids win for a given x, y position?\n",
    "    coord_ids = distances.argmin(axis=0)\n",
    "    # This is the range of coordinate ids, we'll go under\n",
    "    # for 'unclaimed', over for centers\n",
    "    vmin, vmax = coord_ids.min(), coord_ids.max()\n",
    "\n",
    "    # whereever the top and second best distance are the same, clear the\n",
    "    # claim for a candidate id\n",
    "    candidate, next_ = np.partition(distances, 2, axis=0)[:2]\n",
    "    coord_ids[candidate == next_] = vmin - 1\n",
    "\n",
    "    # mark the coordinate centers with a separate colour; coordinates\n",
    "    # must first be normalised as we don't necessarily start at 0, 0\n",
    "    # anymore.\n",
    "    normalised_coords = coords - coords.min(axis=0)\n",
    "    coord_ids[tuple(normalised_coords.T)[::-1]] = vmax + 1\n",
    "    \n",
    "    plt.axis('off')\n",
    "    cmap = plt.get_cmap(cmap)\n",
    "    cmap.set_under(unclaimed)\n",
    "    cmap.set_over(centers)\n",
    "    return plt.imshow(coord_ids, cmap=cmap, vmin=vmin, vmax=vmax)\n",
    "\n",
    "plt.rcParams['figure.figsize'] = [5, 5]\n",
    "p = visualise(testcoords)"
   ]
  },
  {
   "cell_type": "code",
   "execution_count": 4,
   "metadata": {},
   "outputs": [],
   "source": [
    "import aocd\n",
    "\n",
    "data = aocd.get_data(day=6, year=2018)\n",
    "coords = np.genfromtxt(data.splitlines(), delimiter=',', dtype=np.uint)"
   ]
  },
  {
   "cell_type": "code",
   "execution_count": 5,
   "metadata": {},
   "outputs": [
    {
     "name": "stdout",
     "output_type": "stream",
     "text": [
      "Part 1: 4060\n"
     ]
    }
   ],
   "source": [
    "print('Part 1:', find_max_area(coords))"
   ]
  },
  {
   "cell_type": "code",
   "execution_count": 6,
   "metadata": {},
   "outputs": [
    {
     "data": {
      "image/png": "[encoded data removed]",
      "text/plain": [
       "<Figure size 1152x1152 with 1 Axes>"
      ]
     },
     "metadata": {
      "needs_background": "light"
     },
     "output_type": "display_data"
    }
   ],
   "source": [
    "# All the coordinates mapped out:\n",
    "plt.rcParams['figure.figsize'] = [16, 16]\n",
    "p = visualise(coords)"
   ]
  },
  {
   "cell_type": "markdown",
   "metadata": {},
   "source": [
    "## Part 2\n",
    "\n",
    "This part is actually easier, we can sum all the distances that `cdist()` gives us for all possible positions, and count how many of these fall below the threshold. Numpy was made for this kind of work."
   ]
  },
  {
   "cell_type": "code",
   "execution_count": 7,
   "metadata": {},
   "outputs": [],
   "source": [
    "def area_within_threshold(coords, threshold):\n",
    "    distances = _manhattan_distances_matrix(coords)\n",
    "    return (distances.sum(axis=0) < threshold).sum()"
   ]
  },
  {
   "cell_type": "code",
   "execution_count": 8,
   "metadata": {},
   "outputs": [],
   "source": [
    "assert area_within_threshold(testcoords, 32) == 16"
   ]
  },
  {
   "cell_type": "code",
   "execution_count": 9,
   "metadata": {},
   "outputs": [
    {
     "name": "stdout",
     "output_type": "stream",
     "text": [
      "Part 2: 36136\n"
     ]
    }
   ],
   "source": [
    "print('Part 2:', area_within_threshold(coords, 10000))"
   ]
  }
 ],
 "metadata": {
  "kernelspec": {
   "display_name": "Python 3",
   "language": "python",
   "name": "python3"
  },
  "language_info": {
   "codemirror_mode": {
    "name": "ipython",
    "version": 3
   },
   "file_extension": ".py",
   "mimetype": "text/x-python",
   "name": "python",
   "nbconvert_exporter": "python",
   "pygments_lexer": "ipython3",
   "version": "3.7.1"
  }
 },
 "nbformat": 4,
 "nbformat_minor": 2
}
