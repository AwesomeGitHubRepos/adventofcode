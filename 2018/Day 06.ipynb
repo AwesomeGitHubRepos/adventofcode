{
 "cells": [
  {
   "cell_type": "markdown",
   "metadata": {},
   "source": [
    "# Day 6 - Voronoi diagram\n",
    "\n",
    "<figure style=\"float: right; max-width: 25em; margin: 1em\">\n",
    "<img src=\"https://upload.wikimedia.org/wikipedia/commons/6/6d/Manhattan_Voronoi_Diagram.svg\"\n",
    "     alt=\"Manhattan Voronoi diagram illustration from Wikimedia\"/>\n",
    "<figcaption style=\"font-style: italic; font-size: smaller\">\n",
    "\n",
    "Manhattan Voronoi diagram  \n",
    "Balu Ertl [<a href=\"https://creativecommons.org/licenses/by-sa/1.0\">CC BY-SA 1.0</a>],<br/><a href=\"https://commons.wikimedia.org/wiki/File:Manhattan_Voronoi_Diagram.svg\">from Wikimedia Commons</a>\n",
    "\n",
    "</figcaption>\n",
    "</figure>\n",
    "\n",
    "Another computational geometry problem! This time we are asked to find the largest area in a [Voronoi diagram](https://en.wikipedia.org/wiki/Voronoi_diagram).\n",
    "\n",
    "The most efficient algorithm to produce the boundaries between the points ($O(n \\log_2 n)$) is [Fortune's algorithm](https://en.wikipedia.org/wiki/Fortune%27s_algorithm), which (like [day 3](./Day%2003.ipynb)) is a [sweep line algorithm](https://en.wikipedia.org/wiki/Sweep_line_algorithm) to reduce the problem from 2 to 1 dimension. *But*, we don't need boundaries,  we need *area*. A simpler method is to just use a $O(kn)$ double loop to find which of $n$ elements is closest for each of the $k$ `(x, y)` points in the map.\n",
    "\n",
    "\n",
    "There are three importand aspects to remember here:\n",
    "\n",
    "1. we need to use [Manhattan distance](https://en.wikipedia.org/wiki/Taxicab_geometry), not Euclidian distance, when doing our calculations.\n",
    "\n",
    "2. If 2 or more coordinates are equidistant from a given `(x, y)` point, that point doesn't count as area for any of the coordinates. This means we can't just use `min()` here, and `sort()` would be needlessly precise. Instead, we only need to know the *top 2 smallest distances*; if these two are equidistance we know we can't give the area to anyone. To get the two N of anything, you want to use a [heap queue](https://docs.python.org/3/library/heapq.html#heapq.nsmallest), which gives us the result in $O(n)$ time rather than $O(n \\log_2 n)$.\n",
    "\n",
    "3. Per coordinate we need to track if their area stretches to infinity, so we can disqualify them from consideration when we ask for the maximum area. Any coordinate that can claim a `(x, y)` point on the boundaries (defined as the min and max x and y coordinates) can be expected to stretch to infinity.\n",
    "</div>"
   ]
  },
  {
   "cell_type": "code",
   "execution_count": 1,
   "metadata": {},
   "outputs": [],
   "source": [
    "from dataclasses import dataclass\n",
    "from operator import attrgetter\n",
    "from typing import Sequence\n",
    "from itertools import product\n",
    "from heapq import nsmallest\n",
    "\n",
    "\n",
    "@dataclass\n",
    "class Coordinate:\n",
    "    __slots__ = ('x', 'y', 'area', 'is_infinite')\n",
    "\n",
    "    x: int\n",
    "    y: int\n",
    "        \n",
    "    def __post_init__(self):\n",
    "        self.clear()\n",
    "        \n",
    "    @classmethod\n",
    "    def from_line(cls, line: str) -> 'Coordinate':\n",
    "        return cls(*map(int, line.split(',')))\n",
    "    \n",
    "    def distance(self, x: int, y: int) -> int:\n",
    "        \"\"\"Calculate the Manhattan distance from a given point\"\"\"\n",
    "        return abs(self.x - x) + abs(self.y - y)\n",
    "\n",
    "    def __setattr__(self, name, value):\n",
    "        # block mutating x & y once set\n",
    "        if name in 'xy' and getattr(self, name, None) is not None:\n",
    "            raise AttributeError(f\"{type(self).__name__}.{name} is immutable\")\n",
    "        super().__setattr__(name, value)\n",
    "\n",
    "    def __delattr__(self, name):\n",
    "        # block mutating x & y once set\n",
    "        if name in 'xy' and getattr(self, name, None) is not None:\n",
    "            raise AttributeError(f\"{type(self).__name__}.{name} is immutable\")\n",
    "        super().__delattr__(name)\n",
    "    \n",
    "    def clear(self):\n",
    "        \"\"\"Reset the graph filling state\"\"\"\n",
    "        self.area = 0\n",
    "        self.is_infinite = False\n",
    "\n",
    "    \n",
    "def _fill_areas(coordinates: Sequence[Coordinate]) -> None:\n",
    "    \"\"\"Update the covered area value for all coordinates\n",
    "    \n",
    "    If a coordinate would cover an infinitely large area, is_infinite is set to True\n",
    "    and area is left untouched.\n",
    "    \n",
    "    \"\"\"\n",
    "    getx, gety = attrgetter('x'), attrgetter('y') \n",
    "    xrange = range(min(map(getx, coordinates)), max(map(getx, coordinates)) + 1)\n",
    "    yrange = range(min(map(gety, coordinates)), max(map(gety, coordinates)) + 1)\n",
    "    xbounds, ybounds = {xrange[0], xrange[-1]}, {yrange[0], yrange[-1]}\n",
    "\n",
    "    for x, y in product(xrange, yrange):\n",
    "        candidate, next_ = nsmallest(2, coordinates, key=lambda c: c.distance(x, y))\n",
    "        if candidate.distance(x, y) < next_.distance(x, y):\n",
    "            candidate.area += 1\n",
    "            if x in xbounds or y in ybounds:\n",
    "                candidate.is_infinite = True\n",
    "\n",
    "def find_max_area(coordinates: Sequence[Coordinate]) -> int:\n",
    "    if not any(c.area or c.is_infinite for c in coordinates):\n",
    "        _fill_areas(coordinates)\n",
    "    return max(c.area for c in coordinates if not c.is_infinite)"
   ]
  },
  {
   "cell_type": "code",
   "execution_count": 2,
   "metadata": {},
   "outputs": [],
   "source": [
    "testcoords = [Coordinate.from_line(l) for l in '''\\\n",
    "1, 1\n",
    "1, 6\n",
    "8, 3\n",
    "3, 4\n",
    "5, 5\n",
    "8, 9'''.splitlines()]\n",
    "assert find_max_area(testcoords) == 17\n",
    "assert [c.is_infinite for c in testcoords] == [True, True, True, False, False, True]"
   ]
  },
  {
   "cell_type": "code",
   "execution_count": 3,
   "metadata": {},
   "outputs": [
    {
     "data": {
      "image/png": "[encoded data removed]",
      "text/plain": [
       "<Figure size 360x360 with 1 Axes>"
      ]
     },
     "metadata": {
      "needs_background": "light"
     },
     "output_type": "display_data"
    }
   ],
   "source": [
    "%matplotlib inline\n",
    "import matplotlib.pyplot as plt\n",
    "import numpy as np\n",
    "from collections import defaultdict\n",
    "from itertools import count\n",
    "\n",
    "def visualise(coordinates: Sequence[Coordinate]) -> plt.Figure:\n",
    "    getx, gety = attrgetter('x'), attrgetter('y') \n",
    "    xrange = range(min(map(getx, coordinates)), max(map(getx, coordinates)) + 1)\n",
    "    yrange = range(min(map(gety, coordinates)), max(map(gety, coordinates)) + 1)\n",
    "    \n",
    "    # semi-random distribution of colour numbers\n",
    "    colours = defaultdict(count(1).__next__)\n",
    "    points = np.zeros(shape=(len(xrange), len(yrange)), dtype=np.uint8)\n",
    "    \n",
    "    for x, y in product(xrange, yrange):\n",
    "        candidate, next_ = nsmallest(2, coordinates, key=lambda c: c.distance(x, y))\n",
    "        if candidate.distance(x, y) < next_.distance(x, y):\n",
    "            points[x - xrange.start, y - yrange.start] = colours[id(candidate)]\n",
    "        if (candidate.x, candidate.y) == (x, y):\n",
    "            # mark the centers\n",
    "            points[x - xrange.start, y - yrange.start] = 255\n",
    "    plt.axis('off')\n",
    "    cmap = plt.get_cmap('flag')\n",
    "    cmap.set_under('black')\n",
    "    cmap.set_over('white')\n",
    "    return plt.imshow(points, cmap=cmap, vmin=1, vmax=len(coordinates) + 1)\n",
    "\n",
    "plt.rcParams['figure.figsize'] = [5, 5]\n",
    "p = visualise(testcoords)"
   ]
  },
  {
   "cell_type": "code",
   "execution_count": 4,
   "metadata": {},
   "outputs": [],
   "source": [
    "import aocd\n",
    "\n",
    "data = aocd.get_data(day=6, year=2018)\n",
    "coords = [Coordinate.from_line(l) for l in data.splitlines()]"
   ]
  },
  {
   "cell_type": "code",
   "execution_count": 5,
   "metadata": {},
   "outputs": [
    {
     "name": "stdout",
     "output_type": "stream",
     "text": [
      "Part 1: 4060\n"
     ]
    }
   ],
   "source": [
    "print('Part 1:', find_max_area(coords))"
   ]
  },
  {
   "cell_type": "code",
   "execution_count": 6,
   "metadata": {},
   "outputs": [
    {
     "data": {
      "image/png": "[encoded data removed]",
      "text/plain": [
       "<Figure size 1152x1152 with 1 Axes>"
      ]
     },
     "metadata": {
      "needs_background": "light"
     },
     "output_type": "display_data"
    }
   ],
   "source": [
    "# All the coordinates mapped out:\n",
    "plt.rcParams['figure.figsize'] = [16, 16]\n",
    "p = visualise(coords)"
   ]
  },
  {
   "cell_type": "markdown",
   "metadata": {},
   "source": [
    "## Part 2\n",
    "\n",
    "We could look at scipy / numpy to do this work; summing the distances against a matrix is best left to specialised matrix tools. Scipy has just the right tool for us: [`spacial.cdist()`](https://docs.scipy.org/doc/scipy/reference/generated/scipy.spatial.distance.cdist.html), which lets us calculate the summed distances of two matrices!\n",
    "\n",
    "So we need\n",
    "\n",
    "an array for all the possible `(x, y)` positions for the coordinates\n",
    "\n",
    "coord | x | y\n",
    "------|---|---\n",
    "  1   | 1 | 1\n",
    "  2   | 1 | 6\n",
    "  .   | . | .\n",
    "  .   | . | .\n",
    "  6   | 8 | 9    \n",
    "    \n",
    "an array of all possible `(x, y)` coordinates\n",
    "\n",
    " x | y\n",
    "---|---\n",
    " 0 | 0\n",
    " 1 | 0\n",
    " 2 | 0\n",
    " . | .\n",
    " . | .\n",
    " 8 | 9\n",
    "\n",
    "`cdist()` will give us a big matrix with all distances:\n",
    "\n",
    "(x, y) | coord 1 | coord 2 | ... | coord 6\n",
    "-------|---------|---------|-----|---------\n",
    "(0, 0) |    0    |    5    | ... |   15\n",
    "(0, 1) |    1    |    4    | ... |   14\n",
    "(2, 0) |    2    |    3    | ... |   13\n",
    "   .   |    .    |    .    | ... |    .\n",
    "   .   |    .    |    .    | ... |    .\n",
    "(8, 9) |   15    |   10    | ... |    0\n",
    "\n",
    "which can trivially be summed over the first axis. Then we just have to count what number fall below the threshold."
   ]
  },
  {
   "cell_type": "code",
   "execution_count": 7,
   "metadata": {},
   "outputs": [],
   "source": [
    "from scipy.spatial import distance\n",
    "from typing import Iterable\n",
    "\n",
    "def area_within_threshold(coordinates: Iterable[Coordinate], treshold: int) -> int:\n",
    "    destinations = np.array([[c.x, c.y] for c in coordinates])\n",
    "    \n",
    "    getx, gety = attrgetter('x'), attrgetter('y') \n",
    "    xrange = range(min(map(getx, coordinates)), max(map(getx, coordinates)) + 1)\n",
    "    yrange = range(min(map(gety, coordinates)), max(map(gety, coordinates)) + 1)\n",
    "    all_coordinates = np.array(list(product(xrange, yrange)))\n",
    "    \n",
    "    distances = distance.cdist(destinations, all_coordinates, metric='cityblock').sum(axis=0)\n",
    "\n",
    "    return (distances < treshold).sum()"
   ]
  },
  {
   "cell_type": "code",
   "execution_count": 8,
   "metadata": {},
   "outputs": [],
   "source": [
    "assert area_within_threshold(testcoords, 32) == 16"
   ]
  },
  {
   "cell_type": "code",
   "execution_count": 9,
   "metadata": {},
   "outputs": [
    {
     "name": "stdout",
     "output_type": "stream",
     "text": [
      "Part 2: 36136\n"
     ]
    }
   ],
   "source": [
    "print('Part 2:', area_within_threshold(coords, 10000))"
   ]
  }
 ],
 "metadata": {
  "kernelspec": {
   "display_name": "Python 3",
   "language": "python",
   "name": "python3"
  },
  "language_info": {
   "codemirror_mode": {
    "name": "ipython",
    "version": 3
   },
   "file_extension": ".py",
   "mimetype": "text/x-python",
   "name": "python",
   "nbconvert_exporter": "python",
   "pygments_lexer": "ipython3",
   "version": "3.7.1"
  }
 },
 "nbformat": 4,
 "nbformat_minor": 2
}
