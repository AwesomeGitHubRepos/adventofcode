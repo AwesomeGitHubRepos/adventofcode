{
 "cells": [
  {
   "cell_type": "markdown",
   "metadata": {},
   "source": [
    "# Day 13, Step-wise execution on an ASCII map\n",
    "\n",
    "We've seen a similar problem [last year](../2017/Day%2019.ipynb), where we had to intrepret an ASCII map of the problem. I see no reason not to follow the same approach here.\n",
    "\n",
    "We\n",
    "\n",
    "1. 'read' the map to find all carts, noting their positions. Since they are always located on a straight section (`-` or `|`) we can trivially 'repair' the map at that point. (0, 0) is the top left.\n",
    "2. Move the carts in (y, x) priority order (top to bottom, and per row, from left to right), checking for collisions.\n",
    "3. Track last intersection rotation per cart, so we can rotate them correctly when coming to an intersection.\n",
    "\n",
    "## Part 2\n",
    "\n",
    "Part two is added in-line to remove the carts that collided; with the set-up for part 1 this was easy to add."
   ]
  },
  {
   "cell_type": "code",
   "execution_count": 1,
   "metadata": {},
   "outputs": [],
   "source": [
    "import re\n",
    "\n",
    "from dataclasses import dataclass, field\n",
    "from enum import Enum\n",
    "from typing import Optional, Sequence, Set, Tuple\n",
    "\n",
    "class Direction(Enum):\n",
    "    up = '^', -1, 0, 'left', 'right'\n",
    "    down = 'v', 1, 0, 'right', 'left'\n",
    "    left = '<', 0, -1, 'down', 'up'\n",
    "    right = '>', 0, 1, 'up', 'down'\n",
    "    \n",
    "    def __new__(cls, char: str, dy: int, dx: int, left: str, right: str) -> None:\n",
    "        instance = object.__new__(cls)\n",
    "        instance._value_ = char\n",
    "        instance.dy = dy\n",
    "        instance.dx = dx\n",
    "        instance._turns = {'left': left, 'right': right}\n",
    "        return instance\n",
    "    \n",
    "    def make_turn(self, move: 'Move') -> 'Direction':\n",
    "        turn = self._turns.get(move.name, self.name)\n",
    "        return type(self)[turn]\n",
    "\n",
    "class Move(Enum):\n",
    "    left = 0\n",
    "    straight = 1\n",
    "    right = 2\n",
    "    \n",
    "    @property\n",
    "    def next(self) -> 'Move':\n",
    "        enum = type(self)\n",
    "        return enum((self.value + 1) % len(enum))\n",
    "\n",
    "@dataclass(frozen=True, order=True)\n",
    "class Cart:\n",
    "    # order matters here; y must be compared before x\n",
    "    y: int\n",
    "    x: int\n",
    "    direction: Direction = field(compare=False)\n",
    "    last_intersection_move: Move = field(\n",
    "        default=Move.right, compare=False)\n",
    "\n",
    "    @property\n",
    "    def pos(self) -> Tuple[int, int]:\n",
    "        return self.y, self.x\n",
    "    \n",
    "    @property\n",
    "    def next_pos(self) -> Tuple[int, int]:\n",
    "        return (self.y + self.direction.dy, self.x + self.direction.dx)\n",
    "    \n",
    "    def move(self, next_map_char: str) -> 'Cart':\n",
    "        y, x = self.next_pos\n",
    "        direction = self.direction\n",
    "        last_move = self.last_intersection_move\n",
    "        if next_map_char == '+':\n",
    "            last_move = last_move.next\n",
    "            direction = direction.make_turn(last_move)\n",
    "        elif next_map_char == '\\\\':\n",
    "            if direction in (Direction.up, Direction.down):\n",
    "                turn = Move.left\n",
    "            else:\n",
    "                turn = Move.right\n",
    "            direction = direction.make_turn(turn)\n",
    "        elif next_map_char == '/':\n",
    "            if direction in (Direction.up, Direction.down):\n",
    "                turn = Move.right\n",
    "            else:\n",
    "                turn = Move.left\n",
    "            direction = direction.make_turn(turn)\n",
    "        return type(self)(y, x, direction, last_move)\n",
    "\n",
    "class Tracks:\n",
    "    def __init__(self, trackmap: Sequence[str], carts: Set[Cart]):\n",
    "        self.trackmap = trackmap\n",
    "        self.start_state = self.carts = carts\n",
    "    \n",
    "    @classmethod\n",
    "    def from_raw_map(cls, map: str):\n",
    "        lines = map.splitlines()\n",
    "        cleaned = []\n",
    "        carts = set()\n",
    "        for y, line in enumerate(lines):\n",
    "            for m in re.finditer(r'[<^>v]', line):\n",
    "                direction = Direction(m[0])\n",
    "                x = m.start()\n",
    "                if direction.name in ('up', 'down'):\n",
    "                    section = '|'\n",
    "                else:\n",
    "                    section = '-'\n",
    "                line = f\"{line[:x]}{section}{line[x + 1:]}\"\n",
    "                carts.add(Cart(y, x, direction))\n",
    "            cleaned.append(line)\n",
    "        return cls(cleaned, carts)\n",
    "\n",
    "    def reset(self):\n",
    "        self.carts = self.start_state\n",
    "        \n",
    "    def __str__(self):\n",
    "        lines = [list(l) for l in self.trackmap]\n",
    "        for cart in self.carts:\n",
    "            lines[cart.y][cart.x] = cart.direction.value\n",
    "        return '\\n'.join([''.join(l) for l in lines])\n",
    "    \n",
    "    def step(self, remove_collided: bool = False) -> Optional[Tuple[int, int]]:\n",
    "        new_state = set(self.carts)\n",
    "        for cart in sorted(self.carts):\n",
    "            try:\n",
    "                new_state.remove(cart)\n",
    "            except KeyError:\n",
    "                # cart was removed due to a collision\n",
    "                continue\n",
    "            ny, nx = cart.next_pos\n",
    "            cart = cart.move(self.trackmap[ny][nx])\n",
    "            if cart in new_state:\n",
    "                # collision!\n",
    "                if not remove_collided:\n",
    "                    return cart.pos\n",
    "                new_state.remove(cart)\n",
    "                continue\n",
    "            new_state.add(cart)\n",
    "        self.carts = new_state\n",
    "    \n",
    "    def run_carts(self, remove_collided: bool = False) -> Tuple[int, int]:\n",
    "        while True:\n",
    "            pos = self.step(remove_collided)\n",
    "            if pos is not None:\n",
    "                self.reset()\n",
    "                return pos[::-1]\n",
    "            if len(self.carts) == 1:\n",
    "                # last cart standing\n",
    "                cart, = self.carts\n",
    "                return cart.pos[::-1]"
   ]
  },
  {
   "cell_type": "code",
   "execution_count": 2,
   "metadata": {},
   "outputs": [],
   "source": [
    "testtracks = Tracks.from_raw_map('''\\\n",
    "/->-\\\\        \n",
    "|   |  /----\\\\\n",
    "| /-+--+-\\\\  |\n",
    "| | |  | v  |\n",
    "\\\\-+-/  \\\\-+--/\n",
    "  \\\\------/  ''')\n",
    "assert testtracks.run_carts() == (7, 3)"
   ]
  },
  {
   "cell_type": "code",
   "execution_count": 3,
   "metadata": {},
   "outputs": [],
   "source": [
    "import aocd\n",
    "\n",
    "data = aocd.get_data(day=13, year=2018)\n",
    "tracks = Tracks.from_raw_map(data)"
   ]
  },
  {
   "cell_type": "code",
   "execution_count": 4,
   "metadata": {},
   "outputs": [
    {
     "name": "stdout",
     "output_type": "stream",
     "text": [
      "Part 1: 71,121\n"
     ]
    }
   ],
   "source": [
    "print('Part 1:', ','.join(map(str, tracks.run_carts())))"
   ]
  },
  {
   "cell_type": "code",
   "execution_count": 5,
   "metadata": {},
   "outputs": [],
   "source": [
    "test2tracks = Tracks.from_raw_map('''\\\n",
    "/>-<\\\\  \n",
    "|   |  \n",
    "| /<+-\\\\\n",
    "| | | v\n",
    "\\\\>+</ |\n",
    "  |   ^\n",
    "  \\\\<->/''')\n",
    "assert test2tracks.run_carts(True) == (6, 4)"
   ]
  },
  {
   "cell_type": "code",
   "execution_count": 6,
   "metadata": {},
   "outputs": [
    {
     "name": "stdout",
     "output_type": "stream",
     "text": [
      "Part 2: 71,76\n"
     ]
    }
   ],
   "source": [
    "print('Part 2:', ','.join(map(str, tracks.run_carts(True))))"
   ]
  }
 ],
 "metadata": {
  "kernelspec": {
   "display_name": "Python 3",
   "language": "python",
   "name": "python3"
  },
  "language_info": {
   "codemirror_mode": {
    "name": "ipython",
    "version": 3
   },
   "file_extension": ".py",
   "mimetype": "text/x-python",
   "name": "python",
   "nbconvert_exporter": "python",
   "pygments_lexer": "ipython3",
   "version": "3.7.1"
  }
 },
 "nbformat": 4,
 "nbformat_minor": 2
}
