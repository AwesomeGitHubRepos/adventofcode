{
 "cells": [
  {
   "cell_type": "markdown",
   "metadata": {},
   "source": [
    "# Day 10 - Finding the message\n",
    "\n",
    "This may look daunting, but it's really quite simple if you look at just the `y` coordinates and their velocity. The numbers are really big but the velocities are relatively small, 5 at most. For these to form letters the ones with the same y velocity must all *already* be within a small range, the letters have a limited height even if arranged in multiple rows.\n",
    "\n",
    "So you can look at the band of values with the same velocity; the minimum and maximum values of these will fall into a small range. Do the same for the opposite end of the y axis, with the velocity negated. All you need to do is get those two ranges to overlap in a single second.\n",
    "\n",
    "You can then find the $t$ time component; if $max(y^v)$ is the highest value in the positive velocity $v$ band, and $max(y^{-v})$ is the corresponding value for the negative velocity $-v$, then the formula should roughly be $max(y^v) + (vt) = max(y^{-v}) + (-vt)$, give or take a few stars overlap, so `t` can be extracted as\n",
    "\n",
    "$$t = \\lfloor \\frac{max(y^{-v}) - max(y^v)}{2v} \\rfloor$$\n",
    "\n",
    "where the $\\lfloor \\cdots \\rfloor$ notation is the integer floor value of the division. As it turns out, the value of `t` is the answer for part two."
   ]
  },
  {
   "cell_type": "code",
   "execution_count": 1,
   "metadata": {},
   "outputs": [],
   "source": [
    "import aocd\n",
    "\n",
    "data = aocd.get_data(day=10, year=2018)"
   ]
  },
  {
   "cell_type": "code",
   "execution_count": 2,
   "metadata": {},
   "outputs": [],
   "source": [
    "import numpy as np\n",
    "from io import StringIO\n",
    "\n",
    "# read into a series of [x, y, dx, dy] values\n",
    "stars = np.fromregex(\n",
    "    StringIO(data),\n",
    "    r'position=<\\s*(-?\\d+),\\s*(-?\\d+)> velocity=<\\s*(-?\\d+),\\s*(-?\\d+)>',\n",
    "    np.dtype('i4')\n",
    ")"
   ]
  },
  {
   "cell_type": "code",
   "execution_count": 3,
   "metadata": {},
   "outputs": [],
   "source": [
    "from PIL import Image\n",
    "\n",
    "def extract_message(stars, scale=3):\n",
    "    # symbolic names for column selection\n",
    "    x, y, dx, dy = range(4)\n",
    "    \n",
    "    # determine time t\n",
    "    v = stars[:, dy].max()\n",
    "    posv, negv = stars[:, dy] == v, stars[:, dy] == -v\n",
    "    maxy_posv, maxy_negv = stars[posv][:, y].max(), stars[negv][:, y].max()\n",
    "    t = (maxy_negv - maxy_posv) // (2 * v)\n",
    "    \n",
    "    # move all x y positions by t * dx, t * dy to form coordinates\n",
    "    coords = stars[:, [x, y]] + (t * stars[:, [dx, dy]])\n",
    "    # normalise these to start at 0, 0\n",
    "    minxy = coords[:, [x, y]].min(axis=0)\n",
    "    normalised = coords - minxy\n",
    "    \n",
    "    # create an image matrix with value 255, white background in a PIL L-band image\n",
    "    message = np.full(normalised.max(axis=0) + 1, 255)\n",
    "    # Set the message points to 0, black\n",
    "    message[normalised[:, x], normalised[:, y]] = 0\n",
    "    # convert to a PIL image; transposing x and y to match PIL expectations\n",
    "    image = Image.fromarray(message.T.astype(np.dtype('B')))\n",
    "    return t, image.resize((image.size[0] * scale, image.size[1] * scale))"
   ]
  },
  {
   "cell_type": "code",
   "execution_count": 4,
   "metadata": {},
   "outputs": [
    {
     "name": "stdout",
     "output_type": "stream",
     "text": [
      "Part 1:\n"
     ]
    },
    {
     "data": {
      "image/png": "[encoded data removed]",
      "text/plain": [
       "<PIL.Image.Image image mode=L size=186x30 at 0x10EBF2F98>"
      ]
     },
     "metadata": {},
     "output_type": "display_data"
    },
    {
     "name": "stdout",
     "output_type": "stream",
     "text": [
      "Part 2: 10659\n"
     ]
    }
   ],
   "source": [
    "from IPython.display import display\n",
    "time_taken, message = extract_message(stars)\n",
    "print('Part 1:')\n",
    "display(message)\n",
    "print('Part 2:', time_taken)"
   ]
  }
 ],
 "metadata": {
  "kernelspec": {
   "display_name": "Python 3",
   "language": "python",
   "name": "python3"
  },
  "language_info": {
   "codemirror_mode": {
    "name": "ipython",
    "version": 3
   },
   "file_extension": ".py",
   "mimetype": "text/x-python",
   "name": "python",
   "nbconvert_exporter": "python",
   "pygments_lexer": "ipython3",
   "version": "3.7.1"
  }
 },
 "nbformat": 4,
 "nbformat_minor": 2
}
