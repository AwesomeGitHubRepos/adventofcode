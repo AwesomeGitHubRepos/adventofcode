{
 "cells": [
  {
   "cell_type": "code",
   "execution_count": 1,
   "metadata": {},
   "outputs": [],
   "source": [
    "with open('inputs/day02.txt') as day2:\n",
    "    boxids = [id_.strip() for id_ in day2]"
   ]
  },
  {
   "cell_type": "code",
   "execution_count": 2,
   "metadata": {},
   "outputs": [],
   "source": [
    "from collections import Counter\n",
    "\n",
    "def checksum(boxids):\n",
    "    twos, threes = 0, 0\n",
    "    for id_ in boxids:\n",
    "        counts = set(Counter(id_).values())\n",
    "        twos += int(2 in counts)\n",
    "        threes += int(3 in counts)\n",
    "    return twos * threes"
   ]
  },
  {
   "cell_type": "code",
   "execution_count": 3,
   "metadata": {},
   "outputs": [
    {
     "name": "stdout",
     "output_type": "stream",
     "text": [
      "Part 1: 6225\n"
     ]
    }
   ],
   "source": [
    "print('Part 1:', checksum(boxids))"
   ]
  },
  {
   "cell_type": "code",
   "execution_count": 4,
   "metadata": {},
   "outputs": [],
   "source": [
    "def intrie(s, trie):\n",
    "    for c in s:\n",
    "        trie = trie.get(c)\n",
    "        if trie is None:\n",
    "            return False\n",
    "    return True\n",
    "\n",
    "def matching_ids(boxids):\n",
    "    trie = {}\n",
    "    sentinel = object()\n",
    "    for id_ in boxids:\n",
    "        current = trie\n",
    "        for i, char in enumerate(id_):\n",
    "            for tchar in current:\n",
    "                if tchar != char:\n",
    "                    # check if there is a full postfix match\n",
    "                    if intrie(id_[i + 1:], current[tchar]):\n",
    "                        return f\"{id_[:i]}{id_[i + 1 :]}\"\n",
    "            if char not in current:\n",
    "                # insert remainder as a new trie entry\n",
    "                for c in id_[i:-1]:\n",
    "                    current = current.setdefault(c, {})\n",
    "                current[id_[-1]] = sentinel\n",
    "                break\n",
    "            else:\n",
    "                current = current[char]"
   ]
  },
  {
   "cell_type": "code",
   "execution_count": 5,
   "metadata": {},
   "outputs": [],
   "source": [
    "testids = '''\\\n",
    "abcde\n",
    "fghij\n",
    "klmno\n",
    "pqrst\n",
    "fguij\n",
    "axcye\n",
    "wvxyz'''.splitlines()\n",
    "assert matching_ids(testids) == 'fgij'"
   ]
  },
  {
   "cell_type": "code",
   "execution_count": 6,
   "metadata": {},
   "outputs": [
    {
     "name": "stdout",
     "output_type": "stream",
     "text": [
      "Part 2: revtaubfniyhsgxdoajwkqilp\n"
     ]
    }
   ],
   "source": [
    "print('Part 2:', matching_ids(boxids))"
   ]
  },
  {
   "cell_type": "code",
   "execution_count": null,
   "metadata": {},
   "outputs": [],
   "source": []
  }
 ],
 "metadata": {
  "kernelspec": {
   "display_name": "Python 3",
   "language": "python",
   "name": "python3"
  },
  "language_info": {
   "codemirror_mode": {
    "name": "ipython",
    "version": 3
   },
   "file_extension": ".py",
   "mimetype": "text/x-python",
   "name": "python",
   "nbconvert_exporter": "python",
   "pygments_lexer": "ipython3",
   "version": "3.7.1"
  }
 },
 "nbformat": 4,
 "nbformat_minor": 2
}
