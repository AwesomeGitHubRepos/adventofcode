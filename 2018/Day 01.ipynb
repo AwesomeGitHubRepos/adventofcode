{
 "cells": [
  {
   "cell_type": "markdown",
   "metadata": {},
   "source": [
    "# Day 1 - warm-up excercise\n",
    "\n",
    "* [Day 1](https://adventofcode.com/2018/day/1)\n",
    "\n",
    "Day 1 is here started; the challenge is to parse text into numbers and sum them."
   ]
  },
  {
   "cell_type": "code",
   "execution_count": 1,
   "metadata": {},
   "outputs": [],
   "source": [
    "import aocd\n",
    "data = aocd.get_data(day=1, year=2018)\n",
    "changes = list(map(int, data.splitlines()))"
   ]
  },
  {
   "cell_type": "code",
   "execution_count": 2,
   "metadata": {},
   "outputs": [
    {
     "name": "stdout",
     "output_type": "stream",
     "text": [
      "Part 1: 536\n"
     ]
    }
   ],
   "source": [
    "print('Part 1:', sum(changes))"
   ]
  },
  {
   "cell_type": "markdown",
   "metadata": {},
   "source": [
    "## Part 2 - find a cycle\n",
    "\n",
    "We can use a set to see when a frequency recurs, and [`itertools.cycle()`](https://docs.python.org/3/library/itertools.html#itertools.cycle) to loop over the input numbers repeatedly. "
   ]
  },
  {
   "cell_type": "code",
   "execution_count": 3,
   "metadata": {},
   "outputs": [],
   "source": [
    "from itertools import cycle\n",
    "\n",
    "seen = set()\n",
    "freq = 0\n",
    "repeated_changes = cycle(changes)\n",
    "for change in cycle(changes):\n",
    "    freq += change\n",
    "    if freq in seen:\n",
    "        break\n",
    "    seen.add(freq)"
   ]
  },
  {
   "cell_type": "code",
   "execution_count": 4,
   "metadata": {},
   "outputs": [
    {
     "name": "stdout",
     "output_type": "stream",
     "text": [
      "Part 2: 75108\n"
     ]
    }
   ],
   "source": [
    "print('Part 2:', freq)"
   ]
  }
 ],
 "metadata": {
  "kernelspec": {
   "display_name": "Python 3",
   "language": "python",
   "name": "python3"
  },
  "language_info": {
   "codemirror_mode": {
    "name": "ipython",
    "version": 3
   },
   "file_extension": ".py",
   "mimetype": "text/x-python",
   "name": "python",
   "nbconvert_exporter": "python",
   "pygments_lexer": "ipython3",
   "version": "3.7.2"
  }
 },
 "nbformat": 4,
 "nbformat_minor": 2
}
