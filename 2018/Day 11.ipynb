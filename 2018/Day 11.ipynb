{
 "cells": [
  {
   "cell_type": "markdown",
   "metadata": {},
   "source": [
    "# Day 11, possibly dynamic programming?\n",
    "\n",
    "This is a challenge that, to me, sounds like we need to use dynamic programming. For a large problem set, you'd only want to keep a running total. Since we want the top-left grid coordinate, you'd start at `(max(x), max(y))` and work your way backwards, taking advantage of the calculations already done for the `x + 1, y`, `x + 2, y`, `x, y + 1`, ..., `x + 2, y + 2` positions. For a 300 x 300 grid that would mean you only need to keep the last 600 calculation results in memory and let you use `max()` on the running calculation.\n",
    "\n",
    "However, for a 300x300 grid it is simpler to just vectorise the hell out of the grid, using `numpy`.\n",
    "\n",
    "The formula for any given grid coordinate power value is\n",
    "\n",
    "$$\\lfloor\\frac{((x + 10)y + serial) \\times (x + 10)}{100}\\rfloor \\bmod 10 - 5$$\n",
    "\n",
    "but I must note that subtracting 5 at the end doesn't actually matter to the outcome. Either the cell score falls in the range $[0, 10)$ or $[-5, 5)$, with the 3 x 3 grid score in the range $[0, 81]$ or $[-45, 36]$. Not that `numpy` much cares.\n",
    "\n",
    "Summing the sliding 3x3 windows is a little more interesting here. There are 298 x 298 complete 3 x 3 sub-grids that need to be considered here (from `((1, 1) ... (3, 3))` all the way to `((298, 298) ... (300, 300))`), and we need to create sums for all those sub windows. I'm using the [`numpy.lib.stride_tricks.as_strided()` function](https://docs.scipy.org/doc/numpy/reference/generated/numpy.lib.stride_tricks.as_strided.html) here to step over the whole matrix in those 3x3 windows, so we can sum them all and produce a new `(298 x 298)` matrix of sums at coordinates that match the top-level corner of each sub-matrix."
   ]
  },
  {
   "cell_type": "code",
   "execution_count": 1,
   "metadata": {},
   "outputs": [],
   "source": [
    "from itertools import product\n",
    "import numpy as np\n",
    "\n",
    "# These values never change, so can be made globals\n",
    "GRIDSIZE = 300\n",
    "XX, YY = np.meshgrid(np.arange(1, GRIDSIZE + 1), np.arange(1, GRIDSIZE + 1))\n",
    "RACK_ID = XX + 10\n",
    "# Sliding window sizes, per side\n",
    "WINDOW_SIZE = 3\n",
    "WINDOW_COUNT = (GRIDSIZE - WINDOW_SIZE + 1)\n",
    "\n",
    "def grid_powers(serial):\n",
    "    # calculate power levels\n",
    "    return (RACK_ID * YY + serial) * RACK_ID // 100 % 10 - 5\n",
    "    \n",
    "def max_grid(serial):    \n",
    "    # sum levels for 3 x 3 subgrids; substitute edges for zeros\n",
    "    power_levels = grid_powers(serial)\n",
    "    \n",
    "    # we want to sum every subwindow, so it is time to start striding\n",
    "    # we need to produce a (WINDOW_COUNT, WINDOW_COUNT, WINDOW_SIZE, WINDOW_SIZE)\n",
    "    # matrix that then is summed on the last 2 axes.\n",
    "    summed = np.lib.stride_tricks.as_strided(\n",
    "        power_levels,\n",
    "        # output shape, 2d grid of 2d windows\n",
    "        (WINDOW_COUNT, WINDOW_COUNT, WINDOW_SIZE, WINDOW_SIZE),\n",
    "        # per shape axis, the stride across power_levels matches up to the\n",
    "        # same axes.\n",
    "        power_levels.strides + power_levels.strides\n",
    "    ).sum(axis=(2, 3))\n",
    "    \n",
    "    # produce the (x, y) coordinates for the largest 3x3 grid top-left coordinate\n",
    "    # argmax() flattens the array and gives us an index based on that, so we need\n",
    "    # numpy.unravel to give back the original y, x coordinates.\n",
    "    y, x = np.unravel_index(summed.argmax(), summed.shape)\n",
    "    # Translate from zero to one-based indexing\n",
    "    return x + 1, y + 1"
   ]
  },
  {
   "cell_type": "code",
   "execution_count": 2,
   "metadata": {},
   "outputs": [],
   "source": [
    "power_tests = {\n",
    "    # serial, x, y: power level\n",
    "    (8, 3, 5): 4,\n",
    "    (57, 122, 79): -5,\n",
    "    (39, 217, 196): 0,\n",
    "    (71, 101, 153): 4,\n",
    "}\n",
    "\n",
    "for (serial, x, y), expected in power_tests.items():\n",
    "    # indexing a [y, x] arranged matrix with 0-based offsets\n",
    "    assert grid_powers(serial)[y - 1, x - 1] == expected\n",
    "\n",
    "max_tests = {\n",
    "    18: (33, 45),\n",
    "    42: (21, 61),\n",
    "}\n",
    "\n",
    "for serial, expected in max_tests.items():\n",
    "    assert max_grid(serial) == expected"
   ]
  },
  {
   "cell_type": "code",
   "execution_count": 3,
   "metadata": {},
   "outputs": [],
   "source": [
    "import aocd\n",
    "\n",
    "data = aocd.get_data(day=11, year=2018)\n",
    "serial = int(data)"
   ]
  },
  {
   "cell_type": "code",
   "execution_count": 4,
   "metadata": {},
   "outputs": [
    {
     "name": "stdout",
     "output_type": "stream",
     "text": [
      "Part 1: 44,37\n"
     ]
    }
   ],
   "source": [
    "x, y = max_grid(serial)\n",
    "print(f'Part 1: {x},{y}')"
   ]
  }
 ],
 "metadata": {
  "kernelspec": {
   "display_name": "Python 3",
   "language": "python",
   "name": "python3"
  },
  "language_info": {
   "codemirror_mode": {
    "name": "ipython",
    "version": 3
   },
   "file_extension": ".py",
   "mimetype": "text/x-python",
   "name": "python",
   "nbconvert_exporter": "python",
   "pygments_lexer": "ipython3",
   "version": "3.7.1"
  }
 },
 "nbformat": 4,
 "nbformat_minor": 2
}
