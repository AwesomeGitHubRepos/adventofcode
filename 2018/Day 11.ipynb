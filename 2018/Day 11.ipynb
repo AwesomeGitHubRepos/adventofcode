{
 "cells": [
  {
   "cell_type": "markdown",
   "metadata": {},
   "source": [
    "# Day 11, possibly dynamic programming?\n",
    "\n",
    "This is a challenge that, to me, sounds like we need to use dynamic programming. For a large problem set, you'd only want to keep a running total. Since we want the top-left grid coordinate, you'd start at `(max(x), max(y))` and work your way backwards, taking advantage of the calculations already done for the `x + 1, y`, `x + 2, y`, `x, y + 1`, ..., `x + 2, y + 2` positions. For a 300 x 300 grid that would mean you only need to keep the last 600 calculation results in memory and let you use `max()` on the running calculation.\n",
    "\n",
    "However, for a 300x300 grid it is simpler to just vectorise the hell out of the grid, using `numpy`.\n",
    "\n",
    "The formula for any given grid coordinate power value is\n",
    "\n",
    "$$\\lfloor\\frac{((x + 10)y + serial) \\times (x + 10)}{100}\\rfloor \\bmod 10 - 5$$\n",
    "\n",
    "but I must note that subtracting 5 at the end doesn't actually matter to the outcome. Either the cell score falls in the range $[0, 10)$ or $[-5, 5)$, with the 3 x 3 grid score in the range $[0, 81]$ or $[-45, 36]$. Not that `numpy` much cares.\n",
    "\n",
    "Summing the sliding 3x3 windows is a little more interesting here. There are 298 x 298 complete 3 x 3 sub-grids that need to be considered here (from `((1, 1) ... (3, 3))` all the way to `((298, 298) ... (300, 300))`), and we need to create sums for all those sub windows. I'm using the [`numpy.lib.stride_tricks.as_strided()` function](https://docs.scipy.org/doc/numpy/reference/generated/numpy.lib.stride_tricks.as_strided.html) here to step over the whole matrix in those 3x3 windows, so we can sum them all and produce a new `(298 x 298)` matrix of sums at coordinates that match the top-level corner of each sub-matrix."
   ]
  },
  {
   "cell_type": "code",
   "execution_count": 1,
   "metadata": {},
   "outputs": [],
   "source": [
    "from itertools import product\n",
    "import numpy as np\n",
    "from numpy.lib.stride_tricks import as_strided\n",
    "\n",
    "# These values never change, so can be made globals\n",
    "GRIDSIZE = 300\n",
    "XX, YY = np.meshgrid(np.arange(1, GRIDSIZE + 1), np.arange(1, GRIDSIZE + 1))\n",
    "RACK_ID = XX + 10\n",
    "\n",
    "def grid_powers(serial):\n",
    "    # calculate power levels\n",
    "    return (RACK_ID * YY + serial) * RACK_ID // 100 % 10 - 5\n",
    "\n",
    "def summed_grid_powers(power_levels, window_size=3):\n",
    "    # sum levels for 3 x 3 subgrids; substitute edges for zeros\n",
    "    \n",
    "    window_count = GRIDSIZE - window_size + 1\n",
    "    # output shape, 2d grid of 2d windows\n",
    "    shape = (window_count, window_count, window_size, window_size)\n",
    "    # per shape axis, the stride across power_levels matches up to the\n",
    "    # same axes.\n",
    "    strides = power_levels.strides * 2\n",
    "\n",
    "    # we want to sum every subwindow, so it is time to start striding\n",
    "    # we need to produce a (window_count, window_count, window_size, window_size)\n",
    "    # matrix that then is summed on the last 2 axes.\n",
    "    return as_strided(power_levels, shape, strides).sum(axis=(2, 3))\n",
    "    \n",
    "def max_grid(serial):    \n",
    "    summed = summed_grid_powers(grid_powers(serial))\n",
    "\n",
    "    # produce the (x, y) coordinates for the largest 3x3 grid top-left coordinate\n",
    "    # argmax() flattens the array and gives us an index based on that, so we need\n",
    "    # numpy.unravel to give back the original y, x coordinates.\n",
    "    y, x = np.unravel_index(summed.argmax(), summed.shape)\n",
    "    # Translate from zero to one-based indexing\n",
    "    return x + 1, y + 1"
   ]
  },
  {
   "cell_type": "code",
   "execution_count": 2,
   "metadata": {},
   "outputs": [],
   "source": [
    "power_tests = {\n",
    "    # serial, x, y: power level\n",
    "    (8, 3, 5): 4,\n",
    "    (57, 122, 79): -5,\n",
    "    (39, 217, 196): 0,\n",
    "    (71, 101, 153): 4,\n",
    "}\n",
    "\n",
    "for (tserial, x, y), expected in power_tests.items():\n",
    "    # indexing a [y, x] arranged matrix with 0-based offsets\n",
    "    assert grid_powers(tserial)[y - 1, x - 1] == expected\n",
    "\n",
    "max_tests = {\n",
    "    18: (33, 45),\n",
    "    42: (21, 61),\n",
    "}\n",
    "\n",
    "for tserial, expected in max_tests.items():\n",
    "    assert max_grid(tserial) == expected"
   ]
  },
  {
   "cell_type": "code",
   "execution_count": 3,
   "metadata": {},
   "outputs": [],
   "source": [
    "import aocd\n",
    "\n",
    "data = aocd.get_data(day=11, year=2018)\n",
    "serial = int(data)"
   ]
  },
  {
   "cell_type": "code",
   "execution_count": 4,
   "metadata": {},
   "outputs": [
    {
     "name": "stdout",
     "output_type": "stream",
     "text": [
      "Part 1: 44,37\n"
     ]
    }
   ],
   "source": [
    "x, y = max_grid(serial)\n",
    "print(f'Part 1: {x},{y}')"
   ]
  },
  {
   "cell_type": "code",
   "execution_count": 5,
   "metadata": {},
   "outputs": [
    {
     "name": "stdout",
     "output_type": "stream",
     "text": [
      "2.06 ms ± 98.1 µs per loop (mean ± std. dev. of 7 runs, 100 loops each)\n",
      "4.97 ms ± 95.9 µs per loop (mean ± std. dev. of 7 runs, 100 loops each)\n"
     ]
    }
   ],
   "source": [
    "%timeit grid_powers(serial)\n",
    "%timeit max_grid(serial)"
   ]
  },
  {
   "cell_type": "markdown",
   "metadata": {},
   "source": [
    "## Part 2, variable window size\n",
    "\n",
    "Now I'm really glad I worked out how to do striding here. We can now produce separate summed matrices for each size. Vectorised sums over striding views does slow down dramatically in the middle somewhere, see timings below.\n",
    "\n",
    "We still may want to explore dynamic programming here, however, as that would let us calculate values for all possible sizes as you traverse from 300, 300 down to 1,1 in one sweep. That's for later however."
   ]
  },
  {
   "cell_type": "code",
   "execution_count": 6,
   "metadata": {},
   "outputs": [
    {
     "name": "stdout",
     "output_type": "stream",
     "text": [
      "2.02 ms ± 39.4 µs per loop (mean ± std. dev. of 7 runs, 100 loops each)\n",
      "2.78 ms ± 26.1 µs per loop (mean ± std. dev. of 7 runs, 100 loops each)\n",
      "218 ms ± 2.14 ms per loop (mean ± std. dev. of 7 runs, 1 loop each)\n",
      "50.9 µs ± 376 ns per loop (mean ± std. dev. of 7 runs, 10000 loops each)\n"
     ]
    }
   ],
   "source": [
    "%timeit grid_powers(serial)\n",
    "power_levels = grid_powers(serial)\n",
    "%timeit summed_grid_powers(power_levels)\n",
    "%timeit summed_grid_powers(power_levels, 150)  # performance degrades\n",
    "%timeit summed_grid_powers(power_levels, 300)  # performance degrades"
   ]
  },
  {
   "cell_type": "code",
   "execution_count": 7,
   "metadata": {},
   "outputs": [],
   "source": [
    "def optimal_window_size(serial):\n",
    "    power_levels = grid_powers(serial)\n",
    "    # big matrix with 300 flattened power level arrays,\n",
    "    # all padded back to 300 x 300 size so we can determine which one\n",
    "    # has the most power output, then extract the size and grid position\n",
    "    by_size = np.stack([\n",
    "        np.pad(summed_grid_powers(power_levels, i + 1), (0, i), 'constant')\n",
    "        for i in range(GRIDSIZE)\n",
    "    ]).reshape(GRIDSIZE, -1)\n",
    "    size = by_size.max(axis=1).argmax()\n",
    "    y, x = np.unravel_index(by_size[size].argmax(), power_levels.shape)\n",
    "    return x + 1, y + 1, size + 1"
   ]
  },
  {
   "cell_type": "code",
   "execution_count": 8,
   "metadata": {},
   "outputs": [],
   "source": [
    "optimal_tests = {\n",
    "    18: (90, 269, 16),\n",
    "    42: (232, 251, 12),\n",
    "}\n",
    "for tserial, expected in optimal_tests.items():\n",
    "    assert optimal_window_size(tserial) == expected"
   ]
  },
  {
   "cell_type": "code",
   "execution_count": 9,
   "metadata": {},
   "outputs": [
    {
     "name": "stdout",
     "output_type": "stream",
     "text": [
      "Part 2: 235,87,13\n"
     ]
    }
   ],
   "source": [
    "x, y, s = optimal_window_size(serial)\n",
    "print(f'Part 2: {x},{y},{s}')"
   ]
  },
  {
   "cell_type": "code",
   "execution_count": 10,
   "metadata": {},
   "outputs": [
    {
     "data": {
      "image/png": "[encoded data removed]",
      "text/plain": [
       "<Figure size 432x288 with 1 Axes>"
      ]
     },
     "metadata": {
      "needs_background": "light"
     },
     "output_type": "display_data"
    }
   ],
   "source": [
    "%matplotlib inline\n",
    "import matplotlib.pyplot as plt\n",
    "\n",
    "plt.yscale('symlog')\n",
    "plt.grid(True)\n",
    "plt.title('Power output by size, with symmetric log scale')\n",
    "power_levels = grid_powers(serial)\n",
    "maxima = [summed_grid_powers(power_levels, i + 1).max() for i in range(300)]\n",
    "_ = plt.plot(np.arange(1, len(maxima) + 1), maxima)"
   ]
  }
 ],
 "metadata": {
  "kernelspec": {
   "display_name": "Python 3",
   "language": "python",
   "name": "python3"
  },
  "language_info": {
   "codemirror_mode": {
    "name": "ipython",
    "version": 3
   },
   "file_extension": ".py",
   "mimetype": "text/x-python",
   "name": "python",
   "nbconvert_exporter": "python",
   "pygments_lexer": "ipython3",
   "version": "3.7.1"
  }
 },
 "nbformat": 4,
 "nbformat_minor": 2
}
