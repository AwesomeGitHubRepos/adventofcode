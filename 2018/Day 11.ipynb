{
 "cells": [
  {
   "cell_type": "markdown",
   "metadata": {},
   "source": [
    "# Day 11, possibly dynamic programming?\n",
    "\n",
    "- [Day 11](https://adventofcode.com/2018/day/11)\n",
    "\n",
    "This is a challenge that, to me, sounds like we need to use dynamic programming. For a large problem set, you'd only want to keep a running total. Since we want the top-left grid coordinate, you'd start at `(max(x), max(y))` and work your way backwards, taking advantage of the calculations already done for the `x + 1, y`, `x + 2, y`, `x, y + 1`, ..., `x + 2, y + 2` positions. For a 300 x 300 grid that would mean you only need to keep the last 600 calculation results in memory and let you use `max()` on the running calculation.\n",
    "\n",
    "However, for a 300x300 grid it is simpler to just vectorise the hell out of the grid, using `numpy`.\n",
    "\n",
    "The formula for any given grid coordinate power value is\n",
    "\n",
    "$$\\lfloor\\frac{((x + 10)y + serial) \\times (x + 10)}{100}\\rfloor \\bmod 10 - 5$$\n",
    "\n",
    "but I must note that subtracting 5 at the end doesn't actually matter to the outcome. Either the cell score falls in the range $[0, 10)$ or $[-5, 5)$, with the 3 x 3 grid score in the range $[0, 81]$ or $[-45, 36]$. Not that `numpy` much cares.\n",
    "\n",
    "Summing the sliding 3x3 windows is a little more interesting here. There are 298 x 298 complete 3 x 3 sub-grids that need to be considered here (from `((1, 1) ... (3, 3))` all the way to `((298, 298) ... (300, 300))`), and we need to create sums for all those sub windows. I'm using the [`numpy.lib.stride_tricks.as_strided()` function](https://docs.scipy.org/doc/numpy/reference/generated/numpy.lib.stride_tricks.as_strided.html) here to step over the whole matrix in those 3x3 windows, so we can sum them all and produce a new `(298 x 298)` matrix of sums at coordinates that match the top-level corner of each sub-matrix.\n"
   ]
  },
  {
   "cell_type": "code",
   "execution_count": 1,
   "metadata": {},
   "outputs": [],
   "source": [
    "import numpy as np\n",
    "from numpy.lib.stride_tricks import as_strided\n",
    "\n",
    "# These values never change, so can be made globals\n",
    "GRIDSIZE = 300\n",
    "XX, YY = np.meshgrid(np.arange(1, GRIDSIZE + 1), np.arange(1, GRIDSIZE + 1))\n",
    "RACK_ID = XX + 10\n",
    "\n",
    "\n",
    "def grid_powers(serial):\n",
    "    # calculate power levels\n",
    "    return (RACK_ID * YY + serial) * RACK_ID // 100 % 10 - 5\n",
    "\n",
    "\n",
    "def summed_grid_powers(power_levels, window_size=3):\n",
    "    # sum levels for 3 x 3 subgrids; substitute edges for zeros\n",
    "\n",
    "    window_count = GRIDSIZE - window_size + 1\n",
    "    # output shape, 2d grid of 2d windows\n",
    "    shape = (window_count, window_count, window_size, window_size)\n",
    "    # per shape axis, the stride across power_levels matches up to the\n",
    "    # same axes.\n",
    "    strides = power_levels.strides * 2\n",
    "\n",
    "    # we want to sum every subwindow, so it is time to start striding\n",
    "    # we need to produce a (window_count, window_count, window_size, window_size)\n",
    "    # matrix that then is summed on the last 2 axes.\n",
    "    return as_strided(power_levels, shape, strides).sum(axis=(2, 3))\n",
    "\n",
    "\n",
    "def max_grid(serial):\n",
    "    summed = summed_grid_powers(grid_powers(serial))\n",
    "\n",
    "    # produce the (x, y) coordinates for the largest 3x3 grid top-left coordinate\n",
    "    # argmax() flattens the array and gives us an index based on that, so we need\n",
    "    # numpy.unravel to give back the original y, x coordinates.\n",
    "    y, x = np.unravel_index(summed.argmax(), summed.shape)\n",
    "    # Translate from zero to one-based indexing\n",
    "    return x + 1, y + 1"
   ]
  },
  {
   "cell_type": "code",
   "execution_count": 2,
   "metadata": {},
   "outputs": [],
   "source": [
    "power_tests = {\n",
    "    # serial, x, y: power level\n",
    "    (8, 3, 5): 4,\n",
    "    (57, 122, 79): -5,\n",
    "    (39, 217, 196): 0,\n",
    "    (71, 101, 153): 4,\n",
    "}\n",
    "\n",
    "for (tserial, x, y), expected in power_tests.items():\n",
    "    # indexing a [y, x] arranged matrix with 0-based offsets\n",
    "    assert grid_powers(tserial)[y - 1, x - 1] == expected\n",
    "\n",
    "max_tests = {\n",
    "    18: (33, 45),\n",
    "    42: (21, 61),\n",
    "}\n",
    "\n",
    "for tserial, expected in max_tests.items():\n",
    "    assert max_grid(tserial) == expected"
   ]
  },
  {
   "cell_type": "code",
   "execution_count": 3,
   "metadata": {},
   "outputs": [],
   "source": [
    "import aocd\n",
    "\n",
    "data = aocd.get_data(day=11, year=2018)\n",
    "serial = int(data)"
   ]
  },
  {
   "cell_type": "code",
   "execution_count": 4,
   "metadata": {},
   "outputs": [
    {
     "name": "stdout",
     "output_type": "stream",
     "text": [
      "Part 1: 44,37\n"
     ]
    }
   ],
   "source": [
    "x, y = max_grid(serial)\n",
    "print(f\"Part 1: {x},{y}\")"
   ]
  },
  {
   "cell_type": "code",
   "execution_count": 5,
   "metadata": {},
   "outputs": [
    {
     "name": "stdout",
     "output_type": "stream",
     "text": [
      "367 µs ± 11.7 µs per loop (mean ± std. dev. of 7 runs, 1,000 loops each)\n",
      "2 ms ± 10.9 µs per loop (mean ± std. dev. of 7 runs, 1,000 loops each)\n"
     ]
    }
   ],
   "source": [
    "%timeit grid_powers(serial)\n",
    "%timeit max_grid(serial)"
   ]
  },
  {
   "cell_type": "markdown",
   "metadata": {},
   "source": [
    "## Part 2, variable window size\n",
    "\n",
    "Now I'm really glad I worked out how to do striding here. We can now produce separate summed matrices for each size. Vectorised sums over striding views does slow down dramatically in the middle somewhere, see timings below.\n",
    "\n",
    "We still may want to explore dynamic programming here, however, as that would let us calculate values for all possible sizes as you traverse from 300, 300 down to 1,1 in one sweep. That's for later however.\n"
   ]
  },
  {
   "cell_type": "code",
   "execution_count": 6,
   "metadata": {},
   "outputs": [
    {
     "name": "stdout",
     "output_type": "stream",
     "text": [
      "357 µs ± 4.49 µs per loop (mean ± std. dev. of 7 runs, 1,000 loops each)\n",
      "1.64 ms ± 23.9 µs per loop (mean ± std. dev. of 7 runs, 1,000 loops each)\n",
      "57.3 ms ± 147 µs per loop (mean ± std. dev. of 7 runs, 10 loops each)\n",
      "12.6 µs ± 113 ns per loop (mean ± std. dev. of 7 runs, 100,000 loops each)\n"
     ]
    }
   ],
   "source": [
    "%timeit grid_powers(serial)\n",
    "power_levels = grid_powers(serial)\n",
    "%timeit summed_grid_powers(power_levels)\n",
    "%timeit summed_grid_powers(power_levels, 150)  # performance degrades\n",
    "%timeit summed_grid_powers(power_levels, 300)  # performance degrades"
   ]
  },
  {
   "cell_type": "code",
   "execution_count": 7,
   "metadata": {},
   "outputs": [],
   "source": [
    "def optimal_window_size(serial):\n",
    "    power_levels = grid_powers(serial)\n",
    "    # big matrix with 300 flattened power level arrays,\n",
    "    # all padded back to 300 x 300 size so we can determine which one\n",
    "    # has the most power output, then extract the size and grid position\n",
    "    by_size = np.stack(\n",
    "        [\n",
    "            np.pad(summed_grid_powers(power_levels, i + 1), (0, i), \"constant\")\n",
    "            for i in range(GRIDSIZE)\n",
    "        ]\n",
    "    ).reshape(GRIDSIZE, -1)\n",
    "    size = by_size.max(axis=1).argmax()\n",
    "    y, x = np.unravel_index(by_size[size].argmax(), power_levels.shape)\n",
    "    return x + 1, y + 1, size + 1"
   ]
  },
  {
   "cell_type": "code",
   "execution_count": 8,
   "metadata": {},
   "outputs": [],
   "source": [
    "optimal_tests = {\n",
    "    18: (90, 269, 16),\n",
    "    42: (232, 251, 12),\n",
    "}\n",
    "for tserial, expected in optimal_tests.items():\n",
    "    assert optimal_window_size(tserial) == expected"
   ]
  },
  {
   "cell_type": "code",
   "execution_count": 9,
   "metadata": {},
   "outputs": [
    {
     "name": "stdout",
     "output_type": "stream",
     "text": [
      "Part 2: 235,87,13\n"
     ]
    }
   ],
   "source": [
    "x, y, s = optimal_window_size(serial)\n",
    "print(f\"Part 2: {x},{y},{s}\")"
   ]
  },
  {
   "cell_type": "code",
   "execution_count": 10,
   "metadata": {},
   "outputs": [
    {
     "data": {
      "image/png": "[encoded data removed]",
      "text/plain": [
       "<Figure size 640x480 with 1 Axes>"
      ]
     },
     "metadata": {},
     "output_type": "display_data"
    }
   ],
   "source": [
    "%matplotlib inline\n",
    "import matplotlib.pyplot as plt\n",
    "\n",
    "plt.yscale(\"symlog\")\n",
    "plt.grid(True)\n",
    "plt.title(\"Power output by size, with symmetric log scale\")\n",
    "power_levels = grid_powers(serial)\n",
    "maxima = [summed_grid_powers(power_levels, i + 1).max() for i in range(300)]\n",
    "_ = plt.plot(np.arange(1, len(maxima) + 1), maxima)"
   ]
  },
  {
   "cell_type": "markdown",
   "metadata": {},
   "source": [
    "## Avoiding the performance issues\n",
    "\n",
    "We are now constantly summing and re-summing values for the larger and larger window sizes. But for any given `size`, we can reuse `size - 1` if we can add the missing column and row values. We can keep a running total\n",
    "of those on hand, with a running sum of `x` and `y`, where `y` is offset by one to avoid summing the bottom-right-hand corner twice.\n",
    "\n",
    "We are essentially adding columns and rows into the original cell in the top left corner, expanding out to the next row and column each step. The cells here are relative to a given top-left corner cell:\n",
    "\n",
    "| ⋱   | 0                                        | 1                                        | 2                                         | 3                                        |\n",
    "| --- | ---------------------------------------- | ---------------------------------------- | ----------------------------------------- | ---------------------------------------- |\n",
    "| 0   | A                                        | <span style=\"color: firebrick\">B</span>  | <span style=\"color: forestgreen\">C</span> | <span style=\"color: steelblue\">D</span>  |\n",
    "| 1   | <span style=\"color: red\">E</span>        | <span style=\"color: red\">F</span>        | <span style=\"color: forestgreen\">G</span> | <span style=\"color: steelblue\">H</span>  |\n",
    "| 2   | <span style=\"color: limegreen\">I</span>  | <span style=\"color: limegreen\">J</span>  | <span style=\"color: limegreen\">K</span>   | <span style=\"color: steelblue\">L</span>  |\n",
    "| 3   | <span style=\"color: dodgerblue\">M</span> | <span style=\"color: dodgerblue\">N</span> | <span style=\"color: dodgerblue\">O</span>  | <span style=\"color: dodgerblue\">P</span> |\n",
    "\n",
    "1. For window-size 1, only `A` is needed\n",
    "2. For window-size 2 we add in the row cells `E` and `F` and column cell `B`\n",
    "3. For window-size 3, add in row cells `I`, `J` and `K`, and column cells `C` and `G`\n",
    "4. For window-size 3, add in row cells `M`, `N`, `O` and `P`, and column cells `D`, `H` and `L`\n",
    "\n",
    "Note that these are all for just one cell. But for the cell _below_ this one in the table, there are corresponding surrounding cells to add, and what is cell `E` for the one in the top row, is cell `A` in that very row, with `F` being the same as `B` in the row above. The same applies to the top cell in the column to the right; there `A` is the equivalent of `B` for the cell in the top left corner, etc.\n",
    "\n",
    "We can take advantage of that by keeping a running sum for rows and columns where we roll the running sums up (for rows) and left (for columns) before adding their numbers to our summed matrix. We use the original 1x1 window power matrix to supply the values. This matrix is rolled up and left a step each time, so first `F`, then `K` then `P` is in the top-left corner. We then roll the column sums up and add the rolled power values to the column sums and add these to the windowed sums. Then we roll the column sums to the left, add them to the windowed sums, and only then add the rolled power values to the column sums.\n"
   ]
  },
  {
   "cell_type": "code",
   "execution_count": 11,
   "metadata": {},
   "outputs": [],
   "source": [
    "def optimal_window_size(serial):\n",
    "    power = grid_powers(serial)\n",
    "    summed = np.copy(power)\n",
    "    best_size = 1\n",
    "    highest_power = summed.max()\n",
    "    best_pos = summed.argmax()\n",
    "    # updated sums for rows and columns to update the current size with\n",
    "    power_rolled = rowsums = colsums = power\n",
    "\n",
    "    for size in range(2, GRIDSIZE + 1):\n",
    "        # matrix to update our running row and column sums;\n",
    "        # roll up and left, and clear the last row and column\n",
    "        power_rolled = np.roll(power_rolled, (-1, -1), (0, 1))\n",
    "        power_rolled[-1, :] = 0\n",
    "        power_rolled[:, -1] = 0\n",
    "        # roll rowsums up, clear last row and add power_rolled values\n",
    "        # Then add these to our summed windows\n",
    "        rowsums = np.roll(rowsums, -1, 0)\n",
    "        rowsums[-1, :] = 0\n",
    "        rowsums += power_rolled\n",
    "        summed += rowsums\n",
    "        # roll the column sums to the left, add these to the summed\n",
    "        # windows first, then add power_rolled to the column sums.\n",
    "        colsums = np.roll(colsums, -1, 1)\n",
    "        colsums[:, -1] = 0\n",
    "        summed += colsums\n",
    "        colsums += power_rolled\n",
    "        # finally, clear the next inner row and column of summed\n",
    "        summed[-(size - 1) :, :] = 0\n",
    "        summed[:, -(size - 1) :] = 0\n",
    "\n",
    "        # now our summed matrix is up to date for this window size. Check if it\n",
    "        # has a larger power output\n",
    "        power_output = summed.max()\n",
    "        if power_output > highest_power:\n",
    "            highest_power = power_output\n",
    "            best_size = size\n",
    "            best_pos = summed.argmax()\n",
    "\n",
    "    y, x = np.unravel_index(best_pos, summed.shape)\n",
    "    return x + 1, y + 1, best_size"
   ]
  },
  {
   "cell_type": "code",
   "execution_count": 12,
   "metadata": {},
   "outputs": [
    {
     "data": {
      "text/plain": [
       "(235, 87, 13)"
      ]
     },
     "execution_count": 12,
     "metadata": {},
     "output_type": "execute_result"
    }
   ],
   "source": [
    "optimal_window_size(serial)"
   ]
  },
  {
   "cell_type": "code",
   "execution_count": 13,
   "metadata": {},
   "outputs": [
    {
     "name": "stdout",
     "output_type": "stream",
     "text": [
      "100 ms ± 1.71 ms per loop (mean ± std. dev. of 7 runs, 10 loops each)\n"
     ]
    }
   ],
   "source": [
    "%timeit optimal_window_size(serial)"
   ]
  }
 ],
 "metadata": {
  "kernelspec": {
   "display_name": "Python 3",
   "language": "python",
   "name": "python3"
  },
  "language_info": {
   "codemirror_mode": {
    "name": "ipython",
    "version": 3
   },
   "file_extension": ".py",
   "mimetype": "text/x-python",
   "name": "python",
   "nbconvert_exporter": "python",
   "pygments_lexer": "ipython3",
   "version": "3.12.0"
  }
 },
 "nbformat": 4,
 "nbformat_minor": 2
}
