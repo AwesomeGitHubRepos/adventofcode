{
 "cells": [
  {
   "cell_type": "markdown",
   "metadata": {},
   "source": [
    "# Day 8 - recursive data structure\n",
    "\n",
    "Structures containing structures containing ... recursion.\n",
    "\n",
    "So, I naturally use a stack! Or, a `deque`, which is faster than the builtin list at adding and removing individual entries when used as a stack.\n",
    "\n",
    "The stack stores the child and metadata counts as a `[children, meta]` mutable list. You first have to process the children before you can process the metadata for a node, so we need to keep this structure updated until the time to handle the metadata is here. \n",
    "\n",
    "Then each time we enter the loop, we check the `children` counter\n",
    "\n",
    "* If the counter is zero, pop the item from the stack and we can sum `meta` entries from the data stream to the checksum\n",
    "* otherwise, decrement the counter and add the next two values from the stream to the stack."
   ]
  },
  {
   "cell_type": "code",
   "execution_count": 1,
   "metadata": {},
   "outputs": [],
   "source": [
    "from collections import deque\n",
    "from itertools import islice\n",
    "\n",
    "def checksum(datastream):\n",
    "    it = iter(datastream)\n",
    "    stack = deque([[next(it), next(it)]])\n",
    "    summed = 0\n",
    "    while stack:\n",
    "        if not stack[-1][0]:\n",
    "            # children done, add the metadata\n",
    "            _, meta = stack.pop()\n",
    "            summed += sum(islice(it, None, meta))\n",
    "        else:\n",
    "            # decrease counter and process next node\n",
    "            stack[-1][0] -= 1\n",
    "            stack.append([next(it), next(it)])\n",
    "    return summed"
   ]
  },
  {
   "cell_type": "code",
   "execution_count": 2,
   "metadata": {},
   "outputs": [],
   "source": [
    "testdatastream = [int(d) for d in '''\\\n",
    "2 3 0 3 10 11 12 1 1 0 1 99 2 1 1 2'''.split()]\n",
    "assert checksum(testdatastream) == 138"
   ]
  },
  {
   "cell_type": "code",
   "execution_count": 3,
   "metadata": {},
   "outputs": [],
   "source": [
    "import aocd\n",
    "\n",
    "data = aocd.get_data(day=8, year=2018)\n",
    "datastream = [int(d) for d in data.split()]"
   ]
  },
  {
   "cell_type": "code",
   "execution_count": 4,
   "metadata": {},
   "outputs": [
    {
     "name": "stdout",
     "output_type": "stream",
     "text": [
      "Part 1: 45750\n"
     ]
    }
   ],
   "source": [
    "print('Part 1:', checksum(datastream))"
   ]
  },
  {
   "cell_type": "markdown",
   "metadata": {},
   "source": [
    "## More stacking about\n",
    "\n",
    "Now we need to add one more piece of information to our stack entries: a list of child node values, so we can calculat the value for the current completed node. We don't need to keep the whole tree here!\n",
    "\n",
    "The steps then become:\n",
    "\n",
    "* Check the `children` counter\n",
    "* If it is zero, pop the item from the stack. Collect the metadata numbers from the stream, and calculate our value by doing one of two things:\n",
    "    * If the list of child node values is not empty, sum the metadata numbers.\n",
    "    * If the list is not empty, use the metadata numbers as 1-based indices into the list to sum."
   ]
  },
  {
   "cell_type": "code",
   "execution_count": 5,
   "metadata": {},
   "outputs": [],
   "source": [
    "def calc_license(datastream):\n",
    "    it = iter(datastream)\n",
    "    stack = deque([[next(it), next(it), []]])\n",
    "    while True:\n",
    "        if not stack[-1][0]:\n",
    "            # children done, calculate value\n",
    "            _, meta, values = stack.pop()\n",
    "            if not values:\n",
    "                value = sum(islice(it, None, meta))\n",
    "            else:\n",
    "                # 1-based indexing\n",
    "                value = sum(\n",
    "                    values[m - 1] for m in islice(it, None, meta)\n",
    "                    if 0 < m <= len(values)\n",
    "                )\n",
    "            if not stack:\n",
    "                # last node!\n",
    "                return value\n",
    "            stack[-1][-1].append(value)\n",
    "        else:\n",
    "            # decrease counter and process next node\n",
    "            stack[-1][0] -= 1\n",
    "            stack.append([next(it), next(it), []])"
   ]
  },
  {
   "cell_type": "code",
   "execution_count": 6,
   "metadata": {},
   "outputs": [],
   "source": [
    "assert calc_license(testdatastream) == 66"
   ]
  },
  {
   "cell_type": "code",
   "execution_count": 7,
   "metadata": {},
   "outputs": [
    {
     "name": "stdout",
     "output_type": "stream",
     "text": [
      "Part 2: 23266\n"
     ]
    }
   ],
   "source": [
    "print('Part 2:', calc_license(datastream))"
   ]
  }
 ],
 "metadata": {
  "kernelspec": {
   "display_name": "Python 3",
   "language": "python",
   "name": "python3"
  },
  "language_info": {
   "codemirror_mode": {
    "name": "ipython",
    "version": 3
   },
   "file_extension": ".py",
   "mimetype": "text/x-python",
   "name": "python",
   "nbconvert_exporter": "python",
   "pygments_lexer": "ipython3",
   "version": "3.7.1"
  }
 },
 "nbformat": 4,
 "nbformat_minor": 2
}
