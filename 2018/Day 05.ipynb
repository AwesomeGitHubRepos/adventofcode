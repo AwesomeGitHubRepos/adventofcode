{
 "cells": [
  {
   "cell_type": "markdown",
   "metadata": {},
   "source": [
    "# Day 5: Pattern matching\n",
    "\n",
    "Part 1 at least is a typical pattern matching exercise. Repeatedly remove lowercase/UPPERCASE combos (in either order) until the length of the string no longer changes.\n",
    "\n",
    "For string pattern matching the obvious tool is the [`re` module](https://docs.python.org/3/library/re.html) (see the [regex HOWTO](https://docs.python.org/3/howto/regex.html) as well), but regex doesn't have syntax to spell 'uppercase version of a matched letter' or 'lowercase version of a matched letter'. Not in the Python `re` module syntax at any rate, and not in the much more advanced Python [`regex` project](https://pypi.org/project/regex/) either.\n",
    "\n",
    "But that doesn't stop us from just generating all possible combinations from [`string.ascii_uppercase`](https://docs.python.org/3/library/string.html#string.ascii_uppercase) and [`string.ascii_lowercase`](https://docs.python.org/3/library/string.html#string.ascii_uppercase)...."
   ]
  },
  {
   "cell_type": "code",
   "execution_count": 1,
   "metadata": {},
   "outputs": [],
   "source": [
    "import re\n",
    "import string\n",
    "from functools import partial\n",
    "\n",
    "patterns = '|'.join([f'{l}{u}|{u}{l}' for l, u in zip(string.ascii_lowercase, string.ascii_uppercase)])\n",
    "replace = partial(re.compile(patterns).sub, '')\n",
    "\n",
    "def polymer_reactions(s):\n",
    "    l = len(s)\n",
    "    while True:\n",
    "        s = replace(s)\n",
    "        if len(s) == l:\n",
    "            break\n",
    "        l = len(s)\n",
    "    return s"
   ]
  },
  {
   "cell_type": "code",
   "execution_count": 2,
   "metadata": {},
   "outputs": [],
   "source": [
    "tests = {\n",
    "    'aA': '',\n",
    "    'abBA': '',\n",
    "    'abAB': 'abAB',\n",
    "    'aabAAB': 'aabAAB',\n",
    "    'dabAcCaCBAcCcaDA': 'dabCBAcaDA',\n",
    "}\n",
    "\n",
    "for t, expected in tests.items():\n",
    "    assert polymer_reactions(t) == expected"
   ]
  },
  {
   "cell_type": "code",
   "execution_count": 3,
   "metadata": {},
   "outputs": [
    {
     "name": "stdout",
     "output_type": "stream",
     "text": [
      "Base length: 50000\n"
     ]
    }
   ],
   "source": [
    "import aocd\n",
    "\n",
    "data = aocd.get_data(day=5, year=2018)\n",
    "print('Base length:', len(data))"
   ]
  },
  {
   "cell_type": "code",
   "execution_count": 4,
   "metadata": {},
   "outputs": [
    {
     "name": "stdout",
     "output_type": "stream",
     "text": [
      "Part 1: 10132\n"
     ]
    }
   ],
   "source": [
    "print('Part 1:', len(polymer_reactions(data)))"
   ]
  },
  {
   "cell_type": "markdown",
   "metadata": {},
   "source": [
    "## Part 2\n",
    "\n",
    "This is just a loop over `string.ascii_lowercase`, to replace all instances of each character with the `re.I` flag to remove the character case insensitively (or a loop over `zip(string.ascii_lowercase, string.ascii_uppercase)` to use in `str.translate()` perhaps), and figuring out the length of the shortest result.\n",
    "\n",
    "We can do this all in a generator expression passed to `min()` to produce the answer, if we chain everything together.\n",
    "\n",
    "No, this is not going to be *fast*. The base input string is 50k characters, and already takes 2+ seconds to reduce this to the part 1 answer size. Doing this 26 times is not going to improve matters:"
   ]
  },
  {
   "cell_type": "code",
   "execution_count": 5,
   "metadata": {},
   "outputs": [
    {
     "name": "stdout",
     "output_type": "stream",
     "text": [
      "2.17 s ± 125 ms per loop (mean ± std. dev. of 7 runs, 1 loop each)\n"
     ]
    }
   ],
   "source": [
    "%timeit polymer_reactions(data)"
   ]
  },
  {
   "cell_type": "code",
   "execution_count": 6,
   "metadata": {},
   "outputs": [],
   "source": [
    "def shortest_fixed_polymer(s):\n",
    "    return min(  # smallest\n",
    "        len( # length\n",
    "            polymer_reactions( # of a polymer reaction result\n",
    "                re.sub(c, '', s, flags=re.I) # with one letter removed, case-insensitively\n",
    "            )\n",
    "        )\n",
    "        for c in string.ascii_lowercase # for every ASCII letter\n",
    "    )"
   ]
  },
  {
   "cell_type": "code",
   "execution_count": 7,
   "metadata": {},
   "outputs": [],
   "source": [
    "assert shortest_fixed_polymer('dabAcCaCBAcCcaDA') == 4"
   ]
  },
  {
   "cell_type": "code",
   "execution_count": 8,
   "metadata": {},
   "outputs": [
    {
     "name": "stdout",
     "output_type": "stream",
     "text": [
      "Part 2: 4572\n"
     ]
    }
   ],
   "source": [
    "print('Part 2:', shortest_fixed_polymer(data))"
   ]
  }
 ],
 "metadata": {
  "kernelspec": {
   "display_name": "Python 3",
   "language": "python",
   "name": "python3"
  },
  "language_info": {
   "codemirror_mode": {
    "name": "ipython",
    "version": 3
   },
   "file_extension": ".py",
   "mimetype": "text/x-python",
   "name": "python",
   "nbconvert_exporter": "python",
   "pygments_lexer": "ipython3",
   "version": "3.7.1"
  }
 },
 "nbformat": 4,
 "nbformat_minor": 2
}
