{
 "cells": [
  {
   "cell_type": "markdown",
   "metadata": {},
   "source": [
    "# Day 5: Pattern matching\n",
    "\n",
    "Part 1 at least is a typical pattern matching exercise. Repeatedly remove lowercase/UPPERCASE combos (in either order) until the length of the string no longer changes.\n",
    "\n",
    "For string pattern matching the obvious tool is the [`re` module](https://docs.python.org/3/library/re.html) (see the [regex HOWTO](https://docs.python.org/3/howto/regex.html) as well), but regex doesn't have syntax to spell 'uppercase version of a matched letter' or 'lowercase version of a matched letter'. Not in the Python `re` module syntax at any rate, and not in the much more advanced Python [`regex` project](https://pypi.org/project/regex/) either.\n",
    "\n",
    "But that doesn't stop us from just generating all possible combinations from [`string.ascii_uppercase`](https://docs.python.org/3/library/string.html#string.ascii_uppercase) and [`string.ascii_lowercase`](https://docs.python.org/3/library/string.html#string.ascii_uppercase)...."
   ]
  },
  {
   "cell_type": "code",
   "execution_count": 1,
   "metadata": {},
   "outputs": [],
   "source": [
    "import re\n",
    "import string\n",
    "from functools import partial\n",
    "\n",
    "patterns = '|'.join([f'{l}{u}|{u}{l}' for l, u in zip(string.ascii_lowercase, string.ascii_uppercase)])\n",
    "replace = partial(re.compile(patterns).sub, '')\n",
    "\n",
    "def polymer_reactions(s):\n",
    "    l = len(s)\n",
    "    while True:\n",
    "        s = replace(s)\n",
    "        if len(s) == l:\n",
    "            break\n",
    "        l = len(s)\n",
    "    return s"
   ]
  },
  {
   "cell_type": "code",
   "execution_count": 2,
   "metadata": {},
   "outputs": [],
   "source": [
    "tests = {\n",
    "    'aA': '',\n",
    "    'abBA': '',\n",
    "    'abAB': 'abAB',\n",
    "    'aabAAB': 'aabAAB',\n",
    "    'dabAcCaCBAcCcaDA': 'dabCBAcaDA',\n",
    "}\n",
    "\n",
    "for t, expected in tests.items():\n",
    "    assert polymer_reactions(t) == expected"
   ]
  },
  {
   "cell_type": "code",
   "execution_count": 3,
   "metadata": {},
   "outputs": [],
   "source": [
    "import aocd\n",
    "\n",
    "data = aocd.get_data(day=5, year=2018)"
   ]
  },
  {
   "cell_type": "code",
   "execution_count": 4,
   "metadata": {},
   "outputs": [
    {
     "name": "stdout",
     "output_type": "stream",
     "text": [
      "Part 1: 10132\n"
     ]
    }
   ],
   "source": [
    "print('Part 1:', len(polymer_reactions(data)))"
   ]
  }
 ],
 "metadata": {
  "kernelspec": {
   "display_name": "Python 3",
   "language": "python",
   "name": "python3"
  },
  "language_info": {
   "codemirror_mode": {
    "name": "ipython",
    "version": 3
   },
   "file_extension": ".py",
   "mimetype": "text/x-python",
   "name": "python",
   "nbconvert_exporter": "python",
   "pygments_lexer": "ipython3",
   "version": "3.7.1"
  }
 },
 "nbformat": 4,
 "nbformat_minor": 2
}
