{
 "cells": [
  {
   "cell_type": "markdown",
   "metadata": {},
   "source": [
    "# Day 5: Pattern matching\n",
    "\n",
    "- [Day 5](https://adventofcode.com/2018/day/5)\n",
    "\n",
    "Part 1 at least is a typical pattern matching exercise. Repeatedly remove lowercase/UPPERCASE combos (in either order) until the length of the string no longer changes.\n",
    "\n",
    "For string pattern matching the obvious tool is the [`re` module](https://docs.python.org/3/library/re.html) (see the [regex HOWTO](https://docs.python.org/3/howto/regex.html) as well), but regex doesn't have dedicated syntax to spell 'uppercase version of a matched letter' or 'lowercase version of a matched letter'. Not in the Python `re` module syntax at any rate, and not in the much more advanced Python [`regex` project](https://pypi.org/project/regex/) either.\n",
    "\n",
    "But that doesn't stop us from just generating all possible combinations from [`string.ascii_uppercase`](https://docs.python.org/3/library/string.html#string.ascii_uppercase) and [`string.ascii_lowercase`](https://docs.python.org/3/library/string.html#string.ascii_uppercase)....\n",
    "\n",
    "Not that someone didn't try to do this with pure regex; with a local 'case-insensitive' modifier and a negative look-ahead that matches the exact same character twice in a row, with the second match insensitive to case, and at the same time use a negative lookahead to not match the same character, with case sensitivity enabled. That leaves only the opposite case as a a possible match:\n",
    "\n",
    "    r'([a-zA-Z])(?!\\1)(?i:\\1)'\n",
    "\n",
    "but in my view a generated regex is just simpler to manage and execute.\n"
   ]
  },
  {
   "cell_type": "code",
   "execution_count": 1,
   "metadata": {},
   "outputs": [],
   "source": [
    "import re\n",
    "import string\n",
    "from functools import partial\n",
    "\n",
    "patterns = \"|\".join(\n",
    "    [\n",
    "        f\"{lc}{uc}|{uc}{lc}\"\n",
    "        for lc, uc in zip(string.ascii_lowercase, string.ascii_uppercase)\n",
    "    ]\n",
    ")\n",
    "replace = partial(re.compile(patterns).sub, \"\")\n",
    "\n",
    "\n",
    "def polymer_reactions(s):\n",
    "    length = len(s)\n",
    "    while True:\n",
    "        s = replace(s)\n",
    "        if len(s) == length:\n",
    "            break\n",
    "        length = len(s)\n",
    "    return s"
   ]
  },
  {
   "cell_type": "code",
   "execution_count": 2,
   "metadata": {},
   "outputs": [],
   "source": [
    "tests = {\n",
    "    \"aA\": \"\",\n",
    "    \"abBA\": \"\",\n",
    "    \"abAB\": \"abAB\",\n",
    "    \"aabAAB\": \"aabAAB\",\n",
    "    \"dabAcCaCBAcCcaDA\": \"dabCBAcaDA\",\n",
    "}\n",
    "\n",
    "for t, expected in tests.items():\n",
    "    assert polymer_reactions(t) == expected"
   ]
  },
  {
   "cell_type": "markdown",
   "metadata": {},
   "source": [
    "## Improvement on the speed\n",
    "\n",
    "This can be done better, however, if you see the polymer reactions as a stack process; add to the stack one char at a time, or remove from the stack if there is a match, repeatedly so if necessary.\n",
    "\n",
    "We can also use ASCII properties here; it's bit 6 that differs between lowercas and uppercase, so we can test if just that bit differs:\n"
   ]
  },
  {
   "cell_type": "code",
   "execution_count": 3,
   "metadata": {},
   "outputs": [
    {
     "data": {
      "text/markdown": [
       "char | hex | binary | bit 6 | rest\n",
       ":--: | :-: | :----: | :---: | :---:\n",
       " A | `41` | <tt>01<strong>0</strong>00001</tt> | `0` | `01…00001` \n",
       " a | `61` | <tt>01<strong>1</strong>00001</tt> | `1` | `01…00001` \n",
       " B | `42` | <tt>01<strong>0</strong>00010</tt> | `0` | `01…00010` \n",
       " b | `62` | <tt>01<strong>1</strong>00010</tt> | `1` | `01…00010` \n",
       " C | `43` | <tt>01<strong>0</strong>00011</tt> | `0` | `01…00011` \n",
       " c | `63` | <tt>01<strong>1</strong>00011</tt> | `1` | `01…00011` \n",
       "⋮ | ⋮ | ⋮ | ⋮ | ⋮\n",
       " Z | `5A` | <tt>01<strong>0</strong>11010</tt> | `0` | `01…11010` \n",
       " z | `7A` | <tt>01<strong>1</strong>11010</tt> | `1` | `01…11010` \n"
      ],
      "text/plain": [
       "<IPython.core.display.Markdown object>"
      ]
     },
     "execution_count": 3,
     "metadata": {},
     "output_type": "execute_result"
    }
   ],
   "source": [
    "from IPython.display import Markdown\n",
    "\n",
    "output = []\n",
    "for upper in b\"ABCZ\":\n",
    "    for c in (upper, upper ^ 0x20):\n",
    "        b = format(c, \"08b\")\n",
    "        output.append(\n",
    "            \"|\".join(\n",
    "                [\n",
    "                    f\" {chr(c)} \",\n",
    "                    f\" `{format(c, '02X')}` \",\n",
    "                    f\" <tt>{b[:2]}<strong>{b[2]}</strong>{b[3:]}</tt> \",\n",
    "                    f\" `{b[2]}` \",\n",
    "                    f\" `{b[:2]}…{b[3:]}` \",\n",
    "                ]\n",
    "            )\n",
    "        )\n",
    "    if upper == ord(\"C\"):\n",
    "        output.append(\"⋮ | ⋮ | ⋮ | ⋮ | ⋮\")\n",
    "\n",
    "NL = \"\\n\"\n",
    "Markdown(\n",
    "    f\"\"\"\\\n",
    "char | hex | binary | bit 6 | rest\n",
    ":--: | :-: | :----: | :---: | :---:\n",
    "{NL.join(output)}\n",
    "\"\"\"\n",
    ")"
   ]
  },
  {
   "cell_type": "markdown",
   "metadata": {},
   "source": [
    "An 8-bit value with only bit 6 set is `0x20` in hexadecimal, and you can use an `XOR` bit-wise operation to flip that one bit, using the `^` operator. For any given `(first, second)` pair of characters as integers in a range $[0, 256)$, if `first ^ 0x20 == second` then we have a lowercase / uppercase or uppercase / lowercase pair.\n",
    "\n",
    "For the stack, I use a [`collections.deque` object](https://docs.python.org/3/library/collections.html#collections.deque), which is [faster than the builtin `list` type at adding and removing individual entries when used as a stack](https://stackoverflow.com/a/23487658/100297).\n"
   ]
  },
  {
   "cell_type": "code",
   "execution_count": 4,
   "metadata": {},
   "outputs": [],
   "source": [
    "from collections import deque\n",
    "\n",
    "\n",
    "def polymer_reactions(s):\n",
    "    it = iter(s.encode(\"ascii\"))\n",
    "    stack = deque([next(it)])\n",
    "    for unit in it:\n",
    "        if stack and stack[-1] ^ 0x20 == unit:\n",
    "            stack.pop()\n",
    "        else:\n",
    "            stack.append(unit)\n",
    "    return stack\n",
    "\n",
    "\n",
    "for t, expected in tests.items():\n",
    "    assert bytes(polymer_reactions(t)).decode() == expected"
   ]
  },
  {
   "cell_type": "code",
   "execution_count": 5,
   "metadata": {},
   "outputs": [
    {
     "name": "stdout",
     "output_type": "stream",
     "text": [
      "Base length: 50000\n"
     ]
    }
   ],
   "source": [
    "import aocd\n",
    "\n",
    "data = aocd.get_data(day=5, year=2018)\n",
    "print(\"Base length:\", len(data))"
   ]
  },
  {
   "cell_type": "code",
   "execution_count": 6,
   "metadata": {},
   "outputs": [
    {
     "name": "stdout",
     "output_type": "stream",
     "text": [
      "Part 1: 10132\n"
     ]
    }
   ],
   "source": [
    "print(\"Part 1:\", len(polymer_reactions(data)))"
   ]
  },
  {
   "cell_type": "markdown",
   "metadata": {},
   "source": [
    "## Part 2\n",
    "\n",
    "This is just a loop over the $[0x61, 0x7a]$ (`a`-`z`) range to tell the stack algorithm to just ignore any bytes that match `(unit | 0x20) == ignored`), so regardless of case.\n",
    "\n",
    "We can do this all in a generator expression passed to `min()` to produce the answer, if we chain everything together.\n",
    "\n",
    "My stack version takes about 8 milliseconds, so running it another 26 times should be trivial (albeit with a filter). We can start of the process with the result of part 1; it doesn't matter to the full set of reactions if we remove the ignored character before or after, but repeating the process 26 times with a 10k-ish polymer is faster than starting it with a 50k polymer each time.\n"
   ]
  },
  {
   "cell_type": "code",
   "execution_count": 7,
   "metadata": {},
   "outputs": [
    {
     "name": "stdout",
     "output_type": "stream",
     "text": [
      "2.29 ms ± 17.4 µs per loop (mean ± std. dev. of 7 runs, 100 loops each)\n"
     ]
    }
   ],
   "source": [
    "%timeit polymer_reactions(data)"
   ]
  },
  {
   "cell_type": "code",
   "execution_count": 8,
   "metadata": {},
   "outputs": [],
   "source": [
    "def shortest_fixed_polymer(s):\n",
    "    # clean out initial reactions\n",
    "    minimised = bytes(polymer_reactions(s))\n",
    "\n",
    "    ident = bytes.maketrans(b\"\", b\"\")\n",
    "\n",
    "    def react(s, ignore=None):\n",
    "        s = iter(s.translate(ident, delete=bytes([ignore, ignore | 0x20])))\n",
    "        stack = deque([next(s)])\n",
    "        for unit in s:\n",
    "            if stack and stack[-1] ^ 0x20 == unit:\n",
    "                stack.pop()\n",
    "            else:\n",
    "                stack.append(unit)\n",
    "        return len(stack)\n",
    "\n",
    "    # loop over A - Z (0x41, 0x5A) (so 0x5B range end)\n",
    "    return min(react(minimised, i) for i in range(0x41, 0x5B))"
   ]
  },
  {
   "cell_type": "code",
   "execution_count": 9,
   "metadata": {},
   "outputs": [],
   "source": [
    "assert shortest_fixed_polymer(\"dabAcCaCBAcCcaDA\") == 4"
   ]
  },
  {
   "cell_type": "code",
   "execution_count": 10,
   "metadata": {},
   "outputs": [
    {
     "name": "stdout",
     "output_type": "stream",
     "text": [
      "Part 2: 4572\n"
     ]
    }
   ],
   "source": [
    "print(\"Part 2:\", shortest_fixed_polymer(data))"
   ]
  },
  {
   "cell_type": "code",
   "execution_count": 11,
   "metadata": {},
   "outputs": [
    {
     "name": "stdout",
     "output_type": "stream",
     "text": [
      "13.5 ms ± 254 µs per loop (mean ± std. dev. of 7 runs, 100 loops each)\n"
     ]
    }
   ],
   "source": [
    "%timeit shortest_fixed_polymer(data)"
   ]
  }
 ],
 "metadata": {
  "kernelspec": {
   "display_name": "Python 3",
   "language": "python",
   "name": "python3"
  },
  "language_info": {
   "codemirror_mode": {
    "name": "ipython",
    "version": 3
   },
   "file_extension": ".py",
   "mimetype": "text/x-python",
   "name": "python",
   "nbconvert_exporter": "python",
   "pygments_lexer": "ipython3",
   "version": "3.12.0"
  }
 },
 "nbformat": 4,
 "nbformat_minor": 2
}
