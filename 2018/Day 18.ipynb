{
 "cells": [
  {
   "cell_type": "markdown",
   "metadata": {},
   "source": [
    "# Day 18 - 2D cellular automation\n",
    "\n",
    "Today's puzzle is touching upon [cellular automation](https://en.wikipedia.org/wiki/Cellular_automaton) again, but this time we have a finite 2D grid and 3 states, rather than just on or off.\n",
    "\n",
    "Because this is a grid, I'll use numpy for this version. We can use [`scipy.signal.convolve2d()`](https://docs.scipy.org/doc/scipy-0.18.1/reference/generated/scipy.signal.convolve2d.html) to give us neighbour counts, and [`numpy.select()`](https://docs.scipy.org/doc/numpy/reference/generated/numpy.select.html) to create the next step output grid.\n",
    "\n",
    "Given a 3 x 3 array named `kernel` of 1s and a central 0 (indicating what surrounding cells to count),  `convolve2d()`, together with a boolean array will give us a count of surrounding `True` values for each cell. So if lumberyards are represented by the integer value `3`, then we can get a count of adjacent lumberyards with:\n",
    "\n",
    "```python\n",
    ">>> kernel = np.array([[1, 1, 1], [1, 0, 1], [1, 1, 1]])\n",
    ">>> print(forest)  # custom class, ._matrix is the numpy array\n",
    ".#|#\n",
    "|||#\n",
    "#|#|\n",
    "...#\n",
    ">>> convolve2d(forest._matrix == 3, kernel, mode='same')\n",
    "array([[1, 0, 3, 1],\n",
    "       [2, 3, 4, 2],\n",
    "       [0, 2, 2, 3],\n",
    "       [1, 2, 2, 1]])\n",
    "```\n",
    "\n",
    "We have three rules, each applying to one of the three states, and all 3 are simple counts of the surrounding area. So you can make the following assignments:\n",
    "\n",
    "- *trees*: if *open* and *surrounding tree count* is three or more\n",
    "- *lumberyard*: if *trees* and *surrounding lumberyard count* is three or more\n",
    "- *open*: if *lumberyard* and *surrounding lumberyard count* is zero *or* *surrounding trees count* is zero\n",
    "\n",
    "So for each cell, we need three neighbor counts for each of the types.\n",
    "\n",
    "We can cast those rules as broadcasted numpy tests, then use `np.select()` with those tests to select either the replacement value or the original input cell:\n",
    "\n",
    "```python\n",
    "output = np.select(\n",
    "    [trees_cond, lumberyard_cond, open_cond],\n",
    "    [trees, lumberyards, opens],\n",
    "    default=forest.matrix\n",
    ")\n",
    "```"
   ]
  },
  {
   "cell_type": "code",
   "execution_count": 1,
   "metadata": {},
   "outputs": [],
   "source": [
    "from enum import Enum\n",
    "from scipy.signal import convolve2d\n",
    "import numpy as np\n",
    "\n",
    "class Acre(Enum):\n",
    "    open = 1, '.'\n",
    "    trees = 2, '|'\n",
    "    lumberyard = 3, '#'\n",
    "    \n",
    "    def __new__(cls, int, value):\n",
    "        instance = object.__new__(cls)\n",
    "        instance._value_ = value\n",
    "        instance.int = int\n",
    "        return instance\n",
    "\n",
    "_kernel = np.array([[1, 1, 1], [1, 0, 1], [1, 1, 1]])\n",
    "    \n",
    "class Forest:\n",
    "    def __init__(self, forestmap: str) -> None:\n",
    "        self._matrix = np.array([\n",
    "            Acre(c).int for line in forestmap.splitlines() for c in line\n",
    "        ]).reshape((forestmap.index('\\n'), -1))\n",
    "    \n",
    "    def __str__(self) -> str:\n",
    "        mapping = {a.int: a.value for a in Acre}\n",
    "        return '\\n'.join([''.join(map(mapping.__getitem__, row)) for row in self._matrix])\n",
    "    \n",
    "    def step(self) -> None:\n",
    "        f = self._matrix\n",
    "        counts = {acre: convolve2d(f == acre.int, _kernel, mode='same') for acre in Acre}\n",
    "        rules = {\n",
    "            Acre.trees: (  # currently open, and has 3 or more trees as neighbours\n",
    "                (f == Acre.open.int) & (counts[Acre.trees] >= 3)\n",
    "            ),\n",
    "            Acre.lumberyard: (  # currently trees, and has 3 or more lumberyards as neighbours\n",
    "                (f == Acre.trees.int) & (counts[Acre.lumberyard] >= 3)\n",
    "            ),\n",
    "            Acre.open: (  # currently lumberyard, but either missing neighbouring lumberyards or trees\n",
    "                (f == Acre.lumberyard.int) & (\n",
    "                    (counts[Acre.lumberyard] == 0) | (counts[Acre.trees] == 0)\n",
    "                )\n",
    "            ),\n",
    "        }\n",
    "        self._matrix = np.select(\n",
    "            list(rules.values()),\n",
    "            [np.full(f.shape, a.int) for a in rules],\n",
    "            default=f)\n",
    "        \n",
    "    def run(self, minutes: int) -> int:\n",
    "        \"\"\"Run for the given amount of time, then return the resource value\"\"\"\n",
    "        for _ in range(minutes):\n",
    "            self.step()\n",
    "        counts = dict(zip(*np.unique(self._matrix, return_counts=True)))\n",
    "        return counts[Acre.trees.int] * counts[Acre.lumberyard.int]"
   ]
  },
  {
   "cell_type": "code",
   "execution_count": 2,
   "metadata": {},
   "outputs": [],
   "source": [
    "testforest = Forest('''\\\n",
    ".#.#...|#.\n",
    ".....#|##|\n",
    ".|..|...#.\n",
    "..|#.....#\n",
    "#.#|||#|#|\n",
    "...#.||...\n",
    ".|....|...\n",
    "||...#|.#|\n",
    "|.||||..|.\n",
    "...#.|..|.''')\n",
    "assert testforest.run(10) == 1147"
   ]
  },
  {
   "cell_type": "code",
   "execution_count": 3,
   "metadata": {},
   "outputs": [],
   "source": [
    "import aocd\n",
    "\n",
    "data = aocd.get_data(day=18, year=2018)"
   ]
  },
  {
   "cell_type": "code",
   "execution_count": 4,
   "metadata": {},
   "outputs": [
    {
     "name": "stdout",
     "output_type": "stream",
     "text": [
      "Part 1: 564375\n"
     ]
    }
   ],
   "source": [
    "print('Part 1:', Forest(data).run(10))"
   ]
  }
 ],
 "metadata": {
  "kernelspec": {
   "display_name": "Python 3",
   "language": "python",
   "name": "python3"
  },
  "language_info": {
   "codemirror_mode": {
    "name": "ipython",
    "version": 3
   },
   "file_extension": ".py",
   "mimetype": "text/x-python",
   "name": "python",
   "nbconvert_exporter": "python",
   "pygments_lexer": "ipython3",
   "version": "3.7.1"
  }
 },
 "nbformat": 4,
 "nbformat_minor": 2
}
