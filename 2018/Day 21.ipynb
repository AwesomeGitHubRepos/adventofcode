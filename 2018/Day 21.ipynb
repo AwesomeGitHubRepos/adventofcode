{
 "cells": [
  {
   "cell_type": "code",
   "execution_count": 1,
   "metadata": {},
   "outputs": [],
   "source": [
    "def loop(r5=0):\n",
    "    r4 = r5 | 65536   # sets bit 17\n",
    "    r5 = 13431073     # a 24-bit value, product of 2 primes, 647 and 20759\n",
    "    while r4:\n",
    "        r5 += r4 & 255\n",
    "        r5 &= 16777215  # 24 bit mask\n",
    "        r5 *= 65899     # another prime\n",
    "        r5 &= 16777215  # 24 bit mask\n",
    "        r4 >>= 8\n",
    "    return r5"
   ]
  },
  {
   "cell_type": "code",
   "execution_count": 2,
   "metadata": {},
   "outputs": [
    {
     "name": "stdout",
     "output_type": "stream",
     "text": [
      "Part 1: 3115806\n"
     ]
    }
   ],
   "source": [
    "print('Part 1:', loop())"
   ]
  },
  {
   "cell_type": "code",
   "execution_count": 3,
   "metadata": {},
   "outputs": [
    {
     "name": "stdout",
     "output_type": "stream",
     "text": [
      "Part 2: 13959373\n"
     ]
    }
   ],
   "source": [
    "r5 = 0\n",
    "count = 0\n",
    "counts = {}\n",
    "while True:\n",
    "    count += (r5 // 256) + (r5 // 65536)  # two >>= 8 loops\n",
    "    r5 = loop(r5)\n",
    "    if r5 in counts:\n",
    "        break\n",
    "    counts[r5] = count\n",
    "\n",
    "\n",
    "print('Part 2:', max(counts, key=counts.get))"
   ]
  }
 ],
 "metadata": {
  "kernelspec": {
   "display_name": "Python 3",
   "language": "python",
   "name": "python3"
  },
  "language_info": {
   "codemirror_mode": {
    "name": "ipython",
    "version": 3
   },
   "file_extension": ".py",
   "mimetype": "text/x-python",
   "name": "python",
   "nbconvert_exporter": "python",
   "pygments_lexer": "ipython3",
   "version": "3.7.1"
  }
 },
 "nbformat": 4,
 "nbformat_minor": 2
}
