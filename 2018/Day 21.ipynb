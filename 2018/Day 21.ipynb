{
 "cells": [
  {
   "cell_type": "code",
   "execution_count": 1,
   "metadata": {},
   "outputs": [],
   "source": [
    "def loop(input: int = 0, init: int = 13431073, perturb: int = 65899):\n",
    "    # init is the product of 2 primes, 647 and 20759\n",
    "    # perturb is another prime\n",
    "    bytes = input | 0x10000 # sets bit 33\n",
    "    hash = init\n",
    "    while bytes:\n",
    "        hash += bytes & 0xFF\n",
    "        hash &= 0xFFFFFF\n",
    "        hash *= perturb\n",
    "        hash &= 0xFFFFFF\n",
    "        bytes >>= 8\n",
    "    return hash"
   ]
  },
  {
   "cell_type": "code",
   "execution_count": 2,
   "metadata": {},
   "outputs": [
    {
     "name": "stdout",
     "output_type": "stream",
     "text": [
      "Part 1: 3115806\n"
     ]
    }
   ],
   "source": [
    "print('Part 1:', loop())"
   ]
  },
  {
   "cell_type": "code",
   "execution_count": 3,
   "metadata": {},
   "outputs": [
    {
     "name": "stdout",
     "output_type": "stream",
     "text": [
      "Part 2: 13959373\n"
     ]
    }
   ],
   "source": [
    "i = 0\n",
    "count = 0\n",
    "counts = {}\n",
    "while True:\n",
    "    count += (i << 8) + (i << 16)  # two >>= 8 loops\n",
    "    i = loop(i)\n",
    "    if i in counts:\n",
    "        break\n",
    "    counts[i] = count\n",
    "\n",
    "print('Part 2:', max(counts, key=counts.get))"
   ]
  }
 ],
 "metadata": {
  "kernelspec": {
   "display_name": "Python 3",
   "language": "python",
   "name": "python3"
  },
  "language_info": {
   "codemirror_mode": {
    "name": "ipython",
    "version": 3
   },
   "file_extension": ".py",
   "mimetype": "text/x-python",
   "name": "python",
   "nbconvert_exporter": "python",
   "pygments_lexer": "ipython3",
   "version": "3.7.1"
  }
 },
 "nbformat": 4,
 "nbformat_minor": 2
}
