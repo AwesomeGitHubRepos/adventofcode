{
 "cells": [
  {
   "cell_type": "markdown",
   "metadata": {},
   "source": [
    "# Day 22 - More pathfinding, adding weights\n",
    "\n",
    "At first this appears to be a matrix problem, but the modulus over 3 prime numbers rules that out quickly. Part two reveals that this is actually a pathfinding problem, with part 1 just setting you up with a map generator."
   ]
  },
  {
   "cell_type": "code",
   "execution_count": 1,
   "metadata": {},
   "outputs": [],
   "source": [
    "from itertools import product\n",
    "from typing import List, Tuple\n",
    "\n",
    "M: int = 20183\n",
    "X0: int = 16807\n",
    "Y0: int = 48271\n",
    "    \n",
    "Pos = Tuple[int, int]\n",
    "\n",
    "class ModeMaze:\n",
    "    def __init__(self, depth: int, target: Pos) -> None:\n",
    "        self.depth = depth\n",
    "        self.target = target\n",
    "        # y rows, x columns\n",
    "        self._erosion_levels: List[List[int]] = []\n",
    "        self._width, self._height = 0, 0\n",
    "\n",
    "    def _gen_levels(self, pos: Pos):\n",
    "        # make sure there is enough erosion level info up to the given position\n",
    "        width, height = pos[0] + 1, pos[1] + 1\n",
    "        cw, ch = self._width, self._height\n",
    "        if cw >= width and ch >= height:\n",
    "            return\n",
    "        \n",
    "        depth = self.depth\n",
    "        maze = self._erosion_levels\n",
    "        \n",
    "        # add more rows\n",
    "        for y in range(ch, height):\n",
    "            # \"or 1\" to generate the first column when empty\n",
    "            above = maze[y - 1] if y else [(x * X0 + depth) % M for x in range(cw or 1)]\n",
    "            row = [(y * Y0 + self.depth) % M]\n",
    "            for p in above[1:]:\n",
    "                row.append((p * row[-1] + self.depth) % M)\n",
    "            maze.append(row)\n",
    "        \n",
    "        # add more columns\n",
    "        for x in range(cw or 1, width):\n",
    "            rows = iter(maze)\n",
    "            next(rows).append((x * X0 + depth) % M)\n",
    "            for p, row in zip(maze, rows):\n",
    "                row.append((p[-1] * row[-1] + depth) % M)\n",
    "        \n",
    "        if self.target[1] >= cw and self.target[0] >= ch:\n",
    "            maze[self.target[1]][self.target[0]] = self.depth\n",
    "            \n",
    "        self._width, self._height = width, height\n",
    "            \n",
    "    @property\n",
    "    def risk_level(self):\n",
    "        self._gen_levels(self.target)\n",
    "        tx, ty = self.target\n",
    "        return sum(sum(i % 3 for i in row[:tx + 1]) for row in self._erosion_levels[:ty + 1])\n",
    "    \n",
    "    def __str__(self):\n",
    "        lines = [['.=|'[i % 3] for i in row] for row in self._erosion_levels]\n",
    "        lines[0][0] = 'M'\n",
    "        lines[self.target[1]][self.target[0]] = 'T'\n",
    "        return '\\n'.join([''.join(l) for l in lines])    "
   ]
  },
  {
   "cell_type": "code",
   "execution_count": 2,
   "metadata": {},
   "outputs": [],
   "source": [
    "test = ModeMaze(510, (10, 10))\n",
    "assert test.risk_level == 114\n",
    "test._gen_levels((15, 15))\n",
    "assert str(test) == \"\"\"\\\n",
    "M=.|=.|.|=.|=|=.\n",
    ".|=|=|||..|.=...\n",
    ".==|....||=..|==\n",
    "=.|....|.==.|==.\n",
    "=|..==...=.|==..\n",
    "=||.=.=||=|=..|=\n",
    "|.=.===|||..=..|\n",
    "|..==||=.|==|===\n",
    ".=..===..=|.|||.\n",
    ".======|||=|=.|=\n",
    ".===|=|===T===||\n",
    "=|||...|==..|=.|\n",
    "=.=|=.=..=.||==|\n",
    "||=|=...|==.=|==\n",
    "|=.=||===.|||===\n",
    "||.|==.|.|.||=||\"\"\""
   ]
  },
  {
   "cell_type": "code",
   "execution_count": 3,
   "metadata": {},
   "outputs": [],
   "source": [
    "import aocd\n",
    "import re\n",
    "\n",
    "data = aocd.get_data(day=22, year=2018)\n",
    "depth, tx, ty = map(int, re.findall(r'\\d+', data))\n",
    "maze = ModeMaze(depth, (tx, ty))"
   ]
  },
  {
   "cell_type": "code",
   "execution_count": 4,
   "metadata": {},
   "outputs": [
    {
     "name": "stdout",
     "output_type": "stream",
     "text": [
      "Part 1: 8090\n"
     ]
    }
   ],
   "source": [
    "print('Part 1:', maze.risk_level)"
   ]
  }
 ],
 "metadata": {
  "kernelspec": {
   "display_name": "Python 3",
   "language": "python",
   "name": "python3"
  },
  "language_info": {
   "codemirror_mode": {
    "name": "ipython",
    "version": 3
   },
   "file_extension": ".py",
   "mimetype": "text/x-python",
   "name": "python",
   "nbconvert_exporter": "python",
   "pygments_lexer": "ipython3",
   "version": "3.7.1"
  }
 },
 "nbformat": 4,
 "nbformat_minor": 2
}
