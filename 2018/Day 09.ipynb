{
 "cells": [
  {
   "cell_type": "markdown",
   "metadata": {},
   "source": [
    "# Day 9 - circular lists\n",
    "\n",
    "Another fundamental datastructure puzzle today; after priority queues and stacks, today we need a circular list. We just have to rotate the circular list 1 step each time to add a marble; that way you essentially keep a reference to the *current* marble and can essentially ignore the remainder of the data structure.\n",
    "\n",
    "For every 23rd round, add the marble to the current player's score, rotate the circular list 7 steps in the opposite direction and remove the marble there to also be added to the current player's score.\n",
    "\n",
    "Once again we can reach for the [`collections.deque` object](https://docs.python.org/3/library/collections.html#collections.deque) here; it implements all the operations we need.\n",
    "\n",
    "It may be that this is actually a fundamentaly mathematical problem, where we can just calculate the outcome, but I'm not yet aware of how that'd work. The implementation in Python, even with 10s of thousands of rounds, is plenty fast."
   ]
  },
  {
   "cell_type": "code",
   "execution_count": 1,
   "metadata": {},
   "outputs": [],
   "source": [
    "import re\n",
    "from collections import deque\n",
    "from typing import Tuple\n",
    "\n",
    "def marble_game(playercount: int, marbles: int) -> int:\n",
    "    \"\"\"Play the elf marble game with a given number of players\n",
    "    \n",
    "    Returns the highest score.\n",
    "    \"\"\"\n",
    "    # 'current' marble is last in the deque\n",
    "    circle = deque([0])\n",
    "    players = [0] * playercount\n",
    "    player = 0\n",
    "    for marble in range(1, marbles + 1):\n",
    "        if marble % 23 == 0:\n",
    "            # player is given this marble plus the one 7 steps clockwise\n",
    "            circle.rotate(7)\n",
    "            players[player % len(players)] += marble + circle.pop()\n",
    "            # next 'current' is to the right of the removed element\n",
    "            circle.rotate(-1)\n",
    "        else:\n",
    "            circle.rotate(-1)\n",
    "            circle.append(marble)\n",
    "        player += 1\n",
    "    return max(players)\n",
    "\n",
    "_parse_line = re.compile(r'(\\d+) players; last marble is worth (\\d+) points').search\n",
    "\n",
    "def parse_input(line: str) -> Tuple[int, int]:\n",
    "    match = _parse_line(line)\n",
    "    assert match is not None\n",
    "    pcount, marbles = map(int, match.groups())\n",
    "    return pcount, marbles"
   ]
  },
  {
   "cell_type": "code",
   "execution_count": 2,
   "metadata": {},
   "outputs": [],
   "source": [
    "tests = {\n",
    "    '9 players; last marble is worth 25 points': 32,\n",
    "    '10 players; last marble is worth 1618 points': 8317,\n",
    "    '13 players; last marble is worth 7999 points': 146373,\n",
    "    '17 players; last marble is worth 1104 points': 2764,\n",
    "    '21 players; last marble is worth 6111 points': 54718,\n",
    "    '30 players; last marble is worth 5807 points': 37305,\n",
    "}\n",
    "for testline, expected in tests.items():\n",
    "    assert marble_game(*parse_input(testline)) == expected"
   ]
  },
  {
   "cell_type": "code",
   "execution_count": 3,
   "metadata": {},
   "outputs": [],
   "source": [
    "import aocd\n",
    "\n",
    "data = aocd.get_data(day=9, year=2018)\n",
    "pcount, marbles = parse_input(data)"
   ]
  },
  {
   "cell_type": "code",
   "execution_count": 4,
   "metadata": {},
   "outputs": [
    {
     "name": "stdout",
     "output_type": "stream",
     "text": [
      "Part 1: 398371\n"
     ]
    }
   ],
   "source": [
    "print('Part 1:', marble_game(pcount, marbles))"
   ]
  },
  {
   "cell_type": "markdown",
   "metadata": {},
   "source": [
    "## Scaling it up\n",
    "\n",
    "> Amused by the speed of your answer, the Elves are curious:\n",
    ">\n",
    "> **What would the new winning Elf's score be if the number of the last marble were 100 times larger?**\n",
    "\n",
    "Here it comes! Plenty fast in pure Python, eh? But even at 100x more iterations, Python with `deque` is plenty fast, so I've not searched for a mathematical approach here. It *could* be that the puzzle masters expected people to come up with less efficient array-based solutions and not use proper circular lists."
   ]
  },
  {
   "cell_type": "code",
   "execution_count": 5,
   "metadata": {},
   "outputs": [
    {
     "name": "stdout",
     "output_type": "stream",
     "text": [
      "Part 2: 3212830280\n"
     ]
    }
   ],
   "source": [
    "print('Part 2:', marble_game(pcount, marbles * 100))"
   ]
  },
  {
   "cell_type": "markdown",
   "metadata": {},
   "source": [
    "As it stands, part timings on my 2017-model Macbook Pro are in the 2 second range for part 2."
   ]
  },
  {
   "cell_type": "code",
   "execution_count": 6,
   "metadata": {},
   "outputs": [
    {
     "name": "stdout",
     "output_type": "stream",
     "text": [
      "22.1 ms ± 502 µs per loop (mean ± std. dev. of 7 runs, 10 loops each)\n",
      "2.24 s ± 6.71 ms per loop (mean ± std. dev. of 7 runs, 1 loop each)\n"
     ]
    }
   ],
   "source": [
    "%timeit marble_game(pcount, marbles)\n",
    "%timeit marble_game(pcount, marbles * 100)"
   ]
  }
 ],
 "metadata": {
  "kernelspec": {
   "display_name": "Python 3",
   "language": "python",
   "name": "python3"
  },
  "language_info": {
   "codemirror_mode": {
    "name": "ipython",
    "version": 3
   },
   "file_extension": ".py",
   "mimetype": "text/x-python",
   "name": "python",
   "nbconvert_exporter": "python",
   "pygments_lexer": "ipython3",
   "version": "3.7.1"
  }
 },
 "nbformat": 4,
 "nbformat_minor": 2
}
