{
 "cells": [
  {
   "cell_type": "code",
   "execution_count": 1,
   "metadata": {},
   "outputs": [],
   "source": [
    "import re\n",
    "from dataclasses import dataclass\n",
    "\n",
    "\n",
    "_parse_line = re.compile(r'#\\d+\\s*@\\s*(\\d+),(\\d+):\\s*(\\d+)x(\\d+)').search\n",
    "\n",
    "                  \n",
    "@dataclass\n",
    "class Rectangle:\n",
    "    left: int\n",
    "    top: int\n",
    "    width: int\n",
    "    height: int\n",
    "    \n",
    "    @classmethod\n",
    "    def from_line(cls, line: str):\n",
    "        left, top, width, height = map(int, _parse_line(line).groups())\n",
    "        return cls(left, top, width, height)\n",
    "\n",
    "    @property\n",
    "    def right(self):\n",
    "        return self.left + self.width\n",
    "\n",
    "    def at_x(self, x):\n",
    "        if self.left <= x < self.left + self.width:\n",
    "            return (self.top, self.top + self.height)"
   ]
  },
  {
   "cell_type": "code",
   "execution_count": 2,
   "metadata": {},
   "outputs": [],
   "source": [
    "testrect = Rectangle.from_line(\"#123 @ 3,2: 5x4\\n\")\n",
    "assert (testrect.left, testrect.top, testrect.width, testrect.height) == (3, 2, 5, 4)\n",
    "assert testrect.right == 8\n",
    "assert all(testrect.at_x(x) is None for x in range(3))\n",
    "assert all(testrect.at_x(x) == (2, 6) for x in range(3, 8))"
   ]
  },
  {
   "cell_type": "markdown",
   "metadata": {},
   "source": [
    "This is basically an interval merging problem.\n",
    "\n",
    "* At each line `x`, find all the rectangles that intersect that line, as intervals (top, bottom)\n",
    "* Count how many `y` coordinates overlap.\n",
    "* Take into account that 1 large interval could overlap multiple following intervals that themselves do not overlap.\n",
    "\n",
    "You can do this by taking the minimum of (furthest bottom, current bottom) minus the current top value, provided top < previous bottom edge:\n",
    "\n",
    "```\n",
    " 0\n",
    " 1 top\n",
    " 2  |\n",
    " 3  |  top  X  5 - 3 == 2\n",
    " 4  |   |   X  5 is the min(furthest bottom, bot) value here\n",
    " 5 bot  |\n",
    " 6      |\n",
    " 7     bot\n",
    " 8 \n",
    " 9 top\n",
    "10  |\n",
    "11  |  top X  13 - 11 == 2\n",
    "12  |   |  X  13 is the min(furthest bottom, bot) value here\n",
    "13  |  bot\n",
    "14  |\n",
    "15  |  top X  17 - 15 == 2\n",
    "16  |   |  X  17 is the min(furthest bottom, bot) value here\n",
    "17  |  bot\n",
    "18 bot\n",
    "```\n",
    "\n",
    " Gotcha is multiple rectangles overlapping on the same `y` coordinates overlap:\n",
    "\n",
    "```\n",
    " 0\n",
    " 1 top\n",
    " 2  |\n",
    " 3  |  top     X\n",
    " 4  |   |  top X <- only one overlapping square, don't count this twice\n",
    " 5 bot  |   |  X\n",
    " 6      |   |  X total 4\n",
    " 7     bot  |\n",
    " 8          |\n",
    " 9         bot\n",
    "```\n",
    "\n",
    "So we track the furthest overlap already handled by storing the previous bottom value, to prefer over the current top value. In the above, we already handled the (5 - 3) overlap, so the next overlap to calculate should use 5 rather than 4 for the `top` value.\n",
    "\n",
    "Another edgecase is where a short interval follows an already overlapping longer interval; the bottom of the shorter interval is then above the already covered overlap bottom:\n",
    "\n",
    "```\n",
    " 0\n",
    " 1 top\n",
    " 2  |\n",
    " 3  |  top     X\n",
    " 4  |   |  top X The short interval can be ignored here\n",
    " 5  |   |   |  X\n",
    " 6  |   |  bot X\n",
    " 7  |   |      X total 5  \n",
    " 8 bot  |       \n",
    " 9     bot     \n",
    "```"
   ]
  },
  {
   "cell_type": "code",
   "execution_count": 3,
   "metadata": {},
   "outputs": [],
   "source": [
    "from operator import methodcaller\n",
    "\n",
    "def sum_overlaps(rectangles):\n",
    "    max_x = max(r.right for r in rectangles)\n",
    "    total = 0\n",
    "    for x in range(max_x):\n",
    "        intervals = sorted(filter(None, map(methodcaller(\"at_x\", x), rectangles)))\n",
    "        overlap = overlap_bottom = furthest_bottom = 0\n",
    "        for top, bottom in intervals:\n",
    "            if top < furthest_bottom and bottom > overlap_bottom:\n",
    "                overlap += min(furthest_bottom, bottom) - max(top, overlap_bottom)\n",
    "                overlap_bottom = min(furthest_bottom, bottom)\n",
    "            furthest_bottom = max(furthest_bottom, bottom)\n",
    "        total += overlap\n",
    "    return total"
   ]
  },
  {
   "cell_type": "code",
   "execution_count": 4,
   "metadata": {},
   "outputs": [],
   "source": [
    "test1 = [Rectangle.from_line(l) for l in \"\"\"\\\n",
    "#1 @ 1,3: 4x4\n",
    "#2 @ 3,1: 4x4\n",
    "#3 @ 5,5: 2x2\n",
    "\"\"\".splitlines()]\n",
    "assert sum_overlaps(test1) == 4\n",
    "test2 = [Rectangle.from_line(l) for l in \"\"\"\\\n",
    "#1 @ 1,9: 1x9\n",
    "#2 @ 1,11: 1x2\n",
    "#3 @ 1,15: 1x2\n",
    "\"\"\".splitlines()]\n",
    "assert sum_overlaps(test2) == 4\n",
    "test3 = [Rectangle.from_line(l) for l in \"\"\"\\\n",
    "#1 @ 1,1: 1x4\n",
    "#2 @ 1,3: 1x4\n",
    "#3 @ 1,4: 1x5\n",
    "\"\"\".splitlines()]\n",
    "assert sum_overlaps(test3) == 4\n",
    "test3 = [Rectangle.from_line(l) for l in \"\"\"\\\n",
    "#1 @ 1,1: 1x7\n",
    "#2 @ 1,3: 1x6\n",
    "#3 @ 1,4: 1x2\n",
    "\"\"\".splitlines()]\n",
    "assert sum_overlaps(test3) == 5"
   ]
  },
  {
   "cell_type": "code",
   "execution_count": 5,
   "metadata": {},
   "outputs": [],
   "source": [
    "import aocd\n",
    "data = aocd.get_data(day=3, year=2018)\n",
    "rectangles = [Rectangle.from_line(l) for l in data.splitlines()]"
   ]
  },
  {
   "cell_type": "code",
   "execution_count": 6,
   "metadata": {},
   "outputs": [
    {
     "name": "stdout",
     "output_type": "stream",
     "text": [
      "Part 1: 106501\n"
     ]
    }
   ],
   "source": [
    "print(\"Part 1:\", sum_overlaps(rectangles))"
   ]
  },
  {
   "cell_type": "code",
   "execution_count": 7,
   "metadata": {},
   "outputs": [],
   "source": [
    "from operator import methodcaller\n",
    "\n",
    "def no_overlaps(rectangles):\n",
    "    max_x = max(r.right for r in rectangles)\n",
    "    no_overlaps = set(range(len(rectangles)))\n",
    "    for x in range(max_x):\n",
    "        interval_and_id = ((r.at_x(x), i) for i, r in enumerate(rectangles))\n",
    "        interval_and_id = sorted((interval, id_) for interval, id_ in interval_and_id if interval)\n",
    "        overlap = overlap_bottom = furthest_bottom = 0\n",
    "        id_of_furthest_bottom = None\n",
    "        for (top, bottom), id_ in interval_and_id:\n",
    "            if top < furthest_bottom:\n",
    "                no_overlaps.discard(id_)\n",
    "                no_overlaps.discard(id_of_furthest_bottom)\n",
    "                overlap_bottom = min(furthest_bottom, bottom)\n",
    "            if bottom > furthest_bottom:\n",
    "                furthest_bottom = bottom\n",
    "                id_of_furthest_bottom = id_\n",
    "    return next(iter(no_overlaps)) + 1"
   ]
  },
  {
   "cell_type": "code",
   "execution_count": 8,
   "metadata": {},
   "outputs": [],
   "source": [
    "assert no_overlaps(test1) == 3"
   ]
  },
  {
   "cell_type": "code",
   "execution_count": 9,
   "metadata": {},
   "outputs": [
    {
     "name": "stdout",
     "output_type": "stream",
     "text": [
      "Part 2: 632\n"
     ]
    }
   ],
   "source": [
    "print(\"Part 2:\", no_overlaps(rectangles))"
   ]
  }
 ],
 "metadata": {
  "kernelspec": {
   "display_name": "Python 3",
   "language": "python",
   "name": "python3"
  },
  "language_info": {
   "codemirror_mode": {
    "name": "ipython",
    "version": 3
   },
   "file_extension": ".py",
   "mimetype": "text/x-python",
   "name": "python",
   "nbconvert_exporter": "python",
   "pygments_lexer": "ipython3",
   "version": "3.7.1"
  }
 },
 "nbformat": 4,
 "nbformat_minor": 2
}
