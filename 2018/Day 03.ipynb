{
 "cells": [
  {
   "cell_type": "markdown",
   "metadata": {},
   "source": [
    "# Day 3 - Overlapping rectangles\n",
    "\n",
    "* [Day 3](https://adventofcode.com/2018/day/3)\n",
    "\n",
    "This is a computational geometry problem; we can use a [sweep line algorithm](https://en.wikipedia.org/wiki/Sweep_line_algorithm) to reduce the problem from 2 to just 1 dimension, moving a line across the board to focus on overlapping *intervals*."
   ]
  },
  {
   "cell_type": "code",
   "execution_count": 1,
   "metadata": {},
   "outputs": [],
   "source": [
    "import re\n",
    "from dataclasses import dataclass, field\n",
    "from typing import Sequence\n",
    "\n",
    "_parse_line = re.compile(r'#(\\d+)\\s*@\\s*(\\d+),(\\d+):\\s*(\\d+)x(\\d+)').search\n",
    "ID = int  # type alias\n",
    "                  \n",
    "@dataclass\n",
    "class Rectangle:\n",
    "    id: ID\n",
    "    left: int\n",
    "    right: int = field(init=False)\n",
    "    top: int\n",
    "    bottom: int = field(init=False)\n",
    "    width: int\n",
    "    height: int\n",
    "    xrange: range = field(init=False)\n",
    "    yrange: range = field(init=False)\n",
    "    \n",
    "    def __post_init__(self) -> None:\n",
    "        self.right = self.left + self.width\n",
    "        self.bottom = self.top + self.height\n",
    "        self.xrange = range(self.left, self.right)\n",
    "        self.yrange = range(self.top, self.bottom)\n",
    "    \n",
    "    @classmethod\n",
    "    def from_line(cls, line: str) -> 'Rectangle':\n",
    "        match = _parse_line(line)\n",
    "        assert match is not None\n",
    "        id, left, top, width, height = map(int, match.groups())\n",
    "        return cls(id, left, top, width, height)\n",
    "\n",
    "    @classmethod\n",
    "    def all_from_lines(cls, lines: str) -> Sequence['Rectangle']:\n",
    "        return sorted(map(cls.from_line, lines.splitlines()), key=attrgetter(\"top\"))"
   ]
  },
  {
   "cell_type": "code",
   "execution_count": 2,
   "metadata": {},
   "outputs": [],
   "source": [
    "testrect = Rectangle.from_line(\"#123 @ 3,2: 5x4\\n\")\n",
    "assert (testrect.left, testrect.top, testrect.width, testrect.height) == (3, 2, 5, 4)\n",
    "assert testrect.right, testrect.bottom == (8, 6)\n",
    "assert testrect.xrange == range(3, 8)\n",
    "assert testrect.yrange == range(2, 6)"
   ]
  },
  {
   "cell_type": "markdown",
   "metadata": {},
   "source": [
    "This is basically an interval merging problem.\n",
    "\n",
    "* At each line `x`, find all the rectangles that intersect that line, as intervals (top, bottom)\n",
    "* Count how many `y` coordinates overlap.\n",
    "* Take into account that 1 large interval could overlap multiple following intervals that themselves do not overlap.\n",
    "\n",
    "You can do this by taking the minimum of (furthest bottom, current bottom) minus the current top value, provided top < previous bottom edge:\n",
    "\n",
    "```\n",
    " 0\n",
    " 1 top\n",
    " 2  |\n",
    " 3  |  top  X  5 - 3 == 2\n",
    " 4  |   |   X  5 is the min(furthest bottom, bot) value here\n",
    " 5 bot  |\n",
    " 6      |\n",
    " 7     bot\n",
    " 8 \n",
    " 9 top\n",
    "10  |\n",
    "11  |  top X  13 - 11 == 2\n",
    "12  |   |  X  13 is the min(furthest bottom, bot) value here\n",
    "13  |  bot\n",
    "14  |\n",
    "15  |  top X  17 - 15 == 2\n",
    "16  |   |  X  17 is the min(furthest bottom, bot) value here\n",
    "17  |  bot\n",
    "18 bot\n",
    "```\n",
    "\n",
    " Gotcha is multiple rectangles overlapping on the same `y` coordinates overlap:\n",
    "\n",
    "```\n",
    " 0\n",
    " 1 top\n",
    " 2  |\n",
    " 3  |  top     X\n",
    " 4  |   |  top X <- only one overlapping square, don't count this twice\n",
    " 5 bot  |   |  X\n",
    " 6      |   |  X total 4\n",
    " 7     bot  |\n",
    " 8          |\n",
    " 9         bot\n",
    "```\n",
    "\n",
    "So we track the furthest overlap already handled by storing the previous bottom value, to prefer over the current top value. In the above, we already handled the (5 - 3) overlap, so the next overlap to calculate should use 5 rather than 4 for the `top` value.\n",
    "\n",
    "Another edgecase is where a short interval follows an already overlapping longer interval; the bottom of the shorter interval is then above the already covered overlap bottom:\n",
    "\n",
    "```\n",
    " 0\n",
    " 1 top\n",
    " 2  |\n",
    " 3  |  top     X\n",
    " 4  |   |  top X The short interval can be ignored here\n",
    " 5  |   |   |  X\n",
    " 6  |   |  bot X\n",
    " 7  |   |      X total 5  \n",
    " 8 bot  |       \n",
    " 9     bot     \n",
    "```\n",
    "\n",
    "Because the rectangle sizes are small even in the puzzle dataset, it's simplest to do this with `range()` objects and `set` intersections; a previous iteration calculated the differences between tops and bottoms, which also works."
   ]
  },
  {
   "cell_type": "code",
   "execution_count": 3,
   "metadata": {},
   "outputs": [],
   "source": [
    "from operator import attrgetter, methodcaller\n",
    "from typing import Set\n",
    "\n",
    "def sum_overlaps(rectangles: Sequence[Rectangle]) -> int:\n",
    "    max_x = max(r.right for r in rectangles)\n",
    "    total = 0\n",
    "    for x in range(max_x):\n",
    "        overlap: Set[int] = set()\n",
    "        # all y ranges for rectangles on the current line\n",
    "        intervals = (r.yrange for r in rectangles if x in r.xrange)\n",
    "        try:\n",
    "            furthest = next(intervals)\n",
    "        except StopIteration:\n",
    "            # no matching rectangles at this x position\n",
    "            continue\n",
    "        for r in intervals:\n",
    "            if r.start < furthest.stop:\n",
    "                overlap |= set(furthest).intersection(r)\n",
    "            if r.stop > furthest.stop:\n",
    "                furthest = r\n",
    "        total += len(overlap)\n",
    "    return total"
   ]
  },
  {
   "cell_type": "code",
   "execution_count": 4,
   "metadata": {},
   "outputs": [],
   "source": [
    "test1 = Rectangle.all_from_lines(\"\"\"\\\n",
    "#1 @ 1,3: 4x4\n",
    "#2 @ 3,1: 4x4\n",
    "#3 @ 5,5: 2x2\n",
    "\"\"\")\n",
    "assert sum_overlaps(test1) == 4\n",
    "test2 = Rectangle.all_from_lines(\"\"\"\\\n",
    "#1 @ 1,9: 1x9\n",
    "#2 @ 1,11: 1x2\n",
    "#3 @ 1,15: 1x2\n",
    "\"\"\")\n",
    "assert sum_overlaps(test2) == 4\n",
    "test3 = Rectangle.all_from_lines(\"\"\"\\\n",
    "#1 @ 1,1: 1x4\n",
    "#2 @ 1,3: 1x4\n",
    "#3 @ 1,4: 1x5\n",
    "\"\"\")\n",
    "assert sum_overlaps(test3) == 4\n",
    "test4 = Rectangle.all_from_lines(\"\"\"\\\n",
    "#1 @ 1,1: 1x7\n",
    "#2 @ 1,3: 1x6\n",
    "#3 @ 1,4: 1x2\n",
    "\"\"\")\n",
    "assert sum_overlaps(test4) == 5"
   ]
  },
  {
   "cell_type": "code",
   "execution_count": 5,
   "metadata": {},
   "outputs": [],
   "source": [
    "import aocd\n",
    "data = aocd.get_data(day=3, year=2018)\n",
    "rectangles = Rectangle.all_from_lines(data)"
   ]
  },
  {
   "cell_type": "code",
   "execution_count": 6,
   "metadata": {},
   "outputs": [
    {
     "output_type": "stream",
     "name": "stdout",
     "text": [
      "Part 1: 106501\n"
     ]
    }
   ],
   "source": [
    "print(\"Part 1:\", sum_overlaps(rectangles))"
   ]
  },
  {
   "cell_type": "markdown",
   "metadata": {},
   "source": [
    "## Part 2 - Finding the single rectangle that doesn't overlap\n",
    "\n",
    "For this, we can just use a set containing all ids, and remove the ids of rectangles involved in intersections. In the end only a single id remains."
   ]
  },
  {
   "cell_type": "code",
   "execution_count": 7,
   "metadata": {},
   "outputs": [],
   "source": [
    "def no_overlaps(rectangles: Sequence[Rectangle]) -> ID:\n",
    "    max_x = max(r.right for r in rectangles)\n",
    "    no_overlaps = set(map(attrgetter('id'), rectangles))\n",
    "    for x in range(max_x):\n",
    "        active_rects = (rect for rect in rectangles if x in rect.xrange)\n",
    "        try:\n",
    "            furthest = next(active_rects)\n",
    "        except StopIteration:\n",
    "            # No matching rectangles at this x position\n",
    "            continue\n",
    "        for rect in active_rects:\n",
    "            if rect.top < furthest.bottom:\n",
    "                no_overlaps.difference_update((rect.id, furthest.id))\n",
    "            if rect.bottom > furthest.bottom:\n",
    "                furthest = rect\n",
    "    remaining, = no_overlaps  # only works if there is exactly 1 element\n",
    "    return remaining"
   ]
  },
  {
   "cell_type": "code",
   "execution_count": 8,
   "metadata": {},
   "outputs": [],
   "source": [
    "assert no_overlaps(test1) == 3"
   ]
  },
  {
   "cell_type": "code",
   "execution_count": 9,
   "metadata": {},
   "outputs": [
    {
     "output_type": "stream",
     "name": "stdout",
     "text": [
      "Part 2: 632\n"
     ]
    }
   ],
   "source": [
    "print(\"Part 2:\", no_overlaps(rectangles))"
   ]
  }
 ],
 "metadata": {
  "kernelspec": {
   "display_name": "Python 3",
   "language": "python",
   "name": "python3"
  },
  "language_info": {
   "codemirror_mode": {
    "name": "ipython",
    "version": 3
   },
   "file_extension": ".py",
   "mimetype": "text/x-python",
   "name": "python",
   "nbconvert_exporter": "python",
   "pygments_lexer": "ipython3",
   "version": "3.9.0-final"
  }
 },
 "nbformat": 4,
 "nbformat_minor": 2
}