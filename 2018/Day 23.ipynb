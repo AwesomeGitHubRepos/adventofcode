{
 "cells": [
  {
   "cell_type": "markdown",
   "metadata": {},
   "source": [
    "# Day 23"
   ]
  },
  {
   "cell_type": "code",
   "execution_count": 1,
   "metadata": {},
   "outputs": [],
   "source": [
    "from dataclasses import dataclass\n",
    "from operator import attrgetter\n",
    "import re\n",
    "from typing import Iterable, Sequence\n",
    "\n",
    "@dataclass\n",
    "class NanoBot:\n",
    "    x: int\n",
    "    y: int\n",
    "    z: int\n",
    "    r: int\n",
    "    \n",
    "    def in_range(self, other: 'NanoBot') -> bool:\n",
    "        distance = abs(self.x - other.x) + abs(self.y - other.y) + abs(self.z - other.z)\n",
    "        return distance <= self.r\n",
    "    \n",
    "_parse_line = re.compile(r'pos=<(-?\\d+),(-?\\d+),(-?\\d+)>,\\s*r=(\\d+)').search\n",
    "\n",
    "class TeleportationSwarm:\n",
    "    def __init__(self, swarm: Sequence['Nanobot']) -> None:\n",
    "        self.swarm = swarm\n",
    "        \n",
    "    @classmethod\n",
    "    def from_lines(cls, lines: Iterable[str]) -> 'TeleportationSwarm':\n",
    "        swarm = []\n",
    "        for line in lines:\n",
    "            match = _parse_line(line)\n",
    "            if match is not None:\n",
    "                swarm.append(NanoBot(*map(int, match.groups())))\n",
    "        return cls(swarm)\n",
    "    \n",
    "    def signal_radius_count(self):\n",
    "        max_signal = max(self.swarm, key=attrgetter('r'))\n",
    "        return sum(1 for bot in self.swarm if max_signal.in_range(bot))"
   ]
  },
  {
   "cell_type": "code",
   "execution_count": 2,
   "metadata": {},
   "outputs": [],
   "source": [
    "test_swarm = TeleportationSwarm.from_lines('''\\\n",
    "pos=<0,0,0>, r=4\n",
    "pos=<1,0,0>, r=1\n",
    "pos=<4,0,0>, r=3\n",
    "pos=<0,2,0>, r=1\n",
    "pos=<0,5,0>, r=3\n",
    "pos=<0,0,3>, r=1\n",
    "pos=<1,1,1>, r=1\n",
    "pos=<1,1,2>, r=1\n",
    "pos=<1,3,1>, r=1'''.splitlines())\n",
    "assert test_swarm.signal_radius_count() == 7"
   ]
  },
  {
   "cell_type": "code",
   "execution_count": 3,
   "metadata": {},
   "outputs": [],
   "source": [
    "import aocd\n",
    "\n",
    "data = aocd.get_data(day=23, year=2018)\n",
    "swarm = TeleportationSwarm.from_lines(data.splitlines())"
   ]
  },
  {
   "cell_type": "code",
   "execution_count": 4,
   "metadata": {},
   "outputs": [
    {
     "name": "stdout",
     "output_type": "stream",
     "text": [
      "Part 1: 408\n"
     ]
    }
   ],
   "source": [
    "print('Part 1:', swarm.signal_radius_count())"
   ]
  }
 ],
 "metadata": {
  "kernelspec": {
   "display_name": "Python 3",
   "language": "python",
   "name": "python3"
  },
  "language_info": {
   "codemirror_mode": {
    "name": "ipython",
    "version": 3
   },
   "file_extension": ".py",
   "mimetype": "text/x-python",
   "name": "python",
   "nbconvert_exporter": "python",
   "pygments_lexer": "ipython3",
   "version": "3.7.1"
  }
 },
 "nbformat": 4,
 "nbformat_minor": 2
}
